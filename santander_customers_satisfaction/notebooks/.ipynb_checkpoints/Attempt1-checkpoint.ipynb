{
 "cells": [
  {
   "cell_type": "markdown",
   "metadata": {},
   "source": [
    "# Imports & Load data\n",
    "\n"
   ]
  },
  {
   "cell_type": "code",
   "execution_count": 1,
   "metadata": {
    "ExecuteTime": {
     "end_time": "2018-10-28T14:04:58.201126Z",
     "start_time": "2018-10-28T14:04:56.982671Z"
    }
   },
   "outputs": [],
   "source": [
    "import os\n",
    "from os.path import join as pjoin\n",
    "\n",
    "import pandas as pd\n",
    "import numpy as np\n",
    "\n",
    "from sklearn.ensemble import RandomForestClassifier as RFC\n",
    "from sklearn.metrics import roc_auc_score\n",
    "import xgboost as xgb"
   ]
  },
  {
   "cell_type": "code",
   "execution_count": 2,
   "metadata": {
    "ExecuteTime": {
     "end_time": "2018-10-28T14:04:58.267570Z",
     "start_time": "2018-10-28T14:04:58.203631Z"
    }
   },
   "outputs": [],
   "source": [
    "from sklearn.model_selection import train_test_split,GridSearchCV\n",
    "from sklearn.metrics import roc_auc_score\n",
    "from sklearn.ensemble import ExtraTreesClassifier\n",
    "from sklearn.decomposition import PCA\n"
   ]
  },
  {
   "cell_type": "code",
   "execution_count": 3,
   "metadata": {
    "ExecuteTime": {
     "end_time": "2018-10-28T14:04:58.273659Z",
     "start_time": "2018-10-28T14:04:58.270071Z"
    }
   },
   "outputs": [],
   "source": [
    "# feature selection\n",
    "from sklearn.feature_selection import SelectPercentile\n",
    "from sklearn.feature_selection import f_classif,chi2\n",
    "from sklearn.feature_selection import SelectKBest\n",
    "from sklearn.feature_selection import SelectFromModel,RFECV\n",
    "from sklearn.preprocessing import Binarizer, scale,normalize"
   ]
  },
  {
   "cell_type": "code",
   "execution_count": 4,
   "metadata": {
    "ExecuteTime": {
     "end_time": "2018-10-28T14:04:58.278996Z",
     "start_time": "2018-10-28T14:04:58.276185Z"
    }
   },
   "outputs": [],
   "source": [
    "import warnings\n",
    "warnings.filterwarnings('ignore')"
   ]
  },
  {
   "cell_type": "code",
   "execution_count": 31,
   "metadata": {
    "ExecuteTime": {
     "end_time": "2018-10-28T14:12:43.881135Z",
     "start_time": "2018-10-28T14:12:43.875933Z"
    }
   },
   "outputs": [],
   "source": [
    "import matplotlib.pyplot as plt\n",
    "plt.rcParams['figure.figsize'] = (15,8)"
   ]
  },
  {
   "cell_type": "code",
   "execution_count": 6,
   "metadata": {
    "ExecuteTime": {
     "end_time": "2018-10-28T14:05:01.376649Z",
     "start_time": "2018-10-28T14:04:58.559665Z"
    }
   },
   "outputs": [],
   "source": [
    "train = pd.read_csv('../data/train.csv')"
   ]
  },
  {
   "cell_type": "code",
   "execution_count": 7,
   "metadata": {
    "ExecuteTime": {
     "end_time": "2018-10-28T14:05:04.223469Z",
     "start_time": "2018-10-28T14:05:01.378722Z"
    }
   },
   "outputs": [],
   "source": [
    "test = pd.read_csv('../data/test.csv')"
   ]
  },
  {
   "cell_type": "markdown",
   "metadata": {
    "ExecuteTime": {
     "end_time": "2018-10-27T11:53:17.497786Z",
     "start_time": "2018-10-27T11:53:17.494801Z"
    }
   },
   "source": [
    "# Helper functions"
   ]
  },
  {
   "cell_type": "code",
   "execution_count": 8,
   "metadata": {
    "ExecuteTime": {
     "end_time": "2018-10-28T14:05:04.229583Z",
     "start_time": "2018-10-28T14:05:04.225243Z"
    }
   },
   "outputs": [],
   "source": [
    "def split(x,n=None):\n",
    "    if n==None:\n",
    "        n=int(len(x)*.7)\n",
    "    \n",
    "    return x[:n],x[n:]\n",
    "\n",
    "# Provide a place holder for train\n",
    "def split_data(df):\n",
    "    y = df['TARGET'].copy()\n",
    "    x = df.drop('TARGET',axis=1)\n",
    "    global X_train,X_valid,y_train,y_valid\n",
    "    \n",
    "    X_train ,X_valid = split(x)\n",
    "    y_train ,y_valid = split(y)"
   ]
  },
  {
   "cell_type": "code",
   "execution_count": 27,
   "metadata": {
    "ExecuteTime": {
     "end_time": "2018-10-28T14:11:48.163986Z",
     "start_time": "2018-10-28T14:11:48.158661Z"
    }
   },
   "outputs": [],
   "source": [
    "\n",
    "def eval(clf):\n",
    "    train_pred = clf.predict_proba(X_train)[:,1]\n",
    "    valid_pred = clf.predict_proba(X_valid)[:,1]\n",
    "    if train_pred.sum()==0:\n",
    "        print(\"All prediciton on train is 0\")\n",
    "        \n",
    "    if valid_pred.sum()==0:\n",
    "        print(\"All prediciton on valid is 0\")\n",
    "    print('ROC on training set : ',roc_auc_score(y_train,train_pred))\n",
    "    print('ROC on valid set : ',roc_auc_score(y_valid,valid_pred))\n",
    "    \n",
    "    "
   ]
  },
  {
   "cell_type": "code",
   "execution_count": 10,
   "metadata": {
    "ExecuteTime": {
     "end_time": "2018-10-28T14:05:04.242829Z",
     "start_time": "2018-10-28T14:05:04.238288Z"
    }
   },
   "outputs": [],
   "source": [
    "def plot_fi(clf,n_top=30):\n",
    "    fi = pd.DataFrame({'cols':X_train.columns,'fi':clf.feature_importances_}).sort_values('fi',ascending=False)\n",
    "    fi.iloc[:n_top].plot(x='cols',y='fi',kind='barh')\n",
    "    return list(fi.cols.values)\n",
    "    "
   ]
  },
  {
   "cell_type": "code",
   "execution_count": 11,
   "metadata": {
    "ExecuteTime": {
     "end_time": "2018-10-28T14:05:04.248214Z",
     "start_time": "2018-10-28T14:05:04.245236Z"
    }
   },
   "outputs": [],
   "source": [
    "def base_model():\n",
    "    clf = RFC(criterion='gini', class_weight='balanced', max_depth=10,random_state=1)\n",
    "    clf.fit(X_train,y_train)\n",
    "    eval(clf)"
   ]
  },
  {
   "cell_type": "markdown",
   "metadata": {
    "ExecuteTime": {
     "end_time": "2018-10-28T02:08:21.287223Z",
     "start_time": "2018-10-28T02:08:21.284439Z"
    }
   },
   "source": [
    "# Data walkthrough"
   ]
  },
  {
   "cell_type": "code",
   "execution_count": 12,
   "metadata": {
    "ExecuteTime": {
     "end_time": "2018-10-28T14:05:04.280417Z",
     "start_time": "2018-10-28T14:05:04.250449Z"
    }
   },
   "outputs": [
    {
     "data": {
      "text/html": [
       "<div>\n",
       "<style scoped>\n",
       "    .dataframe tbody tr th:only-of-type {\n",
       "        vertical-align: middle;\n",
       "    }\n",
       "\n",
       "    .dataframe tbody tr th {\n",
       "        vertical-align: top;\n",
       "    }\n",
       "\n",
       "    .dataframe thead th {\n",
       "        text-align: right;\n",
       "    }\n",
       "</style>\n",
       "<table border=\"1\" class=\"dataframe\">\n",
       "  <thead>\n",
       "    <tr style=\"text-align: right;\">\n",
       "      <th></th>\n",
       "      <th>ID</th>\n",
       "      <th>var3</th>\n",
       "      <th>var15</th>\n",
       "      <th>imp_ent_var16_ult1</th>\n",
       "      <th>imp_op_var39_comer_ult1</th>\n",
       "      <th>imp_op_var39_comer_ult3</th>\n",
       "      <th>imp_op_var40_comer_ult1</th>\n",
       "      <th>imp_op_var40_comer_ult3</th>\n",
       "      <th>imp_op_var40_efect_ult1</th>\n",
       "      <th>imp_op_var40_efect_ult3</th>\n",
       "      <th>...</th>\n",
       "      <th>saldo_medio_var33_hace2</th>\n",
       "      <th>saldo_medio_var33_hace3</th>\n",
       "      <th>saldo_medio_var33_ult1</th>\n",
       "      <th>saldo_medio_var33_ult3</th>\n",
       "      <th>saldo_medio_var44_hace2</th>\n",
       "      <th>saldo_medio_var44_hace3</th>\n",
       "      <th>saldo_medio_var44_ult1</th>\n",
       "      <th>saldo_medio_var44_ult3</th>\n",
       "      <th>var38</th>\n",
       "      <th>TARGET</th>\n",
       "    </tr>\n",
       "  </thead>\n",
       "  <tbody>\n",
       "    <tr>\n",
       "      <th>0</th>\n",
       "      <td>1</td>\n",
       "      <td>2</td>\n",
       "      <td>23</td>\n",
       "      <td>0.0</td>\n",
       "      <td>0.0</td>\n",
       "      <td>0.0</td>\n",
       "      <td>0.0</td>\n",
       "      <td>0.0</td>\n",
       "      <td>0.0</td>\n",
       "      <td>0.0</td>\n",
       "      <td>...</td>\n",
       "      <td>0.0</td>\n",
       "      <td>0.0</td>\n",
       "      <td>0.0</td>\n",
       "      <td>0.0</td>\n",
       "      <td>0.0</td>\n",
       "      <td>0.0</td>\n",
       "      <td>0.0</td>\n",
       "      <td>0.0</td>\n",
       "      <td>39205.170000</td>\n",
       "      <td>0</td>\n",
       "    </tr>\n",
       "    <tr>\n",
       "      <th>1</th>\n",
       "      <td>3</td>\n",
       "      <td>2</td>\n",
       "      <td>34</td>\n",
       "      <td>0.0</td>\n",
       "      <td>0.0</td>\n",
       "      <td>0.0</td>\n",
       "      <td>0.0</td>\n",
       "      <td>0.0</td>\n",
       "      <td>0.0</td>\n",
       "      <td>0.0</td>\n",
       "      <td>...</td>\n",
       "      <td>0.0</td>\n",
       "      <td>0.0</td>\n",
       "      <td>0.0</td>\n",
       "      <td>0.0</td>\n",
       "      <td>0.0</td>\n",
       "      <td>0.0</td>\n",
       "      <td>0.0</td>\n",
       "      <td>0.0</td>\n",
       "      <td>49278.030000</td>\n",
       "      <td>0</td>\n",
       "    </tr>\n",
       "    <tr>\n",
       "      <th>2</th>\n",
       "      <td>4</td>\n",
       "      <td>2</td>\n",
       "      <td>23</td>\n",
       "      <td>0.0</td>\n",
       "      <td>0.0</td>\n",
       "      <td>0.0</td>\n",
       "      <td>0.0</td>\n",
       "      <td>0.0</td>\n",
       "      <td>0.0</td>\n",
       "      <td>0.0</td>\n",
       "      <td>...</td>\n",
       "      <td>0.0</td>\n",
       "      <td>0.0</td>\n",
       "      <td>0.0</td>\n",
       "      <td>0.0</td>\n",
       "      <td>0.0</td>\n",
       "      <td>0.0</td>\n",
       "      <td>0.0</td>\n",
       "      <td>0.0</td>\n",
       "      <td>67333.770000</td>\n",
       "      <td>0</td>\n",
       "    </tr>\n",
       "    <tr>\n",
       "      <th>3</th>\n",
       "      <td>8</td>\n",
       "      <td>2</td>\n",
       "      <td>37</td>\n",
       "      <td>0.0</td>\n",
       "      <td>195.0</td>\n",
       "      <td>195.0</td>\n",
       "      <td>0.0</td>\n",
       "      <td>0.0</td>\n",
       "      <td>0.0</td>\n",
       "      <td>0.0</td>\n",
       "      <td>...</td>\n",
       "      <td>0.0</td>\n",
       "      <td>0.0</td>\n",
       "      <td>0.0</td>\n",
       "      <td>0.0</td>\n",
       "      <td>0.0</td>\n",
       "      <td>0.0</td>\n",
       "      <td>0.0</td>\n",
       "      <td>0.0</td>\n",
       "      <td>64007.970000</td>\n",
       "      <td>0</td>\n",
       "    </tr>\n",
       "    <tr>\n",
       "      <th>4</th>\n",
       "      <td>10</td>\n",
       "      <td>2</td>\n",
       "      <td>39</td>\n",
       "      <td>0.0</td>\n",
       "      <td>0.0</td>\n",
       "      <td>0.0</td>\n",
       "      <td>0.0</td>\n",
       "      <td>0.0</td>\n",
       "      <td>0.0</td>\n",
       "      <td>0.0</td>\n",
       "      <td>...</td>\n",
       "      <td>0.0</td>\n",
       "      <td>0.0</td>\n",
       "      <td>0.0</td>\n",
       "      <td>0.0</td>\n",
       "      <td>0.0</td>\n",
       "      <td>0.0</td>\n",
       "      <td>0.0</td>\n",
       "      <td>0.0</td>\n",
       "      <td>117310.979016</td>\n",
       "      <td>0</td>\n",
       "    </tr>\n",
       "  </tbody>\n",
       "</table>\n",
       "<p>5 rows × 371 columns</p>\n",
       "</div>"
      ],
      "text/plain": [
       "   ID  var3  var15  imp_ent_var16_ult1  imp_op_var39_comer_ult1  \\\n",
       "0   1     2     23                 0.0                      0.0   \n",
       "1   3     2     34                 0.0                      0.0   \n",
       "2   4     2     23                 0.0                      0.0   \n",
       "3   8     2     37                 0.0                    195.0   \n",
       "4  10     2     39                 0.0                      0.0   \n",
       "\n",
       "   imp_op_var39_comer_ult3  imp_op_var40_comer_ult1  imp_op_var40_comer_ult3  \\\n",
       "0                      0.0                      0.0                      0.0   \n",
       "1                      0.0                      0.0                      0.0   \n",
       "2                      0.0                      0.0                      0.0   \n",
       "3                    195.0                      0.0                      0.0   \n",
       "4                      0.0                      0.0                      0.0   \n",
       "\n",
       "   imp_op_var40_efect_ult1  imp_op_var40_efect_ult3   ...    \\\n",
       "0                      0.0                      0.0   ...     \n",
       "1                      0.0                      0.0   ...     \n",
       "2                      0.0                      0.0   ...     \n",
       "3                      0.0                      0.0   ...     \n",
       "4                      0.0                      0.0   ...     \n",
       "\n",
       "   saldo_medio_var33_hace2  saldo_medio_var33_hace3  saldo_medio_var33_ult1  \\\n",
       "0                      0.0                      0.0                     0.0   \n",
       "1                      0.0                      0.0                     0.0   \n",
       "2                      0.0                      0.0                     0.0   \n",
       "3                      0.0                      0.0                     0.0   \n",
       "4                      0.0                      0.0                     0.0   \n",
       "\n",
       "   saldo_medio_var33_ult3  saldo_medio_var44_hace2  saldo_medio_var44_hace3  \\\n",
       "0                     0.0                      0.0                      0.0   \n",
       "1                     0.0                      0.0                      0.0   \n",
       "2                     0.0                      0.0                      0.0   \n",
       "3                     0.0                      0.0                      0.0   \n",
       "4                     0.0                      0.0                      0.0   \n",
       "\n",
       "   saldo_medio_var44_ult1  saldo_medio_var44_ult3          var38  TARGET  \n",
       "0                     0.0                     0.0   39205.170000       0  \n",
       "1                     0.0                     0.0   49278.030000       0  \n",
       "2                     0.0                     0.0   67333.770000       0  \n",
       "3                     0.0                     0.0   64007.970000       0  \n",
       "4                     0.0                     0.0  117310.979016       0  \n",
       "\n",
       "[5 rows x 371 columns]"
      ]
     },
     "execution_count": 12,
     "metadata": {},
     "output_type": "execute_result"
    }
   ],
   "source": [
    "train.head()"
   ]
  },
  {
   "cell_type": "code",
   "execution_count": 13,
   "metadata": {
    "ExecuteTime": {
     "end_time": "2018-10-28T14:05:04.287282Z",
     "start_time": "2018-10-28T14:05:04.282468Z"
    }
   },
   "outputs": [
    {
     "data": {
      "text/plain": [
       "(76020, 371)"
      ]
     },
     "execution_count": 13,
     "metadata": {},
     "output_type": "execute_result"
    }
   ],
   "source": [
    "train.shape"
   ]
  },
  {
   "cell_type": "code",
   "execution_count": 14,
   "metadata": {
    "ExecuteTime": {
     "end_time": "2018-10-28T14:05:04.294822Z",
     "start_time": "2018-10-28T14:05:04.289973Z"
    },
    "scrolled": true
   },
   "outputs": [
    {
     "data": {
      "text/plain": [
       "Index(['ID', 'var3', 'var15', 'imp_ent_var16_ult1', 'imp_op_var39_comer_ult1',\n",
       "       'imp_op_var39_comer_ult3', 'imp_op_var40_comer_ult1',\n",
       "       'imp_op_var40_comer_ult3', 'imp_op_var40_efect_ult1',\n",
       "       'imp_op_var40_efect_ult3',\n",
       "       ...\n",
       "       'saldo_medio_var33_hace2', 'saldo_medio_var33_hace3',\n",
       "       'saldo_medio_var33_ult1', 'saldo_medio_var33_ult3',\n",
       "       'saldo_medio_var44_hace2', 'saldo_medio_var44_hace3',\n",
       "       'saldo_medio_var44_ult1', 'saldo_medio_var44_ult3', 'var38', 'TARGET'],\n",
       "      dtype='object', length=371)"
      ]
     },
     "execution_count": 14,
     "metadata": {},
     "output_type": "execute_result"
    }
   ],
   "source": [
    "train.columns"
   ]
  },
  {
   "cell_type": "code",
   "execution_count": 15,
   "metadata": {
    "ExecuteTime": {
     "end_time": "2018-10-28T14:05:04.749761Z",
     "start_time": "2018-10-28T14:05:04.296607Z"
    },
    "scrolled": true
   },
   "outputs": [
    {
     "data": {
      "text/plain": [
       "ID                               0\n",
       "var3                             0\n",
       "var15                            0\n",
       "imp_ent_var16_ult1               0\n",
       "imp_op_var39_comer_ult1          0\n",
       "imp_op_var39_comer_ult3          0\n",
       "imp_op_var40_comer_ult1          0\n",
       "imp_op_var40_comer_ult3          0\n",
       "imp_op_var40_efect_ult1          0\n",
       "imp_op_var40_efect_ult3          0\n",
       "imp_op_var40_ult1                0\n",
       "imp_op_var41_comer_ult1          0\n",
       "imp_op_var41_comer_ult3          0\n",
       "imp_op_var41_efect_ult1          0\n",
       "imp_op_var41_efect_ult3          0\n",
       "imp_op_var41_ult1                0\n",
       "imp_op_var39_efect_ult1          0\n",
       "imp_op_var39_efect_ult3          0\n",
       "imp_op_var39_ult1                0\n",
       "imp_sal_var16_ult1               0\n",
       "ind_var1_0                       0\n",
       "ind_var1                         0\n",
       "ind_var2_0                       0\n",
       "ind_var2                         0\n",
       "ind_var5_0                       0\n",
       "ind_var5                         0\n",
       "ind_var6_0                       0\n",
       "ind_var6                         0\n",
       "ind_var8_0                       0\n",
       "ind_var8                         0\n",
       "                                ..\n",
       "saldo_medio_var13_corto_hace2    0\n",
       "saldo_medio_var13_corto_hace3    0\n",
       "saldo_medio_var13_corto_ult1     0\n",
       "saldo_medio_var13_corto_ult3     0\n",
       "saldo_medio_var13_largo_hace2    0\n",
       "saldo_medio_var13_largo_hace3    0\n",
       "saldo_medio_var13_largo_ult1     0\n",
       "saldo_medio_var13_largo_ult3     0\n",
       "saldo_medio_var13_medio_hace2    0\n",
       "saldo_medio_var13_medio_hace3    0\n",
       "saldo_medio_var13_medio_ult1     0\n",
       "saldo_medio_var13_medio_ult3     0\n",
       "saldo_medio_var17_hace2          0\n",
       "saldo_medio_var17_hace3          0\n",
       "saldo_medio_var17_ult1           0\n",
       "saldo_medio_var17_ult3           0\n",
       "saldo_medio_var29_hace2          0\n",
       "saldo_medio_var29_hace3          0\n",
       "saldo_medio_var29_ult1           0\n",
       "saldo_medio_var29_ult3           0\n",
       "saldo_medio_var33_hace2          0\n",
       "saldo_medio_var33_hace3          0\n",
       "saldo_medio_var33_ult1           0\n",
       "saldo_medio_var33_ult3           0\n",
       "saldo_medio_var44_hace2          0\n",
       "saldo_medio_var44_hace3          0\n",
       "saldo_medio_var44_ult1           0\n",
       "saldo_medio_var44_ult3           0\n",
       "var38                            0\n",
       "TARGET                           0\n",
       "Length: 371, dtype: int64"
      ]
     },
     "execution_count": 15,
     "metadata": {},
     "output_type": "execute_result"
    }
   ],
   "source": [
    "train.isnull().sum()"
   ]
  },
  {
   "cell_type": "markdown",
   "metadata": {
    "ExecuteTime": {
     "end_time": "2018-10-27T11:53:06.936565Z",
     "start_time": "2018-10-27T11:53:06.932994Z"
    }
   },
   "source": [
    "# Feature engineering"
   ]
  },
  {
   "cell_type": "markdown",
   "metadata": {},
   "source": [
    "## Drop skewed columns"
   ]
  },
  {
   "cell_type": "code",
   "execution_count": 16,
   "metadata": {
    "ExecuteTime": {
     "end_time": "2018-10-28T14:05:05.506807Z",
     "start_time": "2018-10-28T14:05:04.752310Z"
    }
   },
   "outputs": [
    {
     "name": "stdout",
     "output_type": "stream",
     "text": [
      "146 columns with skewed value\n"
     ]
    }
   ],
   "source": [
    "skew_cols = []\n",
    "for col in train.columns:\n",
    "    train_cnt = train[col].value_counts().sort_values(ascending=False)/len(train)\n",
    "    if train_cnt.values[0]>0.999:\n",
    "        skew_cols.append(col)\n",
    "        \n",
    "train.drop(skew_cols,axis=1,inplace=True)        \n",
    "test.drop(skew_cols,axis=1,inplace=True)\n",
    "print(f'{len(skew_cols)} columns with skewed value')"
   ]
  },
  {
   "cell_type": "markdown",
   "metadata": {},
   "source": [
    "## Drop duplicate columns"
   ]
  },
  {
   "cell_type": "code",
   "execution_count": 17,
   "metadata": {
    "ExecuteTime": {
     "end_time": "2018-10-28T14:05:09.846778Z",
     "start_time": "2018-10-28T14:05:05.509403Z"
    }
   },
   "outputs": [
    {
     "name": "stdout",
     "output_type": "stream",
     "text": [
      "20 columns with duplicate value\n"
     ]
    }
   ],
   "source": [
    "dup_cols = []\n",
    "for col_1 in train.columns:\n",
    "    v = train[col_1].values\n",
    "    for col_2 in train.columns:\n",
    "        #if col_1 != col_2 and train[col_1].sum() == train[col_2].sum():\n",
    "        if col_1 != col_2:\n",
    "            if np.array_equal(train[col_1],train[col_2]):\n",
    "                dup_cols.append(col_2)\n",
    "\n",
    "train.drop(dup_cols,axis=1,inplace=True)\n",
    "test.drop(dup_cols,axis=1,inplace=True)\n",
    "\n",
    "print(f'{len(dup_cols)} columns with duplicate value')"
   ]
  },
  {
   "cell_type": "markdown",
   "metadata": {},
   "source": [
    "## Var3 bug"
   ]
  },
  {
   "cell_type": "code",
   "execution_count": 18,
   "metadata": {
    "ExecuteTime": {
     "end_time": "2018-10-28T14:05:09.854609Z",
     "start_time": "2018-10-28T14:05:09.848990Z"
    }
   },
   "outputs": [],
   "source": [
    "train['var3'].replace(-999999,0, inplace=True)\n",
    "test['var3'].replace(-999999,0, inplace=True)"
   ]
  },
  {
   "cell_type": "markdown",
   "metadata": {},
   "source": [
    "## ID"
   ]
  },
  {
   "cell_type": "code",
   "execution_count": 19,
   "metadata": {
    "ExecuteTime": {
     "end_time": "2018-10-28T14:05:09.930517Z",
     "start_time": "2018-10-28T14:05:09.856589Z"
    }
   },
   "outputs": [],
   "source": [
    "train.drop('ID',axis=1,inplace=True)\n",
    "test_id = test.ID\n",
    "test.drop('ID',axis=1,inplace=True)"
   ]
  },
  {
   "cell_type": "markdown",
   "metadata": {
    "ExecuteTime": {
     "end_time": "2018-10-28T11:39:34.776474Z",
     "start_time": "2018-10-28T11:39:34.774176Z"
    }
   },
   "source": [
    "## Adding PCA"
   ]
  },
  {
   "cell_type": "code",
   "execution_count": 20,
   "metadata": {
    "ExecuteTime": {
     "end_time": "2018-10-28T14:05:09.936118Z",
     "start_time": "2018-10-28T14:05:09.932486Z"
    }
   },
   "outputs": [
    {
     "data": {
      "text/plain": [
       "(76020, 204)"
      ]
     },
     "execution_count": 20,
     "metadata": {},
     "output_type": "execute_result"
    }
   ],
   "source": [
    "train.shape"
   ]
  },
  {
   "cell_type": "code",
   "execution_count": 21,
   "metadata": {
    "ExecuteTime": {
     "end_time": "2018-10-28T14:05:11.149826Z",
     "start_time": "2018-10-28T14:05:09.937769Z"
    }
   },
   "outputs": [
    {
     "name": "stdout",
     "output_type": "stream",
     "text": [
      "[0.11167207 0.08418294 0.0609069 ]\n"
     ]
    }
   ],
   "source": [
    "pca = PCA(n_components=3)\n",
    "x_train_projected = pca.fit_transform(normalize(train.drop('TARGET',axis=1), axis=0))\n",
    "x_test_projected = pca.transform(normalize(test, axis=0))\n",
    "print(pca.explained_variance_ratio_)\n",
    "train.insert(1, 'PCA1', x_train_projected[:, 0])\n",
    "train.insert(1, 'PCA2', x_train_projected[:, 1])\n",
    "train.insert(1, 'PCA3', x_train_projected[:, 2])\n",
    "\n",
    "test.insert(1, 'PCA1', x_test_projected[:, 0])\n",
    "test.insert(1, 'PCA2', x_test_projected[:, 1])\n",
    "test.insert(1, 'PCA3', x_test_projected[:, 2])\n"
   ]
  },
  {
   "cell_type": "markdown",
   "metadata": {
    "ExecuteTime": {
     "end_time": "2018-10-28T09:17:19.515052Z",
     "start_time": "2018-10-28T09:17:19.512558Z"
    }
   },
   "source": [
    "## Feature selection\n",
    "SelectKBest will return top k features\n",
    "\n",
    "SelectPercentile will return a sub set of your features"
   ]
  },
  {
   "cell_type": "markdown",
   "metadata": {},
   "source": [
    "### Filter method"
   ]
  },
  {
   "cell_type": "code",
   "execution_count": 231,
   "metadata": {
    "ExecuteTime": {
     "end_time": "2018-10-28T11:58:33.090231Z",
     "start_time": "2018-10-28T11:58:33.086833Z"
    },
    "scrolled": true
   },
   "outputs": [],
   "source": [
    "ps = [40,45,50,55,60,65,70,75,80,85,90,95]"
   ]
  },
  {
   "cell_type": "code",
   "execution_count": 232,
   "metadata": {
    "ExecuteTime": {
     "end_time": "2018-10-28T11:58:53.789694Z",
     "start_time": "2018-10-28T11:58:33.092191Z"
    },
    "scrolled": true
   },
   "outputs": [
    {
     "name": "stdout",
     "output_type": "stream",
     "text": [
      "----------------------------------------------------------------------------------------------------\n",
      "40\n",
      "84\n",
      "ROC on training set :  0.7987841512685709\n",
      "ROC on valid set :  0.7553808547445271\n",
      "----------------------------------------------------------------------------------------------------\n",
      "45\n",
      "94\n",
      "ROC on training set :  0.798433120023654\n",
      "ROC on valid set :  0.7546725009328041\n",
      "----------------------------------------------------------------------------------------------------\n",
      "50\n",
      "104\n",
      "ROC on training set :  0.8013308549641129\n",
      "ROC on valid set :  0.7554512210172148\n",
      "----------------------------------------------------------------------------------------------------\n",
      "55\n",
      "115\n",
      "ROC on training set :  0.7966360080626856\n",
      "ROC on valid set :  0.7614396434198154\n",
      "----------------------------------------------------------------------------------------------------\n",
      "60\n",
      "125\n",
      "ROC on training set :  0.8033863534420225\n",
      "ROC on valid set :  0.7557943919163226\n",
      "----------------------------------------------------------------------------------------------------\n",
      "65\n",
      "135\n",
      "ROC on training set :  0.7968021299715731\n",
      "ROC on valid set :  0.7517726166221733\n",
      "----------------------------------------------------------------------------------------------------\n",
      "70\n",
      "145\n",
      "ROC on training set :  0.7931012206420437\n",
      "ROC on valid set :  0.7536240073844893\n",
      "----------------------------------------------------------------------------------------------------\n",
      "75\n",
      "156\n",
      "ROC on training set :  0.795800518728751\n",
      "ROC on valid set :  0.7550648921375253\n",
      "----------------------------------------------------------------------------------------------------\n",
      "80\n",
      "166\n",
      "ROC on training set :  0.8023099583560569\n",
      "ROC on valid set :  0.7570962762168494\n",
      "----------------------------------------------------------------------------------------------------\n",
      "85\n",
      "177\n",
      "ROC on training set :  0.7880175870844527\n",
      "ROC on valid set :  0.7525184991126633\n",
      "----------------------------------------------------------------------------------------------------\n",
      "90\n",
      "187\n",
      "ROC on training set :  0.796811903805066\n",
      "ROC on valid set :  0.7512934764330722\n",
      "----------------------------------------------------------------------------------------------------\n",
      "95\n",
      "197\n",
      "ROC on training set :  0.8022062331323566\n",
      "ROC on valid set :  0.750955501812563\n"
     ]
    }
   ],
   "source": [
    "for p in ps :\n",
    "    split_data(train)\n",
    "    # Preprocessing\n",
    "    X = pd.concat([X_train,X_valid])\n",
    "    X_bin = Binarizer().fit_transform(scale(X))\n",
    "    y_ = pd.concat([y_train,y_valid])\n",
    "\n",
    "    # get the columns\n",
    "    selectChi2 = SelectPercentile(chi2, percentile=p).fit(X_bin, y_)\n",
    "    selected_cols = list(X_train.columns[selectChi2.get_support()].values) + [\"TARGET\"]\n",
    "    \n",
    "    # test\n",
    "    split_data(train[selected_cols])\n",
    "    clf = RFC(criterion='gini', class_weight='balanced', max_depth=10,random_state=1)\n",
    "    clf.fit(X_train,y_train)\n",
    "    print('-'*100)\n",
    "    print(p)\n",
    "    print(len(selected_cols))\n",
    "    eval(clf)\n",
    "    \n"
   ]
  },
  {
   "cell_type": "markdown",
   "metadata": {
    "ExecuteTime": {
     "end_time": "2018-10-28T10:15:52.262288Z",
     "start_time": "2018-10-28T10:15:52.257755Z"
    }
   },
   "source": [
    "Test results"
   ]
  },
  {
   "cell_type": "code",
   "execution_count": 23,
   "metadata": {
    "ExecuteTime": {
     "end_time": "2018-10-28T13:48:44.957908Z",
     "start_time": "2018-10-28T13:48:43.662829Z"
    },
    "scrolled": true
   },
   "outputs": [
    {
     "data": {
      "text/plain": [
       "['var3',\n",
       " 'PCA3',\n",
       " 'PCA2',\n",
       " 'PCA1',\n",
       " 'var15',\n",
       " 'imp_op_var41_efect_ult1',\n",
       " 'imp_op_var41_efect_ult3',\n",
       " 'imp_op_var39_efect_ult1',\n",
       " 'imp_op_var39_efect_ult3',\n",
       " 'imp_sal_var16_ult1',\n",
       " 'ind_var1',\n",
       " 'ind_var5',\n",
       " 'ind_var8_0',\n",
       " 'ind_var8',\n",
       " 'ind_var12_0',\n",
       " 'ind_var12',\n",
       " 'ind_var13_0',\n",
       " 'ind_var13_corto_0',\n",
       " 'ind_var13_corto',\n",
       " 'ind_var13_largo_0',\n",
       " 'ind_var13_largo',\n",
       " 'ind_var13',\n",
       " 'ind_var14_0',\n",
       " 'ind_var19',\n",
       " 'ind_var20_0',\n",
       " 'ind_var20',\n",
       " 'ind_var24_0',\n",
       " 'ind_var24',\n",
       " 'ind_var25_cte',\n",
       " 'ind_var26_cte',\n",
       " 'ind_var30',\n",
       " 'ind_var31_0',\n",
       " 'ind_var39_0',\n",
       " 'ind_var41_0',\n",
       " 'num_var1',\n",
       " 'num_var4',\n",
       " 'num_var5',\n",
       " 'num_var8_0',\n",
       " 'num_var8',\n",
       " 'num_var12_0',\n",
       " 'num_var12',\n",
       " 'num_var13_0',\n",
       " 'num_var13_corto_0',\n",
       " 'num_var13_corto',\n",
       " 'num_var13_largo_0',\n",
       " 'num_var13_largo',\n",
       " 'num_var13',\n",
       " 'num_var14_0',\n",
       " 'num_var20_0',\n",
       " 'num_var20',\n",
       " 'num_var24_0',\n",
       " 'num_var24',\n",
       " 'num_var30_0',\n",
       " 'num_var30',\n",
       " 'num_var31_0',\n",
       " 'num_var35',\n",
       " 'num_var39_0',\n",
       " 'num_var41_0',\n",
       " 'num_var42_0',\n",
       " 'num_var42',\n",
       " 'saldo_var1',\n",
       " 'saldo_var5',\n",
       " 'saldo_var12',\n",
       " 'saldo_var13_corto',\n",
       " 'saldo_var13_largo',\n",
       " 'saldo_var13',\n",
       " 'saldo_var14',\n",
       " 'saldo_var20',\n",
       " 'saldo_var24',\n",
       " 'saldo_var26',\n",
       " 'saldo_var25',\n",
       " 'saldo_var30',\n",
       " 'saldo_var40',\n",
       " 'saldo_var42',\n",
       " 'var36',\n",
       " 'delta_imp_aport_var13_1y3',\n",
       " 'delta_num_aport_var13_1y3',\n",
       " 'imp_aport_var13_hace3',\n",
       " 'imp_aport_var13_ult1',\n",
       " 'imp_trans_var37_ult1',\n",
       " 'ind_var10_ult1',\n",
       " 'ind_var10cte_ult1',\n",
       " 'ind_var9_ult1',\n",
       " 'ind_var43_recib_ult1',\n",
       " 'num_aport_var13_hace3',\n",
       " 'num_aport_var13_ult1',\n",
       " 'num_med_var45_ult3',\n",
       " 'num_meses_var5_ult3',\n",
       " 'num_meses_var8_ult3',\n",
       " 'num_meses_var12_ult3',\n",
       " 'num_meses_var13_corto_ult3',\n",
       " 'num_meses_var13_largo_ult3',\n",
       " 'num_op_var41_efect_ult1',\n",
       " 'num_op_var41_efect_ult3',\n",
       " 'num_op_var39_efect_ult1',\n",
       " 'num_op_var39_efect_ult3',\n",
       " 'num_sal_var16_ult1',\n",
       " 'num_var43_recib_ult1',\n",
       " 'num_trasp_var11_ult1',\n",
       " 'num_var45_hace2',\n",
       " 'num_var45_hace3',\n",
       " 'num_var45_ult1',\n",
       " 'num_var45_ult3',\n",
       " 'saldo_medio_var5_hace2',\n",
       " 'saldo_medio_var5_hace3',\n",
       " 'saldo_medio_var5_ult1',\n",
       " 'saldo_medio_var5_ult3',\n",
       " 'saldo_medio_var8_hace2',\n",
       " 'saldo_medio_var8_ult1',\n",
       " 'saldo_medio_var8_ult3',\n",
       " 'saldo_medio_var12_hace2',\n",
       " 'saldo_medio_var12_hace3',\n",
       " 'saldo_medio_var12_ult1',\n",
       " 'saldo_medio_var12_ult3',\n",
       " 'saldo_medio_var13_corto_hace2',\n",
       " 'saldo_medio_var13_corto_hace3',\n",
       " 'saldo_medio_var13_corto_ult1',\n",
       " 'saldo_medio_var13_corto_ult3',\n",
       " 'saldo_medio_var13_largo_hace2',\n",
       " 'saldo_medio_var13_largo_hace3',\n",
       " 'saldo_medio_var13_largo_ult1',\n",
       " 'saldo_medio_var13_largo_ult3',\n",
       " 'var38']"
      ]
     },
     "execution_count": 23,
     "metadata": {},
     "output_type": "execute_result"
    }
   ],
   "source": [
    "p = 60\n",
    "\n",
    "split_data(train)\n",
    "# Preprocessing\n",
    "X = pd.concat([X_train,X_valid])\n",
    "X_bin = Binarizer().fit_transform(scale(X))\n",
    "y_ = pd.concat([y_train,y_valid])\n",
    "\n",
    "# get the columns\n",
    "selectChi2 = SelectPercentile(chi2, percentile=p).fit(X_bin, y_)\n",
    "selected_cols = list(X_train.columns[selectChi2.get_support()].values)\n",
    "selected_cols"
   ]
  },
  {
   "cell_type": "code",
   "execution_count": 24,
   "metadata": {
    "ExecuteTime": {
     "end_time": "2018-10-28T13:48:56.406577Z",
     "start_time": "2018-10-28T13:48:56.315300Z"
    }
   },
   "outputs": [],
   "source": [
    "train = train[selected_cols + ['TARGET']]\n",
    "test = test[selected_cols]"
   ]
  },
  {
   "cell_type": "markdown",
   "metadata": {
    "ExecuteTime": {
     "end_time": "2018-10-28T10:47:52.114890Z",
     "start_time": "2018-10-28T10:47:52.106499Z"
    }
   },
   "source": [
    "### Wrapper methods\n",
    "\n"
   ]
  },
  {
   "cell_type": "code",
   "execution_count": 25,
   "metadata": {
    "ExecuteTime": {
     "end_time": "2018-10-28T13:49:07.254367Z",
     "start_time": "2018-10-28T13:49:06.496440Z"
    },
    "scrolled": true
   },
   "outputs": [
    {
     "name": "stdout",
     "output_type": "stream",
     "text": [
      "ROC on training set :  0.7971356804515795\n",
      "ROC on valid set :  0.7524624226061213\n"
     ]
    }
   ],
   "source": [
    "clf = RFC(criterion='gini', class_weight='balanced', max_depth=10,random_state=1)\n",
    "clf.fit(X_train,y_train)\n",
    "eval(clf)"
   ]
  },
  {
   "cell_type": "markdown",
   "metadata": {},
   "source": [
    "Tested with step = 1/2 . step 2 return better score"
   ]
  },
  {
   "cell_type": "code",
   "execution_count": 27,
   "metadata": {
    "ExecuteTime": {
     "end_time": "2018-10-28T13:50:52.336644Z",
     "start_time": "2018-10-28T13:50:52.334055Z"
    },
    "scrolled": true
   },
   "outputs": [],
   "source": [
    "# step is how many feature to remove at a time\n",
    "dtree_rfe = RFECV(clf, step=2,scoring = 'roc_auc', cv = 5) \n",
    "dtree_rfe.fit(X_train,y_train)"
   ]
  },
  {
   "cell_type": "code",
   "execution_count": 97,
   "metadata": {
    "ExecuteTime": {
     "end_time": "2018-10-28T11:41:28.557152Z",
     "start_time": "2018-10-28T11:41:28.554518Z"
    }
   },
   "outputs": [],
   "source": [
    "rfecv_step_2 = list(rfecv_step_2) + ['TARGET']"
   ]
  },
  {
   "cell_type": "code",
   "execution_count": 112,
   "metadata": {
    "ExecuteTime": {
     "end_time": "2018-10-28T11:45:43.224150Z",
     "start_time": "2018-10-28T11:45:43.195341Z"
    }
   },
   "outputs": [],
   "source": [
    "split_data(train[rfecv_step_2])"
   ]
  },
  {
   "cell_type": "code",
   "execution_count": 113,
   "metadata": {
    "ExecuteTime": {
     "end_time": "2018-10-28T11:45:44.083034Z",
     "start_time": "2018-10-28T11:45:43.490652Z"
    },
    "scrolled": true
   },
   "outputs": [
    {
     "name": "stderr",
     "output_type": "stream",
     "text": [
      "/Users/macbook/miniconda3/envs/dev/lib/python3.6/site-packages/sklearn/ensemble/forest.py:248: FutureWarning: The default value of n_estimators will change from 10 in version 0.20 to 100 in 0.22.\n",
      "  \"10 in version 0.20 to 100 in 0.22.\", FutureWarning)\n"
     ]
    },
    {
     "name": "stdout",
     "output_type": "stream",
     "text": [
      "ROC on training set :  0.8159160278600914\n",
      "ROC on valid set :  0.7446744278861178\n"
     ]
    }
   ],
   "source": [
    "clf = RFC(criterion='gini', class_weight='balanced', max_depth=10,random_state=1)\n",
    "clf.fit(X_train,y_train)\n",
    "eval(clf)"
   ]
  },
  {
   "cell_type": "markdown",
   "metadata": {},
   "source": [
    "# Modeling"
   ]
  },
  {
   "cell_type": "markdown",
   "metadata": {
    "ExecuteTime": {
     "end_time": "2018-10-27T11:58:18.547594Z",
     "start_time": "2018-10-27T11:58:18.544398Z"
    }
   },
   "source": [
    "## RandomForest\n",
    "\n",
    "Note: for sparse data include class_weight will handle it"
   ]
  },
  {
   "cell_type": "code",
   "execution_count": 28,
   "metadata": {
    "ExecuteTime": {
     "end_time": "2018-10-28T13:51:00.555724Z",
     "start_time": "2018-10-28T13:51:00.512028Z"
    },
    "scrolled": true
   },
   "outputs": [],
   "source": [
    "split_data(train)"
   ]
  },
  {
   "cell_type": "markdown",
   "metadata": {},
   "source": [
    "Tried with these params : n_estimators=30,min_samples_leaf=10,max_features='log2',n_jobs=-1\n",
    "\n",
    "The model predict all samples are 0 => extremely overfit"
   ]
  },
  {
   "cell_type": "code",
   "execution_count": 29,
   "metadata": {
    "ExecuteTime": {
     "end_time": "2018-10-28T13:51:09.191935Z",
     "start_time": "2018-10-28T13:51:08.578757Z"
    },
    "scrolled": true
   },
   "outputs": [
    {
     "name": "stdout",
     "output_type": "stream",
     "text": [
      "ROC on training set :  0.8014336869059967\n",
      "ROC on valid set :  0.7495534448079433\n"
     ]
    }
   ],
   "source": [
    "clf = RFC(criterion='gini', class_weight='balanced', max_depth=10,random_state=1)\n",
    "clf.fit(X_train,y_train)\n",
    "eval(clf)"
   ]
  },
  {
   "cell_type": "code",
   "execution_count": 31,
   "metadata": {
    "ExecuteTime": {
     "end_time": "2018-10-28T13:51:34.057616Z",
     "start_time": "2018-10-28T13:51:34.052849Z"
    },
    "scrolled": true
   },
   "outputs": [
    {
     "data": {
      "text/plain": [
       "Index(['var3', 'PCA3', 'PCA2', 'PCA1', 'var15', 'imp_op_var41_efect_ult1',\n",
       "       'imp_op_var41_efect_ult3', 'imp_op_var39_efect_ult1',\n",
       "       'imp_op_var39_efect_ult3', 'imp_sal_var16_ult1',\n",
       "       ...\n",
       "       'saldo_medio_var12_ult3', 'saldo_medio_var13_corto_hace2',\n",
       "       'saldo_medio_var13_corto_hace3', 'saldo_medio_var13_corto_ult1',\n",
       "       'saldo_medio_var13_corto_ult3', 'saldo_medio_var13_largo_hace2',\n",
       "       'saldo_medio_var13_largo_hace3', 'saldo_medio_var13_largo_ult1',\n",
       "       'saldo_medio_var13_largo_ult3', 'var38'],\n",
       "      dtype='object', length=123)"
      ]
     },
     "execution_count": 31,
     "metadata": {},
     "output_type": "execute_result"
    }
   ],
   "source": [
    "X_train.columns"
   ]
  },
  {
   "cell_type": "code",
   "execution_count": 32,
   "metadata": {
    "ExecuteTime": {
     "end_time": "2018-10-28T13:51:34.795521Z",
     "start_time": "2018-10-28T13:51:34.359846Z"
    }
   },
   "outputs": [
    {
     "data": {
      "image/png": "[encoded data removed]",
      "text/plain": [
       "<Figure size 432x288 with 1 Axes>"
      ]
     },
     "metadata": {
      "needs_background": "light"
     },
     "output_type": "display_data"
    }
   ],
   "source": [
    "imp_cols = plot_fi(clf)"
   ]
  },
  {
   "cell_type": "markdown",
   "metadata": {},
   "source": [
    "Why the fuck ID is the most important feature.? This is probaly wrong"
   ]
  },
  {
   "cell_type": "markdown",
   "metadata": {},
   "source": [
    "### Using feature important"
   ]
  },
  {
   "cell_type": "code",
   "execution_count": 295,
   "metadata": {
    "ExecuteTime": {
     "end_time": "2018-10-28T12:07:32.237499Z",
     "start_time": "2018-10-28T12:07:32.204141Z"
    }
   },
   "outputs": [],
   "source": [
    "split_data(train[imp_cols[:40] +['TARGET']])"
   ]
  },
  {
   "cell_type": "code",
   "execution_count": 296,
   "metadata": {
    "ExecuteTime": {
     "end_time": "2018-10-28T12:07:33.360806Z",
     "start_time": "2018-10-28T12:07:32.769712Z"
    },
    "scrolled": true
   },
   "outputs": [
    {
     "name": "stdout",
     "output_type": "stream",
     "text": [
      "ROC on training set :  0.8124310361492241\n",
      "ROC on valid set :  0.7562938120260652\n"
     ]
    }
   ],
   "source": [
    "clf = RFC(criterion='gini', class_weight='balanced', max_depth=10,random_state=1)\n",
    "clf.fit(X_train,y_train)\n",
    "eval(clf)"
   ]
  },
  {
   "cell_type": "markdown",
   "metadata": {
    "ExecuteTime": {
     "end_time": "2018-10-28T12:07:58.559531Z",
     "start_time": "2018-10-28T12:07:58.555417Z"
    }
   },
   "source": [
    "look better"
   ]
  },
  {
   "cell_type": "code",
   "execution_count": 297,
   "metadata": {
    "ExecuteTime": {
     "end_time": "2018-10-28T12:07:51.457953Z",
     "start_time": "2018-10-28T12:07:51.429455Z"
    }
   },
   "outputs": [],
   "source": [
    "train = train[imp_cols[:40] +['TARGET']]\n",
    "test = [imp_cols[:40]]"
   ]
  },
  {
   "cell_type": "markdown",
   "metadata": {},
   "source": [
    "## XGBoost\n",
    "Let's try with xgboost"
   ]
  },
  {
   "cell_type": "code",
   "execution_count": 22,
   "metadata": {
    "ExecuteTime": {
     "end_time": "2018-10-28T14:05:18.274648Z",
     "start_time": "2018-10-28T14:05:18.209943Z"
    }
   },
   "outputs": [],
   "source": [
    "split_data(train)"
   ]
  },
  {
   "cell_type": "code",
   "execution_count": 24,
   "metadata": {
    "ExecuteTime": {
     "end_time": "2018-10-28T14:05:31.883546Z",
     "start_time": "2018-10-28T14:05:31.880005Z"
    }
   },
   "outputs": [],
   "source": [
    "# classifier\n",
    "clf = xgb.XGBClassifier(missing=np.nan, max_depth=5, n_estimators=350, \n",
    "                        learning_rate=0.03, nthread=4, subsample=0.95, \n",
    "                        colsample_bytree=0.85, seed=4242)\n"
   ]
  },
  {
   "cell_type": "code",
   "execution_count": 25,
   "metadata": {
    "ExecuteTime": {
     "end_time": "2018-10-28T14:06:45.179321Z",
     "start_time": "2018-10-28T14:05:32.166813Z"
    },
    "scrolled": true
   },
   "outputs": [
    {
     "name": "stdout",
     "output_type": "stream",
     "text": [
      "[0]\tvalidation_0-auc:0.779987\n",
      "Will train until validation_0-auc hasn't improved in 20 rounds.\n",
      "[1]\tvalidation_0-auc:0.814097\n",
      "[2]\tvalidation_0-auc:0.824878\n",
      "[3]\tvalidation_0-auc:0.821297\n",
      "[4]\tvalidation_0-auc:0.828002\n",
      "[5]\tvalidation_0-auc:0.830885\n",
      "[6]\tvalidation_0-auc:0.831779\n",
      "[7]\tvalidation_0-auc:0.829206\n",
      "[8]\tvalidation_0-auc:0.831255\n",
      "[9]\tvalidation_0-auc:0.832219\n",
      "[10]\tvalidation_0-auc:0.833544\n",
      "[11]\tvalidation_0-auc:0.833625\n",
      "[12]\tvalidation_0-auc:0.83366\n",
      "[13]\tvalidation_0-auc:0.834562\n",
      "[14]\tvalidation_0-auc:0.834926\n",
      "[15]\tvalidation_0-auc:0.835414\n",
      "[16]\tvalidation_0-auc:0.835732\n",
      "[17]\tvalidation_0-auc:0.835937\n",
      "[18]\tvalidation_0-auc:0.835843\n",
      "[19]\tvalidation_0-auc:0.836264\n",
      "[20]\tvalidation_0-auc:0.837036\n",
      "[21]\tvalidation_0-auc:0.837102\n",
      "[22]\tvalidation_0-auc:0.837913\n",
      "[23]\tvalidation_0-auc:0.837922\n",
      "[24]\tvalidation_0-auc:0.838009\n",
      "[25]\tvalidation_0-auc:0.838491\n",
      "[26]\tvalidation_0-auc:0.838501\n",
      "[27]\tvalidation_0-auc:0.838251\n",
      "[28]\tvalidation_0-auc:0.838552\n",
      "[29]\tvalidation_0-auc:0.838765\n",
      "[30]\tvalidation_0-auc:0.838663\n",
      "[31]\tvalidation_0-auc:0.838766\n",
      "[32]\tvalidation_0-auc:0.839661\n",
      "[33]\tvalidation_0-auc:0.839837\n",
      "[34]\tvalidation_0-auc:0.840366\n",
      "[35]\tvalidation_0-auc:0.840285\n",
      "[36]\tvalidation_0-auc:0.840333\n",
      "[37]\tvalidation_0-auc:0.840345\n",
      "[38]\tvalidation_0-auc:0.840363\n",
      "[39]\tvalidation_0-auc:0.840301\n",
      "[40]\tvalidation_0-auc:0.840291\n",
      "[41]\tvalidation_0-auc:0.840316\n",
      "[42]\tvalidation_0-auc:0.840593\n",
      "[43]\tvalidation_0-auc:0.840981\n",
      "[44]\tvalidation_0-auc:0.841059\n",
      "[45]\tvalidation_0-auc:0.840967\n",
      "[46]\tvalidation_0-auc:0.840978\n",
      "[47]\tvalidation_0-auc:0.841122\n",
      "[48]\tvalidation_0-auc:0.841185\n",
      "[49]\tvalidation_0-auc:0.841156\n",
      "[50]\tvalidation_0-auc:0.841527\n",
      "[51]\tvalidation_0-auc:0.841766\n",
      "[52]\tvalidation_0-auc:0.842047\n",
      "[53]\tvalidation_0-auc:0.842239\n",
      "[54]\tvalidation_0-auc:0.842139\n",
      "[55]\tvalidation_0-auc:0.8423\n",
      "[56]\tvalidation_0-auc:0.842449\n",
      "[57]\tvalidation_0-auc:0.842568\n",
      "[58]\tvalidation_0-auc:0.842646\n",
      "[59]\tvalidation_0-auc:0.842737\n",
      "[60]\tvalidation_0-auc:0.842829\n",
      "[61]\tvalidation_0-auc:0.842892\n",
      "[62]\tvalidation_0-auc:0.842984\n",
      "[63]\tvalidation_0-auc:0.843039\n",
      "[64]\tvalidation_0-auc:0.84327\n",
      "[65]\tvalidation_0-auc:0.843601\n",
      "[66]\tvalidation_0-auc:0.843427\n",
      "[67]\tvalidation_0-auc:0.843466\n",
      "[68]\tvalidation_0-auc:0.843413\n",
      "[69]\tvalidation_0-auc:0.843614\n",
      "[70]\tvalidation_0-auc:0.843652\n",
      "[71]\tvalidation_0-auc:0.843614\n",
      "[72]\tvalidation_0-auc:0.843563\n",
      "[73]\tvalidation_0-auc:0.843575\n",
      "[74]\tvalidation_0-auc:0.843852\n",
      "[75]\tvalidation_0-auc:0.843737\n",
      "[76]\tvalidation_0-auc:0.843943\n",
      "[77]\tvalidation_0-auc:0.84408\n",
      "[78]\tvalidation_0-auc:0.844433\n",
      "[79]\tvalidation_0-auc:0.844522\n",
      "[80]\tvalidation_0-auc:0.844569\n",
      "[81]\tvalidation_0-auc:0.844611\n",
      "[82]\tvalidation_0-auc:0.844568\n",
      "[83]\tvalidation_0-auc:0.844686\n",
      "[84]\tvalidation_0-auc:0.844797\n",
      "[85]\tvalidation_0-auc:0.844839\n",
      "[86]\tvalidation_0-auc:0.844858\n",
      "[87]\tvalidation_0-auc:0.844877\n",
      "[88]\tvalidation_0-auc:0.844891\n",
      "[89]\tvalidation_0-auc:0.844959\n",
      "[90]\tvalidation_0-auc:0.844939\n",
      "[91]\tvalidation_0-auc:0.844909\n",
      "[92]\tvalidation_0-auc:0.845015\n",
      "[93]\tvalidation_0-auc:0.845004\n",
      "[94]\tvalidation_0-auc:0.845191\n",
      "[95]\tvalidation_0-auc:0.845341\n",
      "[96]\tvalidation_0-auc:0.845272\n",
      "[97]\tvalidation_0-auc:0.845311\n",
      "[98]\tvalidation_0-auc:0.845266\n",
      "[99]\tvalidation_0-auc:0.845323\n",
      "[100]\tvalidation_0-auc:0.845378\n",
      "[101]\tvalidation_0-auc:0.845408\n",
      "[102]\tvalidation_0-auc:0.845504\n",
      "[103]\tvalidation_0-auc:0.845611\n",
      "[104]\tvalidation_0-auc:0.845743\n",
      "[105]\tvalidation_0-auc:0.84574\n",
      "[106]\tvalidation_0-auc:0.845805\n",
      "[107]\tvalidation_0-auc:0.845924\n",
      "[108]\tvalidation_0-auc:0.845959\n",
      "[109]\tvalidation_0-auc:0.845996\n",
      "[110]\tvalidation_0-auc:0.845944\n",
      "[111]\tvalidation_0-auc:0.846047\n",
      "[112]\tvalidation_0-auc:0.846071\n",
      "[113]\tvalidation_0-auc:0.846189\n",
      "[114]\tvalidation_0-auc:0.846147\n",
      "[115]\tvalidation_0-auc:0.846236\n",
      "[116]\tvalidation_0-auc:0.846154\n",
      "[117]\tvalidation_0-auc:0.846131\n",
      "[118]\tvalidation_0-auc:0.84623\n",
      "[119]\tvalidation_0-auc:0.846191\n",
      "[120]\tvalidation_0-auc:0.846182\n",
      "[121]\tvalidation_0-auc:0.846322\n",
      "[122]\tvalidation_0-auc:0.846322\n",
      "[123]\tvalidation_0-auc:0.84631\n",
      "[124]\tvalidation_0-auc:0.846377\n",
      "[125]\tvalidation_0-auc:0.846352\n",
      "[126]\tvalidation_0-auc:0.846315\n",
      "[127]\tvalidation_0-auc:0.846437\n",
      "[128]\tvalidation_0-auc:0.846366\n",
      "[129]\tvalidation_0-auc:0.846398\n",
      "[130]\tvalidation_0-auc:0.846308\n",
      "[131]\tvalidation_0-auc:0.846433\n",
      "[132]\tvalidation_0-auc:0.846407\n",
      "[133]\tvalidation_0-auc:0.846432\n",
      "[134]\tvalidation_0-auc:0.846461\n",
      "[135]\tvalidation_0-auc:0.846319\n",
      "[136]\tvalidation_0-auc:0.846287\n",
      "[137]\tvalidation_0-auc:0.846261\n",
      "[138]\tvalidation_0-auc:0.846197\n",
      "[139]\tvalidation_0-auc:0.846276\n",
      "[140]\tvalidation_0-auc:0.846308\n",
      "[141]\tvalidation_0-auc:0.846322\n",
      "[142]\tvalidation_0-auc:0.846298\n",
      "[143]\tvalidation_0-auc:0.846267\n",
      "[144]\tvalidation_0-auc:0.846337\n",
      "[145]\tvalidation_0-auc:0.846352\n",
      "[146]\tvalidation_0-auc:0.846373\n",
      "[147]\tvalidation_0-auc:0.846348\n",
      "[148]\tvalidation_0-auc:0.84637\n",
      "[149]\tvalidation_0-auc:0.846425\n",
      "[150]\tvalidation_0-auc:0.846255\n",
      "[151]\tvalidation_0-auc:0.846279\n",
      "[152]\tvalidation_0-auc:0.846267\n",
      "[153]\tvalidation_0-auc:0.84639\n",
      "[154]\tvalidation_0-auc:0.846476\n",
      "[155]\tvalidation_0-auc:0.846425\n",
      "[156]\tvalidation_0-auc:0.846479\n",
      "[157]\tvalidation_0-auc:0.84653\n",
      "[158]\tvalidation_0-auc:0.846492\n",
      "[159]\tvalidation_0-auc:0.846415\n",
      "[160]\tvalidation_0-auc:0.846358\n",
      "[161]\tvalidation_0-auc:0.84634\n",
      "[162]\tvalidation_0-auc:0.846367\n",
      "[163]\tvalidation_0-auc:0.846421\n",
      "[164]\tvalidation_0-auc:0.846467\n",
      "[165]\tvalidation_0-auc:0.84647\n",
      "[166]\tvalidation_0-auc:0.846463\n",
      "[167]\tvalidation_0-auc:0.846515\n",
      "[168]\tvalidation_0-auc:0.846553\n",
      "[169]\tvalidation_0-auc:0.846615\n",
      "[170]\tvalidation_0-auc:0.846626\n",
      "[171]\tvalidation_0-auc:0.846586\n",
      "[172]\tvalidation_0-auc:0.846713\n",
      "[173]\tvalidation_0-auc:0.846733\n",
      "[174]\tvalidation_0-auc:0.846733\n",
      "[175]\tvalidation_0-auc:0.846723\n",
      "[176]\tvalidation_0-auc:0.84675\n",
      "[177]\tvalidation_0-auc:0.846816\n",
      "[178]\tvalidation_0-auc:0.846807\n",
      "[179]\tvalidation_0-auc:0.846823\n",
      "[180]\tvalidation_0-auc:0.846816\n",
      "[181]\tvalidation_0-auc:0.846824\n",
      "[182]\tvalidation_0-auc:0.846785\n",
      "[183]\tvalidation_0-auc:0.846787\n",
      "[184]\tvalidation_0-auc:0.846763\n",
      "[185]\tvalidation_0-auc:0.846744\n",
      "[186]\tvalidation_0-auc:0.846824\n",
      "[187]\tvalidation_0-auc:0.84678\n",
      "[188]\tvalidation_0-auc:0.846758\n",
      "[189]\tvalidation_0-auc:0.846743\n",
      "[190]\tvalidation_0-auc:0.846704\n",
      "[191]\tvalidation_0-auc:0.846689\n",
      "[192]\tvalidation_0-auc:0.846673\n",
      "[193]\tvalidation_0-auc:0.846702\n",
      "[194]\tvalidation_0-auc:0.846721\n",
      "[195]\tvalidation_0-auc:0.846671\n",
      "[196]\tvalidation_0-auc:0.846713\n",
      "[197]\tvalidation_0-auc:0.846769\n",
      "[198]\tvalidation_0-auc:0.846732\n",
      "[199]\tvalidation_0-auc:0.846751\n",
      "[200]\tvalidation_0-auc:0.84678\n",
      "[201]\tvalidation_0-auc:0.846814\n",
      "Stopping. Best iteration:\n",
      "[181]\tvalidation_0-auc:0.846824\n",
      "\n"
     ]
    },
    {
     "data": {
      "text/plain": [
       "XGBClassifier(base_score=0.5, booster='gbtree', colsample_bylevel=1,\n",
       "       colsample_bytree=0.85, gamma=0, learning_rate=0.03,\n",
       "       max_delta_step=0, max_depth=5, min_child_weight=1, missing=None,\n",
       "       n_estimators=350, n_jobs=1, nthread=4, objective='binary:logistic',\n",
       "       random_state=0, reg_alpha=0, reg_lambda=1, scale_pos_weight=1,\n",
       "       seed=4242, silent=True, subsample=0.95)"
      ]
     },
     "execution_count": 25,
     "metadata": {},
     "output_type": "execute_result"
    }
   ],
   "source": [
    "clf.fit(X_train,y_train,early_stopping_rounds=20, eval_metric=\"auc\",eval_set=[(X_valid,y_valid)])"
   ]
  },
  {
   "cell_type": "code",
   "execution_count": 28,
   "metadata": {
    "ExecuteTime": {
     "end_time": "2018-10-28T14:11:54.351257Z",
     "start_time": "2018-10-28T14:11:53.416316Z"
    },
    "scrolled": true
   },
   "outputs": [
    {
     "name": "stdout",
     "output_type": "stream",
     "text": [
      "ROC on training set :  0.8750950454228577\n",
      "ROC on valid set :  0.8468241235309387\n"
     ]
    }
   ],
   "source": [
    "eval(clf)"
   ]
  },
  {
   "cell_type": "code",
   "execution_count": 32,
   "metadata": {
    "ExecuteTime": {
     "end_time": "2018-10-28T14:12:49.313603Z",
     "start_time": "2018-10-28T14:12:48.806634Z"
    }
   },
   "outputs": [
    {
     "data": {
      "image/png": "[encoded data removed]",
      "text/plain": [
       "<Figure size 1080x576 with 1 Axes>"
      ]
     },
     "metadata": {
      "needs_background": "light"
     },
     "output_type": "display_data"
    }
   ],
   "source": [
    "imp_cols = plot_fi(clf)"
   ]
  },
  {
   "cell_type": "code",
   "execution_count": null,
   "metadata": {},
   "outputs": [],
   "source": []
  },
  {
   "cell_type": "markdown",
   "metadata": {},
   "source": [
    "## LightGBM"
   ]
  },
  {
   "cell_type": "code",
   "execution_count": null,
   "metadata": {},
   "outputs": [],
   "source": []
  },
  {
   "cell_type": "code",
   "execution_count": null,
   "metadata": {},
   "outputs": [],
   "source": []
  },
  {
   "cell_type": "code",
   "execution_count": null,
   "metadata": {},
   "outputs": [],
   "source": []
  },
  {
   "cell_type": "code",
   "execution_count": null,
   "metadata": {},
   "outputs": [],
   "source": []
  },
  {
   "cell_type": "markdown",
   "metadata": {
    "ExecuteTime": {
     "end_time": "2018-10-27T11:56:19.901949Z",
     "start_time": "2018-10-27T11:56:19.898875Z"
    }
   },
   "source": [
    "# alo"
   ]
  },
  {
   "cell_type": "code",
   "execution_count": 221,
   "metadata": {
    "ExecuteTime": {
     "end_time": "2018-10-27T13:58:11.795099Z",
     "start_time": "2018-10-27T13:58:11.792251Z"
    }
   },
   "outputs": [],
   "source": [
    "import matplotlib.pyplot as plt"
   ]
  },
  {
   "cell_type": "code",
   "execution_count": 227,
   "metadata": {
    "ExecuteTime": {
     "end_time": "2018-10-27T13:59:21.931625Z",
     "start_time": "2018-10-27T13:59:04.036570Z"
    }
   },
   "outputs": [
    {
     "name": "stdout",
     "output_type": "stream",
     "text": [
      "(60816, 306) (15204, 306) (75818, 306)\n"
     ]
    },
    {
     "name": "stderr",
     "output_type": "stream",
     "text": [
      "/Users/macbook/miniconda3/envs/dev/lib/python3.6/site-packages/sklearn/ensemble/forest.py:248: FutureWarning: The default value of n_estimators will change from 10 in version 0.20 to 100 in 0.22.\n",
      "  \"10 in version 0.20 to 100 in 0.22.\", FutureWarning)\n"
     ]
    },
    {
     "name": "stdout",
     "output_type": "stream",
     "text": [
      "(60816, 36) (15204, 36) (75818, 36)\n",
      "Roc AUC:  0.8316521354856642\n"
     ]
    },
    {
     "data": {
      "image/png": "[encoded data removed]",
      "text/plain": [
       "<Figure size 864x576 with 1 Axes>"
      ]
     },
     "metadata": {
      "needs_background": "light"
     },
     "output_type": "display_data"
    }
   ],
   "source": [
    "# clean and split data\n",
    "\n",
    "# remove constant columns (std = 0)\n",
    "remove = []\n",
    "for col in train.columns:\n",
    "    if train[col].std() == 0:\n",
    "        remove.append(col)\n",
    "\n",
    "train.drop(remove, axis=1, inplace=True)\n",
    "test.drop(remove, axis=1, inplace=True)\n",
    "\n",
    "# remove duplicated columns\n",
    "remove = []\n",
    "cols = train.columns\n",
    "for i in range(len(cols)-1):\n",
    "    v = train[cols[i]].values\n",
    "    for j in range(i+1,len(cols)):\n",
    "        if np.array_equal(v,train[cols[j]].values):\n",
    "            remove.append(cols[j])\n",
    "\n",
    "train.drop(remove, axis=1, inplace=True)\n",
    "test.drop(remove, axis=1, inplace=True)\n",
    "\n",
    "X = train.drop([\"TARGET\",\"ID\"],axis=1)\n",
    "y = train.TARGET.values\n",
    "\n",
    "X_train, X_test, y_train, y_test = train_test_split(X, y, test_size=0.20, random_state=1729)\n",
    "print(X_train.shape, X_test.shape, test.shape)\n",
    "\n",
    "## # Feature selection\n",
    "clf = ExtraTreesClassifier(random_state=1729)\n",
    "selector = clf.fit(X_train, y_train)\n",
    "\n",
    "# plot most important features\n",
    "feat_imp = pd.Series(clf.feature_importances_, index = X_train.columns.values).sort_values(ascending=False)\n",
    "feat_imp[:40].plot(kind='bar', title='Feature Importances according to ExtraTreesClassifier', figsize=(12, 8))\n",
    "\n",
    "# clf.feature_importances_ \n",
    "fs = SelectFromModel(selector, prefit=True)\n",
    "\n",
    "X_train = fs.transform(X_train)\n",
    "X_test = fs.transform(X_test)\n",
    "test = fs.transform(test)\n",
    "\n",
    "print(X_train.shape, X_test.shape, test.shape)\n",
    "\n",
    "## # Train Model\n",
    "# classifier from xgboost\n",
    "m2_xgb = xgb.XGBClassifier(n_estimators=110, nthread=-1, max_depth = 4, \\\n",
    "seed=1729)\n",
    "m2_xgb.fit(X_train, y_train, eval_metric=\"auc\", verbose = False,\n",
    "           eval_set=[(X_test, y_test)])\n",
    "\n",
    "# calculate the auc score\n",
    "print(\"Roc AUC: \", roc_auc_score(y_test, m2_xgb.predict_proba(X_test)[:,1],\n",
    "              average='macro'))"
   ]
  },
  {
   "cell_type": "code",
   "execution_count": null,
   "metadata": {},
   "outputs": [],
   "source": []
  }
 ],
 "metadata": {
  "kernelspec": {
   "display_name": "Python 3",
   "language": "python",
   "name": "python3"
  },
  "language_info": {
   "codemirror_mode": {
    "name": "ipython",
    "version": 3
   },
   "file_extension": ".py",
   "mimetype": "text/x-python",
   "name": "python",
   "nbconvert_exporter": "python",
   "pygments_lexer": "ipython3",
   "version": "3.6.6"
  },
  "toc": {
   "base_numbering": 1,
   "nav_menu": {},
   "number_sections": true,
   "sideBar": true,
   "skip_h1_title": false,
   "title_cell": "Table of Contents",
   "title_sidebar": "Contents",
   "toc_cell": false,
   "toc_position": {
    "height": "calc(100% - 180px)",
    "left": "10px",
    "top": "150px",
    "width": "288px"
   },
   "toc_section_display": true,
   "toc_window_display": true
  }
 },
 "nbformat": 4,
 "nbformat_minor": 2
}
