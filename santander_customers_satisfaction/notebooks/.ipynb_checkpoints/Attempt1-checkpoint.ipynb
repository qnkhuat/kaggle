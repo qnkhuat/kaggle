{
 "cells": [
  {
   "cell_type": "markdown",
   "metadata": {},
   "source": [
    "# Imports & Load data\n",
    "\n"
   ]
  },
  {
   "cell_type": "code",
   "execution_count": 126,
   "metadata": {
    "ExecuteTime": {
     "end_time": "2018-10-28T11:48:15.595131Z",
     "start_time": "2018-10-28T11:48:15.591358Z"
    }
   },
   "outputs": [],
   "source": [
    "import os\n",
    "from os.path import join as pjoin\n",
    "\n",
    "import pandas as pd\n",
    "import numpy as np\n",
    "\n",
    "from sklearn.ensemble import RandomForestClassifier as RFC\n",
    "from sklearn.metrics import roc_auc_score\n",
    "import xgboost as xgb"
   ]
  },
  {
   "cell_type": "code",
   "execution_count": 127,
   "metadata": {
    "ExecuteTime": {
     "end_time": "2018-10-28T11:48:15.769549Z",
     "start_time": "2018-10-28T11:48:15.766595Z"
    }
   },
   "outputs": [],
   "source": [
    "from sklearn.model_selection import train_test_split,GridSearchCV\n",
    "from sklearn.metrics import roc_auc_score\n",
    "from sklearn.ensemble import ExtraTreesClassifier\n",
    "from sklearn.decomposition import PCA\n"
   ]
  },
  {
   "cell_type": "code",
   "execution_count": 128,
   "metadata": {
    "ExecuteTime": {
     "end_time": "2018-10-28T11:48:15.930641Z",
     "start_time": "2018-10-28T11:48:15.927596Z"
    }
   },
   "outputs": [],
   "source": [
    "# feature selection\n",
    "from sklearn.feature_selection import SelectPercentile\n",
    "from sklearn.feature_selection import f_classif,chi2\n",
    "from sklearn.feature_selection import SelectKBest\n",
    "from sklearn.feature_selection import SelectFromModel,RFECV\n",
    "from sklearn.preprocessing import Binarizer, scale,normalize"
   ]
  },
  {
   "cell_type": "code",
   "execution_count": 129,
   "metadata": {
    "ExecuteTime": {
     "end_time": "2018-10-28T11:48:16.081970Z",
     "start_time": "2018-10-28T11:48:16.078899Z"
    }
   },
   "outputs": [],
   "source": [
    "import matplotlib.pyplot as plt\n",
    "plt.rcParams['figure.figsize'] = (15,8)"
   ]
  },
  {
   "cell_type": "code",
   "execution_count": 5,
   "metadata": {
    "ExecuteTime": {
     "end_time": "2018-10-28T09:16:59.459912Z",
     "start_time": "2018-10-28T09:16:56.532005Z"
    }
   },
   "outputs": [],
   "source": [
    "train = pd.read_csv('../data/train.csv')"
   ]
  },
  {
   "cell_type": "code",
   "execution_count": 6,
   "metadata": {
    "ExecuteTime": {
     "end_time": "2018-10-28T09:17:02.229157Z",
     "start_time": "2018-10-28T09:16:59.462250Z"
    }
   },
   "outputs": [],
   "source": [
    "test = pd.read_csv('../data/test.csv')"
   ]
  },
  {
   "cell_type": "markdown",
   "metadata": {
    "ExecuteTime": {
     "end_time": "2018-10-27T11:53:17.497786Z",
     "start_time": "2018-10-27T11:53:17.494801Z"
    }
   },
   "source": [
    "# Helper functions"
   ]
  },
  {
   "cell_type": "code",
   "execution_count": 7,
   "metadata": {
    "ExecuteTime": {
     "end_time": "2018-10-28T09:17:02.237494Z",
     "start_time": "2018-10-28T09:17:02.230893Z"
    }
   },
   "outputs": [],
   "source": [
    "def split(x,n=None):\n",
    "    if n==None:\n",
    "        n=int(len(x)*.7)\n",
    "    \n",
    "    return x[:n],x[n:]\n",
    "\n",
    "# Provide a place holder for train\n",
    "def split_data(df):\n",
    "    y = df['TARGET'].copy()\n",
    "    x = df.drop('TARGET',axis=1)\n",
    "    global X_train,X_valid,y_train,y_valid\n",
    "    \n",
    "    X_train ,X_valid = split(x)\n",
    "    y_train ,y_valid = split(y)"
   ]
  },
  {
   "cell_type": "code",
   "execution_count": 8,
   "metadata": {
    "ExecuteTime": {
     "end_time": "2018-10-28T09:17:02.243351Z",
     "start_time": "2018-10-28T09:17:02.239645Z"
    }
   },
   "outputs": [],
   "source": [
    "\n",
    "def eval(clf):\n",
    "    train_pred = clf.predict(X_train)\n",
    "    valid_pred = clf.predict(X_valid)\n",
    "    if train_pred.sum()==0:\n",
    "        print(\"All prediciton on train is 0\")\n",
    "        \n",
    "    if valid_pred.sum()==0:\n",
    "        print(\"All prediciton on valid is 0\")\n",
    "    print('ROC on training set : ',roc_auc_score(y_train,train_pred))\n",
    "    print('ROC on valid set : ',roc_auc_score(y_valid,valid_pred))\n",
    "    \n",
    "    "
   ]
  },
  {
   "cell_type": "code",
   "execution_count": 9,
   "metadata": {
    "ExecuteTime": {
     "end_time": "2018-10-28T09:17:02.250807Z",
     "start_time": "2018-10-28T09:17:02.245846Z"
    }
   },
   "outputs": [],
   "source": [
    "def plot_fi(clf,n_top=30):\n",
    "    fi = pd.DataFrame({'cols':X_train.columns,'fi':clf.feature_importances_}).sort_values('fi',ascending=False)\n",
    "    fi.iloc[:n_top].plot(x='cols',y='fi',kind='barh')\n",
    "    return list(fi.cols.values)\n",
    "    "
   ]
  },
  {
   "cell_type": "code",
   "execution_count": 72,
   "metadata": {
    "ExecuteTime": {
     "end_time": "2018-10-28T10:16:17.397610Z",
     "start_time": "2018-10-28T10:16:17.394084Z"
    }
   },
   "outputs": [],
   "source": [
    "def base_model():\n",
    "    clf = RFC(criterion='gini', class_weight='balanced', max_depth=10,random_state=1)\n",
    "    clf.fit(X_train,y_train)\n",
    "    eval(clf)"
   ]
  },
  {
   "cell_type": "markdown",
   "metadata": {
    "ExecuteTime": {
     "end_time": "2018-10-28T02:08:21.287223Z",
     "start_time": "2018-10-28T02:08:21.284439Z"
    }
   },
   "source": [
    "# Data walkthrough"
   ]
  },
  {
   "cell_type": "code",
   "execution_count": 10,
   "metadata": {
    "ExecuteTime": {
     "end_time": "2018-10-28T09:17:02.294904Z",
     "start_time": "2018-10-28T09:17:02.254315Z"
    }
   },
   "outputs": [
    {
     "data": {
      "text/html": [
       "<div>\n",
       "<style scoped>\n",
       "    .dataframe tbody tr th:only-of-type {\n",
       "        vertical-align: middle;\n",
       "    }\n",
       "\n",
       "    .dataframe tbody tr th {\n",
       "        vertical-align: top;\n",
       "    }\n",
       "\n",
       "    .dataframe thead th {\n",
       "        text-align: right;\n",
       "    }\n",
       "</style>\n",
       "<table border=\"1\" class=\"dataframe\">\n",
       "  <thead>\n",
       "    <tr style=\"text-align: right;\">\n",
       "      <th></th>\n",
       "      <th>ID</th>\n",
       "      <th>var3</th>\n",
       "      <th>var15</th>\n",
       "      <th>imp_ent_var16_ult1</th>\n",
       "      <th>imp_op_var39_comer_ult1</th>\n",
       "      <th>imp_op_var39_comer_ult3</th>\n",
       "      <th>imp_op_var40_comer_ult1</th>\n",
       "      <th>imp_op_var40_comer_ult3</th>\n",
       "      <th>imp_op_var40_efect_ult1</th>\n",
       "      <th>imp_op_var40_efect_ult3</th>\n",
       "      <th>...</th>\n",
       "      <th>saldo_medio_var33_hace2</th>\n",
       "      <th>saldo_medio_var33_hace3</th>\n",
       "      <th>saldo_medio_var33_ult1</th>\n",
       "      <th>saldo_medio_var33_ult3</th>\n",
       "      <th>saldo_medio_var44_hace2</th>\n",
       "      <th>saldo_medio_var44_hace3</th>\n",
       "      <th>saldo_medio_var44_ult1</th>\n",
       "      <th>saldo_medio_var44_ult3</th>\n",
       "      <th>var38</th>\n",
       "      <th>TARGET</th>\n",
       "    </tr>\n",
       "  </thead>\n",
       "  <tbody>\n",
       "    <tr>\n",
       "      <th>0</th>\n",
       "      <td>1</td>\n",
       "      <td>2</td>\n",
       "      <td>23</td>\n",
       "      <td>0.0</td>\n",
       "      <td>0.0</td>\n",
       "      <td>0.0</td>\n",
       "      <td>0.0</td>\n",
       "      <td>0.0</td>\n",
       "      <td>0.0</td>\n",
       "      <td>0.0</td>\n",
       "      <td>...</td>\n",
       "      <td>0.0</td>\n",
       "      <td>0.0</td>\n",
       "      <td>0.0</td>\n",
       "      <td>0.0</td>\n",
       "      <td>0.0</td>\n",
       "      <td>0.0</td>\n",
       "      <td>0.0</td>\n",
       "      <td>0.0</td>\n",
       "      <td>39205.170000</td>\n",
       "      <td>0</td>\n",
       "    </tr>\n",
       "    <tr>\n",
       "      <th>1</th>\n",
       "      <td>3</td>\n",
       "      <td>2</td>\n",
       "      <td>34</td>\n",
       "      <td>0.0</td>\n",
       "      <td>0.0</td>\n",
       "      <td>0.0</td>\n",
       "      <td>0.0</td>\n",
       "      <td>0.0</td>\n",
       "      <td>0.0</td>\n",
       "      <td>0.0</td>\n",
       "      <td>...</td>\n",
       "      <td>0.0</td>\n",
       "      <td>0.0</td>\n",
       "      <td>0.0</td>\n",
       "      <td>0.0</td>\n",
       "      <td>0.0</td>\n",
       "      <td>0.0</td>\n",
       "      <td>0.0</td>\n",
       "      <td>0.0</td>\n",
       "      <td>49278.030000</td>\n",
       "      <td>0</td>\n",
       "    </tr>\n",
       "    <tr>\n",
       "      <th>2</th>\n",
       "      <td>4</td>\n",
       "      <td>2</td>\n",
       "      <td>23</td>\n",
       "      <td>0.0</td>\n",
       "      <td>0.0</td>\n",
       "      <td>0.0</td>\n",
       "      <td>0.0</td>\n",
       "      <td>0.0</td>\n",
       "      <td>0.0</td>\n",
       "      <td>0.0</td>\n",
       "      <td>...</td>\n",
       "      <td>0.0</td>\n",
       "      <td>0.0</td>\n",
       "      <td>0.0</td>\n",
       "      <td>0.0</td>\n",
       "      <td>0.0</td>\n",
       "      <td>0.0</td>\n",
       "      <td>0.0</td>\n",
       "      <td>0.0</td>\n",
       "      <td>67333.770000</td>\n",
       "      <td>0</td>\n",
       "    </tr>\n",
       "    <tr>\n",
       "      <th>3</th>\n",
       "      <td>8</td>\n",
       "      <td>2</td>\n",
       "      <td>37</td>\n",
       "      <td>0.0</td>\n",
       "      <td>195.0</td>\n",
       "      <td>195.0</td>\n",
       "      <td>0.0</td>\n",
       "      <td>0.0</td>\n",
       "      <td>0.0</td>\n",
       "      <td>0.0</td>\n",
       "      <td>...</td>\n",
       "      <td>0.0</td>\n",
       "      <td>0.0</td>\n",
       "      <td>0.0</td>\n",
       "      <td>0.0</td>\n",
       "      <td>0.0</td>\n",
       "      <td>0.0</td>\n",
       "      <td>0.0</td>\n",
       "      <td>0.0</td>\n",
       "      <td>64007.970000</td>\n",
       "      <td>0</td>\n",
       "    </tr>\n",
       "    <tr>\n",
       "      <th>4</th>\n",
       "      <td>10</td>\n",
       "      <td>2</td>\n",
       "      <td>39</td>\n",
       "      <td>0.0</td>\n",
       "      <td>0.0</td>\n",
       "      <td>0.0</td>\n",
       "      <td>0.0</td>\n",
       "      <td>0.0</td>\n",
       "      <td>0.0</td>\n",
       "      <td>0.0</td>\n",
       "      <td>...</td>\n",
       "      <td>0.0</td>\n",
       "      <td>0.0</td>\n",
       "      <td>0.0</td>\n",
       "      <td>0.0</td>\n",
       "      <td>0.0</td>\n",
       "      <td>0.0</td>\n",
       "      <td>0.0</td>\n",
       "      <td>0.0</td>\n",
       "      <td>117310.979016</td>\n",
       "      <td>0</td>\n",
       "    </tr>\n",
       "  </tbody>\n",
       "</table>\n",
       "<p>5 rows × 371 columns</p>\n",
       "</div>"
      ],
      "text/plain": [
       "   ID  var3  var15  imp_ent_var16_ult1  imp_op_var39_comer_ult1  \\\n",
       "0   1     2     23                 0.0                      0.0   \n",
       "1   3     2     34                 0.0                      0.0   \n",
       "2   4     2     23                 0.0                      0.0   \n",
       "3   8     2     37                 0.0                    195.0   \n",
       "4  10     2     39                 0.0                      0.0   \n",
       "\n",
       "   imp_op_var39_comer_ult3  imp_op_var40_comer_ult1  imp_op_var40_comer_ult3  \\\n",
       "0                      0.0                      0.0                      0.0   \n",
       "1                      0.0                      0.0                      0.0   \n",
       "2                      0.0                      0.0                      0.0   \n",
       "3                    195.0                      0.0                      0.0   \n",
       "4                      0.0                      0.0                      0.0   \n",
       "\n",
       "   imp_op_var40_efect_ult1  imp_op_var40_efect_ult3   ...    \\\n",
       "0                      0.0                      0.0   ...     \n",
       "1                      0.0                      0.0   ...     \n",
       "2                      0.0                      0.0   ...     \n",
       "3                      0.0                      0.0   ...     \n",
       "4                      0.0                      0.0   ...     \n",
       "\n",
       "   saldo_medio_var33_hace2  saldo_medio_var33_hace3  saldo_medio_var33_ult1  \\\n",
       "0                      0.0                      0.0                     0.0   \n",
       "1                      0.0                      0.0                     0.0   \n",
       "2                      0.0                      0.0                     0.0   \n",
       "3                      0.0                      0.0                     0.0   \n",
       "4                      0.0                      0.0                     0.0   \n",
       "\n",
       "   saldo_medio_var33_ult3  saldo_medio_var44_hace2  saldo_medio_var44_hace3  \\\n",
       "0                     0.0                      0.0                      0.0   \n",
       "1                     0.0                      0.0                      0.0   \n",
       "2                     0.0                      0.0                      0.0   \n",
       "3                     0.0                      0.0                      0.0   \n",
       "4                     0.0                      0.0                      0.0   \n",
       "\n",
       "   saldo_medio_var44_ult1  saldo_medio_var44_ult3          var38  TARGET  \n",
       "0                     0.0                     0.0   39205.170000       0  \n",
       "1                     0.0                     0.0   49278.030000       0  \n",
       "2                     0.0                     0.0   67333.770000       0  \n",
       "3                     0.0                     0.0   64007.970000       0  \n",
       "4                     0.0                     0.0  117310.979016       0  \n",
       "\n",
       "[5 rows x 371 columns]"
      ]
     },
     "execution_count": 10,
     "metadata": {},
     "output_type": "execute_result"
    }
   ],
   "source": [
    "train.head()"
   ]
  },
  {
   "cell_type": "code",
   "execution_count": 11,
   "metadata": {
    "ExecuteTime": {
     "end_time": "2018-10-28T09:17:02.301282Z",
     "start_time": "2018-10-28T09:17:02.296848Z"
    }
   },
   "outputs": [
    {
     "data": {
      "text/plain": [
       "(76020, 371)"
      ]
     },
     "execution_count": 11,
     "metadata": {},
     "output_type": "execute_result"
    }
   ],
   "source": [
    "train.shape"
   ]
  },
  {
   "cell_type": "code",
   "execution_count": 12,
   "metadata": {
    "ExecuteTime": {
     "end_time": "2018-10-28T09:17:02.310071Z",
     "start_time": "2018-10-28T09:17:02.303639Z"
    }
   },
   "outputs": [
    {
     "data": {
      "text/plain": [
       "Index(['ID', 'var3', 'var15', 'imp_ent_var16_ult1', 'imp_op_var39_comer_ult1',\n",
       "       'imp_op_var39_comer_ult3', 'imp_op_var40_comer_ult1',\n",
       "       'imp_op_var40_comer_ult3', 'imp_op_var40_efect_ult1',\n",
       "       'imp_op_var40_efect_ult3',\n",
       "       ...\n",
       "       'saldo_medio_var33_hace2', 'saldo_medio_var33_hace3',\n",
       "       'saldo_medio_var33_ult1', 'saldo_medio_var33_ult3',\n",
       "       'saldo_medio_var44_hace2', 'saldo_medio_var44_hace3',\n",
       "       'saldo_medio_var44_ult1', 'saldo_medio_var44_ult3', 'var38', 'TARGET'],\n",
       "      dtype='object', length=371)"
      ]
     },
     "execution_count": 12,
     "metadata": {},
     "output_type": "execute_result"
    }
   ],
   "source": [
    "train.columns"
   ]
  },
  {
   "cell_type": "code",
   "execution_count": 13,
   "metadata": {
    "ExecuteTime": {
     "end_time": "2018-10-28T09:17:02.784225Z",
     "start_time": "2018-10-28T09:17:02.312333Z"
    },
    "scrolled": true
   },
   "outputs": [
    {
     "data": {
      "text/plain": [
       "ID                               0\n",
       "var3                             0\n",
       "var15                            0\n",
       "imp_ent_var16_ult1               0\n",
       "imp_op_var39_comer_ult1          0\n",
       "imp_op_var39_comer_ult3          0\n",
       "imp_op_var40_comer_ult1          0\n",
       "imp_op_var40_comer_ult3          0\n",
       "imp_op_var40_efect_ult1          0\n",
       "imp_op_var40_efect_ult3          0\n",
       "imp_op_var40_ult1                0\n",
       "imp_op_var41_comer_ult1          0\n",
       "imp_op_var41_comer_ult3          0\n",
       "imp_op_var41_efect_ult1          0\n",
       "imp_op_var41_efect_ult3          0\n",
       "imp_op_var41_ult1                0\n",
       "imp_op_var39_efect_ult1          0\n",
       "imp_op_var39_efect_ult3          0\n",
       "imp_op_var39_ult1                0\n",
       "imp_sal_var16_ult1               0\n",
       "ind_var1_0                       0\n",
       "ind_var1                         0\n",
       "ind_var2_0                       0\n",
       "ind_var2                         0\n",
       "ind_var5_0                       0\n",
       "ind_var5                         0\n",
       "ind_var6_0                       0\n",
       "ind_var6                         0\n",
       "ind_var8_0                       0\n",
       "ind_var8                         0\n",
       "                                ..\n",
       "saldo_medio_var13_corto_hace2    0\n",
       "saldo_medio_var13_corto_hace3    0\n",
       "saldo_medio_var13_corto_ult1     0\n",
       "saldo_medio_var13_corto_ult3     0\n",
       "saldo_medio_var13_largo_hace2    0\n",
       "saldo_medio_var13_largo_hace3    0\n",
       "saldo_medio_var13_largo_ult1     0\n",
       "saldo_medio_var13_largo_ult3     0\n",
       "saldo_medio_var13_medio_hace2    0\n",
       "saldo_medio_var13_medio_hace3    0\n",
       "saldo_medio_var13_medio_ult1     0\n",
       "saldo_medio_var13_medio_ult3     0\n",
       "saldo_medio_var17_hace2          0\n",
       "saldo_medio_var17_hace3          0\n",
       "saldo_medio_var17_ult1           0\n",
       "saldo_medio_var17_ult3           0\n",
       "saldo_medio_var29_hace2          0\n",
       "saldo_medio_var29_hace3          0\n",
       "saldo_medio_var29_ult1           0\n",
       "saldo_medio_var29_ult3           0\n",
       "saldo_medio_var33_hace2          0\n",
       "saldo_medio_var33_hace3          0\n",
       "saldo_medio_var33_ult1           0\n",
       "saldo_medio_var33_ult3           0\n",
       "saldo_medio_var44_hace2          0\n",
       "saldo_medio_var44_hace3          0\n",
       "saldo_medio_var44_ult1           0\n",
       "saldo_medio_var44_ult3           0\n",
       "var38                            0\n",
       "TARGET                           0\n",
       "Length: 371, dtype: int64"
      ]
     },
     "execution_count": 13,
     "metadata": {},
     "output_type": "execute_result"
    }
   ],
   "source": [
    "train.isnull().sum()"
   ]
  },
  {
   "cell_type": "markdown",
   "metadata": {
    "ExecuteTime": {
     "end_time": "2018-10-27T11:53:06.936565Z",
     "start_time": "2018-10-27T11:53:06.932994Z"
    }
   },
   "source": [
    "# Feature engineering"
   ]
  },
  {
   "cell_type": "markdown",
   "metadata": {},
   "source": [
    "## Drop skewed columns"
   ]
  },
  {
   "cell_type": "code",
   "execution_count": null,
   "metadata": {
    "ExecuteTime": {
     "start_time": "2018-10-28T09:16:58.474Z"
    }
   },
   "outputs": [],
   "source": [
    "skew_cols = []\n",
    "for col in train.columns:\n",
    "    train_cnt = train[col].value_counts().sort_values(ascending=False)/len(train)\n",
    "    if train_cnt.values[0]>0.999:\n",
    "        skew_cols.append(col)\n",
    "        \n",
    "train.drop(skew_cols,axis=1,inplace=True)        \n",
    "test.drop(skew_cols,axis=1,inplace=True)\n",
    "print(f'{len(skew_cols)}  with skewed value')"
   ]
  },
  {
   "cell_type": "markdown",
   "metadata": {},
   "source": [
    "## Drop duplicate columns"
   ]
  },
  {
   "cell_type": "code",
   "execution_count": 15,
   "metadata": {
    "ExecuteTime": {
     "end_time": "2018-10-28T09:17:08.985286Z",
     "start_time": "2018-10-28T09:17:03.615085Z"
    }
   },
   "outputs": [
    {
     "name": "stdout",
     "output_type": "stream",
     "text": [
      "20  with duplicate value\n"
     ]
    }
   ],
   "source": [
    "dup_cols = []\n",
    "for col_1 in train.columns:\n",
    "    v = train[col_1].values\n",
    "    for col_2 in train.columns:\n",
    "        #if col_1 != col_2 and train[col_1].sum() == train[col_2].sum():\n",
    "        if col_1 != col_2:\n",
    "            if np.array_equal(train[col_1],train[col_2]):\n",
    "                dup_cols.append(col_2)\n",
    "train.drop(dup_cols,axis=1,inplace=True)        \n",
    "test.drop(dup_cols,axis=1,inplace=True)\n",
    "print(f'{len(dup_cols)}  with duplicate value')"
   ]
  },
  {
   "cell_type": "markdown",
   "metadata": {},
   "source": [
    "## Var3 bug"
   ]
  },
  {
   "cell_type": "code",
   "execution_count": 17,
   "metadata": {
    "ExecuteTime": {
     "end_time": "2018-10-28T09:17:12.964342Z",
     "start_time": "2018-10-28T09:17:12.958638Z"
    }
   },
   "outputs": [],
   "source": [
    "train['var3'].replace(-999999,0, inplace=True)\n",
    "test['var3'].replace(-999999,0, inplace=True)"
   ]
  },
  {
   "cell_type": "markdown",
   "metadata": {
    "ExecuteTime": {
     "end_time": "2018-10-28T11:39:34.776474Z",
     "start_time": "2018-10-28T11:39:34.774176Z"
    }
   },
   "source": [
    "## Adding PCA"
   ]
  },
  {
   "cell_type": "code",
   "execution_count": 125,
   "metadata": {
    "ExecuteTime": {
     "end_time": "2018-10-28T11:48:08.029401Z",
     "start_time": "2018-10-28T11:48:06.782981Z"
    }
   },
   "outputs": [
    {
     "name": "stdout",
     "output_type": "stream",
     "text": [
      "[0.11510556 0.08809775 0.06522931]\n"
     ]
    }
   ],
   "source": [
    "pca = PCA(n_components=3)\n",
    "x_train_projected = pca.fit_transform(normalize(train.drop('TARGET',axis=1), axis=0))\n",
    "x_test_projected = pca.transform(normalize(test, axis=0))\n",
    "print(pca.explained_variance_ratio_)\n",
    "train.insert(1, 'PCA1', x_train_projected[:, 0])\n",
    "train.insert(1, 'PCA2', x_train_projected[:, 1])\n",
    "train.insert(1, 'PCA3', x_train_projected[:, 2])\n",
    "\n",
    "test.insert(1, 'PCA1', x_test_projected[:, 0])\n",
    "test.insert(1, 'PCA2', x_test_projected[:, 1])\n",
    "test.insert(1, 'PCA3', x_test_projected[:, 2])\n"
   ]
  },
  {
   "cell_type": "code",
   "execution_count": null,
   "metadata": {},
   "outputs": [],
   "source": []
  },
  {
   "cell_type": "code",
   "execution_count": null,
   "metadata": {},
   "outputs": [],
   "source": []
  },
  {
   "cell_type": "markdown",
   "metadata": {
    "ExecuteTime": {
     "end_time": "2018-10-28T09:17:19.515052Z",
     "start_time": "2018-10-28T09:17:19.512558Z"
    }
   },
   "source": [
    "## Feature selection\n",
    "SelectKBest will return top k features\n",
    "\n",
    "SelectPercentile will return a sub set of your features"
   ]
  },
  {
   "cell_type": "code",
   "execution_count": 27,
   "metadata": {
    "ExecuteTime": {
     "end_time": "2018-10-28T09:55:29.657251Z",
     "start_time": "2018-10-28T09:55:29.434367Z"
    }
   },
   "outputs": [],
   "source": [
    "X = pd.concat([X_train,X_valid])"
   ]
  },
  {
   "cell_type": "code",
   "execution_count": 28,
   "metadata": {
    "ExecuteTime": {
     "end_time": "2018-10-28T09:55:34.997752Z",
     "start_time": "2018-10-28T09:55:34.140054Z"
    }
   },
   "outputs": [
    {
     "name": "stderr",
     "output_type": "stream",
     "text": [
      "/Users/macbook/miniconda3/envs/dev/lib/python3.6/site-packages/ipykernel_launcher.py:1: DataConversionWarning: Data with input dtype int64, float64 were all converted to float64 by the scale function.\n",
      "  \"\"\"Entry point for launching an IPython kernel.\n",
      "/Users/macbook/miniconda3/envs/dev/lib/python3.6/site-packages/sklearn/preprocessing/data.py:176: UserWarning: Numerical issues were encountered when centering the data and might not be solved. Dataset may contain too large values. You may need to prescale your features.\n",
      "  warnings.warn(\"Numerical issues were encountered \"\n"
     ]
    }
   ],
   "source": [
    "X_bin = Binarizer().fit_transform(scale(X))"
   ]
  },
  {
   "cell_type": "code",
   "execution_count": 31,
   "metadata": {
    "ExecuteTime": {
     "end_time": "2018-10-28T10:03:00.545535Z",
     "start_time": "2018-10-28T10:03:00.534925Z"
    }
   },
   "outputs": [],
   "source": [
    "y_ = pd.concat([y_train,y_valid])"
   ]
  },
  {
   "cell_type": "markdown",
   "metadata": {},
   "source": [
    "### Filter method"
   ]
  },
  {
   "cell_type": "code",
   "execution_count": 39,
   "metadata": {
    "ExecuteTime": {
     "end_time": "2018-10-28T10:07:21.247285Z",
     "start_time": "2018-10-28T10:07:21.193651Z"
    }
   },
   "outputs": [],
   "source": [
    "# Feature extraction\n",
    "selectChi2 = SelectPercentile(chi2, percentile=80).fit(X_bin, y_)"
   ]
  },
  {
   "cell_type": "code",
   "execution_count": 58,
   "metadata": {
    "ExecuteTime": {
     "end_time": "2018-10-28T10:13:38.509331Z",
     "start_time": "2018-10-28T10:13:38.504608Z"
    }
   },
   "outputs": [],
   "source": [
    "selected_cols = list(X_train.columns[selectChi2.get_support()].values) + [\"TARGET\"]"
   ]
  },
  {
   "cell_type": "markdown",
   "metadata": {
    "ExecuteTime": {
     "end_time": "2018-10-28T10:15:52.262288Z",
     "start_time": "2018-10-28T10:15:52.257755Z"
    }
   },
   "source": [
    "Test results"
   ]
  },
  {
   "cell_type": "code",
   "execution_count": 60,
   "metadata": {
    "ExecuteTime": {
     "end_time": "2018-10-28T10:13:49.841592Z",
     "start_time": "2018-10-28T10:13:49.700536Z"
    }
   },
   "outputs": [],
   "source": [
    "split_data(train[selected_cols])"
   ]
  },
  {
   "cell_type": "code",
   "execution_count": 66,
   "metadata": {
    "ExecuteTime": {
     "end_time": "2018-10-28T10:15:14.114141Z",
     "start_time": "2018-10-28T10:15:13.532680Z"
    },
    "scrolled": true
   },
   "outputs": [
    {
     "name": "stderr",
     "output_type": "stream",
     "text": [
      "/Users/macbook/miniconda3/envs/dev/lib/python3.6/site-packages/sklearn/ensemble/forest.py:248: FutureWarning: The default value of n_estimators will change from 10 in version 0.20 to 100 in 0.22.\n",
      "  \"10 in version 0.20 to 100 in 0.22.\", FutureWarning)\n"
     ]
    },
    {
     "name": "stdout",
     "output_type": "stream",
     "text": [
      "ROC on training set :  0.785415994072182\n",
      "ROC on valid set :  0.7523859940084021\n"
     ]
    }
   ],
   "source": [
    "clf = RFC(criterion='gini', class_weight='balanced', max_depth=10,random_state=1)\n",
    "clf.fit(X_train,y_train)\n",
    "eval(clf)"
   ]
  },
  {
   "cell_type": "code",
   "execution_count": 67,
   "metadata": {
    "ExecuteTime": {
     "end_time": "2018-10-28T10:15:27.297097Z",
     "start_time": "2018-10-28T10:15:27.206959Z"
    }
   },
   "outputs": [],
   "source": [
    "split_data(train)"
   ]
  },
  {
   "cell_type": "code",
   "execution_count": 68,
   "metadata": {
    "ExecuteTime": {
     "end_time": "2018-10-28T10:15:28.055692Z",
     "start_time": "2018-10-28T10:15:27.352565Z"
    },
    "scrolled": true
   },
   "outputs": [
    {
     "name": "stderr",
     "output_type": "stream",
     "text": [
      "/Users/macbook/miniconda3/envs/dev/lib/python3.6/site-packages/sklearn/ensemble/forest.py:248: FutureWarning: The default value of n_estimators will change from 10 in version 0.20 to 100 in 0.22.\n",
      "  \"10 in version 0.20 to 100 in 0.22.\", FutureWarning)\n"
     ]
    },
    {
     "name": "stdout",
     "output_type": "stream",
     "text": [
      "ROC on training set :  0.7673697770204184\n",
      "ROC on valid set :  0.7376525234067091\n"
     ]
    }
   ],
   "source": [
    "clf = RFC(criterion='gini', class_weight='balanced', max_depth=10,random_state=1)\n",
    "clf.fit(X_train,y_train)\n",
    "eval(clf)"
   ]
  },
  {
   "cell_type": "markdown",
   "metadata": {
    "ExecuteTime": {
     "end_time": "2018-10-28T10:16:02.287726Z",
     "start_time": "2018-10-28T10:16:02.282063Z"
    }
   },
   "source": [
    "A little bit better"
   ]
  },
  {
   "cell_type": "markdown",
   "metadata": {
    "ExecuteTime": {
     "end_time": "2018-10-28T10:47:52.114890Z",
     "start_time": "2018-10-28T10:47:52.106499Z"
    }
   },
   "source": [
    "### Wrapper methods\n",
    "\n"
   ]
  },
  {
   "cell_type": "code",
   "execution_count": 119,
   "metadata": {
    "ExecuteTime": {
     "end_time": "2018-10-28T11:46:32.853822Z",
     "start_time": "2018-10-28T11:46:32.272486Z"
    },
    "scrolled": true
   },
   "outputs": [
    {
     "name": "stderr",
     "output_type": "stream",
     "text": [
      "/Users/macbook/miniconda3/envs/dev/lib/python3.6/site-packages/sklearn/ensemble/forest.py:248: FutureWarning: The default value of n_estimators will change from 10 in version 0.20 to 100 in 0.22.\n",
      "  \"10 in version 0.20 to 100 in 0.22.\", FutureWarning)\n"
     ]
    },
    {
     "name": "stdout",
     "output_type": "stream",
     "text": [
      "ROC on training set :  0.8159160278600914\n",
      "ROC on valid set :  0.7446744278861178\n"
     ]
    }
   ],
   "source": [
    "clf = RFC(criterion='gini', class_weight='balanced', max_depth=10,random_state=1)\n",
    "clf.fit(X_train,y_train)\n",
    "eval(clf)"
   ]
  },
  {
   "cell_type": "markdown",
   "metadata": {},
   "source": [
    "Tested with step = 1/2 . step 2 return better score"
   ]
  },
  {
   "cell_type": "code",
   "execution_count": 82,
   "metadata": {
    "ExecuteTime": {
     "end_time": "2018-10-28T11:39:34.696705Z",
     "start_time": "2018-10-28T11:30:53.915848Z"
    }
   },
   "outputs": [
    {
     "data": {
      "text/plain": [
       "RFECV(cv=5,\n",
       "   estimator=RandomForestClassifier(bootstrap=True, class_weight='balanced',\n",
       "            criterion='gini', max_depth=10, max_features='auto',\n",
       "            max_leaf_nodes=None, min_impurity_decrease=0.0,\n",
       "            min_impurity_split=None, min_samples_leaf=1,\n",
       "            min_samples_split=2, min_weight_fraction_leaf=0.0,\n",
       "            n_estimators=10, n_jobs=None, oob_score=False, random_state=1,\n",
       "            verbose=0, warm_start=False),\n",
       "   min_features_to_select=1, n_jobs=None, scoring='roc_auc', step=1,\n",
       "   verbose=0)"
      ]
     },
     "execution_count": 82,
     "metadata": {},
     "output_type": "execute_result"
    }
   ],
   "source": [
    "# step is how many feature to remove at a time\n",
    "dtree_rfe = RFECV(clf, step=2,scoring = 'roc_auc', cv = 5) \n",
    "dtree_rfe.fit(X_train,y_train)"
   ]
  },
  {
   "cell_type": "code",
   "execution_count": 97,
   "metadata": {
    "ExecuteTime": {
     "end_time": "2018-10-28T11:41:28.557152Z",
     "start_time": "2018-10-28T11:41:28.554518Z"
    }
   },
   "outputs": [],
   "source": [
    "rfecv_step_2 = list(rfecv_step_2) + ['TARGET']"
   ]
  },
  {
   "cell_type": "code",
   "execution_count": 112,
   "metadata": {
    "ExecuteTime": {
     "end_time": "2018-10-28T11:45:43.224150Z",
     "start_time": "2018-10-28T11:45:43.195341Z"
    }
   },
   "outputs": [],
   "source": [
    "split_data(train[rfecv_step_2])"
   ]
  },
  {
   "cell_type": "code",
   "execution_count": 113,
   "metadata": {
    "ExecuteTime": {
     "end_time": "2018-10-28T11:45:44.083034Z",
     "start_time": "2018-10-28T11:45:43.490652Z"
    },
    "scrolled": true
   },
   "outputs": [
    {
     "name": "stderr",
     "output_type": "stream",
     "text": [
      "/Users/macbook/miniconda3/envs/dev/lib/python3.6/site-packages/sklearn/ensemble/forest.py:248: FutureWarning: The default value of n_estimators will change from 10 in version 0.20 to 100 in 0.22.\n",
      "  \"10 in version 0.20 to 100 in 0.22.\", FutureWarning)\n"
     ]
    },
    {
     "name": "stdout",
     "output_type": "stream",
     "text": [
      "ROC on training set :  0.8159160278600914\n",
      "ROC on valid set :  0.7446744278861178\n"
     ]
    }
   ],
   "source": [
    "clf = RFC(criterion='gini', class_weight='balanced', max_depth=10,random_state=1)\n",
    "clf.fit(X_train,y_train)\n",
    "eval(clf)"
   ]
  },
  {
   "cell_type": "markdown",
   "metadata": {},
   "source": [
    "# Modeling"
   ]
  },
  {
   "cell_type": "markdown",
   "metadata": {
    "ExecuteTime": {
     "end_time": "2018-10-27T11:58:18.547594Z",
     "start_time": "2018-10-27T11:58:18.544398Z"
    }
   },
   "source": [
    "## RandomForest\n",
    "\n",
    "Note: for sparse data include class_weight will handle it"
   ]
  },
  {
   "cell_type": "code",
   "execution_count": 137,
   "metadata": {
    "ExecuteTime": {
     "end_time": "2018-10-28T08:48:03.044044Z",
     "start_time": "2018-10-28T08:48:02.846820Z"
    },
    "scrolled": true
   },
   "outputs": [],
   "source": [
    "split_data(train)"
   ]
  },
  {
   "cell_type": "markdown",
   "metadata": {},
   "source": [
    "Tried with these params : n_estimators=30,min_samples_leaf=10,max_features='log2',n_jobs=-1\n",
    "\n",
    "The model predict all samples are 0 => extremely overfit"
   ]
  },
  {
   "cell_type": "code",
   "execution_count": 62,
   "metadata": {
    "ExecuteTime": {
     "end_time": "2018-10-28T10:14:39.628714Z",
     "start_time": "2018-10-28T10:14:39.011523Z"
    }
   },
   "outputs": [
    {
     "name": "stderr",
     "output_type": "stream",
     "text": [
      "/Users/macbook/miniconda3/envs/dev/lib/python3.6/site-packages/sklearn/ensemble/forest.py:248: FutureWarning: The default value of n_estimators will change from 10 in version 0.20 to 100 in 0.22.\n",
      "  \"10 in version 0.20 to 100 in 0.22.\", FutureWarning)\n"
     ]
    },
    {
     "name": "stdout",
     "output_type": "stream",
     "text": [
      "ROC on training set :  0.765428157719624\n",
      "ROC on valid set :  0.7301860484249864\n"
     ]
    }
   ],
   "source": [
    "clf = RFC(n_estimators=50,max_features=.9,n_jobs=-1,class_weight={0:1,1:25})\n",
    "clf.fit(X_train,y_train)\n",
    "eval(clf)"
   ]
  },
  {
   "cell_type": "code",
   "execution_count": 110,
   "metadata": {
    "ExecuteTime": {
     "end_time": "2018-10-28T02:54:56.510275Z",
     "start_time": "2018-10-28T02:54:55.899428Z"
    }
   },
   "outputs": [
    {
     "data": {
      "image/png": "[encoded data removed]",
      "text/plain": [
       "<Figure size 1080x576 with 1 Axes>"
      ]
     },
     "metadata": {
      "needs_background": "light"
     },
     "output_type": "display_data"
    }
   ],
   "source": [
    "plot_fi(clf)"
   ]
  },
  {
   "cell_type": "markdown",
   "metadata": {},
   "source": [
    "Why the fuck ID is the most important feature.? This is probaly wrong"
   ]
  },
  {
   "cell_type": "code",
   "execution_count": 113,
   "metadata": {
    "ExecuteTime": {
     "end_time": "2018-10-28T02:55:31.015378Z",
     "start_time": "2018-10-28T02:55:30.378459Z"
    },
    "scrolled": false
   },
   "outputs": [
    {
     "name": "stderr",
     "output_type": "stream",
     "text": [
      "/Users/macbook/miniconda3/envs/dev/lib/python3.6/site-packages/sklearn/ensemble/forest.py:248: FutureWarning: The default value of n_estimators will change from 10 in version 0.20 to 100 in 0.22.\n",
      "  \"10 in version 0.20 to 100 in 0.22.\", FutureWarning)\n"
     ]
    },
    {
     "name": "stdout",
     "output_type": "stream",
     "text": [
      "ROC on training set :  0.7686798840888919\n",
      "ROC on valid set :  0.7240387786724519\n"
     ]
    }
   ],
   "source": [
    "clf = RFC(criterion='gini', class_weight='balanced', max_depth=10)\n",
    "clf.fit(X_train,y_train)\n",
    "eval(clf)"
   ]
  },
  {
   "cell_type": "code",
   "execution_count": 114,
   "metadata": {
    "ExecuteTime": {
     "end_time": "2018-10-28T02:55:33.556379Z",
     "start_time": "2018-10-28T02:55:33.056664Z"
    },
    "scrolled": false
   },
   "outputs": [
    {
     "data": {
      "image/png": "[encoded data removed]",
      "text/plain": [
       "<Figure size 1080x576 with 1 Axes>"
      ]
     },
     "metadata": {
      "needs_background": "light"
     },
     "output_type": "display_data"
    }
   ],
   "source": [
    "plot_fi(clf,30)"
   ]
  },
  {
   "cell_type": "markdown",
   "metadata": {},
   "source": [
    "### Using feature important"
   ]
  },
  {
   "cell_type": "code",
   "execution_count": 170,
   "metadata": {
    "ExecuteTime": {
     "end_time": "2018-10-27T13:46:53.935240Z",
     "start_time": "2018-10-27T13:46:53.822772Z"
    }
   },
   "outputs": [],
   "source": [
    "fi = pd.DataFrame({'cols':X_train.columns,'fi':clf.feature_importances_})"
   ]
  },
  {
   "cell_type": "code",
   "execution_count": 196,
   "metadata": {
    "ExecuteTime": {
     "end_time": "2018-10-27T13:50:58.685918Z",
     "start_time": "2018-10-27T13:50:58.681449Z"
    }
   },
   "outputs": [],
   "source": [
    "fi_cols = list(fi.sort_values('fi',ascending=False)[:40].cols) +  ['TARGET']"
   ]
  },
  {
   "cell_type": "code",
   "execution_count": 198,
   "metadata": {
    "ExecuteTime": {
     "end_time": "2018-10-27T13:51:01.296284Z",
     "start_time": "2018-10-27T13:51:01.248396Z"
    }
   },
   "outputs": [],
   "source": [
    "split_data(train[fi_cols])"
   ]
  },
  {
   "cell_type": "code",
   "execution_count": 199,
   "metadata": {
    "ExecuteTime": {
     "end_time": "2018-10-27T13:51:10.951686Z",
     "start_time": "2018-10-27T13:51:02.041609Z"
    }
   },
   "outputs": [
    {
     "name": "stdout",
     "output_type": "stream",
     "text": [
      "ROC on training set :  0.9992707826932425\n",
      "ROC on training set :  0.5184901635167836\n"
     ]
    }
   ],
   "source": [
    "clf = RFC(n_estimators=100)\n",
    "clf.fit(X_train,y_train)\n",
    "eval(clf)"
   ]
  },
  {
   "cell_type": "markdown",
   "metadata": {},
   "source": [
    "## XGBoost\n",
    "Let's try with xgboost"
   ]
  },
  {
   "cell_type": "code",
   "execution_count": 150,
   "metadata": {
    "ExecuteTime": {
     "end_time": "2018-10-27T13:34:21.652512Z",
     "start_time": "2018-10-27T13:34:21.649197Z"
    }
   },
   "outputs": [],
   "source": [
    "clf = xgb.XGBClassifier(n_estimators=10,\n",
    "                        learning_rate=0.1, \n",
    "                        nthread=-1,\n",
    "                        colsample_bytree=0.5,\n",
    "                        min_child_weight = 3)"
   ]
  },
  {
   "cell_type": "code",
   "execution_count": 151,
   "metadata": {
    "ExecuteTime": {
     "end_time": "2018-10-27T13:34:25.367281Z",
     "start_time": "2018-10-27T13:34:22.349936Z"
    }
   },
   "outputs": [
    {
     "data": {
      "text/plain": [
       "XGBClassifier(base_score=0.5, booster='gbtree', colsample_bylevel=1,\n",
       "       colsample_bytree=0.5, gamma=0, learning_rate=0.1, max_delta_step=0,\n",
       "       max_depth=3, min_child_weight=3, missing=None, n_estimators=10,\n",
       "       n_jobs=1, nthread=-1, objective='binary:logistic', random_state=0,\n",
       "       reg_alpha=0, reg_lambda=1, scale_pos_weight=1, seed=None,\n",
       "       silent=True, subsample=1)"
      ]
     },
     "execution_count": 151,
     "metadata": {},
     "output_type": "execute_result"
    }
   ],
   "source": [
    "clf.fit(X_train,y_train,eval_metric=\"auc\")"
   ]
  },
  {
   "cell_type": "code",
   "execution_count": 152,
   "metadata": {
    "ExecuteTime": {
     "end_time": "2018-10-27T13:34:26.357312Z",
     "start_time": "2018-10-27T13:34:25.369245Z"
    }
   },
   "outputs": [
    {
     "name": "stdout",
     "output_type": "stream",
     "text": [
      "All prediciton on train is 0\n",
      "All prediciton on valid is 0\n",
      "ROC on training set :  0.5\n",
      "ROC on training set :  0.5\n"
     ]
    }
   ],
   "source": [
    "eval(clf)"
   ]
  },
  {
   "cell_type": "markdown",
   "metadata": {},
   "source": [
    "## LightGBM"
   ]
  },
  {
   "cell_type": "code",
   "execution_count": null,
   "metadata": {},
   "outputs": [],
   "source": []
  },
  {
   "cell_type": "code",
   "execution_count": null,
   "metadata": {},
   "outputs": [],
   "source": []
  },
  {
   "cell_type": "code",
   "execution_count": null,
   "metadata": {},
   "outputs": [],
   "source": []
  },
  {
   "cell_type": "code",
   "execution_count": null,
   "metadata": {},
   "outputs": [],
   "source": []
  },
  {
   "cell_type": "markdown",
   "metadata": {
    "ExecuteTime": {
     "end_time": "2018-10-27T11:56:19.901949Z",
     "start_time": "2018-10-27T11:56:19.898875Z"
    }
   },
   "source": [
    "# alo"
   ]
  },
  {
   "cell_type": "code",
   "execution_count": 221,
   "metadata": {
    "ExecuteTime": {
     "end_time": "2018-10-27T13:58:11.795099Z",
     "start_time": "2018-10-27T13:58:11.792251Z"
    }
   },
   "outputs": [],
   "source": [
    "import matplotlib.pyplot as plt"
   ]
  },
  {
   "cell_type": "code",
   "execution_count": 227,
   "metadata": {
    "ExecuteTime": {
     "end_time": "2018-10-27T13:59:21.931625Z",
     "start_time": "2018-10-27T13:59:04.036570Z"
    }
   },
   "outputs": [
    {
     "name": "stdout",
     "output_type": "stream",
     "text": [
      "(60816, 306) (15204, 306) (75818, 306)\n"
     ]
    },
    {
     "name": "stderr",
     "output_type": "stream",
     "text": [
      "/Users/macbook/miniconda3/envs/dev/lib/python3.6/site-packages/sklearn/ensemble/forest.py:248: FutureWarning: The default value of n_estimators will change from 10 in version 0.20 to 100 in 0.22.\n",
      "  \"10 in version 0.20 to 100 in 0.22.\", FutureWarning)\n"
     ]
    },
    {
     "name": "stdout",
     "output_type": "stream",
     "text": [
      "(60816, 36) (15204, 36) (75818, 36)\n",
      "Roc AUC:  0.8316521354856642\n"
     ]
    },
    {
     "data": {
      "image/png": "[encoded data removed]",
      "text/plain": [
       "<Figure size 864x576 with 1 Axes>"
      ]
     },
     "metadata": {
      "needs_background": "light"
     },
     "output_type": "display_data"
    }
   ],
   "source": [
    "# clean and split data\n",
    "\n",
    "# remove constant columns (std = 0)\n",
    "remove = []\n",
    "for col in train.columns:\n",
    "    if train[col].std() == 0:\n",
    "        remove.append(col)\n",
    "\n",
    "train.drop(remove, axis=1, inplace=True)\n",
    "test.drop(remove, axis=1, inplace=True)\n",
    "\n",
    "# remove duplicated columns\n",
    "remove = []\n",
    "cols = train.columns\n",
    "for i in range(len(cols)-1):\n",
    "    v = train[cols[i]].values\n",
    "    for j in range(i+1,len(cols)):\n",
    "        if np.array_equal(v,train[cols[j]].values):\n",
    "            remove.append(cols[j])\n",
    "\n",
    "train.drop(remove, axis=1, inplace=True)\n",
    "test.drop(remove, axis=1, inplace=True)\n",
    "\n",
    "X = train.drop([\"TARGET\",\"ID\"],axis=1)\n",
    "y = train.TARGET.values\n",
    "\n",
    "X_train, X_test, y_train, y_test = train_test_split(X, y, test_size=0.20, random_state=1729)\n",
    "print(X_train.shape, X_test.shape, test.shape)\n",
    "\n",
    "## # Feature selection\n",
    "clf = ExtraTreesClassifier(random_state=1729)\n",
    "selector = clf.fit(X_train, y_train)\n",
    "\n",
    "# plot most important features\n",
    "feat_imp = pd.Series(clf.feature_importances_, index = X_train.columns.values).sort_values(ascending=False)\n",
    "feat_imp[:40].plot(kind='bar', title='Feature Importances according to ExtraTreesClassifier', figsize=(12, 8))\n",
    "\n",
    "# clf.feature_importances_ \n",
    "fs = SelectFromModel(selector, prefit=True)\n",
    "\n",
    "X_train = fs.transform(X_train)\n",
    "X_test = fs.transform(X_test)\n",
    "test = fs.transform(test)\n",
    "\n",
    "print(X_train.shape, X_test.shape, test.shape)\n",
    "\n",
    "## # Train Model\n",
    "# classifier from xgboost\n",
    "m2_xgb = xgb.XGBClassifier(n_estimators=110, nthread=-1, max_depth = 4, \\\n",
    "seed=1729)\n",
    "m2_xgb.fit(X_train, y_train, eval_metric=\"auc\", verbose = False,\n",
    "           eval_set=[(X_test, y_test)])\n",
    "\n",
    "# calculate the auc score\n",
    "print(\"Roc AUC: \", roc_auc_score(y_test, m2_xgb.predict_proba(X_test)[:,1],\n",
    "              average='macro'))"
   ]
  },
  {
   "cell_type": "code",
   "execution_count": null,
   "metadata": {},
   "outputs": [],
   "source": []
  }
 ],
 "metadata": {
  "kernelspec": {
   "display_name": "Python 3",
   "language": "python",
   "name": "python3"
  },
  "language_info": {
   "codemirror_mode": {
    "name": "ipython",
    "version": 3
   },
   "file_extension": ".py",
   "mimetype": "text/x-python",
   "name": "python",
   "nbconvert_exporter": "python",
   "pygments_lexer": "ipython3",
   "version": "3.6.6"
  },
  "toc": {
   "base_numbering": 1,
   "nav_menu": {},
   "number_sections": true,
   "sideBar": true,
   "skip_h1_title": false,
   "title_cell": "Table of Contents",
   "title_sidebar": "Contents",
   "toc_cell": false,
   "toc_position": {
    "height": "calc(100% - 180px)",
    "left": "10px",
    "top": "150px",
    "width": "288px"
   },
   "toc_section_display": true,
   "toc_window_display": true
  }
 },
 "nbformat": 4,
 "nbformat_minor": 2
}
