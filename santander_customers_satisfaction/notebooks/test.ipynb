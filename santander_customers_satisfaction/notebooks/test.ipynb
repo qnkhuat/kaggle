{
 "cells": [
  {
   "cell_type": "code",
   "execution_count": 1,
   "metadata": {
    "ExecuteTime": {
     "end_time": "2018-10-28T14:07:50.203207Z",
     "start_time": "2018-10-28T14:07:48.708189Z"
    }
   },
   "outputs": [],
   "source": [
    "import os\n",
    "from os.path import join as pjoin\n",
    "\n",
    "import pandas as pd\n",
    "import numpy as np\n",
    "\n",
    "from sklearn.ensemble import RandomForestClassifier as RFC\n",
    "from sklearn.metrics import roc_auc_score\n",
    "import xgboost as xgb\n",
    "\n",
    "\n",
    "from sklearn.model_selection import train_test_split,GridSearchCV\n",
    "from sklearn.metrics import roc_auc_score\n",
    "from sklearn.ensemble import ExtraTreesClassifier\n",
    "from sklearn.decomposition import PCA\n",
    "\n",
    "\n",
    "\n",
    "# feature selection\n",
    "from sklearn.feature_selection import SelectPercentile\n",
    "from sklearn.feature_selection import f_classif,chi2\n",
    "from sklearn.feature_selection import SelectKBest\n",
    "from sklearn.feature_selection import SelectFromModel,RFECV\n",
    "from sklearn.preprocessing import Binarizer, scale,normalize\n",
    "\n",
    "import warnings\n",
    "warnings.filterwarnings('ignore')"
   ]
  },
  {
   "cell_type": "code",
   "execution_count": null,
   "metadata": {},
   "outputs": [],
   "source": []
  },
  {
   "cell_type": "code",
   "execution_count": 8,
   "metadata": {
    "ExecuteTime": {
     "end_time": "2018-10-28T14:08:40.777739Z",
     "start_time": "2018-10-28T14:08:35.092852Z"
    }
   },
   "outputs": [],
   "source": [
    "train = pd.read_csv('../data/train.csv')\n",
    "test = pd.read_csv('../data/test.csv')"
   ]
  },
  {
   "cell_type": "code",
   "execution_count": null,
   "metadata": {},
   "outputs": [],
   "source": []
  },
  {
   "cell_type": "code",
   "execution_count": 3,
   "metadata": {
    "ExecuteTime": {
     "end_time": "2018-10-28T14:08:01.963598Z",
     "start_time": "2018-10-28T14:08:01.958697Z"
    }
   },
   "outputs": [],
   "source": [
    "def split(x,n=None):\n",
    "    if n==None:\n",
    "        n=int(len(x)*.7)\n",
    "    \n",
    "    return x[:n],x[n:]\n",
    "\n",
    "# Provide a place holder for train\n",
    "def split_data(df):\n",
    "    y = df['TARGET'].copy()\n",
    "    x = df.drop('TARGET',axis=1)\n",
    "    global X_train,X_valid,y_train,y_valid\n",
    "    \n",
    "    X_train ,X_valid = split(x)\n",
    "    y_train ,y_valid = split(y)"
   ]
  },
  {
   "cell_type": "code",
   "execution_count": 4,
   "metadata": {
    "ExecuteTime": {
     "end_time": "2018-10-28T14:08:07.957875Z",
     "start_time": "2018-10-28T14:08:07.950523Z"
    }
   },
   "outputs": [],
   "source": [
    "\n",
    "def eval(clf):\n",
    "    train_pred = clf.predict(X_train)\n",
    "    valid_pred = clf.predict(X_valid)\n",
    "    if train_pred.sum()==0:\n",
    "        print(\"All prediciton on train is 0\")\n",
    "        \n",
    "    if valid_pred.sum()==0:\n",
    "        print(\"All prediciton on valid is 0\")\n",
    "    print('ROC on training set : ',roc_auc_score(y_train,train_pred))\n",
    "    print('ROC on valid set : ',roc_auc_score(y_valid,valid_pred))\n",
    "    \n",
    "    "
   ]
  },
  {
   "cell_type": "code",
   "execution_count": 5,
   "metadata": {
    "ExecuteTime": {
     "end_time": "2018-10-28T14:08:13.063528Z",
     "start_time": "2018-10-28T14:08:13.056550Z"
    }
   },
   "outputs": [],
   "source": [
    "def plot_fi(clf,n_top=30):\n",
    "    fi = pd.DataFrame({'cols':X_train.columns,'fi':clf.feature_importances_}).sort_values('fi',ascending=False)\n",
    "    fi.iloc[:n_top].plot(x='cols',y='fi',kind='barh')\n",
    "    return list(fi.cols.values)\n",
    "    "
   ]
  },
  {
   "cell_type": "code",
   "execution_count": 6,
   "metadata": {
    "ExecuteTime": {
     "end_time": "2018-10-28T14:08:17.072426Z",
     "start_time": "2018-10-28T14:08:17.069324Z"
    }
   },
   "outputs": [],
   "source": [
    "def base_model():\n",
    "    clf = RFC(criterion='gini', class_weight='balanced', max_depth=10,random_state=1)\n",
    "    clf.fit(X_train,y_train)\n",
    "    eval(clf)"
   ]
  },
  {
   "cell_type": "code",
   "execution_count": null,
   "metadata": {},
   "outputs": [],
   "source": []
  },
  {
   "cell_type": "code",
   "execution_count": 9,
   "metadata": {
    "ExecuteTime": {
     "end_time": "2018-10-28T14:08:41.674269Z",
     "start_time": "2018-10-28T14:08:40.780051Z"
    }
   },
   "outputs": [
    {
     "name": "stdout",
     "output_type": "stream",
     "text": [
      "146 columns with skewed value\n"
     ]
    }
   ],
   "source": []
  },
  {
   "cell_type": "code",
   "execution_count": null,
   "metadata": {},
   "outputs": [],
   "source": []
  },
  {
   "cell_type": "code",
   "execution_count": 17,
   "metadata": {
    "ExecuteTime": {
     "end_time": "2018-10-28T14:10:23.094393Z",
     "start_time": "2018-10-28T14:10:18.511550Z"
    }
   },
   "outputs": [
    {
     "name": "stdout",
     "output_type": "stream",
     "text": [
      "0 columns with skewed value\n",
      "0 columns with duplicate value\n"
     ]
    },
    {
     "ename": "KeyError",
     "evalue": "\"['ID'] not found in axis\"",
     "output_type": "error",
     "traceback": [
      "\u001b[0;31m---------------------------------------------------------------------------\u001b[0m",
      "\u001b[0;31mKeyError\u001b[0m                                  Traceback (most recent call last)",
      "\u001b[0;32m<ipython-input-17-f5d6d2f5a0a5>\u001b[0m in \u001b[0;36m<module>\u001b[0;34m\u001b[0m\n\u001b[1;32m     28\u001b[0m \u001b[0;34m\u001b[0m\u001b[0m\n\u001b[1;32m     29\u001b[0m \u001b[0;34m\u001b[0m\u001b[0m\n\u001b[0;32m---> 30\u001b[0;31m \u001b[0mtrain\u001b[0m\u001b[0;34m.\u001b[0m\u001b[0mdrop\u001b[0m\u001b[0;34m(\u001b[0m\u001b[0;34m'ID'\u001b[0m\u001b[0;34m,\u001b[0m\u001b[0maxis\u001b[0m\u001b[0;34m=\u001b[0m\u001b[0;36m1\u001b[0m\u001b[0;34m,\u001b[0m\u001b[0minplace\u001b[0m\u001b[0;34m=\u001b[0m\u001b[0;32mTrue\u001b[0m\u001b[0;34m)\u001b[0m\u001b[0;34m\u001b[0m\u001b[0m\n\u001b[0m\u001b[1;32m     31\u001b[0m \u001b[0mtest_id\u001b[0m \u001b[0;34m=\u001b[0m \u001b[0mtest\u001b[0m\u001b[0;34m.\u001b[0m\u001b[0mID\u001b[0m\u001b[0;34m\u001b[0m\u001b[0m\n\u001b[1;32m     32\u001b[0m \u001b[0mtest\u001b[0m\u001b[0;34m.\u001b[0m\u001b[0mdrop\u001b[0m\u001b[0;34m(\u001b[0m\u001b[0;34m'ID'\u001b[0m\u001b[0;34m,\u001b[0m\u001b[0maxis\u001b[0m\u001b[0;34m=\u001b[0m\u001b[0;36m1\u001b[0m\u001b[0;34m,\u001b[0m\u001b[0minplace\u001b[0m\u001b[0;34m=\u001b[0m\u001b[0;32mTrue\u001b[0m\u001b[0;34m)\u001b[0m\u001b[0;34m\u001b[0m\u001b[0m\n",
      "\u001b[0;32m~/miniconda3/envs/dev/lib/python3.6/site-packages/pandas/core/frame.py\u001b[0m in \u001b[0;36mdrop\u001b[0;34m(self, labels, axis, index, columns, level, inplace, errors)\u001b[0m\n\u001b[1;32m   3695\u001b[0m                                            \u001b[0mindex\u001b[0m\u001b[0;34m=\u001b[0m\u001b[0mindex\u001b[0m\u001b[0;34m,\u001b[0m \u001b[0mcolumns\u001b[0m\u001b[0;34m=\u001b[0m\u001b[0mcolumns\u001b[0m\u001b[0;34m,\u001b[0m\u001b[0;34m\u001b[0m\u001b[0m\n\u001b[1;32m   3696\u001b[0m                                            \u001b[0mlevel\u001b[0m\u001b[0;34m=\u001b[0m\u001b[0mlevel\u001b[0m\u001b[0;34m,\u001b[0m \u001b[0minplace\u001b[0m\u001b[0;34m=\u001b[0m\u001b[0minplace\u001b[0m\u001b[0;34m,\u001b[0m\u001b[0;34m\u001b[0m\u001b[0m\n\u001b[0;32m-> 3697\u001b[0;31m                                            errors=errors)\n\u001b[0m\u001b[1;32m   3698\u001b[0m \u001b[0;34m\u001b[0m\u001b[0m\n\u001b[1;32m   3699\u001b[0m     @rewrite_axis_style_signature('mapper', [('copy', True),\n",
      "\u001b[0;32m~/miniconda3/envs/dev/lib/python3.6/site-packages/pandas/core/generic.py\u001b[0m in \u001b[0;36mdrop\u001b[0;34m(self, labels, axis, index, columns, level, inplace, errors)\u001b[0m\n\u001b[1;32m   3109\u001b[0m         \u001b[0;32mfor\u001b[0m \u001b[0maxis\u001b[0m\u001b[0;34m,\u001b[0m \u001b[0mlabels\u001b[0m \u001b[0;32min\u001b[0m \u001b[0maxes\u001b[0m\u001b[0;34m.\u001b[0m\u001b[0mitems\u001b[0m\u001b[0;34m(\u001b[0m\u001b[0;34m)\u001b[0m\u001b[0;34m:\u001b[0m\u001b[0;34m\u001b[0m\u001b[0m\n\u001b[1;32m   3110\u001b[0m             \u001b[0;32mif\u001b[0m \u001b[0mlabels\u001b[0m \u001b[0;32mis\u001b[0m \u001b[0;32mnot\u001b[0m \u001b[0;32mNone\u001b[0m\u001b[0;34m:\u001b[0m\u001b[0;34m\u001b[0m\u001b[0m\n\u001b[0;32m-> 3111\u001b[0;31m                 \u001b[0mobj\u001b[0m \u001b[0;34m=\u001b[0m \u001b[0mobj\u001b[0m\u001b[0;34m.\u001b[0m\u001b[0m_drop_axis\u001b[0m\u001b[0;34m(\u001b[0m\u001b[0mlabels\u001b[0m\u001b[0;34m,\u001b[0m \u001b[0maxis\u001b[0m\u001b[0;34m,\u001b[0m \u001b[0mlevel\u001b[0m\u001b[0;34m=\u001b[0m\u001b[0mlevel\u001b[0m\u001b[0;34m,\u001b[0m \u001b[0merrors\u001b[0m\u001b[0;34m=\u001b[0m\u001b[0merrors\u001b[0m\u001b[0;34m)\u001b[0m\u001b[0;34m\u001b[0m\u001b[0m\n\u001b[0m\u001b[1;32m   3112\u001b[0m \u001b[0;34m\u001b[0m\u001b[0m\n\u001b[1;32m   3113\u001b[0m         \u001b[0;32mif\u001b[0m \u001b[0minplace\u001b[0m\u001b[0;34m:\u001b[0m\u001b[0;34m\u001b[0m\u001b[0m\n",
      "\u001b[0;32m~/miniconda3/envs/dev/lib/python3.6/site-packages/pandas/core/generic.py\u001b[0m in \u001b[0;36m_drop_axis\u001b[0;34m(self, labels, axis, level, errors)\u001b[0m\n\u001b[1;32m   3141\u001b[0m                 \u001b[0mnew_axis\u001b[0m \u001b[0;34m=\u001b[0m \u001b[0maxis\u001b[0m\u001b[0;34m.\u001b[0m\u001b[0mdrop\u001b[0m\u001b[0;34m(\u001b[0m\u001b[0mlabels\u001b[0m\u001b[0;34m,\u001b[0m \u001b[0mlevel\u001b[0m\u001b[0;34m=\u001b[0m\u001b[0mlevel\u001b[0m\u001b[0;34m,\u001b[0m \u001b[0merrors\u001b[0m\u001b[0;34m=\u001b[0m\u001b[0merrors\u001b[0m\u001b[0;34m)\u001b[0m\u001b[0;34m\u001b[0m\u001b[0m\n\u001b[1;32m   3142\u001b[0m             \u001b[0;32melse\u001b[0m\u001b[0;34m:\u001b[0m\u001b[0;34m\u001b[0m\u001b[0m\n\u001b[0;32m-> 3143\u001b[0;31m                 \u001b[0mnew_axis\u001b[0m \u001b[0;34m=\u001b[0m \u001b[0maxis\u001b[0m\u001b[0;34m.\u001b[0m\u001b[0mdrop\u001b[0m\u001b[0;34m(\u001b[0m\u001b[0mlabels\u001b[0m\u001b[0;34m,\u001b[0m \u001b[0merrors\u001b[0m\u001b[0;34m=\u001b[0m\u001b[0merrors\u001b[0m\u001b[0;34m)\u001b[0m\u001b[0;34m\u001b[0m\u001b[0m\n\u001b[0m\u001b[1;32m   3144\u001b[0m             \u001b[0mresult\u001b[0m \u001b[0;34m=\u001b[0m \u001b[0mself\u001b[0m\u001b[0;34m.\u001b[0m\u001b[0mreindex\u001b[0m\u001b[0;34m(\u001b[0m\u001b[0;34m**\u001b[0m\u001b[0;34m{\u001b[0m\u001b[0maxis_name\u001b[0m\u001b[0;34m:\u001b[0m \u001b[0mnew_axis\u001b[0m\u001b[0;34m}\u001b[0m\u001b[0;34m)\u001b[0m\u001b[0;34m\u001b[0m\u001b[0m\n\u001b[1;32m   3145\u001b[0m \u001b[0;34m\u001b[0m\u001b[0m\n",
      "\u001b[0;32m~/miniconda3/envs/dev/lib/python3.6/site-packages/pandas/core/indexes/base.py\u001b[0m in \u001b[0;36mdrop\u001b[0;34m(self, labels, errors)\u001b[0m\n\u001b[1;32m   4402\u001b[0m             \u001b[0;32mif\u001b[0m \u001b[0merrors\u001b[0m \u001b[0;34m!=\u001b[0m \u001b[0;34m'ignore'\u001b[0m\u001b[0;34m:\u001b[0m\u001b[0;34m\u001b[0m\u001b[0m\n\u001b[1;32m   4403\u001b[0m                 raise KeyError(\n\u001b[0;32m-> 4404\u001b[0;31m                     '{} not found in axis'.format(labels[mask]))\n\u001b[0m\u001b[1;32m   4405\u001b[0m             \u001b[0mindexer\u001b[0m \u001b[0;34m=\u001b[0m \u001b[0mindexer\u001b[0m\u001b[0;34m[\u001b[0m\u001b[0;34m~\u001b[0m\u001b[0mmask\u001b[0m\u001b[0;34m]\u001b[0m\u001b[0;34m\u001b[0m\u001b[0m\n\u001b[1;32m   4406\u001b[0m         \u001b[0;32mreturn\u001b[0m \u001b[0mself\u001b[0m\u001b[0;34m.\u001b[0m\u001b[0mdelete\u001b[0m\u001b[0;34m(\u001b[0m\u001b[0mindexer\u001b[0m\u001b[0;34m)\u001b[0m\u001b[0;34m\u001b[0m\u001b[0m\n",
      "\u001b[0;31mKeyError\u001b[0m: \"['ID'] not found in axis\""
     ]
    }
   ],
   "source": [
    "skew_cols = []\n",
    "for col in train.columns:\n",
    "    train_cnt = train[col].value_counts().sort_values(ascending=False)/len(train)\n",
    "    if train_cnt.values[0]>0.999:\n",
    "        skew_cols.append(col)\n",
    "        \n",
    "train.drop(skew_cols,axis=1,inplace=True)        \n",
    "test.drop(skew_cols,axis=1,inplace=True)\n",
    "print(f'{len(skew_cols)} columns with skewed value')\n",
    "\n",
    "##################\n",
    "dup_cols = []\n",
    "for col_1 in train.columns:\n",
    "    v = train[col_1].values\n",
    "    for col_2 in train.columns:\n",
    "        #if col_1 != col_2 and train[col_1].sum() == train[col_2].sum():\n",
    "        if col_1 != col_2:\n",
    "            if np.array_equal(train[col_1],train[col_2]):\n",
    "                dup_cols.append(col_2)\n",
    "\n",
    "##################\n",
    "train.drop(dup_cols,axis=1,inplace=True)\n",
    "test.drop(dup_cols,axis=1,inplace=True)\n",
    "\n",
    "print(f'{len(dup_cols)} columns with duplicate value')\n",
    "\n",
    "##################\n",
    "train['var3'].replace(-999999,0, inplace=True)\n",
    "test['var3'].replace(-999999,0, inplace=True)\n",
    "\n",
    "##################\n",
    "train.drop('ID',axis=1,inplace=True)\n",
    "test_id = test.ID\n",
    "test.drop('ID',axis=1,inplace=True)"
   ]
  },
  {
   "cell_type": "code",
   "execution_count": 11,
   "metadata": {
    "ExecuteTime": {
     "end_time": "2018-10-28T14:08:50.551756Z",
     "start_time": "2018-10-28T14:08:50.543997Z"
    }
   },
   "outputs": [],
   "source": []
  },
  {
   "cell_type": "code",
   "execution_count": 12,
   "metadata": {
    "ExecuteTime": {
     "end_time": "2018-10-28T14:08:50.739128Z",
     "start_time": "2018-10-28T14:08:50.668072Z"
    }
   },
   "outputs": [],
   "source": []
  },
  {
   "cell_type": "code",
   "execution_count": 13,
   "metadata": {
    "ExecuteTime": {
     "end_time": "2018-10-28T14:08:57.962429Z",
     "start_time": "2018-10-28T14:08:56.951397Z"
    }
   },
   "outputs": [
    {
     "name": "stdout",
     "output_type": "stream",
     "text": [
      "[0.11167207 0.08418294 0.0609069 ]\n"
     ]
    }
   ],
   "source": [
    "pca = PCA(n_components=3)\n",
    "x_train_projected = pca.fit_transform(normalize(train.drop('TARGET',axis=1), axis=0))\n",
    "x_test_projected = pca.transform(normalize(test, axis=0))\n",
    "print(pca.explained_variance_ratio_)\n",
    "train.insert(1, 'PCA1', x_train_projected[:, 0])\n",
    "train.insert(1, 'PCA2', x_train_projected[:, 1])\n",
    "train.insert(1, 'PCA3', x_train_projected[:, 2])\n",
    "\n",
    "test.insert(1, 'PCA1', x_test_projected[:, 0])\n",
    "test.insert(1, 'PCA2', x_test_projected[:, 1])\n",
    "test.insert(1, 'PCA3', x_test_projected[:, 2])\n",
    "\n"
   ]
  },
  {
   "cell_type": "code",
   "execution_count": null,
   "metadata": {},
   "outputs": [],
   "source": []
  },
  {
   "cell_type": "code",
   "execution_count": 14,
   "metadata": {
    "ExecuteTime": {
     "end_time": "2018-10-28T14:09:13.583942Z",
     "start_time": "2018-10-28T14:09:13.497837Z"
    }
   },
   "outputs": [],
   "source": [
    "split_data(train)"
   ]
  },
  {
   "cell_type": "code",
   "execution_count": 15,
   "metadata": {
    "ExecuteTime": {
     "end_time": "2018-10-28T14:09:19.791494Z",
     "start_time": "2018-10-28T14:09:19.788193Z"
    }
   },
   "outputs": [],
   "source": [
    "# classifier\n",
    "clf = xgb.XGBClassifier(missing=np.nan, max_depth=5, n_estimators=350, \n",
    "                        learning_rate=0.03, nthread=4, subsample=0.95, \n",
    "                        colsample_bytree=0.85, seed=4242)\n",
    "\n"
   ]
  },
  {
   "cell_type": "code",
   "execution_count": 16,
   "metadata": {
    "ExecuteTime": {
     "end_time": "2018-10-28T14:10:18.508441Z",
     "start_time": "2018-10-28T14:09:24.584271Z"
    },
    "scrolled": true
   },
   "outputs": [
    {
     "name": "stdout",
     "output_type": "stream",
     "text": [
      "[0]\tvalidation_0-auc:0.779954\n",
      "Will train until validation_0-auc hasn't improved in 20 rounds.\n",
      "[1]\tvalidation_0-auc:0.814072\n",
      "[2]\tvalidation_0-auc:0.824869\n",
      "[3]\tvalidation_0-auc:0.821514\n",
      "[4]\tvalidation_0-auc:0.828019\n",
      "[5]\tvalidation_0-auc:0.83093\n",
      "[6]\tvalidation_0-auc:0.831745\n",
      "[7]\tvalidation_0-auc:0.829176\n",
      "[8]\tvalidation_0-auc:0.831217\n",
      "[9]\tvalidation_0-auc:0.832172\n",
      "[10]\tvalidation_0-auc:0.833506\n",
      "[11]\tvalidation_0-auc:0.833584\n",
      "[12]\tvalidation_0-auc:0.833731\n",
      "[13]\tvalidation_0-auc:0.83452\n",
      "[14]\tvalidation_0-auc:0.834913\n",
      "[15]\tvalidation_0-auc:0.835423\n",
      "[16]\tvalidation_0-auc:0.835702\n",
      "[17]\tvalidation_0-auc:0.835924\n",
      "[18]\tvalidation_0-auc:0.835827\n",
      "[19]\tvalidation_0-auc:0.836253\n",
      "[20]\tvalidation_0-auc:0.837041\n",
      "[21]\tvalidation_0-auc:0.837081\n",
      "[22]\tvalidation_0-auc:0.837896\n",
      "[23]\tvalidation_0-auc:0.837912\n",
      "[24]\tvalidation_0-auc:0.838\n",
      "[25]\tvalidation_0-auc:0.838513\n",
      "[26]\tvalidation_0-auc:0.83849\n",
      "[27]\tvalidation_0-auc:0.838247\n",
      "[28]\tvalidation_0-auc:0.838543\n",
      "[29]\tvalidation_0-auc:0.838763\n",
      "[30]\tvalidation_0-auc:0.838675\n",
      "[31]\tvalidation_0-auc:0.838775\n",
      "[32]\tvalidation_0-auc:0.839668\n",
      "[33]\tvalidation_0-auc:0.839837\n",
      "[34]\tvalidation_0-auc:0.840371\n",
      "[35]\tvalidation_0-auc:0.840301\n",
      "[36]\tvalidation_0-auc:0.840328\n",
      "[37]\tvalidation_0-auc:0.840255\n",
      "[38]\tvalidation_0-auc:0.840374\n",
      "[39]\tvalidation_0-auc:0.840387\n",
      "[40]\tvalidation_0-auc:0.840318\n",
      "[41]\tvalidation_0-auc:0.840368\n",
      "[42]\tvalidation_0-auc:0.840541\n",
      "[43]\tvalidation_0-auc:0.841131\n",
      "[44]\tvalidation_0-auc:0.841117\n",
      "[45]\tvalidation_0-auc:0.841041\n",
      "[46]\tvalidation_0-auc:0.841036\n",
      "[47]\tvalidation_0-auc:0.841193\n",
      "[48]\tvalidation_0-auc:0.841201\n",
      "[49]\tvalidation_0-auc:0.841164\n",
      "[50]\tvalidation_0-auc:0.841723\n",
      "[51]\tvalidation_0-auc:0.841922\n",
      "[52]\tvalidation_0-auc:0.842168\n",
      "[53]\tvalidation_0-auc:0.842341\n",
      "[54]\tvalidation_0-auc:0.842319\n",
      "[55]\tvalidation_0-auc:0.842462\n",
      "[56]\tvalidation_0-auc:0.842589\n",
      "[57]\tvalidation_0-auc:0.842685\n",
      "[58]\tvalidation_0-auc:0.842759\n",
      "[59]\tvalidation_0-auc:0.842846\n",
      "[60]\tvalidation_0-auc:0.842981\n",
      "[61]\tvalidation_0-auc:0.842978\n",
      "[62]\tvalidation_0-auc:0.843068\n",
      "[63]\tvalidation_0-auc:0.843117\n",
      "[64]\tvalidation_0-auc:0.843343\n",
      "[65]\tvalidation_0-auc:0.84372\n",
      "[66]\tvalidation_0-auc:0.843468\n",
      "[67]\tvalidation_0-auc:0.843433\n",
      "[68]\tvalidation_0-auc:0.843431\n",
      "[69]\tvalidation_0-auc:0.843825\n",
      "[70]\tvalidation_0-auc:0.843847\n",
      "[71]\tvalidation_0-auc:0.843821\n",
      "[72]\tvalidation_0-auc:0.843836\n",
      "[73]\tvalidation_0-auc:0.843812\n",
      "[74]\tvalidation_0-auc:0.844118\n",
      "[75]\tvalidation_0-auc:0.843927\n",
      "[76]\tvalidation_0-auc:0.844097\n",
      "[77]\tvalidation_0-auc:0.844265\n",
      "[78]\tvalidation_0-auc:0.844549\n",
      "[79]\tvalidation_0-auc:0.844679\n",
      "[80]\tvalidation_0-auc:0.844872\n",
      "[81]\tvalidation_0-auc:0.844814\n",
      "[82]\tvalidation_0-auc:0.844715\n",
      "[83]\tvalidation_0-auc:0.84486\n",
      "[84]\tvalidation_0-auc:0.844944\n",
      "[85]\tvalidation_0-auc:0.844985\n",
      "[86]\tvalidation_0-auc:0.844917\n",
      "[87]\tvalidation_0-auc:0.844924\n",
      "[88]\tvalidation_0-auc:0.844945\n",
      "[89]\tvalidation_0-auc:0.844987\n",
      "[90]\tvalidation_0-auc:0.844953\n",
      "[91]\tvalidation_0-auc:0.84499\n",
      "[92]\tvalidation_0-auc:0.845105\n",
      "[93]\tvalidation_0-auc:0.845138\n",
      "[94]\tvalidation_0-auc:0.845274\n",
      "[95]\tvalidation_0-auc:0.84538\n",
      "[96]\tvalidation_0-auc:0.845319\n",
      "[97]\tvalidation_0-auc:0.845348\n",
      "[98]\tvalidation_0-auc:0.845374\n",
      "[99]\tvalidation_0-auc:0.845377\n",
      "[100]\tvalidation_0-auc:0.845458\n",
      "[101]\tvalidation_0-auc:0.845487\n",
      "[102]\tvalidation_0-auc:0.845575\n",
      "[103]\tvalidation_0-auc:0.84566\n",
      "[104]\tvalidation_0-auc:0.845811\n",
      "[105]\tvalidation_0-auc:0.845861\n",
      "[106]\tvalidation_0-auc:0.845829\n",
      "[107]\tvalidation_0-auc:0.84594\n",
      "[108]\tvalidation_0-auc:0.845934\n",
      "[109]\tvalidation_0-auc:0.846021\n",
      "[110]\tvalidation_0-auc:0.845966\n",
      "[111]\tvalidation_0-auc:0.846111\n",
      "[112]\tvalidation_0-auc:0.846147\n",
      "[113]\tvalidation_0-auc:0.846141\n",
      "[114]\tvalidation_0-auc:0.846102\n",
      "[115]\tvalidation_0-auc:0.846084\n",
      "[116]\tvalidation_0-auc:0.846076\n",
      "[117]\tvalidation_0-auc:0.846123\n",
      "[118]\tvalidation_0-auc:0.846228\n",
      "[119]\tvalidation_0-auc:0.84626\n",
      "[120]\tvalidation_0-auc:0.846297\n",
      "[121]\tvalidation_0-auc:0.846436\n",
      "[122]\tvalidation_0-auc:0.8464\n",
      "[123]\tvalidation_0-auc:0.846397\n",
      "[124]\tvalidation_0-auc:0.846436\n",
      "[125]\tvalidation_0-auc:0.846432\n",
      "[126]\tvalidation_0-auc:0.846398\n",
      "[127]\tvalidation_0-auc:0.8465\n",
      "[128]\tvalidation_0-auc:0.846434\n",
      "[129]\tvalidation_0-auc:0.846422\n",
      "[130]\tvalidation_0-auc:0.846307\n",
      "[131]\tvalidation_0-auc:0.846417\n",
      "[132]\tvalidation_0-auc:0.84637\n",
      "[133]\tvalidation_0-auc:0.846346\n",
      "[134]\tvalidation_0-auc:0.846361\n",
      "[135]\tvalidation_0-auc:0.846237\n",
      "[136]\tvalidation_0-auc:0.846229\n",
      "[137]\tvalidation_0-auc:0.846154\n",
      "[138]\tvalidation_0-auc:0.846108\n",
      "[139]\tvalidation_0-auc:0.846146\n",
      "[140]\tvalidation_0-auc:0.846195\n",
      "[141]\tvalidation_0-auc:0.846158\n",
      "[142]\tvalidation_0-auc:0.846143\n",
      "[143]\tvalidation_0-auc:0.846137\n",
      "[144]\tvalidation_0-auc:0.846189\n",
      "[145]\tvalidation_0-auc:0.846097\n",
      "[146]\tvalidation_0-auc:0.846143\n",
      "[147]\tvalidation_0-auc:0.846149\n",
      "Stopping. Best iteration:\n",
      "[127]\tvalidation_0-auc:0.8465\n",
      "\n"
     ]
    },
    {
     "data": {
      "text/plain": [
       "XGBClassifier(base_score=0.5, booster='gbtree', colsample_bylevel=1,\n",
       "       colsample_bytree=0.85, gamma=0, learning_rate=0.03,\n",
       "       max_delta_step=0, max_depth=5, min_child_weight=1, missing=None,\n",
       "       n_estimators=350, n_jobs=1, nthread=4, objective='binary:logistic',\n",
       "       random_state=0, reg_alpha=0, reg_lambda=1, scale_pos_weight=1,\n",
       "       seed=4242, silent=True, subsample=0.95)"
      ]
     },
     "execution_count": 16,
     "metadata": {},
     "output_type": "execute_result"
    }
   ],
   "source": [
    "clf.fit(X_train,y_train,early_stopping_rounds=20, eval_metric=\"auc\",eval_set=[(X_valid,y_valid)])"
   ]
  },
  {
   "cell_type": "code",
   "execution_count": 24,
   "metadata": {
    "ExecuteTime": {
     "end_time": "2018-10-28T14:11:03.545446Z",
     "start_time": "2018-10-28T14:11:02.780144Z"
    }
   },
   "outputs": [
    {
     "data": {
      "text/plain": [
       "3"
      ]
     },
     "execution_count": 24,
     "metadata": {},
     "output_type": "execute_result"
    }
   ],
   "source": [
    "clf.predict(test).sum()"
   ]
  },
  {
   "cell_type": "code",
   "execution_count": null,
   "metadata": {},
   "outputs": [],
   "source": []
  },
  {
   "cell_type": "code",
   "execution_count": null,
   "metadata": {},
   "outputs": [],
   "source": []
  },
  {
   "cell_type": "code",
   "execution_count": null,
   "metadata": {},
   "outputs": [],
   "source": []
  }
 ],
 "metadata": {
  "kernelspec": {
   "display_name": "Python 3",
   "language": "python",
   "name": "python3"
  },
  "language_info": {
   "codemirror_mode": {
    "name": "ipython",
    "version": 3
   },
   "file_extension": ".py",
   "mimetype": "text/x-python",
   "name": "python",
   "nbconvert_exporter": "python",
   "pygments_lexer": "ipython3",
   "version": "3.6.6"
  },
  "toc": {
   "base_numbering": 1,
   "nav_menu": {},
   "number_sections": true,
   "sideBar": true,
   "skip_h1_title": false,
   "title_cell": "Table of Contents",
   "title_sidebar": "Contents",
   "toc_cell": false,
   "toc_position": {},
   "toc_section_display": true,
   "toc_window_display": false
  }
 },
 "nbformat": 4,
 "nbformat_minor": 2
}
