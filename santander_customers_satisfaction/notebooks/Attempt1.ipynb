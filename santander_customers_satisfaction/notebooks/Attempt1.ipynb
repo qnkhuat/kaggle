{
 "cells": [
  {
   "cell_type": "markdown",
   "metadata": {},
   "source": [
    "# Imports & Load data\n",
    "\n"
   ]
  },
  {
   "cell_type": "code",
   "execution_count": 1,
   "metadata": {
    "ExecuteTime": {
     "end_time": "2018-10-30T02:11:10.141584Z",
     "start_time": "2018-10-30T02:11:08.327702Z"
    }
   },
   "outputs": [],
   "source": [
    "import os\n",
    "from os.path import join as pjoin\n",
    "\n",
    "import pandas as pd\n",
    "import numpy as np\n",
    "\n",
    "from sklearn.ensemble import RandomForestClassifier as RFC\n",
    "from sklearn.metrics import roc_auc_score\n",
    "import xgboost as xgb"
   ]
  },
  {
   "cell_type": "code",
   "execution_count": 2,
   "metadata": {
    "ExecuteTime": {
     "end_time": "2018-10-30T02:11:10.216429Z",
     "start_time": "2018-10-30T02:11:10.143772Z"
    }
   },
   "outputs": [],
   "source": [
    "from sklearn.model_selection import train_test_split,GridSearchCV\n",
    "from sklearn.metrics import roc_auc_score\n",
    "from sklearn.ensemble import ExtraTreesClassifier\n",
    "from sklearn.decomposition import PCA\n"
   ]
  },
  {
   "cell_type": "code",
   "execution_count": 3,
   "metadata": {
    "ExecuteTime": {
     "end_time": "2018-10-30T02:11:10.222524Z",
     "start_time": "2018-10-30T02:11:10.218745Z"
    }
   },
   "outputs": [],
   "source": [
    "# feature selection\n",
    "from sklearn.feature_selection import SelectPercentile\n",
    "from sklearn.feature_selection import f_classif,chi2\n",
    "from sklearn.feature_selection import SelectKBest\n",
    "from sklearn.feature_selection import SelectFromModel,RFECV\n",
    "from sklearn.preprocessing import Binarizer, scale,normalize"
   ]
  },
  {
   "cell_type": "code",
   "execution_count": 4,
   "metadata": {
    "ExecuteTime": {
     "end_time": "2018-10-30T02:11:10.228285Z",
     "start_time": "2018-10-30T02:11:10.225021Z"
    }
   },
   "outputs": [],
   "source": [
    "import warnings\n",
    "warnings.filterwarnings('ignore')"
   ]
  },
  {
   "cell_type": "code",
   "execution_count": 38,
   "metadata": {
    "ExecuteTime": {
     "end_time": "2018-10-30T02:13:10.247293Z",
     "start_time": "2018-10-30T02:13:10.244037Z"
    }
   },
   "outputs": [],
   "source": [
    "import matplotlib.pyplot as plt\n",
    "plt.rcParams['figure.figsize'] = (15,8)"
   ]
  },
  {
   "cell_type": "code",
   "execution_count": 59,
   "metadata": {
    "ExecuteTime": {
     "end_time": "2018-10-30T03:34:06.144466Z",
     "start_time": "2018-10-30T03:34:03.235446Z"
    }
   },
   "outputs": [],
   "source": [
    "train = pd.read_csv('../data/train.csv')"
   ]
  },
  {
   "cell_type": "code",
   "execution_count": 60,
   "metadata": {
    "ExecuteTime": {
     "end_time": "2018-10-30T03:34:08.904840Z",
     "start_time": "2018-10-30T03:34:06.146365Z"
    }
   },
   "outputs": [],
   "source": [
    "test = pd.read_csv('../data/test.csv')"
   ]
  },
  {
   "cell_type": "markdown",
   "metadata": {
    "ExecuteTime": {
     "end_time": "2018-10-27T11:53:17.497786Z",
     "start_time": "2018-10-27T11:53:17.494801Z"
    }
   },
   "source": [
    "# Helper functions"
   ]
  },
  {
   "cell_type": "code",
   "execution_count": 61,
   "metadata": {
    "ExecuteTime": {
     "end_time": "2018-10-30T03:34:08.911819Z",
     "start_time": "2018-10-30T03:34:08.906834Z"
    }
   },
   "outputs": [],
   "source": [
    "def split(x,n=None):\n",
    "    if n==None:\n",
    "        n=int(len(x)*.7)\n",
    "    \n",
    "    return x[:n],x[n:]\n",
    "\n",
    "# Provide a place holder for train\n",
    "def split_data(df):\n",
    "    y = df['TARGET'].copy()\n",
    "    x = df.drop('TARGET',axis=1)\n",
    "    global X_train,X_valid,y_train,y_valid\n",
    "    \n",
    "    X_train ,X_valid = split(x)\n",
    "    y_train ,y_valid = split(y)"
   ]
  },
  {
   "cell_type": "code",
   "execution_count": 62,
   "metadata": {
    "ExecuteTime": {
     "end_time": "2018-10-30T03:34:08.918118Z",
     "start_time": "2018-10-30T03:34:08.914028Z"
    }
   },
   "outputs": [],
   "source": [
    "\n",
    "def eval(clf):\n",
    "    train_pred = clf.predict_proba(X_train)[:,1]\n",
    "    valid_pred = clf.predict_proba(X_valid)[:,1]\n",
    "    if train_pred.sum()==0:\n",
    "        print(\"All prediciton on train is 0\")\n",
    "        \n",
    "    if valid_pred.sum()==0:\n",
    "        print(\"All prediciton on valid is 0\")\n",
    "    print('ROC on training set : ',roc_auc_score(y_train,train_pred))\n",
    "    print('ROC on valid set : ',roc_auc_score(y_valid,valid_pred))\n",
    "    \n",
    "    "
   ]
  },
  {
   "cell_type": "code",
   "execution_count": 63,
   "metadata": {
    "ExecuteTime": {
     "end_time": "2018-10-30T03:34:08.924259Z",
     "start_time": "2018-10-30T03:34:08.920500Z"
    }
   },
   "outputs": [],
   "source": [
    "def plot_fi(clf,n_top=30):\n",
    "    fi = pd.DataFrame({'cols':X_train.columns,'fi':clf.feature_importances_}).sort_values('fi',ascending=False)\n",
    "    fi.iloc[:n_top].plot(x='cols',y='fi',kind='barh')\n",
    "    return list(fi.cols.values)\n",
    "    "
   ]
  },
  {
   "cell_type": "code",
   "execution_count": 64,
   "metadata": {
    "ExecuteTime": {
     "end_time": "2018-10-30T03:34:08.930809Z",
     "start_time": "2018-10-30T03:34:08.927653Z"
    }
   },
   "outputs": [],
   "source": [
    "def base_model():\n",
    "    clf = RFC(criterion='gini', class_weight='balanced', max_depth=10,random_state=1)\n",
    "    clf.fit(X_train,y_train)\n",
    "    eval(clf)"
   ]
  },
  {
   "cell_type": "markdown",
   "metadata": {
    "ExecuteTime": {
     "end_time": "2018-10-28T02:08:21.287223Z",
     "start_time": "2018-10-28T02:08:21.284439Z"
    }
   },
   "source": [
    "# Data walkthrough"
   ]
  },
  {
   "cell_type": "code",
   "execution_count": 65,
   "metadata": {
    "ExecuteTime": {
     "end_time": "2018-10-30T03:34:08.957580Z",
     "start_time": "2018-10-30T03:34:08.933251Z"
    }
   },
   "outputs": [
    {
     "data": {
      "text/html": [
       "<div>\n",
       "<style scoped>\n",
       "    .dataframe tbody tr th:only-of-type {\n",
       "        vertical-align: middle;\n",
       "    }\n",
       "\n",
       "    .dataframe tbody tr th {\n",
       "        vertical-align: top;\n",
       "    }\n",
       "\n",
       "    .dataframe thead th {\n",
       "        text-align: right;\n",
       "    }\n",
       "</style>\n",
       "<table border=\"1\" class=\"dataframe\">\n",
       "  <thead>\n",
       "    <tr style=\"text-align: right;\">\n",
       "      <th></th>\n",
       "      <th>ID</th>\n",
       "      <th>var3</th>\n",
       "      <th>var15</th>\n",
       "      <th>imp_ent_var16_ult1</th>\n",
       "      <th>imp_op_var39_comer_ult1</th>\n",
       "      <th>imp_op_var39_comer_ult3</th>\n",
       "      <th>imp_op_var40_comer_ult1</th>\n",
       "      <th>imp_op_var40_comer_ult3</th>\n",
       "      <th>imp_op_var40_efect_ult1</th>\n",
       "      <th>imp_op_var40_efect_ult3</th>\n",
       "      <th>...</th>\n",
       "      <th>saldo_medio_var33_hace2</th>\n",
       "      <th>saldo_medio_var33_hace3</th>\n",
       "      <th>saldo_medio_var33_ult1</th>\n",
       "      <th>saldo_medio_var33_ult3</th>\n",
       "      <th>saldo_medio_var44_hace2</th>\n",
       "      <th>saldo_medio_var44_hace3</th>\n",
       "      <th>saldo_medio_var44_ult1</th>\n",
       "      <th>saldo_medio_var44_ult3</th>\n",
       "      <th>var38</th>\n",
       "      <th>TARGET</th>\n",
       "    </tr>\n",
       "  </thead>\n",
       "  <tbody>\n",
       "    <tr>\n",
       "      <th>0</th>\n",
       "      <td>1</td>\n",
       "      <td>2</td>\n",
       "      <td>23</td>\n",
       "      <td>0.0</td>\n",
       "      <td>0.0</td>\n",
       "      <td>0.0</td>\n",
       "      <td>0.0</td>\n",
       "      <td>0.0</td>\n",
       "      <td>0.0</td>\n",
       "      <td>0.0</td>\n",
       "      <td>...</td>\n",
       "      <td>0.0</td>\n",
       "      <td>0.0</td>\n",
       "      <td>0.0</td>\n",
       "      <td>0.0</td>\n",
       "      <td>0.0</td>\n",
       "      <td>0.0</td>\n",
       "      <td>0.0</td>\n",
       "      <td>0.0</td>\n",
       "      <td>39205.170000</td>\n",
       "      <td>0</td>\n",
       "    </tr>\n",
       "    <tr>\n",
       "      <th>1</th>\n",
       "      <td>3</td>\n",
       "      <td>2</td>\n",
       "      <td>34</td>\n",
       "      <td>0.0</td>\n",
       "      <td>0.0</td>\n",
       "      <td>0.0</td>\n",
       "      <td>0.0</td>\n",
       "      <td>0.0</td>\n",
       "      <td>0.0</td>\n",
       "      <td>0.0</td>\n",
       "      <td>...</td>\n",
       "      <td>0.0</td>\n",
       "      <td>0.0</td>\n",
       "      <td>0.0</td>\n",
       "      <td>0.0</td>\n",
       "      <td>0.0</td>\n",
       "      <td>0.0</td>\n",
       "      <td>0.0</td>\n",
       "      <td>0.0</td>\n",
       "      <td>49278.030000</td>\n",
       "      <td>0</td>\n",
       "    </tr>\n",
       "    <tr>\n",
       "      <th>2</th>\n",
       "      <td>4</td>\n",
       "      <td>2</td>\n",
       "      <td>23</td>\n",
       "      <td>0.0</td>\n",
       "      <td>0.0</td>\n",
       "      <td>0.0</td>\n",
       "      <td>0.0</td>\n",
       "      <td>0.0</td>\n",
       "      <td>0.0</td>\n",
       "      <td>0.0</td>\n",
       "      <td>...</td>\n",
       "      <td>0.0</td>\n",
       "      <td>0.0</td>\n",
       "      <td>0.0</td>\n",
       "      <td>0.0</td>\n",
       "      <td>0.0</td>\n",
       "      <td>0.0</td>\n",
       "      <td>0.0</td>\n",
       "      <td>0.0</td>\n",
       "      <td>67333.770000</td>\n",
       "      <td>0</td>\n",
       "    </tr>\n",
       "    <tr>\n",
       "      <th>3</th>\n",
       "      <td>8</td>\n",
       "      <td>2</td>\n",
       "      <td>37</td>\n",
       "      <td>0.0</td>\n",
       "      <td>195.0</td>\n",
       "      <td>195.0</td>\n",
       "      <td>0.0</td>\n",
       "      <td>0.0</td>\n",
       "      <td>0.0</td>\n",
       "      <td>0.0</td>\n",
       "      <td>...</td>\n",
       "      <td>0.0</td>\n",
       "      <td>0.0</td>\n",
       "      <td>0.0</td>\n",
       "      <td>0.0</td>\n",
       "      <td>0.0</td>\n",
       "      <td>0.0</td>\n",
       "      <td>0.0</td>\n",
       "      <td>0.0</td>\n",
       "      <td>64007.970000</td>\n",
       "      <td>0</td>\n",
       "    </tr>\n",
       "    <tr>\n",
       "      <th>4</th>\n",
       "      <td>10</td>\n",
       "      <td>2</td>\n",
       "      <td>39</td>\n",
       "      <td>0.0</td>\n",
       "      <td>0.0</td>\n",
       "      <td>0.0</td>\n",
       "      <td>0.0</td>\n",
       "      <td>0.0</td>\n",
       "      <td>0.0</td>\n",
       "      <td>0.0</td>\n",
       "      <td>...</td>\n",
       "      <td>0.0</td>\n",
       "      <td>0.0</td>\n",
       "      <td>0.0</td>\n",
       "      <td>0.0</td>\n",
       "      <td>0.0</td>\n",
       "      <td>0.0</td>\n",
       "      <td>0.0</td>\n",
       "      <td>0.0</td>\n",
       "      <td>117310.979016</td>\n",
       "      <td>0</td>\n",
       "    </tr>\n",
       "  </tbody>\n",
       "</table>\n",
       "<p>5 rows × 371 columns</p>\n",
       "</div>"
      ],
      "text/plain": [
       "   ID  var3  var15  imp_ent_var16_ult1  imp_op_var39_comer_ult1  \\\n",
       "0   1     2     23                 0.0                      0.0   \n",
       "1   3     2     34                 0.0                      0.0   \n",
       "2   4     2     23                 0.0                      0.0   \n",
       "3   8     2     37                 0.0                    195.0   \n",
       "4  10     2     39                 0.0                      0.0   \n",
       "\n",
       "   imp_op_var39_comer_ult3  imp_op_var40_comer_ult1  imp_op_var40_comer_ult3  \\\n",
       "0                      0.0                      0.0                      0.0   \n",
       "1                      0.0                      0.0                      0.0   \n",
       "2                      0.0                      0.0                      0.0   \n",
       "3                    195.0                      0.0                      0.0   \n",
       "4                      0.0                      0.0                      0.0   \n",
       "\n",
       "   imp_op_var40_efect_ult1  imp_op_var40_efect_ult3   ...    \\\n",
       "0                      0.0                      0.0   ...     \n",
       "1                      0.0                      0.0   ...     \n",
       "2                      0.0                      0.0   ...     \n",
       "3                      0.0                      0.0   ...     \n",
       "4                      0.0                      0.0   ...     \n",
       "\n",
       "   saldo_medio_var33_hace2  saldo_medio_var33_hace3  saldo_medio_var33_ult1  \\\n",
       "0                      0.0                      0.0                     0.0   \n",
       "1                      0.0                      0.0                     0.0   \n",
       "2                      0.0                      0.0                     0.0   \n",
       "3                      0.0                      0.0                     0.0   \n",
       "4                      0.0                      0.0                     0.0   \n",
       "\n",
       "   saldo_medio_var33_ult3  saldo_medio_var44_hace2  saldo_medio_var44_hace3  \\\n",
       "0                     0.0                      0.0                      0.0   \n",
       "1                     0.0                      0.0                      0.0   \n",
       "2                     0.0                      0.0                      0.0   \n",
       "3                     0.0                      0.0                      0.0   \n",
       "4                     0.0                      0.0                      0.0   \n",
       "\n",
       "   saldo_medio_var44_ult1  saldo_medio_var44_ult3          var38  TARGET  \n",
       "0                     0.0                     0.0   39205.170000       0  \n",
       "1                     0.0                     0.0   49278.030000       0  \n",
       "2                     0.0                     0.0   67333.770000       0  \n",
       "3                     0.0                     0.0   64007.970000       0  \n",
       "4                     0.0                     0.0  117310.979016       0  \n",
       "\n",
       "[5 rows x 371 columns]"
      ]
     },
     "execution_count": 65,
     "metadata": {},
     "output_type": "execute_result"
    }
   ],
   "source": [
    "train.head()"
   ]
  },
  {
   "cell_type": "code",
   "execution_count": 66,
   "metadata": {
    "ExecuteTime": {
     "end_time": "2018-10-30T03:34:08.964926Z",
     "start_time": "2018-10-30T03:34:08.960624Z"
    }
   },
   "outputs": [
    {
     "data": {
      "text/plain": [
       "(76020, 371)"
      ]
     },
     "execution_count": 66,
     "metadata": {},
     "output_type": "execute_result"
    }
   ],
   "source": [
    "train.shape"
   ]
  },
  {
   "cell_type": "code",
   "execution_count": 67,
   "metadata": {
    "ExecuteTime": {
     "end_time": "2018-10-30T03:34:08.972125Z",
     "start_time": "2018-10-30T03:34:08.967834Z"
    },
    "scrolled": true
   },
   "outputs": [
    {
     "data": {
      "text/plain": [
       "Index(['ID', 'var3', 'var15', 'imp_ent_var16_ult1', 'imp_op_var39_comer_ult1',\n",
       "       'imp_op_var39_comer_ult3', 'imp_op_var40_comer_ult1',\n",
       "       'imp_op_var40_comer_ult3', 'imp_op_var40_efect_ult1',\n",
       "       'imp_op_var40_efect_ult3',\n",
       "       ...\n",
       "       'saldo_medio_var33_hace2', 'saldo_medio_var33_hace3',\n",
       "       'saldo_medio_var33_ult1', 'saldo_medio_var33_ult3',\n",
       "       'saldo_medio_var44_hace2', 'saldo_medio_var44_hace3',\n",
       "       'saldo_medio_var44_ult1', 'saldo_medio_var44_ult3', 'var38', 'TARGET'],\n",
       "      dtype='object', length=371)"
      ]
     },
     "execution_count": 67,
     "metadata": {},
     "output_type": "execute_result"
    }
   ],
   "source": [
    "train.columns"
   ]
  },
  {
   "cell_type": "code",
   "execution_count": 68,
   "metadata": {
    "ExecuteTime": {
     "end_time": "2018-10-30T03:34:09.409935Z",
     "start_time": "2018-10-30T03:34:08.975067Z"
    },
    "scrolled": true
   },
   "outputs": [
    {
     "data": {
      "text/plain": [
       "ID                               0\n",
       "var3                             0\n",
       "var15                            0\n",
       "imp_ent_var16_ult1               0\n",
       "imp_op_var39_comer_ult1          0\n",
       "imp_op_var39_comer_ult3          0\n",
       "imp_op_var40_comer_ult1          0\n",
       "imp_op_var40_comer_ult3          0\n",
       "imp_op_var40_efect_ult1          0\n",
       "imp_op_var40_efect_ult3          0\n",
       "imp_op_var40_ult1                0\n",
       "imp_op_var41_comer_ult1          0\n",
       "imp_op_var41_comer_ult3          0\n",
       "imp_op_var41_efect_ult1          0\n",
       "imp_op_var41_efect_ult3          0\n",
       "imp_op_var41_ult1                0\n",
       "imp_op_var39_efect_ult1          0\n",
       "imp_op_var39_efect_ult3          0\n",
       "imp_op_var39_ult1                0\n",
       "imp_sal_var16_ult1               0\n",
       "ind_var1_0                       0\n",
       "ind_var1                         0\n",
       "ind_var2_0                       0\n",
       "ind_var2                         0\n",
       "ind_var5_0                       0\n",
       "ind_var5                         0\n",
       "ind_var6_0                       0\n",
       "ind_var6                         0\n",
       "ind_var8_0                       0\n",
       "ind_var8                         0\n",
       "                                ..\n",
       "saldo_medio_var13_corto_hace2    0\n",
       "saldo_medio_var13_corto_hace3    0\n",
       "saldo_medio_var13_corto_ult1     0\n",
       "saldo_medio_var13_corto_ult3     0\n",
       "saldo_medio_var13_largo_hace2    0\n",
       "saldo_medio_var13_largo_hace3    0\n",
       "saldo_medio_var13_largo_ult1     0\n",
       "saldo_medio_var13_largo_ult3     0\n",
       "saldo_medio_var13_medio_hace2    0\n",
       "saldo_medio_var13_medio_hace3    0\n",
       "saldo_medio_var13_medio_ult1     0\n",
       "saldo_medio_var13_medio_ult3     0\n",
       "saldo_medio_var17_hace2          0\n",
       "saldo_medio_var17_hace3          0\n",
       "saldo_medio_var17_ult1           0\n",
       "saldo_medio_var17_ult3           0\n",
       "saldo_medio_var29_hace2          0\n",
       "saldo_medio_var29_hace3          0\n",
       "saldo_medio_var29_ult1           0\n",
       "saldo_medio_var29_ult3           0\n",
       "saldo_medio_var33_hace2          0\n",
       "saldo_medio_var33_hace3          0\n",
       "saldo_medio_var33_ult1           0\n",
       "saldo_medio_var33_ult3           0\n",
       "saldo_medio_var44_hace2          0\n",
       "saldo_medio_var44_hace3          0\n",
       "saldo_medio_var44_ult1           0\n",
       "saldo_medio_var44_ult3           0\n",
       "var38                            0\n",
       "TARGET                           0\n",
       "Length: 371, dtype: int64"
      ]
     },
     "execution_count": 68,
     "metadata": {},
     "output_type": "execute_result"
    }
   ],
   "source": [
    "train.isnull().sum()"
   ]
  },
  {
   "cell_type": "markdown",
   "metadata": {
    "ExecuteTime": {
     "end_time": "2018-10-27T11:53:06.936565Z",
     "start_time": "2018-10-27T11:53:06.932994Z"
    }
   },
   "source": [
    "# Feature engineering"
   ]
  },
  {
   "cell_type": "markdown",
   "metadata": {},
   "source": [
    "## Drop skewed columns"
   ]
  },
  {
   "cell_type": "code",
   "execution_count": 69,
   "metadata": {
    "ExecuteTime": {
     "end_time": "2018-10-30T03:34:10.218512Z",
     "start_time": "2018-10-30T03:34:09.412938Z"
    }
   },
   "outputs": [
    {
     "name": "stdout",
     "output_type": "stream",
     "text": [
      "146 columns with skewed value\n"
     ]
    }
   ],
   "source": [
    "skew_cols = []\n",
    "for col in train.columns:\n",
    "    train_cnt = train[col].value_counts().sort_values(ascending=False)/len(train)\n",
    "    if train_cnt.values[0]>0.999:\n",
    "        skew_cols.append(col)\n",
    "        \n",
    "train.drop(skew_cols,axis=1,inplace=True)        \n",
    "test.drop(skew_cols,axis=1,inplace=True)\n",
    "print(f'{len(skew_cols)} columns with skewed value')"
   ]
  },
  {
   "cell_type": "markdown",
   "metadata": {},
   "source": [
    "## Drop duplicate columns"
   ]
  },
  {
   "cell_type": "code",
   "execution_count": 70,
   "metadata": {
    "ExecuteTime": {
     "end_time": "2018-10-30T03:34:15.229861Z",
     "start_time": "2018-10-30T03:34:10.221521Z"
    }
   },
   "outputs": [
    {
     "name": "stdout",
     "output_type": "stream",
     "text": [
      "20 columns with duplicate value\n"
     ]
    }
   ],
   "source": [
    "dup_cols = []\n",
    "for col_1 in train.columns:\n",
    "    v = train[col_1].values\n",
    "    for col_2 in train.columns:\n",
    "        if col_1 != col_2:\n",
    "            if np.array_equal(train[col_1],train[col_2]):\n",
    "                dup_cols.append(col_2)\n",
    "\n",
    "train.drop(dup_cols,axis=1,inplace=True)\n",
    "test.drop(dup_cols,axis=1,inplace=True)\n",
    "\n",
    "print(f'{len(dup_cols)} columns with duplicate value')"
   ]
  },
  {
   "cell_type": "markdown",
   "metadata": {},
   "source": [
    "## Var3 bug"
   ]
  },
  {
   "cell_type": "code",
   "execution_count": 71,
   "metadata": {
    "ExecuteTime": {
     "end_time": "2018-10-30T03:34:15.240345Z",
     "start_time": "2018-10-30T03:34:15.234442Z"
    }
   },
   "outputs": [],
   "source": [
    "train['var3'].replace(-999999,0, inplace=True)\n",
    "test['var3'].replace(-999999,0, inplace=True)"
   ]
  },
  {
   "cell_type": "markdown",
   "metadata": {},
   "source": [
    "## ID"
   ]
  },
  {
   "cell_type": "code",
   "execution_count": 72,
   "metadata": {
    "ExecuteTime": {
     "end_time": "2018-10-30T03:34:15.363742Z",
     "start_time": "2018-10-30T03:34:15.242550Z"
    }
   },
   "outputs": [],
   "source": [
    "train.drop('ID',axis=1,inplace=True)\n",
    "test_id = test.ID\n",
    "test.drop('ID',axis=1,inplace=True)"
   ]
  },
  {
   "cell_type": "markdown",
   "metadata": {
    "ExecuteTime": {
     "end_time": "2018-10-30T03:34:15.370840Z",
     "start_time": "2018-10-30T03:34:15.368077Z"
    }
   },
   "source": [
    "## Drop duplicates"
   ]
  },
  {
   "cell_type": "code",
   "execution_count": 74,
   "metadata": {
    "ExecuteTime": {
     "end_time": "2018-10-30T03:34:16.126542Z",
     "start_time": "2018-10-30T03:34:15.373840Z"
    }
   },
   "outputs": [
    {
     "name": "stdout",
     "output_type": "stream",
     "text": [
      "before :(76020, 204),(75818, 203)\n",
      "after :(71212, 204),(70895, 203)\n"
     ]
    }
   ],
   "source": [
    "print('before :{},{}'.format(train.shape,test.shape))\n",
    "train.drop_duplicates(inplace=True)\n",
    "test.drop_duplicates(inplace=True)\n",
    "print('after :{},{}'.format(train.shape,test.shape))"
   ]
  },
  {
   "cell_type": "markdown",
   "metadata": {
    "ExecuteTime": {
     "end_time": "2018-10-28T11:39:34.776474Z",
     "start_time": "2018-10-28T11:39:34.774176Z"
    }
   },
   "source": [
    "## Adding PCA"
   ]
  },
  {
   "cell_type": "code",
   "execution_count": 75,
   "metadata": {
    "ExecuteTime": {
     "end_time": "2018-10-30T03:34:32.611304Z",
     "start_time": "2018-10-30T03:34:31.763683Z"
    }
   },
   "outputs": [
    {
     "name": "stdout",
     "output_type": "stream",
     "text": [
      "[0.11053277 0.08410346 0.06105414]\n"
     ]
    }
   ],
   "source": [
    "pca = PCA(n_components=3)\n",
    "x_train_projected = pca.fit_transform(normalize(train.drop('TARGET',axis=1), axis=0))\n",
    "x_test_projected = pca.transform(normalize(test, axis=0))\n",
    "print(pca.explained_variance_ratio_)\n",
    "train.insert(1, 'PCA1', x_train_projected[:, 0])\n",
    "train.insert(1, 'PCA2', x_train_projected[:, 1])\n",
    "train.insert(1, 'PCA3', x_train_projected[:, 2])\n",
    "\n",
    "test.insert(1, 'PCA1', x_test_projected[:, 0])\n",
    "test.insert(1, 'PCA2', x_test_projected[:, 1])\n",
    "test.insert(1, 'PCA3', x_test_projected[:, 2])\n"
   ]
  },
  {
   "cell_type": "markdown",
   "metadata": {
    "ExecuteTime": {
     "end_time": "2018-10-28T09:17:19.515052Z",
     "start_time": "2018-10-28T09:17:19.512558Z"
    }
   },
   "source": [
    "## Feature selection\n",
    "SelectKBest will return top k features\n",
    "\n",
    "SelectPercentile will return a sub set of your features"
   ]
  },
  {
   "cell_type": "markdown",
   "metadata": {},
   "source": [
    "### Filter method"
   ]
  },
  {
   "cell_type": "code",
   "execution_count": 22,
   "metadata": {
    "ExecuteTime": {
     "end_time": "2018-10-30T02:11:34.533745Z",
     "start_time": "2018-10-30T02:11:34.530535Z"
    },
    "scrolled": true
   },
   "outputs": [],
   "source": [
    "ps = [40,45,50,55,60,65,70,75,80,85,90,95]"
   ]
  },
  {
   "cell_type": "code",
   "execution_count": 23,
   "metadata": {
    "ExecuteTime": {
     "end_time": "2018-10-30T02:11:54.634881Z",
     "start_time": "2018-10-30T02:11:34.536694Z"
    },
    "scrolled": true
   },
   "outputs": [
    {
     "name": "stdout",
     "output_type": "stream",
     "text": [
      "----------------------------------------------------------------------------------------------------\n",
      "40\n",
      "83\n",
      "ROC on training set :  0.877417848981377\n",
      "ROC on valid set :  0.8249092034513875\n",
      "----------------------------------------------------------------------------------------------------\n",
      "45\n",
      "94\n",
      "ROC on training set :  0.8787207717833256\n",
      "ROC on valid set :  0.8252115498839137\n",
      "----------------------------------------------------------------------------------------------------\n",
      "50\n",
      "104\n",
      "ROC on training set :  0.8826926495992125\n",
      "ROC on valid set :  0.8263338738906487\n",
      "----------------------------------------------------------------------------------------------------\n",
      "55\n",
      "114\n",
      "ROC on training set :  0.875434444998163\n",
      "ROC on valid set :  0.8201274483553658\n",
      "----------------------------------------------------------------------------------------------------\n",
      "60\n",
      "124\n",
      "ROC on training set :  0.8799474662864276\n",
      "ROC on valid set :  0.8215660958217831\n",
      "----------------------------------------------------------------------------------------------------\n",
      "65\n",
      "134\n",
      "ROC on training set :  0.8758793611123008\n",
      "ROC on valid set :  0.8294880149999243\n",
      "----------------------------------------------------------------------------------------------------\n",
      "70\n",
      "145\n",
      "ROC on training set :  0.8767806919682153\n",
      "ROC on valid set :  0.8236413595870499\n",
      "----------------------------------------------------------------------------------------------------\n",
      "75\n",
      "155\n",
      "ROC on training set :  0.8730750786546517\n",
      "ROC on valid set :  0.8234602596551548\n",
      "----------------------------------------------------------------------------------------------------\n",
      "80\n",
      "165\n",
      "ROC on training set :  0.878435506036404\n",
      "ROC on valid set :  0.8239889088320137\n",
      "----------------------------------------------------------------------------------------------------\n",
      "85\n",
      "176\n",
      "ROC on training set :  0.8768791335250006\n",
      "ROC on valid set :  0.8243297943308119\n",
      "----------------------------------------------------------------------------------------------------\n",
      "90\n",
      "186\n",
      "ROC on training set :  0.8732750502425882\n",
      "ROC on valid set :  0.8235161437069336\n",
      "----------------------------------------------------------------------------------------------------\n",
      "95\n",
      "196\n",
      "ROC on training set :  0.8804685299239287\n",
      "ROC on valid set :  0.8234055784456439\n"
     ]
    }
   ],
   "source": [
    "for p in ps :\n",
    "    split_data(train)\n",
    "    # Preprocessing\n",
    "    X = pd.concat([X_train,X_valid])\n",
    "    X_bin = Binarizer().fit_transform(scale(X))\n",
    "    y_ = pd.concat([y_train,y_valid])\n",
    "\n",
    "    # get the columns\n",
    "    selectChi2 = SelectPercentile(chi2, percentile=p).fit(X_bin, y_)\n",
    "    selected_cols = list(X_train.columns[selectChi2.get_support()].values) + [\"TARGET\"]\n",
    "    \n",
    "    # test\n",
    "    split_data(train[selected_cols])\n",
    "    clf = RFC(criterion='gini', class_weight='balanced', max_depth=10,random_state=1)\n",
    "    clf.fit(X_train,y_train)\n",
    "    print('-'*100)\n",
    "    print(p)\n",
    "    print(len(selected_cols))\n",
    "    eval(clf)\n",
    "    \n"
   ]
  },
  {
   "cell_type": "markdown",
   "metadata": {
    "ExecuteTime": {
     "end_time": "2018-10-28T10:15:52.262288Z",
     "start_time": "2018-10-28T10:15:52.257755Z"
    }
   },
   "source": [
    "Test results"
   ]
  },
  {
   "cell_type": "code",
   "execution_count": 76,
   "metadata": {
    "ExecuteTime": {
     "end_time": "2018-10-30T03:34:38.778334Z",
     "start_time": "2018-10-30T03:34:37.868837Z"
    },
    "scrolled": true
   },
   "outputs": [
    {
     "data": {
      "text/plain": [
       "['var3',\n",
       " 'PCA3',\n",
       " 'PCA2',\n",
       " 'PCA1',\n",
       " 'var15',\n",
       " 'imp_op_var41_efect_ult1',\n",
       " 'imp_op_var41_efect_ult3',\n",
       " 'imp_op_var39_efect_ult1',\n",
       " 'imp_op_var39_efect_ult3',\n",
       " 'imp_sal_var16_ult1',\n",
       " 'ind_var1',\n",
       " 'ind_var5',\n",
       " 'ind_var8_0',\n",
       " 'ind_var8',\n",
       " 'ind_var12_0',\n",
       " 'ind_var12',\n",
       " 'ind_var13_0',\n",
       " 'ind_var13_corto_0',\n",
       " 'ind_var13_corto',\n",
       " 'ind_var13_largo_0',\n",
       " 'ind_var13_largo',\n",
       " 'ind_var13',\n",
       " 'ind_var14_0',\n",
       " 'ind_var19',\n",
       " 'ind_var20_0',\n",
       " 'ind_var20',\n",
       " 'ind_var24_0',\n",
       " 'ind_var24',\n",
       " 'ind_var25_cte',\n",
       " 'ind_var26_cte',\n",
       " 'ind_var30',\n",
       " 'ind_var31_0',\n",
       " 'ind_var39_0',\n",
       " 'ind_var41_0',\n",
       " 'num_var1',\n",
       " 'num_var4',\n",
       " 'num_var5',\n",
       " 'num_var8_0',\n",
       " 'num_var8',\n",
       " 'num_var12_0',\n",
       " 'num_var12',\n",
       " 'num_var13_0',\n",
       " 'num_var13_corto_0',\n",
       " 'num_var13_corto',\n",
       " 'num_var13_largo_0',\n",
       " 'num_var13_largo',\n",
       " 'num_var13',\n",
       " 'num_var14_0',\n",
       " 'num_var20_0',\n",
       " 'num_var20',\n",
       " 'num_var24_0',\n",
       " 'num_var24',\n",
       " 'num_var30_0',\n",
       " 'num_var30',\n",
       " 'num_var31_0',\n",
       " 'num_var35',\n",
       " 'num_var39_0',\n",
       " 'num_var41_0',\n",
       " 'num_var42_0',\n",
       " 'num_var42',\n",
       " 'saldo_var1',\n",
       " 'saldo_var5',\n",
       " 'saldo_var12',\n",
       " 'saldo_var13_corto',\n",
       " 'saldo_var13_largo',\n",
       " 'saldo_var13',\n",
       " 'saldo_var14',\n",
       " 'saldo_var20',\n",
       " 'saldo_var24',\n",
       " 'saldo_var26',\n",
       " 'saldo_var25',\n",
       " 'saldo_var30',\n",
       " 'saldo_var40',\n",
       " 'saldo_var42',\n",
       " 'var36',\n",
       " 'delta_imp_aport_var13_1y3',\n",
       " 'delta_num_aport_var13_1y3',\n",
       " 'imp_aport_var13_hace3',\n",
       " 'imp_aport_var13_ult1',\n",
       " 'imp_trans_var37_ult1',\n",
       " 'ind_var10_ult1',\n",
       " 'ind_var10cte_ult1',\n",
       " 'ind_var9_ult1',\n",
       " 'ind_var43_recib_ult1',\n",
       " 'num_aport_var13_hace3',\n",
       " 'num_aport_var13_ult1',\n",
       " 'num_med_var45_ult3',\n",
       " 'num_meses_var5_ult3',\n",
       " 'num_meses_var8_ult3',\n",
       " 'num_meses_var12_ult3',\n",
       " 'num_meses_var13_corto_ult3',\n",
       " 'num_meses_var13_largo_ult3',\n",
       " 'num_op_var41_efect_ult1',\n",
       " 'num_op_var41_efect_ult3',\n",
       " 'num_op_var39_efect_ult1',\n",
       " 'num_op_var39_efect_ult3',\n",
       " 'num_sal_var16_ult1',\n",
       " 'num_var43_recib_ult1',\n",
       " 'num_trasp_var11_ult1',\n",
       " 'num_var45_hace2',\n",
       " 'num_var45_hace3',\n",
       " 'num_var45_ult1',\n",
       " 'num_var45_ult3',\n",
       " 'saldo_medio_var5_hace2',\n",
       " 'saldo_medio_var5_hace3',\n",
       " 'saldo_medio_var5_ult1',\n",
       " 'saldo_medio_var5_ult3',\n",
       " 'saldo_medio_var8_hace2',\n",
       " 'saldo_medio_var8_ult1',\n",
       " 'saldo_medio_var8_ult3',\n",
       " 'saldo_medio_var12_hace2',\n",
       " 'saldo_medio_var12_hace3',\n",
       " 'saldo_medio_var12_ult1',\n",
       " 'saldo_medio_var12_ult3',\n",
       " 'saldo_medio_var13_corto_hace2',\n",
       " 'saldo_medio_var13_corto_hace3',\n",
       " 'saldo_medio_var13_corto_ult1',\n",
       " 'saldo_medio_var13_corto_ult3',\n",
       " 'saldo_medio_var13_largo_hace2',\n",
       " 'saldo_medio_var13_largo_hace3',\n",
       " 'saldo_medio_var13_largo_ult1',\n",
       " 'saldo_medio_var13_largo_ult3',\n",
       " 'var38']"
      ]
     },
     "execution_count": 76,
     "metadata": {},
     "output_type": "execute_result"
    }
   ],
   "source": [
    "p = 60\n",
    "\n",
    "split_data(train)\n",
    "# Preprocessing\n",
    "X = pd.concat([X_train,X_valid])\n",
    "X_bin = Binarizer().fit_transform(scale(X))\n",
    "y_ = pd.concat([y_train,y_valid])\n",
    "\n",
    "# get the columns\n",
    "selectChi2 = SelectPercentile(chi2, percentile=p).fit(X_bin, y_)\n",
    "selected_cols = list(X_train.columns[selectChi2.get_support()].values)\n",
    "selected_cols"
   ]
  },
  {
   "cell_type": "code",
   "execution_count": 77,
   "metadata": {
    "ExecuteTime": {
     "end_time": "2018-10-30T03:34:38.869704Z",
     "start_time": "2018-10-30T03:34:38.781429Z"
    }
   },
   "outputs": [],
   "source": [
    "train = train[selected_cols + ['TARGET']]\n",
    "test = test[selected_cols]"
   ]
  },
  {
   "cell_type": "markdown",
   "metadata": {
    "ExecuteTime": {
     "end_time": "2018-10-28T10:47:52.114890Z",
     "start_time": "2018-10-28T10:47:52.106499Z"
    }
   },
   "source": [
    "### Wrapper methods\n",
    "\n"
   ]
  },
  {
   "cell_type": "code",
   "execution_count": 25,
   "metadata": {
    "ExecuteTime": {
     "end_time": "2018-10-28T13:49:07.254367Z",
     "start_time": "2018-10-28T13:49:06.496440Z"
    },
    "scrolled": true
   },
   "outputs": [
    {
     "name": "stdout",
     "output_type": "stream",
     "text": [
      "ROC on training set :  0.7971356804515795\n",
      "ROC on valid set :  0.7524624226061213\n"
     ]
    }
   ],
   "source": [
    "clf = RFC(criterion='gini', class_weight='balanced', max_depth=10,random_state=1)\n",
    "clf.fit(X_train,y_train)\n",
    "eval(clf)"
   ]
  },
  {
   "cell_type": "markdown",
   "metadata": {},
   "source": [
    "Tested with step = 1/2 . step 2 return better score"
   ]
  },
  {
   "cell_type": "code",
   "execution_count": 27,
   "metadata": {
    "ExecuteTime": {
     "end_time": "2018-10-28T13:50:52.336644Z",
     "start_time": "2018-10-28T13:50:52.334055Z"
    },
    "scrolled": true
   },
   "outputs": [],
   "source": [
    "# step is how many feature to remove at a time\n",
    "dtree_rfe = RFECV(clf, step=2,scoring = 'roc_auc', cv = 5) \n",
    "dtree_rfe.fit(X_train,y_train)"
   ]
  },
  {
   "cell_type": "code",
   "execution_count": 97,
   "metadata": {
    "ExecuteTime": {
     "end_time": "2018-10-28T11:41:28.557152Z",
     "start_time": "2018-10-28T11:41:28.554518Z"
    }
   },
   "outputs": [],
   "source": [
    "rfecv_step_2 = list(rfecv_step_2) + ['TARGET']"
   ]
  },
  {
   "cell_type": "code",
   "execution_count": 112,
   "metadata": {
    "ExecuteTime": {
     "end_time": "2018-10-28T11:45:43.224150Z",
     "start_time": "2018-10-28T11:45:43.195341Z"
    }
   },
   "outputs": [],
   "source": [
    "split_data(train[rfecv_step_2])"
   ]
  },
  {
   "cell_type": "code",
   "execution_count": 113,
   "metadata": {
    "ExecuteTime": {
     "end_time": "2018-10-28T11:45:44.083034Z",
     "start_time": "2018-10-28T11:45:43.490652Z"
    },
    "scrolled": true
   },
   "outputs": [
    {
     "name": "stderr",
     "output_type": "stream",
     "text": [
      "/Users/macbook/miniconda3/envs/dev/lib/python3.6/site-packages/sklearn/ensemble/forest.py:248: FutureWarning: The default value of n_estimators will change from 10 in version 0.20 to 100 in 0.22.\n",
      "  \"10 in version 0.20 to 100 in 0.22.\", FutureWarning)\n"
     ]
    },
    {
     "name": "stdout",
     "output_type": "stream",
     "text": [
      "ROC on training set :  0.8159160278600914\n",
      "ROC on valid set :  0.7446744278861178\n"
     ]
    }
   ],
   "source": [
    "clf = RFC(criterion='gini', class_weight='balanced', max_depth=10,random_state=1)\n",
    "clf.fit(X_train,y_train)\n",
    "eval(clf)"
   ]
  },
  {
   "cell_type": "markdown",
   "metadata": {},
   "source": [
    "# Modeling"
   ]
  },
  {
   "cell_type": "markdown",
   "metadata": {
    "ExecuteTime": {
     "end_time": "2018-10-27T11:58:18.547594Z",
     "start_time": "2018-10-27T11:58:18.544398Z"
    }
   },
   "source": [
    "## RandomForest\n",
    "\n",
    "Note: for sparse data include class_weight will handle it"
   ]
  },
  {
   "cell_type": "code",
   "execution_count": 26,
   "metadata": {
    "ExecuteTime": {
     "end_time": "2018-10-30T02:12:30.058322Z",
     "start_time": "2018-10-30T02:12:30.032457Z"
    },
    "scrolled": true
   },
   "outputs": [],
   "source": [
    "split_data(train)"
   ]
  },
  {
   "cell_type": "markdown",
   "metadata": {},
   "source": [
    "Tried with these params : n_estimators=30,min_samples_leaf=10,max_features='log2',n_jobs=-1\n",
    "\n",
    "The model predict all samples are 0 => extremely overfit"
   ]
  },
  {
   "cell_type": "code",
   "execution_count": 27,
   "metadata": {
    "ExecuteTime": {
     "end_time": "2018-10-30T02:12:31.338098Z",
     "start_time": "2018-10-30T02:12:30.699719Z"
    },
    "scrolled": true
   },
   "outputs": [
    {
     "name": "stdout",
     "output_type": "stream",
     "text": [
      "ROC on training set :  0.8799474662864276\n",
      "ROC on valid set :  0.8215660958217831\n"
     ]
    }
   ],
   "source": [
    "clf = RFC(criterion='gini', class_weight='balanced', max_depth=10,random_state=1)\n",
    "clf.fit(X_train,y_train)\n",
    "eval(clf)"
   ]
  },
  {
   "cell_type": "code",
   "execution_count": 28,
   "metadata": {
    "ExecuteTime": {
     "end_time": "2018-10-30T02:12:31.344511Z",
     "start_time": "2018-10-30T02:12:31.339715Z"
    },
    "scrolled": true
   },
   "outputs": [
    {
     "data": {
      "text/plain": [
       "Index(['var3', 'PCA3', 'PCA2', 'PCA1', 'var15', 'imp_op_var41_efect_ult1',\n",
       "       'imp_op_var41_efect_ult3', 'imp_op_var39_efect_ult1',\n",
       "       'imp_op_var39_efect_ult3', 'imp_sal_var16_ult1',\n",
       "       ...\n",
       "       'saldo_medio_var12_ult3', 'saldo_medio_var13_corto_hace2',\n",
       "       'saldo_medio_var13_corto_hace3', 'saldo_medio_var13_corto_ult1',\n",
       "       'saldo_medio_var13_corto_ult3', 'saldo_medio_var13_largo_hace2',\n",
       "       'saldo_medio_var13_largo_hace3', 'saldo_medio_var13_largo_ult1',\n",
       "       'saldo_medio_var13_largo_ult3', 'var38'],\n",
       "      dtype='object', length=123)"
      ]
     },
     "execution_count": 28,
     "metadata": {},
     "output_type": "execute_result"
    }
   ],
   "source": [
    "X_train.columns"
   ]
  },
  {
   "cell_type": "markdown",
   "metadata": {},
   "source": [
    "### Using feature important"
   ]
  },
  {
   "cell_type": "code",
   "execution_count": 41,
   "metadata": {
    "ExecuteTime": {
     "end_time": "2018-10-30T02:22:28.981071Z",
     "start_time": "2018-10-30T02:22:28.245625Z"
    }
   },
   "outputs": [
    {
     "data": {
      "image/png": "[encoded data removed]",
      "text/plain": [
       "<Figure size 1080x576 with 1 Axes>"
      ]
     },
     "metadata": {
      "needs_background": "light"
     },
     "output_type": "display_data"
    }
   ],
   "source": [
    "imp_cols = plot_fi(clf,40)"
   ]
  },
  {
   "cell_type": "code",
   "execution_count": 53,
   "metadata": {
    "ExecuteTime": {
     "end_time": "2018-10-30T02:27:58.402751Z",
     "start_time": "2018-10-30T02:27:58.380869Z"
    }
   },
   "outputs": [],
   "source": [
    "split_data(train[imp_cols[:30] +['TARGET']])"
   ]
  },
  {
   "cell_type": "code",
   "execution_count": 54,
   "metadata": {
    "ExecuteTime": {
     "end_time": "2018-10-30T02:27:59.388063Z",
     "start_time": "2018-10-30T02:27:58.783823Z"
    },
    "scrolled": true
   },
   "outputs": [
    {
     "name": "stdout",
     "output_type": "stream",
     "text": [
      "ROC on training set :  0.8923764279311777\n",
      "ROC on valid set :  0.8304002505761012\n"
     ]
    }
   ],
   "source": [
    "clf = RFC(criterion='gini', class_weight='balanced', max_depth=10,random_state=1)\n",
    "clf.fit(X_train,y_train)\n",
    "eval(clf)"
   ]
  },
  {
   "cell_type": "markdown",
   "metadata": {
    "ExecuteTime": {
     "end_time": "2018-10-28T12:07:58.559531Z",
     "start_time": "2018-10-28T12:07:58.555417Z"
    }
   },
   "source": [
    "look better"
   ]
  },
  {
   "cell_type": "code",
   "execution_count": 52,
   "metadata": {
    "ExecuteTime": {
     "end_time": "2018-10-30T02:27:53.261285Z",
     "start_time": "2018-10-30T02:27:53.245431Z"
    }
   },
   "outputs": [],
   "source": [
    "train = train[imp_cols[:30] +['TARGET']]\n",
    "test = [imp_cols[:30]]"
   ]
  },
  {
   "cell_type": "markdown",
   "metadata": {},
   "source": [
    "## XGBoost\n",
    "Let's try with xgboost"
   ]
  },
  {
   "cell_type": "code",
   "execution_count": 45,
   "metadata": {
    "ExecuteTime": {
     "end_time": "2018-10-30T02:23:03.820851Z",
     "start_time": "2018-10-30T02:23:03.810508Z"
    }
   },
   "outputs": [],
   "source": [
    "split_data(train)"
   ]
  },
  {
   "cell_type": "code",
   "execution_count": 46,
   "metadata": {
    "ExecuteTime": {
     "end_time": "2018-10-30T02:23:04.256503Z",
     "start_time": "2018-10-30T02:23:04.252775Z"
    }
   },
   "outputs": [],
   "source": [
    "# classifier\n",
    "clf = xgb.XGBClassifier(missing=np.nan, max_depth=5, n_estimators=350, \n",
    "                        learning_rate=0.03, nthread=4, subsample=0.95, \n",
    "                        colsample_bytree=0.85, seed=4242)\n"
   ]
  },
  {
   "cell_type": "code",
   "execution_count": 47,
   "metadata": {
    "ExecuteTime": {
     "end_time": "2018-10-30T02:23:21.849342Z",
     "start_time": "2018-10-30T02:23:04.891234Z"
    },
    "scrolled": true
   },
   "outputs": [
    {
     "name": "stdout",
     "output_type": "stream",
     "text": [
      "[0]\tvalidation_0-auc:0.776881\n",
      "Will train until validation_0-auc hasn't improved in 20 rounds.\n",
      "[1]\tvalidation_0-auc:0.816757\n",
      "[2]\tvalidation_0-auc:0.822706\n",
      "[3]\tvalidation_0-auc:0.826065\n",
      "[4]\tvalidation_0-auc:0.827583\n",
      "[5]\tvalidation_0-auc:0.830845\n",
      "[6]\tvalidation_0-auc:0.830833\n",
      "[7]\tvalidation_0-auc:0.831386\n",
      "[8]\tvalidation_0-auc:0.831684\n",
      "[9]\tvalidation_0-auc:0.832652\n",
      "[10]\tvalidation_0-auc:0.833482\n",
      "[11]\tvalidation_0-auc:0.833582\n",
      "[12]\tvalidation_0-auc:0.833487\n",
      "[13]\tvalidation_0-auc:0.832695\n",
      "[14]\tvalidation_0-auc:0.833088\n",
      "[15]\tvalidation_0-auc:0.831674\n",
      "[16]\tvalidation_0-auc:0.832919\n",
      "[17]\tvalidation_0-auc:0.833671\n",
      "[18]\tvalidation_0-auc:0.833939\n",
      "[19]\tvalidation_0-auc:0.834503\n",
      "[20]\tvalidation_0-auc:0.835117\n",
      "[21]\tvalidation_0-auc:0.835612\n",
      "[22]\tvalidation_0-auc:0.835764\n",
      "[23]\tvalidation_0-auc:0.836203\n",
      "[24]\tvalidation_0-auc:0.836845\n",
      "[25]\tvalidation_0-auc:0.836125\n",
      "[26]\tvalidation_0-auc:0.836628\n",
      "[27]\tvalidation_0-auc:0.835787\n",
      "[28]\tvalidation_0-auc:0.83574\n",
      "[29]\tvalidation_0-auc:0.835918\n",
      "[30]\tvalidation_0-auc:0.835666\n",
      "[31]\tvalidation_0-auc:0.836122\n",
      "[32]\tvalidation_0-auc:0.836524\n",
      "[33]\tvalidation_0-auc:0.836794\n",
      "[34]\tvalidation_0-auc:0.837351\n",
      "[35]\tvalidation_0-auc:0.836852\n",
      "[36]\tvalidation_0-auc:0.837032\n",
      "[37]\tvalidation_0-auc:0.837393\n",
      "[38]\tvalidation_0-auc:0.837847\n",
      "[39]\tvalidation_0-auc:0.837357\n",
      "[40]\tvalidation_0-auc:0.837426\n",
      "[41]\tvalidation_0-auc:0.838156\n",
      "[42]\tvalidation_0-auc:0.838073\n",
      "[43]\tvalidation_0-auc:0.838287\n",
      "[44]\tvalidation_0-auc:0.838632\n",
      "[45]\tvalidation_0-auc:0.839007\n",
      "[46]\tvalidation_0-auc:0.839256\n",
      "[47]\tvalidation_0-auc:0.839408\n",
      "[48]\tvalidation_0-auc:0.839244\n",
      "[49]\tvalidation_0-auc:0.839251\n",
      "[50]\tvalidation_0-auc:0.839673\n",
      "[51]\tvalidation_0-auc:0.83958\n",
      "[52]\tvalidation_0-auc:0.839987\n",
      "[53]\tvalidation_0-auc:0.840113\n",
      "[54]\tvalidation_0-auc:0.840337\n",
      "[55]\tvalidation_0-auc:0.840429\n",
      "[56]\tvalidation_0-auc:0.840488\n",
      "[57]\tvalidation_0-auc:0.84037\n",
      "[58]\tvalidation_0-auc:0.840699\n",
      "[59]\tvalidation_0-auc:0.840666\n",
      "[60]\tvalidation_0-auc:0.840657\n",
      "[61]\tvalidation_0-auc:0.840933\n",
      "[62]\tvalidation_0-auc:0.841095\n",
      "[63]\tvalidation_0-auc:0.841093\n",
      "[64]\tvalidation_0-auc:0.841162\n",
      "[65]\tvalidation_0-auc:0.841462\n",
      "[66]\tvalidation_0-auc:0.841483\n",
      "[67]\tvalidation_0-auc:0.841768\n",
      "[68]\tvalidation_0-auc:0.841688\n",
      "[69]\tvalidation_0-auc:0.841913\n",
      "[70]\tvalidation_0-auc:0.842102\n",
      "[71]\tvalidation_0-auc:0.84217\n",
      "[72]\tvalidation_0-auc:0.84225\n",
      "[73]\tvalidation_0-auc:0.842407\n",
      "[74]\tvalidation_0-auc:0.842512\n",
      "[75]\tvalidation_0-auc:0.842409\n",
      "[76]\tvalidation_0-auc:0.842425\n",
      "[77]\tvalidation_0-auc:0.842465\n",
      "[78]\tvalidation_0-auc:0.842393\n",
      "[79]\tvalidation_0-auc:0.842238\n",
      "[80]\tvalidation_0-auc:0.842273\n",
      "[81]\tvalidation_0-auc:0.842213\n",
      "[82]\tvalidation_0-auc:0.84239\n",
      "[83]\tvalidation_0-auc:0.842591\n",
      "[84]\tvalidation_0-auc:0.842918\n",
      "[85]\tvalidation_0-auc:0.843037\n",
      "[86]\tvalidation_0-auc:0.843093\n",
      "[87]\tvalidation_0-auc:0.842809\n",
      "[88]\tvalidation_0-auc:0.843003\n",
      "[89]\tvalidation_0-auc:0.842974\n",
      "[90]\tvalidation_0-auc:0.843025\n",
      "[91]\tvalidation_0-auc:0.843074\n",
      "[92]\tvalidation_0-auc:0.843114\n",
      "[93]\tvalidation_0-auc:0.843173\n",
      "[94]\tvalidation_0-auc:0.843109\n",
      "[95]\tvalidation_0-auc:0.843152\n",
      "[96]\tvalidation_0-auc:0.843137\n",
      "[97]\tvalidation_0-auc:0.843079\n",
      "[98]\tvalidation_0-auc:0.84316\n",
      "[99]\tvalidation_0-auc:0.84331\n",
      "[100]\tvalidation_0-auc:0.843317\n",
      "[101]\tvalidation_0-auc:0.84334\n",
      "[102]\tvalidation_0-auc:0.84329\n",
      "[103]\tvalidation_0-auc:0.84328\n",
      "[104]\tvalidation_0-auc:0.843357\n",
      "[105]\tvalidation_0-auc:0.843241\n",
      "[106]\tvalidation_0-auc:0.843244\n",
      "[107]\tvalidation_0-auc:0.843316\n",
      "[108]\tvalidation_0-auc:0.843388\n",
      "[109]\tvalidation_0-auc:0.843338\n",
      "[110]\tvalidation_0-auc:0.843348\n",
      "[111]\tvalidation_0-auc:0.843463\n",
      "[112]\tvalidation_0-auc:0.843533\n",
      "[113]\tvalidation_0-auc:0.843564\n",
      "[114]\tvalidation_0-auc:0.843666\n",
      "[115]\tvalidation_0-auc:0.843671\n",
      "[116]\tvalidation_0-auc:0.843694\n",
      "[117]\tvalidation_0-auc:0.843846\n",
      "[118]\tvalidation_0-auc:0.843954\n",
      "[119]\tvalidation_0-auc:0.844042\n",
      "[120]\tvalidation_0-auc:0.843997\n",
      "[121]\tvalidation_0-auc:0.84394\n",
      "[122]\tvalidation_0-auc:0.843976\n",
      "[123]\tvalidation_0-auc:0.843996\n",
      "[124]\tvalidation_0-auc:0.843902\n",
      "[125]\tvalidation_0-auc:0.844041\n",
      "[126]\tvalidation_0-auc:0.844078\n",
      "[127]\tvalidation_0-auc:0.844156\n",
      "[128]\tvalidation_0-auc:0.844118\n",
      "[129]\tvalidation_0-auc:0.844012\n",
      "[130]\tvalidation_0-auc:0.844\n",
      "[131]\tvalidation_0-auc:0.843919\n",
      "[132]\tvalidation_0-auc:0.844123\n",
      "[133]\tvalidation_0-auc:0.844144\n",
      "[134]\tvalidation_0-auc:0.844051\n",
      "[135]\tvalidation_0-auc:0.844059\n",
      "[136]\tvalidation_0-auc:0.84407\n",
      "[137]\tvalidation_0-auc:0.843981\n",
      "[138]\tvalidation_0-auc:0.844029\n",
      "[139]\tvalidation_0-auc:0.843976\n",
      "[140]\tvalidation_0-auc:0.84403\n",
      "[141]\tvalidation_0-auc:0.844067\n",
      "[142]\tvalidation_0-auc:0.844039\n",
      "[143]\tvalidation_0-auc:0.844127\n",
      "[144]\tvalidation_0-auc:0.844053\n",
      "[145]\tvalidation_0-auc:0.844033\n",
      "[146]\tvalidation_0-auc:0.844105\n",
      "[147]\tvalidation_0-auc:0.844211\n",
      "[148]\tvalidation_0-auc:0.84427\n",
      "[149]\tvalidation_0-auc:0.844318\n",
      "[150]\tvalidation_0-auc:0.844361\n",
      "[151]\tvalidation_0-auc:0.844296\n",
      "[152]\tvalidation_0-auc:0.844444\n",
      "[153]\tvalidation_0-auc:0.84444\n",
      "[154]\tvalidation_0-auc:0.844501\n",
      "[155]\tvalidation_0-auc:0.844489\n",
      "[156]\tvalidation_0-auc:0.844513\n",
      "[157]\tvalidation_0-auc:0.844551\n",
      "[158]\tvalidation_0-auc:0.844564\n",
      "[159]\tvalidation_0-auc:0.844525\n",
      "[160]\tvalidation_0-auc:0.844605\n",
      "[161]\tvalidation_0-auc:0.844584\n",
      "[162]\tvalidation_0-auc:0.844562\n",
      "[163]\tvalidation_0-auc:0.844478\n",
      "[164]\tvalidation_0-auc:0.844501\n",
      "[165]\tvalidation_0-auc:0.844537\n",
      "[166]\tvalidation_0-auc:0.844428\n",
      "[167]\tvalidation_0-auc:0.844384\n",
      "[168]\tvalidation_0-auc:0.844443\n",
      "[169]\tvalidation_0-auc:0.844413\n",
      "[170]\tvalidation_0-auc:0.844489\n",
      "[171]\tvalidation_0-auc:0.844524\n",
      "[172]\tvalidation_0-auc:0.844539\n",
      "[173]\tvalidation_0-auc:0.844572\n",
      "[174]\tvalidation_0-auc:0.844542\n",
      "[175]\tvalidation_0-auc:0.844597\n",
      "[176]\tvalidation_0-auc:0.844619\n",
      "[177]\tvalidation_0-auc:0.844562\n",
      "[178]\tvalidation_0-auc:0.844564\n",
      "[179]\tvalidation_0-auc:0.84459\n",
      "[180]\tvalidation_0-auc:0.844549\n",
      "[181]\tvalidation_0-auc:0.844647\n",
      "[182]\tvalidation_0-auc:0.844613\n",
      "[183]\tvalidation_0-auc:0.844632\n",
      "[184]\tvalidation_0-auc:0.8447\n",
      "[185]\tvalidation_0-auc:0.844637\n",
      "[186]\tvalidation_0-auc:0.844648\n",
      "[187]\tvalidation_0-auc:0.844652\n",
      "[188]\tvalidation_0-auc:0.844716\n",
      "[189]\tvalidation_0-auc:0.844616\n",
      "[190]\tvalidation_0-auc:0.844651\n",
      "[191]\tvalidation_0-auc:0.844671\n",
      "[192]\tvalidation_0-auc:0.844646\n",
      "[193]\tvalidation_0-auc:0.84464\n",
      "[194]\tvalidation_0-auc:0.844596\n",
      "[195]\tvalidation_0-auc:0.844616\n",
      "[196]\tvalidation_0-auc:0.844652\n",
      "[197]\tvalidation_0-auc:0.844588\n",
      "[198]\tvalidation_0-auc:0.844622\n",
      "[199]\tvalidation_0-auc:0.844645\n",
      "[200]\tvalidation_0-auc:0.844698\n",
      "[201]\tvalidation_0-auc:0.844677\n",
      "[202]\tvalidation_0-auc:0.844656\n",
      "[203]\tvalidation_0-auc:0.844685\n",
      "[204]\tvalidation_0-auc:0.844739\n",
      "[205]\tvalidation_0-auc:0.844717\n",
      "[206]\tvalidation_0-auc:0.844775\n",
      "[207]\tvalidation_0-auc:0.844807\n",
      "[208]\tvalidation_0-auc:0.844817\n",
      "[209]\tvalidation_0-auc:0.844821\n",
      "[210]\tvalidation_0-auc:0.844858\n",
      "[211]\tvalidation_0-auc:0.844824\n",
      "[212]\tvalidation_0-auc:0.844856\n",
      "[213]\tvalidation_0-auc:0.844827\n",
      "[214]\tvalidation_0-auc:0.844817\n",
      "[215]\tvalidation_0-auc:0.844774\n",
      "[216]\tvalidation_0-auc:0.844733\n",
      "[217]\tvalidation_0-auc:0.844822\n",
      "[218]\tvalidation_0-auc:0.844823\n",
      "[219]\tvalidation_0-auc:0.844826\n",
      "[220]\tvalidation_0-auc:0.844788\n",
      "[221]\tvalidation_0-auc:0.844793\n",
      "[222]\tvalidation_0-auc:0.844791\n",
      "[223]\tvalidation_0-auc:0.844742\n",
      "[224]\tvalidation_0-auc:0.844743\n",
      "[225]\tvalidation_0-auc:0.844732\n",
      "[226]\tvalidation_0-auc:0.844713\n",
      "[227]\tvalidation_0-auc:0.844691\n",
      "[228]\tvalidation_0-auc:0.844679\n",
      "[229]\tvalidation_0-auc:0.844616\n",
      "[230]\tvalidation_0-auc:0.844583\n",
      "Stopping. Best iteration:\n",
      "[210]\tvalidation_0-auc:0.844858\n",
      "\n"
     ]
    },
    {
     "data": {
      "text/plain": [
       "XGBClassifier(base_score=0.5, booster='gbtree', colsample_bylevel=1,\n",
       "       colsample_bytree=0.85, gamma=0, learning_rate=0.03,\n",
       "       max_delta_step=0, max_depth=5, min_child_weight=1, missing=None,\n",
       "       n_estimators=350, n_jobs=1, nthread=4, objective='binary:logistic',\n",
       "       random_state=0, reg_alpha=0, reg_lambda=1, scale_pos_weight=1,\n",
       "       seed=4242, silent=True, subsample=0.95)"
      ]
     },
     "execution_count": 47,
     "metadata": {},
     "output_type": "execute_result"
    }
   ],
   "source": [
    "clf.fit(X_train,y_train,early_stopping_rounds=20, eval_metric=\"auc\",eval_set=[(X_valid,y_valid)])"
   ]
  },
  {
   "cell_type": "code",
   "execution_count": 48,
   "metadata": {
    "ExecuteTime": {
     "end_time": "2018-10-30T02:23:23.712449Z",
     "start_time": "2018-10-30T02:23:23.054160Z"
    },
    "scrolled": true
   },
   "outputs": [
    {
     "name": "stdout",
     "output_type": "stream",
     "text": [
      "ROC on training set :  0.8765825402044052\n",
      "ROC on valid set :  0.8448581981278482\n"
     ]
    }
   ],
   "source": [
    "eval(clf)"
   ]
  },
  {
   "cell_type": "code",
   "execution_count": 49,
   "metadata": {
    "ExecuteTime": {
     "end_time": "2018-10-30T02:23:30.756369Z",
     "start_time": "2018-10-30T02:23:30.233150Z"
    },
    "scrolled": false
   },
   "outputs": [
    {
     "data": {
      "image/png": "[encoded data removed]",
      "text/plain": [
       "<Figure size 1080x576 with 1 Axes>"
      ]
     },
     "metadata": {
      "needs_background": "light"
     },
     "output_type": "display_data"
    }
   ],
   "source": [
    "imp_cols = plot_fi(clf)"
   ]
  },
  {
   "cell_type": "markdown",
   "metadata": {},
   "source": [
    "## LightGBM"
   ]
  },
  {
   "cell_type": "code",
   "execution_count": null,
   "metadata": {},
   "outputs": [],
   "source": []
  },
  {
   "cell_type": "markdown",
   "metadata": {},
   "source": [
    "# Stacking"
   ]
  },
  {
   "cell_type": "code",
   "execution_count": null,
   "metadata": {},
   "outputs": [],
   "source": []
  },
  {
   "cell_type": "code",
   "execution_count": null,
   "metadata": {},
   "outputs": [],
   "source": []
  }
 ],
 "metadata": {
  "kernelspec": {
   "display_name": "Python 3",
   "language": "python",
   "name": "python3"
  },
  "language_info": {
   "codemirror_mode": {
    "name": "ipython",
    "version": 3
   },
   "file_extension": ".py",
   "mimetype": "text/x-python",
   "name": "python",
   "nbconvert_exporter": "python",
   "pygments_lexer": "ipython3",
   "version": "3.6.6"
  },
  "toc": {
   "base_numbering": 1,
   "nav_menu": {},
   "number_sections": true,
   "sideBar": true,
   "skip_h1_title": false,
   "title_cell": "Table of Contents",
   "title_sidebar": "Contents",
   "toc_cell": false,
   "toc_position": {
    "height": "calc(100% - 180px)",
    "left": "10px",
    "top": "150px",
    "width": "256px"
   },
   "toc_section_display": true,
   "toc_window_display": true
  }
 },
 "nbformat": 4,
 "nbformat_minor": 2
}
