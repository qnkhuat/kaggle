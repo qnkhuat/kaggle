{
 "cells": [
  {
   "cell_type": "code",
   "execution_count": 2,
   "metadata": {
    "ExecuteTime": {
     "end_time": "2018-10-30T03:45:27.520693Z",
     "start_time": "2018-10-30T03:45:27.517788Z"
    }
   },
   "outputs": [],
   "source": [
    "# Copy from : https://github.com/ajncespedes/Kaggle-Santander-Customer-Satisfaction/blob/master/full_script.R"
   ]
  },
  {
   "cell_type": "code",
   "execution_count": 2,
   "metadata": {
    "ExecuteTime": {
     "end_time": "2018-10-30T06:40:26.956599Z",
     "start_time": "2018-10-30T06:40:24.892983Z"
    }
   },
   "outputs": [],
   "source": [
    "import pandas as pd\n",
    "import xgboost as xgb\n",
    "import matplotlib.pyplot as plt\n",
    "from os.path import join as pjoin\n",
    "import numpy as np"
   ]
  },
  {
   "cell_type": "code",
   "execution_count": 3,
   "metadata": {
    "ExecuteTime": {
     "end_time": "2018-10-30T06:40:26.964897Z",
     "start_time": "2018-10-30T06:40:26.958953Z"
    }
   },
   "outputs": [],
   "source": [
    "data_src = '../data/'"
   ]
  },
  {
   "cell_type": "code",
   "execution_count": 4,
   "metadata": {
    "ExecuteTime": {
     "end_time": "2018-10-30T06:40:32.442388Z",
     "start_time": "2018-10-30T06:40:26.967221Z"
    }
   },
   "outputs": [],
   "source": [
    "train = pd.read_csv(pjoin(data_src,'train.csv'))\n",
    "test = pd.read_csv(pjoin(data_src,'test.csv'))"
   ]
  },
  {
   "cell_type": "code",
   "execution_count": 5,
   "metadata": {
    "ExecuteTime": {
     "end_time": "2018-10-30T06:40:32.452012Z",
     "start_time": "2018-10-30T06:40:32.444458Z"
    }
   },
   "outputs": [],
   "source": [
    "test_var15 = test.var15"
   ]
  },
  {
   "cell_type": "markdown",
   "metadata": {},
   "source": [
    "# Data preprocessing"
   ]
  },
  {
   "cell_type": "markdown",
   "metadata": {
    "ExecuteTime": {
     "end_time": "2018-10-30T03:51:00.072269Z",
     "start_time": "2018-10-30T03:51:00.069796Z"
    }
   },
   "source": [
    "## Remove IDs"
   ]
  },
  {
   "cell_type": "code",
   "execution_count": 6,
   "metadata": {
    "ExecuteTime": {
     "end_time": "2018-10-30T06:40:32.744856Z",
     "start_time": "2018-10-30T06:40:32.454921Z"
    }
   },
   "outputs": [],
   "source": [
    "train.drop('ID',inplace=True,axis=1)\n",
    "test_id = test.ID\n",
    "test.drop('ID',inplace=True,axis=1)"
   ]
  },
  {
   "cell_type": "markdown",
   "metadata": {},
   "source": [
    "## Extract Target"
   ]
  },
  {
   "cell_type": "code",
   "execution_count": 7,
   "metadata": {
    "ExecuteTime": {
     "end_time": "2018-10-30T06:40:32.927556Z",
     "start_time": "2018-10-30T06:40:32.747056Z"
    }
   },
   "outputs": [],
   "source": [
    "train_y = train.TARGET\n",
    "train.drop(\"TARGET\",inplace=True,axis=1)"
   ]
  },
  {
   "cell_type": "markdown",
   "metadata": {
    "ExecuteTime": {
     "end_time": "2018-10-30T03:55:39.359621Z",
     "start_time": "2018-10-30T03:55:39.356492Z"
    }
   },
   "source": [
    "## Count 0 per row"
   ]
  },
  {
   "cell_type": "code",
   "execution_count": 8,
   "metadata": {
    "ExecuteTime": {
     "end_time": "2018-10-30T06:40:32.933819Z",
     "start_time": "2018-10-30T06:40:32.929109Z"
    }
   },
   "outputs": [],
   "source": [
    "def count0(x):\n",
    "    return (x==0.).count()"
   ]
  },
  {
   "cell_type": "code",
   "execution_count": 9,
   "metadata": {
    "ExecuteTime": {
     "end_time": "2018-10-30T06:41:01.121461Z",
     "start_time": "2018-10-30T06:40:32.935899Z"
    },
    "scrolled": true
   },
   "outputs": [],
   "source": [
    "train['count0'] = train.apply(count0,axis=1)\n",
    "test['count0'] = test.apply(count0,axis=1)"
   ]
  },
  {
   "cell_type": "markdown",
   "metadata": {},
   "source": [
    "## Remove constants columns"
   ]
  },
  {
   "cell_type": "code",
   "execution_count": 10,
   "metadata": {
    "ExecuteTime": {
     "end_time": "2018-10-30T06:41:01.985632Z",
     "start_time": "2018-10-30T06:41:01.123975Z"
    }
   },
   "outputs": [
    {
     "name": "stdout",
     "output_type": "stream",
     "text": [
      "35 columns with duplicate value\n"
     ]
    }
   ],
   "source": [
    "const_col = []\n",
    "for col in train.columns:\n",
    "    if train[col].std() == 0 :\n",
    "        const_col.append(col)\n",
    "train.drop(const_col,axis=1,inplace=True)\n",
    "test.drop(const_col,axis=1,inplace=True)\n",
    "print(f'{len(const_col)} columns with duplicate value')"
   ]
  },
  {
   "cell_type": "markdown",
   "metadata": {},
   "source": [
    "## Duplicated columns"
   ]
  },
  {
   "cell_type": "code",
   "execution_count": 11,
   "metadata": {
    "ExecuteTime": {
     "end_time": "2018-10-30T06:41:12.188487Z",
     "start_time": "2018-10-30T06:41:01.987545Z"
    }
   },
   "outputs": [
    {
     "name": "stdout",
     "output_type": "stream",
     "text": [
      "58 columns with duplicate value\n"
     ]
    }
   ],
   "source": [
    "dup_cols = []\n",
    "for col_1 in train.columns:\n",
    "    v = train[col_1].values\n",
    "    for col_2 in train.columns:\n",
    "        if col_1 != col_2:\n",
    "            if np.array_equal(train[col_1],train[col_2]):\n",
    "                dup_cols.append(col_2)\n",
    "\n",
    "train.drop(dup_cols,axis=1,inplace=True)\n",
    "test.drop(dup_cols,axis=1,inplace=True)\n",
    "\n",
    "print(f'{len(dup_cols)} columns with duplicate value')"
   ]
  },
  {
   "cell_type": "markdown",
   "metadata": {},
   "source": [
    "## Detect same rows with different TARGET"
   ]
  },
  {
   "cell_type": "code",
   "execution_count": 12,
   "metadata": {
    "ExecuteTime": {
     "end_time": "2018-10-30T06:41:12.627210Z",
     "start_time": "2018-10-30T06:41:12.190876Z"
    }
   },
   "outputs": [],
   "source": [
    "index = train.duplicated() or train_y ==1"
   ]
  },
  {
   "cell_type": "code",
   "execution_count": 13,
   "metadata": {
    "ExecuteTime": {
     "end_time": "2018-10-30T06:41:12.632719Z",
     "start_time": "2018-10-30T06:41:12.628719Z"
    }
   },
   "outputs": [],
   "source": [
    "### train = train[,1:307]"
   ]
  },
  {
   "cell_type": "code",
   "execution_count": 14,
   "metadata": {
    "ExecuteTime": {
     "end_time": "2018-10-30T06:41:13.034022Z",
     "start_time": "2018-10-30T06:41:12.637604Z"
    }
   },
   "outputs": [],
   "source": [
    "index2 = (train.duplicated() or train_y ==0)"
   ]
  },
  {
   "cell_type": "code",
   "execution_count": 16,
   "metadata": {
    "ExecuteTime": {
     "end_time": "2018-10-30T06:41:19.486428Z",
     "start_time": "2018-10-30T06:41:19.479055Z"
    }
   },
   "outputs": [
    {
     "data": {
      "text/plain": [
       "array([], dtype=bool)"
      ]
     },
     "execution_count": 16,
     "metadata": {},
     "output_type": "execute_result"
    }
   ],
   "source": [
    "np.setdiff1d(index,index2)"
   ]
  },
  {
   "cell_type": "code",
   "execution_count": 19,
   "metadata": {
    "ExecuteTime": {
     "end_time": "2018-10-30T06:41:50.359996Z",
     "start_time": "2018-10-30T06:41:50.354803Z"
    }
   },
   "outputs": [
    {
     "data": {
      "text/plain": [
       "array([4])"
      ]
     },
     "execution_count": 19,
     "metadata": {},
     "output_type": "execute_result"
    }
   ],
   "source": [
    "np.setdiff1d([1,2,4],[1,2,3])"
   ]
  },
  {
   "cell_type": "code",
   "execution_count": null,
   "metadata": {},
   "outputs": [],
   "source": []
  },
  {
   "cell_type": "code",
   "execution_count": null,
   "metadata": {},
   "outputs": [],
   "source": []
  },
  {
   "cell_type": "code",
   "execution_count": null,
   "metadata": {},
   "outputs": [],
   "source": []
  },
  {
   "cell_type": "code",
   "execution_count": null,
   "metadata": {},
   "outputs": [],
   "source": []
  }
 ],
 "metadata": {
  "kernelspec": {
   "display_name": "Python 3",
   "language": "python",
   "name": "python3"
  },
  "language_info": {
   "codemirror_mode": {
    "name": "ipython",
    "version": 3
   },
   "file_extension": ".py",
   "mimetype": "text/x-python",
   "name": "python",
   "nbconvert_exporter": "python",
   "pygments_lexer": "ipython3",
   "version": "3.6.6"
  },
  "toc": {
   "base_numbering": 1,
   "nav_menu": {},
   "number_sections": true,
   "sideBar": true,
   "skip_h1_title": false,
   "title_cell": "Table of Contents",
   "title_sidebar": "Contents",
   "toc_cell": false,
   "toc_position": {},
   "toc_section_display": true,
   "toc_window_display": false
  }
 },
 "nbformat": 4,
 "nbformat_minor": 2
}
