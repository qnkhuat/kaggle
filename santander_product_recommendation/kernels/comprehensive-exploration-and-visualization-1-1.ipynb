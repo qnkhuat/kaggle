{
 "cells": [
  {
   "cell_type": "markdown",
   "metadata": {
    "_cell_guid": "53c54cff-0435-ac0a-0ddd-6dc1399ea704"
   },
   "source": [
    "# Comprehensive exploration and visualization"
   ]
  },
  {
   "cell_type": "markdown",
   "metadata": {
    "_cell_guid": "4bf64eb6-9c4e-fd81-8548-a2e347fb453b"
   },
   "source": [
    "This notebook is intended for data exploration and visualization to understand the drivers of customer behavior. I think it is meaningless to analyze the added or removed products by customer because the customer data (such as income, channel used, segment, employee index, customer index, etc.) are identical for the whole period. Hence, we cannot say that the customer has dropped or added a product because his income increased as the income is consistent throughout all months. However, we can analyze additions or substitutions or retention times across alll customers and compare these metrics with customers features such as income groups or channels or whatever. In my attempt here, I analyzed products additions and tried my best to understand what drives the customer to use different types of products.\n",
    "\n",
    "I hope you will enjoy it.\n",
    "\n",
    "***Please do not forget to upvote in case you like it.***"
   ]
  },
  {
   "cell_type": "markdown",
   "metadata": {
    "_cell_guid": "10499079-c77d-5e73-c520-72b4700d4dcc"
   },
   "source": [
    "## Import the necessary libraries"
   ]
  },
  {
   "cell_type": "code",
   "execution_count": 46,
   "metadata": {
    "ExecuteTime": {
     "end_time": "2018-10-20T03:31:00.677323Z",
     "start_time": "2018-10-20T03:31:00.669406Z"
    },
    "_cell_guid": "f2242687-b162-820b-c554-77873f43f1a6"
   },
   "outputs": [
    {
     "name": "stdout",
     "output_type": "stream",
     "text": [
      "Populating the interactive namespace from numpy and matplotlib\n"
     ]
    }
   ],
   "source": [
    "# Load packages\n",
    "import numpy as np\n",
    "import pandas as pd\n",
    "import seaborn as sns\n",
    "import matplotlib.pyplot as plt\n",
    "%pylab inline\n",
    "pylab.rcParams['figure.figsize'] = (10, 6) "
   ]
  },
  {
   "cell_type": "code",
   "execution_count": 47,
   "metadata": {
    "ExecuteTime": {
     "end_time": "2018-10-20T03:31:01.283867Z",
     "start_time": "2018-10-20T03:31:01.281194Z"
    },
    "_cell_guid": "a319e10c-3e76-456c-a9e7-5d802e8e8f17"
   },
   "outputs": [],
   "source": [
    "# to customize the displayed area of the dataframe \n",
    "#pd.set_option('display.height', 1000)\n",
    "pd.set_option('display.max_rows', 500)\n",
    "pd.set_option('display.max_columns', 500)\n",
    "pd.set_option('display.width', 1000)"
   ]
  },
  {
   "cell_type": "markdown",
   "metadata": {
    "_cell_guid": "c3dabc39-e1d0-8fb5-dff1-4886fbaefbed"
   },
   "source": [
    "Now that our packages are loaded, let’s read in and take a look at the data."
   ]
  },
  {
   "cell_type": "code",
   "execution_count": 48,
   "metadata": {
    "ExecuteTime": {
     "end_time": "2018-10-20T03:31:19.418008Z",
     "start_time": "2018-10-20T03:31:09.655867Z"
    },
    "_cell_guid": "51f1ad6b-2a16-1120-2924-7952546446d3"
   },
   "outputs": [
    {
     "name": "stderr",
     "output_type": "stream",
     "text": [
      "<string>:2: DtypeWarning: Columns (15) have mixed types. Specify dtype option on import or set low_memory=False.\n"
     ]
    },
    {
     "name": "stdout",
     "output_type": "stream",
     "text": [
      "CPU times: user 8.93 s, sys: 975 ms, total: 9.9 s\n",
      "Wall time: 9.76 s\n"
     ]
    }
   ],
   "source": [
    "%%time\n",
    "df = pd.read_csv(\"../data/train.csv\",\n",
    "                           dtype={\"sexo\":str, \"ind_nuevo\":str, \n",
    "                                  \"ult_fec_cli_1t\":str, \n",
    "                                  \"indext\":str}, nrows=2000000) \n",
    "\n"
   ]
  },
  {
   "cell_type": "code",
   "execution_count": 51,
   "metadata": {
    "ExecuteTime": {
     "end_time": "2018-10-20T03:32:22.785531Z",
     "start_time": "2018-10-20T03:32:21.861354Z"
    }
   },
   "outputs": [],
   "source": [
    "unique_ids   = pd.Series(df[\"ncodpers\"].unique())\n",
    "unique_id    = unique_ids.sample(n=600000)\n",
    "df           = df[df.ncodpers.isin(unique_id)]"
   ]
  },
  {
   "cell_type": "code",
   "execution_count": 52,
   "metadata": {
    "ExecuteTime": {
     "end_time": "2018-10-20T03:32:22.820030Z",
     "start_time": "2018-10-20T03:32:22.787136Z"
    },
    "scrolled": true
   },
   "outputs": [
    {
     "data": {
      "text/html": [
       "<div>\n",
       "<style scoped>\n",
       "    .dataframe tbody tr th:only-of-type {\n",
       "        vertical-align: middle;\n",
       "    }\n",
       "\n",
       "    .dataframe tbody tr th {\n",
       "        vertical-align: top;\n",
       "    }\n",
       "\n",
       "    .dataframe thead th {\n",
       "        text-align: right;\n",
       "    }\n",
       "</style>\n",
       "<table border=\"1\" class=\"dataframe\">\n",
       "  <thead>\n",
       "    <tr style=\"text-align: right;\">\n",
       "      <th></th>\n",
       "      <th>fecha_dato</th>\n",
       "      <th>ncodpers</th>\n",
       "      <th>ind_empleado</th>\n",
       "      <th>pais_residencia</th>\n",
       "      <th>sexo</th>\n",
       "      <th>age</th>\n",
       "      <th>fecha_alta</th>\n",
       "      <th>ind_nuevo</th>\n",
       "      <th>antiguedad</th>\n",
       "      <th>indrel</th>\n",
       "      <th>ult_fec_cli_1t</th>\n",
       "      <th>indrel_1mes</th>\n",
       "      <th>tiprel_1mes</th>\n",
       "      <th>indresi</th>\n",
       "      <th>indext</th>\n",
       "      <th>conyuemp</th>\n",
       "      <th>canal_entrada</th>\n",
       "      <th>indfall</th>\n",
       "      <th>tipodom</th>\n",
       "      <th>cod_prov</th>\n",
       "      <th>nomprov</th>\n",
       "      <th>ind_actividad_cliente</th>\n",
       "      <th>renta</th>\n",
       "      <th>segmento</th>\n",
       "      <th>ind_ahor_fin_ult1</th>\n",
       "      <th>ind_aval_fin_ult1</th>\n",
       "      <th>ind_cco_fin_ult1</th>\n",
       "      <th>ind_cder_fin_ult1</th>\n",
       "      <th>ind_cno_fin_ult1</th>\n",
       "      <th>ind_ctju_fin_ult1</th>\n",
       "      <th>ind_ctma_fin_ult1</th>\n",
       "      <th>ind_ctop_fin_ult1</th>\n",
       "      <th>ind_ctpp_fin_ult1</th>\n",
       "      <th>ind_deco_fin_ult1</th>\n",
       "      <th>ind_deme_fin_ult1</th>\n",
       "      <th>ind_dela_fin_ult1</th>\n",
       "      <th>ind_ecue_fin_ult1</th>\n",
       "      <th>ind_fond_fin_ult1</th>\n",
       "      <th>ind_hip_fin_ult1</th>\n",
       "      <th>ind_plan_fin_ult1</th>\n",
       "      <th>ind_pres_fin_ult1</th>\n",
       "      <th>ind_reca_fin_ult1</th>\n",
       "      <th>ind_tjcr_fin_ult1</th>\n",
       "      <th>ind_valo_fin_ult1</th>\n",
       "      <th>ind_viv_fin_ult1</th>\n",
       "      <th>ind_nomina_ult1</th>\n",
       "      <th>ind_nom_pens_ult1</th>\n",
       "      <th>ind_recibo_ult1</th>\n",
       "    </tr>\n",
       "  </thead>\n",
       "  <tbody>\n",
       "    <tr>\n",
       "      <th>0</th>\n",
       "      <td>2015-01-28</td>\n",
       "      <td>1375586</td>\n",
       "      <td>N</td>\n",
       "      <td>ES</td>\n",
       "      <td>H</td>\n",
       "      <td>35</td>\n",
       "      <td>2015-01-12</td>\n",
       "      <td>0</td>\n",
       "      <td>6</td>\n",
       "      <td>1.0</td>\n",
       "      <td>NaN</td>\n",
       "      <td>1.0</td>\n",
       "      <td>A</td>\n",
       "      <td>S</td>\n",
       "      <td>N</td>\n",
       "      <td>NaN</td>\n",
       "      <td>KHL</td>\n",
       "      <td>N</td>\n",
       "      <td>1.0</td>\n",
       "      <td>29.0</td>\n",
       "      <td>MALAGA</td>\n",
       "      <td>1.0</td>\n",
       "      <td>87218.10</td>\n",
       "      <td>02 - PARTICULARES</td>\n",
       "      <td>0</td>\n",
       "      <td>0</td>\n",
       "      <td>1</td>\n",
       "      <td>0</td>\n",
       "      <td>0</td>\n",
       "      <td>0</td>\n",
       "      <td>0</td>\n",
       "      <td>0</td>\n",
       "      <td>0</td>\n",
       "      <td>0</td>\n",
       "      <td>0</td>\n",
       "      <td>0</td>\n",
       "      <td>0</td>\n",
       "      <td>0</td>\n",
       "      <td>0</td>\n",
       "      <td>0</td>\n",
       "      <td>0</td>\n",
       "      <td>0</td>\n",
       "      <td>0</td>\n",
       "      <td>0</td>\n",
       "      <td>0</td>\n",
       "      <td>0.0</td>\n",
       "      <td>0.0</td>\n",
       "      <td>0</td>\n",
       "    </tr>\n",
       "    <tr>\n",
       "      <th>1</th>\n",
       "      <td>2015-01-28</td>\n",
       "      <td>1050611</td>\n",
       "      <td>N</td>\n",
       "      <td>ES</td>\n",
       "      <td>V</td>\n",
       "      <td>23</td>\n",
       "      <td>2012-08-10</td>\n",
       "      <td>0</td>\n",
       "      <td>35</td>\n",
       "      <td>1.0</td>\n",
       "      <td>NaN</td>\n",
       "      <td>1.0</td>\n",
       "      <td>I</td>\n",
       "      <td>S</td>\n",
       "      <td>S</td>\n",
       "      <td>NaN</td>\n",
       "      <td>KHE</td>\n",
       "      <td>N</td>\n",
       "      <td>1.0</td>\n",
       "      <td>13.0</td>\n",
       "      <td>CIUDAD REAL</td>\n",
       "      <td>0.0</td>\n",
       "      <td>35548.74</td>\n",
       "      <td>03 - UNIVERSITARIO</td>\n",
       "      <td>0</td>\n",
       "      <td>0</td>\n",
       "      <td>1</td>\n",
       "      <td>0</td>\n",
       "      <td>0</td>\n",
       "      <td>0</td>\n",
       "      <td>0</td>\n",
       "      <td>0</td>\n",
       "      <td>0</td>\n",
       "      <td>0</td>\n",
       "      <td>0</td>\n",
       "      <td>0</td>\n",
       "      <td>0</td>\n",
       "      <td>0</td>\n",
       "      <td>0</td>\n",
       "      <td>0</td>\n",
       "      <td>0</td>\n",
       "      <td>0</td>\n",
       "      <td>0</td>\n",
       "      <td>0</td>\n",
       "      <td>0</td>\n",
       "      <td>0.0</td>\n",
       "      <td>0.0</td>\n",
       "      <td>0</td>\n",
       "    </tr>\n",
       "    <tr>\n",
       "      <th>2</th>\n",
       "      <td>2015-01-28</td>\n",
       "      <td>1050612</td>\n",
       "      <td>N</td>\n",
       "      <td>ES</td>\n",
       "      <td>V</td>\n",
       "      <td>23</td>\n",
       "      <td>2012-08-10</td>\n",
       "      <td>0</td>\n",
       "      <td>35</td>\n",
       "      <td>1.0</td>\n",
       "      <td>NaN</td>\n",
       "      <td>1.0</td>\n",
       "      <td>I</td>\n",
       "      <td>S</td>\n",
       "      <td>N</td>\n",
       "      <td>NaN</td>\n",
       "      <td>KHE</td>\n",
       "      <td>N</td>\n",
       "      <td>1.0</td>\n",
       "      <td>13.0</td>\n",
       "      <td>CIUDAD REAL</td>\n",
       "      <td>0.0</td>\n",
       "      <td>122179.11</td>\n",
       "      <td>03 - UNIVERSITARIO</td>\n",
       "      <td>0</td>\n",
       "      <td>0</td>\n",
       "      <td>1</td>\n",
       "      <td>0</td>\n",
       "      <td>0</td>\n",
       "      <td>0</td>\n",
       "      <td>0</td>\n",
       "      <td>0</td>\n",
       "      <td>0</td>\n",
       "      <td>0</td>\n",
       "      <td>0</td>\n",
       "      <td>0</td>\n",
       "      <td>0</td>\n",
       "      <td>0</td>\n",
       "      <td>0</td>\n",
       "      <td>0</td>\n",
       "      <td>0</td>\n",
       "      <td>0</td>\n",
       "      <td>0</td>\n",
       "      <td>0</td>\n",
       "      <td>0</td>\n",
       "      <td>0.0</td>\n",
       "      <td>0.0</td>\n",
       "      <td>0</td>\n",
       "    </tr>\n",
       "    <tr>\n",
       "      <th>3</th>\n",
       "      <td>2015-01-28</td>\n",
       "      <td>1050613</td>\n",
       "      <td>N</td>\n",
       "      <td>ES</td>\n",
       "      <td>H</td>\n",
       "      <td>22</td>\n",
       "      <td>2012-08-10</td>\n",
       "      <td>0</td>\n",
       "      <td>35</td>\n",
       "      <td>1.0</td>\n",
       "      <td>NaN</td>\n",
       "      <td>1.0</td>\n",
       "      <td>I</td>\n",
       "      <td>S</td>\n",
       "      <td>N</td>\n",
       "      <td>NaN</td>\n",
       "      <td>KHD</td>\n",
       "      <td>N</td>\n",
       "      <td>1.0</td>\n",
       "      <td>50.0</td>\n",
       "      <td>ZARAGOZA</td>\n",
       "      <td>0.0</td>\n",
       "      <td>119775.54</td>\n",
       "      <td>03 - UNIVERSITARIO</td>\n",
       "      <td>0</td>\n",
       "      <td>0</td>\n",
       "      <td>0</td>\n",
       "      <td>0</td>\n",
       "      <td>0</td>\n",
       "      <td>0</td>\n",
       "      <td>0</td>\n",
       "      <td>0</td>\n",
       "      <td>0</td>\n",
       "      <td>1</td>\n",
       "      <td>0</td>\n",
       "      <td>0</td>\n",
       "      <td>0</td>\n",
       "      <td>0</td>\n",
       "      <td>0</td>\n",
       "      <td>0</td>\n",
       "      <td>0</td>\n",
       "      <td>0</td>\n",
       "      <td>0</td>\n",
       "      <td>0</td>\n",
       "      <td>0</td>\n",
       "      <td>0.0</td>\n",
       "      <td>0.0</td>\n",
       "      <td>0</td>\n",
       "    </tr>\n",
       "    <tr>\n",
       "      <th>4</th>\n",
       "      <td>2015-01-28</td>\n",
       "      <td>1050614</td>\n",
       "      <td>N</td>\n",
       "      <td>ES</td>\n",
       "      <td>V</td>\n",
       "      <td>23</td>\n",
       "      <td>2012-08-10</td>\n",
       "      <td>0</td>\n",
       "      <td>35</td>\n",
       "      <td>1.0</td>\n",
       "      <td>NaN</td>\n",
       "      <td>1.0</td>\n",
       "      <td>A</td>\n",
       "      <td>S</td>\n",
       "      <td>N</td>\n",
       "      <td>NaN</td>\n",
       "      <td>KHE</td>\n",
       "      <td>N</td>\n",
       "      <td>1.0</td>\n",
       "      <td>50.0</td>\n",
       "      <td>ZARAGOZA</td>\n",
       "      <td>1.0</td>\n",
       "      <td>NaN</td>\n",
       "      <td>03 - UNIVERSITARIO</td>\n",
       "      <td>0</td>\n",
       "      <td>0</td>\n",
       "      <td>1</td>\n",
       "      <td>0</td>\n",
       "      <td>0</td>\n",
       "      <td>0</td>\n",
       "      <td>0</td>\n",
       "      <td>0</td>\n",
       "      <td>0</td>\n",
       "      <td>0</td>\n",
       "      <td>0</td>\n",
       "      <td>0</td>\n",
       "      <td>0</td>\n",
       "      <td>0</td>\n",
       "      <td>0</td>\n",
       "      <td>0</td>\n",
       "      <td>0</td>\n",
       "      <td>0</td>\n",
       "      <td>0</td>\n",
       "      <td>0</td>\n",
       "      <td>0</td>\n",
       "      <td>0.0</td>\n",
       "      <td>0.0</td>\n",
       "      <td>0</td>\n",
       "    </tr>\n",
       "  </tbody>\n",
       "</table>\n",
       "</div>"
      ],
      "text/plain": [
       "   fecha_dato  ncodpers ind_empleado pais_residencia sexo  age  fecha_alta ind_nuevo antiguedad  indrel ult_fec_cli_1t  indrel_1mes tiprel_1mes indresi indext conyuemp canal_entrada indfall  tipodom  cod_prov      nomprov  ind_actividad_cliente      renta            segmento  ind_ahor_fin_ult1  ind_aval_fin_ult1  ind_cco_fin_ult1  ind_cder_fin_ult1  ind_cno_fin_ult1  ind_ctju_fin_ult1  ind_ctma_fin_ult1  ind_ctop_fin_ult1  ind_ctpp_fin_ult1  ind_deco_fin_ult1  ind_deme_fin_ult1  ind_dela_fin_ult1  ind_ecue_fin_ult1  ind_fond_fin_ult1  ind_hip_fin_ult1  ind_plan_fin_ult1  ind_pres_fin_ult1  ind_reca_fin_ult1  ind_tjcr_fin_ult1  ind_valo_fin_ult1  ind_viv_fin_ult1  ind_nomina_ult1  ind_nom_pens_ult1  ind_recibo_ult1\n",
       "0  2015-01-28   1375586            N              ES    H   35  2015-01-12         0          6     1.0            NaN          1.0           A       S      N      NaN           KHL       N      1.0      29.0       MALAGA                    1.0   87218.10   02 - PARTICULARES                  0                  0                 1                  0                 0                  0                  0                  0                  0                  0                  0                  0                  0                  0                 0                  0                  0                  0                  0                  0                 0              0.0                0.0                0\n",
       "1  2015-01-28   1050611            N              ES    V   23  2012-08-10         0         35     1.0            NaN          1.0           I       S      S      NaN           KHE       N      1.0      13.0  CIUDAD REAL                    0.0   35548.74  03 - UNIVERSITARIO                  0                  0                 1                  0                 0                  0                  0                  0                  0                  0                  0                  0                  0                  0                 0                  0                  0                  0                  0                  0                 0              0.0                0.0                0\n",
       "2  2015-01-28   1050612            N              ES    V   23  2012-08-10         0         35     1.0            NaN          1.0           I       S      N      NaN           KHE       N      1.0      13.0  CIUDAD REAL                    0.0  122179.11  03 - UNIVERSITARIO                  0                  0                 1                  0                 0                  0                  0                  0                  0                  0                  0                  0                  0                  0                 0                  0                  0                  0                  0                  0                 0              0.0                0.0                0\n",
       "3  2015-01-28   1050613            N              ES    H   22  2012-08-10         0         35     1.0            NaN          1.0           I       S      N      NaN           KHD       N      1.0      50.0     ZARAGOZA                    0.0  119775.54  03 - UNIVERSITARIO                  0                  0                 0                  0                 0                  0                  0                  0                  0                  1                  0                  0                  0                  0                 0                  0                  0                  0                  0                  0                 0              0.0                0.0                0\n",
       "4  2015-01-28   1050614            N              ES    V   23  2012-08-10         0         35     1.0            NaN          1.0           A       S      N      NaN           KHE       N      1.0      50.0     ZARAGOZA                    1.0        NaN  03 - UNIVERSITARIO                  0                  0                 1                  0                 0                  0                  0                  0                  0                  0                  0                  0                  0                  0                 0                  0                  0                  0                  0                  0                 0              0.0                0.0                0"
      ]
     },
     "execution_count": 52,
     "metadata": {},
     "output_type": "execute_result"
    }
   ],
   "source": [
    "df.head()"
   ]
  },
  {
   "cell_type": "code",
   "execution_count": 53,
   "metadata": {
    "ExecuteTime": {
     "end_time": "2018-10-20T03:32:27.729840Z",
     "start_time": "2018-10-20T03:32:25.141397Z"
    }
   },
   "outputs": [
    {
     "data": {
      "text/html": [
       "<div>\n",
       "<style scoped>\n",
       "    .dataframe tbody tr th:only-of-type {\n",
       "        vertical-align: middle;\n",
       "    }\n",
       "\n",
       "    .dataframe tbody tr th {\n",
       "        vertical-align: top;\n",
       "    }\n",
       "\n",
       "    .dataframe thead th {\n",
       "        text-align: right;\n",
       "    }\n",
       "</style>\n",
       "<table border=\"1\" class=\"dataframe\">\n",
       "  <thead>\n",
       "    <tr style=\"text-align: right;\">\n",
       "      <th></th>\n",
       "      <th>ncodpers</th>\n",
       "      <th>indrel</th>\n",
       "      <th>indrel_1mes</th>\n",
       "      <th>tipodom</th>\n",
       "      <th>cod_prov</th>\n",
       "      <th>ind_actividad_cliente</th>\n",
       "      <th>renta</th>\n",
       "      <th>ind_ahor_fin_ult1</th>\n",
       "      <th>ind_aval_fin_ult1</th>\n",
       "      <th>ind_cco_fin_ult1</th>\n",
       "      <th>ind_cder_fin_ult1</th>\n",
       "      <th>ind_cno_fin_ult1</th>\n",
       "      <th>ind_ctju_fin_ult1</th>\n",
       "      <th>ind_ctma_fin_ult1</th>\n",
       "      <th>ind_ctop_fin_ult1</th>\n",
       "      <th>ind_ctpp_fin_ult1</th>\n",
       "      <th>ind_deco_fin_ult1</th>\n",
       "      <th>ind_deme_fin_ult1</th>\n",
       "      <th>ind_dela_fin_ult1</th>\n",
       "      <th>ind_ecue_fin_ult1</th>\n",
       "      <th>ind_fond_fin_ult1</th>\n",
       "      <th>ind_hip_fin_ult1</th>\n",
       "      <th>ind_plan_fin_ult1</th>\n",
       "      <th>ind_pres_fin_ult1</th>\n",
       "      <th>ind_reca_fin_ult1</th>\n",
       "      <th>ind_tjcr_fin_ult1</th>\n",
       "      <th>ind_valo_fin_ult1</th>\n",
       "      <th>ind_viv_fin_ult1</th>\n",
       "      <th>ind_nomina_ult1</th>\n",
       "      <th>ind_nom_pens_ult1</th>\n",
       "      <th>ind_recibo_ult1</th>\n",
       "    </tr>\n",
       "  </thead>\n",
       "  <tbody>\n",
       "    <tr>\n",
       "      <th>count</th>\n",
       "      <td>1.892379e+06</td>\n",
       "      <td>1.874336e+06</td>\n",
       "      <td>1.874336e+06</td>\n",
       "      <td>1874336.0</td>\n",
       "      <td>1.862871e+06</td>\n",
       "      <td>1.874336e+06</td>\n",
       "      <td>1.556829e+06</td>\n",
       "      <td>1.892379e+06</td>\n",
       "      <td>1.892379e+06</td>\n",
       "      <td>1.892379e+06</td>\n",
       "      <td>1.892379e+06</td>\n",
       "      <td>1.892379e+06</td>\n",
       "      <td>1.892379e+06</td>\n",
       "      <td>1.892379e+06</td>\n",
       "      <td>1.892379e+06</td>\n",
       "      <td>1.892379e+06</td>\n",
       "      <td>1.892379e+06</td>\n",
       "      <td>1.892379e+06</td>\n",
       "      <td>1.892379e+06</td>\n",
       "      <td>1.892379e+06</td>\n",
       "      <td>1.892379e+06</td>\n",
       "      <td>1.892379e+06</td>\n",
       "      <td>1.892379e+06</td>\n",
       "      <td>1.892379e+06</td>\n",
       "      <td>1.892379e+06</td>\n",
       "      <td>1.892379e+06</td>\n",
       "      <td>1.892379e+06</td>\n",
       "      <td>1.892379e+06</td>\n",
       "      <td>1.883402e+06</td>\n",
       "      <td>1.883402e+06</td>\n",
       "      <td>1.892379e+06</td>\n",
       "    </tr>\n",
       "    <tr>\n",
       "      <th>mean</th>\n",
       "      <td>7.694202e+05</td>\n",
       "      <td>1.122138e+00</td>\n",
       "      <td>1.000071e+00</td>\n",
       "      <td>1.0</td>\n",
       "      <td>2.673243e+01</td>\n",
       "      <td>5.453302e-01</td>\n",
       "      <td>1.351601e+05</td>\n",
       "      <td>1.437344e-04</td>\n",
       "      <td>3.487673e-05</td>\n",
       "      <td>7.725699e-01</td>\n",
       "      <td>5.194520e-04</td>\n",
       "      <td>9.649124e-02</td>\n",
       "      <td>1.313955e-02</td>\n",
       "      <td>1.258099e-02</td>\n",
       "      <td>1.735387e-01</td>\n",
       "      <td>6.318766e-02</td>\n",
       "      <td>3.116712e-03</td>\n",
       "      <td>2.652217e-03</td>\n",
       "      <td>5.845975e-02</td>\n",
       "      <td>9.887184e-02</td>\n",
       "      <td>2.293568e-02</td>\n",
       "      <td>8.120995e-03</td>\n",
       "      <td>1.171383e-02</td>\n",
       "      <td>3.874488e-03</td>\n",
       "      <td>6.296043e-02</td>\n",
       "      <td>5.702769e-02</td>\n",
       "      <td>3.237037e-02</td>\n",
       "      <td>5.269029e-03</td>\n",
       "      <td>6.629864e-02</td>\n",
       "      <td>7.149456e-02</td>\n",
       "      <td>1.538983e-01</td>\n",
       "    </tr>\n",
       "    <tr>\n",
       "      <th>std</th>\n",
       "      <td>3.981364e+05</td>\n",
       "      <td>3.457547e+00</td>\n",
       "      <td>1.195738e-02</td>\n",
       "      <td>0.0</td>\n",
       "      <td>1.263078e+01</td>\n",
       "      <td>4.979411e-01</td>\n",
       "      <td>2.225509e+05</td>\n",
       "      <td>1.198807e-02</td>\n",
       "      <td>5.905551e-03</td>\n",
       "      <td>4.191727e-01</td>\n",
       "      <td>2.278557e-02</td>\n",
       "      <td>2.952638e-01</td>\n",
       "      <td>1.138723e-01</td>\n",
       "      <td>1.114572e-01</td>\n",
       "      <td>3.787124e-01</td>\n",
       "      <td>2.433002e-01</td>\n",
       "      <td>5.574047e-02</td>\n",
       "      <td>5.143135e-02</td>\n",
       "      <td>2.346108e-01</td>\n",
       "      <td>2.984899e-01</td>\n",
       "      <td>1.496985e-01</td>\n",
       "      <td>8.974992e-02</td>\n",
       "      <td>1.075947e-01</td>\n",
       "      <td>6.212470e-02</td>\n",
       "      <td>2.428918e-01</td>\n",
       "      <td>2.318956e-01</td>\n",
       "      <td>1.769818e-01</td>\n",
       "      <td>7.239661e-02</td>\n",
       "      <td>2.488035e-01</td>\n",
       "      <td>2.576492e-01</td>\n",
       "      <td>3.608514e-01</td>\n",
       "    </tr>\n",
       "    <tr>\n",
       "      <th>min</th>\n",
       "      <td>1.588900e+04</td>\n",
       "      <td>1.000000e+00</td>\n",
       "      <td>1.000000e+00</td>\n",
       "      <td>1.0</td>\n",
       "      <td>1.000000e+00</td>\n",
       "      <td>0.000000e+00</td>\n",
       "      <td>1.202730e+03</td>\n",
       "      <td>0.000000e+00</td>\n",
       "      <td>0.000000e+00</td>\n",
       "      <td>0.000000e+00</td>\n",
       "      <td>0.000000e+00</td>\n",
       "      <td>0.000000e+00</td>\n",
       "      <td>0.000000e+00</td>\n",
       "      <td>0.000000e+00</td>\n",
       "      <td>0.000000e+00</td>\n",
       "      <td>0.000000e+00</td>\n",
       "      <td>0.000000e+00</td>\n",
       "      <td>0.000000e+00</td>\n",
       "      <td>0.000000e+00</td>\n",
       "      <td>0.000000e+00</td>\n",
       "      <td>0.000000e+00</td>\n",
       "      <td>0.000000e+00</td>\n",
       "      <td>0.000000e+00</td>\n",
       "      <td>0.000000e+00</td>\n",
       "      <td>0.000000e+00</td>\n",
       "      <td>0.000000e+00</td>\n",
       "      <td>0.000000e+00</td>\n",
       "      <td>0.000000e+00</td>\n",
       "      <td>0.000000e+00</td>\n",
       "      <td>0.000000e+00</td>\n",
       "      <td>0.000000e+00</td>\n",
       "    </tr>\n",
       "    <tr>\n",
       "      <th>25%</th>\n",
       "      <td>4.332815e+05</td>\n",
       "      <td>1.000000e+00</td>\n",
       "      <td>1.000000e+00</td>\n",
       "      <td>1.0</td>\n",
       "      <td>1.600000e+01</td>\n",
       "      <td>0.000000e+00</td>\n",
       "      <td>6.961044e+04</td>\n",
       "      <td>0.000000e+00</td>\n",
       "      <td>0.000000e+00</td>\n",
       "      <td>1.000000e+00</td>\n",
       "      <td>0.000000e+00</td>\n",
       "      <td>0.000000e+00</td>\n",
       "      <td>0.000000e+00</td>\n",
       "      <td>0.000000e+00</td>\n",
       "      <td>0.000000e+00</td>\n",
       "      <td>0.000000e+00</td>\n",
       "      <td>0.000000e+00</td>\n",
       "      <td>0.000000e+00</td>\n",
       "      <td>0.000000e+00</td>\n",
       "      <td>0.000000e+00</td>\n",
       "      <td>0.000000e+00</td>\n",
       "      <td>0.000000e+00</td>\n",
       "      <td>0.000000e+00</td>\n",
       "      <td>0.000000e+00</td>\n",
       "      <td>0.000000e+00</td>\n",
       "      <td>0.000000e+00</td>\n",
       "      <td>0.000000e+00</td>\n",
       "      <td>0.000000e+00</td>\n",
       "      <td>0.000000e+00</td>\n",
       "      <td>0.000000e+00</td>\n",
       "      <td>0.000000e+00</td>\n",
       "    </tr>\n",
       "    <tr>\n",
       "      <th>50%</th>\n",
       "      <td>8.341890e+05</td>\n",
       "      <td>1.000000e+00</td>\n",
       "      <td>1.000000e+00</td>\n",
       "      <td>1.0</td>\n",
       "      <td>2.800000e+01</td>\n",
       "      <td>1.000000e+00</td>\n",
       "      <td>1.033595e+05</td>\n",
       "      <td>0.000000e+00</td>\n",
       "      <td>0.000000e+00</td>\n",
       "      <td>1.000000e+00</td>\n",
       "      <td>0.000000e+00</td>\n",
       "      <td>0.000000e+00</td>\n",
       "      <td>0.000000e+00</td>\n",
       "      <td>0.000000e+00</td>\n",
       "      <td>0.000000e+00</td>\n",
       "      <td>0.000000e+00</td>\n",
       "      <td>0.000000e+00</td>\n",
       "      <td>0.000000e+00</td>\n",
       "      <td>0.000000e+00</td>\n",
       "      <td>0.000000e+00</td>\n",
       "      <td>0.000000e+00</td>\n",
       "      <td>0.000000e+00</td>\n",
       "      <td>0.000000e+00</td>\n",
       "      <td>0.000000e+00</td>\n",
       "      <td>0.000000e+00</td>\n",
       "      <td>0.000000e+00</td>\n",
       "      <td>0.000000e+00</td>\n",
       "      <td>0.000000e+00</td>\n",
       "      <td>0.000000e+00</td>\n",
       "      <td>0.000000e+00</td>\n",
       "      <td>0.000000e+00</td>\n",
       "    </tr>\n",
       "    <tr>\n",
       "      <th>75%</th>\n",
       "      <td>1.113559e+06</td>\n",
       "      <td>1.000000e+00</td>\n",
       "      <td>1.000000e+00</td>\n",
       "      <td>1.0</td>\n",
       "      <td>3.400000e+01</td>\n",
       "      <td>1.000000e+00</td>\n",
       "      <td>1.579638e+05</td>\n",
       "      <td>0.000000e+00</td>\n",
       "      <td>0.000000e+00</td>\n",
       "      <td>1.000000e+00</td>\n",
       "      <td>0.000000e+00</td>\n",
       "      <td>0.000000e+00</td>\n",
       "      <td>0.000000e+00</td>\n",
       "      <td>0.000000e+00</td>\n",
       "      <td>0.000000e+00</td>\n",
       "      <td>0.000000e+00</td>\n",
       "      <td>0.000000e+00</td>\n",
       "      <td>0.000000e+00</td>\n",
       "      <td>0.000000e+00</td>\n",
       "      <td>0.000000e+00</td>\n",
       "      <td>0.000000e+00</td>\n",
       "      <td>0.000000e+00</td>\n",
       "      <td>0.000000e+00</td>\n",
       "      <td>0.000000e+00</td>\n",
       "      <td>0.000000e+00</td>\n",
       "      <td>0.000000e+00</td>\n",
       "      <td>0.000000e+00</td>\n",
       "      <td>0.000000e+00</td>\n",
       "      <td>0.000000e+00</td>\n",
       "      <td>0.000000e+00</td>\n",
       "      <td>0.000000e+00</td>\n",
       "    </tr>\n",
       "    <tr>\n",
       "      <th>max</th>\n",
       "      <td>1.394803e+06</td>\n",
       "      <td>9.900000e+01</td>\n",
       "      <td>3.000000e+00</td>\n",
       "      <td>1.0</td>\n",
       "      <td>5.200000e+01</td>\n",
       "      <td>1.000000e+00</td>\n",
       "      <td>2.889440e+07</td>\n",
       "      <td>1.000000e+00</td>\n",
       "      <td>1.000000e+00</td>\n",
       "      <td>1.000000e+00</td>\n",
       "      <td>1.000000e+00</td>\n",
       "      <td>1.000000e+00</td>\n",
       "      <td>1.000000e+00</td>\n",
       "      <td>1.000000e+00</td>\n",
       "      <td>1.000000e+00</td>\n",
       "      <td>1.000000e+00</td>\n",
       "      <td>1.000000e+00</td>\n",
       "      <td>1.000000e+00</td>\n",
       "      <td>1.000000e+00</td>\n",
       "      <td>1.000000e+00</td>\n",
       "      <td>1.000000e+00</td>\n",
       "      <td>1.000000e+00</td>\n",
       "      <td>1.000000e+00</td>\n",
       "      <td>1.000000e+00</td>\n",
       "      <td>1.000000e+00</td>\n",
       "      <td>1.000000e+00</td>\n",
       "      <td>1.000000e+00</td>\n",
       "      <td>1.000000e+00</td>\n",
       "      <td>1.000000e+00</td>\n",
       "      <td>1.000000e+00</td>\n",
       "      <td>1.000000e+00</td>\n",
       "    </tr>\n",
       "  </tbody>\n",
       "</table>\n",
       "</div>"
      ],
      "text/plain": [
       "           ncodpers        indrel   indrel_1mes    tipodom      cod_prov  ind_actividad_cliente         renta  ind_ahor_fin_ult1  ind_aval_fin_ult1  ind_cco_fin_ult1  ind_cder_fin_ult1  ind_cno_fin_ult1  ind_ctju_fin_ult1  ind_ctma_fin_ult1  ind_ctop_fin_ult1  ind_ctpp_fin_ult1  ind_deco_fin_ult1  ind_deme_fin_ult1  ind_dela_fin_ult1  ind_ecue_fin_ult1  ind_fond_fin_ult1  ind_hip_fin_ult1  ind_plan_fin_ult1  ind_pres_fin_ult1  ind_reca_fin_ult1  ind_tjcr_fin_ult1  ind_valo_fin_ult1  ind_viv_fin_ult1  ind_nomina_ult1  ind_nom_pens_ult1  ind_recibo_ult1\n",
       "count  1.892379e+06  1.874336e+06  1.874336e+06  1874336.0  1.862871e+06           1.874336e+06  1.556829e+06       1.892379e+06       1.892379e+06      1.892379e+06       1.892379e+06      1.892379e+06       1.892379e+06       1.892379e+06       1.892379e+06       1.892379e+06       1.892379e+06       1.892379e+06       1.892379e+06       1.892379e+06       1.892379e+06      1.892379e+06       1.892379e+06       1.892379e+06       1.892379e+06       1.892379e+06       1.892379e+06      1.892379e+06     1.883402e+06       1.883402e+06     1.892379e+06\n",
       "mean   7.694202e+05  1.122138e+00  1.000071e+00        1.0  2.673243e+01           5.453302e-01  1.351601e+05       1.437344e-04       3.487673e-05      7.725699e-01       5.194520e-04      9.649124e-02       1.313955e-02       1.258099e-02       1.735387e-01       6.318766e-02       3.116712e-03       2.652217e-03       5.845975e-02       9.887184e-02       2.293568e-02      8.120995e-03       1.171383e-02       3.874488e-03       6.296043e-02       5.702769e-02       3.237037e-02      5.269029e-03     6.629864e-02       7.149456e-02     1.538983e-01\n",
       "std    3.981364e+05  3.457547e+00  1.195738e-02        0.0  1.263078e+01           4.979411e-01  2.225509e+05       1.198807e-02       5.905551e-03      4.191727e-01       2.278557e-02      2.952638e-01       1.138723e-01       1.114572e-01       3.787124e-01       2.433002e-01       5.574047e-02       5.143135e-02       2.346108e-01       2.984899e-01       1.496985e-01      8.974992e-02       1.075947e-01       6.212470e-02       2.428918e-01       2.318956e-01       1.769818e-01      7.239661e-02     2.488035e-01       2.576492e-01     3.608514e-01\n",
       "min    1.588900e+04  1.000000e+00  1.000000e+00        1.0  1.000000e+00           0.000000e+00  1.202730e+03       0.000000e+00       0.000000e+00      0.000000e+00       0.000000e+00      0.000000e+00       0.000000e+00       0.000000e+00       0.000000e+00       0.000000e+00       0.000000e+00       0.000000e+00       0.000000e+00       0.000000e+00       0.000000e+00      0.000000e+00       0.000000e+00       0.000000e+00       0.000000e+00       0.000000e+00       0.000000e+00      0.000000e+00     0.000000e+00       0.000000e+00     0.000000e+00\n",
       "25%    4.332815e+05  1.000000e+00  1.000000e+00        1.0  1.600000e+01           0.000000e+00  6.961044e+04       0.000000e+00       0.000000e+00      1.000000e+00       0.000000e+00      0.000000e+00       0.000000e+00       0.000000e+00       0.000000e+00       0.000000e+00       0.000000e+00       0.000000e+00       0.000000e+00       0.000000e+00       0.000000e+00      0.000000e+00       0.000000e+00       0.000000e+00       0.000000e+00       0.000000e+00       0.000000e+00      0.000000e+00     0.000000e+00       0.000000e+00     0.000000e+00\n",
       "50%    8.341890e+05  1.000000e+00  1.000000e+00        1.0  2.800000e+01           1.000000e+00  1.033595e+05       0.000000e+00       0.000000e+00      1.000000e+00       0.000000e+00      0.000000e+00       0.000000e+00       0.000000e+00       0.000000e+00       0.000000e+00       0.000000e+00       0.000000e+00       0.000000e+00       0.000000e+00       0.000000e+00      0.000000e+00       0.000000e+00       0.000000e+00       0.000000e+00       0.000000e+00       0.000000e+00      0.000000e+00     0.000000e+00       0.000000e+00     0.000000e+00\n",
       "75%    1.113559e+06  1.000000e+00  1.000000e+00        1.0  3.400000e+01           1.000000e+00  1.579638e+05       0.000000e+00       0.000000e+00      1.000000e+00       0.000000e+00      0.000000e+00       0.000000e+00       0.000000e+00       0.000000e+00       0.000000e+00       0.000000e+00       0.000000e+00       0.000000e+00       0.000000e+00       0.000000e+00      0.000000e+00       0.000000e+00       0.000000e+00       0.000000e+00       0.000000e+00       0.000000e+00      0.000000e+00     0.000000e+00       0.000000e+00     0.000000e+00\n",
       "max    1.394803e+06  9.900000e+01  3.000000e+00        1.0  5.200000e+01           1.000000e+00  2.889440e+07       1.000000e+00       1.000000e+00      1.000000e+00       1.000000e+00      1.000000e+00       1.000000e+00       1.000000e+00       1.000000e+00       1.000000e+00       1.000000e+00       1.000000e+00       1.000000e+00       1.000000e+00       1.000000e+00      1.000000e+00       1.000000e+00       1.000000e+00       1.000000e+00       1.000000e+00       1.000000e+00      1.000000e+00     1.000000e+00       1.000000e+00     1.000000e+00"
      ]
     },
     "execution_count": 53,
     "metadata": {},
     "output_type": "execute_result"
    }
   ],
   "source": [
    "df.describe()"
   ]
  },
  {
   "cell_type": "markdown",
   "metadata": {
    "_cell_guid": "48c5ea7a-e967-5dae-4ccb-01cfd114f716"
   },
   "source": [
    "## Data cleaning"
   ]
  },
  {
   "cell_type": "code",
   "execution_count": 54,
   "metadata": {
    "ExecuteTime": {
     "end_time": "2018-10-20T03:32:50.225328Z",
     "start_time": "2018-10-20T03:32:50.216765Z"
    },
    "_cell_guid": "7c923020-91c5-0055-81a7-c8f36e2157d3"
   },
   "outputs": [
    {
     "data": {
      "text/plain": [
       "1892379"
      ]
     },
     "execution_count": 54,
     "metadata": {},
     "output_type": "execute_result"
    }
   ],
   "source": [
    "# Records count\n",
    "df[\"ncodpers\"].count()"
   ]
  },
  {
   "cell_type": "code",
   "execution_count": 55,
   "metadata": {
    "ExecuteTime": {
     "end_time": "2018-10-20T03:32:54.272362Z",
     "start_time": "2018-10-20T03:32:50.710028Z"
    },
    "_cell_guid": "bf30ff4b-3f4d-ed47-8652-790c03276b2d"
   },
   "outputs": [],
   "source": [
    "# Change datatype\n",
    "df[\"age\"]   = pd.to_numeric(df[\"age\"], errors=\"coerce\") \n",
    "df[\"antiguedad\"]   = pd.to_numeric(df[\"antiguedad\"], errors=\"coerce\") \n",
    "df[\"indrel_1mes\"]   = pd.to_numeric(df[\"indrel_1mes\"], errors=\"coerce\") "
   ]
  },
  {
   "cell_type": "code",
   "execution_count": 20,
   "metadata": {
    "ExecuteTime": {
     "end_time": "2018-10-20T03:09:35.980996Z",
     "start_time": "2018-10-20T03:09:35.797677Z"
    },
    "_cell_guid": "4607f76c-bd00-cab6-3935-0883e5858d53"
   },
   "outputs": [
    {
     "data": {
      "text/plain": [
       "fecha_dato                    0\n",
       "ncodpers                      0\n",
       "ind_empleado               1655\n",
       "pais_residencia            1655\n",
       "sexo                       1655\n",
       "age                        1655\n",
       "fecha_alta                 1655\n",
       "ind_nuevo                  1655\n",
       "antiguedad                 1655\n",
       "indrel                     1655\n",
       "ult_fec_cli_1t           169720\n",
       "indrel_1mes                1655\n",
       "tiprel_1mes                1655\n",
       "indresi                    1655\n",
       "indext                     1655\n",
       "conyuemp                 170000\n",
       "canal_entrada              1664\n",
       "indfall                    1655\n",
       "tipodom                    1655\n",
       "cod_prov                   1991\n",
       "nomprov                    1991\n",
       "ind_actividad_cliente      1655\n",
       "renta                     31454\n",
       "segmento                   1667\n",
       "ind_ahor_fin_ult1             0\n",
       "ind_aval_fin_ult1             0\n",
       "ind_cco_fin_ult1              0\n",
       "ind_cder_fin_ult1             0\n",
       "ind_cno_fin_ult1              0\n",
       "ind_ctju_fin_ult1             0\n",
       "ind_ctma_fin_ult1             0\n",
       "ind_ctop_fin_ult1             0\n",
       "ind_ctpp_fin_ult1             0\n",
       "ind_deco_fin_ult1             0\n",
       "ind_deme_fin_ult1             0\n",
       "ind_dela_fin_ult1             0\n",
       "ind_ecue_fin_ult1             0\n",
       "ind_fond_fin_ult1             0\n",
       "ind_hip_fin_ult1              0\n",
       "ind_plan_fin_ult1             0\n",
       "ind_pres_fin_ult1             0\n",
       "ind_reca_fin_ult1             0\n",
       "ind_tjcr_fin_ult1             0\n",
       "ind_valo_fin_ult1             0\n",
       "ind_viv_fin_ult1              0\n",
       "ind_nomina_ult1             569\n",
       "ind_nom_pens_ult1           569\n",
       "ind_recibo_ult1               0\n",
       "dtype: int64"
      ]
     },
     "execution_count": 20,
     "metadata": {},
     "output_type": "execute_result"
    }
   ],
   "source": [
    "# Check how many missing values in every column\n",
    "df.isnull().sum()"
   ]
  },
  {
   "cell_type": "markdown",
   "metadata": {
    "_cell_guid": "1723094a-58be-25b0-ffa6-fd0fd20d9274"
   },
   "source": [
    "There are two columns (\"ult_fec_cli_1t\", \"conyuemp\") with almost all values are missing. We are going to delete them from the dataframe."
   ]
  },
  {
   "cell_type": "code",
   "execution_count": 21,
   "metadata": {
    "ExecuteTime": {
     "end_time": "2018-10-20T03:10:41.248011Z",
     "start_time": "2018-10-20T03:10:41.206097Z"
    },
    "_cell_guid": "00c6fbe3-a470-1433-d63e-27a59b19385e"
   },
   "outputs": [],
   "source": [
    "# Drop the columns with majority of missing values\n",
    "df = df.drop([\"ult_fec_cli_1t\", \"conyuemp\"], axis=1) "
   ]
  },
  {
   "cell_type": "markdown",
   "metadata": {
    "_cell_guid": "ff235217-a98a-3bfd-3c9b-e2fae2755e12"
   },
   "source": [
    "There are many columns with missing values. Let's see how can we deal with them. The column \"renta\" or income contains a lot of missing values. I am going to replace missing values in the income column by the average income of the customers in the same province. \n",
    "Since the purpose of this notebook is visualization more than data cleaning, I am going to drop any missing values in the other variables. "
   ]
  },
  {
   "cell_type": "code",
   "execution_count": 22,
   "metadata": {
    "ExecuteTime": {
     "end_time": "2018-10-20T03:10:43.748974Z",
     "start_time": "2018-10-20T03:10:42.675359Z"
    },
    "_cell_guid": "9a6a82da-0412-9a10-ccc7-945c8a157c0b"
   },
   "outputs": [
    {
     "name": "stderr",
     "output_type": "stream",
     "text": [
      "/Users/macbook/miniconda3/envs/dev/lib/python3.6/site-packages/numpy/lib/nanfunctions.py:1019: RuntimeWarning: Mean of empty slice\n",
      "  return np.nanmean(a, axis, out=out, keepdims=keepdims)\n"
     ]
    }
   ],
   "source": [
    "#Impute missing values in the income column \n",
    "grouped        = df.groupby(\"nomprov\").agg({\"renta\":lambda x: x.median(skipna=True)}).reset_index()\n",
    "new_incomes    = pd.merge(df,grouped,how=\"inner\",on=\"nomprov\").loc[:, [\"nomprov\",\"renta_y\"]]\n",
    "new_incomes    = new_incomes.rename(columns={\"renta_y\":\"renta\"}).sort_values(\"renta\").sort_values(\"nomprov\")\n",
    "df.sort_values(\"nomprov\",inplace=True)\n",
    "df             = df.reset_index()\n",
    "new_incomes    = new_incomes.reset_index()\n",
    "\n",
    "df.loc[df.renta.isnull(),\"renta\"] = new_incomes.loc[df.renta.isnull(),\"renta\"].reset_index()\n",
    "df.loc[df.renta.isnull(),\"renta\"] = df.loc[df.renta.notnull(),\"renta\"].median()\n",
    "df.sort_values(by=\"fecha_dato\",inplace=True)"
   ]
  },
  {
   "cell_type": "markdown",
   "metadata": {
    "_cell_guid": "1c81977c-9c7e-2c37-0a21-2417ddc7f7ed"
   },
   "source": [
    "Drop all the other missing values"
   ]
  },
  {
   "cell_type": "code",
   "execution_count": 23,
   "metadata": {
    "ExecuteTime": {
     "end_time": "2018-10-20T03:10:45.686705Z",
     "start_time": "2018-10-20T03:10:45.474089Z"
    },
    "_cell_guid": "b6faa565-da78-56de-3048-7231e183a201"
   },
   "outputs": [],
   "source": [
    "df = df.dropna(axis=0)"
   ]
  },
  {
   "cell_type": "markdown",
   "metadata": {
    "_cell_guid": "bc85ed6e-28d3-1863-01a0-5f3a32bcdf4c"
   },
   "source": [
    "There are some customers with seniority less than zero. I will replace with 0"
   ]
  },
  {
   "cell_type": "code",
   "execution_count": 24,
   "metadata": {
    "ExecuteTime": {
     "end_time": "2018-10-20T03:10:46.535587Z",
     "start_time": "2018-10-20T03:10:46.262026Z"
    },
    "_cell_guid": "a39a535b-4341-9973-b458-bcd92232d492"
   },
   "outputs": [],
   "source": [
    "df[df[\"antiguedad\"]<0].antiguedad = 0"
   ]
  },
  {
   "cell_type": "code",
   "execution_count": 34,
   "metadata": {
    "ExecuteTime": {
     "end_time": "2018-10-20T03:13:33.427442Z",
     "start_time": "2018-10-20T03:13:33.381473Z"
    },
    "_cell_guid": "fbecdbd2-5e14-ddfe-2059-8837807962e8"
   },
   "outputs": [],
   "source": [
    "# Add a new column of the total number of products per customer per month\n",
    "df[\"tot_products\"] = df.loc[:,\"ind_ahor_fin_ult1\":\"ind_recibo_ult1\"].sum(axis=1)\n",
    "df[\"tot_products\"] = pd.to_numeric(df[\"tot_products\"], errors=\"coerce\") "
   ]
  },
  {
   "cell_type": "markdown",
   "metadata": {
    "_cell_guid": "d2893001-3184-8091-2834-b474bf0eae3b"
   },
   "source": [
    "Now I will check customer distribution by country"
   ]
  },
  {
   "cell_type": "markdown",
   "metadata": {
    "_cell_guid": "75a24ae8-3daf-22be-4062-b88694da0aae"
   },
   "source": [
    "Almost all observations were acquired from country \"ES\".                                                                              Since other observations are so few in numbers, let's exclude all observations other than those coming from this country "
   ]
  },
  {
   "cell_type": "code",
   "execution_count": 41,
   "metadata": {
    "ExecuteTime": {
     "end_time": "2018-10-20T03:15:21.903082Z",
     "start_time": "2018-10-20T03:15:21.832201Z"
    },
    "_cell_guid": "7ffbdb40-8e71-c856-762d-df9d9b9d75b7"
   },
   "outputs": [],
   "source": [
    "df = df.loc[lambda df: df.pais_residencia == \"ES\", :]"
   ]
  },
  {
   "cell_type": "markdown",
   "metadata": {
    "_cell_guid": "2e33d082-1394-f147-ef49-6f9d71211c6d"
   },
   "source": [
    "###### How about employee index?"
   ]
  },
  {
   "cell_type": "code",
   "execution_count": 42,
   "metadata": {
    "ExecuteTime": {
     "end_time": "2018-10-20T03:15:42.952780Z",
     "start_time": "2018-10-20T03:15:42.934404Z"
    },
    "_cell_guid": "c07f4d9e-7c10-faee-0c78-bbdd3aee2ce0"
   },
   "outputs": [
    {
     "data": {
      "text/plain": [
       "N    167985\n",
       "A         1\n",
       "Name: ind_empleado, dtype: int64"
      ]
     },
     "execution_count": 42,
     "metadata": {},
     "output_type": "execute_result"
    }
   ],
   "source": [
    "df['ind_empleado'].value_counts()"
   ]
  },
  {
   "cell_type": "markdown",
   "metadata": {
    "_cell_guid": "e903f9a7-8c10-ea7b-42d7-51ce12a955ca"
   },
   "source": [
    "Almost all obervations have come from non employees \"N\". Again for the purposes of investigation of the most important features, I am going to exclude the other observations. "
   ]
  },
  {
   "cell_type": "code",
   "execution_count": null,
   "metadata": {
    "_cell_guid": "878ba1e1-3438-01d3-3d48-dafcacc9eb97"
   },
   "outputs": [],
   "source": [
    "df = df.loc[lambda df: df.ind_empleado == \"N\", :]"
   ]
  },
  {
   "cell_type": "markdown",
   "metadata": {
    "_cell_guid": "9e1b044f-62b4-3e10-d5de-3fb199504fe2"
   },
   "source": [
    "## Data Visualization ##"
   ]
  },
  {
   "cell_type": "markdown",
   "metadata": {
    "_cell_guid": "e250352b-8cb4-f6ca-a9b5-6a25828064d8"
   },
   "source": [
    "###### Age distribution of the customers"
   ]
  },
  {
   "cell_type": "code",
   "execution_count": null,
   "metadata": {
    "_cell_guid": "e94fbdfb-7551-d4f5-538c-f7a78dfcd230"
   },
   "outputs": [],
   "source": [
    "df['age'].hist(bins=50)\n",
    "plt.title(\"Customers' Age Distribution\")\n",
    "plt.xlabel(\"Age(years)\")\n",
    "plt.ylabel(\"Number of customers\") "
   ]
  },
  {
   "cell_type": "markdown",
   "metadata": {
    "_cell_guid": "0703ecf0-5dc0-894c-315a-fa17f76d2ee2"
   },
   "source": [
    "### Customers attraction by channel\n",
    "The channels through which the customers were attracted to join."
   ]
  },
  {
   "cell_type": "code",
   "execution_count": null,
   "metadata": {
    "_cell_guid": "119580ac-c7a3-7f41-f124-1a43a8086110"
   },
   "outputs": [],
   "source": [
    "# Customers count by channel \n",
    "df['canal_entrada'].value_counts().head(15)"
   ]
  },
  {
   "cell_type": "code",
   "execution_count": null,
   "metadata": {
    "_cell_guid": "a789768d-e8a0-a2d1-f570-3bd6384505a1"
   },
   "outputs": [],
   "source": [
    "df[\"canal_entrada\"].value_counts().plot(x=None, y=None, kind='pie') "
   ]
  },
  {
   "cell_type": "markdown",
   "metadata": {
    "_cell_guid": "3ca9795e-bb8c-9b58-19bb-334f08e5614b"
   },
   "source": [
    "The majority of customers have joined through three major channels."
   ]
  },
  {
   "cell_type": "markdown",
   "metadata": {
    "_cell_guid": "6e336cd8-0f02-6756-4c7f-27b53597a448"
   },
   "source": [
    "#### Number of products by activity index and sex"
   ]
  },
  {
   "cell_type": "code",
   "execution_count": null,
   "metadata": {
    "_cell_guid": "550c469a-5071-3714-4e25-2512d32b7122"
   },
   "outputs": [],
   "source": [
    "df_a = df.loc[:, ['sexo', 'ind_actividad_cliente']].join(df.loc[:, \"ind_ahor_fin_ult1\": \"ind_recibo_ult1\"])\n",
    "df_a = df_a.groupby(['sexo', 'ind_actividad_cliente']).sum()\n",
    "df_a = df_a.T"
   ]
  },
  {
   "cell_type": "code",
   "execution_count": null,
   "metadata": {
    "_cell_guid": "dde0e15a-be80-4f92-93d0-254e33ec1cb3"
   },
   "outputs": [],
   "source": [
    "df_a.head()"
   ]
  },
  {
   "cell_type": "code",
   "execution_count": null,
   "metadata": {
    "_cell_guid": "6c54d0e5-23df-f85e-3bcb-69e74ea3d618"
   },
   "outputs": [],
   "source": [
    "df_a.plot(kind='barh', stacked=True, fontsize=14, figsize=[16,12], colormap='gist_ncar')\n",
    "plt.title('Popularity of products by sex and activity index', fontsize=20) \n",
    "plt.xlabel('Number of customers', fontsize=17) \n",
    "plt.ylabel('Products_names', fontsize=17) \n",
    "plt.legend([\"Sex:H; Activity_Ind:0\", \"Sex:H; Activity_Ind:1\", \"Sex:V; Activity_Ind:0\", \n",
    "            \"Sex:V; Activity_Ind:1\"], prop={'size':15}) "
   ]
  },
  {
   "cell_type": "markdown",
   "metadata": {
    "_cell_guid": "7a7a4137-aa37-49a9-1de5-aab0a24219da"
   },
   "source": [
    "Most of the customers used only one product which is the current account. In order to investigate the other products, let's exclude the dominant product (current account)."
   ]
  },
  {
   "cell_type": "code",
   "execution_count": null,
   "metadata": {
    "_cell_guid": "604e5197-0d32-ece4-4147-3cadf667c524"
   },
   "outputs": [],
   "source": [
    "# excluding the dominant product \n",
    "exclude = ['ind_cco_fin_ult1']\n",
    "df_a = df_a.T\n",
    "df_a = df_a.drop(exclude, axis=1).T"
   ]
  },
  {
   "cell_type": "code",
   "execution_count": null,
   "metadata": {
    "_cell_guid": "e5b1df91-81b1-78bc-2d6a-751a9d6b01ca"
   },
   "outputs": [],
   "source": [
    "df_a.plot(kind='barh', stacked=True, fontsize=14, figsize=[16,12], colormap='gist_ncar')\n",
    "plt.title('Popularity of products by sex and activity index', fontsize=20, color='black') \n",
    "plt.xlabel('Number of customers', fontsize=17, color='black') \n",
    "plt.ylabel('Products_names', fontsize=17, color='black') \n",
    "plt.legend([\"Sex:H; Activity_Ind:0\", \"Sex:H; Activity_Ind:1\", \"Sex:V; Activity_Ind:0\", \n",
    "            \"Sex:V; Activity_Ind:1\"], prop={'size':15}) "
   ]
  },
  {
   "cell_type": "markdown",
   "metadata": {
    "_cell_guid": "87cd7a57-bd04-613b-352d-054d929f4e04"
   },
   "source": [
    "###### Total number of products per customer"
   ]
  },
  {
   "cell_type": "code",
   "execution_count": null,
   "metadata": {
    "_cell_guid": "54f86999-d44d-7654-b418-f1710130f8ee"
   },
   "outputs": [],
   "source": [
    "df[\"tot_products\"].value_counts()"
   ]
  },
  {
   "cell_type": "markdown",
   "metadata": {
    "_cell_guid": "3b933d3b-c1e5-0a90-0ff8-a69a0a81888b"
   },
   "source": [
    "Most of the customers used one or two products and rarely use more than five products."
   ]
  },
  {
   "cell_type": "markdown",
   "metadata": {
    "_cell_guid": "689a4078-3f7a-acba-67d5-c55d31f5f164"
   },
   "source": [
    "###### Total number of products by age"
   ]
  },
  {
   "cell_type": "code",
   "execution_count": null,
   "metadata": {
    "_cell_guid": "b200e578-5ecb-4497-2fec-a7af3f7999ee"
   },
   "outputs": [],
   "source": [
    "df_a = df.groupby(['age'])['tot_products'].agg('sum')"
   ]
  },
  {
   "cell_type": "markdown",
   "metadata": {
    "_cell_guid": "270dbaac-9750-0f5a-06e7-375fcecef599"
   },
   "source": [
    "Let's sort the values in a descending order to check the age groups which contribute the most to the total number of products."
   ]
  },
  {
   "cell_type": "code",
   "execution_count": null,
   "metadata": {
    "_cell_guid": "ff3601bb-babb-570f-d2ea-ef962f351f20"
   },
   "outputs": [],
   "source": [
    "df_a.sort_values(ascending=False).head(20)"
   ]
  },
  {
   "cell_type": "code",
   "execution_count": null,
   "metadata": {
    "_cell_guid": "dc9a077f-53d6-7cd1-1776-3c8e007519bf"
   },
   "outputs": [],
   "source": [
    "# Number of products by age \n",
    "df_a.plot(kind='bar', colormap='autumn', legend=None) \n",
    "plt.xticks(np.arange(0, 120, 10), [str(x) for x in np.arange(0, 120, 10)])\n",
    "plt.title('Number of products by age') \n",
    "plt.xlabel('Age(years)') \n",
    "plt.ylabel('Number of products') "
   ]
  },
  {
   "cell_type": "markdown",
   "metadata": {
    "_cell_guid": "0a4725f1-bb31-7cdb-06f5-c09c0841f57d"
   },
   "source": [
    "As we see bimodal distribution with most of the products used by middle aged customers between 35 and 55 years old, followed by young customers in thier twentieths."
   ]
  },
  {
   "cell_type": "markdown",
   "metadata": {
    "_cell_guid": "0136824d-5cf4-da6f-5309-95c0e41b7b20"
   },
   "source": [
    "###### Total number of products by segmentation"
   ]
  },
  {
   "cell_type": "code",
   "execution_count": null,
   "metadata": {
    "_cell_guid": "e4b46fcb-59c8-2024-9de0-4f386e507399"
   },
   "outputs": [],
   "source": [
    "df_a = df.groupby(['segmento'])['tot_products'].agg('sum') \n",
    "df_a"
   ]
  },
  {
   "cell_type": "markdown",
   "metadata": {
    "_cell_guid": "91d4e74b-eb32-f219-2e78-faf7fc0b9e47"
   },
   "source": [
    "PARTICULARES are the most important group"
   ]
  },
  {
   "cell_type": "markdown",
   "metadata": {
    "_cell_guid": "35f61acf-20c8-b22b-369f-7afa720cf603"
   },
   "source": [
    "###### Number of products by customer index"
   ]
  },
  {
   "cell_type": "code",
   "execution_count": null,
   "metadata": {
    "_cell_guid": "7d3706a4-f764-1314-1533-84dd1a19ef4c"
   },
   "outputs": [],
   "source": [
    "df_a = df.groupby(['ind_nuevo'])['tot_products'].agg('count') \n",
    "df_a"
   ]
  },
  {
   "cell_type": "markdown",
   "metadata": {
    "_cell_guid": "9349c10d-dce2-ef44-bedb-1583762ab4ae"
   },
   "source": [
    "Most customers are recurrent customers, older than six months"
   ]
  },
  {
   "cell_type": "markdown",
   "metadata": {
    "_cell_guid": "4d38d58b-a9ab-0292-76c9-d295ba91ce33"
   },
   "source": [
    "###### Number of products by customer regularity"
   ]
  },
  {
   "cell_type": "code",
   "execution_count": null,
   "metadata": {
    "_cell_guid": "90b78600-1ab3-eefe-c8a0-526c97a13395"
   },
   "outputs": [],
   "source": [
    "df_a = df.groupby(['indrel'])['tot_products'].agg('count') \n",
    "df_a"
   ]
  },
  {
   "cell_type": "markdown",
   "metadata": {
    "_cell_guid": "aa375516-a836-2906-b0a3-698ed3b1c1f1"
   },
   "source": [
    "Almost all customers are regular customers throughout the month"
   ]
  },
  {
   "cell_type": "markdown",
   "metadata": {
    "_cell_guid": "3ff07172-252b-d567-2af8-93323c9acbb8"
   },
   "source": [
    "###### Number of products by customer type at the beginning of the month"
   ]
  },
  {
   "cell_type": "code",
   "execution_count": null,
   "metadata": {
    "_cell_guid": "47457134-834c-5a47-6783-6736505899e9"
   },
   "outputs": [],
   "source": [
    "df_a = df.groupby(['indrel_1mes'])['tot_products'].agg('count') \n",
    "df_a"
   ]
  },
  {
   "cell_type": "markdown",
   "metadata": {
    "_cell_guid": "f209301d-e9bf-c95e-1fac-cc277443c0e2"
   },
   "source": [
    "Almost all customers are primary customers"
   ]
  },
  {
   "cell_type": "markdown",
   "metadata": {
    "_cell_guid": "4a6d94c4-c4c4-7210-4683-2a2ac7dedba5"
   },
   "source": [
    "###### Number of products by \"Customer relation type at the beginning of the month\""
   ]
  },
  {
   "cell_type": "code",
   "execution_count": null,
   "metadata": {
    "_cell_guid": "0138b0e2-c29a-e238-a168-ed6eecc95339"
   },
   "outputs": [],
   "source": [
    "df_a = df.groupby(['tiprel_1mes'])['tot_products'].agg('count') \n",
    "df_a"
   ]
  },
  {
   "cell_type": "markdown",
   "metadata": {
    "_cell_guid": "35b18d18-9e72-9e54-fb2e-62d88f5c865b"
   },
   "source": [
    "Almost all customers are separated between active and inactive groups"
   ]
  },
  {
   "cell_type": "markdown",
   "metadata": {
    "_cell_guid": "46eaf6f6-194f-057d-7c4f-a914ed8c308e"
   },
   "source": [
    "###### Number of products by customer's birth country in relation to the bank country"
   ]
  },
  {
   "cell_type": "code",
   "execution_count": null,
   "metadata": {
    "_cell_guid": "a8f464be-7d5a-c1ae-e5c0-2c60cd407037"
   },
   "outputs": [],
   "source": [
    "df_a = df.groupby(['indext'])['tot_products'].agg('count') \n",
    "df_a"
   ]
  },
  {
   "cell_type": "markdown",
   "metadata": {
    "_cell_guid": "e52d8f47-e466-9bf0-f262-7df2e065d529"
   },
   "source": [
    "Most of the customers have their birth country different than the bank country "
   ]
  },
  {
   "cell_type": "markdown",
   "metadata": {
    "_cell_guid": "d3af4adc-6427-9ce5-abac-7b2ed23ca909"
   },
   "source": [
    "###### Total number of products by income"
   ]
  },
  {
   "cell_type": "markdown",
   "metadata": {
    "_cell_guid": "235e8422-6e7b-be51-bf56-7b4791de2611"
   },
   "source": [
    "Let's create income groups"
   ]
  },
  {
   "cell_type": "code",
   "execution_count": null,
   "metadata": {
    "_cell_guid": "78f739cf-396e-0540-bcb1-0c020722ae85"
   },
   "outputs": [],
   "source": [
    "df_a = (df.groupby(pd.cut(df['renta'], [0,60000,120000,180000,240000, pd.np.inf], right=False))\n",
    "                     .sum())"
   ]
  },
  {
   "cell_type": "markdown",
   "metadata": {
    "_cell_guid": "c9653c8d-a259-c794-826c-8a9055aa126f"
   },
   "source": [
    "Total number of products by income groups"
   ]
  },
  {
   "cell_type": "code",
   "execution_count": null,
   "metadata": {
    "_cell_guid": "ce60a144-be43-be88-f1df-e09e7e64c815"
   },
   "outputs": [],
   "source": [
    "df_a[\"tot_products\"]"
   ]
  },
  {
   "cell_type": "code",
   "execution_count": null,
   "metadata": {
    "_cell_guid": "36ee3ab2-08dd-78f7-cce8-fbce8a78d8bc"
   },
   "outputs": [],
   "source": [
    "# Let's drop the columns which are unnecessary for this step\n",
    "df_a = df_a.loc[:, \"ind_ahor_fin_ult1\": \"ind_recibo_ult1\"]\n",
    "df_a = df_a.T"
   ]
  },
  {
   "cell_type": "code",
   "execution_count": null,
   "metadata": {
    "_cell_guid": "bbae6bea-352e-a923-6a26-c87caec3cbf5"
   },
   "outputs": [],
   "source": [
    "df_a.head(10)"
   ]
  },
  {
   "cell_type": "code",
   "execution_count": null,
   "metadata": {
    "_cell_guid": "2be5a3de-59cd-30b9-6695-0f0db878ea45"
   },
   "outputs": [],
   "source": [
    "# Plot of product share for each income group\n",
    "df_a.plot(kind='barh', stacked=True, fontsize=14, figsize=[16,12], colormap='gist_rainbow')\n",
    "plt.title('Distribution of products among customers by income group', fontsize=20, color='black') \n",
    "plt.xlabel('Total number of products', fontsize=17, color='black') \n",
    "plt.ylabel('Products_names', fontsize=17, color='black') \n",
    "plt.legend(prop={'size':15}, loc=1) "
   ]
  },
  {
   "cell_type": "markdown",
   "metadata": {
    "_cell_guid": "e662bc27-7a65-a5c5-6cca-e1e0e8f478ec"
   },
   "source": [
    "\"ind_cco_fin_ult1\" is the dominant product. Now let's exclude it to investigate further the other products."
   ]
  },
  {
   "cell_type": "code",
   "execution_count": null,
   "metadata": {
    "_cell_guid": "eef29ae8-7ca5-8c71-a614-b4bcb8880a83"
   },
   "outputs": [],
   "source": [
    "# exclude the dominant product \"ind_cco_fin_ult1\"\n",
    "exclude = ['ind_cco_fin_ult1']\n",
    "df_a = df_a.T\n",
    "df_a = df_a.drop(exclude, axis=1).T"
   ]
  },
  {
   "cell_type": "code",
   "execution_count": null,
   "metadata": {
    "_cell_guid": "68d1d85a-27a0-9d9a-2341-a0347a7b8a18"
   },
   "outputs": [],
   "source": [
    "df_a.head()"
   ]
  },
  {
   "cell_type": "code",
   "execution_count": null,
   "metadata": {
    "_cell_guid": "4efb0d58-1bdd-a0b8-959f-d3b2d46e9aae"
   },
   "outputs": [],
   "source": [
    "# Plot of product share for each income group; excluding the dominant product \n",
    "df_a.plot(kind='barh', stacked=True, fontsize=14, figsize=[16,12], colormap='gist_rainbow')\n",
    "plt.title('Popularity of products by income group', fontsize=20, color='black') \n",
    "plt.xlabel('Total number of products', fontsize=17, color='black') \n",
    "plt.ylabel('Products_names', fontsize=17, color='black') \n",
    "plt.legend(bbox_to_anchor=(1.02, 1), loc=2, borderaxespad=0.1, prop={'size':15}) "
   ]
  },
  {
   "cell_type": "markdown",
   "metadata": {
    "_cell_guid": "f55f3f79-536f-aea3-65b7-2d9e40edb74c"
   },
   "source": [
    "###### Total number of products by age group"
   ]
  },
  {
   "cell_type": "code",
   "execution_count": null,
   "metadata": {
    "_cell_guid": "5f7ea83b-6e05-5af5-d107-62111c2bd2e7"
   },
   "outputs": [],
   "source": [
    "# Let's create age groups\n",
    "df_a = (df.groupby(pd.cut(df['age'], [0,20,40,60,80,100, pd.np.inf], right=False))\n",
    "                     .sum())"
   ]
  },
  {
   "cell_type": "code",
   "execution_count": null,
   "metadata": {
    "_cell_guid": "2843ff36-2e72-264e-5dc0-b7c3c562f359"
   },
   "outputs": [],
   "source": [
    "df_a"
   ]
  },
  {
   "cell_type": "code",
   "execution_count": null,
   "metadata": {
    "_cell_guid": "0286050a-9025-d45f-08b0-33f4ae116903"
   },
   "outputs": [],
   "source": [
    "# Keep the products columns and discard the others\n",
    "df_a = df_a.loc[:, \"ind_ahor_fin_ult1\": \"ind_recibo_ult1\"]\n",
    "df_a = df_a.T"
   ]
  },
  {
   "cell_type": "code",
   "execution_count": null,
   "metadata": {
    "_cell_guid": "ab793b9e-5775-f3c8-1b6f-31736eb0e261"
   },
   "outputs": [],
   "source": [
    "df_a.head(10)"
   ]
  },
  {
   "cell_type": "code",
   "execution_count": null,
   "metadata": {
    "_cell_guid": "9d5c819d-8043-598a-ccbb-d288cd31399a"
   },
   "outputs": [],
   "source": [
    "# Plot of customers' age distibution of each product \n",
    "df_a.plot(kind='barh', stacked=True, fontsize=14, figsize=[16,12], colormap='Reds')\n",
    "plt.title('Customers age distribution of different products', fontsize=20, color='black') \n",
    "plt.xlabel('Total number of products', fontsize=17, color='black') \n",
    "plt.ylabel('Products_names', fontsize=17, color='black') \n",
    "plt.legend(prop={'size':15}, loc=1) "
   ]
  },
  {
   "cell_type": "markdown",
   "metadata": {
    "_cell_guid": "c919fc86-bb85-e790-dc2a-47e75830941e"
   },
   "source": [
    "Again let's exclude the dominant product"
   ]
  },
  {
   "cell_type": "code",
   "execution_count": null,
   "metadata": {
    "_cell_guid": "3374d34d-6791-159b-3c3f-b278d2c537bd"
   },
   "outputs": [],
   "source": [
    "# exclude the dominant product \"ind_cco_fin_ult1\"\n",
    "exclude = ['ind_cco_fin_ult1']\n",
    "df_a = df_a.T\n",
    "df_a = df_a.drop(exclude, axis=1).T"
   ]
  },
  {
   "cell_type": "code",
   "execution_count": null,
   "metadata": {
    "_cell_guid": "5c181ddb-cbee-d8d1-2e61-74722792a3ac"
   },
   "outputs": [],
   "source": [
    "# Plot of customers' age distibution of each product (excluding the dominant product) \n",
    "df_a.plot(kind='barh', stacked=True, fontsize=14, figsize=[16,12], colormap='Blues')\n",
    "plt.title('Customers age distribution of different products', fontsize=20, color='black') \n",
    "plt.xlabel('Total number of products', fontsize=17, color='black') \n",
    "plt.ylabel('Products_names', fontsize=17, color='black') \n",
    "plt.legend(bbox_to_anchor=(1.02, 1), loc=2, borderaxespad=0.1, prop={'size':15}) "
   ]
  },
  {
   "cell_type": "markdown",
   "metadata": {
    "_cell_guid": "8449f4ec-456b-636c-c60a-87a135f1f671"
   },
   "source": [
    "###### Let's check number of products by channels"
   ]
  },
  {
   "cell_type": "code",
   "execution_count": null,
   "metadata": {
    "_cell_guid": "d6aa6fca-9d9f-1d3e-343e-f5964df0ba0a"
   },
   "outputs": [],
   "source": [
    "df[\"canal_entrada\"].value_counts().head(10)"
   ]
  },
  {
   "cell_type": "markdown",
   "metadata": {
    "_cell_guid": "8ce0df0e-5f37-8bc6-6e77-d4d2cb7ae0f1"
   },
   "source": [
    "Most of the customers joined through three major channels"
   ]
  },
  {
   "cell_type": "markdown",
   "metadata": {
    "_cell_guid": "fbfa7bc2-74db-d25c-5e73-7ba38ec4c224"
   },
   "source": [
    "Since 6 out of 160 channels account for about 87.11% of the total number of customers attraction and to be able to visualze, we are going to exclude any channel has a contribution less than 1%."
   ]
  },
  {
   "cell_type": "code",
   "execution_count": null,
   "metadata": {
    "_cell_guid": "f3970706-5dbd-54e4-9d3c-12f37ffe06cd"
   },
   "outputs": [],
   "source": [
    "# Let's extract the necessary columns for this step\n",
    "df_a = df.loc[:, ['canal_entrada']].join(df.loc[:, 'ind_ahor_fin_ult1':'ind_recibo_ult1'])"
   ]
  },
  {
   "cell_type": "code",
   "execution_count": null,
   "metadata": {
    "_cell_guid": "47213b4a-1d5a-0add-2225-c9bd22459e95"
   },
   "outputs": [],
   "source": [
    "# Let's subset the data to keep only the records from the five major channels\n",
    "subset = [\"KHE\", \"KAT\", \"KFC\", \"KFA\", \"KHK\"]\n",
    "df_a = df_a.loc[df_a['canal_entrada'].isin(subset)]"
   ]
  },
  {
   "cell_type": "code",
   "execution_count": null,
   "metadata": {
    "_cell_guid": "c31ba96e-6e7c-2bad-260c-67aa65ef9d09"
   },
   "outputs": [],
   "source": [
    "df_a = df_a.groupby(\"canal_entrada\").agg(\"sum\")\n",
    "df_a = df_a.T"
   ]
  },
  {
   "cell_type": "code",
   "execution_count": null,
   "metadata": {
    "_cell_guid": "62c21b7c-46fb-116f-4b26-16ec15d026b7"
   },
   "outputs": [],
   "source": [
    "# Channels used by the customer to join and the purchased products\n",
    "df_a.plot(kind='barh', stacked=True, fontsize=14, figsize=[16,12], colormap='gist_rainbow')\n",
    "plt.title('Channels used by the customers to join and associated product uses', fontsize=20, color='black') \n",
    "plt.xlabel('Total number of customers', fontsize=17, color='black') \n",
    "plt.ylabel('Products names', fontsize=17, color='black') \n",
    "plt.legend(prop={'size':15}) "
   ]
  },
  {
   "cell_type": "markdown",
   "metadata": {
    "_cell_guid": "95120798-15a7-bacc-2049-5dc0c49ef5f2"
   },
   "source": [
    "Again we will exclude the dominant product"
   ]
  },
  {
   "cell_type": "code",
   "execution_count": null,
   "metadata": {
    "_cell_guid": "8275c284-06a9-bbda-e82f-96f22760d298"
   },
   "outputs": [],
   "source": [
    "# exclude the dominant product \"ind_cco_fin_ult1\"\n",
    "exclude = ['ind_cco_fin_ult1']\n",
    "df_a = df_a.T\n",
    "df_a = df_a.drop(exclude, axis=1).T"
   ]
  },
  {
   "cell_type": "code",
   "execution_count": null,
   "metadata": {
    "_cell_guid": "a9eb302c-86e6-3ada-4628-ad3177cafcfc"
   },
   "outputs": [],
   "source": [
    "# Channels share distribution of each product, excluding the dominant product\n",
    "df_a.plot(kind='barh', stacked=True, fontsize=14, figsize=[16,12], colormap='gist_rainbow')\n",
    "plt.title('Channels used to join for each product', fontsize=20, color='black') \n",
    "plt.xlabel('Total number of customers', fontsize=17, color='black') \n",
    "plt.ylabel('Products_names', fontsize=17, color='black') \n",
    "plt.legend([\"KAT\", \"KFA\", \"KFC\", \"KHE\", \"KHK\"], prop={'size':15}, loc=1) \n",
    "plt.legend(bbox_to_anchor=(1.02, 1), loc=2, borderaxespad=0.1, prop={'size':15}) "
   ]
  },
  {
   "cell_type": "markdown",
   "metadata": {
    "_cell_guid": "a16a61c7-12cb-6b09-0579-36d2ceef95f6"
   },
   "source": [
    "###### Number of products by seniority group"
   ]
  },
  {
   "cell_type": "code",
   "execution_count": null,
   "metadata": {
    "_cell_guid": "7a20ed1f-e502-0ebe-736f-17314abbad0d"
   },
   "outputs": [],
   "source": [
    "# Let's extract the necessary columns for this step\n",
    "df_a = df.loc[:, ['antiguedad']].join(df.loc[:, 'ind_ahor_fin_ult1':'ind_recibo_ult1'])"
   ]
  },
  {
   "cell_type": "code",
   "execution_count": null,
   "metadata": {
    "_cell_guid": "a0249cee-b9c1-2d70-36a1-593e6fd906b0"
   },
   "outputs": [],
   "source": [
    "# Let's create seniority groups\n",
    "df_a = (df_a.groupby(pd.cut(df_a['antiguedad'], [0,50,100,150,200, pd.np.inf], right=False))\n",
    "                     .sum())"
   ]
  },
  {
   "cell_type": "code",
   "execution_count": null,
   "metadata": {
    "_cell_guid": "73b5044d-f93b-525a-83c0-c6cfb299b202"
   },
   "outputs": [],
   "source": [
    "df_a.head()"
   ]
  },
  {
   "cell_type": "code",
   "execution_count": null,
   "metadata": {
    "_cell_guid": "1dd58a7a-b663-122f-2218-ed639d53d617"
   },
   "outputs": [],
   "source": [
    "exclude = [\"antiguedad\"]\n",
    "df_a = df_a.drop(exclude, axis=1).T"
   ]
  },
  {
   "cell_type": "code",
   "execution_count": null,
   "metadata": {
    "_cell_guid": "d3764368-a045-064b-3bc7-9cb2554ab620"
   },
   "outputs": [],
   "source": [
    "# Customers' seniority distribution of each product\n",
    "df_a.plot(kind='barh', stacked=True, fontsize=14, figsize=[16,12], colormap='gist_rainbow')\n",
    "plt.title('Customers seniority distribution of each product', fontsize=20, color='black') \n",
    "plt.xlabel('Customer seniority', fontsize=17, color='black') \n",
    "plt.ylabel('Product names', fontsize=17, color='black') \n",
    "plt.legend([[0, 50], [50, 100], [100, 150], [150, 200], [200, inf]], prop={'size':15}) "
   ]
  },
  {
   "cell_type": "markdown",
   "metadata": {
    "_cell_guid": "7d9cd2fd-56c7-ee33-32dd-7ebb5c183c71"
   },
   "source": [
    "It is noticable that the dominant product is purchased most by those who joined less than 50 months ago."
   ]
  },
  {
   "cell_type": "markdown",
   "metadata": {
    "_cell_guid": "c25acf99-d7d4-be76-1eff-f732018e34fd"
   },
   "source": [
    "Again we will exclude the dominant product"
   ]
  },
  {
   "cell_type": "code",
   "execution_count": null,
   "metadata": {
    "_cell_guid": "8ade73f4-9047-9460-91a0-6d4e8f2d5b3f"
   },
   "outputs": [],
   "source": [
    "# exclude the dominant product \"ind_cco_fin_ult1\"\n",
    "exclude = ['ind_cco_fin_ult1']\n",
    "df_a = df_a.T\n",
    "df_a = df_a.drop(exclude, axis=1).T"
   ]
  },
  {
   "cell_type": "code",
   "execution_count": null,
   "metadata": {
    "_cell_guid": "062a67ac-278f-52c6-3b3c-f8512cc7e6c1"
   },
   "outputs": [],
   "source": [
    "# Customers' seniority distribution of each product\n",
    "df_a.plot(kind='barh', stacked=True, fontsize=14, figsize=[16,12], colormap='gist_rainbow')\n",
    "plt.title('Customers seniority distribution of each product', fontsize=20, color='black') \n",
    "plt.xlabel('Customer seniority', fontsize=17, color='black') \n",
    "plt.ylabel('Product names', fontsize=17, color='black') \n",
    "plt.legend([[0, 50], [50, 100], [100, 150], [150, 200], [200, inf]], prop={'size':15}) \n",
    "plt.legend(bbox_to_anchor=(1.02, 1), loc=2, borderaxespad=0.1, prop={'size':15}) "
   ]
  },
  {
   "cell_type": "markdown",
   "metadata": {
    "_cell_guid": "2bdba041-3bb6-6966-a4de-2817c7b6af41"
   },
   "source": [
    "Let's see how many products individual customer usually has in any month"
   ]
  },
  {
   "cell_type": "code",
   "execution_count": null,
   "metadata": {
    "_cell_guid": "05d9bf77-33bc-7ed6-2039-bd196729863a"
   },
   "outputs": [],
   "source": [
    "# Extract total number of products \n",
    "df_a = df[\"tot_products\"].value_counts()\n",
    "df_a = pd.DataFrame(df_a)"
   ]
  },
  {
   "cell_type": "code",
   "execution_count": null,
   "metadata": {
    "_cell_guid": "c919a8ae-ad63-059b-1225-ab6ca3b0a18a"
   },
   "outputs": [],
   "source": [
    "df[\"ncodpers\"].count()"
   ]
  },
  {
   "cell_type": "code",
   "execution_count": null,
   "metadata": {
    "_cell_guid": "65a921c3-b054-1717-2884-3e84f67fe61d"
   },
   "outputs": [],
   "source": [
    "# calculate the percentage of customers using different number of products\n",
    "count = df[\"ncodpers\"].count()\n",
    "df_a[\"percentage\"] = (df_a[\"tot_products\"]/count)*100\n",
    "df_a"
   ]
  },
  {
   "cell_type": "markdown",
   "metadata": {
    "_cell_guid": "a1711038-9dba-eef2-220a-7135fa66d98f"
   },
   "source": [
    "56.26% of the customers have used only one product while 15.57% used two products and there is also 12.22% of the customers who have not used any products at all."
   ]
  },
  {
   "cell_type": "markdown",
   "metadata": {
    "_cell_guid": "8e8ede1b-d360-75f2-6c60-fe8e26e77e70"
   },
   "source": [
    "#### **In case of total products = 1**"
   ]
  },
  {
   "cell_type": "code",
   "execution_count": null,
   "metadata": {
    "_cell_guid": "28fb8f95-81b4-1080-c2b0-616132a00ce8"
   },
   "outputs": [],
   "source": [
    "# extract those customers who purchased only one product had being current account (\"ind_cco_fin_ult1\") \n",
    "df_a = df[df[\"tot_products\"]==1]  \n",
    "df_a = df_a[df_a[\"ind_cco_fin_ult1\"]==1]  "
   ]
  },
  {
   "cell_type": "code",
   "execution_count": null,
   "metadata": {
    "_cell_guid": "b179a3b8-2106-6fb5-9dfe-2e40fece85e3"
   },
   "outputs": [],
   "source": [
    "a = df_a[\"ncodpers\"].count() # Observations where customers had only one product being the current account \n",
    "b = len(df) # Total number of observations\n",
    "c = len(df[df[\"tot_products\"]==1]) # Observations where customers had only one account\n",
    "\n",
    "print(\"%.2f\" % ((c/b)*100), \"% of the customers had purchased only one product\") \n",
    "print(\"%.2f\" % ((a/b)*100), \"% of the customers had the current account as the only one product\") \n",
    "print(\"%.2f\" % ((47.12/55.74)*100), \"% of the customers when they have only one product, this product is the current account\")"
   ]
  },
  {
   "cell_type": "code",
   "execution_count": null,
   "metadata": {
    "_cell_guid": "b9a4c131-e657-4515-0bbd-9a715d44f384"
   },
   "outputs": [],
   "source": [
    "print(\"%.2f\" % (55.74 - 47.12 ), \"% of the customers have only one account being not the current account\") "
   ]
  },
  {
   "cell_type": "code",
   "execution_count": null,
   "metadata": {
    "_cell_guid": "e5a1f6ab-918d-3d7b-f6fd-cc1d4c469548"
   },
   "outputs": [],
   "source": [
    "# extract the necessary columns\n",
    "df_a = df[df[\"tot_products\"]==1]  # cases where the total products is one\n",
    "df_a = df_a.loc[:, [\"tot_products\"]].join(df_a.loc[:, \"ind_ahor_fin_ult1\":\"ind_recibo_ult1\"]) "
   ]
  },
  {
   "cell_type": "code",
   "execution_count": null,
   "metadata": {
    "_cell_guid": "8801cb27-0391-54e2-700a-cdd45fba8ddf"
   },
   "outputs": [],
   "source": [
    "df_a = df_a.groupby(\"tot_products\").agg(\"sum\")\n",
    "df_a = df_a.T"
   ]
  },
  {
   "cell_type": "markdown",
   "metadata": {
    "_cell_guid": "54a31b17-a7d7-46f4-68ea-d9d7ef3bdf50"
   },
   "source": [
    "Now let's plot which products were chosen as the only product in case of the total products is one in any single month."
   ]
  },
  {
   "cell_type": "code",
   "execution_count": null,
   "metadata": {
    "_cell_guid": "5aa6a3b5-5330-3e53-0e8e-7709067a3f6f"
   },
   "outputs": [],
   "source": [
    "df_a.plot(kind='barh', stacked=True, fontsize=14, figsize=[16,12], colormap='winter')\n",
    "plt.title('Number of times each product was chosen as the only product in case of the total products is one', fontsize=20) \n",
    "plt.xlabel('times of occurences', fontsize=17, color='black') \n",
    "plt.ylabel('products names', fontsize=17, color='black') "
   ]
  },
  {
   "cell_type": "markdown",
   "metadata": {
    "_cell_guid": "bb9dcd07-c2d6-37a5-1216-aa6947f86b22"
   },
   "source": [
    "#### **In case of total products = 2**"
   ]
  },
  {
   "cell_type": "code",
   "execution_count": null,
   "metadata": {
    "_cell_guid": "fae106c2-394b-05d6-f8e7-22556649dd6a"
   },
   "outputs": [],
   "source": [
    "# extract those customers who purchased two products with current account being one of them\n",
    "df_a = df[df[\"tot_products\"]==2]  \n",
    "df_a = df_a[df_a[\"ind_cco_fin_ult1\"]==1]  "
   ]
  },
  {
   "cell_type": "code",
   "execution_count": null,
   "metadata": {
    "_cell_guid": "96309cb1-f4c2-889b-ae12-a7840488de81"
   },
   "outputs": [],
   "source": [
    "df_a[\"ncodpers\"].count()"
   ]
  },
  {
   "cell_type": "code",
   "execution_count": null,
   "metadata": {
    "_cell_guid": "4e050553-9608-a01b-016c-74c9d6ecb407"
   },
   "outputs": [],
   "source": [
    "# extract the necessary columns\n",
    "df_a = df_a.loc[:, [\"tot_products\"]].join(df_a.loc[:, \"ind_ahor_fin_ult1\":\"ind_recibo_ult1\"]) "
   ]
  },
  {
   "cell_type": "code",
   "execution_count": null,
   "metadata": {
    "_cell_guid": "8066a759-8456-36a3-4539-db543cfe945c"
   },
   "outputs": [],
   "source": [
    "df_a = df_a.groupby(\"tot_products\").agg(\"sum\")\n",
    "df_a = df_a.T"
   ]
  },
  {
   "cell_type": "markdown",
   "metadata": {
    "_cell_guid": "51d4fed5-89df-a5b0-a4c4-8bf0733861a4"
   },
   "source": [
    "Now let's plot which products were chosen along with the dominant product when the customer bought only two products in any single month."
   ]
  },
  {
   "cell_type": "code",
   "execution_count": null,
   "metadata": {
    "_cell_guid": "f685a655-20e0-29f7-a1fa-7c4fff349e11"
   },
   "outputs": [],
   "source": [
    "df_a.plot(kind='barh', stacked=True, fontsize=14, figsize=[16,12], colormap='winter')\n",
    "plt.title('Number of times each product was chosen along with the dominant product in case of the total products is two', fontsize=20) \n",
    "plt.xlabel('times of occurences', fontsize=17, color='black') \n",
    "plt.ylabel('products names', fontsize=17, color='black') "
   ]
  },
  {
   "cell_type": "markdown",
   "metadata": {
    "_cell_guid": "fc3a29ec-a89f-0a80-381b-30c3b3a98d33"
   },
   "source": [
    "As seen on the above plot, in case of two products, along with \"ind_cco_fin_ult1\", \"ind_ctop_fin_ult1\" is chosen most followed by \"ind_recibo_ult1\". "
   ]
  },
  {
   "cell_type": "markdown",
   "metadata": {
    "_cell_guid": "0d6d1806-e940-574f-ed59-5c1a6afc219d"
   },
   "source": [
    "#### **In case of total products = 0.0**"
   ]
  },
  {
   "cell_type": "code",
   "execution_count": null,
   "metadata": {
    "_cell_guid": "fa57ccc8-b9ca-22e7-8be6-2b458ed5aba2"
   },
   "outputs": [],
   "source": [
    "# extract those customers who did not purchase any products in any month\n",
    "df_a = df[df[\"tot_products\"]==0]"
   ]
  },
  {
   "cell_type": "markdown",
   "metadata": {
    "_cell_guid": "876aa337-cdb5-4f57-4632-0edd3bd37c1c"
   },
   "source": [
    "Let's see the activity index of those customers"
   ]
  },
  {
   "cell_type": "code",
   "execution_count": null,
   "metadata": {
    "_cell_guid": "108119b7-2f84-e32a-054d-e70397e55720"
   },
   "outputs": [],
   "source": [
    "df_a[\"ind_actividad_cliente\"].value_counts() "
   ]
  },
  {
   "cell_type": "markdown",
   "metadata": {
    "_cell_guid": "04e3cfe9-5509-1c16-604e-9ae8f4a3c3bf"
   },
   "source": [
    "As expected, those customers are mainly inactive customers and that's why they have not purchased any products."
   ]
  },
  {
   "cell_type": "markdown",
   "metadata": {
    "_cell_guid": "3c100827-9b0b-f070-eddc-a5d54ab9f52e"
   },
   "source": [
    "#### **In case of tot_products = 3**"
   ]
  },
  {
   "cell_type": "markdown",
   "metadata": {
    "_cell_guid": "32b3ee0b-e8d2-e6b9-1ac4-2e66c7b58ac5"
   },
   "source": [
    "Now let's check the customers who purchased three products, what kind of products they have chosen."
   ]
  },
  {
   "cell_type": "code",
   "execution_count": null,
   "metadata": {
    "_cell_guid": "f2c6ca45-c386-b2a2-a295-f4c96aac9173"
   },
   "outputs": [],
   "source": [
    "# extract those customers who purchased three products in any single month\n",
    "df_a = df[df[\"tot_products\"]==3]  "
   ]
  },
  {
   "cell_type": "code",
   "execution_count": null,
   "metadata": {
    "_cell_guid": "0a2fe39e-e649-f2f6-03bb-2fd1d409371b"
   },
   "outputs": [],
   "source": [
    "df_a = df_a.loc[:, [\"tot_products\"]].join(df_a.loc[:, \"ind_ahor_fin_ult1\":\"ind_recibo_ult1\"]) "
   ]
  },
  {
   "cell_type": "code",
   "execution_count": null,
   "metadata": {
    "_cell_guid": "3f0cfd99-fcf2-0522-2986-b5af39e1fb31"
   },
   "outputs": [],
   "source": [
    "df_a = df_a.groupby(\"tot_products\").agg(\"sum\")\n",
    "df_a = df_a.T"
   ]
  },
  {
   "cell_type": "code",
   "execution_count": null,
   "metadata": {
    "_cell_guid": "a786d83b-edf7-40fc-de08-22a44310b088"
   },
   "outputs": [],
   "source": [
    "df_a.plot(kind='barh', stacked=True, fontsize=14, figsize=[16,12], colormap='winter')\n",
    "plt.title('Number of times each product was chosen in case of the total products is three in any month', fontsize=20, color='black') \n",
    "plt.xlabel('times of occurences', fontsize=17, color='black') \n",
    "plt.ylabel('products names', fontsize=17, color='black') "
   ]
  },
  {
   "cell_type": "markdown",
   "metadata": {
    "_cell_guid": "0a03fc42-c8a0-05e1-6497-cc2ab5d78a93"
   },
   "source": [
    "Now let's check the products share of different cases (total products: only one product, two products, three products) "
   ]
  },
  {
   "cell_type": "code",
   "execution_count": null,
   "metadata": {
    "_cell_guid": "9531b167-a3a7-7ea8-4e74-31dcc5f53879"
   },
   "outputs": [],
   "source": [
    "# Categorize by total products\n",
    "df_a = df.loc[:, [\"tot_products\"]].join(df.loc[:, \"ind_ahor_fin_ult1\":\"ind_recibo_ult1\"]) \n",
    "df_a = df_a.groupby(\"tot_products\").agg(\"sum\")\n",
    "df_a = df_a.T"
   ]
  },
  {
   "cell_type": "code",
   "execution_count": null,
   "metadata": {
    "_cell_guid": "2ff5c7f0-9940-fee1-3cd9-25e9ffe121b9"
   },
   "outputs": [],
   "source": [
    "df_a.head()"
   ]
  },
  {
   "cell_type": "code",
   "execution_count": null,
   "metadata": {
    "_cell_guid": "470ef31b-b92f-854b-62a9-d16cac5bb4a8"
   },
   "outputs": [],
   "source": [
    "# percentage of each product contribution of those customers who only purchased one product in any month\n",
    "a = df_a[1]\n",
    "b = df_a[1].sum()\n",
    "c = (a/b)*100\n",
    "c = c.sort_values(ascending=False)\n",
    "c"
   ]
  },
  {
   "cell_type": "code",
   "execution_count": null,
   "metadata": {
    "_cell_guid": "5ec5dd5f-4c17-fac6-94d2-8d9cf2da24fa"
   },
   "outputs": [],
   "source": [
    "c[0]"
   ]
  },
  {
   "cell_type": "code",
   "execution_count": null,
   "metadata": {
    "_cell_guid": "2d9bbc21-9401-c184-5bb3-1cc412015aed"
   },
   "outputs": [],
   "source": [
    "print(\"Wow, about\", \"%.2f\" % (c[0]), \"% of the customers purchase only the current account in case they purchase only one product.\") "
   ]
  },
  {
   "cell_type": "code",
   "execution_count": null,
   "metadata": {
    "_cell_guid": "dd193916-7688-8738-3bb0-dcc7f253ffac"
   },
   "outputs": [],
   "source": [
    "# percentage of each product contribution of those customers who purchased two products in any month\n",
    "a = df_a[2]\n",
    "b = df_a[2].sum()\n",
    "c = (a/b)*100\n",
    "c = c.sort_values(ascending=False)\n",
    "c"
   ]
  },
  {
   "cell_type": "code",
   "execution_count": null,
   "metadata": {
    "_cell_guid": "0fa8c264-2ba2-7826-9988-16832465a20b"
   },
   "outputs": [],
   "source": [
    "print(\"In case of two products purchased by the customer, about\", \"%.2f\" % (c[0]), \"% of the customers have got a (current account) and in\", \"%.2f\" %(c[1]),\"% of the cases it is combined with (Particular Account) and in\", \"%.2f\"% (c[2]),\"% of the cases it is combined with (Direct Debit)\") "
   ]
  },
  {
   "cell_type": "code",
   "execution_count": null,
   "metadata": {
    "_cell_guid": "4cda1760-10b2-cefd-f23e-71dce7ee4ac9"
   },
   "outputs": [],
   "source": [
    "# percentage of each product contribution of those customers who purchased three products in any month\n",
    "a = df_a[3]\n",
    "b = df_a[3].sum()\n",
    "c = (a/b)*100\n",
    "c.sort_values(ascending=False)"
   ]
  },
  {
   "cell_type": "markdown",
   "metadata": {
    "_cell_guid": "49c95d86-522c-ba37-afe5-14e26bec0db0"
   },
   "source": [
    "### Drivers of customers choices"
   ]
  },
  {
   "cell_type": "markdown",
   "metadata": {
    "_cell_guid": "f704d596-9dc2-0d0e-4ed0-6076fc7dd668"
   },
   "source": [
    "Now we want to see what drives customer choices and especially the customers who have not chosen the current account which contribute more than half of the total products. Let's see what are these products and analyze the features that may contribute to the customer buying behavior."
   ]
  },
  {
   "cell_type": "markdown",
   "metadata": {
    "_cell_guid": "167f8ed8-06a9-bd63-7264-c652e9c8c675"
   },
   "source": [
    "Distribution of products by age group"
   ]
  },
  {
   "cell_type": "code",
   "execution_count": null,
   "metadata": {
    "_cell_guid": "b59d5b65-a22a-3e24-4fd5-63a799dadece"
   },
   "outputs": [],
   "source": [
    "df_a = df.loc[:, ['age']].join(df.loc[:, 'ind_ahor_fin_ult1':'ind_recibo_ult1'])"
   ]
  },
  {
   "cell_type": "code",
   "execution_count": null,
   "metadata": {
    "_cell_guid": "b166c513-8b6e-c805-34de-7eae4e3b77bf"
   },
   "outputs": [],
   "source": [
    "df_a = (df_a.groupby(pd.cut(df_a['age'], [0,18,25,35,45,55, pd.np.inf], right=False))\n",
    "                     .sum())"
   ]
  },
  {
   "cell_type": "code",
   "execution_count": null,
   "metadata": {
    "_cell_guid": "606d6f08-07ac-e299-8477-b38f8f9575c8"
   },
   "outputs": [],
   "source": [
    "df_a.head()"
   ]
  },
  {
   "cell_type": "code",
   "execution_count": null,
   "metadata": {
    "_cell_guid": "4e3ff450-6f70-e93b-bad8-b9ca753df308"
   },
   "outputs": [],
   "source": [
    "del df_a[\"age\"]"
   ]
  },
  {
   "cell_type": "code",
   "execution_count": null,
   "metadata": {
    "_cell_guid": "3c7506b3-434c-5e31-9551-4ae669712a5c"
   },
   "outputs": [],
   "source": [
    "df_a = df_a.T"
   ]
  },
  {
   "cell_type": "code",
   "execution_count": null,
   "metadata": {
    "_cell_guid": "5638cbea-7ceb-16e9-078d-905adb416e1c"
   },
   "outputs": [],
   "source": [
    "# Customers age distribution of each product\n",
    "df_a.plot(kind='barh', stacked=True, fontsize=14, figsize=[16,12], colormap='gist_rainbow')\n",
    "plt.title('Customers age distribution of each product', fontsize=20, color='black') \n",
    "plt.xlabel('Total number of customers', fontsize=17, color='black') \n",
    "plt.ylabel('Products names', fontsize=17, color='black') \n",
    "plt.legend([[0, 18], [18, 25], [25, 35], [35, 45], [45, 55], [55, inf]], prop={'size':15}) "
   ]
  },
  {
   "cell_type": "markdown",
   "metadata": {
    "_cell_guid": "9a142007-d739-28d8-7512-bc523ee7faa8"
   },
   "source": [
    "Products use occurencies by age"
   ]
  },
  {
   "cell_type": "code",
   "execution_count": null,
   "metadata": {
    "_cell_guid": "f780f25b-f044-dde6-b439-9fb4411de289"
   },
   "outputs": [],
   "source": [
    "df_a = df.loc[:,[\"age\"]].join(df.loc[:, 'ind_ahor_fin_ult1':'ind_recibo_ult1'])"
   ]
  },
  {
   "cell_type": "markdown",
   "metadata": {
    "_cell_guid": "11ee5dd5-29f4-ac5e-9fbd-bc1916f67270"
   },
   "source": [
    "a function to calculate the mean of age and the sum of other columns"
   ]
  },
  {
   "cell_type": "code",
   "execution_count": null,
   "metadata": {
    "_cell_guid": "ea88d6bb-04ff-9b2d-762d-c27164c5868c"
   },
   "outputs": [],
   "source": [
    "fnc = {c:'sum' for c in df_a.columns.drop(['age']).tolist()}\n",
    "     ...: fnc['age'] = 'mean'\n",
    "     ...: "
   ]
  },
  {
   "cell_type": "code",
   "execution_count": null,
   "metadata": {
    "_cell_guid": "6b1348ab-c549-f6bb-1c58-d33d4bbcd4dc"
   },
   "outputs": [],
   "source": [
    "df_a = df_a.groupby('age').agg(fnc).reindex_axis(df_a.columns.drop('age'), 1) "
   ]
  },
  {
   "cell_type": "code",
   "execution_count": null,
   "metadata": {
    "_cell_guid": "540b4b4f-cf99-7620-33a8-1725cf33e194"
   },
   "outputs": [],
   "source": [
    "df_a.head()"
   ]
  },
  {
   "cell_type": "code",
   "execution_count": null,
   "metadata": {
    "_cell_guid": "bd615a2a-4cc3-9395-15ec-0cd566073405"
   },
   "outputs": [],
   "source": [
    "# Products distribution by age\n",
    "df_a.plot(kind='barh', stacked=True, fontsize=14, figsize=[16,42], colormap='hsv')\n",
    "plt.title('Products distribution by age', fontsize=20, color='black') \n",
    "plt.xlabel('Total number of customers', fontsize=17, color='black') \n",
    "plt.ylabel('Age (years)', fontsize=17, color='black') \n",
    "plt.legend(prop={'size':15}) "
   ]
  },
  {
   "cell_type": "markdown",
   "metadata": {
    "_cell_guid": "5bebaaaa-fff1-54eb-a8a4-bbb917a481d7"
   },
   "source": [
    "It is noticable from the above plot that those customers whose ages are less or equal 18 years use only Junior Account and those whose ages between 20 and 28 years use mostly the current account."
   ]
  },
  {
   "cell_type": "markdown",
   "metadata": {
    "_cell_guid": "1ca187b6-6ee9-6ce2-a6e4-e4b8cde28562"
   },
   "source": [
    "Distribution of products by segment"
   ]
  },
  {
   "cell_type": "code",
   "execution_count": null,
   "metadata": {
    "_cell_guid": "5255767e-2f01-6246-97d6-e9762819923c"
   },
   "outputs": [],
   "source": [
    "df_a = df.loc[:, ['segmento']].join(df.loc[:, 'ind_ahor_fin_ult1':'ind_recibo_ult1'])"
   ]
  },
  {
   "cell_type": "code",
   "execution_count": null,
   "metadata": {
    "_cell_guid": "1f8a1712-e44a-df7d-965d-6f5229e8edac"
   },
   "outputs": [],
   "source": [
    "df_a = df_a.groupby(\"segmento\").agg(\"sum\")\n",
    "df_a = df_a.T"
   ]
  },
  {
   "cell_type": "code",
   "execution_count": null,
   "metadata": {
    "_cell_guid": "c1b89825-a024-51a9-309b-ebf463562489"
   },
   "outputs": [],
   "source": [
    "df_a.head()"
   ]
  },
  {
   "cell_type": "code",
   "execution_count": null,
   "metadata": {
    "_cell_guid": "3dd69480-9a3f-2dbc-1cdf-8d5cf2af7f05"
   },
   "outputs": [],
   "source": [
    "# Customers segment of each product\n",
    "df_a.plot(kind='barh', stacked=True, fontsize=14, figsize=[16,12], colormap='gist_rainbow')\n",
    "plt.title('Customers segmentation of products', fontsize=20, color='black') \n",
    "plt.xlabel('Total number of customers', fontsize=17, color='black') \n",
    "plt.ylabel('Products names', fontsize=17, color='black') \n",
    "plt.legend(prop={'size':15}) "
   ]
  },
  {
   "cell_type": "markdown",
   "metadata": {
    "_cell_guid": "9a905aa3-4659-774f-5e4a-06462e66556f"
   },
   "source": [
    "Distribution of products by activity index"
   ]
  },
  {
   "cell_type": "code",
   "execution_count": null,
   "metadata": {
    "_cell_guid": "7bf3b696-8aea-ef5f-00d0-163e4a8902ec"
   },
   "outputs": [],
   "source": [
    "# Let's extract the necessary columns for this step\n",
    "df_a = df.loc[:, ['ind_actividad_cliente']].join(df.loc[:, 'ind_ahor_fin_ult1':'ind_recibo_ult1'])"
   ]
  },
  {
   "cell_type": "code",
   "execution_count": null,
   "metadata": {
    "_cell_guid": "16e2d3ae-9372-70ce-ac54-4c441221ed1b"
   },
   "outputs": [],
   "source": [
    "df_a = df_a.groupby(\"ind_actividad_cliente\").agg(\"sum\")\n",
    "df_a = df_a.T"
   ]
  },
  {
   "cell_type": "code",
   "execution_count": null,
   "metadata": {
    "_cell_guid": "f8735931-44d3-9fe2-7462-1aac14f89458"
   },
   "outputs": [],
   "source": [
    "# Purchased products types by customer activity index\n",
    "df_a.plot(kind='barh', stacked=True, fontsize=14, figsize=[16,12], colormap='prism')\n",
    "plt.title('Purchased products types by customer activity index ', fontsize=20, color='black') \n",
    "plt.xlabel('Total number of customers', fontsize=17, color='black') \n",
    "plt.ylabel('Products names', fontsize=17, color='black') \n",
    "plt.legend([\"Inactive\", \"Active\"], prop={'size':15}) "
   ]
  },
  {
   "cell_type": "markdown",
   "metadata": {
    "_cell_guid": "58fe4068-a953-9268-5d81-511384e2c934"
   },
   "source": [
    "Most of the products except the current account and particular account were used by active customers. It seems that the activity index do not have an impact on the current and particular accounts."
   ]
  },
  {
   "cell_type": "markdown",
   "metadata": {
    "_cell_guid": "562b7a5d-877b-7d6b-31c4-2eac1316452f"
   },
   "source": [
    "Distribution of products by sex"
   ]
  },
  {
   "cell_type": "code",
   "execution_count": null,
   "metadata": {
    "_cell_guid": "294a5e8a-34ed-554a-7301-666fe033bb46"
   },
   "outputs": [],
   "source": [
    "# Let's extract the necessary columns for this step\n",
    "df_a= df.loc[:, ['sexo']].join(df.loc[:, 'ind_ahor_fin_ult1':'ind_recibo_ult1'])"
   ]
  },
  {
   "cell_type": "code",
   "execution_count": null,
   "metadata": {
    "_cell_guid": "53e43865-2ee1-5b5e-8296-6817110a6c73"
   },
   "outputs": [],
   "source": [
    "df_a = df_a.groupby(\"sexo\").agg(\"sum\")\n",
    "df_a = df_a.T"
   ]
  },
  {
   "cell_type": "code",
   "execution_count": null,
   "metadata": {
    "_cell_guid": "2a59ac5c-2ff6-ece1-6cf8-758555e42f8e"
   },
   "outputs": [],
   "source": [
    "# Percentage of purchased products by sex\n",
    "df_a.plot(kind='barh', stacked=True, fontsize=14, figsize=[16,12], colormap='prism')\n",
    "plt.title('Purchased products by sex ', fontsize=20, color='black') \n",
    "plt.xlabel('Total number of customers', fontsize=17, color='black') \n",
    "plt.ylabel('Products names', fontsize=17, color='black') \n",
    "plt.legend(prop={'size':15}) "
   ]
  },
  {
   "cell_type": "markdown",
   "metadata": {
    "_cell_guid": "ea707fe3-6072-7db6-1a9c-47ce72d7c775"
   },
   "source": [
    "V purchased more than Z but this is due to the customers of V being more than Z in numbers. Let's confirm this."
   ]
  },
  {
   "cell_type": "code",
   "execution_count": null,
   "metadata": {
    "_cell_guid": "9c4db65a-a6f6-c34b-f4ed-0d8196da36c8"
   },
   "outputs": [],
   "source": [
    "df[\"sexo\"].value_counts()"
   ]
  },
  {
   "cell_type": "code",
   "execution_count": null,
   "metadata": {
    "_cell_guid": "ba6496ea-2aee-3957-27fe-529af0e403a1"
   },
   "outputs": [],
   "source": [
    "a = df[\"ncodpers\"][df[\"sexo\"]==\"H\"].count()\n",
    "b = df[\"ncodpers\"][df[\"sexo\"]==\"V\"].count()\n",
    "(a/b)*100"
   ]
  },
  {
   "cell_type": "markdown",
   "metadata": {
    "_cell_guid": "d2b769e1-8a4d-fd3f-e5da-1efa1cce5a2b"
   },
   "source": [
    "The above result reveal that the number of customers whose sex is H is lower and hence their share in purchased products is lower than the other sex."
   ]
  },
  {
   "cell_type": "markdown",
   "metadata": {
    "_cell_guid": "8d089bcd-a906-15a0-7206-7cbb4d0bf536"
   },
   "source": [
    "Now let's look at the total number of products by age, income and seniority."
   ]
  },
  {
   "cell_type": "code",
   "execution_count": null,
   "metadata": {
    "_cell_guid": "7f7db7ca-a891-b4a4-7db6-ba4901418aa5"
   },
   "outputs": [],
   "source": [
    "df_a = df.loc[:, ['age', 'renta', 'antiguedad']].join(df.loc[:, 'ind_ahor_fin_ult1':'tot_products'])"
   ]
  },
  {
   "cell_type": "code",
   "execution_count": null,
   "metadata": {
    "_cell_guid": "7a3e90d7-8d8d-32a7-ac28-98c614376ef2"
   },
   "outputs": [],
   "source": [
    "df_a.head()"
   ]
  },
  {
   "cell_type": "code",
   "execution_count": null,
   "metadata": {
    "_cell_guid": "09b132a7-f6e8-772d-29cd-19c7f5709b1e"
   },
   "outputs": [],
   "source": [
    "df_a = df_a.dropna(axis=0)"
   ]
  },
  {
   "cell_type": "code",
   "execution_count": null,
   "metadata": {
    "_cell_guid": "818e2055-dced-9f69-33ea-0aa5906c0e0e"
   },
   "outputs": [],
   "source": [
    "df_a = df_a.groupby(\"tot_products\").agg(\"mean\")"
   ]
  },
  {
   "cell_type": "code",
   "execution_count": null,
   "metadata": {
    "_cell_guid": "d9a8ad82-7363-337a-5d7e-66ae5c1c2f59"
   },
   "outputs": [],
   "source": [
    "df_b = df_a.loc[:, ['age', 'renta', 'antiguedad']]"
   ]
  },
  {
   "cell_type": "code",
   "execution_count": null,
   "metadata": {
    "_cell_guid": "4c7a1c95-01c3-fb50-3bbf-4f2661b75fc1"
   },
   "outputs": [],
   "source": [
    "df_b.head()"
   ]
  },
  {
   "cell_type": "markdown",
   "metadata": {
    "_cell_guid": "06eac8ef-d77b-5eea-5906-fe4a09f5635a"
   },
   "source": [
    "#### Total number of products by seniority"
   ]
  },
  {
   "cell_type": "code",
   "execution_count": null,
   "metadata": {
    "_cell_guid": "78dc8a54-9fa6-e843-9d16-20d2e2c13c85"
   },
   "outputs": [],
   "source": [
    "df_a = df_b[\"antiguedad\"][0:10]"
   ]
  },
  {
   "cell_type": "code",
   "execution_count": null,
   "metadata": {
    "_cell_guid": "52fb8794-92fe-5c9f-17a0-5f3ecbba61ed"
   },
   "outputs": [],
   "source": [
    "# Total number of products by seniority\n",
    "df_a.plot(kind='bar', fontsize=14, figsize=[16,12], colormap='prism')\n",
    "plt.title('Total number of products by seniority', fontsize=20, color='black') \n",
    "plt.xlabel('Total number of products', fontsize=17, color='black') \n",
    "plt.ylabel('Average seniority', fontsize=17, color='black') \n",
    "#plt.legend(prop={'size':15}) "
   ]
  },
  {
   "cell_type": "markdown",
   "metadata": {
    "_cell_guid": "9c19e90a-f659-6195-f6eb-53e4d431a526"
   },
   "source": [
    "It is clear that the number of products used by the customer is positively correlated with seniority except those customers who have not used any products."
   ]
  },
  {
   "cell_type": "markdown",
   "metadata": {
    "_cell_guid": "81113b94-99fe-3383-856e-2ef926482fb3"
   },
   "source": [
    "#### Total number of products by age"
   ]
  },
  {
   "cell_type": "code",
   "execution_count": null,
   "metadata": {
    "_cell_guid": "24bdc988-f590-fc72-e925-8aeb01b505ae"
   },
   "outputs": [],
   "source": [
    "df_a = df_b[\"age\"]"
   ]
  },
  {
   "cell_type": "code",
   "execution_count": null,
   "metadata": {
    "_cell_guid": "17187446-52c6-c707-c1db-6df7685b7708"
   },
   "outputs": [],
   "source": [
    "# Total number of products by age\n",
    "df_a.plot(kind='bar', fontsize=14, figsize=[16,12], colormap='prism')\n",
    "plt.title('Total number of products by age', fontsize=20, color='black') \n",
    "plt.xlabel('Total number of products', fontsize=17, color='black') \n",
    "plt.ylabel('Average age', fontsize=17, color='black') \n",
    "plt.legend(prop={'size':15}) "
   ]
  },
  {
   "cell_type": "markdown",
   "metadata": {
    "_cell_guid": "fc5aa853-919b-dc5d-3ecf-a1c4880d24e4"
   },
   "source": [
    "#### Total number of products by income"
   ]
  },
  {
   "cell_type": "code",
   "execution_count": null,
   "metadata": {
    "_cell_guid": "b7137d90-2d7d-c639-9356-2b5cb53e4b34"
   },
   "outputs": [],
   "source": [
    "df_a = df_b[\"renta\"]"
   ]
  },
  {
   "cell_type": "code",
   "execution_count": null,
   "metadata": {
    "_cell_guid": "747d9d2c-47d0-c427-31d7-de1655b51d08"
   },
   "outputs": [],
   "source": [
    "# Total number of products by income\n",
    "df_a.plot(kind='bar', fontsize=14, figsize=[16,12], colormap='prism')\n",
    "plt.title('Total number of products by income', fontsize=20, color='black') \n",
    "plt.xlabel('Total number of products', fontsize=17, color='black') \n",
    "plt.ylabel('Average income', fontsize=17, color='black') \n",
    "plt.legend(prop={'size':15}) "
   ]
  }
 ],
 "metadata": {
  "_change_revision": 0,
  "_is_fork": false,
  "kernelspec": {
   "display_name": "Python 3",
   "language": "python",
   "name": "python3"
  },
  "language_info": {
   "codemirror_mode": {
    "name": "ipython",
    "version": 3
   },
   "file_extension": ".py",
   "mimetype": "text/x-python",
   "name": "python",
   "nbconvert_exporter": "python",
   "pygments_lexer": "ipython3",
   "version": "3.6.6"
  },
  "toc": {
   "base_numbering": 1,
   "nav_menu": {},
   "number_sections": true,
   "sideBar": true,
   "skip_h1_title": false,
   "title_cell": "Table of Contents",
   "title_sidebar": "Contents",
   "toc_cell": false,
   "toc_position": {},
   "toc_section_display": true,
   "toc_window_display": false
  }
 },
 "nbformat": 4,
 "nbformat_minor": 1
}
