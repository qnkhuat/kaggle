{
 "cells": [
  {
   "cell_type": "markdown",
   "metadata": {},
   "source": [
    "# import"
   ]
  },
  {
   "cell_type": "code",
   "execution_count": 1,
   "metadata": {
    "ExecuteTime": {
     "end_time": "2018-10-25T16:50:37.997056Z",
     "start_time": "2018-10-25T16:50:37.641136Z"
    }
   },
   "outputs": [],
   "source": [
    "import pandas as pd\n",
    "import json\n",
    "\n",
    "import os\n",
    "from os.path import join as pjoin\n",
    "from pandas.io.json import json_normalize\n"
   ]
  },
  {
   "cell_type": "code",
   "execution_count": 35,
   "metadata": {
    "ExecuteTime": {
     "end_time": "2018-10-25T16:57:23.521448Z",
     "start_time": "2018-10-25T16:57:23.363956Z"
    }
   },
   "outputs": [],
   "source": [
    "import numpy as np\n",
    "import scipy\n",
    "\n",
    "import math\n",
    "import random\n",
    "import sklearn\n",
    "from nltk.corpus import stopwords\n",
    "from sklearn.model_selection import train_test_split\n",
    "from sklearn.feature_extraction.text import TfidfVectorizer\n",
    "from sklearn.metrics.pairwise import cosine_similarity\n",
    "from scipy.sparse.linalg  import svds\n",
    "\n",
    "\n",
    "\n",
    "# Visualization\n",
    "import matplotlib.pyplot as plt\n",
    "import seaborn as sns"
   ]
  },
  {
   "cell_type": "code",
   "execution_count": 3,
   "metadata": {
    "ExecuteTime": {
     "end_time": "2018-10-25T16:50:39.779990Z",
     "start_time": "2018-10-25T16:50:39.768873Z"
    }
   },
   "outputs": [],
   "source": [
    "plt.rcParams['figure.figsize'] = (12,6)"
   ]
  },
  {
   "cell_type": "markdown",
   "metadata": {},
   "source": [
    "# Helper functions"
   ]
  },
  {
   "cell_type": "code",
   "execution_count": 4,
   "metadata": {
    "ExecuteTime": {
     "end_time": "2018-10-25T16:50:39.790057Z",
     "start_time": "2018-10-25T16:50:39.782008Z"
    }
   },
   "outputs": [],
   "source": [
    "def decode_json(df_raw,json_cols):\n",
    "    df = df_raw.copy()\n",
    "    for column in json_cols:\n",
    "        tdf = json_normalize(df[column])\n",
    "        df = df.drop(columns = [column])\n",
    "        tdf.columns = [column + '_' + col for col in tdf.columns]\n",
    "        df = df.merge(tdf, left_index=True, right_index=True)\n",
    "    return df"
   ]
  },
  {
   "cell_type": "code",
   "execution_count": 5,
   "metadata": {
    "ExecuteTime": {
     "end_time": "2018-10-25T16:50:39.798304Z",
     "start_time": "2018-10-25T16:50:39.792728Z"
    }
   },
   "outputs": [],
   "source": [
    "# apply this to genres\n",
    "def pipe_flatten_names(keywords):\n",
    "    return '|'.join([x['name'] for x in keywords])\n",
    "\n",
    "\n",
    "def safe_access(container, index_values):\n",
    "    # return missing value rather than an error upon indexing/key failure\n",
    "    result = container\n",
    "    try:\n",
    "        for idx in index_values:\n",
    "            result = result[idx]\n",
    "        return result\n",
    "    except IndexError or KeyError:\n",
    "        return pd.np.nan\n",
    "    \n",
    "    \n",
    "def get_director(crew_data):\n",
    "    directors = [x['name'] for x in crew_data if x['job'] == 'Director']\n",
    "    return safe_access(directors, [0])"
   ]
  },
  {
   "cell_type": "markdown",
   "metadata": {
    "ExecuteTime": {
     "end_time": "2018-10-23T03:57:02.848952Z",
     "start_time": "2018-10-23T03:57:02.846021Z"
    }
   },
   "source": [
    "# Load data"
   ]
  },
  {
   "cell_type": "markdown",
   "metadata": {},
   "source": [
    "With movies dataset only we will create recommendation that use content-based method to find similar movies"
   ]
  },
  {
   "cell_type": "markdown",
   "metadata": {},
   "source": [
    "Later on we will use rating dataset to validate the result by suggest the movies for user, and if that movie has a rated > 3 we will consider it to be a plus"
   ]
  },
  {
   "cell_type": "code",
   "execution_count": 93,
   "metadata": {
    "ExecuteTime": {
     "end_time": "2018-10-25T17:05:00.880301Z",
     "start_time": "2018-10-25T17:05:00.874975Z"
    },
    "scrolled": false
   },
   "outputs": [
    {
     "data": {
      "text/plain": [
       "['tmdb_5000_credits.csv', 'README.md', 'tmdb_5000_movies.csv']"
      ]
     },
     "execution_count": 93,
     "metadata": {},
     "output_type": "execute_result"
    }
   ],
   "source": [
    "data_root = '../../data/movies/'\n",
    "os.listdir(data_root)"
   ]
  },
  {
   "cell_type": "markdown",
   "metadata": {},
   "source": [
    "Notice that data contains json columns"
   ]
  },
  {
   "cell_type": "code",
   "execution_count": 94,
   "metadata": {
    "ExecuteTime": {
     "end_time": "2018-10-25T17:05:01.290225Z",
     "start_time": "2018-10-25T17:05:01.051526Z"
    }
   },
   "outputs": [],
   "source": [
    "json_cols = ['genres', 'keywords','production_companies' ,'production_countries', 'spoken_languages']\n",
    "\n",
    "json_conv = {col: json.loads for col in json_cols}\n",
    "\n",
    "movies = pd.read_csv(pjoin(data_root,'tmdb_5000_movies.csv'),\n",
    "                     parse_dates=['release_date'],\n",
    "                     converters=json_conv)"
   ]
  },
  {
   "cell_type": "code",
   "execution_count": 95,
   "metadata": {
    "ExecuteTime": {
     "end_time": "2018-10-25T17:05:02.138093Z",
     "start_time": "2018-10-25T17:05:01.291762Z"
    },
    "scrolled": true
   },
   "outputs": [],
   "source": [
    "json_cols = ['cast', 'crew']\n",
    "\n",
    "json_conv = {col: json.loads for col in json_cols}\n",
    "\n",
    "credits = pd.read_csv(pjoin(data_root,'tmdb_5000_credits.csv'),\n",
    "                     converters=json_conv)"
   ]
  },
  {
   "cell_type": "markdown",
   "metadata": {},
   "source": [
    "all of json columns"
   ]
  },
  {
   "cell_type": "code",
   "execution_count": 96,
   "metadata": {
    "ExecuteTime": {
     "end_time": "2018-10-25T17:05:02.143393Z",
     "start_time": "2018-10-25T17:05:02.140130Z"
    }
   },
   "outputs": [],
   "source": [
    "json_cols = ['genres', 'keywords','production_companies' ,'production_countries', \n",
    "                 'spoken_languages','cast','crew']"
   ]
  },
  {
   "cell_type": "code",
   "execution_count": 97,
   "metadata": {
    "ExecuteTime": {
     "end_time": "2018-10-25T17:05:02.150267Z",
     "start_time": "2018-10-25T17:05:02.145292Z"
    },
    "scrolled": true
   },
   "outputs": [
    {
     "data": {
      "text/plain": [
       "((4803, 4), (4803, 20))"
      ]
     },
     "execution_count": 97,
     "metadata": {},
     "output_type": "execute_result"
    }
   ],
   "source": [
    "credits.shape,movies.shape"
   ]
  },
  {
   "cell_type": "markdown",
   "metadata": {
    "ExecuteTime": {
     "end_time": "2018-10-23T15:58:06.031149Z",
     "start_time": "2018-10-23T15:58:06.026158Z"
    }
   },
   "source": [
    "## Merge 2 dataframe in to 1"
   ]
  },
  {
   "cell_type": "code",
   "execution_count": 98,
   "metadata": {
    "ExecuteTime": {
     "end_time": "2018-10-25T17:05:02.156206Z",
     "start_time": "2018-10-25T17:05:02.152091Z"
    }
   },
   "outputs": [],
   "source": [
    "credits.columns = ['id', 'title', 'cast', 'crew']"
   ]
  },
  {
   "cell_type": "code",
   "execution_count": 99,
   "metadata": {
    "ExecuteTime": {
     "end_time": "2018-10-25T17:05:02.177186Z",
     "start_time": "2018-10-25T17:05:02.158424Z"
    }
   },
   "outputs": [
    {
     "data": {
      "text/plain": [
       "(4803, 23)"
      ]
     },
     "execution_count": 99,
     "metadata": {},
     "output_type": "execute_result"
    }
   ],
   "source": [
    "df = credits.merge(movies, on='id')\n",
    "del credits\n",
    "del movies\n",
    "df.shape"
   ]
  },
  {
   "cell_type": "markdown",
   "metadata": {
    "ExecuteTime": {
     "end_time": "2018-10-23T23:28:21.141979Z",
     "start_time": "2018-10-23T23:28:21.138511Z"
    }
   },
   "source": [
    "## Data walkthrough"
   ]
  },
  {
   "cell_type": "code",
   "execution_count": 100,
   "metadata": {
    "ExecuteTime": {
     "end_time": "2018-10-25T17:05:02.185337Z",
     "start_time": "2018-10-25T17:05:02.179858Z"
    },
    "scrolled": true
   },
   "outputs": [
    {
     "data": {
      "text/plain": [
       "Index(['id', 'title_x', 'cast', 'crew', 'budget', 'genres', 'homepage',\n",
       "       'keywords', 'original_language', 'original_title', 'overview',\n",
       "       'popularity', 'production_companies', 'production_countries',\n",
       "       'release_date', 'revenue', 'runtime', 'spoken_languages', 'status',\n",
       "       'tagline', 'title_y', 'vote_average', 'vote_count'],\n",
       "      dtype='object')"
      ]
     },
     "execution_count": 100,
     "metadata": {},
     "output_type": "execute_result"
    }
   ],
   "source": [
    "df.columns"
   ]
  },
  {
   "cell_type": "code",
   "execution_count": 101,
   "metadata": {
    "ExecuteTime": {
     "end_time": "2018-10-25T17:05:02.443095Z",
     "start_time": "2018-10-25T17:05:02.188569Z"
    }
   },
   "outputs": [
    {
     "data": {
      "text/html": [
       "<div>\n",
       "<style scoped>\n",
       "    .dataframe tbody tr th:only-of-type {\n",
       "        vertical-align: middle;\n",
       "    }\n",
       "\n",
       "    .dataframe tbody tr th {\n",
       "        vertical-align: top;\n",
       "    }\n",
       "\n",
       "    .dataframe thead th {\n",
       "        text-align: right;\n",
       "    }\n",
       "</style>\n",
       "<table border=\"1\" class=\"dataframe\">\n",
       "  <thead>\n",
       "    <tr style=\"text-align: right;\">\n",
       "      <th></th>\n",
       "      <th>id</th>\n",
       "      <th>title_x</th>\n",
       "      <th>cast</th>\n",
       "      <th>crew</th>\n",
       "      <th>budget</th>\n",
       "      <th>genres</th>\n",
       "      <th>homepage</th>\n",
       "      <th>keywords</th>\n",
       "      <th>original_language</th>\n",
       "      <th>original_title</th>\n",
       "      <th>...</th>\n",
       "      <th>production_countries</th>\n",
       "      <th>release_date</th>\n",
       "      <th>revenue</th>\n",
       "      <th>runtime</th>\n",
       "      <th>spoken_languages</th>\n",
       "      <th>status</th>\n",
       "      <th>tagline</th>\n",
       "      <th>title_y</th>\n",
       "      <th>vote_average</th>\n",
       "      <th>vote_count</th>\n",
       "    </tr>\n",
       "  </thead>\n",
       "  <tbody>\n",
       "    <tr>\n",
       "      <th>0</th>\n",
       "      <td>19995</td>\n",
       "      <td>Avatar</td>\n",
       "      <td>[{'cast_id': 242, 'character': 'Jake Sully', '...</td>\n",
       "      <td>[{'credit_id': '52fe48009251416c750aca23', 'de...</td>\n",
       "      <td>237000000</td>\n",
       "      <td>[{'id': 28, 'name': 'Action'}, {'id': 12, 'nam...</td>\n",
       "      <td>http://www.avatarmovie.com/</td>\n",
       "      <td>[{'id': 1463, 'name': 'culture clash'}, {'id':...</td>\n",
       "      <td>en</td>\n",
       "      <td>Avatar</td>\n",
       "      <td>...</td>\n",
       "      <td>[{'iso_3166_1': 'US', 'name': 'United States o...</td>\n",
       "      <td>2009-12-10</td>\n",
       "      <td>2787965087</td>\n",
       "      <td>162.0</td>\n",
       "      <td>[{'iso_639_1': 'en', 'name': 'English'}, {'iso...</td>\n",
       "      <td>Released</td>\n",
       "      <td>Enter the World of Pandora.</td>\n",
       "      <td>Avatar</td>\n",
       "      <td>7.2</td>\n",
       "      <td>11800</td>\n",
       "    </tr>\n",
       "    <tr>\n",
       "      <th>1</th>\n",
       "      <td>285</td>\n",
       "      <td>Pirates of the Caribbean: At World's End</td>\n",
       "      <td>[{'cast_id': 4, 'character': 'Captain Jack Spa...</td>\n",
       "      <td>[{'credit_id': '52fe4232c3a36847f800b579', 'de...</td>\n",
       "      <td>300000000</td>\n",
       "      <td>[{'id': 12, 'name': 'Adventure'}, {'id': 14, '...</td>\n",
       "      <td>http://disney.go.com/disneypictures/pirates/</td>\n",
       "      <td>[{'id': 270, 'name': 'ocean'}, {'id': 726, 'na...</td>\n",
       "      <td>en</td>\n",
       "      <td>Pirates of the Caribbean: At World's End</td>\n",
       "      <td>...</td>\n",
       "      <td>[{'iso_3166_1': 'US', 'name': 'United States o...</td>\n",
       "      <td>2007-05-19</td>\n",
       "      <td>961000000</td>\n",
       "      <td>169.0</td>\n",
       "      <td>[{'iso_639_1': 'en', 'name': 'English'}]</td>\n",
       "      <td>Released</td>\n",
       "      <td>At the end of the world, the adventure begins.</td>\n",
       "      <td>Pirates of the Caribbean: At World's End</td>\n",
       "      <td>6.9</td>\n",
       "      <td>4500</td>\n",
       "    </tr>\n",
       "    <tr>\n",
       "      <th>2</th>\n",
       "      <td>206647</td>\n",
       "      <td>Spectre</td>\n",
       "      <td>[{'cast_id': 1, 'character': 'James Bond', 'cr...</td>\n",
       "      <td>[{'credit_id': '54805967c3a36829b5002c41', 'de...</td>\n",
       "      <td>245000000</td>\n",
       "      <td>[{'id': 28, 'name': 'Action'}, {'id': 12, 'nam...</td>\n",
       "      <td>http://www.sonypictures.com/movies/spectre/</td>\n",
       "      <td>[{'id': 470, 'name': 'spy'}, {'id': 818, 'name...</td>\n",
       "      <td>en</td>\n",
       "      <td>Spectre</td>\n",
       "      <td>...</td>\n",
       "      <td>[{'iso_3166_1': 'GB', 'name': 'United Kingdom'...</td>\n",
       "      <td>2015-10-26</td>\n",
       "      <td>880674609</td>\n",
       "      <td>148.0</td>\n",
       "      <td>[{'iso_639_1': 'fr', 'name': 'Français'}, {'is...</td>\n",
       "      <td>Released</td>\n",
       "      <td>A Plan No One Escapes</td>\n",
       "      <td>Spectre</td>\n",
       "      <td>6.3</td>\n",
       "      <td>4466</td>\n",
       "    </tr>\n",
       "    <tr>\n",
       "      <th>3</th>\n",
       "      <td>49026</td>\n",
       "      <td>The Dark Knight Rises</td>\n",
       "      <td>[{'cast_id': 2, 'character': 'Bruce Wayne / Ba...</td>\n",
       "      <td>[{'credit_id': '52fe4781c3a36847f81398c3', 'de...</td>\n",
       "      <td>250000000</td>\n",
       "      <td>[{'id': 28, 'name': 'Action'}, {'id': 80, 'nam...</td>\n",
       "      <td>http://www.thedarkknightrises.com/</td>\n",
       "      <td>[{'id': 849, 'name': 'dc comics'}, {'id': 853,...</td>\n",
       "      <td>en</td>\n",
       "      <td>The Dark Knight Rises</td>\n",
       "      <td>...</td>\n",
       "      <td>[{'iso_3166_1': 'US', 'name': 'United States o...</td>\n",
       "      <td>2012-07-16</td>\n",
       "      <td>1084939099</td>\n",
       "      <td>165.0</td>\n",
       "      <td>[{'iso_639_1': 'en', 'name': 'English'}]</td>\n",
       "      <td>Released</td>\n",
       "      <td>The Legend Ends</td>\n",
       "      <td>The Dark Knight Rises</td>\n",
       "      <td>7.6</td>\n",
       "      <td>9106</td>\n",
       "    </tr>\n",
       "    <tr>\n",
       "      <th>4</th>\n",
       "      <td>49529</td>\n",
       "      <td>John Carter</td>\n",
       "      <td>[{'cast_id': 5, 'character': 'John Carter', 'c...</td>\n",
       "      <td>[{'credit_id': '52fe479ac3a36847f813eaa3', 'de...</td>\n",
       "      <td>260000000</td>\n",
       "      <td>[{'id': 28, 'name': 'Action'}, {'id': 12, 'nam...</td>\n",
       "      <td>http://movies.disney.com/john-carter</td>\n",
       "      <td>[{'id': 818, 'name': 'based on novel'}, {'id':...</td>\n",
       "      <td>en</td>\n",
       "      <td>John Carter</td>\n",
       "      <td>...</td>\n",
       "      <td>[{'iso_3166_1': 'US', 'name': 'United States o...</td>\n",
       "      <td>2012-03-07</td>\n",
       "      <td>284139100</td>\n",
       "      <td>132.0</td>\n",
       "      <td>[{'iso_639_1': 'en', 'name': 'English'}]</td>\n",
       "      <td>Released</td>\n",
       "      <td>Lost in our world, found in another.</td>\n",
       "      <td>John Carter</td>\n",
       "      <td>6.1</td>\n",
       "      <td>2124</td>\n",
       "    </tr>\n",
       "  </tbody>\n",
       "</table>\n",
       "<p>5 rows × 23 columns</p>\n",
       "</div>"
      ],
      "text/plain": [
       "       id                                   title_x  \\\n",
       "0   19995                                    Avatar   \n",
       "1     285  Pirates of the Caribbean: At World's End   \n",
       "2  206647                                   Spectre   \n",
       "3   49026                     The Dark Knight Rises   \n",
       "4   49529                               John Carter   \n",
       "\n",
       "                                                cast  \\\n",
       "0  [{'cast_id': 242, 'character': 'Jake Sully', '...   \n",
       "1  [{'cast_id': 4, 'character': 'Captain Jack Spa...   \n",
       "2  [{'cast_id': 1, 'character': 'James Bond', 'cr...   \n",
       "3  [{'cast_id': 2, 'character': 'Bruce Wayne / Ba...   \n",
       "4  [{'cast_id': 5, 'character': 'John Carter', 'c...   \n",
       "\n",
       "                                                crew     budget  \\\n",
       "0  [{'credit_id': '52fe48009251416c750aca23', 'de...  237000000   \n",
       "1  [{'credit_id': '52fe4232c3a36847f800b579', 'de...  300000000   \n",
       "2  [{'credit_id': '54805967c3a36829b5002c41', 'de...  245000000   \n",
       "3  [{'credit_id': '52fe4781c3a36847f81398c3', 'de...  250000000   \n",
       "4  [{'credit_id': '52fe479ac3a36847f813eaa3', 'de...  260000000   \n",
       "\n",
       "                                              genres  \\\n",
       "0  [{'id': 28, 'name': 'Action'}, {'id': 12, 'nam...   \n",
       "1  [{'id': 12, 'name': 'Adventure'}, {'id': 14, '...   \n",
       "2  [{'id': 28, 'name': 'Action'}, {'id': 12, 'nam...   \n",
       "3  [{'id': 28, 'name': 'Action'}, {'id': 80, 'nam...   \n",
       "4  [{'id': 28, 'name': 'Action'}, {'id': 12, 'nam...   \n",
       "\n",
       "                                       homepage  \\\n",
       "0                   http://www.avatarmovie.com/   \n",
       "1  http://disney.go.com/disneypictures/pirates/   \n",
       "2   http://www.sonypictures.com/movies/spectre/   \n",
       "3            http://www.thedarkknightrises.com/   \n",
       "4          http://movies.disney.com/john-carter   \n",
       "\n",
       "                                            keywords original_language  \\\n",
       "0  [{'id': 1463, 'name': 'culture clash'}, {'id':...                en   \n",
       "1  [{'id': 270, 'name': 'ocean'}, {'id': 726, 'na...                en   \n",
       "2  [{'id': 470, 'name': 'spy'}, {'id': 818, 'name...                en   \n",
       "3  [{'id': 849, 'name': 'dc comics'}, {'id': 853,...                en   \n",
       "4  [{'id': 818, 'name': 'based on novel'}, {'id':...                en   \n",
       "\n",
       "                             original_title    ...      \\\n",
       "0                                    Avatar    ...       \n",
       "1  Pirates of the Caribbean: At World's End    ...       \n",
       "2                                   Spectre    ...       \n",
       "3                     The Dark Knight Rises    ...       \n",
       "4                               John Carter    ...       \n",
       "\n",
       "                                production_countries  release_date  \\\n",
       "0  [{'iso_3166_1': 'US', 'name': 'United States o...    2009-12-10   \n",
       "1  [{'iso_3166_1': 'US', 'name': 'United States o...    2007-05-19   \n",
       "2  [{'iso_3166_1': 'GB', 'name': 'United Kingdom'...    2015-10-26   \n",
       "3  [{'iso_3166_1': 'US', 'name': 'United States o...    2012-07-16   \n",
       "4  [{'iso_3166_1': 'US', 'name': 'United States o...    2012-03-07   \n",
       "\n",
       "      revenue runtime                                   spoken_languages  \\\n",
       "0  2787965087   162.0  [{'iso_639_1': 'en', 'name': 'English'}, {'iso...   \n",
       "1   961000000   169.0           [{'iso_639_1': 'en', 'name': 'English'}]   \n",
       "2   880674609   148.0  [{'iso_639_1': 'fr', 'name': 'Français'}, {'is...   \n",
       "3  1084939099   165.0           [{'iso_639_1': 'en', 'name': 'English'}]   \n",
       "4   284139100   132.0           [{'iso_639_1': 'en', 'name': 'English'}]   \n",
       "\n",
       "     status                                         tagline  \\\n",
       "0  Released                     Enter the World of Pandora.   \n",
       "1  Released  At the end of the world, the adventure begins.   \n",
       "2  Released                           A Plan No One Escapes   \n",
       "3  Released                                 The Legend Ends   \n",
       "4  Released            Lost in our world, found in another.   \n",
       "\n",
       "                                    title_y vote_average vote_count  \n",
       "0                                    Avatar          7.2      11800  \n",
       "1  Pirates of the Caribbean: At World's End          6.9       4500  \n",
       "2                                   Spectre          6.3       4466  \n",
       "3                     The Dark Knight Rises          7.6       9106  \n",
       "4                               John Carter          6.1       2124  \n",
       "\n",
       "[5 rows x 23 columns]"
      ]
     },
     "execution_count": 101,
     "metadata": {},
     "output_type": "execute_result"
    }
   ],
   "source": [
    "df.head()"
   ]
  },
  {
   "cell_type": "markdown",
   "metadata": {},
   "source": [
    "There are many json columns and each of these json has more than 1 value"
   ]
  },
  {
   "cell_type": "code",
   "execution_count": 102,
   "metadata": {
    "ExecuteTime": {
     "end_time": "2018-10-25T17:05:02.465970Z",
     "start_time": "2018-10-25T17:05:02.445386Z"
    }
   },
   "outputs": [
    {
     "name": "stdout",
     "output_type": "stream",
     "text": [
      "<class 'pandas.core.frame.DataFrame'>\n",
      "Int64Index: 4803 entries, 0 to 4802\n",
      "Data columns (total 23 columns):\n",
      "id                      4803 non-null int64\n",
      "title_x                 4803 non-null object\n",
      "cast                    4803 non-null object\n",
      "crew                    4803 non-null object\n",
      "budget                  4803 non-null int64\n",
      "genres                  4803 non-null object\n",
      "homepage                1712 non-null object\n",
      "keywords                4803 non-null object\n",
      "original_language       4803 non-null object\n",
      "original_title          4803 non-null object\n",
      "overview                4800 non-null object\n",
      "popularity              4803 non-null float64\n",
      "production_companies    4803 non-null object\n",
      "production_countries    4803 non-null object\n",
      "release_date            4802 non-null datetime64[ns]\n",
      "revenue                 4803 non-null int64\n",
      "runtime                 4801 non-null float64\n",
      "spoken_languages        4803 non-null object\n",
      "status                  4803 non-null object\n",
      "tagline                 3959 non-null object\n",
      "title_y                 4803 non-null object\n",
      "vote_average            4803 non-null float64\n",
      "vote_count              4803 non-null int64\n",
      "dtypes: datetime64[ns](1), float64(3), int64(4), object(15)\n",
      "memory usage: 900.6+ KB\n"
     ]
    }
   ],
   "source": [
    "df.info()"
   ]
  },
  {
   "cell_type": "markdown",
   "metadata": {},
   "source": [
    "homepage missing so many values"
   ]
  },
  {
   "cell_type": "code",
   "execution_count": 103,
   "metadata": {
    "ExecuteTime": {
     "end_time": "2018-10-25T17:05:02.485393Z",
     "start_time": "2018-10-25T17:05:02.468534Z"
    },
    "scrolled": true
   },
   "outputs": [
    {
     "name": "stdout",
     "output_type": "stream",
     "text": [
      "id\n",
      "19995\n",
      "----------------------------------------------------------------------------------------------------\n",
      "title_x\n",
      "Avatar\n",
      "----------------------------------------------------------------------------------------------------\n",
      "cast\n",
      "[{'cast_id': 242, 'character': 'Jake Sully', 'credit_id': '5602a8a7c3a3685532001c9a', 'gender': 2, 'id': 65731, 'name': 'Sam Worthington', 'order': 0}, {'cast_id': 3, 'character': 'Neytiri', 'credit_id': '52fe48009251416c750ac9cb', 'gender': 1, 'id': 8691, 'name': 'Zoe Saldana', 'order': 1}, {'cast_id': 25, 'character': 'Dr. Grace Augustine', 'credit_id': '52fe48009251416c750aca39', 'gender': 1, 'id': 10205, 'name': 'Sigourney Weaver', 'order': 2}, {'cast_id': 4, 'character': 'Col. Quaritch', 'credit_id': '52fe48009251416c750ac9cf', 'gender': 2, 'id': 32747, 'name': 'Stephen Lang', 'order': 3}, {'cast_id': 5, 'character': 'Trudy Chacon', 'credit_id': '52fe48009251416c750ac9d3', 'gender': 1, 'id': 17647, 'name': 'Michelle Rodriguez', 'order': 4}, {'cast_id': 8, 'character': 'Selfridge', 'credit_id': '52fe48009251416c750ac9e1', 'gender': 2, 'id': 1771, 'name': 'Giovanni Ribisi', 'order': 5}, {'cast_id': 7, 'character': 'Norm Spellman', 'credit_id': '52fe48009251416c750ac9dd', 'gender': 2, 'id': 59231, 'name': 'Joel David Moore', 'order': 6}, {'cast_id': 9, 'character': 'Moat', 'credit_id': '52fe48009251416c750ac9e5', 'gender': 1, 'id': 30485, 'name': 'CCH Pounder', 'order': 7}, {'cast_id': 11, 'character': 'Eytukan', 'credit_id': '52fe48009251416c750ac9ed', 'gender': 2, 'id': 15853, 'name': 'Wes Studi', 'order': 8}, {'cast_id': 10, 'character': \"Tsu'Tey\", 'credit_id': '52fe48009251416c750ac9e9', 'gender': 2, 'id': 10964, 'name': 'Laz Alonso', 'order': 9}, {'cast_id': 12, 'character': 'Dr. Max Patel', 'credit_id': '52fe48009251416c750ac9f1', 'gender': 2, 'id': 95697, 'name': 'Dileep Rao', 'order': 10}, {'cast_id': 13, 'character': 'Lyle Wainfleet', 'credit_id': '52fe48009251416c750ac9f5', 'gender': 2, 'id': 98215, 'name': 'Matt Gerald', 'order': 11}, {'cast_id': 32, 'character': 'Private Fike', 'credit_id': '52fe48009251416c750aca5b', 'gender': 2, 'id': 154153, 'name': 'Sean Anthony Moran', 'order': 12}, {'cast_id': 33, 'character': 'Cryo Vault Med Tech', 'credit_id': '52fe48009251416c750aca5f', 'gender': 2, 'id': 397312, 'name': 'Jason Whyte', 'order': 13}, {'cast_id': 34, 'character': 'Venture Star Crew Chief', 'credit_id': '52fe48009251416c750aca63', 'gender': 2, 'id': 42317, 'name': 'Scott Lawrence', 'order': 14}, {'cast_id': 35, 'character': 'Lock Up Trooper', 'credit_id': '52fe48009251416c750aca67', 'gender': 2, 'id': 986734, 'name': 'Kelly Kilgour', 'order': 15}, {'cast_id': 36, 'character': 'Shuttle Pilot', 'credit_id': '52fe48009251416c750aca6b', 'gender': 0, 'id': 1207227, 'name': 'James Patrick Pitt', 'order': 16}, {'cast_id': 37, 'character': 'Shuttle Co-Pilot', 'credit_id': '52fe48009251416c750aca6f', 'gender': 0, 'id': 1180936, 'name': 'Sean Patrick Murphy', 'order': 17}, {'cast_id': 38, 'character': 'Shuttle Crew Chief', 'credit_id': '52fe48009251416c750aca73', 'gender': 2, 'id': 1019578, 'name': 'Peter Dillon', 'order': 18}, {'cast_id': 39, 'character': 'Tractor Operator / Troupe', 'credit_id': '52fe48009251416c750aca77', 'gender': 0, 'id': 91443, 'name': 'Kevin Dorman', 'order': 19}, {'cast_id': 40, 'character': 'Dragon Gunship Pilot', 'credit_id': '52fe48009251416c750aca7b', 'gender': 2, 'id': 173391, 'name': 'Kelson Henderson', 'order': 20}, {'cast_id': 41, 'character': 'Dragon Gunship Gunner', 'credit_id': '52fe48009251416c750aca7f', 'gender': 0, 'id': 1207236, 'name': 'David Van Horn', 'order': 21}, {'cast_id': 42, 'character': 'Dragon Gunship Navigator', 'credit_id': '52fe48009251416c750aca83', 'gender': 0, 'id': 215913, 'name': 'Jacob Tomuri', 'order': 22}, {'cast_id': 43, 'character': 'Suit #1', 'credit_id': '52fe48009251416c750aca87', 'gender': 0, 'id': 143206, 'name': 'Michael Blain-Rozgay', 'order': 23}, {'cast_id': 44, 'character': 'Suit #2', 'credit_id': '52fe48009251416c750aca8b', 'gender': 2, 'id': 169676, 'name': 'Jon Curry', 'order': 24}, {'cast_id': 46, 'character': 'Ambient Room Tech', 'credit_id': '52fe48009251416c750aca8f', 'gender': 0, 'id': 1048610, 'name': 'Luke Hawker', 'order': 25}, {'cast_id': 47, 'character': 'Ambient Room Tech / Troupe', 'credit_id': '52fe48009251416c750aca93', 'gender': 0, 'id': 42288, 'name': 'Woody Schultz', 'order': 26}, {'cast_id': 48, 'character': 'Horse Clan Leader', 'credit_id': '52fe48009251416c750aca97', 'gender': 2, 'id': 68278, 'name': 'Peter Mensah', 'order': 27}, {'cast_id': 49, 'character': 'Link Room Tech', 'credit_id': '52fe48009251416c750aca9b', 'gender': 0, 'id': 1207247, 'name': 'Sonia Yee', 'order': 28}, {'cast_id': 50, 'character': 'Basketball Avatar / Troupe', 'credit_id': '52fe48009251416c750aca9f', 'gender': 1, 'id': 1207248, 'name': 'Jahnel Curfman', 'order': 29}, {'cast_id': 51, 'character': 'Basketball Avatar', 'credit_id': '52fe48009251416c750acaa3', 'gender': 0, 'id': 89714, 'name': 'Ilram Choi', 'order': 30}, {'cast_id': 52, 'character': \"Na'vi Child\", 'credit_id': '52fe48009251416c750acaa7', 'gender': 0, 'id': 1207249, 'name': 'Kyla Warren', 'order': 31}, {'cast_id': 53, 'character': 'Troupe', 'credit_id': '52fe48009251416c750acaab', 'gender': 0, 'id': 1207250, 'name': 'Lisa Roumain', 'order': 32}, {'cast_id': 54, 'character': 'Troupe', 'credit_id': '52fe48009251416c750acaaf', 'gender': 1, 'id': 83105, 'name': 'Debra Wilson', 'order': 33}, {'cast_id': 57, 'character': 'Troupe', 'credit_id': '52fe48009251416c750acabb', 'gender': 0, 'id': 1207253, 'name': 'Chris Mala', 'order': 34}, {'cast_id': 55, 'character': 'Troupe', 'credit_id': '52fe48009251416c750acab3', 'gender': 0, 'id': 1207251, 'name': 'Taylor Kibby', 'order': 35}, {'cast_id': 56, 'character': 'Troupe', 'credit_id': '52fe48009251416c750acab7', 'gender': 0, 'id': 1207252, 'name': 'Jodie Landau', 'order': 36}, {'cast_id': 58, 'character': 'Troupe', 'credit_id': '52fe48009251416c750acabf', 'gender': 0, 'id': 1207254, 'name': 'Julie Lamm', 'order': 37}, {'cast_id': 59, 'character': 'Troupe', 'credit_id': '52fe48009251416c750acac3', 'gender': 0, 'id': 1207257, 'name': 'Cullen B. Madden', 'order': 38}, {'cast_id': 60, 'character': 'Troupe', 'credit_id': '52fe48009251416c750acac7', 'gender': 0, 'id': 1207259, 'name': 'Joseph Brady Madden', 'order': 39}, {'cast_id': 61, 'character': 'Troupe', 'credit_id': '52fe48009251416c750acacb', 'gender': 0, 'id': 1207262, 'name': 'Frankie Torres', 'order': 40}, {'cast_id': 62, 'character': 'Troupe', 'credit_id': '52fe48009251416c750acacf', 'gender': 1, 'id': 1158600, 'name': 'Austin Wilson', 'order': 41}, {'cast_id': 63, 'character': 'Troupe', 'credit_id': '52fe48019251416c750acad3', 'gender': 1, 'id': 983705, 'name': 'Sara Wilson', 'order': 42}, {'cast_id': 64, 'character': 'Troupe', 'credit_id': '52fe48019251416c750acad7', 'gender': 0, 'id': 1207263, 'name': 'Tamica Washington-Miller', 'order': 43}, {'cast_id': 65, 'character': 'Op Center Staff', 'credit_id': '52fe48019251416c750acadb', 'gender': 1, 'id': 1145098, 'name': 'Lucy Briant', 'order': 44}, {'cast_id': 66, 'character': 'Op Center Staff', 'credit_id': '52fe48019251416c750acadf', 'gender': 2, 'id': 33305, 'name': 'Nathan Meister', 'order': 45}, {'cast_id': 67, 'character': 'Op Center Staff', 'credit_id': '52fe48019251416c750acae3', 'gender': 0, 'id': 1207264, 'name': 'Gerry Blair', 'order': 46}, {'cast_id': 68, 'character': 'Op Center Staff', 'credit_id': '52fe48019251416c750acae7', 'gender': 2, 'id': 33311, 'name': 'Matthew Chamberlain', 'order': 47}, {'cast_id': 69, 'character': 'Op Center Staff', 'credit_id': '52fe48019251416c750acaeb', 'gender': 0, 'id': 1207265, 'name': 'Paul Yates', 'order': 48}, {'cast_id': 70, 'character': 'Op Center Duty Officer', 'credit_id': '52fe48019251416c750acaef', 'gender': 0, 'id': 1207266, 'name': 'Wray Wilson', 'order': 49}, {'cast_id': 71, 'character': 'Op Center Staff', 'credit_id': '52fe48019251416c750acaf3', 'gender': 2, 'id': 54492, 'name': 'James Gaylyn', 'order': 50}, {'cast_id': 72, 'character': 'Dancer', 'credit_id': '52fe48019251416c750acaf7', 'gender': 0, 'id': 1207267, 'name': 'Melvin Leno Clark III', 'order': 51}, {'cast_id': 73, 'character': 'Dancer', 'credit_id': '52fe48019251416c750acafb', 'gender': 0, 'id': 1207268, 'name': 'Carvon Futrell', 'order': 52}, {'cast_id': 74, 'character': 'Dancer', 'credit_id': '52fe48019251416c750acaff', 'gender': 0, 'id': 1207269, 'name': 'Brandon Jelkes', 'order': 53}, {'cast_id': 75, 'character': 'Dancer', 'credit_id': '52fe48019251416c750acb03', 'gender': 0, 'id': 1207270, 'name': 'Micah Moch', 'order': 54}, {'cast_id': 76, 'character': 'Dancer', 'credit_id': '52fe48019251416c750acb07', 'gender': 0, 'id': 1207271, 'name': 'Hanniyah Muhammad', 'order': 55}, {'cast_id': 77, 'character': 'Dancer', 'credit_id': '52fe48019251416c750acb0b', 'gender': 0, 'id': 1207272, 'name': 'Christopher Nolen', 'order': 56}, {'cast_id': 78, 'character': 'Dancer', 'credit_id': '52fe48019251416c750acb0f', 'gender': 0, 'id': 1207273, 'name': 'Christa Oliver', 'order': 57}, {'cast_id': 79, 'character': 'Dancer', 'credit_id': '52fe48019251416c750acb13', 'gender': 0, 'id': 1207274, 'name': 'April Marie Thomas', 'order': 58}, {'cast_id': 80, 'character': 'Dancer', 'credit_id': '52fe48019251416c750acb17', 'gender': 0, 'id': 1207275, 'name': 'Bravita A. Threatt', 'order': 59}, {'cast_id': 81, 'character': 'Mining Chief (uncredited)', 'credit_id': '52fe48019251416c750acb1b', 'gender': 0, 'id': 1207276, 'name': 'Colin Bleasdale', 'order': 60}, {'cast_id': 82, 'character': 'Veteran Miner (uncredited)', 'credit_id': '52fe48019251416c750acb1f', 'gender': 0, 'id': 107969, 'name': 'Mike Bodnar', 'order': 61}, {'cast_id': 83, 'character': 'Richard (uncredited)', 'credit_id': '52fe48019251416c750acb23', 'gender': 0, 'id': 1207278, 'name': 'Matt Clayton', 'order': 62}, {'cast_id': 84, 'character': \"Nav'i (uncredited)\", 'credit_id': '52fe48019251416c750acb27', 'gender': 1, 'id': 147898, 'name': 'Nicole Dionne', 'order': 63}, {'cast_id': 85, 'character': 'Trooper (uncredited)', 'credit_id': '52fe48019251416c750acb2b', 'gender': 0, 'id': 1207280, 'name': 'Jamie Harrison', 'order': 64}, {'cast_id': 86, 'character': 'Trooper (uncredited)', 'credit_id': '52fe48019251416c750acb2f', 'gender': 0, 'id': 1207281, 'name': 'Allan Henry', 'order': 65}, {'cast_id': 87, 'character': 'Ground Technician (uncredited)', 'credit_id': '52fe48019251416c750acb33', 'gender': 2, 'id': 1207282, 'name': 'Anthony Ingruber', 'order': 66}, {'cast_id': 88, 'character': 'Flight Crew Mechanic (uncredited)', 'credit_id': '52fe48019251416c750acb37', 'gender': 0, 'id': 1207283, 'name': 'Ashley Jeffery', 'order': 67}, {'cast_id': 14, 'character': 'Samson Pilot', 'credit_id': '52fe48009251416c750ac9f9', 'gender': 0, 'id': 98216, 'name': 'Dean Knowsley', 'order': 68}, {'cast_id': 89, 'character': 'Trooper (uncredited)', 'credit_id': '52fe48019251416c750acb3b', 'gender': 0, 'id': 1201399, 'name': 'Joseph Mika-Hunt', 'order': 69}, {'cast_id': 90, 'character': 'Banshee (uncredited)', 'credit_id': '52fe48019251416c750acb3f', 'gender': 0, 'id': 236696, 'name': 'Terry Notary', 'order': 70}, {'cast_id': 91, 'character': 'Soldier (uncredited)', 'credit_id': '52fe48019251416c750acb43', 'gender': 0, 'id': 1207287, 'name': 'Kai Pantano', 'order': 71}, {'cast_id': 92, 'character': 'Blast Technician (uncredited)', 'credit_id': '52fe48019251416c750acb47', 'gender': 0, 'id': 1207288, 'name': 'Logan Pithyou', 'order': 72}, {'cast_id': 93, 'character': 'Vindum Raah (uncredited)', 'credit_id': '52fe48019251416c750acb4b', 'gender': 0, 'id': 1207289, 'name': 'Stuart Pollock', 'order': 73}, {'cast_id': 94, 'character': 'Hero (uncredited)', 'credit_id': '52fe48019251416c750acb4f', 'gender': 0, 'id': 584868, 'name': 'Raja', 'order': 74}, {'cast_id': 95, 'character': 'Ops Centreworker (uncredited)', 'credit_id': '52fe48019251416c750acb53', 'gender': 0, 'id': 1207290, 'name': 'Gareth Ruck', 'order': 75}, {'cast_id': 96, 'character': 'Engineer (uncredited)', 'credit_id': '52fe48019251416c750acb57', 'gender': 0, 'id': 1062463, 'name': 'Rhian Sheehan', 'order': 76}, {'cast_id': 97, 'character': \"Col. Quaritch's Mech Suit (uncredited)\", 'credit_id': '52fe48019251416c750acb5b', 'gender': 0, 'id': 60656, 'name': 'T. J. Storm', 'order': 77}, {'cast_id': 98, 'character': 'Female Marine (uncredited)', 'credit_id': '52fe48019251416c750acb5f', 'gender': 0, 'id': 1207291, 'name': 'Jodie Taylor', 'order': 78}, {'cast_id': 99, 'character': 'Ikran Clan Leader (uncredited)', 'credit_id': '52fe48019251416c750acb63', 'gender': 1, 'id': 1186027, 'name': 'Alicia Vela-Bailey', 'order': 79}, {'cast_id': 100, 'character': 'Geologist (uncredited)', 'credit_id': '52fe48019251416c750acb67', 'gender': 0, 'id': 1207292, 'name': 'Richard Whiteside', 'order': 80}, {'cast_id': 101, 'character': \"Na'vi (uncredited)\", 'credit_id': '52fe48019251416c750acb6b', 'gender': 0, 'id': 103259, 'name': 'Nikie Zambo', 'order': 81}, {'cast_id': 102, 'character': 'Ambient Room Tech / Troupe', 'credit_id': '52fe48019251416c750acb6f', 'gender': 1, 'id': 42286, 'name': 'Julene Renee', 'order': 82}]\n",
      "----------------------------------------------------------------------------------------------------\n",
      "crew\n",
      "[{'credit_id': '52fe48009251416c750aca23', 'department': 'Editing', 'gender': 0, 'id': 1721, 'job': 'Editor', 'name': 'Stephen E. Rivkin'}, {'credit_id': '539c47ecc3a36810e3001f87', 'department': 'Art', 'gender': 2, 'id': 496, 'job': 'Production Design', 'name': 'Rick Carter'}, {'credit_id': '54491c89c3a3680fb4001cf7', 'department': 'Sound', 'gender': 0, 'id': 900, 'job': 'Sound Designer', 'name': 'Christopher Boyes'}, {'credit_id': '54491cb70e0a267480001bd0', 'department': 'Sound', 'gender': 0, 'id': 900, 'job': 'Supervising Sound Editor', 'name': 'Christopher Boyes'}, {'credit_id': '539c4a4cc3a36810c9002101', 'department': 'Production', 'gender': 1, 'id': 1262, 'job': 'Casting', 'name': 'Mali Finn'}, {'credit_id': '5544ee3b925141499f0008fc', 'department': 'Sound', 'gender': 2, 'id': 1729, 'job': 'Original Music Composer', 'name': 'James Horner'}, {'credit_id': '52fe48009251416c750ac9c3', 'department': 'Directing', 'gender': 2, 'id': 2710, 'job': 'Director', 'name': 'James Cameron'}, {'credit_id': '52fe48009251416c750ac9d9', 'department': 'Writing', 'gender': 2, 'id': 2710, 'job': 'Writer', 'name': 'James Cameron'}, {'credit_id': '52fe48009251416c750aca17', 'department': 'Editing', 'gender': 2, 'id': 2710, 'job': 'Editor', 'name': 'James Cameron'}, {'credit_id': '52fe48009251416c750aca29', 'department': 'Production', 'gender': 2, 'id': 2710, 'job': 'Producer', 'name': 'James Cameron'}, {'credit_id': '52fe48009251416c750aca3f', 'department': 'Writing', 'gender': 2, 'id': 2710, 'job': 'Screenplay', 'name': 'James Cameron'}, {'credit_id': '539c4987c3a36810ba0021a4', 'department': 'Art', 'gender': 2, 'id': 7236, 'job': 'Art Direction', 'name': 'Andrew Menzies'}, {'credit_id': '549598c3c3a3686ae9004383', 'department': 'Visual Effects', 'gender': 0, 'id': 6690, 'job': 'Visual Effects Producer', 'name': 'Jill Brooks'}, {'credit_id': '52fe48009251416c750aca4b', 'department': 'Production', 'gender': 1, 'id': 6347, 'job': 'Casting', 'name': 'Margery Simkin'}, {'credit_id': '570b6f419251417da70032fe', 'department': 'Art', 'gender': 2, 'id': 6878, 'job': 'Supervising Art Director', 'name': 'Kevin Ishioka'}, {'credit_id': '5495a0fac3a3686ae9004468', 'department': 'Sound', 'gender': 0, 'id': 6883, 'job': 'Music Editor', 'name': 'Dick Bernstein'}, {'credit_id': '54959706c3a3686af3003e81', 'department': 'Sound', 'gender': 0, 'id': 8159, 'job': 'Sound Effects Editor', 'name': 'Shannon Mills'}, {'credit_id': '54491d58c3a3680fb1001ccb', 'department': 'Sound', 'gender': 0, 'id': 8160, 'job': 'Foley', 'name': 'Dennie Thorpe'}, {'credit_id': '54491d6cc3a3680fa5001b2c', 'department': 'Sound', 'gender': 0, 'id': 8163, 'job': 'Foley', 'name': 'Jana Vance'}, {'credit_id': '52fe48009251416c750aca57', 'department': 'Costume & Make-Up', 'gender': 1, 'id': 8527, 'job': 'Costume Design', 'name': 'Deborah Lynn Scott'}, {'credit_id': '52fe48009251416c750aca2f', 'department': 'Production', 'gender': 2, 'id': 8529, 'job': 'Producer', 'name': 'Jon Landau'}, {'credit_id': '539c4937c3a36810ba002194', 'department': 'Art', 'gender': 0, 'id': 9618, 'job': 'Art Direction', 'name': 'Sean Haworth'}, {'credit_id': '539c49b6c3a36810c10020e6', 'department': 'Art', 'gender': 1, 'id': 12653, 'job': 'Set Decoration', 'name': 'Kim Sinclair'}, {'credit_id': '570b6f2f9251413a0e00020d', 'department': 'Art', 'gender': 1, 'id': 12653, 'job': 'Supervising Art Director', 'name': 'Kim Sinclair'}, {'credit_id': '54491a6c0e0a26748c001b19', 'department': 'Art', 'gender': 2, 'id': 14350, 'job': 'Set Designer', 'name': 'Richard F. Mays'}, {'credit_id': '56928cf4c3a3684cff0025c4', 'department': 'Production', 'gender': 1, 'id': 20294, 'job': 'Executive Producer', 'name': 'Laeta Kalogridis'}, {'credit_id': '52fe48009251416c750aca51', 'department': 'Costume & Make-Up', 'gender': 0, 'id': 17675, 'job': 'Costume Design', 'name': 'Mayes C. Rubeo'}, {'credit_id': '52fe48009251416c750aca11', 'department': 'Camera', 'gender': 2, 'id': 18265, 'job': 'Director of Photography', 'name': 'Mauro Fiore'}, {'credit_id': '5449194d0e0a26748f001b39', 'department': 'Art', 'gender': 0, 'id': 42281, 'job': 'Set Designer', 'name': 'Scott Herbertson'}, {'credit_id': '52fe48009251416c750aca05', 'department': 'Crew', 'gender': 0, 'id': 42288, 'job': 'Stunts', 'name': 'Woody Schultz'}, {'credit_id': '5592aefb92514152de0010f5', 'department': 'Costume & Make-Up', 'gender': 0, 'id': 29067, 'job': 'Makeup Artist', 'name': 'Linda DeVetta'}, {'credit_id': '5592afa492514152de00112c', 'department': 'Costume & Make-Up', 'gender': 0, 'id': 29067, 'job': 'Hairstylist', 'name': 'Linda DeVetta'}, {'credit_id': '54959ed592514130fc002e5d', 'department': 'Camera', 'gender': 2, 'id': 33302, 'job': 'Camera Operator', 'name': 'Richard Bluck'}, {'credit_id': '539c4891c3a36810ba002147', 'department': 'Art', 'gender': 2, 'id': 33303, 'job': 'Art Direction', 'name': 'Simon Bright'}, {'credit_id': '54959c069251417a81001f3a', 'department': 'Visual Effects', 'gender': 0, 'id': 113145, 'job': 'Visual Effects Supervisor', 'name': 'Richard Martin'}, {'credit_id': '54959a0dc3a3680ff5002c8d', 'department': 'Crew', 'gender': 2, 'id': 58188, 'job': 'Visual Effects Editor', 'name': 'Steve R. Moore'}, {'credit_id': '52fe48009251416c750aca1d', 'department': 'Editing', 'gender': 2, 'id': 58871, 'job': 'Editor', 'name': 'John Refoua'}, {'credit_id': '54491a4dc3a3680fc30018ca', 'department': 'Art', 'gender': 0, 'id': 92359, 'job': 'Set Designer', 'name': 'Karl J. Martin'}, {'credit_id': '52fe48009251416c750aca35', 'department': 'Camera', 'gender': 1, 'id': 72201, 'job': 'Director of Photography', 'name': 'Chiling Lin'}, {'credit_id': '52fe48009251416c750ac9ff', 'department': 'Crew', 'gender': 0, 'id': 89714, 'job': 'Stunts', 'name': 'Ilram Choi'}, {'credit_id': '54959c529251416e2b004394', 'department': 'Visual Effects', 'gender': 2, 'id': 93214, 'job': 'Visual Effects Supervisor', 'name': 'Steven Quale'}, {'credit_id': '54491edf0e0a267489001c37', 'department': 'Crew', 'gender': 1, 'id': 122607, 'job': 'Dialect Coach', 'name': 'Carla Meyer'}, {'credit_id': '539c485bc3a368653d001a3a', 'department': 'Art', 'gender': 2, 'id': 132585, 'job': 'Art Direction', 'name': 'Nick Bassett'}, {'credit_id': '539c4903c3a368653d001a74', 'department': 'Art', 'gender': 0, 'id': 132596, 'job': 'Art Direction', 'name': 'Jill Cormack'}, {'credit_id': '539c4967c3a368653d001a94', 'department': 'Art', 'gender': 0, 'id': 132604, 'job': 'Art Direction', 'name': 'Andy McLaren'}, {'credit_id': '52fe48009251416c750aca45', 'department': 'Crew', 'gender': 0, 'id': 236696, 'job': 'Motion Capture Artist', 'name': 'Terry Notary'}, {'credit_id': '54959e02c3a3680fc60027d2', 'department': 'Crew', 'gender': 2, 'id': 956198, 'job': 'Stunt Coordinator', 'name': 'Garrett Warren'}, {'credit_id': '54959ca3c3a3686ae300438c', 'department': 'Visual Effects', 'gender': 2, 'id': 957874, 'job': 'Visual Effects Supervisor', 'name': 'Jonathan Rothbart'}, {'credit_id': '570b6f519251412c74001b2f', 'department': 'Art', 'gender': 0, 'id': 957889, 'job': 'Supervising Art Director', 'name': 'Stefan Dechant'}, {'credit_id': '570b6f62c3a3680b77007460', 'department': 'Art', 'gender': 2, 'id': 959555, 'job': 'Supervising Art Director', 'name': 'Todd Cherniawsky'}, {'credit_id': '539c4a3ac3a36810da0021cc', 'department': 'Production', 'gender': 0, 'id': 1016177, 'job': 'Casting', 'name': 'Miranda Rivers'}, {'credit_id': '539c482cc3a36810c1002062', 'department': 'Art', 'gender': 0, 'id': 1032536, 'job': 'Production Design', 'name': 'Robert Stromberg'}, {'credit_id': '539c4b65c3a36810c9002125', 'department': 'Costume & Make-Up', 'gender': 2, 'id': 1071680, 'job': 'Costume Design', 'name': 'John Harding'}, {'credit_id': '54959e6692514130fc002e4e', 'department': 'Camera', 'gender': 0, 'id': 1177364, 'job': 'Steadicam Operator', 'name': 'Roberto De Angelis'}, {'credit_id': '539c49f1c3a368653d001aac', 'department': 'Costume & Make-Up', 'gender': 2, 'id': 1202850, 'job': 'Makeup Department Head', 'name': 'Mike Smithson'}, {'credit_id': '5495999ec3a3686ae100460c', 'department': 'Visual Effects', 'gender': 0, 'id': 1204668, 'job': 'Visual Effects Producer', 'name': 'Alain Lalanne'}, {'credit_id': '54959cdfc3a3681153002729', 'department': 'Visual Effects', 'gender': 0, 'id': 1206410, 'job': 'Visual Effects Supervisor', 'name': 'Lucas Salton'}, {'credit_id': '549596239251417a81001eae', 'department': 'Crew', 'gender': 0, 'id': 1234266, 'job': 'Post Production Supervisor', 'name': 'Janace Tashjian'}, {'credit_id': '54959c859251416e1e003efe', 'department': 'Visual Effects', 'gender': 0, 'id': 1271932, 'job': 'Visual Effects Supervisor', 'name': 'Stephen Rosenbaum'}, {'credit_id': '5592af28c3a368775a00105f', 'department': 'Costume & Make-Up', 'gender': 0, 'id': 1310064, 'job': 'Makeup Artist', 'name': 'Frankie Karena'}, {'credit_id': '539c4adfc3a36810e300203b', 'department': 'Costume & Make-Up', 'gender': 1, 'id': 1319844, 'job': 'Costume Supervisor', 'name': 'Lisa Lovaas'}, {'credit_id': '54959b579251416e2b004371', 'department': 'Visual Effects', 'gender': 0, 'id': 1327028, 'job': 'Visual Effects Supervisor', 'name': 'Jonathan Fawkner'}, {'credit_id': '539c48a7c3a36810b5001fa7', 'department': 'Art', 'gender': 0, 'id': 1330561, 'job': 'Art Direction', 'name': 'Robert Bavin'}, {'credit_id': '539c4a71c3a36810da0021e0', 'department': 'Costume & Make-Up', 'gender': 0, 'id': 1330567, 'job': 'Costume Supervisor', 'name': 'Anthony Almaraz'}, {'credit_id': '539c4a8ac3a36810ba0021e4', 'department': 'Costume & Make-Up', 'gender': 0, 'id': 1330570, 'job': 'Costume Supervisor', 'name': 'Carolyn M. Fenton'}, {'credit_id': '539c4ab6c3a36810da0021f0', 'department': 'Costume & Make-Up', 'gender': 0, 'id': 1330574, 'job': 'Costume Supervisor', 'name': 'Beth Koenigsberg'}, {'credit_id': '54491ab70e0a267480001ba2', 'department': 'Art', 'gender': 0, 'id': 1336191, 'job': 'Set Designer', 'name': 'Sam Page'}, {'credit_id': '544919d9c3a3680fc30018bd', 'department': 'Art', 'gender': 0, 'id': 1339441, 'job': 'Set Designer', 'name': 'Tex Kadonaga'}, {'credit_id': '54491cf50e0a267483001b0c', 'department': 'Editing', 'gender': 0, 'id': 1352422, 'job': 'Dialogue Editor', 'name': 'Kim Foscato'}, {'credit_id': '544919f40e0a26748c001b09', 'department': 'Art', 'gender': 0, 'id': 1352962, 'job': 'Set Designer', 'name': 'Tammy S. Lee'}, {'credit_id': '5495a115c3a3680ff5002d71', 'department': 'Crew', 'gender': 0, 'id': 1357070, 'job': 'Transportation Coordinator', 'name': 'Denny Caira'}, {'credit_id': '5495a12f92514130fc002e94', 'department': 'Crew', 'gender': 0, 'id': 1357071, 'job': 'Transportation Coordinator', 'name': 'James Waitkus'}, {'credit_id': '5495976fc3a36811530026b0', 'department': 'Sound', 'gender': 0, 'id': 1360103, 'job': 'Supervising Sound Editor', 'name': 'Addison Teague'}, {'credit_id': '54491837c3a3680fb1001c5a', 'department': 'Art', 'gender': 2, 'id': 1376887, 'job': 'Set Designer', 'name': 'C. Scott Baker'}, {'credit_id': '54491878c3a3680fb4001c9d', 'department': 'Art', 'gender': 0, 'id': 1376888, 'job': 'Set Designer', 'name': 'Luke Caska'}, {'credit_id': '544918dac3a3680fa5001ae0', 'department': 'Art', 'gender': 0, 'id': 1376889, 'job': 'Set Designer', 'name': 'David Chow'}, {'credit_id': '544919110e0a267486001b68', 'department': 'Art', 'gender': 0, 'id': 1376890, 'job': 'Set Designer', 'name': 'Jonathan Dyer'}, {'credit_id': '54491967c3a3680faa001b5e', 'department': 'Art', 'gender': 0, 'id': 1376891, 'job': 'Set Designer', 'name': 'Joseph Hiura'}, {'credit_id': '54491997c3a3680fb1001c8a', 'department': 'Art', 'gender': 0, 'id': 1376892, 'job': 'Art Department Coordinator', 'name': 'Rebecca Jellie'}, {'credit_id': '544919ba0e0a26748f001b42', 'department': 'Art', 'gender': 0, 'id': 1376893, 'job': 'Set Designer', 'name': 'Robert Andrew Johnson'}, {'credit_id': '54491b1dc3a3680faa001b8c', 'department': 'Art', 'gender': 0, 'id': 1376895, 'job': 'Assistant Art Director', 'name': 'Mike Stassi'}, {'credit_id': '54491b79c3a3680fbb001826', 'department': 'Art', 'gender': 0, 'id': 1376897, 'job': 'Construction Coordinator', 'name': 'John Villarino'}, {'credit_id': '54491baec3a3680fb4001ce6', 'department': 'Art', 'gender': 2, 'id': 1376898, 'job': 'Assistant Art Director', 'name': 'Jeffrey Wisniewski'}, {'credit_id': '54491d2fc3a3680fb4001d07', 'department': 'Editing', 'gender': 0, 'id': 1376899, 'job': 'Dialogue Editor', 'name': 'Cheryl Nardi'}, {'credit_id': '54491d86c3a3680fa5001b2f', 'department': 'Editing', 'gender': 0, 'id': 1376901, 'job': 'Dialogue Editor', 'name': 'Marshall Winn'}, {'credit_id': '54491d9dc3a3680faa001bb0', 'department': 'Sound', 'gender': 0, 'id': 1376902, 'job': 'Supervising Sound Editor', 'name': 'Gwendolyn Yates Whittle'}, {'credit_id': '54491dc10e0a267486001bce', 'department': 'Sound', 'gender': 0, 'id': 1376903, 'job': 'Sound Re-Recording Mixer', 'name': 'William Stein'}, {'credit_id': '54491f500e0a26747c001c07', 'department': 'Crew', 'gender': 0, 'id': 1376909, 'job': 'Choreographer', 'name': 'Lula Washington'}, {'credit_id': '549599239251412c4e002a2e', 'department': 'Visual Effects', 'gender': 0, 'id': 1391692, 'job': 'Visual Effects Producer', 'name': 'Chris Del Conte'}, {'credit_id': '54959d54c3a36831b8001d9a', 'department': 'Visual Effects', 'gender': 2, 'id': 1391695, 'job': 'Visual Effects Supervisor', 'name': 'R. Christopher White'}, {'credit_id': '54959bdf9251412c4e002a66', 'department': 'Visual Effects', 'gender': 0, 'id': 1394070, 'job': 'Visual Effects Supervisor', 'name': 'Dan Lemmon'}, {'credit_id': '5495971d92514132ed002922', 'department': 'Sound', 'gender': 0, 'id': 1394129, 'job': 'Sound Effects Editor', 'name': 'Tim Nielsen'}, {'credit_id': '5592b25792514152cc0011aa', 'department': 'Crew', 'gender': 0, 'id': 1394286, 'job': 'CG Supervisor', 'name': 'Michael Mulholland'}, {'credit_id': '54959a329251416e2b004355', 'department': 'Crew', 'gender': 0, 'id': 1394750, 'job': 'Visual Effects Editor', 'name': 'Thomas Nittmann'}, {'credit_id': '54959d6dc3a3686ae9004401', 'department': 'Visual Effects', 'gender': 0, 'id': 1394755, 'job': 'Visual Effects Supervisor', 'name': 'Edson Williams'}, {'credit_id': '5495a08fc3a3686ae300441c', 'department': 'Editing', 'gender': 0, 'id': 1394953, 'job': 'Digital Intermediate', 'name': 'Christine Carr'}, {'credit_id': '55402d659251413d6d000249', 'department': 'Visual Effects', 'gender': 0, 'id': 1395269, 'job': 'Visual Effects Supervisor', 'name': 'John Bruno'}, {'credit_id': '54959e7b9251416e1e003f3e', 'department': 'Camera', 'gender': 0, 'id': 1398970, 'job': 'Steadicam Operator', 'name': 'David Emmerichs'}, {'credit_id': '54959734c3a3686ae10045e0', 'department': 'Sound', 'gender': 0, 'id': 1400906, 'job': 'Sound Effects Editor', 'name': 'Christopher Scarabosio'}, {'credit_id': '549595dd92514130fc002d79', 'department': 'Production', 'gender': 0, 'id': 1401784, 'job': 'Production Supervisor', 'name': 'Jennifer Teves'}, {'credit_id': '549596009251413af70028cc', 'department': 'Production', 'gender': 0, 'id': 1401785, 'job': 'Production Manager', 'name': 'Brigitte Yorke'}, {'credit_id': '549596e892514130fc002d99', 'department': 'Sound', 'gender': 0, 'id': 1401786, 'job': 'Sound Effects Editor', 'name': 'Ken Fischer'}, {'credit_id': '549598229251412c4e002a1c', 'department': 'Crew', 'gender': 0, 'id': 1401787, 'job': 'Special Effects Coordinator', 'name': 'Iain Hutton'}, {'credit_id': '549598349251416e2b00432b', 'department': 'Crew', 'gender': 0, 'id': 1401788, 'job': 'Special Effects Coordinator', 'name': 'Steve Ingram'}, {'credit_id': '54959905c3a3686ae3004324', 'department': 'Visual Effects', 'gender': 0, 'id': 1401789, 'job': 'Visual Effects Producer', 'name': 'Joyce Cox'}, {'credit_id': '5495994b92514132ed002951', 'department': 'Visual Effects', 'gender': 0, 'id': 1401790, 'job': 'Visual Effects Producer', 'name': 'Jenny Foster'}, {'credit_id': '549599cbc3a3686ae1004613', 'department': 'Crew', 'gender': 0, 'id': 1401791, 'job': 'Visual Effects Editor', 'name': 'Christopher Marino'}, {'credit_id': '549599f2c3a3686ae100461e', 'department': 'Crew', 'gender': 0, 'id': 1401792, 'job': 'Visual Effects Editor', 'name': 'Jim Milton'}, {'credit_id': '54959a51c3a3686af3003eb5', 'department': 'Visual Effects', 'gender': 0, 'id': 1401793, 'job': 'Visual Effects Producer', 'name': 'Cyndi Ochs'}, {'credit_id': '54959a7cc3a36811530026f4', 'department': 'Crew', 'gender': 0, 'id': 1401794, 'job': 'Visual Effects Editor', 'name': 'Lucas Putnam'}, {'credit_id': '54959b91c3a3680ff5002cb4', 'department': 'Visual Effects', 'gender': 0, 'id': 1401795, 'job': 'Visual Effects Supervisor', 'name': \"Anthony 'Max' Ivins\"}, {'credit_id': '54959bb69251412c4e002a5f', 'department': 'Visual Effects', 'gender': 0, 'id': 1401796, 'job': 'Visual Effects Supervisor', 'name': 'John Knoll'}, {'credit_id': '54959cbbc3a3686ae3004391', 'department': 'Visual Effects', 'gender': 2, 'id': 1401799, 'job': 'Visual Effects Supervisor', 'name': 'Eric Saindon'}, {'credit_id': '54959d06c3a3686ae90043f6', 'department': 'Visual Effects', 'gender': 0, 'id': 1401800, 'job': 'Visual Effects Supervisor', 'name': 'Wayne Stables'}, {'credit_id': '54959d259251416e1e003f11', 'department': 'Visual Effects', 'gender': 0, 'id': 1401801, 'job': 'Visual Effects Supervisor', 'name': 'David Stinnett'}, {'credit_id': '54959db49251413af7002975', 'department': 'Visual Effects', 'gender': 0, 'id': 1401803, 'job': 'Visual Effects Supervisor', 'name': 'Guy Williams'}, {'credit_id': '54959de4c3a3681153002750', 'department': 'Crew', 'gender': 0, 'id': 1401804, 'job': 'Stunt Coordinator', 'name': 'Stuart Thorp'}, {'credit_id': '54959ef2c3a3680fc60027f2', 'department': 'Lighting', 'gender': 0, 'id': 1401805, 'job': 'Best Boy Electric', 'name': 'Giles Coburn'}, {'credit_id': '54959f07c3a3680fc60027f9', 'department': 'Camera', 'gender': 2, 'id': 1401806, 'job': 'Still Photographer', 'name': 'Mark Fellman'}, {'credit_id': '54959f47c3a3681153002774', 'department': 'Lighting', 'gender': 0, 'id': 1401807, 'job': 'Lighting Technician', 'name': 'Scott Sprague'}, {'credit_id': '54959f8cc3a36831b8001df2', 'department': 'Visual Effects', 'gender': 0, 'id': 1401808, 'job': 'Animation Director', 'name': 'Jeremy Hollobon'}, {'credit_id': '54959fa0c3a36831b8001dfb', 'department': 'Visual Effects', 'gender': 0, 'id': 1401809, 'job': 'Animation Director', 'name': 'Orlando Meunier'}, {'credit_id': '54959fb6c3a3686af3003f54', 'department': 'Visual Effects', 'gender': 0, 'id': 1401810, 'job': 'Animation Director', 'name': 'Taisuke Tanimura'}, {'credit_id': '54959fd2c3a36831b8001e02', 'department': 'Costume & Make-Up', 'gender': 0, 'id': 1401812, 'job': 'Set Costumer', 'name': 'Lilia Mishel Acevedo'}, {'credit_id': '54959ff9c3a3686ae300440c', 'department': 'Costume & Make-Up', 'gender': 0, 'id': 1401814, 'job': 'Set Costumer', 'name': 'Alejandro M. Hernandez'}, {'credit_id': '5495a0ddc3a3686ae10046fe', 'department': 'Editing', 'gender': 0, 'id': 1401815, 'job': 'Digital Intermediate', 'name': 'Marvin Hall'}, {'credit_id': '5495a1f7c3a3686ae3004443', 'department': 'Production', 'gender': 0, 'id': 1401816, 'job': 'Publicist', 'name': 'Judy Alley'}, {'credit_id': '5592b29fc3a36869d100002f', 'department': 'Crew', 'gender': 0, 'id': 1418381, 'job': 'CG Supervisor', 'name': 'Mike Perry'}, {'credit_id': '5592b23a9251415df8001081', 'department': 'Crew', 'gender': 0, 'id': 1426854, 'job': 'CG Supervisor', 'name': 'Andrew Morley'}, {'credit_id': '55491e1192514104c40002d8', 'department': 'Art', 'gender': 0, 'id': 1438901, 'job': 'Conceptual Design', 'name': 'Seth Engstrom'}, {'credit_id': '5525d5809251417276002b06', 'department': 'Crew', 'gender': 0, 'id': 1447362, 'job': 'Visual Effects Art Director', 'name': 'Eric Oliver'}, {'credit_id': '554427ca925141586500312a', 'department': 'Visual Effects', 'gender': 0, 'id': 1447503, 'job': 'Modeling', 'name': 'Matsune Suzuki'}, {'credit_id': '551906889251415aab001c88', 'department': 'Art', 'gender': 0, 'id': 1447524, 'job': 'Art Department Manager', 'name': 'Paul Tobin'}, {'credit_id': '5592af8492514152cc0010de', 'department': 'Costume & Make-Up', 'gender': 0, 'id': 1452643, 'job': 'Hairstylist', 'name': 'Roxane Griffin'}, {'credit_id': '553d3c109251415852001318', 'department': 'Lighting', 'gender': 0, 'id': 1453938, 'job': 'Lighting Artist', 'name': 'Arun Ram-Mohan'}, {'credit_id': '5592af4692514152d5001355', 'department': 'Costume & Make-Up', 'gender': 0, 'id': 1457305, 'job': 'Makeup Artist', 'name': 'Georgia Lockhart-Adams'}, {'credit_id': '5592b2eac3a36877470012a5', 'department': 'Crew', 'gender': 0, 'id': 1466035, 'job': 'CG Supervisor', 'name': 'Thrain Shadbolt'}, {'credit_id': '5592b032c3a36877450015f1', 'department': 'Crew', 'gender': 0, 'id': 1483220, 'job': 'CG Supervisor', 'name': 'Brad Alexander'}, {'credit_id': '5592b05592514152d80012f6', 'department': 'Crew', 'gender': 0, 'id': 1483221, 'job': 'CG Supervisor', 'name': 'Shadi Almassizadeh'}, {'credit_id': '5592b090c3a36877570010b5', 'department': 'Crew', 'gender': 0, 'id': 1483222, 'job': 'CG Supervisor', 'name': 'Simon Clutterbuck'}, {'credit_id': '5592b0dbc3a368774b00112c', 'department': 'Crew', 'gender': 0, 'id': 1483223, 'job': 'CG Supervisor', 'name': 'Graeme Demmocks'}, {'credit_id': '5592b0fe92514152db0010c1', 'department': 'Crew', 'gender': 0, 'id': 1483224, 'job': 'CG Supervisor', 'name': 'Adrian Fernandes'}, {'credit_id': '5592b11f9251415df8001059', 'department': 'Crew', 'gender': 0, 'id': 1483225, 'job': 'CG Supervisor', 'name': 'Mitch Gates'}, {'credit_id': '5592b15dc3a3687745001645', 'department': 'Crew', 'gender': 0, 'id': 1483226, 'job': 'CG Supervisor', 'name': 'Jerry Kung'}, {'credit_id': '5592b18e925141645a0004ae', 'department': 'Crew', 'gender': 0, 'id': 1483227, 'job': 'CG Supervisor', 'name': 'Andy Lomas'}, {'credit_id': '5592b1bfc3a368775d0010e7', 'department': 'Crew', 'gender': 0, 'id': 1483228, 'job': 'CG Supervisor', 'name': 'Sebastian Marino'}, {'credit_id': '5592b2049251415df8001078', 'department': 'Crew', 'gender': 0, 'id': 1483229, 'job': 'CG Supervisor', 'name': 'Matthias Menz'}, {'credit_id': '5592b27b92514152d800136a', 'department': 'Crew', 'gender': 0, 'id': 1483230, 'job': 'CG Supervisor', 'name': 'Sergei Nevshupov'}, {'credit_id': '5592b2c3c3a36869e800003c', 'department': 'Crew', 'gender': 0, 'id': 1483231, 'job': 'CG Supervisor', 'name': 'Philippe Rebours'}, {'credit_id': '5592b317c3a36877470012af', 'department': 'Crew', 'gender': 0, 'id': 1483232, 'job': 'CG Supervisor', 'name': 'Michael Takarangi'}, {'credit_id': '5592b345c3a36877470012bb', 'department': 'Crew', 'gender': 0, 'id': 1483233, 'job': 'CG Supervisor', 'name': 'David Weitzberg'}, {'credit_id': '5592b37cc3a368775100113b', 'department': 'Crew', 'gender': 0, 'id': 1483234, 'job': 'CG Supervisor', 'name': 'Ben White'}, {'credit_id': '573c8e2f9251413f5d000094', 'department': 'Crew', 'gender': 1, 'id': 1621932, 'job': 'Stunts', 'name': 'Min Windle'}]\n",
      "----------------------------------------------------------------------------------------------------\n",
      "budget\n",
      "237000000\n",
      "----------------------------------------------------------------------------------------------------\n",
      "genres\n",
      "[{'id': 28, 'name': 'Action'}, {'id': 12, 'name': 'Adventure'}, {'id': 14, 'name': 'Fantasy'}, {'id': 878, 'name': 'Science Fiction'}]\n",
      "----------------------------------------------------------------------------------------------------\n",
      "homepage\n",
      "http://www.avatarmovie.com/\n",
      "----------------------------------------------------------------------------------------------------\n",
      "keywords\n",
      "[{'id': 1463, 'name': 'culture clash'}, {'id': 2964, 'name': 'future'}, {'id': 3386, 'name': 'space war'}, {'id': 3388, 'name': 'space colony'}, {'id': 3679, 'name': 'society'}, {'id': 3801, 'name': 'space travel'}, {'id': 9685, 'name': 'futuristic'}, {'id': 9840, 'name': 'romance'}, {'id': 9882, 'name': 'space'}, {'id': 9951, 'name': 'alien'}, {'id': 10148, 'name': 'tribe'}, {'id': 10158, 'name': 'alien planet'}, {'id': 10987, 'name': 'cgi'}, {'id': 11399, 'name': 'marine'}, {'id': 13065, 'name': 'soldier'}, {'id': 14643, 'name': 'battle'}, {'id': 14720, 'name': 'love affair'}, {'id': 165431, 'name': 'anti war'}, {'id': 193554, 'name': 'power relations'}, {'id': 206690, 'name': 'mind and soul'}, {'id': 209714, 'name': '3d'}]\n",
      "----------------------------------------------------------------------------------------------------\n",
      "original_language\n",
      "en\n",
      "----------------------------------------------------------------------------------------------------\n",
      "original_title\n",
      "Avatar\n",
      "----------------------------------------------------------------------------------------------------\n",
      "overview\n",
      "In the 22nd century, a paraplegic Marine is dispatched to the moon Pandora on a unique mission, but becomes torn between following orders and protecting an alien civilization.\n",
      "----------------------------------------------------------------------------------------------------\n",
      "popularity\n",
      "150.437577\n",
      "----------------------------------------------------------------------------------------------------\n",
      "production_companies\n",
      "[{'name': 'Ingenious Film Partners', 'id': 289}, {'name': 'Twentieth Century Fox Film Corporation', 'id': 306}, {'name': 'Dune Entertainment', 'id': 444}, {'name': 'Lightstorm Entertainment', 'id': 574}]\n",
      "----------------------------------------------------------------------------------------------------\n",
      "production_countries\n",
      "[{'iso_3166_1': 'US', 'name': 'United States of America'}, {'iso_3166_1': 'GB', 'name': 'United Kingdom'}]\n",
      "----------------------------------------------------------------------------------------------------\n",
      "release_date\n",
      "2009-12-10 00:00:00\n",
      "----------------------------------------------------------------------------------------------------\n",
      "revenue\n",
      "2787965087\n",
      "----------------------------------------------------------------------------------------------------\n",
      "runtime\n",
      "162.0\n",
      "----------------------------------------------------------------------------------------------------\n",
      "spoken_languages\n",
      "[{'iso_639_1': 'en', 'name': 'English'}, {'iso_639_1': 'es', 'name': 'Español'}]\n",
      "----------------------------------------------------------------------------------------------------\n",
      "status\n",
      "Released\n",
      "----------------------------------------------------------------------------------------------------\n",
      "tagline\n",
      "Enter the World of Pandora.\n",
      "----------------------------------------------------------------------------------------------------\n",
      "title_y\n",
      "Avatar\n",
      "----------------------------------------------------------------------------------------------------\n",
      "vote_average\n",
      "7.2\n",
      "----------------------------------------------------------------------------------------------------\n",
      "vote_count\n",
      "11800\n",
      "----------------------------------------------------------------------------------------------------\n"
     ]
    }
   ],
   "source": [
    "for col in df.columns:\n",
    "    print(col)\n",
    "    print(df[col].iloc[0])\n",
    "    print('-'*100)"
   ]
  },
  {
   "cell_type": "markdown",
   "metadata": {},
   "source": []
  },
  {
   "cell_type": "code",
   "execution_count": 104,
   "metadata": {
    "ExecuteTime": {
     "end_time": "2018-10-25T17:05:02.740782Z",
     "start_time": "2018-10-25T17:05:02.487287Z"
    }
   },
   "outputs": [
    {
     "data": {
      "text/html": [
       "<div>\n",
       "<style scoped>\n",
       "    .dataframe tbody tr th:only-of-type {\n",
       "        vertical-align: middle;\n",
       "    }\n",
       "\n",
       "    .dataframe tbody tr th {\n",
       "        vertical-align: top;\n",
       "    }\n",
       "\n",
       "    .dataframe thead th {\n",
       "        text-align: right;\n",
       "    }\n",
       "</style>\n",
       "<table border=\"1\" class=\"dataframe\">\n",
       "  <thead>\n",
       "    <tr style=\"text-align: right;\">\n",
       "      <th></th>\n",
       "      <th>id</th>\n",
       "      <th>title_x</th>\n",
       "      <th>cast</th>\n",
       "      <th>crew</th>\n",
       "      <th>budget</th>\n",
       "      <th>genres</th>\n",
       "      <th>homepage</th>\n",
       "      <th>keywords</th>\n",
       "      <th>original_language</th>\n",
       "      <th>original_title</th>\n",
       "      <th>...</th>\n",
       "      <th>production_countries</th>\n",
       "      <th>release_date</th>\n",
       "      <th>revenue</th>\n",
       "      <th>runtime</th>\n",
       "      <th>spoken_languages</th>\n",
       "      <th>status</th>\n",
       "      <th>tagline</th>\n",
       "      <th>title_y</th>\n",
       "      <th>vote_average</th>\n",
       "      <th>vote_count</th>\n",
       "    </tr>\n",
       "  </thead>\n",
       "  <tbody>\n",
       "    <tr>\n",
       "      <th>0</th>\n",
       "      <td>19995</td>\n",
       "      <td>Avatar</td>\n",
       "      <td>[{'cast_id': 242, 'character': 'Jake Sully', '...</td>\n",
       "      <td>[{'credit_id': '52fe48009251416c750aca23', 'de...</td>\n",
       "      <td>237000000</td>\n",
       "      <td>[{'id': 28, 'name': 'Action'}, {'id': 12, 'nam...</td>\n",
       "      <td>http://www.avatarmovie.com/</td>\n",
       "      <td>[{'id': 1463, 'name': 'culture clash'}, {'id':...</td>\n",
       "      <td>en</td>\n",
       "      <td>Avatar</td>\n",
       "      <td>...</td>\n",
       "      <td>[{'iso_3166_1': 'US', 'name': 'United States o...</td>\n",
       "      <td>2009-12-10</td>\n",
       "      <td>2787965087</td>\n",
       "      <td>162.0</td>\n",
       "      <td>[{'iso_639_1': 'en', 'name': 'English'}, {'iso...</td>\n",
       "      <td>Released</td>\n",
       "      <td>Enter the World of Pandora.</td>\n",
       "      <td>Avatar</td>\n",
       "      <td>7.2</td>\n",
       "      <td>11800</td>\n",
       "    </tr>\n",
       "    <tr>\n",
       "      <th>1</th>\n",
       "      <td>285</td>\n",
       "      <td>Pirates of the Caribbean: At World's End</td>\n",
       "      <td>[{'cast_id': 4, 'character': 'Captain Jack Spa...</td>\n",
       "      <td>[{'credit_id': '52fe4232c3a36847f800b579', 'de...</td>\n",
       "      <td>300000000</td>\n",
       "      <td>[{'id': 12, 'name': 'Adventure'}, {'id': 14, '...</td>\n",
       "      <td>http://disney.go.com/disneypictures/pirates/</td>\n",
       "      <td>[{'id': 270, 'name': 'ocean'}, {'id': 726, 'na...</td>\n",
       "      <td>en</td>\n",
       "      <td>Pirates of the Caribbean: At World's End</td>\n",
       "      <td>...</td>\n",
       "      <td>[{'iso_3166_1': 'US', 'name': 'United States o...</td>\n",
       "      <td>2007-05-19</td>\n",
       "      <td>961000000</td>\n",
       "      <td>169.0</td>\n",
       "      <td>[{'iso_639_1': 'en', 'name': 'English'}]</td>\n",
       "      <td>Released</td>\n",
       "      <td>At the end of the world, the adventure begins.</td>\n",
       "      <td>Pirates of the Caribbean: At World's End</td>\n",
       "      <td>6.9</td>\n",
       "      <td>4500</td>\n",
       "    </tr>\n",
       "    <tr>\n",
       "      <th>2</th>\n",
       "      <td>206647</td>\n",
       "      <td>Spectre</td>\n",
       "      <td>[{'cast_id': 1, 'character': 'James Bond', 'cr...</td>\n",
       "      <td>[{'credit_id': '54805967c3a36829b5002c41', 'de...</td>\n",
       "      <td>245000000</td>\n",
       "      <td>[{'id': 28, 'name': 'Action'}, {'id': 12, 'nam...</td>\n",
       "      <td>http://www.sonypictures.com/movies/spectre/</td>\n",
       "      <td>[{'id': 470, 'name': 'spy'}, {'id': 818, 'name...</td>\n",
       "      <td>en</td>\n",
       "      <td>Spectre</td>\n",
       "      <td>...</td>\n",
       "      <td>[{'iso_3166_1': 'GB', 'name': 'United Kingdom'...</td>\n",
       "      <td>2015-10-26</td>\n",
       "      <td>880674609</td>\n",
       "      <td>148.0</td>\n",
       "      <td>[{'iso_639_1': 'fr', 'name': 'Français'}, {'is...</td>\n",
       "      <td>Released</td>\n",
       "      <td>A Plan No One Escapes</td>\n",
       "      <td>Spectre</td>\n",
       "      <td>6.3</td>\n",
       "      <td>4466</td>\n",
       "    </tr>\n",
       "    <tr>\n",
       "      <th>3</th>\n",
       "      <td>49026</td>\n",
       "      <td>The Dark Knight Rises</td>\n",
       "      <td>[{'cast_id': 2, 'character': 'Bruce Wayne / Ba...</td>\n",
       "      <td>[{'credit_id': '52fe4781c3a36847f81398c3', 'de...</td>\n",
       "      <td>250000000</td>\n",
       "      <td>[{'id': 28, 'name': 'Action'}, {'id': 80, 'nam...</td>\n",
       "      <td>http://www.thedarkknightrises.com/</td>\n",
       "      <td>[{'id': 849, 'name': 'dc comics'}, {'id': 853,...</td>\n",
       "      <td>en</td>\n",
       "      <td>The Dark Knight Rises</td>\n",
       "      <td>...</td>\n",
       "      <td>[{'iso_3166_1': 'US', 'name': 'United States o...</td>\n",
       "      <td>2012-07-16</td>\n",
       "      <td>1084939099</td>\n",
       "      <td>165.0</td>\n",
       "      <td>[{'iso_639_1': 'en', 'name': 'English'}]</td>\n",
       "      <td>Released</td>\n",
       "      <td>The Legend Ends</td>\n",
       "      <td>The Dark Knight Rises</td>\n",
       "      <td>7.6</td>\n",
       "      <td>9106</td>\n",
       "    </tr>\n",
       "    <tr>\n",
       "      <th>4</th>\n",
       "      <td>49529</td>\n",
       "      <td>John Carter</td>\n",
       "      <td>[{'cast_id': 5, 'character': 'John Carter', 'c...</td>\n",
       "      <td>[{'credit_id': '52fe479ac3a36847f813eaa3', 'de...</td>\n",
       "      <td>260000000</td>\n",
       "      <td>[{'id': 28, 'name': 'Action'}, {'id': 12, 'nam...</td>\n",
       "      <td>http://movies.disney.com/john-carter</td>\n",
       "      <td>[{'id': 818, 'name': 'based on novel'}, {'id':...</td>\n",
       "      <td>en</td>\n",
       "      <td>John Carter</td>\n",
       "      <td>...</td>\n",
       "      <td>[{'iso_3166_1': 'US', 'name': 'United States o...</td>\n",
       "      <td>2012-03-07</td>\n",
       "      <td>284139100</td>\n",
       "      <td>132.0</td>\n",
       "      <td>[{'iso_639_1': 'en', 'name': 'English'}]</td>\n",
       "      <td>Released</td>\n",
       "      <td>Lost in our world, found in another.</td>\n",
       "      <td>John Carter</td>\n",
       "      <td>6.1</td>\n",
       "      <td>2124</td>\n",
       "    </tr>\n",
       "  </tbody>\n",
       "</table>\n",
       "<p>5 rows × 23 columns</p>\n",
       "</div>"
      ],
      "text/plain": [
       "       id                                   title_x  \\\n",
       "0   19995                                    Avatar   \n",
       "1     285  Pirates of the Caribbean: At World's End   \n",
       "2  206647                                   Spectre   \n",
       "3   49026                     The Dark Knight Rises   \n",
       "4   49529                               John Carter   \n",
       "\n",
       "                                                cast  \\\n",
       "0  [{'cast_id': 242, 'character': 'Jake Sully', '...   \n",
       "1  [{'cast_id': 4, 'character': 'Captain Jack Spa...   \n",
       "2  [{'cast_id': 1, 'character': 'James Bond', 'cr...   \n",
       "3  [{'cast_id': 2, 'character': 'Bruce Wayne / Ba...   \n",
       "4  [{'cast_id': 5, 'character': 'John Carter', 'c...   \n",
       "\n",
       "                                                crew     budget  \\\n",
       "0  [{'credit_id': '52fe48009251416c750aca23', 'de...  237000000   \n",
       "1  [{'credit_id': '52fe4232c3a36847f800b579', 'de...  300000000   \n",
       "2  [{'credit_id': '54805967c3a36829b5002c41', 'de...  245000000   \n",
       "3  [{'credit_id': '52fe4781c3a36847f81398c3', 'de...  250000000   \n",
       "4  [{'credit_id': '52fe479ac3a36847f813eaa3', 'de...  260000000   \n",
       "\n",
       "                                              genres  \\\n",
       "0  [{'id': 28, 'name': 'Action'}, {'id': 12, 'nam...   \n",
       "1  [{'id': 12, 'name': 'Adventure'}, {'id': 14, '...   \n",
       "2  [{'id': 28, 'name': 'Action'}, {'id': 12, 'nam...   \n",
       "3  [{'id': 28, 'name': 'Action'}, {'id': 80, 'nam...   \n",
       "4  [{'id': 28, 'name': 'Action'}, {'id': 12, 'nam...   \n",
       "\n",
       "                                       homepage  \\\n",
       "0                   http://www.avatarmovie.com/   \n",
       "1  http://disney.go.com/disneypictures/pirates/   \n",
       "2   http://www.sonypictures.com/movies/spectre/   \n",
       "3            http://www.thedarkknightrises.com/   \n",
       "4          http://movies.disney.com/john-carter   \n",
       "\n",
       "                                            keywords original_language  \\\n",
       "0  [{'id': 1463, 'name': 'culture clash'}, {'id':...                en   \n",
       "1  [{'id': 270, 'name': 'ocean'}, {'id': 726, 'na...                en   \n",
       "2  [{'id': 470, 'name': 'spy'}, {'id': 818, 'name...                en   \n",
       "3  [{'id': 849, 'name': 'dc comics'}, {'id': 853,...                en   \n",
       "4  [{'id': 818, 'name': 'based on novel'}, {'id':...                en   \n",
       "\n",
       "                             original_title    ...      \\\n",
       "0                                    Avatar    ...       \n",
       "1  Pirates of the Caribbean: At World's End    ...       \n",
       "2                                   Spectre    ...       \n",
       "3                     The Dark Knight Rises    ...       \n",
       "4                               John Carter    ...       \n",
       "\n",
       "                                production_countries  release_date  \\\n",
       "0  [{'iso_3166_1': 'US', 'name': 'United States o...    2009-12-10   \n",
       "1  [{'iso_3166_1': 'US', 'name': 'United States o...    2007-05-19   \n",
       "2  [{'iso_3166_1': 'GB', 'name': 'United Kingdom'...    2015-10-26   \n",
       "3  [{'iso_3166_1': 'US', 'name': 'United States o...    2012-07-16   \n",
       "4  [{'iso_3166_1': 'US', 'name': 'United States o...    2012-03-07   \n",
       "\n",
       "      revenue runtime                                   spoken_languages  \\\n",
       "0  2787965087   162.0  [{'iso_639_1': 'en', 'name': 'English'}, {'iso...   \n",
       "1   961000000   169.0           [{'iso_639_1': 'en', 'name': 'English'}]   \n",
       "2   880674609   148.0  [{'iso_639_1': 'fr', 'name': 'Français'}, {'is...   \n",
       "3  1084939099   165.0           [{'iso_639_1': 'en', 'name': 'English'}]   \n",
       "4   284139100   132.0           [{'iso_639_1': 'en', 'name': 'English'}]   \n",
       "\n",
       "     status                                         tagline  \\\n",
       "0  Released                     Enter the World of Pandora.   \n",
       "1  Released  At the end of the world, the adventure begins.   \n",
       "2  Released                           A Plan No One Escapes   \n",
       "3  Released                                 The Legend Ends   \n",
       "4  Released            Lost in our world, found in another.   \n",
       "\n",
       "                                    title_y vote_average vote_count  \n",
       "0                                    Avatar          7.2      11800  \n",
       "1  Pirates of the Caribbean: At World's End          6.9       4500  \n",
       "2                                   Spectre          6.3       4466  \n",
       "3                     The Dark Knight Rises          7.6       9106  \n",
       "4                               John Carter          6.1       2124  \n",
       "\n",
       "[5 rows x 23 columns]"
      ]
     },
     "execution_count": 104,
     "metadata": {},
     "output_type": "execute_result"
    }
   ],
   "source": [
    "df.head()"
   ]
  },
  {
   "cell_type": "markdown",
   "metadata": {},
   "source": [
    "## Data engineering "
   ]
  },
  {
   "cell_type": "code",
   "execution_count": 105,
   "metadata": {
    "ExecuteTime": {
     "end_time": "2018-10-25T17:05:03.003302Z",
     "start_time": "2018-10-25T17:05:02.742461Z"
    }
   },
   "outputs": [
    {
     "data": {
      "text/html": [
       "<div>\n",
       "<style scoped>\n",
       "    .dataframe tbody tr th:only-of-type {\n",
       "        vertical-align: middle;\n",
       "    }\n",
       "\n",
       "    .dataframe tbody tr th {\n",
       "        vertical-align: top;\n",
       "    }\n",
       "\n",
       "    .dataframe thead th {\n",
       "        text-align: right;\n",
       "    }\n",
       "</style>\n",
       "<table border=\"1\" class=\"dataframe\">\n",
       "  <thead>\n",
       "    <tr style=\"text-align: right;\">\n",
       "      <th></th>\n",
       "      <th>id</th>\n",
       "      <th>title_x</th>\n",
       "      <th>cast</th>\n",
       "      <th>crew</th>\n",
       "      <th>budget</th>\n",
       "      <th>genres</th>\n",
       "      <th>homepage</th>\n",
       "      <th>keywords</th>\n",
       "      <th>original_language</th>\n",
       "      <th>original_title</th>\n",
       "      <th>...</th>\n",
       "      <th>production_countries</th>\n",
       "      <th>release_date</th>\n",
       "      <th>revenue</th>\n",
       "      <th>runtime</th>\n",
       "      <th>spoken_languages</th>\n",
       "      <th>status</th>\n",
       "      <th>tagline</th>\n",
       "      <th>title_y</th>\n",
       "      <th>vote_average</th>\n",
       "      <th>vote_count</th>\n",
       "    </tr>\n",
       "  </thead>\n",
       "  <tbody>\n",
       "    <tr>\n",
       "      <th>0</th>\n",
       "      <td>19995</td>\n",
       "      <td>Avatar</td>\n",
       "      <td>[{'cast_id': 242, 'character': 'Jake Sully', '...</td>\n",
       "      <td>[{'credit_id': '52fe48009251416c750aca23', 'de...</td>\n",
       "      <td>237000000</td>\n",
       "      <td>[{'id': 28, 'name': 'Action'}, {'id': 12, 'nam...</td>\n",
       "      <td>http://www.avatarmovie.com/</td>\n",
       "      <td>[{'id': 1463, 'name': 'culture clash'}, {'id':...</td>\n",
       "      <td>en</td>\n",
       "      <td>Avatar</td>\n",
       "      <td>...</td>\n",
       "      <td>[{'iso_3166_1': 'US', 'name': 'United States o...</td>\n",
       "      <td>2009-12-10</td>\n",
       "      <td>2787965087</td>\n",
       "      <td>162.0</td>\n",
       "      <td>[{'iso_639_1': 'en', 'name': 'English'}, {'iso...</td>\n",
       "      <td>Released</td>\n",
       "      <td>Enter the World of Pandora.</td>\n",
       "      <td>Avatar</td>\n",
       "      <td>7.2</td>\n",
       "      <td>11800</td>\n",
       "    </tr>\n",
       "    <tr>\n",
       "      <th>1</th>\n",
       "      <td>285</td>\n",
       "      <td>Pirates of the Caribbean: At World's End</td>\n",
       "      <td>[{'cast_id': 4, 'character': 'Captain Jack Spa...</td>\n",
       "      <td>[{'credit_id': '52fe4232c3a36847f800b579', 'de...</td>\n",
       "      <td>300000000</td>\n",
       "      <td>[{'id': 12, 'name': 'Adventure'}, {'id': 14, '...</td>\n",
       "      <td>http://disney.go.com/disneypictures/pirates/</td>\n",
       "      <td>[{'id': 270, 'name': 'ocean'}, {'id': 726, 'na...</td>\n",
       "      <td>en</td>\n",
       "      <td>Pirates of the Caribbean: At World's End</td>\n",
       "      <td>...</td>\n",
       "      <td>[{'iso_3166_1': 'US', 'name': 'United States o...</td>\n",
       "      <td>2007-05-19</td>\n",
       "      <td>961000000</td>\n",
       "      <td>169.0</td>\n",
       "      <td>[{'iso_639_1': 'en', 'name': 'English'}]</td>\n",
       "      <td>Released</td>\n",
       "      <td>At the end of the world, the adventure begins.</td>\n",
       "      <td>Pirates of the Caribbean: At World's End</td>\n",
       "      <td>6.9</td>\n",
       "      <td>4500</td>\n",
       "    </tr>\n",
       "    <tr>\n",
       "      <th>2</th>\n",
       "      <td>206647</td>\n",
       "      <td>Spectre</td>\n",
       "      <td>[{'cast_id': 1, 'character': 'James Bond', 'cr...</td>\n",
       "      <td>[{'credit_id': '54805967c3a36829b5002c41', 'de...</td>\n",
       "      <td>245000000</td>\n",
       "      <td>[{'id': 28, 'name': 'Action'}, {'id': 12, 'nam...</td>\n",
       "      <td>http://www.sonypictures.com/movies/spectre/</td>\n",
       "      <td>[{'id': 470, 'name': 'spy'}, {'id': 818, 'name...</td>\n",
       "      <td>en</td>\n",
       "      <td>Spectre</td>\n",
       "      <td>...</td>\n",
       "      <td>[{'iso_3166_1': 'GB', 'name': 'United Kingdom'...</td>\n",
       "      <td>2015-10-26</td>\n",
       "      <td>880674609</td>\n",
       "      <td>148.0</td>\n",
       "      <td>[{'iso_639_1': 'fr', 'name': 'Français'}, {'is...</td>\n",
       "      <td>Released</td>\n",
       "      <td>A Plan No One Escapes</td>\n",
       "      <td>Spectre</td>\n",
       "      <td>6.3</td>\n",
       "      <td>4466</td>\n",
       "    </tr>\n",
       "    <tr>\n",
       "      <th>3</th>\n",
       "      <td>49026</td>\n",
       "      <td>The Dark Knight Rises</td>\n",
       "      <td>[{'cast_id': 2, 'character': 'Bruce Wayne / Ba...</td>\n",
       "      <td>[{'credit_id': '52fe4781c3a36847f81398c3', 'de...</td>\n",
       "      <td>250000000</td>\n",
       "      <td>[{'id': 28, 'name': 'Action'}, {'id': 80, 'nam...</td>\n",
       "      <td>http://www.thedarkknightrises.com/</td>\n",
       "      <td>[{'id': 849, 'name': 'dc comics'}, {'id': 853,...</td>\n",
       "      <td>en</td>\n",
       "      <td>The Dark Knight Rises</td>\n",
       "      <td>...</td>\n",
       "      <td>[{'iso_3166_1': 'US', 'name': 'United States o...</td>\n",
       "      <td>2012-07-16</td>\n",
       "      <td>1084939099</td>\n",
       "      <td>165.0</td>\n",
       "      <td>[{'iso_639_1': 'en', 'name': 'English'}]</td>\n",
       "      <td>Released</td>\n",
       "      <td>The Legend Ends</td>\n",
       "      <td>The Dark Knight Rises</td>\n",
       "      <td>7.6</td>\n",
       "      <td>9106</td>\n",
       "    </tr>\n",
       "    <tr>\n",
       "      <th>4</th>\n",
       "      <td>49529</td>\n",
       "      <td>John Carter</td>\n",
       "      <td>[{'cast_id': 5, 'character': 'John Carter', 'c...</td>\n",
       "      <td>[{'credit_id': '52fe479ac3a36847f813eaa3', 'de...</td>\n",
       "      <td>260000000</td>\n",
       "      <td>[{'id': 28, 'name': 'Action'}, {'id': 12, 'nam...</td>\n",
       "      <td>http://movies.disney.com/john-carter</td>\n",
       "      <td>[{'id': 818, 'name': 'based on novel'}, {'id':...</td>\n",
       "      <td>en</td>\n",
       "      <td>John Carter</td>\n",
       "      <td>...</td>\n",
       "      <td>[{'iso_3166_1': 'US', 'name': 'United States o...</td>\n",
       "      <td>2012-03-07</td>\n",
       "      <td>284139100</td>\n",
       "      <td>132.0</td>\n",
       "      <td>[{'iso_639_1': 'en', 'name': 'English'}]</td>\n",
       "      <td>Released</td>\n",
       "      <td>Lost in our world, found in another.</td>\n",
       "      <td>John Carter</td>\n",
       "      <td>6.1</td>\n",
       "      <td>2124</td>\n",
       "    </tr>\n",
       "  </tbody>\n",
       "</table>\n",
       "<p>5 rows × 23 columns</p>\n",
       "</div>"
      ],
      "text/plain": [
       "       id                                   title_x  \\\n",
       "0   19995                                    Avatar   \n",
       "1     285  Pirates of the Caribbean: At World's End   \n",
       "2  206647                                   Spectre   \n",
       "3   49026                     The Dark Knight Rises   \n",
       "4   49529                               John Carter   \n",
       "\n",
       "                                                cast  \\\n",
       "0  [{'cast_id': 242, 'character': 'Jake Sully', '...   \n",
       "1  [{'cast_id': 4, 'character': 'Captain Jack Spa...   \n",
       "2  [{'cast_id': 1, 'character': 'James Bond', 'cr...   \n",
       "3  [{'cast_id': 2, 'character': 'Bruce Wayne / Ba...   \n",
       "4  [{'cast_id': 5, 'character': 'John Carter', 'c...   \n",
       "\n",
       "                                                crew     budget  \\\n",
       "0  [{'credit_id': '52fe48009251416c750aca23', 'de...  237000000   \n",
       "1  [{'credit_id': '52fe4232c3a36847f800b579', 'de...  300000000   \n",
       "2  [{'credit_id': '54805967c3a36829b5002c41', 'de...  245000000   \n",
       "3  [{'credit_id': '52fe4781c3a36847f81398c3', 'de...  250000000   \n",
       "4  [{'credit_id': '52fe479ac3a36847f813eaa3', 'de...  260000000   \n",
       "\n",
       "                                              genres  \\\n",
       "0  [{'id': 28, 'name': 'Action'}, {'id': 12, 'nam...   \n",
       "1  [{'id': 12, 'name': 'Adventure'}, {'id': 14, '...   \n",
       "2  [{'id': 28, 'name': 'Action'}, {'id': 12, 'nam...   \n",
       "3  [{'id': 28, 'name': 'Action'}, {'id': 80, 'nam...   \n",
       "4  [{'id': 28, 'name': 'Action'}, {'id': 12, 'nam...   \n",
       "\n",
       "                                       homepage  \\\n",
       "0                   http://www.avatarmovie.com/   \n",
       "1  http://disney.go.com/disneypictures/pirates/   \n",
       "2   http://www.sonypictures.com/movies/spectre/   \n",
       "3            http://www.thedarkknightrises.com/   \n",
       "4          http://movies.disney.com/john-carter   \n",
       "\n",
       "                                            keywords original_language  \\\n",
       "0  [{'id': 1463, 'name': 'culture clash'}, {'id':...                en   \n",
       "1  [{'id': 270, 'name': 'ocean'}, {'id': 726, 'na...                en   \n",
       "2  [{'id': 470, 'name': 'spy'}, {'id': 818, 'name...                en   \n",
       "3  [{'id': 849, 'name': 'dc comics'}, {'id': 853,...                en   \n",
       "4  [{'id': 818, 'name': 'based on novel'}, {'id':...                en   \n",
       "\n",
       "                             original_title    ...      \\\n",
       "0                                    Avatar    ...       \n",
       "1  Pirates of the Caribbean: At World's End    ...       \n",
       "2                                   Spectre    ...       \n",
       "3                     The Dark Knight Rises    ...       \n",
       "4                               John Carter    ...       \n",
       "\n",
       "                                production_countries  release_date  \\\n",
       "0  [{'iso_3166_1': 'US', 'name': 'United States o...    2009-12-10   \n",
       "1  [{'iso_3166_1': 'US', 'name': 'United States o...    2007-05-19   \n",
       "2  [{'iso_3166_1': 'GB', 'name': 'United Kingdom'...    2015-10-26   \n",
       "3  [{'iso_3166_1': 'US', 'name': 'United States o...    2012-07-16   \n",
       "4  [{'iso_3166_1': 'US', 'name': 'United States o...    2012-03-07   \n",
       "\n",
       "      revenue runtime                                   spoken_languages  \\\n",
       "0  2787965087   162.0  [{'iso_639_1': 'en', 'name': 'English'}, {'iso...   \n",
       "1   961000000   169.0           [{'iso_639_1': 'en', 'name': 'English'}]   \n",
       "2   880674609   148.0  [{'iso_639_1': 'fr', 'name': 'Français'}, {'is...   \n",
       "3  1084939099   165.0           [{'iso_639_1': 'en', 'name': 'English'}]   \n",
       "4   284139100   132.0           [{'iso_639_1': 'en', 'name': 'English'}]   \n",
       "\n",
       "     status                                         tagline  \\\n",
       "0  Released                     Enter the World of Pandora.   \n",
       "1  Released  At the end of the world, the adventure begins.   \n",
       "2  Released                           A Plan No One Escapes   \n",
       "3  Released                                 The Legend Ends   \n",
       "4  Released            Lost in our world, found in another.   \n",
       "\n",
       "                                    title_y vote_average vote_count  \n",
       "0                                    Avatar          7.2      11800  \n",
       "1  Pirates of the Caribbean: At World's End          6.9       4500  \n",
       "2                                   Spectre          6.3       4466  \n",
       "3                     The Dark Knight Rises          7.6       9106  \n",
       "4                               John Carter          6.1       2124  \n",
       "\n",
       "[5 rows x 23 columns]"
      ]
     },
     "execution_count": 105,
     "metadata": {},
     "output_type": "execute_result"
    }
   ],
   "source": [
    "df.head()"
   ]
  },
  {
   "cell_type": "markdown",
   "metadata": {},
   "source": [
    "### Movie realease year"
   ]
  },
  {
   "cell_type": "code",
   "execution_count": 106,
   "metadata": {
    "ExecuteTime": {
     "end_time": "2018-10-25T17:05:03.015023Z",
     "start_time": "2018-10-25T17:05:03.005857Z"
    }
   },
   "outputs": [
    {
     "data": {
      "text/plain": [
       "0   2009-12-10\n",
       "1   2007-05-19\n",
       "2   2015-10-26\n",
       "3   2012-07-16\n",
       "4   2012-03-07\n",
       "Name: release_date, dtype: datetime64[ns]"
      ]
     },
     "execution_count": 106,
     "metadata": {},
     "output_type": "execute_result"
    }
   ],
   "source": [
    "df.release_date.head()"
   ]
  },
  {
   "cell_type": "code",
   "execution_count": 107,
   "metadata": {
    "ExecuteTime": {
     "end_time": "2018-10-25T17:05:03.038842Z",
     "start_time": "2018-10-25T17:05:03.017061Z"
    }
   },
   "outputs": [],
   "source": [
    "#df_release_year = df.release_date.year\n",
    "df['release_year'] = df['release_date'].apply(lambda x : x.year)\n",
    "del df['release_date']"
   ]
  },
  {
   "cell_type": "markdown",
   "metadata": {},
   "source": [
    "### Country"
   ]
  },
  {
   "cell_type": "code",
   "execution_count": 108,
   "metadata": {
    "ExecuteTime": {
     "end_time": "2018-10-25T17:05:03.205380Z",
     "start_time": "2018-10-25T17:05:03.198930Z"
    }
   },
   "outputs": [
    {
     "data": {
      "text/plain": [
       "0    [{'iso_3166_1': 'US', 'name': 'United States o...\n",
       "1    [{'iso_3166_1': 'US', 'name': 'United States o...\n",
       "2    [{'iso_3166_1': 'GB', 'name': 'United Kingdom'...\n",
       "3    [{'iso_3166_1': 'US', 'name': 'United States o...\n",
       "4    [{'iso_3166_1': 'US', 'name': 'United States o...\n",
       "Name: production_countries, dtype: object"
      ]
     },
     "execution_count": 108,
     "metadata": {},
     "output_type": "execute_result"
    }
   ],
   "source": [
    "df['production_countries'].head()"
   ]
  },
  {
   "cell_type": "code",
   "execution_count": 109,
   "metadata": {
    "ExecuteTime": {
     "end_time": "2018-10-25T17:05:03.278685Z",
     "start_time": "2018-10-25T17:05:03.264407Z"
    }
   },
   "outputs": [],
   "source": [
    "df['production_country_1'] = df['production_countries'].apply(lambda x: safe_access(x, [0, 'iso_3166_1']))\n",
    "df['production_country_2'] = df['production_countries'].apply(lambda x: safe_access(x, [1, 'iso_3166_1']))\n",
    "del df['production_countries']"
   ]
  },
  {
   "cell_type": "markdown",
   "metadata": {},
   "source": [
    "### cast"
   ]
  },
  {
   "cell_type": "code",
   "execution_count": 110,
   "metadata": {
    "ExecuteTime": {
     "end_time": "2018-10-25T17:05:03.407967Z",
     "start_time": "2018-10-25T17:05:03.354187Z"
    }
   },
   "outputs": [
    {
     "data": {
      "text/plain": [
       "0    [{'cast_id': 242, 'character': 'Jake Sully', '...\n",
       "1    [{'cast_id': 4, 'character': 'Captain Jack Spa...\n",
       "2    [{'cast_id': 1, 'character': 'James Bond', 'cr...\n",
       "3    [{'cast_id': 2, 'character': 'Bruce Wayne / Ba...\n",
       "4    [{'cast_id': 5, 'character': 'John Carter', 'c...\n",
       "Name: cast, dtype: object"
      ]
     },
     "execution_count": 110,
     "metadata": {},
     "output_type": "execute_result"
    }
   ],
   "source": [
    "df['cast'].head()"
   ]
  },
  {
   "cell_type": "markdown",
   "metadata": {},
   "source": [
    "TODO : try to add number of actors and actress"
   ]
  },
  {
   "cell_type": "code",
   "execution_count": 111,
   "metadata": {
    "ExecuteTime": {
     "end_time": "2018-10-25T17:05:03.460655Z",
     "start_time": "2018-10-25T17:05:03.450761Z"
    }
   },
   "outputs": [],
   "source": [
    "df['number_of_cast'] = df.cast.apply(lambda x: len(x) )\n",
    "del df['cast']"
   ]
  },
  {
   "cell_type": "markdown",
   "metadata": {
    "ExecuteTime": {
     "end_time": "2018-10-25T06:16:19.796585Z",
     "start_time": "2018-10-25T06:16:19.793901Z"
    }
   },
   "source": [
    "### Genres"
   ]
  },
  {
   "cell_type": "code",
   "execution_count": 112,
   "metadata": {
    "ExecuteTime": {
     "end_time": "2018-10-25T17:05:06.027540Z",
     "start_time": "2018-10-25T17:05:06.019954Z"
    }
   },
   "outputs": [
    {
     "data": {
      "text/plain": [
       "0    [{'id': 28, 'name': 'Action'}, {'id': 12, 'nam...\n",
       "1    [{'id': 12, 'name': 'Adventure'}, {'id': 14, '...\n",
       "2    [{'id': 28, 'name': 'Action'}, {'id': 12, 'nam...\n",
       "3    [{'id': 28, 'name': 'Action'}, {'id': 80, 'nam...\n",
       "4    [{'id': 28, 'name': 'Action'}, {'id': 12, 'nam...\n",
       "Name: genres, dtype: object"
      ]
     },
     "execution_count": 112,
     "metadata": {},
     "output_type": "execute_result"
    }
   ],
   "source": [
    "df['genres'].head()"
   ]
  },
  {
   "cell_type": "code",
   "execution_count": 113,
   "metadata": {
    "ExecuteTime": {
     "end_time": "2018-10-25T17:05:06.320137Z",
     "start_time": "2018-10-25T17:05:06.312820Z"
    }
   },
   "outputs": [],
   "source": [
    "df['genres'] = df['genres'].apply(pipe_flatten_names)"
   ]
  },
  {
   "cell_type": "markdown",
   "metadata": {
    "ExecuteTime": {
     "end_time": "2018-10-25T06:20:05.991171Z",
     "start_time": "2018-10-25T06:20:05.988692Z"
    }
   },
   "source": [
    "### Keywords"
   ]
  },
  {
   "cell_type": "code",
   "execution_count": 114,
   "metadata": {
    "ExecuteTime": {
     "end_time": "2018-10-25T17:05:06.751026Z",
     "start_time": "2018-10-25T17:05:06.736142Z"
    }
   },
   "outputs": [
    {
     "data": {
      "text/plain": [
       "0    [{'id': 1463, 'name': 'culture clash'}, {'id':...\n",
       "1    [{'id': 270, 'name': 'ocean'}, {'id': 726, 'na...\n",
       "2    [{'id': 470, 'name': 'spy'}, {'id': 818, 'name...\n",
       "3    [{'id': 849, 'name': 'dc comics'}, {'id': 853,...\n",
       "4    [{'id': 818, 'name': 'based on novel'}, {'id':...\n",
       "Name: keywords, dtype: object"
      ]
     },
     "execution_count": 114,
     "metadata": {},
     "output_type": "execute_result"
    }
   ],
   "source": [
    "df['keywords'].head()"
   ]
  },
  {
   "cell_type": "code",
   "execution_count": 115,
   "metadata": {
    "ExecuteTime": {
     "end_time": "2018-10-25T17:05:06.926887Z",
     "start_time": "2018-10-25T17:05:06.909518Z"
    }
   },
   "outputs": [],
   "source": [
    "df['keywords'] = df['keywords'].apply(pipe_flatten_names)"
   ]
  },
  {
   "cell_type": "markdown",
   "metadata": {
    "ExecuteTime": {
     "end_time": "2018-10-25T06:21:42.232810Z",
     "start_time": "2018-10-25T06:21:42.229303Z"
    }
   },
   "source": [
    "### Director"
   ]
  },
  {
   "cell_type": "code",
   "execution_count": 116,
   "metadata": {
    "ExecuteTime": {
     "end_time": "2018-10-25T17:05:07.273770Z",
     "start_time": "2018-10-25T17:05:07.248397Z"
    }
   },
   "outputs": [
    {
     "data": {
      "text/plain": [
       "[{'credit_id': '52fe48009251416c750aca23',\n",
       "  'department': 'Editing',\n",
       "  'gender': 0,\n",
       "  'id': 1721,\n",
       "  'job': 'Editor',\n",
       "  'name': 'Stephen E. Rivkin'},\n",
       " {'credit_id': '539c47ecc3a36810e3001f87',\n",
       "  'department': 'Art',\n",
       "  'gender': 2,\n",
       "  'id': 496,\n",
       "  'job': 'Production Design',\n",
       "  'name': 'Rick Carter'},\n",
       " {'credit_id': '54491c89c3a3680fb4001cf7',\n",
       "  'department': 'Sound',\n",
       "  'gender': 0,\n",
       "  'id': 900,\n",
       "  'job': 'Sound Designer',\n",
       "  'name': 'Christopher Boyes'},\n",
       " {'credit_id': '54491cb70e0a267480001bd0',\n",
       "  'department': 'Sound',\n",
       "  'gender': 0,\n",
       "  'id': 900,\n",
       "  'job': 'Supervising Sound Editor',\n",
       "  'name': 'Christopher Boyes'},\n",
       " {'credit_id': '539c4a4cc3a36810c9002101',\n",
       "  'department': 'Production',\n",
       "  'gender': 1,\n",
       "  'id': 1262,\n",
       "  'job': 'Casting',\n",
       "  'name': 'Mali Finn'},\n",
       " {'credit_id': '5544ee3b925141499f0008fc',\n",
       "  'department': 'Sound',\n",
       "  'gender': 2,\n",
       "  'id': 1729,\n",
       "  'job': 'Original Music Composer',\n",
       "  'name': 'James Horner'},\n",
       " {'credit_id': '52fe48009251416c750ac9c3',\n",
       "  'department': 'Directing',\n",
       "  'gender': 2,\n",
       "  'id': 2710,\n",
       "  'job': 'Director',\n",
       "  'name': 'James Cameron'},\n",
       " {'credit_id': '52fe48009251416c750ac9d9',\n",
       "  'department': 'Writing',\n",
       "  'gender': 2,\n",
       "  'id': 2710,\n",
       "  'job': 'Writer',\n",
       "  'name': 'James Cameron'},\n",
       " {'credit_id': '52fe48009251416c750aca17',\n",
       "  'department': 'Editing',\n",
       "  'gender': 2,\n",
       "  'id': 2710,\n",
       "  'job': 'Editor',\n",
       "  'name': 'James Cameron'},\n",
       " {'credit_id': '52fe48009251416c750aca29',\n",
       "  'department': 'Production',\n",
       "  'gender': 2,\n",
       "  'id': 2710,\n",
       "  'job': 'Producer',\n",
       "  'name': 'James Cameron'},\n",
       " {'credit_id': '52fe48009251416c750aca3f',\n",
       "  'department': 'Writing',\n",
       "  'gender': 2,\n",
       "  'id': 2710,\n",
       "  'job': 'Screenplay',\n",
       "  'name': 'James Cameron'},\n",
       " {'credit_id': '539c4987c3a36810ba0021a4',\n",
       "  'department': 'Art',\n",
       "  'gender': 2,\n",
       "  'id': 7236,\n",
       "  'job': 'Art Direction',\n",
       "  'name': 'Andrew Menzies'},\n",
       " {'credit_id': '549598c3c3a3686ae9004383',\n",
       "  'department': 'Visual Effects',\n",
       "  'gender': 0,\n",
       "  'id': 6690,\n",
       "  'job': 'Visual Effects Producer',\n",
       "  'name': 'Jill Brooks'},\n",
       " {'credit_id': '52fe48009251416c750aca4b',\n",
       "  'department': 'Production',\n",
       "  'gender': 1,\n",
       "  'id': 6347,\n",
       "  'job': 'Casting',\n",
       "  'name': 'Margery Simkin'},\n",
       " {'credit_id': '570b6f419251417da70032fe',\n",
       "  'department': 'Art',\n",
       "  'gender': 2,\n",
       "  'id': 6878,\n",
       "  'job': 'Supervising Art Director',\n",
       "  'name': 'Kevin Ishioka'},\n",
       " {'credit_id': '5495a0fac3a3686ae9004468',\n",
       "  'department': 'Sound',\n",
       "  'gender': 0,\n",
       "  'id': 6883,\n",
       "  'job': 'Music Editor',\n",
       "  'name': 'Dick Bernstein'},\n",
       " {'credit_id': '54959706c3a3686af3003e81',\n",
       "  'department': 'Sound',\n",
       "  'gender': 0,\n",
       "  'id': 8159,\n",
       "  'job': 'Sound Effects Editor',\n",
       "  'name': 'Shannon Mills'},\n",
       " {'credit_id': '54491d58c3a3680fb1001ccb',\n",
       "  'department': 'Sound',\n",
       "  'gender': 0,\n",
       "  'id': 8160,\n",
       "  'job': 'Foley',\n",
       "  'name': 'Dennie Thorpe'},\n",
       " {'credit_id': '54491d6cc3a3680fa5001b2c',\n",
       "  'department': 'Sound',\n",
       "  'gender': 0,\n",
       "  'id': 8163,\n",
       "  'job': 'Foley',\n",
       "  'name': 'Jana Vance'},\n",
       " {'credit_id': '52fe48009251416c750aca57',\n",
       "  'department': 'Costume & Make-Up',\n",
       "  'gender': 1,\n",
       "  'id': 8527,\n",
       "  'job': 'Costume Design',\n",
       "  'name': 'Deborah Lynn Scott'},\n",
       " {'credit_id': '52fe48009251416c750aca2f',\n",
       "  'department': 'Production',\n",
       "  'gender': 2,\n",
       "  'id': 8529,\n",
       "  'job': 'Producer',\n",
       "  'name': 'Jon Landau'},\n",
       " {'credit_id': '539c4937c3a36810ba002194',\n",
       "  'department': 'Art',\n",
       "  'gender': 0,\n",
       "  'id': 9618,\n",
       "  'job': 'Art Direction',\n",
       "  'name': 'Sean Haworth'},\n",
       " {'credit_id': '539c49b6c3a36810c10020e6',\n",
       "  'department': 'Art',\n",
       "  'gender': 1,\n",
       "  'id': 12653,\n",
       "  'job': 'Set Decoration',\n",
       "  'name': 'Kim Sinclair'},\n",
       " {'credit_id': '570b6f2f9251413a0e00020d',\n",
       "  'department': 'Art',\n",
       "  'gender': 1,\n",
       "  'id': 12653,\n",
       "  'job': 'Supervising Art Director',\n",
       "  'name': 'Kim Sinclair'},\n",
       " {'credit_id': '54491a6c0e0a26748c001b19',\n",
       "  'department': 'Art',\n",
       "  'gender': 2,\n",
       "  'id': 14350,\n",
       "  'job': 'Set Designer',\n",
       "  'name': 'Richard F. Mays'},\n",
       " {'credit_id': '56928cf4c3a3684cff0025c4',\n",
       "  'department': 'Production',\n",
       "  'gender': 1,\n",
       "  'id': 20294,\n",
       "  'job': 'Executive Producer',\n",
       "  'name': 'Laeta Kalogridis'},\n",
       " {'credit_id': '52fe48009251416c750aca51',\n",
       "  'department': 'Costume & Make-Up',\n",
       "  'gender': 0,\n",
       "  'id': 17675,\n",
       "  'job': 'Costume Design',\n",
       "  'name': 'Mayes C. Rubeo'},\n",
       " {'credit_id': '52fe48009251416c750aca11',\n",
       "  'department': 'Camera',\n",
       "  'gender': 2,\n",
       "  'id': 18265,\n",
       "  'job': 'Director of Photography',\n",
       "  'name': 'Mauro Fiore'},\n",
       " {'credit_id': '5449194d0e0a26748f001b39',\n",
       "  'department': 'Art',\n",
       "  'gender': 0,\n",
       "  'id': 42281,\n",
       "  'job': 'Set Designer',\n",
       "  'name': 'Scott Herbertson'},\n",
       " {'credit_id': '52fe48009251416c750aca05',\n",
       "  'department': 'Crew',\n",
       "  'gender': 0,\n",
       "  'id': 42288,\n",
       "  'job': 'Stunts',\n",
       "  'name': 'Woody Schultz'},\n",
       " {'credit_id': '5592aefb92514152de0010f5',\n",
       "  'department': 'Costume & Make-Up',\n",
       "  'gender': 0,\n",
       "  'id': 29067,\n",
       "  'job': 'Makeup Artist',\n",
       "  'name': 'Linda DeVetta'},\n",
       " {'credit_id': '5592afa492514152de00112c',\n",
       "  'department': 'Costume & Make-Up',\n",
       "  'gender': 0,\n",
       "  'id': 29067,\n",
       "  'job': 'Hairstylist',\n",
       "  'name': 'Linda DeVetta'},\n",
       " {'credit_id': '54959ed592514130fc002e5d',\n",
       "  'department': 'Camera',\n",
       "  'gender': 2,\n",
       "  'id': 33302,\n",
       "  'job': 'Camera Operator',\n",
       "  'name': 'Richard Bluck'},\n",
       " {'credit_id': '539c4891c3a36810ba002147',\n",
       "  'department': 'Art',\n",
       "  'gender': 2,\n",
       "  'id': 33303,\n",
       "  'job': 'Art Direction',\n",
       "  'name': 'Simon Bright'},\n",
       " {'credit_id': '54959c069251417a81001f3a',\n",
       "  'department': 'Visual Effects',\n",
       "  'gender': 0,\n",
       "  'id': 113145,\n",
       "  'job': 'Visual Effects Supervisor',\n",
       "  'name': 'Richard Martin'},\n",
       " {'credit_id': '54959a0dc3a3680ff5002c8d',\n",
       "  'department': 'Crew',\n",
       "  'gender': 2,\n",
       "  'id': 58188,\n",
       "  'job': 'Visual Effects Editor',\n",
       "  'name': 'Steve R. Moore'},\n",
       " {'credit_id': '52fe48009251416c750aca1d',\n",
       "  'department': 'Editing',\n",
       "  'gender': 2,\n",
       "  'id': 58871,\n",
       "  'job': 'Editor',\n",
       "  'name': 'John Refoua'},\n",
       " {'credit_id': '54491a4dc3a3680fc30018ca',\n",
       "  'department': 'Art',\n",
       "  'gender': 0,\n",
       "  'id': 92359,\n",
       "  'job': 'Set Designer',\n",
       "  'name': 'Karl J. Martin'},\n",
       " {'credit_id': '52fe48009251416c750aca35',\n",
       "  'department': 'Camera',\n",
       "  'gender': 1,\n",
       "  'id': 72201,\n",
       "  'job': 'Director of Photography',\n",
       "  'name': 'Chiling Lin'},\n",
       " {'credit_id': '52fe48009251416c750ac9ff',\n",
       "  'department': 'Crew',\n",
       "  'gender': 0,\n",
       "  'id': 89714,\n",
       "  'job': 'Stunts',\n",
       "  'name': 'Ilram Choi'},\n",
       " {'credit_id': '54959c529251416e2b004394',\n",
       "  'department': 'Visual Effects',\n",
       "  'gender': 2,\n",
       "  'id': 93214,\n",
       "  'job': 'Visual Effects Supervisor',\n",
       "  'name': 'Steven Quale'},\n",
       " {'credit_id': '54491edf0e0a267489001c37',\n",
       "  'department': 'Crew',\n",
       "  'gender': 1,\n",
       "  'id': 122607,\n",
       "  'job': 'Dialect Coach',\n",
       "  'name': 'Carla Meyer'},\n",
       " {'credit_id': '539c485bc3a368653d001a3a',\n",
       "  'department': 'Art',\n",
       "  'gender': 2,\n",
       "  'id': 132585,\n",
       "  'job': 'Art Direction',\n",
       "  'name': 'Nick Bassett'},\n",
       " {'credit_id': '539c4903c3a368653d001a74',\n",
       "  'department': 'Art',\n",
       "  'gender': 0,\n",
       "  'id': 132596,\n",
       "  'job': 'Art Direction',\n",
       "  'name': 'Jill Cormack'},\n",
       " {'credit_id': '539c4967c3a368653d001a94',\n",
       "  'department': 'Art',\n",
       "  'gender': 0,\n",
       "  'id': 132604,\n",
       "  'job': 'Art Direction',\n",
       "  'name': 'Andy McLaren'},\n",
       " {'credit_id': '52fe48009251416c750aca45',\n",
       "  'department': 'Crew',\n",
       "  'gender': 0,\n",
       "  'id': 236696,\n",
       "  'job': 'Motion Capture Artist',\n",
       "  'name': 'Terry Notary'},\n",
       " {'credit_id': '54959e02c3a3680fc60027d2',\n",
       "  'department': 'Crew',\n",
       "  'gender': 2,\n",
       "  'id': 956198,\n",
       "  'job': 'Stunt Coordinator',\n",
       "  'name': 'Garrett Warren'},\n",
       " {'credit_id': '54959ca3c3a3686ae300438c',\n",
       "  'department': 'Visual Effects',\n",
       "  'gender': 2,\n",
       "  'id': 957874,\n",
       "  'job': 'Visual Effects Supervisor',\n",
       "  'name': 'Jonathan Rothbart'},\n",
       " {'credit_id': '570b6f519251412c74001b2f',\n",
       "  'department': 'Art',\n",
       "  'gender': 0,\n",
       "  'id': 957889,\n",
       "  'job': 'Supervising Art Director',\n",
       "  'name': 'Stefan Dechant'},\n",
       " {'credit_id': '570b6f62c3a3680b77007460',\n",
       "  'department': 'Art',\n",
       "  'gender': 2,\n",
       "  'id': 959555,\n",
       "  'job': 'Supervising Art Director',\n",
       "  'name': 'Todd Cherniawsky'},\n",
       " {'credit_id': '539c4a3ac3a36810da0021cc',\n",
       "  'department': 'Production',\n",
       "  'gender': 0,\n",
       "  'id': 1016177,\n",
       "  'job': 'Casting',\n",
       "  'name': 'Miranda Rivers'},\n",
       " {'credit_id': '539c482cc3a36810c1002062',\n",
       "  'department': 'Art',\n",
       "  'gender': 0,\n",
       "  'id': 1032536,\n",
       "  'job': 'Production Design',\n",
       "  'name': 'Robert Stromberg'},\n",
       " {'credit_id': '539c4b65c3a36810c9002125',\n",
       "  'department': 'Costume & Make-Up',\n",
       "  'gender': 2,\n",
       "  'id': 1071680,\n",
       "  'job': 'Costume Design',\n",
       "  'name': 'John Harding'},\n",
       " {'credit_id': '54959e6692514130fc002e4e',\n",
       "  'department': 'Camera',\n",
       "  'gender': 0,\n",
       "  'id': 1177364,\n",
       "  'job': 'Steadicam Operator',\n",
       "  'name': 'Roberto De Angelis'},\n",
       " {'credit_id': '539c49f1c3a368653d001aac',\n",
       "  'department': 'Costume & Make-Up',\n",
       "  'gender': 2,\n",
       "  'id': 1202850,\n",
       "  'job': 'Makeup Department Head',\n",
       "  'name': 'Mike Smithson'},\n",
       " {'credit_id': '5495999ec3a3686ae100460c',\n",
       "  'department': 'Visual Effects',\n",
       "  'gender': 0,\n",
       "  'id': 1204668,\n",
       "  'job': 'Visual Effects Producer',\n",
       "  'name': 'Alain Lalanne'},\n",
       " {'credit_id': '54959cdfc3a3681153002729',\n",
       "  'department': 'Visual Effects',\n",
       "  'gender': 0,\n",
       "  'id': 1206410,\n",
       "  'job': 'Visual Effects Supervisor',\n",
       "  'name': 'Lucas Salton'},\n",
       " {'credit_id': '549596239251417a81001eae',\n",
       "  'department': 'Crew',\n",
       "  'gender': 0,\n",
       "  'id': 1234266,\n",
       "  'job': 'Post Production Supervisor',\n",
       "  'name': 'Janace Tashjian'},\n",
       " {'credit_id': '54959c859251416e1e003efe',\n",
       "  'department': 'Visual Effects',\n",
       "  'gender': 0,\n",
       "  'id': 1271932,\n",
       "  'job': 'Visual Effects Supervisor',\n",
       "  'name': 'Stephen Rosenbaum'},\n",
       " {'credit_id': '5592af28c3a368775a00105f',\n",
       "  'department': 'Costume & Make-Up',\n",
       "  'gender': 0,\n",
       "  'id': 1310064,\n",
       "  'job': 'Makeup Artist',\n",
       "  'name': 'Frankie Karena'},\n",
       " {'credit_id': '539c4adfc3a36810e300203b',\n",
       "  'department': 'Costume & Make-Up',\n",
       "  'gender': 1,\n",
       "  'id': 1319844,\n",
       "  'job': 'Costume Supervisor',\n",
       "  'name': 'Lisa Lovaas'},\n",
       " {'credit_id': '54959b579251416e2b004371',\n",
       "  'department': 'Visual Effects',\n",
       "  'gender': 0,\n",
       "  'id': 1327028,\n",
       "  'job': 'Visual Effects Supervisor',\n",
       "  'name': 'Jonathan Fawkner'},\n",
       " {'credit_id': '539c48a7c3a36810b5001fa7',\n",
       "  'department': 'Art',\n",
       "  'gender': 0,\n",
       "  'id': 1330561,\n",
       "  'job': 'Art Direction',\n",
       "  'name': 'Robert Bavin'},\n",
       " {'credit_id': '539c4a71c3a36810da0021e0',\n",
       "  'department': 'Costume & Make-Up',\n",
       "  'gender': 0,\n",
       "  'id': 1330567,\n",
       "  'job': 'Costume Supervisor',\n",
       "  'name': 'Anthony Almaraz'},\n",
       " {'credit_id': '539c4a8ac3a36810ba0021e4',\n",
       "  'department': 'Costume & Make-Up',\n",
       "  'gender': 0,\n",
       "  'id': 1330570,\n",
       "  'job': 'Costume Supervisor',\n",
       "  'name': 'Carolyn M. Fenton'},\n",
       " {'credit_id': '539c4ab6c3a36810da0021f0',\n",
       "  'department': 'Costume & Make-Up',\n",
       "  'gender': 0,\n",
       "  'id': 1330574,\n",
       "  'job': 'Costume Supervisor',\n",
       "  'name': 'Beth Koenigsberg'},\n",
       " {'credit_id': '54491ab70e0a267480001ba2',\n",
       "  'department': 'Art',\n",
       "  'gender': 0,\n",
       "  'id': 1336191,\n",
       "  'job': 'Set Designer',\n",
       "  'name': 'Sam Page'},\n",
       " {'credit_id': '544919d9c3a3680fc30018bd',\n",
       "  'department': 'Art',\n",
       "  'gender': 0,\n",
       "  'id': 1339441,\n",
       "  'job': 'Set Designer',\n",
       "  'name': 'Tex Kadonaga'},\n",
       " {'credit_id': '54491cf50e0a267483001b0c',\n",
       "  'department': 'Editing',\n",
       "  'gender': 0,\n",
       "  'id': 1352422,\n",
       "  'job': 'Dialogue Editor',\n",
       "  'name': 'Kim Foscato'},\n",
       " {'credit_id': '544919f40e0a26748c001b09',\n",
       "  'department': 'Art',\n",
       "  'gender': 0,\n",
       "  'id': 1352962,\n",
       "  'job': 'Set Designer',\n",
       "  'name': 'Tammy S. Lee'},\n",
       " {'credit_id': '5495a115c3a3680ff5002d71',\n",
       "  'department': 'Crew',\n",
       "  'gender': 0,\n",
       "  'id': 1357070,\n",
       "  'job': 'Transportation Coordinator',\n",
       "  'name': 'Denny Caira'},\n",
       " {'credit_id': '5495a12f92514130fc002e94',\n",
       "  'department': 'Crew',\n",
       "  'gender': 0,\n",
       "  'id': 1357071,\n",
       "  'job': 'Transportation Coordinator',\n",
       "  'name': 'James Waitkus'},\n",
       " {'credit_id': '5495976fc3a36811530026b0',\n",
       "  'department': 'Sound',\n",
       "  'gender': 0,\n",
       "  'id': 1360103,\n",
       "  'job': 'Supervising Sound Editor',\n",
       "  'name': 'Addison Teague'},\n",
       " {'credit_id': '54491837c3a3680fb1001c5a',\n",
       "  'department': 'Art',\n",
       "  'gender': 2,\n",
       "  'id': 1376887,\n",
       "  'job': 'Set Designer',\n",
       "  'name': 'C. Scott Baker'},\n",
       " {'credit_id': '54491878c3a3680fb4001c9d',\n",
       "  'department': 'Art',\n",
       "  'gender': 0,\n",
       "  'id': 1376888,\n",
       "  'job': 'Set Designer',\n",
       "  'name': 'Luke Caska'},\n",
       " {'credit_id': '544918dac3a3680fa5001ae0',\n",
       "  'department': 'Art',\n",
       "  'gender': 0,\n",
       "  'id': 1376889,\n",
       "  'job': 'Set Designer',\n",
       "  'name': 'David Chow'},\n",
       " {'credit_id': '544919110e0a267486001b68',\n",
       "  'department': 'Art',\n",
       "  'gender': 0,\n",
       "  'id': 1376890,\n",
       "  'job': 'Set Designer',\n",
       "  'name': 'Jonathan Dyer'},\n",
       " {'credit_id': '54491967c3a3680faa001b5e',\n",
       "  'department': 'Art',\n",
       "  'gender': 0,\n",
       "  'id': 1376891,\n",
       "  'job': 'Set Designer',\n",
       "  'name': 'Joseph Hiura'},\n",
       " {'credit_id': '54491997c3a3680fb1001c8a',\n",
       "  'department': 'Art',\n",
       "  'gender': 0,\n",
       "  'id': 1376892,\n",
       "  'job': 'Art Department Coordinator',\n",
       "  'name': 'Rebecca Jellie'},\n",
       " {'credit_id': '544919ba0e0a26748f001b42',\n",
       "  'department': 'Art',\n",
       "  'gender': 0,\n",
       "  'id': 1376893,\n",
       "  'job': 'Set Designer',\n",
       "  'name': 'Robert Andrew Johnson'},\n",
       " {'credit_id': '54491b1dc3a3680faa001b8c',\n",
       "  'department': 'Art',\n",
       "  'gender': 0,\n",
       "  'id': 1376895,\n",
       "  'job': 'Assistant Art Director',\n",
       "  'name': 'Mike Stassi'},\n",
       " {'credit_id': '54491b79c3a3680fbb001826',\n",
       "  'department': 'Art',\n",
       "  'gender': 0,\n",
       "  'id': 1376897,\n",
       "  'job': 'Construction Coordinator',\n",
       "  'name': 'John Villarino'},\n",
       " {'credit_id': '54491baec3a3680fb4001ce6',\n",
       "  'department': 'Art',\n",
       "  'gender': 2,\n",
       "  'id': 1376898,\n",
       "  'job': 'Assistant Art Director',\n",
       "  'name': 'Jeffrey Wisniewski'},\n",
       " {'credit_id': '54491d2fc3a3680fb4001d07',\n",
       "  'department': 'Editing',\n",
       "  'gender': 0,\n",
       "  'id': 1376899,\n",
       "  'job': 'Dialogue Editor',\n",
       "  'name': 'Cheryl Nardi'},\n",
       " {'credit_id': '54491d86c3a3680fa5001b2f',\n",
       "  'department': 'Editing',\n",
       "  'gender': 0,\n",
       "  'id': 1376901,\n",
       "  'job': 'Dialogue Editor',\n",
       "  'name': 'Marshall Winn'},\n",
       " {'credit_id': '54491d9dc3a3680faa001bb0',\n",
       "  'department': 'Sound',\n",
       "  'gender': 0,\n",
       "  'id': 1376902,\n",
       "  'job': 'Supervising Sound Editor',\n",
       "  'name': 'Gwendolyn Yates Whittle'},\n",
       " {'credit_id': '54491dc10e0a267486001bce',\n",
       "  'department': 'Sound',\n",
       "  'gender': 0,\n",
       "  'id': 1376903,\n",
       "  'job': 'Sound Re-Recording Mixer',\n",
       "  'name': 'William Stein'},\n",
       " {'credit_id': '54491f500e0a26747c001c07',\n",
       "  'department': 'Crew',\n",
       "  'gender': 0,\n",
       "  'id': 1376909,\n",
       "  'job': 'Choreographer',\n",
       "  'name': 'Lula Washington'},\n",
       " {'credit_id': '549599239251412c4e002a2e',\n",
       "  'department': 'Visual Effects',\n",
       "  'gender': 0,\n",
       "  'id': 1391692,\n",
       "  'job': 'Visual Effects Producer',\n",
       "  'name': 'Chris Del Conte'},\n",
       " {'credit_id': '54959d54c3a36831b8001d9a',\n",
       "  'department': 'Visual Effects',\n",
       "  'gender': 2,\n",
       "  'id': 1391695,\n",
       "  'job': 'Visual Effects Supervisor',\n",
       "  'name': 'R. Christopher White'},\n",
       " {'credit_id': '54959bdf9251412c4e002a66',\n",
       "  'department': 'Visual Effects',\n",
       "  'gender': 0,\n",
       "  'id': 1394070,\n",
       "  'job': 'Visual Effects Supervisor',\n",
       "  'name': 'Dan Lemmon'},\n",
       " {'credit_id': '5495971d92514132ed002922',\n",
       "  'department': 'Sound',\n",
       "  'gender': 0,\n",
       "  'id': 1394129,\n",
       "  'job': 'Sound Effects Editor',\n",
       "  'name': 'Tim Nielsen'},\n",
       " {'credit_id': '5592b25792514152cc0011aa',\n",
       "  'department': 'Crew',\n",
       "  'gender': 0,\n",
       "  'id': 1394286,\n",
       "  'job': 'CG Supervisor',\n",
       "  'name': 'Michael Mulholland'},\n",
       " {'credit_id': '54959a329251416e2b004355',\n",
       "  'department': 'Crew',\n",
       "  'gender': 0,\n",
       "  'id': 1394750,\n",
       "  'job': 'Visual Effects Editor',\n",
       "  'name': 'Thomas Nittmann'},\n",
       " {'credit_id': '54959d6dc3a3686ae9004401',\n",
       "  'department': 'Visual Effects',\n",
       "  'gender': 0,\n",
       "  'id': 1394755,\n",
       "  'job': 'Visual Effects Supervisor',\n",
       "  'name': 'Edson Williams'},\n",
       " {'credit_id': '5495a08fc3a3686ae300441c',\n",
       "  'department': 'Editing',\n",
       "  'gender': 0,\n",
       "  'id': 1394953,\n",
       "  'job': 'Digital Intermediate',\n",
       "  'name': 'Christine Carr'},\n",
       " {'credit_id': '55402d659251413d6d000249',\n",
       "  'department': 'Visual Effects',\n",
       "  'gender': 0,\n",
       "  'id': 1395269,\n",
       "  'job': 'Visual Effects Supervisor',\n",
       "  'name': 'John Bruno'},\n",
       " {'credit_id': '54959e7b9251416e1e003f3e',\n",
       "  'department': 'Camera',\n",
       "  'gender': 0,\n",
       "  'id': 1398970,\n",
       "  'job': 'Steadicam Operator',\n",
       "  'name': 'David Emmerichs'},\n",
       " {'credit_id': '54959734c3a3686ae10045e0',\n",
       "  'department': 'Sound',\n",
       "  'gender': 0,\n",
       "  'id': 1400906,\n",
       "  'job': 'Sound Effects Editor',\n",
       "  'name': 'Christopher Scarabosio'},\n",
       " {'credit_id': '549595dd92514130fc002d79',\n",
       "  'department': 'Production',\n",
       "  'gender': 0,\n",
       "  'id': 1401784,\n",
       "  'job': 'Production Supervisor',\n",
       "  'name': 'Jennifer Teves'},\n",
       " {'credit_id': '549596009251413af70028cc',\n",
       "  'department': 'Production',\n",
       "  'gender': 0,\n",
       "  'id': 1401785,\n",
       "  'job': 'Production Manager',\n",
       "  'name': 'Brigitte Yorke'},\n",
       " {'credit_id': '549596e892514130fc002d99',\n",
       "  'department': 'Sound',\n",
       "  'gender': 0,\n",
       "  'id': 1401786,\n",
       "  'job': 'Sound Effects Editor',\n",
       "  'name': 'Ken Fischer'},\n",
       " {'credit_id': '549598229251412c4e002a1c',\n",
       "  'department': 'Crew',\n",
       "  'gender': 0,\n",
       "  'id': 1401787,\n",
       "  'job': 'Special Effects Coordinator',\n",
       "  'name': 'Iain Hutton'},\n",
       " {'credit_id': '549598349251416e2b00432b',\n",
       "  'department': 'Crew',\n",
       "  'gender': 0,\n",
       "  'id': 1401788,\n",
       "  'job': 'Special Effects Coordinator',\n",
       "  'name': 'Steve Ingram'},\n",
       " {'credit_id': '54959905c3a3686ae3004324',\n",
       "  'department': 'Visual Effects',\n",
       "  'gender': 0,\n",
       "  'id': 1401789,\n",
       "  'job': 'Visual Effects Producer',\n",
       "  'name': 'Joyce Cox'},\n",
       " {'credit_id': '5495994b92514132ed002951',\n",
       "  'department': 'Visual Effects',\n",
       "  'gender': 0,\n",
       "  'id': 1401790,\n",
       "  'job': 'Visual Effects Producer',\n",
       "  'name': 'Jenny Foster'},\n",
       " {'credit_id': '549599cbc3a3686ae1004613',\n",
       "  'department': 'Crew',\n",
       "  'gender': 0,\n",
       "  'id': 1401791,\n",
       "  'job': 'Visual Effects Editor',\n",
       "  'name': 'Christopher Marino'},\n",
       " {'credit_id': '549599f2c3a3686ae100461e',\n",
       "  'department': 'Crew',\n",
       "  'gender': 0,\n",
       "  'id': 1401792,\n",
       "  'job': 'Visual Effects Editor',\n",
       "  'name': 'Jim Milton'},\n",
       " {'credit_id': '54959a51c3a3686af3003eb5',\n",
       "  'department': 'Visual Effects',\n",
       "  'gender': 0,\n",
       "  'id': 1401793,\n",
       "  'job': 'Visual Effects Producer',\n",
       "  'name': 'Cyndi Ochs'},\n",
       " {'credit_id': '54959a7cc3a36811530026f4',\n",
       "  'department': 'Crew',\n",
       "  'gender': 0,\n",
       "  'id': 1401794,\n",
       "  'job': 'Visual Effects Editor',\n",
       "  'name': 'Lucas Putnam'},\n",
       " {'credit_id': '54959b91c3a3680ff5002cb4',\n",
       "  'department': 'Visual Effects',\n",
       "  'gender': 0,\n",
       "  'id': 1401795,\n",
       "  'job': 'Visual Effects Supervisor',\n",
       "  'name': \"Anthony 'Max' Ivins\"},\n",
       " {'credit_id': '54959bb69251412c4e002a5f',\n",
       "  'department': 'Visual Effects',\n",
       "  'gender': 0,\n",
       "  'id': 1401796,\n",
       "  'job': 'Visual Effects Supervisor',\n",
       "  'name': 'John Knoll'},\n",
       " {'credit_id': '54959cbbc3a3686ae3004391',\n",
       "  'department': 'Visual Effects',\n",
       "  'gender': 2,\n",
       "  'id': 1401799,\n",
       "  'job': 'Visual Effects Supervisor',\n",
       "  'name': 'Eric Saindon'},\n",
       " {'credit_id': '54959d06c3a3686ae90043f6',\n",
       "  'department': 'Visual Effects',\n",
       "  'gender': 0,\n",
       "  'id': 1401800,\n",
       "  'job': 'Visual Effects Supervisor',\n",
       "  'name': 'Wayne Stables'},\n",
       " {'credit_id': '54959d259251416e1e003f11',\n",
       "  'department': 'Visual Effects',\n",
       "  'gender': 0,\n",
       "  'id': 1401801,\n",
       "  'job': 'Visual Effects Supervisor',\n",
       "  'name': 'David Stinnett'},\n",
       " {'credit_id': '54959db49251413af7002975',\n",
       "  'department': 'Visual Effects',\n",
       "  'gender': 0,\n",
       "  'id': 1401803,\n",
       "  'job': 'Visual Effects Supervisor',\n",
       "  'name': 'Guy Williams'},\n",
       " {'credit_id': '54959de4c3a3681153002750',\n",
       "  'department': 'Crew',\n",
       "  'gender': 0,\n",
       "  'id': 1401804,\n",
       "  'job': 'Stunt Coordinator',\n",
       "  'name': 'Stuart Thorp'},\n",
       " {'credit_id': '54959ef2c3a3680fc60027f2',\n",
       "  'department': 'Lighting',\n",
       "  'gender': 0,\n",
       "  'id': 1401805,\n",
       "  'job': 'Best Boy Electric',\n",
       "  'name': 'Giles Coburn'},\n",
       " {'credit_id': '54959f07c3a3680fc60027f9',\n",
       "  'department': 'Camera',\n",
       "  'gender': 2,\n",
       "  'id': 1401806,\n",
       "  'job': 'Still Photographer',\n",
       "  'name': 'Mark Fellman'},\n",
       " {'credit_id': '54959f47c3a3681153002774',\n",
       "  'department': 'Lighting',\n",
       "  'gender': 0,\n",
       "  'id': 1401807,\n",
       "  'job': 'Lighting Technician',\n",
       "  'name': 'Scott Sprague'},\n",
       " {'credit_id': '54959f8cc3a36831b8001df2',\n",
       "  'department': 'Visual Effects',\n",
       "  'gender': 0,\n",
       "  'id': 1401808,\n",
       "  'job': 'Animation Director',\n",
       "  'name': 'Jeremy Hollobon'},\n",
       " {'credit_id': '54959fa0c3a36831b8001dfb',\n",
       "  'department': 'Visual Effects',\n",
       "  'gender': 0,\n",
       "  'id': 1401809,\n",
       "  'job': 'Animation Director',\n",
       "  'name': 'Orlando Meunier'},\n",
       " {'credit_id': '54959fb6c3a3686af3003f54',\n",
       "  'department': 'Visual Effects',\n",
       "  'gender': 0,\n",
       "  'id': 1401810,\n",
       "  'job': 'Animation Director',\n",
       "  'name': 'Taisuke Tanimura'},\n",
       " {'credit_id': '54959fd2c3a36831b8001e02',\n",
       "  'department': 'Costume & Make-Up',\n",
       "  'gender': 0,\n",
       "  'id': 1401812,\n",
       "  'job': 'Set Costumer',\n",
       "  'name': 'Lilia Mishel Acevedo'},\n",
       " {'credit_id': '54959ff9c3a3686ae300440c',\n",
       "  'department': 'Costume & Make-Up',\n",
       "  'gender': 0,\n",
       "  'id': 1401814,\n",
       "  'job': 'Set Costumer',\n",
       "  'name': 'Alejandro M. Hernandez'},\n",
       " {'credit_id': '5495a0ddc3a3686ae10046fe',\n",
       "  'department': 'Editing',\n",
       "  'gender': 0,\n",
       "  'id': 1401815,\n",
       "  'job': 'Digital Intermediate',\n",
       "  'name': 'Marvin Hall'},\n",
       " {'credit_id': '5495a1f7c3a3686ae3004443',\n",
       "  'department': 'Production',\n",
       "  'gender': 0,\n",
       "  'id': 1401816,\n",
       "  'job': 'Publicist',\n",
       "  'name': 'Judy Alley'},\n",
       " {'credit_id': '5592b29fc3a36869d100002f',\n",
       "  'department': 'Crew',\n",
       "  'gender': 0,\n",
       "  'id': 1418381,\n",
       "  'job': 'CG Supervisor',\n",
       "  'name': 'Mike Perry'},\n",
       " {'credit_id': '5592b23a9251415df8001081',\n",
       "  'department': 'Crew',\n",
       "  'gender': 0,\n",
       "  'id': 1426854,\n",
       "  'job': 'CG Supervisor',\n",
       "  'name': 'Andrew Morley'},\n",
       " {'credit_id': '55491e1192514104c40002d8',\n",
       "  'department': 'Art',\n",
       "  'gender': 0,\n",
       "  'id': 1438901,\n",
       "  'job': 'Conceptual Design',\n",
       "  'name': 'Seth Engstrom'},\n",
       " {'credit_id': '5525d5809251417276002b06',\n",
       "  'department': 'Crew',\n",
       "  'gender': 0,\n",
       "  'id': 1447362,\n",
       "  'job': 'Visual Effects Art Director',\n",
       "  'name': 'Eric Oliver'},\n",
       " {'credit_id': '554427ca925141586500312a',\n",
       "  'department': 'Visual Effects',\n",
       "  'gender': 0,\n",
       "  'id': 1447503,\n",
       "  'job': 'Modeling',\n",
       "  'name': 'Matsune Suzuki'},\n",
       " {'credit_id': '551906889251415aab001c88',\n",
       "  'department': 'Art',\n",
       "  'gender': 0,\n",
       "  'id': 1447524,\n",
       "  'job': 'Art Department Manager',\n",
       "  'name': 'Paul Tobin'},\n",
       " {'credit_id': '5592af8492514152cc0010de',\n",
       "  'department': 'Costume & Make-Up',\n",
       "  'gender': 0,\n",
       "  'id': 1452643,\n",
       "  'job': 'Hairstylist',\n",
       "  'name': 'Roxane Griffin'},\n",
       " {'credit_id': '553d3c109251415852001318',\n",
       "  'department': 'Lighting',\n",
       "  'gender': 0,\n",
       "  'id': 1453938,\n",
       "  'job': 'Lighting Artist',\n",
       "  'name': 'Arun Ram-Mohan'},\n",
       " {'credit_id': '5592af4692514152d5001355',\n",
       "  'department': 'Costume & Make-Up',\n",
       "  'gender': 0,\n",
       "  'id': 1457305,\n",
       "  'job': 'Makeup Artist',\n",
       "  'name': 'Georgia Lockhart-Adams'},\n",
       " {'credit_id': '5592b2eac3a36877470012a5',\n",
       "  'department': 'Crew',\n",
       "  'gender': 0,\n",
       "  'id': 1466035,\n",
       "  'job': 'CG Supervisor',\n",
       "  'name': 'Thrain Shadbolt'},\n",
       " {'credit_id': '5592b032c3a36877450015f1',\n",
       "  'department': 'Crew',\n",
       "  'gender': 0,\n",
       "  'id': 1483220,\n",
       "  'job': 'CG Supervisor',\n",
       "  'name': 'Brad Alexander'},\n",
       " {'credit_id': '5592b05592514152d80012f6',\n",
       "  'department': 'Crew',\n",
       "  'gender': 0,\n",
       "  'id': 1483221,\n",
       "  'job': 'CG Supervisor',\n",
       "  'name': 'Shadi Almassizadeh'},\n",
       " {'credit_id': '5592b090c3a36877570010b5',\n",
       "  'department': 'Crew',\n",
       "  'gender': 0,\n",
       "  'id': 1483222,\n",
       "  'job': 'CG Supervisor',\n",
       "  'name': 'Simon Clutterbuck'},\n",
       " {'credit_id': '5592b0dbc3a368774b00112c',\n",
       "  'department': 'Crew',\n",
       "  'gender': 0,\n",
       "  'id': 1483223,\n",
       "  'job': 'CG Supervisor',\n",
       "  'name': 'Graeme Demmocks'},\n",
       " {'credit_id': '5592b0fe92514152db0010c1',\n",
       "  'department': 'Crew',\n",
       "  'gender': 0,\n",
       "  'id': 1483224,\n",
       "  'job': 'CG Supervisor',\n",
       "  'name': 'Adrian Fernandes'},\n",
       " {'credit_id': '5592b11f9251415df8001059',\n",
       "  'department': 'Crew',\n",
       "  'gender': 0,\n",
       "  'id': 1483225,\n",
       "  'job': 'CG Supervisor',\n",
       "  'name': 'Mitch Gates'},\n",
       " {'credit_id': '5592b15dc3a3687745001645',\n",
       "  'department': 'Crew',\n",
       "  'gender': 0,\n",
       "  'id': 1483226,\n",
       "  'job': 'CG Supervisor',\n",
       "  'name': 'Jerry Kung'},\n",
       " {'credit_id': '5592b18e925141645a0004ae',\n",
       "  'department': 'Crew',\n",
       "  'gender': 0,\n",
       "  'id': 1483227,\n",
       "  'job': 'CG Supervisor',\n",
       "  'name': 'Andy Lomas'},\n",
       " {'credit_id': '5592b1bfc3a368775d0010e7',\n",
       "  'department': 'Crew',\n",
       "  'gender': 0,\n",
       "  'id': 1483228,\n",
       "  'job': 'CG Supervisor',\n",
       "  'name': 'Sebastian Marino'},\n",
       " {'credit_id': '5592b2049251415df8001078',\n",
       "  'department': 'Crew',\n",
       "  'gender': 0,\n",
       "  'id': 1483229,\n",
       "  'job': 'CG Supervisor',\n",
       "  'name': 'Matthias Menz'},\n",
       " {'credit_id': '5592b27b92514152d800136a',\n",
       "  'department': 'Crew',\n",
       "  'gender': 0,\n",
       "  'id': 1483230,\n",
       "  'job': 'CG Supervisor',\n",
       "  'name': 'Sergei Nevshupov'},\n",
       " {'credit_id': '5592b2c3c3a36869e800003c',\n",
       "  'department': 'Crew',\n",
       "  'gender': 0,\n",
       "  'id': 1483231,\n",
       "  'job': 'CG Supervisor',\n",
       "  'name': 'Philippe Rebours'},\n",
       " {'credit_id': '5592b317c3a36877470012af',\n",
       "  'department': 'Crew',\n",
       "  'gender': 0,\n",
       "  'id': 1483232,\n",
       "  'job': 'CG Supervisor',\n",
       "  'name': 'Michael Takarangi'},\n",
       " {'credit_id': '5592b345c3a36877470012bb',\n",
       "  'department': 'Crew',\n",
       "  'gender': 0,\n",
       "  'id': 1483233,\n",
       "  'job': 'CG Supervisor',\n",
       "  'name': 'David Weitzberg'},\n",
       " {'credit_id': '5592b37cc3a368775100113b',\n",
       "  'department': 'Crew',\n",
       "  'gender': 0,\n",
       "  'id': 1483234,\n",
       "  'job': 'CG Supervisor',\n",
       "  'name': 'Ben White'},\n",
       " {'credit_id': '573c8e2f9251413f5d000094',\n",
       "  'department': 'Crew',\n",
       "  'gender': 1,\n",
       "  'id': 1621932,\n",
       "  'job': 'Stunts',\n",
       "  'name': 'Min Windle'}]"
      ]
     },
     "execution_count": 116,
     "metadata": {},
     "output_type": "execute_result"
    }
   ],
   "source": [
    "df['crew'].iloc[0]"
   ]
  },
  {
   "cell_type": "code",
   "execution_count": 117,
   "metadata": {
    "ExecuteTime": {
     "end_time": "2018-10-25T17:05:07.441691Z",
     "start_time": "2018-10-25T17:05:07.415632Z"
    }
   },
   "outputs": [],
   "source": [
    "df['director_name'] = df['crew'].apply(get_director)\n",
    "del df['crew']"
   ]
  },
  {
   "cell_type": "markdown",
   "metadata": {
    "ExecuteTime": {
     "end_time": "2018-10-25T06:45:15.291189Z",
     "start_time": "2018-10-25T06:45:15.288462Z"
    }
   },
   "source": [
    "### Spoken languages"
   ]
  },
  {
   "cell_type": "code",
   "execution_count": 118,
   "metadata": {
    "ExecuteTime": {
     "end_time": "2018-10-25T17:05:07.918740Z",
     "start_time": "2018-10-25T17:05:07.912996Z"
    }
   },
   "outputs": [],
   "source": [
    "del df['spoken_languages']"
   ]
  },
  {
   "cell_type": "markdown",
   "metadata": {},
   "source": [
    "### Rescale"
   ]
  },
  {
   "cell_type": "code",
   "execution_count": 119,
   "metadata": {
    "ExecuteTime": {
     "end_time": "2018-10-25T17:05:08.395779Z",
     "start_time": "2018-10-25T17:05:08.391874Z"
    }
   },
   "outputs": [],
   "source": [
    "df.revenue = df.revenue/1e7"
   ]
  },
  {
   "cell_type": "markdown",
   "metadata": {},
   "source": [
    "## Visualizing"
   ]
  },
  {
   "cell_type": "code",
   "execution_count": 120,
   "metadata": {
    "ExecuteTime": {
     "end_time": "2018-10-25T17:05:08.750762Z",
     "start_time": "2018-10-25T17:05:08.724995Z"
    }
   },
   "outputs": [
    {
     "data": {
      "text/html": [
       "<div>\n",
       "<style scoped>\n",
       "    .dataframe tbody tr th:only-of-type {\n",
       "        vertical-align: middle;\n",
       "    }\n",
       "\n",
       "    .dataframe tbody tr th {\n",
       "        vertical-align: top;\n",
       "    }\n",
       "\n",
       "    .dataframe thead th {\n",
       "        text-align: right;\n",
       "    }\n",
       "</style>\n",
       "<table border=\"1\" class=\"dataframe\">\n",
       "  <thead>\n",
       "    <tr style=\"text-align: right;\">\n",
       "      <th></th>\n",
       "      <th>id</th>\n",
       "      <th>title_x</th>\n",
       "      <th>budget</th>\n",
       "      <th>genres</th>\n",
       "      <th>homepage</th>\n",
       "      <th>keywords</th>\n",
       "      <th>original_language</th>\n",
       "      <th>original_title</th>\n",
       "      <th>overview</th>\n",
       "      <th>popularity</th>\n",
       "      <th>...</th>\n",
       "      <th>status</th>\n",
       "      <th>tagline</th>\n",
       "      <th>title_y</th>\n",
       "      <th>vote_average</th>\n",
       "      <th>vote_count</th>\n",
       "      <th>release_year</th>\n",
       "      <th>production_country_1</th>\n",
       "      <th>production_country_2</th>\n",
       "      <th>number_of_cast</th>\n",
       "      <th>director_name</th>\n",
       "    </tr>\n",
       "  </thead>\n",
       "  <tbody>\n",
       "    <tr>\n",
       "      <th>0</th>\n",
       "      <td>19995</td>\n",
       "      <td>Avatar</td>\n",
       "      <td>237000000</td>\n",
       "      <td>Action|Adventure|Fantasy|Science Fiction</td>\n",
       "      <td>http://www.avatarmovie.com/</td>\n",
       "      <td>culture clash|future|space war|space colony|so...</td>\n",
       "      <td>en</td>\n",
       "      <td>Avatar</td>\n",
       "      <td>In the 22nd century, a paraplegic Marine is di...</td>\n",
       "      <td>150.437577</td>\n",
       "      <td>...</td>\n",
       "      <td>Released</td>\n",
       "      <td>Enter the World of Pandora.</td>\n",
       "      <td>Avatar</td>\n",
       "      <td>7.2</td>\n",
       "      <td>11800</td>\n",
       "      <td>2009.0</td>\n",
       "      <td>US</td>\n",
       "      <td>GB</td>\n",
       "      <td>83</td>\n",
       "      <td>James Cameron</td>\n",
       "    </tr>\n",
       "    <tr>\n",
       "      <th>1</th>\n",
       "      <td>285</td>\n",
       "      <td>Pirates of the Caribbean: At World's End</td>\n",
       "      <td>300000000</td>\n",
       "      <td>Adventure|Fantasy|Action</td>\n",
       "      <td>http://disney.go.com/disneypictures/pirates/</td>\n",
       "      <td>ocean|drug abuse|exotic island|east india trad...</td>\n",
       "      <td>en</td>\n",
       "      <td>Pirates of the Caribbean: At World's End</td>\n",
       "      <td>Captain Barbossa, long believed to be dead, ha...</td>\n",
       "      <td>139.082615</td>\n",
       "      <td>...</td>\n",
       "      <td>Released</td>\n",
       "      <td>At the end of the world, the adventure begins.</td>\n",
       "      <td>Pirates of the Caribbean: At World's End</td>\n",
       "      <td>6.9</td>\n",
       "      <td>4500</td>\n",
       "      <td>2007.0</td>\n",
       "      <td>US</td>\n",
       "      <td>NaN</td>\n",
       "      <td>34</td>\n",
       "      <td>Gore Verbinski</td>\n",
       "    </tr>\n",
       "    <tr>\n",
       "      <th>2</th>\n",
       "      <td>206647</td>\n",
       "      <td>Spectre</td>\n",
       "      <td>245000000</td>\n",
       "      <td>Action|Adventure|Crime</td>\n",
       "      <td>http://www.sonypictures.com/movies/spectre/</td>\n",
       "      <td>spy|based on novel|secret agent|sequel|mi6|bri...</td>\n",
       "      <td>en</td>\n",
       "      <td>Spectre</td>\n",
       "      <td>A cryptic message from Bond’s past sends him o...</td>\n",
       "      <td>107.376788</td>\n",
       "      <td>...</td>\n",
       "      <td>Released</td>\n",
       "      <td>A Plan No One Escapes</td>\n",
       "      <td>Spectre</td>\n",
       "      <td>6.3</td>\n",
       "      <td>4466</td>\n",
       "      <td>2015.0</td>\n",
       "      <td>GB</td>\n",
       "      <td>US</td>\n",
       "      <td>83</td>\n",
       "      <td>Sam Mendes</td>\n",
       "    </tr>\n",
       "    <tr>\n",
       "      <th>3</th>\n",
       "      <td>49026</td>\n",
       "      <td>The Dark Knight Rises</td>\n",
       "      <td>250000000</td>\n",
       "      <td>Action|Crime|Drama|Thriller</td>\n",
       "      <td>http://www.thedarkknightrises.com/</td>\n",
       "      <td>dc comics|crime fighter|terrorist|secret ident...</td>\n",
       "      <td>en</td>\n",
       "      <td>The Dark Knight Rises</td>\n",
       "      <td>Following the death of District Attorney Harve...</td>\n",
       "      <td>112.312950</td>\n",
       "      <td>...</td>\n",
       "      <td>Released</td>\n",
       "      <td>The Legend Ends</td>\n",
       "      <td>The Dark Knight Rises</td>\n",
       "      <td>7.6</td>\n",
       "      <td>9106</td>\n",
       "      <td>2012.0</td>\n",
       "      <td>US</td>\n",
       "      <td>NaN</td>\n",
       "      <td>158</td>\n",
       "      <td>Christopher Nolan</td>\n",
       "    </tr>\n",
       "    <tr>\n",
       "      <th>4</th>\n",
       "      <td>49529</td>\n",
       "      <td>John Carter</td>\n",
       "      <td>260000000</td>\n",
       "      <td>Action|Adventure|Science Fiction</td>\n",
       "      <td>http://movies.disney.com/john-carter</td>\n",
       "      <td>based on novel|mars|medallion|space travel|pri...</td>\n",
       "      <td>en</td>\n",
       "      <td>John Carter</td>\n",
       "      <td>John Carter is a war-weary, former military ca...</td>\n",
       "      <td>43.926995</td>\n",
       "      <td>...</td>\n",
       "      <td>Released</td>\n",
       "      <td>Lost in our world, found in another.</td>\n",
       "      <td>John Carter</td>\n",
       "      <td>6.1</td>\n",
       "      <td>2124</td>\n",
       "      <td>2012.0</td>\n",
       "      <td>US</td>\n",
       "      <td>NaN</td>\n",
       "      <td>27</td>\n",
       "      <td>Andrew Stanton</td>\n",
       "    </tr>\n",
       "  </tbody>\n",
       "</table>\n",
       "<p>5 rows × 23 columns</p>\n",
       "</div>"
      ],
      "text/plain": [
       "       id                                   title_x     budget  \\\n",
       "0   19995                                    Avatar  237000000   \n",
       "1     285  Pirates of the Caribbean: At World's End  300000000   \n",
       "2  206647                                   Spectre  245000000   \n",
       "3   49026                     The Dark Knight Rises  250000000   \n",
       "4   49529                               John Carter  260000000   \n",
       "\n",
       "                                     genres  \\\n",
       "0  Action|Adventure|Fantasy|Science Fiction   \n",
       "1                  Adventure|Fantasy|Action   \n",
       "2                    Action|Adventure|Crime   \n",
       "3               Action|Crime|Drama|Thriller   \n",
       "4          Action|Adventure|Science Fiction   \n",
       "\n",
       "                                       homepage  \\\n",
       "0                   http://www.avatarmovie.com/   \n",
       "1  http://disney.go.com/disneypictures/pirates/   \n",
       "2   http://www.sonypictures.com/movies/spectre/   \n",
       "3            http://www.thedarkknightrises.com/   \n",
       "4          http://movies.disney.com/john-carter   \n",
       "\n",
       "                                            keywords original_language  \\\n",
       "0  culture clash|future|space war|space colony|so...                en   \n",
       "1  ocean|drug abuse|exotic island|east india trad...                en   \n",
       "2  spy|based on novel|secret agent|sequel|mi6|bri...                en   \n",
       "3  dc comics|crime fighter|terrorist|secret ident...                en   \n",
       "4  based on novel|mars|medallion|space travel|pri...                en   \n",
       "\n",
       "                             original_title  \\\n",
       "0                                    Avatar   \n",
       "1  Pirates of the Caribbean: At World's End   \n",
       "2                                   Spectre   \n",
       "3                     The Dark Knight Rises   \n",
       "4                               John Carter   \n",
       "\n",
       "                                            overview  popularity  \\\n",
       "0  In the 22nd century, a paraplegic Marine is di...  150.437577   \n",
       "1  Captain Barbossa, long believed to be dead, ha...  139.082615   \n",
       "2  A cryptic message from Bond’s past sends him o...  107.376788   \n",
       "3  Following the death of District Attorney Harve...  112.312950   \n",
       "4  John Carter is a war-weary, former military ca...   43.926995   \n",
       "\n",
       "         ...            status  \\\n",
       "0        ...          Released   \n",
       "1        ...          Released   \n",
       "2        ...          Released   \n",
       "3        ...          Released   \n",
       "4        ...          Released   \n",
       "\n",
       "                                          tagline  \\\n",
       "0                     Enter the World of Pandora.   \n",
       "1  At the end of the world, the adventure begins.   \n",
       "2                           A Plan No One Escapes   \n",
       "3                                 The Legend Ends   \n",
       "4            Lost in our world, found in another.   \n",
       "\n",
       "                                    title_y vote_average vote_count  \\\n",
       "0                                    Avatar          7.2      11800   \n",
       "1  Pirates of the Caribbean: At World's End          6.9       4500   \n",
       "2                                   Spectre          6.3       4466   \n",
       "3                     The Dark Knight Rises          7.6       9106   \n",
       "4                               John Carter          6.1       2124   \n",
       "\n",
       "  release_year  production_country_1  production_country_2  number_of_cast  \\\n",
       "0       2009.0                    US                    GB              83   \n",
       "1       2007.0                    US                   NaN              34   \n",
       "2       2015.0                    GB                    US              83   \n",
       "3       2012.0                    US                   NaN             158   \n",
       "4       2012.0                    US                   NaN              27   \n",
       "\n",
       "       director_name  \n",
       "0      James Cameron  \n",
       "1     Gore Verbinski  \n",
       "2         Sam Mendes  \n",
       "3  Christopher Nolan  \n",
       "4     Andrew Stanton  \n",
       "\n",
       "[5 rows x 23 columns]"
      ]
     },
     "execution_count": 120,
     "metadata": {},
     "output_type": "execute_result"
    }
   ],
   "source": [
    "df.head()"
   ]
  },
  {
   "cell_type": "markdown",
   "metadata": {},
   "source": [
    "### Null values status"
   ]
  },
  {
   "cell_type": "code",
   "execution_count": 33,
   "metadata": {
    "ExecuteTime": {
     "end_time": "2018-10-25T16:50:43.047163Z",
     "start_time": "2018-10-25T16:50:42.614899Z"
    }
   },
   "outputs": [
    {
     "data": {
      "text/plain": [
       "<matplotlib.axes._subplots.AxesSubplot at 0x1a1d0c3b38>"
      ]
     },
     "execution_count": 33,
     "metadata": {},
     "output_type": "execute_result"
    },
    {
     "data": {
      "image/png": "[encoded data removed]",
      "text/plain": [
       "<Figure size 864x432 with 1 Axes>"
      ]
     },
     "metadata": {
      "needs_background": "light"
     },
     "output_type": "display_data"
    }
   ],
   "source": [
    "null_df = pd.DataFrame(columns=['col_name','null count','null percetage'])\n",
    "for col in df.columns:\n",
    "    null_count = df[col].isnull().sum()\n",
    "    null_percnt = null_count/len(df[col])\n",
    "    null_df.loc[col] = [col,null_count,null_percnt]\n",
    "    \n",
    "null_df = null_df.sort_values(by='null percetage',ascending=False)\n",
    "null_df[:10].plot(y='null percetage',x='col_name',kind='barh')"
   ]
  },
  {
   "cell_type": "markdown",
   "metadata": {},
   "source": [
    "### Budget"
   ]
  },
  {
   "cell_type": "code",
   "execution_count": 49,
   "metadata": {
    "ExecuteTime": {
     "end_time": "2018-10-25T17:01:54.101641Z",
     "start_time": "2018-10-25T17:01:53.446951Z"
    },
    "scrolled": true
   },
   "outputs": [
    {
     "data": {
      "text/plain": [
       "Text(0.5, 0, 'Budget (m$)')"
      ]
     },
     "execution_count": 49,
     "metadata": {},
     "output_type": "execute_result"
    },
    {
     "data": {
      "image/png": "[encoded data removed]",
      "text/plain": [
       "<Figure size 864x432 with 1 Axes>"
      ]
     },
     "metadata": {
      "needs_background": "light"
     },
     "output_type": "display_data"
    }
   ],
   "source": [
    "(df.budget).hist(bins=50,log=True)\n",
    "plt.title('log Budget Distribution')\n",
    "plt.xlabel('Budget (m$)')"
   ]
  },
  {
   "cell_type": "markdown",
   "metadata": {},
   "source": [
    "Film country production"
   ]
  },
  {
   "cell_type": "code",
   "execution_count": 42,
   "metadata": {
    "ExecuteTime": {
     "end_time": "2018-10-25T16:59:06.207196Z",
     "start_time": "2018-10-25T16:59:05.939573Z"
    },
    "scrolled": true
   },
   "outputs": [
    {
     "data": {
      "text/plain": [
       "<matplotlib.axes._subplots.AxesSubplot at 0x1a2300d240>"
      ]
     },
     "execution_count": 42,
     "metadata": {},
     "output_type": "execute_result"
    },
    {
     "data": {
      "image/png": "[encoded data removed]",
      "text/plain": [
       "<Figure size 864x432 with 1 Axes>"
      ]
     },
     "metadata": {
      "needs_background": "light"
     },
     "output_type": "display_data"
    }
   ],
   "source": [
    "all_country = pd.concat([df.production_country_1,df.production_country_2])\n",
    "all_country.value_counts()[:10].plot(kind='bar')"
   ]
  },
  {
   "cell_type": "markdown",
   "metadata": {},
   "source": [
    "Most of the film come from US"
   ]
  },
  {
   "cell_type": "markdown",
   "metadata": {},
   "source": [
    "### Revenue"
   ]
  },
  {
   "cell_type": "code",
   "execution_count": 123,
   "metadata": {
    "ExecuteTime": {
     "end_time": "2018-10-25T17:06:08.513093Z",
     "start_time": "2018-10-25T17:06:08.213335Z"
    },
    "scrolled": false
   },
   "outputs": [
    {
     "data": {
      "text/plain": [
       "<matplotlib.axes._subplots.AxesSubplot at 0x1a33233b70>"
      ]
     },
     "execution_count": 123,
     "metadata": {},
     "output_type": "execute_result"
    },
    {
     "data": {
      "image/png": "[encoded data removed]",
      "text/plain": [
       "<Figure size 864x432 with 1 Axes>"
      ]
     },
     "metadata": {
      "needs_background": "light"
     },
     "output_type": "display_data"
    }
   ],
   "source": [
    "df.revenue.hist(bins=20)"
   ]
  },
  {
   "cell_type": "markdown",
   "metadata": {},
   "source": [
    "It's suspicous that many movie has 0 revenue"
   ]
  },
  {
   "cell_type": "code",
   "execution_count": 129,
   "metadata": {
    "ExecuteTime": {
     "end_time": "2018-10-25T17:08:05.061145Z",
     "start_time": "2018-10-25T17:08:05.054915Z"
    }
   },
   "outputs": [],
   "source": [
    "df_revenue_none_zero = df[df.revenue>0]"
   ]
  },
  {
   "cell_type": "code",
   "execution_count": 130,
   "metadata": {
    "ExecuteTime": {
     "end_time": "2018-10-25T17:08:05.491332Z",
     "start_time": "2018-10-25T17:08:05.198917Z"
    }
   },
   "outputs": [
    {
     "data": {
      "text/plain": [
       "Text(0, 0.5, 'Revenue (m$)')"
      ]
     },
     "execution_count": 130,
     "metadata": {},
     "output_type": "execute_result"
    },
    {
     "data": {
      "image/png": "[encoded data removed]",
      "text/plain": [
       "<Figure size 864x432 with 1 Axes>"
      ]
     },
     "metadata": {
      "needs_background": "light"
     },
     "output_type": "display_data"
    }
   ],
   "source": [
    "\n",
    "plt.scatter(x=df_revenue_none_zero.number_of_cast,y=df_revenue_none_zero.revenue,alpha='.3')\n",
    "plt.xlabel('number of cast')\n",
    "plt.ylabel('Revenue (m$)')"
   ]
  },
  {
   "cell_type": "markdown",
   "metadata": {},
   "source": [
    "Some of revenue is really low, (a movie has 4$ revenue) \n",
    "\n",
    "We can't trust this attributes"
   ]
  },
  {
   "cell_type": "markdown",
   "metadata": {},
   "source": [
    "Let's look at how budget relate to revenue"
   ]
  },
  {
   "cell_type": "code",
   "execution_count": 133,
   "metadata": {
    "ExecuteTime": {
     "end_time": "2018-10-25T17:10:23.848798Z",
     "start_time": "2018-10-25T17:10:23.596291Z"
    }
   },
   "outputs": [
    {
     "ename": "AttributeError",
     "evalue": "Unknown property log",
     "output_type": "error",
     "traceback": [
      "\u001b[0;31m---------------------------------------------------------------------------\u001b[0m",
      "\u001b[0;31mAttributeError\u001b[0m                            Traceback (most recent call last)",
      "\u001b[0;32m<ipython-input-133-aa2447e7ceeb>\u001b[0m in \u001b[0;36m<module>\u001b[0;34m\u001b[0m\n\u001b[0;32m----> 1\u001b[0;31m \u001b[0mplt\u001b[0m\u001b[0;34m.\u001b[0m\u001b[0mscatter\u001b[0m\u001b[0;34m(\u001b[0m\u001b[0mx\u001b[0m\u001b[0;34m=\u001b[0m\u001b[0mdf_revenue_none_zero\u001b[0m\u001b[0;34m.\u001b[0m\u001b[0mbudget\u001b[0m\u001b[0;34m,\u001b[0m\u001b[0my\u001b[0m\u001b[0;34m=\u001b[0m\u001b[0mdf_revenue_none_zero\u001b[0m\u001b[0;34m.\u001b[0m\u001b[0mrevenue\u001b[0m\u001b[0;34m,\u001b[0m\u001b[0malpha\u001b[0m\u001b[0;34m=\u001b[0m\u001b[0;34m'.3'\u001b[0m\u001b[0;34m,\u001b[0m\u001b[0mlog\u001b[0m\u001b[0;34m=\u001b[0m\u001b[0;32mTrue\u001b[0m\u001b[0;34m)\u001b[0m\u001b[0;34m\u001b[0m\u001b[0m\n\u001b[0m\u001b[1;32m      2\u001b[0m \u001b[0mplt\u001b[0m\u001b[0;34m.\u001b[0m\u001b[0mxlabel\u001b[0m\u001b[0;34m(\u001b[0m\u001b[0;34m'Budget'\u001b[0m\u001b[0;34m)\u001b[0m\u001b[0;34m\u001b[0m\u001b[0m\n\u001b[1;32m      3\u001b[0m \u001b[0mplt\u001b[0m\u001b[0;34m.\u001b[0m\u001b[0mylabel\u001b[0m\u001b[0;34m(\u001b[0m\u001b[0;34m'Revenue (m$)'\u001b[0m\u001b[0;34m)\u001b[0m\u001b[0;34m\u001b[0m\u001b[0m\n",
      "\u001b[0;32m~/miniconda3/envs/dev/lib/python3.6/site-packages/matplotlib/pyplot.py\u001b[0m in \u001b[0;36mscatter\u001b[0;34m(x, y, s, c, marker, cmap, norm, vmin, vmax, alpha, linewidths, verts, edgecolors, data, **kwargs)\u001b[0m\n\u001b[1;32m   2791\u001b[0m         \u001b[0mx\u001b[0m\u001b[0;34m=\u001b[0m\u001b[0mx\u001b[0m\u001b[0;34m,\u001b[0m \u001b[0my\u001b[0m\u001b[0;34m=\u001b[0m\u001b[0my\u001b[0m\u001b[0;34m,\u001b[0m \u001b[0ms\u001b[0m\u001b[0;34m=\u001b[0m\u001b[0ms\u001b[0m\u001b[0;34m,\u001b[0m \u001b[0mc\u001b[0m\u001b[0;34m=\u001b[0m\u001b[0mc\u001b[0m\u001b[0;34m,\u001b[0m \u001b[0mmarker\u001b[0m\u001b[0;34m=\u001b[0m\u001b[0mmarker\u001b[0m\u001b[0;34m,\u001b[0m \u001b[0mcmap\u001b[0m\u001b[0;34m=\u001b[0m\u001b[0mcmap\u001b[0m\u001b[0;34m,\u001b[0m \u001b[0mnorm\u001b[0m\u001b[0;34m=\u001b[0m\u001b[0mnorm\u001b[0m\u001b[0;34m,\u001b[0m\u001b[0;34m\u001b[0m\u001b[0m\n\u001b[1;32m   2792\u001b[0m         \u001b[0mvmin\u001b[0m\u001b[0;34m=\u001b[0m\u001b[0mvmin\u001b[0m\u001b[0;34m,\u001b[0m \u001b[0mvmax\u001b[0m\u001b[0;34m=\u001b[0m\u001b[0mvmax\u001b[0m\u001b[0;34m,\u001b[0m \u001b[0malpha\u001b[0m\u001b[0;34m=\u001b[0m\u001b[0malpha\u001b[0m\u001b[0;34m,\u001b[0m \u001b[0mlinewidths\u001b[0m\u001b[0;34m=\u001b[0m\u001b[0mlinewidths\u001b[0m\u001b[0;34m,\u001b[0m\u001b[0;34m\u001b[0m\u001b[0m\n\u001b[0;32m-> 2793\u001b[0;31m         verts=verts, edgecolors=edgecolors, data=data, **kwargs)\n\u001b[0m\u001b[1;32m   2794\u001b[0m     \u001b[0msci\u001b[0m\u001b[0;34m(\u001b[0m\u001b[0m__ret\u001b[0m\u001b[0;34m)\u001b[0m\u001b[0;34m\u001b[0m\u001b[0m\n\u001b[1;32m   2795\u001b[0m     \u001b[0;32mreturn\u001b[0m \u001b[0m__ret\u001b[0m\u001b[0;34m\u001b[0m\u001b[0m\n",
      "\u001b[0;32m~/miniconda3/envs/dev/lib/python3.6/site-packages/matplotlib/__init__.py\u001b[0m in \u001b[0;36minner\u001b[0;34m(ax, data, *args, **kwargs)\u001b[0m\n\u001b[1;32m   1783\u001b[0m                         \u001b[0;34m\"the Matplotlib list!)\"\u001b[0m \u001b[0;34m%\u001b[0m \u001b[0;34m(\u001b[0m\u001b[0mlabel_namer\u001b[0m\u001b[0;34m,\u001b[0m \u001b[0mfunc\u001b[0m\u001b[0;34m.\u001b[0m\u001b[0m__name__\u001b[0m\u001b[0;34m)\u001b[0m\u001b[0;34m,\u001b[0m\u001b[0;34m\u001b[0m\u001b[0m\n\u001b[1;32m   1784\u001b[0m                         RuntimeWarning, stacklevel=2)\n\u001b[0;32m-> 1785\u001b[0;31m             \u001b[0;32mreturn\u001b[0m \u001b[0mfunc\u001b[0m\u001b[0;34m(\u001b[0m\u001b[0max\u001b[0m\u001b[0;34m,\u001b[0m \u001b[0;34m*\u001b[0m\u001b[0margs\u001b[0m\u001b[0;34m,\u001b[0m \u001b[0;34m**\u001b[0m\u001b[0mkwargs\u001b[0m\u001b[0;34m)\u001b[0m\u001b[0;34m\u001b[0m\u001b[0m\n\u001b[0m\u001b[1;32m   1786\u001b[0m \u001b[0;34m\u001b[0m\u001b[0m\n\u001b[1;32m   1787\u001b[0m         inner.__doc__ = _add_data_doc(inner.__doc__,\n",
      "\u001b[0;32m~/miniconda3/envs/dev/lib/python3.6/site-packages/matplotlib/axes/_axes.py\u001b[0m in \u001b[0;36mscatter\u001b[0;34m(self, x, y, s, c, marker, cmap, norm, vmin, vmax, alpha, linewidths, verts, edgecolors, **kwargs)\u001b[0m\n\u001b[1;32m   4276\u001b[0m                 )\n\u001b[1;32m   4277\u001b[0m         \u001b[0mcollection\u001b[0m\u001b[0;34m.\u001b[0m\u001b[0mset_transform\u001b[0m\u001b[0;34m(\u001b[0m\u001b[0mmtransforms\u001b[0m\u001b[0;34m.\u001b[0m\u001b[0mIdentityTransform\u001b[0m\u001b[0;34m(\u001b[0m\u001b[0;34m)\u001b[0m\u001b[0;34m)\u001b[0m\u001b[0;34m\u001b[0m\u001b[0m\n\u001b[0;32m-> 4278\u001b[0;31m         \u001b[0mcollection\u001b[0m\u001b[0;34m.\u001b[0m\u001b[0mupdate\u001b[0m\u001b[0;34m(\u001b[0m\u001b[0mkwargs\u001b[0m\u001b[0;34m)\u001b[0m\u001b[0;34m\u001b[0m\u001b[0m\n\u001b[0m\u001b[1;32m   4279\u001b[0m \u001b[0;34m\u001b[0m\u001b[0m\n\u001b[1;32m   4280\u001b[0m         \u001b[0;32mif\u001b[0m \u001b[0mcolors\u001b[0m \u001b[0;32mis\u001b[0m \u001b[0;32mNone\u001b[0m\u001b[0;34m:\u001b[0m\u001b[0;34m\u001b[0m\u001b[0m\n",
      "\u001b[0;32m~/miniconda3/envs/dev/lib/python3.6/site-packages/matplotlib/artist.py\u001b[0m in \u001b[0;36mupdate\u001b[0;34m(self, props)\u001b[0m\n\u001b[1;32m    914\u001b[0m \u001b[0;34m\u001b[0m\u001b[0m\n\u001b[1;32m    915\u001b[0m         \u001b[0;32mwith\u001b[0m \u001b[0mcbook\u001b[0m\u001b[0;34m.\u001b[0m\u001b[0m_setattr_cm\u001b[0m\u001b[0;34m(\u001b[0m\u001b[0mself\u001b[0m\u001b[0;34m,\u001b[0m \u001b[0meventson\u001b[0m\u001b[0;34m=\u001b[0m\u001b[0;32mFalse\u001b[0m\u001b[0;34m)\u001b[0m\u001b[0;34m:\u001b[0m\u001b[0;34m\u001b[0m\u001b[0m\n\u001b[0;32m--> 916\u001b[0;31m             \u001b[0mret\u001b[0m \u001b[0;34m=\u001b[0m \u001b[0;34m[\u001b[0m\u001b[0m_update_property\u001b[0m\u001b[0;34m(\u001b[0m\u001b[0mself\u001b[0m\u001b[0;34m,\u001b[0m \u001b[0mk\u001b[0m\u001b[0;34m,\u001b[0m \u001b[0mv\u001b[0m\u001b[0;34m)\u001b[0m \u001b[0;32mfor\u001b[0m \u001b[0mk\u001b[0m\u001b[0;34m,\u001b[0m \u001b[0mv\u001b[0m \u001b[0;32min\u001b[0m \u001b[0mprops\u001b[0m\u001b[0;34m.\u001b[0m\u001b[0mitems\u001b[0m\u001b[0;34m(\u001b[0m\u001b[0;34m)\u001b[0m\u001b[0;34m]\u001b[0m\u001b[0;34m\u001b[0m\u001b[0m\n\u001b[0m\u001b[1;32m    917\u001b[0m \u001b[0;34m\u001b[0m\u001b[0m\n\u001b[1;32m    918\u001b[0m         \u001b[0;32mif\u001b[0m \u001b[0mlen\u001b[0m\u001b[0;34m(\u001b[0m\u001b[0mret\u001b[0m\u001b[0;34m)\u001b[0m\u001b[0;34m:\u001b[0m\u001b[0;34m\u001b[0m\u001b[0m\n",
      "\u001b[0;32m~/miniconda3/envs/dev/lib/python3.6/site-packages/matplotlib/artist.py\u001b[0m in \u001b[0;36m<listcomp>\u001b[0;34m(.0)\u001b[0m\n\u001b[1;32m    914\u001b[0m \u001b[0;34m\u001b[0m\u001b[0m\n\u001b[1;32m    915\u001b[0m         \u001b[0;32mwith\u001b[0m \u001b[0mcbook\u001b[0m\u001b[0;34m.\u001b[0m\u001b[0m_setattr_cm\u001b[0m\u001b[0;34m(\u001b[0m\u001b[0mself\u001b[0m\u001b[0;34m,\u001b[0m \u001b[0meventson\u001b[0m\u001b[0;34m=\u001b[0m\u001b[0;32mFalse\u001b[0m\u001b[0;34m)\u001b[0m\u001b[0;34m:\u001b[0m\u001b[0;34m\u001b[0m\u001b[0m\n\u001b[0;32m--> 916\u001b[0;31m             \u001b[0mret\u001b[0m \u001b[0;34m=\u001b[0m \u001b[0;34m[\u001b[0m\u001b[0m_update_property\u001b[0m\u001b[0;34m(\u001b[0m\u001b[0mself\u001b[0m\u001b[0;34m,\u001b[0m \u001b[0mk\u001b[0m\u001b[0;34m,\u001b[0m \u001b[0mv\u001b[0m\u001b[0;34m)\u001b[0m \u001b[0;32mfor\u001b[0m \u001b[0mk\u001b[0m\u001b[0;34m,\u001b[0m \u001b[0mv\u001b[0m \u001b[0;32min\u001b[0m \u001b[0mprops\u001b[0m\u001b[0;34m.\u001b[0m\u001b[0mitems\u001b[0m\u001b[0;34m(\u001b[0m\u001b[0;34m)\u001b[0m\u001b[0;34m]\u001b[0m\u001b[0;34m\u001b[0m\u001b[0m\n\u001b[0m\u001b[1;32m    917\u001b[0m \u001b[0;34m\u001b[0m\u001b[0m\n\u001b[1;32m    918\u001b[0m         \u001b[0;32mif\u001b[0m \u001b[0mlen\u001b[0m\u001b[0;34m(\u001b[0m\u001b[0mret\u001b[0m\u001b[0;34m)\u001b[0m\u001b[0;34m:\u001b[0m\u001b[0;34m\u001b[0m\u001b[0m\n",
      "\u001b[0;32m~/miniconda3/envs/dev/lib/python3.6/site-packages/matplotlib/artist.py\u001b[0m in \u001b[0;36m_update_property\u001b[0;34m(self, k, v)\u001b[0m\n\u001b[1;32m    910\u001b[0m                 \u001b[0mfunc\u001b[0m \u001b[0;34m=\u001b[0m \u001b[0mgetattr\u001b[0m\u001b[0;34m(\u001b[0m\u001b[0mself\u001b[0m\u001b[0;34m,\u001b[0m \u001b[0;34m'set_'\u001b[0m \u001b[0;34m+\u001b[0m \u001b[0mk\u001b[0m\u001b[0;34m,\u001b[0m \u001b[0;32mNone\u001b[0m\u001b[0;34m)\u001b[0m\u001b[0;34m\u001b[0m\u001b[0m\n\u001b[1;32m    911\u001b[0m                 \u001b[0;32mif\u001b[0m \u001b[0;32mnot\u001b[0m \u001b[0mcallable\u001b[0m\u001b[0;34m(\u001b[0m\u001b[0mfunc\u001b[0m\u001b[0;34m)\u001b[0m\u001b[0;34m:\u001b[0m\u001b[0;34m\u001b[0m\u001b[0m\n\u001b[0;32m--> 912\u001b[0;31m                     \u001b[0;32mraise\u001b[0m \u001b[0mAttributeError\u001b[0m\u001b[0;34m(\u001b[0m\u001b[0;34m'Unknown property %s'\u001b[0m \u001b[0;34m%\u001b[0m \u001b[0mk\u001b[0m\u001b[0;34m)\u001b[0m\u001b[0;34m\u001b[0m\u001b[0m\n\u001b[0m\u001b[1;32m    913\u001b[0m                 \u001b[0;32mreturn\u001b[0m \u001b[0mfunc\u001b[0m\u001b[0;34m(\u001b[0m\u001b[0mv\u001b[0m\u001b[0;34m)\u001b[0m\u001b[0;34m\u001b[0m\u001b[0m\n\u001b[1;32m    914\u001b[0m \u001b[0;34m\u001b[0m\u001b[0m\n",
      "\u001b[0;31mAttributeError\u001b[0m: Unknown property log"
     ]
    },
    {
     "data": {
      "image/png": "[encoded data removed]",
      "text/plain": [
       "<Figure size 864x432 with 1 Axes>"
      ]
     },
     "metadata": {
      "needs_background": "light"
     },
     "output_type": "display_data"
    }
   ],
   "source": [
    "plt.scatter(x=df_revenue_none_zero.budget,y=df_revenue_none_zero.revenue,alpha='.3')\n",
    "plt.xlabel('Budget')\n",
    "plt.ylabel('Revenue (m$)')"
   ]
  },
  {
   "cell_type": "code",
   "execution_count": null,
   "metadata": {},
   "outputs": [],
   "source": []
  },
  {
   "cell_type": "code",
   "execution_count": null,
   "metadata": {},
   "outputs": [],
   "source": []
  },
  {
   "cell_type": "code",
   "execution_count": null,
   "metadata": {},
   "outputs": [],
   "source": []
  }
 ],
 "metadata": {
  "kernelspec": {
   "display_name": "Python 3",
   "language": "python",
   "name": "python3"
  },
  "language_info": {
   "codemirror_mode": {
    "name": "ipython",
    "version": 3
   },
   "file_extension": ".py",
   "mimetype": "text/x-python",
   "name": "python",
   "nbconvert_exporter": "python",
   "pygments_lexer": "ipython3",
   "version": "3.6.6"
  },
  "toc": {
   "base_numbering": 1,
   "nav_menu": {},
   "number_sections": true,
   "sideBar": true,
   "skip_h1_title": false,
   "title_cell": "Table of Contents",
   "title_sidebar": "Contents",
   "toc_cell": false,
   "toc_position": {
    "height": "calc(100% - 180px)",
    "left": "10px",
    "top": "150px",
    "width": "288px"
   },
   "toc_section_display": true,
   "toc_window_display": true
  }
 },
 "nbformat": 4,
 "nbformat_minor": 2
}
