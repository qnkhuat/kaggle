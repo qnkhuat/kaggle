{
 "cells": [
  {
   "cell_type": "markdown",
   "metadata": {
    "ExecuteTime": {
     "end_time": "2018-11-01T23:07:13.552729Z",
     "start_time": "2018-11-01T23:07:13.547764Z"
    }
   },
   "source": [
    "3. Create new data - date\n",
    "4. Data visualization\n",
    "5. Convert data\n",
    "6. Create Good CV\n",
    "7. Modeling"
   ]
  },
  {
   "cell_type": "markdown",
   "metadata": {
    "toc": true
   },
   "source": [
    "<h1>Table of Contents<span class=\"tocSkip\"></span></h1>\n",
    "<div class=\"toc\"><ul class=\"toc-item\"><li><span><a href=\"#Imports\" data-toc-modified-id=\"Imports-1\"><span class=\"toc-item-num\">1&nbsp;&nbsp;</span>Imports</a></span><ul class=\"toc-item\"><li><ul class=\"toc-item\"><li><span><a href=\"#Data-walkthrough\" data-toc-modified-id=\"Data-walkthrough-1.0.1\"><span class=\"toc-item-num\">1.0.1&nbsp;&nbsp;</span>Data walkthrough</a></span></li></ul></li></ul></li><li><span><a href=\"#Helpers-functions\" data-toc-modified-id=\"Helpers-functions-2\"><span class=\"toc-item-num\">2&nbsp;&nbsp;</span>Helpers functions</a></span></li><li><span><a href=\"#Create-data-from-date-columns\" data-toc-modified-id=\"Create-data-from-date-columns-3\"><span class=\"toc-item-num\">3&nbsp;&nbsp;</span>Create data from date columns</a></span></li><li><span><a href=\"#Convert-data-ready-for-modeling\" data-toc-modified-id=\"Convert-data-ready-for-modeling-4\"><span class=\"toc-item-num\">4&nbsp;&nbsp;</span>Convert data ready for modeling</a></span></li><li><span><a href=\"#Base-models\" data-toc-modified-id=\"Base-models-5\"><span class=\"toc-item-num\">5&nbsp;&nbsp;</span>Base models</a></span><ul class=\"toc-item\"><li><span><a href=\"#With-fatsai-lib\" data-toc-modified-id=\"With-fatsai-lib-5.1\"><span class=\"toc-item-num\">5.1&nbsp;&nbsp;</span>With fatsai lib</a></span></li></ul></li><li><span><a href=\"#Visualization\" data-toc-modified-id=\"Visualization-6\"><span class=\"toc-item-num\">6&nbsp;&nbsp;</span>Visualization</a></span><ul class=\"toc-item\"><li><span><a href=\"#Revenue\" data-toc-modified-id=\"Revenue-6.1\"><span class=\"toc-item-num\">6.1&nbsp;&nbsp;</span>Revenue</a></span></li><li><span><a href=\"#Skewness-and-Kutorsis\" data-toc-modified-id=\"Skewness-and-Kutorsis-6.2\"><span class=\"toc-item-num\">6.2&nbsp;&nbsp;</span>Skewness and Kutorsis</a></span><ul class=\"toc-item\"><li><ul class=\"toc-item\"><li><span><a href=\"#Skewness\" data-toc-modified-id=\"Skewness-6.2.0.1\"><span class=\"toc-item-num\">6.2.0.1&nbsp;&nbsp;</span>Skewness</a></span></li><li><span><a href=\"#Kurtosis\" data-toc-modified-id=\"Kurtosis-6.2.0.2\"><span class=\"toc-item-num\">6.2.0.2&nbsp;&nbsp;</span>Kurtosis</a></span></li></ul></li></ul></li><li><span><a href=\"#Date-vs-buy\" data-toc-modified-id=\"Date-vs-buy-6.3\"><span class=\"toc-item-num\">6.3&nbsp;&nbsp;</span>Date vs buy</a></span></li><li><span><a href=\"#Channelgrouping\" data-toc-modified-id=\"Channelgrouping-6.4\"><span class=\"toc-item-num\">6.4&nbsp;&nbsp;</span>Channelgrouping</a></span></li><li><span><a href=\"#Some-ids-columns\" data-toc-modified-id=\"Some-ids-columns-6.5\"><span class=\"toc-item-num\">6.5&nbsp;&nbsp;</span>Some ids columns</a></span></li></ul></li></ul></div>"
   ]
  },
  {
   "cell_type": "markdown",
   "metadata": {},
   "source": [
    "# Imports"
   ]
  },
  {
   "cell_type": "code",
   "execution_count": 97,
   "metadata": {
    "ExecuteTime": {
     "end_time": "2018-11-06T04:10:48.763807Z",
     "start_time": "2018-11-06T04:10:48.759240Z"
    }
   },
   "outputs": [],
   "source": [
    "import numpy as np\n",
    "import pandas as pd\n",
    "import matplotlib.pyplot as plt\n",
    "import seaborn as sns\n",
    "\n",
    "from sklearn.preprocessing import LabelEncoder\n",
    "from sklearn.ensemble import RandomForestRegressor as RFF\n",
    "\n",
    "from pprint import pprint\n",
    "import math\n",
    "\n",
    "from scipy.stats import kurtosis, skew"
   ]
  },
  {
   "cell_type": "code",
   "execution_count": 2,
   "metadata": {
    "ExecuteTime": {
     "end_time": "2018-11-06T03:08:44.974361Z",
     "start_time": "2018-11-06T03:08:44.970381Z"
    }
   },
   "outputs": [],
   "source": [
    "plt.rcParams[\"figure.figsize\"] = (15,6)"
   ]
  },
  {
   "cell_type": "code",
   "execution_count": 3,
   "metadata": {
    "ExecuteTime": {
     "end_time": "2018-11-06T03:08:46.160894Z",
     "start_time": "2018-11-06T03:08:45.784957Z"
    },
    "scrolled": false
   },
   "outputs": [],
   "source": [
    "import sys\n",
    "sys.path.append('..')\n",
    "\n",
    "from fastai.structured import *"
   ]
  },
  {
   "cell_type": "code",
   "execution_count": 4,
   "metadata": {
    "ExecuteTime": {
     "end_time": "2018-11-06T03:08:52.780830Z",
     "start_time": "2018-11-06T03:08:46.864515Z"
    }
   },
   "outputs": [],
   "source": [
    "df_raw = pd.read_csv('../data/train_.csv',nrows=None,\n",
    "                    dtype={'fullVisitorId': str},\n",
    "                    parse_dates=['date'])"
   ]
  },
  {
   "cell_type": "code",
   "execution_count": 5,
   "metadata": {
    "ExecuteTime": {
     "end_time": "2018-11-06T03:08:52.828488Z",
     "start_time": "2018-11-06T03:08:52.783309Z"
    }
   },
   "outputs": [
    {
     "data": {
      "text/html": [
       "<div>\n",
       "<style scoped>\n",
       "    .dataframe tbody tr th:only-of-type {\n",
       "        vertical-align: middle;\n",
       "    }\n",
       "\n",
       "    .dataframe tbody tr th {\n",
       "        vertical-align: top;\n",
       "    }\n",
       "\n",
       "    .dataframe thead th {\n",
       "        text-align: right;\n",
       "    }\n",
       "</style>\n",
       "<table border=\"1\" class=\"dataframe\">\n",
       "  <thead>\n",
       "    <tr style=\"text-align: right;\">\n",
       "      <th></th>\n",
       "      <th>Unnamed: 0</th>\n",
       "      <th>channelGrouping</th>\n",
       "      <th>date</th>\n",
       "      <th>fullVisitorId</th>\n",
       "      <th>sessionId</th>\n",
       "      <th>visitId</th>\n",
       "      <th>visitNumber</th>\n",
       "      <th>visitStartTime</th>\n",
       "      <th>device_browser</th>\n",
       "      <th>device_deviceCategory</th>\n",
       "      <th>...</th>\n",
       "      <th>totals_bounces</th>\n",
       "      <th>totals_hits</th>\n",
       "      <th>totals_newVisits</th>\n",
       "      <th>totals_pageviews</th>\n",
       "      <th>totals_transactionRevenue</th>\n",
       "      <th>trafficSource_isTrueDirect</th>\n",
       "      <th>trafficSource_keyword</th>\n",
       "      <th>trafficSource_medium</th>\n",
       "      <th>trafficSource_referralPath</th>\n",
       "      <th>trafficSource_source</th>\n",
       "    </tr>\n",
       "  </thead>\n",
       "  <tbody>\n",
       "    <tr>\n",
       "      <th>0</th>\n",
       "      <td>0</td>\n",
       "      <td>Organic Search</td>\n",
       "      <td>2016-09-02</td>\n",
       "      <td>1131660440785968503</td>\n",
       "      <td>1131660440785968503_1472830385</td>\n",
       "      <td>1472830385</td>\n",
       "      <td>1</td>\n",
       "      <td>1472830385</td>\n",
       "      <td>Chrome</td>\n",
       "      <td>desktop</td>\n",
       "      <td>...</td>\n",
       "      <td>1</td>\n",
       "      <td>1</td>\n",
       "      <td>1</td>\n",
       "      <td>1</td>\n",
       "      <td>0.0</td>\n",
       "      <td>False</td>\n",
       "      <td>NaN</td>\n",
       "      <td>organic</td>\n",
       "      <td>NaN</td>\n",
       "      <td>google</td>\n",
       "    </tr>\n",
       "    <tr>\n",
       "      <th>1</th>\n",
       "      <td>1</td>\n",
       "      <td>Organic Search</td>\n",
       "      <td>2016-09-02</td>\n",
       "      <td>377306020877927890</td>\n",
       "      <td>377306020877927890_1472880147</td>\n",
       "      <td>1472880147</td>\n",
       "      <td>1</td>\n",
       "      <td>1472880147</td>\n",
       "      <td>Firefox</td>\n",
       "      <td>desktop</td>\n",
       "      <td>...</td>\n",
       "      <td>1</td>\n",
       "      <td>1</td>\n",
       "      <td>1</td>\n",
       "      <td>1</td>\n",
       "      <td>0.0</td>\n",
       "      <td>False</td>\n",
       "      <td>NaN</td>\n",
       "      <td>organic</td>\n",
       "      <td>NaN</td>\n",
       "      <td>google</td>\n",
       "    </tr>\n",
       "    <tr>\n",
       "      <th>2</th>\n",
       "      <td>2</td>\n",
       "      <td>Organic Search</td>\n",
       "      <td>2016-09-02</td>\n",
       "      <td>3895546263509774583</td>\n",
       "      <td>3895546263509774583_1472865386</td>\n",
       "      <td>1472865386</td>\n",
       "      <td>1</td>\n",
       "      <td>1472865386</td>\n",
       "      <td>Chrome</td>\n",
       "      <td>desktop</td>\n",
       "      <td>...</td>\n",
       "      <td>1</td>\n",
       "      <td>1</td>\n",
       "      <td>1</td>\n",
       "      <td>1</td>\n",
       "      <td>0.0</td>\n",
       "      <td>False</td>\n",
       "      <td>NaN</td>\n",
       "      <td>organic</td>\n",
       "      <td>NaN</td>\n",
       "      <td>google</td>\n",
       "    </tr>\n",
       "    <tr>\n",
       "      <th>3</th>\n",
       "      <td>3</td>\n",
       "      <td>Organic Search</td>\n",
       "      <td>2016-09-02</td>\n",
       "      <td>4763447161404445595</td>\n",
       "      <td>4763447161404445595_1472881213</td>\n",
       "      <td>1472881213</td>\n",
       "      <td>1</td>\n",
       "      <td>1472881213</td>\n",
       "      <td>UC Browser</td>\n",
       "      <td>desktop</td>\n",
       "      <td>...</td>\n",
       "      <td>1</td>\n",
       "      <td>1</td>\n",
       "      <td>1</td>\n",
       "      <td>1</td>\n",
       "      <td>0.0</td>\n",
       "      <td>False</td>\n",
       "      <td>google + online</td>\n",
       "      <td>organic</td>\n",
       "      <td>NaN</td>\n",
       "      <td>google</td>\n",
       "    </tr>\n",
       "    <tr>\n",
       "      <th>4</th>\n",
       "      <td>4</td>\n",
       "      <td>Organic Search</td>\n",
       "      <td>2016-09-02</td>\n",
       "      <td>27294437909732085</td>\n",
       "      <td>27294437909732085_1472822600</td>\n",
       "      <td>1472822600</td>\n",
       "      <td>2</td>\n",
       "      <td>1472822600</td>\n",
       "      <td>Chrome</td>\n",
       "      <td>mobile</td>\n",
       "      <td>...</td>\n",
       "      <td>1</td>\n",
       "      <td>1</td>\n",
       "      <td>0</td>\n",
       "      <td>1</td>\n",
       "      <td>0.0</td>\n",
       "      <td>True</td>\n",
       "      <td>NaN</td>\n",
       "      <td>organic</td>\n",
       "      <td>NaN</td>\n",
       "      <td>google</td>\n",
       "    </tr>\n",
       "  </tbody>\n",
       "</table>\n",
       "<p>5 rows × 29 columns</p>\n",
       "</div>"
      ],
      "text/plain": [
       "   Unnamed: 0 channelGrouping       date        fullVisitorId  \\\n",
       "0           0  Organic Search 2016-09-02  1131660440785968503   \n",
       "1           1  Organic Search 2016-09-02   377306020877927890   \n",
       "2           2  Organic Search 2016-09-02  3895546263509774583   \n",
       "3           3  Organic Search 2016-09-02  4763447161404445595   \n",
       "4           4  Organic Search 2016-09-02    27294437909732085   \n",
       "\n",
       "                        sessionId     visitId  visitNumber  visitStartTime  \\\n",
       "0  1131660440785968503_1472830385  1472830385            1      1472830385   \n",
       "1   377306020877927890_1472880147  1472880147            1      1472880147   \n",
       "2  3895546263509774583_1472865386  1472865386            1      1472865386   \n",
       "3  4763447161404445595_1472881213  1472881213            1      1472881213   \n",
       "4    27294437909732085_1472822600  1472822600            2      1472822600   \n",
       "\n",
       "  device_browser device_deviceCategory          ...           totals_bounces  \\\n",
       "0         Chrome               desktop          ...                        1   \n",
       "1        Firefox               desktop          ...                        1   \n",
       "2         Chrome               desktop          ...                        1   \n",
       "3     UC Browser               desktop          ...                        1   \n",
       "4         Chrome                mobile          ...                        1   \n",
       "\n",
       "  totals_hits totals_newVisits totals_pageviews totals_transactionRevenue  \\\n",
       "0           1                1                1                       0.0   \n",
       "1           1                1                1                       0.0   \n",
       "2           1                1                1                       0.0   \n",
       "3           1                1                1                       0.0   \n",
       "4           1                0                1                       0.0   \n",
       "\n",
       "  trafficSource_isTrueDirect trafficSource_keyword trafficSource_medium  \\\n",
       "0                      False                   NaN              organic   \n",
       "1                      False                   NaN              organic   \n",
       "2                      False                   NaN              organic   \n",
       "3                      False       google + online              organic   \n",
       "4                       True                   NaN              organic   \n",
       "\n",
       "  trafficSource_referralPath  trafficSource_source  \n",
       "0                        NaN                google  \n",
       "1                        NaN                google  \n",
       "2                        NaN                google  \n",
       "3                        NaN                google  \n",
       "4                        NaN                google  \n",
       "\n",
       "[5 rows x 29 columns]"
      ]
     },
     "execution_count": 5,
     "metadata": {},
     "output_type": "execute_result"
    }
   ],
   "source": [
    "df_raw.head()"
   ]
  },
  {
   "cell_type": "code",
   "execution_count": 6,
   "metadata": {
    "ExecuteTime": {
     "end_time": "2018-11-06T03:08:52.834844Z",
     "start_time": "2018-11-06T03:08:52.830117Z"
    }
   },
   "outputs": [
    {
     "data": {
      "text/plain": [
       "Index(['Unnamed: 0', 'channelGrouping', 'date', 'fullVisitorId', 'sessionId',\n",
       "       'visitId', 'visitNumber', 'visitStartTime', 'device_browser',\n",
       "       'device_deviceCategory', 'device_isMobile', 'device_operatingSystem',\n",
       "       'geoNetwork_city', 'geoNetwork_continent', 'geoNetwork_country',\n",
       "       'geoNetwork_metro', 'geoNetwork_networkDomain', 'geoNetwork_region',\n",
       "       'geoNetwork_subContinent', 'totals_bounces', 'totals_hits',\n",
       "       'totals_newVisits', 'totals_pageviews', 'totals_transactionRevenue',\n",
       "       'trafficSource_isTrueDirect', 'trafficSource_keyword',\n",
       "       'trafficSource_medium', 'trafficSource_referralPath',\n",
       "       'trafficSource_source'],\n",
       "      dtype='object')"
      ]
     },
     "execution_count": 6,
     "metadata": {},
     "output_type": "execute_result"
    }
   ],
   "source": [
    "df_raw.columns"
   ]
  },
  {
   "cell_type": "code",
   "execution_count": 7,
   "metadata": {
    "ExecuteTime": {
     "end_time": "2018-11-06T03:08:52.859653Z",
     "start_time": "2018-11-06T03:08:52.837455Z"
    }
   },
   "outputs": [],
   "source": [
    "del df_raw['Unnamed: 0']"
   ]
  },
  {
   "cell_type": "code",
   "execution_count": 8,
   "metadata": {
    "ExecuteTime": {
     "end_time": "2018-11-06T03:08:56.152312Z",
     "start_time": "2018-11-06T03:08:56.146806Z"
    }
   },
   "outputs": [
    {
     "data": {
      "text/plain": [
       "(903653, 28)"
      ]
     },
     "execution_count": 8,
     "metadata": {},
     "output_type": "execute_result"
    }
   ],
   "source": [
    "df_raw.shape"
   ]
  },
  {
   "cell_type": "code",
   "execution_count": 9,
   "metadata": {
    "ExecuteTime": {
     "end_time": "2018-11-06T03:08:56.914781Z",
     "start_time": "2018-11-06T03:08:56.567360Z"
    }
   },
   "outputs": [
    {
     "data": {
      "text/plain": [
       "Index(['channelGrouping', 'date', 'fullVisitorId', 'sessionId', 'visitId',\n",
       "       'visitNumber', 'visitStartTime', 'device_browser',\n",
       "       'device_deviceCategory', 'device_isMobile', 'device_operatingSystem',\n",
       "       'geoNetwork_city', 'geoNetwork_continent', 'geoNetwork_country',\n",
       "       'geoNetwork_metro', 'geoNetwork_networkDomain', 'geoNetwork_region',\n",
       "       'geoNetwork_subContinent', 'totals_bounces', 'totals_hits',\n",
       "       'totals_newVisits', 'totals_pageviews', 'Revenue',\n",
       "       'trafficSource_isTrueDirect', 'trafficSource_keyword',\n",
       "       'trafficSource_medium', 'trafficSource_referralPath',\n",
       "       'trafficSource_source'],\n",
       "      dtype='object')"
      ]
     },
     "execution_count": 9,
     "metadata": {},
     "output_type": "execute_result"
    }
   ],
   "source": [
    "df_raw.rename(columns={'totals_transactionRevenue':'Revenue'},inplace=True)\n",
    "df_raw.columns"
   ]
  },
  {
   "cell_type": "markdown",
   "metadata": {},
   "source": [
    "### Data walkthrough"
   ]
  },
  {
   "cell_type": "code",
   "execution_count": 47,
   "metadata": {
    "ExecuteTime": {
     "end_time": "2018-11-05T15:08:16.361497Z",
     "start_time": "2018-11-05T15:08:16.340798Z"
    },
    "scrolled": false
   },
   "outputs": [
    {
     "data": {
      "text/html": [
       "<div>\n",
       "<style scoped>\n",
       "    .dataframe tbody tr th:only-of-type {\n",
       "        vertical-align: middle;\n",
       "    }\n",
       "\n",
       "    .dataframe tbody tr th {\n",
       "        vertical-align: top;\n",
       "    }\n",
       "\n",
       "    .dataframe thead th {\n",
       "        text-align: right;\n",
       "    }\n",
       "</style>\n",
       "<table border=\"1\" class=\"dataframe\">\n",
       "  <thead>\n",
       "    <tr style=\"text-align: right;\">\n",
       "      <th></th>\n",
       "      <th>channelGrouping</th>\n",
       "      <th>date</th>\n",
       "      <th>fullVisitorId</th>\n",
       "      <th>sessionId</th>\n",
       "      <th>visitId</th>\n",
       "      <th>visitNumber</th>\n",
       "      <th>visitStartTime</th>\n",
       "      <th>device_browser</th>\n",
       "      <th>device_deviceCategory</th>\n",
       "      <th>device_isMobile</th>\n",
       "      <th>...</th>\n",
       "      <th>totals_bounces</th>\n",
       "      <th>totals_hits</th>\n",
       "      <th>totals_newVisits</th>\n",
       "      <th>totals_pageviews</th>\n",
       "      <th>Revenue</th>\n",
       "      <th>trafficSource_isTrueDirect</th>\n",
       "      <th>trafficSource_keyword</th>\n",
       "      <th>trafficSource_medium</th>\n",
       "      <th>trafficSource_referralPath</th>\n",
       "      <th>trafficSource_source</th>\n",
       "    </tr>\n",
       "  </thead>\n",
       "  <tbody>\n",
       "    <tr>\n",
       "      <th>0</th>\n",
       "      <td>Organic Search</td>\n",
       "      <td>2016-09-02</td>\n",
       "      <td>1131660440785968503</td>\n",
       "      <td>1131660440785968503_1472830385</td>\n",
       "      <td>1472830385</td>\n",
       "      <td>1</td>\n",
       "      <td>1472830385</td>\n",
       "      <td>Chrome</td>\n",
       "      <td>desktop</td>\n",
       "      <td>False</td>\n",
       "      <td>...</td>\n",
       "      <td>1</td>\n",
       "      <td>1</td>\n",
       "      <td>1</td>\n",
       "      <td>1</td>\n",
       "      <td>0.0</td>\n",
       "      <td>False</td>\n",
       "      <td>NaN</td>\n",
       "      <td>organic</td>\n",
       "      <td>NaN</td>\n",
       "      <td>google</td>\n",
       "    </tr>\n",
       "    <tr>\n",
       "      <th>1</th>\n",
       "      <td>Organic Search</td>\n",
       "      <td>2016-09-02</td>\n",
       "      <td>377306020877927890</td>\n",
       "      <td>377306020877927890_1472880147</td>\n",
       "      <td>1472880147</td>\n",
       "      <td>1</td>\n",
       "      <td>1472880147</td>\n",
       "      <td>Firefox</td>\n",
       "      <td>desktop</td>\n",
       "      <td>False</td>\n",
       "      <td>...</td>\n",
       "      <td>1</td>\n",
       "      <td>1</td>\n",
       "      <td>1</td>\n",
       "      <td>1</td>\n",
       "      <td>0.0</td>\n",
       "      <td>False</td>\n",
       "      <td>NaN</td>\n",
       "      <td>organic</td>\n",
       "      <td>NaN</td>\n",
       "      <td>google</td>\n",
       "    </tr>\n",
       "    <tr>\n",
       "      <th>2</th>\n",
       "      <td>Organic Search</td>\n",
       "      <td>2016-09-02</td>\n",
       "      <td>3895546263509774583</td>\n",
       "      <td>3895546263509774583_1472865386</td>\n",
       "      <td>1472865386</td>\n",
       "      <td>1</td>\n",
       "      <td>1472865386</td>\n",
       "      <td>Chrome</td>\n",
       "      <td>desktop</td>\n",
       "      <td>False</td>\n",
       "      <td>...</td>\n",
       "      <td>1</td>\n",
       "      <td>1</td>\n",
       "      <td>1</td>\n",
       "      <td>1</td>\n",
       "      <td>0.0</td>\n",
       "      <td>False</td>\n",
       "      <td>NaN</td>\n",
       "      <td>organic</td>\n",
       "      <td>NaN</td>\n",
       "      <td>google</td>\n",
       "    </tr>\n",
       "    <tr>\n",
       "      <th>3</th>\n",
       "      <td>Organic Search</td>\n",
       "      <td>2016-09-02</td>\n",
       "      <td>4763447161404445595</td>\n",
       "      <td>4763447161404445595_1472881213</td>\n",
       "      <td>1472881213</td>\n",
       "      <td>1</td>\n",
       "      <td>1472881213</td>\n",
       "      <td>UC Browser</td>\n",
       "      <td>desktop</td>\n",
       "      <td>False</td>\n",
       "      <td>...</td>\n",
       "      <td>1</td>\n",
       "      <td>1</td>\n",
       "      <td>1</td>\n",
       "      <td>1</td>\n",
       "      <td>0.0</td>\n",
       "      <td>False</td>\n",
       "      <td>google + online</td>\n",
       "      <td>organic</td>\n",
       "      <td>NaN</td>\n",
       "      <td>google</td>\n",
       "    </tr>\n",
       "    <tr>\n",
       "      <th>4</th>\n",
       "      <td>Organic Search</td>\n",
       "      <td>2016-09-02</td>\n",
       "      <td>27294437909732085</td>\n",
       "      <td>27294437909732085_1472822600</td>\n",
       "      <td>1472822600</td>\n",
       "      <td>2</td>\n",
       "      <td>1472822600</td>\n",
       "      <td>Chrome</td>\n",
       "      <td>mobile</td>\n",
       "      <td>True</td>\n",
       "      <td>...</td>\n",
       "      <td>1</td>\n",
       "      <td>1</td>\n",
       "      <td>0</td>\n",
       "      <td>1</td>\n",
       "      <td>0.0</td>\n",
       "      <td>True</td>\n",
       "      <td>NaN</td>\n",
       "      <td>organic</td>\n",
       "      <td>NaN</td>\n",
       "      <td>google</td>\n",
       "    </tr>\n",
       "  </tbody>\n",
       "</table>\n",
       "<p>5 rows × 28 columns</p>\n",
       "</div>"
      ],
      "text/plain": [
       "  channelGrouping       date        fullVisitorId  \\\n",
       "0  Organic Search 2016-09-02  1131660440785968503   \n",
       "1  Organic Search 2016-09-02   377306020877927890   \n",
       "2  Organic Search 2016-09-02  3895546263509774583   \n",
       "3  Organic Search 2016-09-02  4763447161404445595   \n",
       "4  Organic Search 2016-09-02    27294437909732085   \n",
       "\n",
       "                        sessionId     visitId  visitNumber  visitStartTime  \\\n",
       "0  1131660440785968503_1472830385  1472830385            1      1472830385   \n",
       "1   377306020877927890_1472880147  1472880147            1      1472880147   \n",
       "2  3895546263509774583_1472865386  1472865386            1      1472865386   \n",
       "3  4763447161404445595_1472881213  1472881213            1      1472881213   \n",
       "4    27294437909732085_1472822600  1472822600            2      1472822600   \n",
       "\n",
       "  device_browser device_deviceCategory  device_isMobile          ...           \\\n",
       "0         Chrome               desktop            False          ...            \n",
       "1        Firefox               desktop            False          ...            \n",
       "2         Chrome               desktop            False          ...            \n",
       "3     UC Browser               desktop            False          ...            \n",
       "4         Chrome                mobile             True          ...            \n",
       "\n",
       "  totals_bounces totals_hits totals_newVisits totals_pageviews Revenue  \\\n",
       "0              1           1                1                1     0.0   \n",
       "1              1           1                1                1     0.0   \n",
       "2              1           1                1                1     0.0   \n",
       "3              1           1                1                1     0.0   \n",
       "4              1           1                0                1     0.0   \n",
       "\n",
       "  trafficSource_isTrueDirect trafficSource_keyword trafficSource_medium  \\\n",
       "0                      False                   NaN              organic   \n",
       "1                      False                   NaN              organic   \n",
       "2                      False                   NaN              organic   \n",
       "3                      False       google + online              organic   \n",
       "4                       True                   NaN              organic   \n",
       "\n",
       "   trafficSource_referralPath  trafficSource_source  \n",
       "0                         NaN                google  \n",
       "1                         NaN                google  \n",
       "2                         NaN                google  \n",
       "3                         NaN                google  \n",
       "4                         NaN                google  \n",
       "\n",
       "[5 rows x 28 columns]"
      ]
     },
     "execution_count": 47,
     "metadata": {},
     "output_type": "execute_result"
    }
   ],
   "source": [
    "df_raw.head()"
   ]
  },
  {
   "cell_type": "code",
   "execution_count": 48,
   "metadata": {
    "ExecuteTime": {
     "end_time": "2018-11-05T15:08:20.972792Z",
     "start_time": "2018-11-05T15:08:16.363025Z"
    },
    "scrolled": false
   },
   "outputs": [
    {
     "data": {
      "text/html": [
       "<div>\n",
       "<style scoped>\n",
       "    .dataframe tbody tr th:only-of-type {\n",
       "        vertical-align: middle;\n",
       "    }\n",
       "\n",
       "    .dataframe tbody tr th {\n",
       "        vertical-align: top;\n",
       "    }\n",
       "\n",
       "    .dataframe thead th {\n",
       "        text-align: right;\n",
       "    }\n",
       "</style>\n",
       "<table border=\"1\" class=\"dataframe\">\n",
       "  <thead>\n",
       "    <tr style=\"text-align: right;\">\n",
       "      <th></th>\n",
       "      <th>channelGrouping</th>\n",
       "      <th>date</th>\n",
       "      <th>fullVisitorId</th>\n",
       "      <th>sessionId</th>\n",
       "      <th>visitId</th>\n",
       "      <th>visitNumber</th>\n",
       "      <th>visitStartTime</th>\n",
       "      <th>device_browser</th>\n",
       "      <th>device_deviceCategory</th>\n",
       "      <th>device_isMobile</th>\n",
       "      <th>...</th>\n",
       "      <th>totals_bounces</th>\n",
       "      <th>totals_hits</th>\n",
       "      <th>totals_newVisits</th>\n",
       "      <th>totals_pageviews</th>\n",
       "      <th>Revenue</th>\n",
       "      <th>trafficSource_isTrueDirect</th>\n",
       "      <th>trafficSource_keyword</th>\n",
       "      <th>trafficSource_medium</th>\n",
       "      <th>trafficSource_referralPath</th>\n",
       "      <th>trafficSource_source</th>\n",
       "    </tr>\n",
       "  </thead>\n",
       "  <tbody>\n",
       "    <tr>\n",
       "      <th>count</th>\n",
       "      <td>903653</td>\n",
       "      <td>903653</td>\n",
       "      <td>903653</td>\n",
       "      <td>903653</td>\n",
       "      <td>9.036530e+05</td>\n",
       "      <td>903653.000000</td>\n",
       "      <td>9.036530e+05</td>\n",
       "      <td>903653</td>\n",
       "      <td>903653</td>\n",
       "      <td>903653</td>\n",
       "      <td>...</td>\n",
       "      <td>903653.000000</td>\n",
       "      <td>903653.000000</td>\n",
       "      <td>903653.000000</td>\n",
       "      <td>903653.000000</td>\n",
       "      <td>903653.000000</td>\n",
       "      <td>903653</td>\n",
       "      <td>34361</td>\n",
       "      <td>903653</td>\n",
       "      <td>330941</td>\n",
       "      <td>903653</td>\n",
       "    </tr>\n",
       "    <tr>\n",
       "      <th>unique</th>\n",
       "      <td>8</td>\n",
       "      <td>366</td>\n",
       "      <td>714167</td>\n",
       "      <td>902755</td>\n",
       "      <td>NaN</td>\n",
       "      <td>NaN</td>\n",
       "      <td>NaN</td>\n",
       "      <td>54</td>\n",
       "      <td>3</td>\n",
       "      <td>2</td>\n",
       "      <td>...</td>\n",
       "      <td>NaN</td>\n",
       "      <td>NaN</td>\n",
       "      <td>NaN</td>\n",
       "      <td>NaN</td>\n",
       "      <td>NaN</td>\n",
       "      <td>2</td>\n",
       "      <td>3658</td>\n",
       "      <td>7</td>\n",
       "      <td>1475</td>\n",
       "      <td>380</td>\n",
       "    </tr>\n",
       "    <tr>\n",
       "      <th>top</th>\n",
       "      <td>Organic Search</td>\n",
       "      <td>2016-11-28 00:00:00</td>\n",
       "      <td>1957458976293878100</td>\n",
       "      <td>8678456363788539010_1494399324</td>\n",
       "      <td>NaN</td>\n",
       "      <td>NaN</td>\n",
       "      <td>NaN</td>\n",
       "      <td>Chrome</td>\n",
       "      <td>desktop</td>\n",
       "      <td>False</td>\n",
       "      <td>...</td>\n",
       "      <td>NaN</td>\n",
       "      <td>NaN</td>\n",
       "      <td>NaN</td>\n",
       "      <td>NaN</td>\n",
       "      <td>NaN</td>\n",
       "      <td>False</td>\n",
       "      <td>6qEhsCssdK0z36ri</td>\n",
       "      <td>organic</td>\n",
       "      <td>/</td>\n",
       "      <td>google</td>\n",
       "    </tr>\n",
       "    <tr>\n",
       "      <th>freq</th>\n",
       "      <td>381561</td>\n",
       "      <td>4807</td>\n",
       "      <td>278</td>\n",
       "      <td>2</td>\n",
       "      <td>NaN</td>\n",
       "      <td>NaN</td>\n",
       "      <td>NaN</td>\n",
       "      <td>620364</td>\n",
       "      <td>664479</td>\n",
       "      <td>664530</td>\n",
       "      <td>...</td>\n",
       "      <td>NaN</td>\n",
       "      <td>NaN</td>\n",
       "      <td>NaN</td>\n",
       "      <td>NaN</td>\n",
       "      <td>NaN</td>\n",
       "      <td>629648</td>\n",
       "      <td>11503</td>\n",
       "      <td>381561</td>\n",
       "      <td>75523</td>\n",
       "      <td>400788</td>\n",
       "    </tr>\n",
       "    <tr>\n",
       "      <th>first</th>\n",
       "      <td>NaN</td>\n",
       "      <td>2016-08-01 00:00:00</td>\n",
       "      <td>NaN</td>\n",
       "      <td>NaN</td>\n",
       "      <td>NaN</td>\n",
       "      <td>NaN</td>\n",
       "      <td>NaN</td>\n",
       "      <td>NaN</td>\n",
       "      <td>NaN</td>\n",
       "      <td>NaN</td>\n",
       "      <td>...</td>\n",
       "      <td>NaN</td>\n",
       "      <td>NaN</td>\n",
       "      <td>NaN</td>\n",
       "      <td>NaN</td>\n",
       "      <td>NaN</td>\n",
       "      <td>NaN</td>\n",
       "      <td>NaN</td>\n",
       "      <td>NaN</td>\n",
       "      <td>NaN</td>\n",
       "      <td>NaN</td>\n",
       "    </tr>\n",
       "    <tr>\n",
       "      <th>last</th>\n",
       "      <td>NaN</td>\n",
       "      <td>2017-08-01 00:00:00</td>\n",
       "      <td>NaN</td>\n",
       "      <td>NaN</td>\n",
       "      <td>NaN</td>\n",
       "      <td>NaN</td>\n",
       "      <td>NaN</td>\n",
       "      <td>NaN</td>\n",
       "      <td>NaN</td>\n",
       "      <td>NaN</td>\n",
       "      <td>...</td>\n",
       "      <td>NaN</td>\n",
       "      <td>NaN</td>\n",
       "      <td>NaN</td>\n",
       "      <td>NaN</td>\n",
       "      <td>NaN</td>\n",
       "      <td>NaN</td>\n",
       "      <td>NaN</td>\n",
       "      <td>NaN</td>\n",
       "      <td>NaN</td>\n",
       "      <td>NaN</td>\n",
       "    </tr>\n",
       "    <tr>\n",
       "      <th>mean</th>\n",
       "      <td>NaN</td>\n",
       "      <td>NaN</td>\n",
       "      <td>NaN</td>\n",
       "      <td>NaN</td>\n",
       "      <td>1.485007e+09</td>\n",
       "      <td>2.264897</td>\n",
       "      <td>1.485007e+09</td>\n",
       "      <td>NaN</td>\n",
       "      <td>NaN</td>\n",
       "      <td>NaN</td>\n",
       "      <td>...</td>\n",
       "      <td>0.498676</td>\n",
       "      <td>4.596538</td>\n",
       "      <td>0.778020</td>\n",
       "      <td>3.849338</td>\n",
       "      <td>0.227118</td>\n",
       "      <td>NaN</td>\n",
       "      <td>NaN</td>\n",
       "      <td>NaN</td>\n",
       "      <td>NaN</td>\n",
       "      <td>NaN</td>\n",
       "    </tr>\n",
       "    <tr>\n",
       "      <th>std</th>\n",
       "      <td>NaN</td>\n",
       "      <td>NaN</td>\n",
       "      <td>NaN</td>\n",
       "      <td>NaN</td>\n",
       "      <td>9.022124e+06</td>\n",
       "      <td>9.283735</td>\n",
       "      <td>9.022124e+06</td>\n",
       "      <td>NaN</td>\n",
       "      <td>NaN</td>\n",
       "      <td>NaN</td>\n",
       "      <td>...</td>\n",
       "      <td>0.499999</td>\n",
       "      <td>9.641437</td>\n",
       "      <td>0.415578</td>\n",
       "      <td>7.025002</td>\n",
       "      <td>2.003710</td>\n",
       "      <td>NaN</td>\n",
       "      <td>NaN</td>\n",
       "      <td>NaN</td>\n",
       "      <td>NaN</td>\n",
       "      <td>NaN</td>\n",
       "    </tr>\n",
       "    <tr>\n",
       "      <th>min</th>\n",
       "      <td>NaN</td>\n",
       "      <td>NaN</td>\n",
       "      <td>NaN</td>\n",
       "      <td>NaN</td>\n",
       "      <td>1.470035e+09</td>\n",
       "      <td>1.000000</td>\n",
       "      <td>1.470035e+09</td>\n",
       "      <td>NaN</td>\n",
       "      <td>NaN</td>\n",
       "      <td>NaN</td>\n",
       "      <td>...</td>\n",
       "      <td>0.000000</td>\n",
       "      <td>1.000000</td>\n",
       "      <td>0.000000</td>\n",
       "      <td>0.000000</td>\n",
       "      <td>0.000000</td>\n",
       "      <td>NaN</td>\n",
       "      <td>NaN</td>\n",
       "      <td>NaN</td>\n",
       "      <td>NaN</td>\n",
       "      <td>NaN</td>\n",
       "    </tr>\n",
       "    <tr>\n",
       "      <th>25%</th>\n",
       "      <td>NaN</td>\n",
       "      <td>NaN</td>\n",
       "      <td>NaN</td>\n",
       "      <td>NaN</td>\n",
       "      <td>1.477561e+09</td>\n",
       "      <td>1.000000</td>\n",
       "      <td>1.477561e+09</td>\n",
       "      <td>NaN</td>\n",
       "      <td>NaN</td>\n",
       "      <td>NaN</td>\n",
       "      <td>...</td>\n",
       "      <td>0.000000</td>\n",
       "      <td>1.000000</td>\n",
       "      <td>1.000000</td>\n",
       "      <td>1.000000</td>\n",
       "      <td>0.000000</td>\n",
       "      <td>NaN</td>\n",
       "      <td>NaN</td>\n",
       "      <td>NaN</td>\n",
       "      <td>NaN</td>\n",
       "      <td>NaN</td>\n",
       "    </tr>\n",
       "    <tr>\n",
       "      <th>50%</th>\n",
       "      <td>NaN</td>\n",
       "      <td>NaN</td>\n",
       "      <td>NaN</td>\n",
       "      <td>NaN</td>\n",
       "      <td>1.483949e+09</td>\n",
       "      <td>1.000000</td>\n",
       "      <td>1.483949e+09</td>\n",
       "      <td>NaN</td>\n",
       "      <td>NaN</td>\n",
       "      <td>NaN</td>\n",
       "      <td>...</td>\n",
       "      <td>0.000000</td>\n",
       "      <td>2.000000</td>\n",
       "      <td>1.000000</td>\n",
       "      <td>1.000000</td>\n",
       "      <td>0.000000</td>\n",
       "      <td>NaN</td>\n",
       "      <td>NaN</td>\n",
       "      <td>NaN</td>\n",
       "      <td>NaN</td>\n",
       "      <td>NaN</td>\n",
       "    </tr>\n",
       "    <tr>\n",
       "      <th>75%</th>\n",
       "      <td>NaN</td>\n",
       "      <td>NaN</td>\n",
       "      <td>NaN</td>\n",
       "      <td>NaN</td>\n",
       "      <td>1.492759e+09</td>\n",
       "      <td>1.000000</td>\n",
       "      <td>1.492759e+09</td>\n",
       "      <td>NaN</td>\n",
       "      <td>NaN</td>\n",
       "      <td>NaN</td>\n",
       "      <td>...</td>\n",
       "      <td>1.000000</td>\n",
       "      <td>4.000000</td>\n",
       "      <td>1.000000</td>\n",
       "      <td>4.000000</td>\n",
       "      <td>0.000000</td>\n",
       "      <td>NaN</td>\n",
       "      <td>NaN</td>\n",
       "      <td>NaN</td>\n",
       "      <td>NaN</td>\n",
       "      <td>NaN</td>\n",
       "    </tr>\n",
       "    <tr>\n",
       "      <th>max</th>\n",
       "      <td>NaN</td>\n",
       "      <td>NaN</td>\n",
       "      <td>NaN</td>\n",
       "      <td>NaN</td>\n",
       "      <td>1.501657e+09</td>\n",
       "      <td>395.000000</td>\n",
       "      <td>1.501657e+09</td>\n",
       "      <td>NaN</td>\n",
       "      <td>NaN</td>\n",
       "      <td>NaN</td>\n",
       "      <td>...</td>\n",
       "      <td>1.000000</td>\n",
       "      <td>500.000000</td>\n",
       "      <td>1.000000</td>\n",
       "      <td>469.000000</td>\n",
       "      <td>23.864375</td>\n",
       "      <td>NaN</td>\n",
       "      <td>NaN</td>\n",
       "      <td>NaN</td>\n",
       "      <td>NaN</td>\n",
       "      <td>NaN</td>\n",
       "    </tr>\n",
       "  </tbody>\n",
       "</table>\n",
       "<p>13 rows × 28 columns</p>\n",
       "</div>"
      ],
      "text/plain": [
       "       channelGrouping                 date        fullVisitorId  \\\n",
       "count           903653               903653               903653   \n",
       "unique               8                  366               714167   \n",
       "top     Organic Search  2016-11-28 00:00:00  1957458976293878100   \n",
       "freq            381561                 4807                  278   \n",
       "first              NaN  2016-08-01 00:00:00                  NaN   \n",
       "last               NaN  2017-08-01 00:00:00                  NaN   \n",
       "mean               NaN                  NaN                  NaN   \n",
       "std                NaN                  NaN                  NaN   \n",
       "min                NaN                  NaN                  NaN   \n",
       "25%                NaN                  NaN                  NaN   \n",
       "50%                NaN                  NaN                  NaN   \n",
       "75%                NaN                  NaN                  NaN   \n",
       "max                NaN                  NaN                  NaN   \n",
       "\n",
       "                             sessionId       visitId    visitNumber  \\\n",
       "count                           903653  9.036530e+05  903653.000000   \n",
       "unique                          902755           NaN            NaN   \n",
       "top     8678456363788539010_1494399324           NaN            NaN   \n",
       "freq                                 2           NaN            NaN   \n",
       "first                              NaN           NaN            NaN   \n",
       "last                               NaN           NaN            NaN   \n",
       "mean                               NaN  1.485007e+09       2.264897   \n",
       "std                                NaN  9.022124e+06       9.283735   \n",
       "min                                NaN  1.470035e+09       1.000000   \n",
       "25%                                NaN  1.477561e+09       1.000000   \n",
       "50%                                NaN  1.483949e+09       1.000000   \n",
       "75%                                NaN  1.492759e+09       1.000000   \n",
       "max                                NaN  1.501657e+09     395.000000   \n",
       "\n",
       "        visitStartTime device_browser device_deviceCategory device_isMobile  \\\n",
       "count     9.036530e+05         903653                903653          903653   \n",
       "unique             NaN             54                     3               2   \n",
       "top                NaN         Chrome               desktop           False   \n",
       "freq               NaN         620364                664479          664530   \n",
       "first              NaN            NaN                   NaN             NaN   \n",
       "last               NaN            NaN                   NaN             NaN   \n",
       "mean      1.485007e+09            NaN                   NaN             NaN   \n",
       "std       9.022124e+06            NaN                   NaN             NaN   \n",
       "min       1.470035e+09            NaN                   NaN             NaN   \n",
       "25%       1.477561e+09            NaN                   NaN             NaN   \n",
       "50%       1.483949e+09            NaN                   NaN             NaN   \n",
       "75%       1.492759e+09            NaN                   NaN             NaN   \n",
       "max       1.501657e+09            NaN                   NaN             NaN   \n",
       "\n",
       "                ...          totals_bounces    totals_hits totals_newVisits  \\\n",
       "count           ...           903653.000000  903653.000000    903653.000000   \n",
       "unique          ...                     NaN            NaN              NaN   \n",
       "top             ...                     NaN            NaN              NaN   \n",
       "freq            ...                     NaN            NaN              NaN   \n",
       "first           ...                     NaN            NaN              NaN   \n",
       "last            ...                     NaN            NaN              NaN   \n",
       "mean            ...                0.498676       4.596538         0.778020   \n",
       "std             ...                0.499999       9.641437         0.415578   \n",
       "min             ...                0.000000       1.000000         0.000000   \n",
       "25%             ...                0.000000       1.000000         1.000000   \n",
       "50%             ...                0.000000       2.000000         1.000000   \n",
       "75%             ...                1.000000       4.000000         1.000000   \n",
       "max             ...                1.000000     500.000000         1.000000   \n",
       "\n",
       "       totals_pageviews        Revenue trafficSource_isTrueDirect  \\\n",
       "count     903653.000000  903653.000000                     903653   \n",
       "unique              NaN            NaN                          2   \n",
       "top                 NaN            NaN                      False   \n",
       "freq                NaN            NaN                     629648   \n",
       "first               NaN            NaN                        NaN   \n",
       "last                NaN            NaN                        NaN   \n",
       "mean           3.849338       0.227118                        NaN   \n",
       "std            7.025002       2.003710                        NaN   \n",
       "min            0.000000       0.000000                        NaN   \n",
       "25%            1.000000       0.000000                        NaN   \n",
       "50%            1.000000       0.000000                        NaN   \n",
       "75%            4.000000       0.000000                        NaN   \n",
       "max          469.000000      23.864375                        NaN   \n",
       "\n",
       "       trafficSource_keyword trafficSource_medium  trafficSource_referralPath  \\\n",
       "count                  34361               903653                      330941   \n",
       "unique                  3658                    7                        1475   \n",
       "top         6qEhsCssdK0z36ri              organic                           /   \n",
       "freq                   11503               381561                       75523   \n",
       "first                    NaN                  NaN                         NaN   \n",
       "last                     NaN                  NaN                         NaN   \n",
       "mean                     NaN                  NaN                         NaN   \n",
       "std                      NaN                  NaN                         NaN   \n",
       "min                      NaN                  NaN                         NaN   \n",
       "25%                      NaN                  NaN                         NaN   \n",
       "50%                      NaN                  NaN                         NaN   \n",
       "75%                      NaN                  NaN                         NaN   \n",
       "max                      NaN                  NaN                         NaN   \n",
       "\n",
       "        trafficSource_source  \n",
       "count                 903653  \n",
       "unique                   380  \n",
       "top                   google  \n",
       "freq                  400788  \n",
       "first                    NaN  \n",
       "last                     NaN  \n",
       "mean                     NaN  \n",
       "std                      NaN  \n",
       "min                      NaN  \n",
       "25%                      NaN  \n",
       "50%                      NaN  \n",
       "75%                      NaN  \n",
       "max                      NaN  \n",
       "\n",
       "[13 rows x 28 columns]"
      ]
     },
     "execution_count": 48,
     "metadata": {},
     "output_type": "execute_result"
    }
   ],
   "source": [
    "df_raw.describe(include='all')"
   ]
  },
  {
   "cell_type": "code",
   "execution_count": 49,
   "metadata": {
    "ExecuteTime": {
     "end_time": "2018-11-05T15:08:21.778720Z",
     "start_time": "2018-11-05T15:08:20.974480Z"
    },
    "scrolled": false
   },
   "outputs": [
    {
     "data": {
      "text/plain": [
       "trafficSource_keyword         869292\n",
       "geoNetwork_metro              709995\n",
       "trafficSource_referralPath    572712\n",
       "geoNetwork_city               508229\n",
       "geoNetwork_region             508229\n",
       "geoNetwork_networkDomain      146034\n",
       "device_browser                     0\n",
       "device_isMobile                    0\n",
       "device_deviceCategory              0\n",
       "trafficSource_source               0\n",
       "device_operatingSystem             0\n",
       "visitNumber                        0\n",
       "visitId                            0\n",
       "sessionId                          0\n",
       "fullVisitorId                      0\n",
       "date                               0\n",
       "visitStartTime                     0\n",
       "geoNetwork_country                 0\n",
       "geoNetwork_continent               0\n",
       "geoNetwork_subContinent            0\n",
       "totals_bounces                     0\n",
       "totals_hits                        0\n",
       "totals_newVisits                   0\n",
       "totals_pageviews                   0\n",
       "Revenue                            0\n",
       "trafficSource_isTrueDirect         0\n",
       "trafficSource_medium               0\n",
       "channelGrouping                    0\n",
       "dtype: int64"
      ]
     },
     "execution_count": 49,
     "metadata": {},
     "output_type": "execute_result"
    }
   ],
   "source": [
    "df_raw.isnull().sum().sort_values(ascending=False)"
   ]
  },
  {
   "cell_type": "code",
   "execution_count": 10,
   "metadata": {
    "ExecuteTime": {
     "end_time": "2018-11-06T03:09:16.559107Z",
     "start_time": "2018-11-06T03:09:16.554537Z"
    }
   },
   "outputs": [
    {
     "data": {
      "text/plain": [
       "(903653, 28)"
      ]
     },
     "execution_count": 10,
     "metadata": {},
     "output_type": "execute_result"
    }
   ],
   "source": [
    "df_raw.shape"
   ]
  },
  {
   "cell_type": "markdown",
   "metadata": {},
   "source": [
    "# Helpers functions"
   ]
  },
  {
   "cell_type": "code",
   "execution_count": 50,
   "metadata": {
    "ExecuteTime": {
     "end_time": "2018-11-05T15:08:21.786059Z",
     "start_time": "2018-11-05T15:08:21.780818Z"
    }
   },
   "outputs": [],
   "source": [
    "def rmse(x,y): \n",
    "    return math.sqrt(((x-y)**2).mean())\n",
    "\n",
    "def print_score(m):\n",
    "    res = {'rmse_train':rmse(m.predict(X_train), y_train), 'rmse_valid':rmse(m.predict(X_valid), y_valid),\n",
    "                'r2_train':m.score(X_train, y_train), 'r2_valid':m.score(X_valid, y_valid)}\n",
    "    if hasattr(m, 'oob_score_'): res['r2_oob']= m.oob_score_\n",
    "    pprint(res)"
   ]
  },
  {
   "cell_type": "code",
   "execution_count": 51,
   "metadata": {
    "ExecuteTime": {
     "end_time": "2018-11-05T15:08:21.791769Z",
     "start_time": "2018-11-05T15:08:21.788030Z"
    }
   },
   "outputs": [],
   "source": [
    "def base_model(oob_score=True):\n",
    "    global clf\n",
    "    clf = RFF(n_jobs=-1,n_estimators=20,oob_score=oob_score)\n",
    "    clf.fit(X_train, y_train)\n",
    "    print_score(clf)"
   ]
  },
  {
   "cell_type": "code",
   "execution_count": 52,
   "metadata": {
    "ExecuteTime": {
     "end_time": "2018-11-05T15:08:21.799931Z",
     "start_time": "2018-11-05T15:08:21.793579Z"
    }
   },
   "outputs": [],
   "source": [
    "n_trn = 70000\n",
    "\n",
    "def split_vals(a,n) : return a[:n],a[n:]\n",
    "\n",
    "def split_data(df = df_raw,n_trn = 70000,to_keep=None):\n",
    "    global X_train,X_valid,y_train,y_valid\n",
    "    \n",
    "    X_train,X_valid = split_vals(df.drop('Revenue',axis=1), n_trn)\n",
    "    y_train,y_valid = split_vals(df['Revenue'], n_trn)\n",
    "    \n",
    "    "
   ]
  },
  {
   "cell_type": "code",
   "execution_count": 53,
   "metadata": {
    "ExecuteTime": {
     "end_time": "2018-11-05T15:08:21.805636Z",
     "start_time": "2018-11-05T15:08:21.801854Z"
    }
   },
   "outputs": [],
   "source": [
    "def plot_fi(n=30): \n",
    "    cols = list(df_raw.columns)\n",
    "    cols.remove('Revenue')\n",
    "    fi = pd.DataFrame({'cols':cols,'imp':clf.feature_importances_}).sort_values('imp',ascending=False).iloc[:n]\n",
    "    return fi.plot('cols', 'imp', 'barh', figsize=(12,7), legend=False)"
   ]
  },
  {
   "cell_type": "markdown",
   "metadata": {},
   "source": [
    "# Create data from date columns"
   ]
  },
  {
   "cell_type": "code",
   "execution_count": 16,
   "metadata": {
    "ExecuteTime": {
     "end_time": "2018-11-06T03:09:39.723460Z",
     "start_time": "2018-11-06T03:09:39.718075Z"
    }
   },
   "outputs": [],
   "source": [
    "fld = pd.to_datetime(df_raw['date'], infer_datetime_format=True)"
   ]
  },
  {
   "cell_type": "code",
   "execution_count": 17,
   "metadata": {
    "ExecuteTime": {
     "end_time": "2018-11-06T03:09:39.858905Z",
     "start_time": "2018-11-06T03:09:39.855492Z"
    }
   },
   "outputs": [],
   "source": [
    "attrs = ['Year', 'Month', 'Week', 'Day', 'Dayofweek', 'Dayofyear',\n",
    "        'Is_month_end', 'Is_month_start', 'Is_quarter_end', \n",
    "        'Is_quarter_start', 'Is_year_end', 'Is_year_start']"
   ]
  },
  {
   "cell_type": "code",
   "execution_count": 18,
   "metadata": {
    "ExecuteTime": {
     "end_time": "2018-11-06T03:09:40.455278Z",
     "start_time": "2018-11-06T03:09:40.024412Z"
    },
    "scrolled": true
   },
   "outputs": [],
   "source": [
    "for attr in attrs:\n",
    "    df_raw['Date_'+attr] = getattr(fld.dt,attr.lower())\n",
    "    "
   ]
  },
  {
   "cell_type": "code",
   "execution_count": 19,
   "metadata": {
    "ExecuteTime": {
     "end_time": "2018-11-06T03:09:40.460164Z",
     "start_time": "2018-11-06T03:09:40.457609Z"
    }
   },
   "outputs": [],
   "source": [
    "#del df_raw['date']\n",
    "del fld"
   ]
  },
  {
   "cell_type": "code",
   "execution_count": 20,
   "metadata": {
    "ExecuteTime": {
     "end_time": "2018-11-06T03:09:40.469383Z",
     "start_time": "2018-11-06T03:09:40.462275Z"
    }
   },
   "outputs": [
    {
     "data": {
      "text/plain": [
       "Index(['channelGrouping', 'date', 'fullVisitorId', 'sessionId', 'visitId',\n",
       "       'visitNumber', 'visitStartTime', 'device_browser',\n",
       "       'device_deviceCategory', 'device_isMobile', 'device_operatingSystem',\n",
       "       'geoNetwork_city', 'geoNetwork_continent', 'geoNetwork_country',\n",
       "       'geoNetwork_metro', 'geoNetwork_networkDomain', 'geoNetwork_region',\n",
       "       'geoNetwork_subContinent', 'totals_bounces', 'totals_hits',\n",
       "       'totals_newVisits', 'totals_pageviews', 'Revenue',\n",
       "       'trafficSource_isTrueDirect', 'trafficSource_keyword',\n",
       "       'trafficSource_medium', 'trafficSource_referralPath',\n",
       "       'trafficSource_source', 'is_bought', 'Date_Year', 'Date_Month',\n",
       "       'Date_Week', 'Date_Day', 'Date_Dayofweek', 'Date_Dayofyear',\n",
       "       'Date_Is_month_end', 'Date_Is_month_start', 'Date_Is_quarter_end',\n",
       "       'Date_Is_quarter_start', 'Date_Is_year_end', 'Date_Is_year_start'],\n",
       "      dtype='object')"
      ]
     },
     "execution_count": 20,
     "metadata": {},
     "output_type": "execute_result"
    }
   ],
   "source": [
    "df_raw.columns"
   ]
  },
  {
   "cell_type": "markdown",
   "metadata": {},
   "source": [
    "# Convert data ready for modeling"
   ]
  },
  {
   "cell_type": "code",
   "execution_count": 59,
   "metadata": {
    "ExecuteTime": {
     "end_time": "2018-11-05T15:08:24.283917Z",
     "start_time": "2018-11-05T15:08:22.312472Z"
    }
   },
   "outputs": [],
   "source": [
    "df = df_raw.copy()\n",
    "df.fillna('NA',inplace=True)"
   ]
  },
  {
   "cell_type": "code",
   "execution_count": 60,
   "metadata": {
    "ExecuteTime": {
     "end_time": "2018-11-05T15:08:24.290601Z",
     "start_time": "2018-11-05T15:08:24.286602Z"
    }
   },
   "outputs": [],
   "source": [
    "id_cols = ['fullVisitorId','sessionId','visitId']\n",
    "cat_cols = ['channelGrouping','device_browser','device_deviceCategory','device_operatingSystem','geoNetwork_city',\n",
    "           'geoNetwork_continent','geoNetwork_country','geoNetwork_metro','geoNetwork_networkDomain','geoNetwork_region',\n",
    "           'geoNetwork_subContinent','trafficSource_keyword','trafficSource_medium','trafficSource_referralPath',\n",
    "           'trafficSource_source']\n",
    "num_cols = ['visitNumber','visitNumber','totals_bounces','totals_hits','totals_newVisits','totals_pageviews']\n",
    "date_cols = ['date','visitStartTime']\n",
    "bool_cols = ['device_isMobile','trafficSource_isTrueDirect']"
   ]
  },
  {
   "cell_type": "code",
   "execution_count": 61,
   "metadata": {
    "ExecuteTime": {
     "end_time": "2018-11-05T15:08:29.130288Z",
     "start_time": "2018-11-05T15:08:24.292900Z"
    }
   },
   "outputs": [
    {
     "name": "stdout",
     "output_type": "stream",
     "text": [
      "channelGrouping\n",
      "device_browser\n",
      "device_deviceCategory\n",
      "device_operatingSystem\n",
      "geoNetwork_city\n",
      "geoNetwork_continent\n",
      "geoNetwork_country\n",
      "geoNetwork_metro\n",
      "geoNetwork_networkDomain\n",
      "geoNetwork_region\n",
      "geoNetwork_subContinent\n",
      "trafficSource_keyword\n",
      "trafficSource_medium\n",
      "trafficSource_referralPath\n",
      "trafficSource_source\n"
     ]
    }
   ],
   "source": [
    "\n",
    "for col in cat_cols:\n",
    "    print(col)\n",
    "    lb = LabelEncoder() \n",
    "    lb.fit(df[col])\n",
    "    df[col] = lb.transform(df[col])\n",
    "    \n",
    "    "
   ]
  },
  {
   "cell_type": "markdown",
   "metadata": {},
   "source": [
    "# Base models"
   ]
  },
  {
   "cell_type": "code",
   "execution_count": 25,
   "metadata": {
    "ExecuteTime": {
     "end_time": "2018-11-05T15:05:36.529999Z",
     "start_time": "2018-11-05T15:05:36.525128Z"
    }
   },
   "outputs": [
    {
     "data": {
      "text/plain": [
       "Index(['channelGrouping', 'date', 'fullVisitorId', 'sessionId', 'visitId',\n",
       "       'visitNumber', 'visitStartTime', 'device_browser',\n",
       "       'device_deviceCategory', 'device_isMobile', 'device_operatingSystem',\n",
       "       'geoNetwork_city', 'geoNetwork_continent', 'geoNetwork_country',\n",
       "       'geoNetwork_metro', 'geoNetwork_networkDomain', 'geoNetwork_region',\n",
       "       'geoNetwork_subContinent', 'totals_bounces', 'totals_hits',\n",
       "       'totals_newVisits', 'totals_pageviews', 'Revenue',\n",
       "       'trafficSource_isTrueDirect', 'trafficSource_keyword',\n",
       "       'trafficSource_medium', 'trafficSource_referralPath',\n",
       "       'trafficSource_source', 'Date_Year', 'Date_Month', 'Date_Week',\n",
       "       'Date_Day', 'Date_Dayofweek', 'Date_Dayofyear', 'Date_Is_month_end',\n",
       "       'Date_Is_month_start', 'Date_Is_quarter_end', 'Date_Is_quarter_start',\n",
       "       'Date_Is_year_end', 'Date_Is_year_start'],\n",
       "      dtype='object')"
      ]
     },
     "execution_count": 25,
     "metadata": {},
     "output_type": "execute_result"
    }
   ],
   "source": [
    "df.columns"
   ]
  },
  {
   "cell_type": "code",
   "execution_count": 26,
   "metadata": {
    "ExecuteTime": {
     "end_time": "2018-11-05T15:05:36.999810Z",
     "start_time": "2018-11-05T15:05:36.531922Z"
    },
    "scrolled": true
   },
   "outputs": [],
   "source": [
    "split_data(df)"
   ]
  },
  {
   "cell_type": "code",
   "execution_count": 27,
   "metadata": {
    "ExecuteTime": {
     "end_time": "2018-11-05T15:05:37.480613Z",
     "start_time": "2018-11-05T15:05:37.001581Z"
    },
    "scrolled": true
   },
   "outputs": [
    {
     "ename": "TypeError",
     "evalue": "float() argument must be a string or a number, not 'Timestamp'",
     "output_type": "error",
     "traceback": [
      "\u001b[0;31m---------------------------------------------------------------------------\u001b[0m",
      "\u001b[0;31mTypeError\u001b[0m                                 Traceback (most recent call last)",
      "\u001b[0;32m<ipython-input-27-211946fb1335>\u001b[0m in \u001b[0;36m<module>\u001b[0;34m\u001b[0m\n\u001b[0;32m----> 1\u001b[0;31m \u001b[0mbase_model\u001b[0m\u001b[0;34m(\u001b[0m\u001b[0;34m)\u001b[0m\u001b[0;34m\u001b[0m\u001b[0;34m\u001b[0m\u001b[0m\n\u001b[0m",
      "\u001b[0;32m<ipython-input-14-62fc2537d7a8>\u001b[0m in \u001b[0;36mbase_model\u001b[0;34m(oob_score)\u001b[0m\n\u001b[1;32m      2\u001b[0m     \u001b[0;32mglobal\u001b[0m \u001b[0mclf\u001b[0m\u001b[0;34m\u001b[0m\u001b[0;34m\u001b[0m\u001b[0m\n\u001b[1;32m      3\u001b[0m     \u001b[0mclf\u001b[0m \u001b[0;34m=\u001b[0m \u001b[0mRFF\u001b[0m\u001b[0;34m(\u001b[0m\u001b[0mn_jobs\u001b[0m\u001b[0;34m=\u001b[0m\u001b[0;34m-\u001b[0m\u001b[0;36m1\u001b[0m\u001b[0;34m,\u001b[0m\u001b[0mn_estimators\u001b[0m\u001b[0;34m=\u001b[0m\u001b[0;36m20\u001b[0m\u001b[0;34m,\u001b[0m\u001b[0moob_score\u001b[0m\u001b[0;34m=\u001b[0m\u001b[0moob_score\u001b[0m\u001b[0;34m)\u001b[0m\u001b[0;34m\u001b[0m\u001b[0;34m\u001b[0m\u001b[0m\n\u001b[0;32m----> 4\u001b[0;31m     \u001b[0mclf\u001b[0m\u001b[0;34m.\u001b[0m\u001b[0mfit\u001b[0m\u001b[0;34m(\u001b[0m\u001b[0mX_train\u001b[0m\u001b[0;34m,\u001b[0m \u001b[0my_train\u001b[0m\u001b[0;34m)\u001b[0m\u001b[0;34m\u001b[0m\u001b[0;34m\u001b[0m\u001b[0m\n\u001b[0m\u001b[1;32m      5\u001b[0m     \u001b[0mprint_score\u001b[0m\u001b[0;34m(\u001b[0m\u001b[0mclf\u001b[0m\u001b[0;34m)\u001b[0m\u001b[0;34m\u001b[0m\u001b[0;34m\u001b[0m\u001b[0m\n",
      "\u001b[0;32m~/miniconda2/envs/dev/lib/python3.6/site-packages/sklearn/ensemble/forest.py\u001b[0m in \u001b[0;36mfit\u001b[0;34m(self, X, y, sample_weight)\u001b[0m\n\u001b[1;32m    250\u001b[0m \u001b[0;34m\u001b[0m\u001b[0m\n\u001b[1;32m    251\u001b[0m         \u001b[0;31m# Validate or convert input data\u001b[0m\u001b[0;34m\u001b[0m\u001b[0;34m\u001b[0m\u001b[0;34m\u001b[0m\u001b[0m\n\u001b[0;32m--> 252\u001b[0;31m         \u001b[0mX\u001b[0m \u001b[0;34m=\u001b[0m \u001b[0mcheck_array\u001b[0m\u001b[0;34m(\u001b[0m\u001b[0mX\u001b[0m\u001b[0;34m,\u001b[0m \u001b[0maccept_sparse\u001b[0m\u001b[0;34m=\u001b[0m\u001b[0;34m\"csc\"\u001b[0m\u001b[0;34m,\u001b[0m \u001b[0mdtype\u001b[0m\u001b[0;34m=\u001b[0m\u001b[0mDTYPE\u001b[0m\u001b[0;34m)\u001b[0m\u001b[0;34m\u001b[0m\u001b[0;34m\u001b[0m\u001b[0m\n\u001b[0m\u001b[1;32m    253\u001b[0m         \u001b[0my\u001b[0m \u001b[0;34m=\u001b[0m \u001b[0mcheck_array\u001b[0m\u001b[0;34m(\u001b[0m\u001b[0my\u001b[0m\u001b[0;34m,\u001b[0m \u001b[0maccept_sparse\u001b[0m\u001b[0;34m=\u001b[0m\u001b[0;34m'csc'\u001b[0m\u001b[0;34m,\u001b[0m \u001b[0mensure_2d\u001b[0m\u001b[0;34m=\u001b[0m\u001b[0;32mFalse\u001b[0m\u001b[0;34m,\u001b[0m \u001b[0mdtype\u001b[0m\u001b[0;34m=\u001b[0m\u001b[0;32mNone\u001b[0m\u001b[0;34m)\u001b[0m\u001b[0;34m\u001b[0m\u001b[0;34m\u001b[0m\u001b[0m\n\u001b[1;32m    254\u001b[0m         \u001b[0;32mif\u001b[0m \u001b[0msample_weight\u001b[0m \u001b[0;32mis\u001b[0m \u001b[0;32mnot\u001b[0m \u001b[0;32mNone\u001b[0m\u001b[0;34m:\u001b[0m\u001b[0;34m\u001b[0m\u001b[0;34m\u001b[0m\u001b[0m\n",
      "\u001b[0;32m~/miniconda2/envs/dev/lib/python3.6/site-packages/sklearn/utils/validation.py\u001b[0m in \u001b[0;36mcheck_array\u001b[0;34m(array, accept_sparse, accept_large_sparse, dtype, order, copy, force_all_finite, ensure_2d, allow_nd, ensure_min_samples, ensure_min_features, warn_on_dtype, estimator)\u001b[0m\n\u001b[1;32m    520\u001b[0m             \u001b[0;32mtry\u001b[0m\u001b[0;34m:\u001b[0m\u001b[0;34m\u001b[0m\u001b[0;34m\u001b[0m\u001b[0m\n\u001b[1;32m    521\u001b[0m                 \u001b[0mwarnings\u001b[0m\u001b[0;34m.\u001b[0m\u001b[0msimplefilter\u001b[0m\u001b[0;34m(\u001b[0m\u001b[0;34m'error'\u001b[0m\u001b[0;34m,\u001b[0m \u001b[0mComplexWarning\u001b[0m\u001b[0;34m)\u001b[0m\u001b[0;34m\u001b[0m\u001b[0;34m\u001b[0m\u001b[0m\n\u001b[0;32m--> 522\u001b[0;31m                 \u001b[0marray\u001b[0m \u001b[0;34m=\u001b[0m \u001b[0mnp\u001b[0m\u001b[0;34m.\u001b[0m\u001b[0masarray\u001b[0m\u001b[0;34m(\u001b[0m\u001b[0marray\u001b[0m\u001b[0;34m,\u001b[0m \u001b[0mdtype\u001b[0m\u001b[0;34m=\u001b[0m\u001b[0mdtype\u001b[0m\u001b[0;34m,\u001b[0m \u001b[0morder\u001b[0m\u001b[0;34m=\u001b[0m\u001b[0morder\u001b[0m\u001b[0;34m)\u001b[0m\u001b[0;34m\u001b[0m\u001b[0;34m\u001b[0m\u001b[0m\n\u001b[0m\u001b[1;32m    523\u001b[0m             \u001b[0;32mexcept\u001b[0m \u001b[0mComplexWarning\u001b[0m\u001b[0;34m:\u001b[0m\u001b[0;34m\u001b[0m\u001b[0;34m\u001b[0m\u001b[0m\n\u001b[1;32m    524\u001b[0m                 raise ValueError(\"Complex data not supported\\n\"\n",
      "\u001b[0;32m~/miniconda2/envs/dev/lib/python3.6/site-packages/numpy/core/numeric.py\u001b[0m in \u001b[0;36masarray\u001b[0;34m(a, dtype, order)\u001b[0m\n\u001b[1;32m    499\u001b[0m \u001b[0;34m\u001b[0m\u001b[0m\n\u001b[1;32m    500\u001b[0m     \"\"\"\n\u001b[0;32m--> 501\u001b[0;31m     \u001b[0;32mreturn\u001b[0m \u001b[0marray\u001b[0m\u001b[0;34m(\u001b[0m\u001b[0ma\u001b[0m\u001b[0;34m,\u001b[0m \u001b[0mdtype\u001b[0m\u001b[0;34m,\u001b[0m \u001b[0mcopy\u001b[0m\u001b[0;34m=\u001b[0m\u001b[0;32mFalse\u001b[0m\u001b[0;34m,\u001b[0m \u001b[0morder\u001b[0m\u001b[0;34m=\u001b[0m\u001b[0morder\u001b[0m\u001b[0;34m)\u001b[0m\u001b[0;34m\u001b[0m\u001b[0;34m\u001b[0m\u001b[0m\n\u001b[0m\u001b[1;32m    502\u001b[0m \u001b[0;34m\u001b[0m\u001b[0m\n\u001b[1;32m    503\u001b[0m \u001b[0;34m\u001b[0m\u001b[0m\n",
      "\u001b[0;31mTypeError\u001b[0m: float() argument must be a string or a number, not 'Timestamp'"
     ]
    }
   ],
   "source": [
    "base_model()"
   ]
  },
  {
   "cell_type": "code",
   "execution_count": null,
   "metadata": {
    "ExecuteTime": {
     "end_time": "2018-11-05T15:05:37.484356Z",
     "start_time": "2018-11-05T15:05:15.531Z"
    }
   },
   "outputs": [],
   "source": [
    "plot_fi(n=30)"
   ]
  },
  {
   "cell_type": "markdown",
   "metadata": {
    "ExecuteTime": {
     "end_time": "2018-11-02T06:39:49.221648Z",
     "start_time": "2018-11-02T06:39:49.219212Z"
    }
   },
   "source": [
    "## With fatsai lib"
   ]
  },
  {
   "cell_type": "code",
   "execution_count": null,
   "metadata": {
    "ExecuteTime": {
     "end_time": "2018-11-05T15:05:37.486184Z",
     "start_time": "2018-11-05T15:05:15.533Z"
    }
   },
   "outputs": [],
   "source": [
    "df_raw.columns"
   ]
  },
  {
   "cell_type": "code",
   "execution_count": null,
   "metadata": {
    "ExecuteTime": {
     "end_time": "2018-11-05T15:05:37.488036Z",
     "start_time": "2018-11-05T15:05:15.535Z"
    }
   },
   "outputs": [],
   "source": [
    "add_datepart(df_raw,'date')"
   ]
  },
  {
   "cell_type": "code",
   "execution_count": null,
   "metadata": {
    "ExecuteTime": {
     "end_time": "2018-11-05T15:05:37.489500Z",
     "start_time": "2018-11-05T15:05:15.537Z"
    }
   },
   "outputs": [],
   "source": [
    "train_cats(df_raw)"
   ]
  },
  {
   "cell_type": "code",
   "execution_count": null,
   "metadata": {
    "ExecuteTime": {
     "end_time": "2018-11-05T15:05:37.491177Z",
     "start_time": "2018-11-05T15:05:15.538Z"
    },
    "scrolled": true
   },
   "outputs": [],
   "source": [
    "df_trn ,y_trn, nas = proc_df(df_raw,'totals_transactionRevenue')"
   ]
  },
  {
   "cell_type": "code",
   "execution_count": null,
   "metadata": {
    "ExecuteTime": {
     "end_time": "2018-11-05T15:05:37.492609Z",
     "start_time": "2018-11-05T15:05:15.540Z"
    }
   },
   "outputs": [],
   "source": [
    "n_trn = 80000\n",
    "X_train, X_valid = split_vals(df_trn, n_trn)\n",
    "y_train, y_valid = split_vals(y_trn, n_trn)"
   ]
  },
  {
   "cell_type": "code",
   "execution_count": null,
   "metadata": {
    "ExecuteTime": {
     "end_time": "2018-11-05T15:05:37.494328Z",
     "start_time": "2018-11-05T15:05:15.542Z"
    },
    "scrolled": true
   },
   "outputs": [],
   "source": [
    "base_model()"
   ]
  },
  {
   "cell_type": "markdown",
   "metadata": {},
   "source": [
    "# Visualization "
   ]
  },
  {
   "cell_type": "code",
   "execution_count": 11,
   "metadata": {
    "ExecuteTime": {
     "end_time": "2018-11-06T03:09:26.129708Z",
     "start_time": "2018-11-06T03:09:26.107202Z"
    }
   },
   "outputs": [
    {
     "data": {
      "text/html": [
       "<div>\n",
       "<style scoped>\n",
       "    .dataframe tbody tr th:only-of-type {\n",
       "        vertical-align: middle;\n",
       "    }\n",
       "\n",
       "    .dataframe tbody tr th {\n",
       "        vertical-align: top;\n",
       "    }\n",
       "\n",
       "    .dataframe thead th {\n",
       "        text-align: right;\n",
       "    }\n",
       "</style>\n",
       "<table border=\"1\" class=\"dataframe\">\n",
       "  <thead>\n",
       "    <tr style=\"text-align: right;\">\n",
       "      <th></th>\n",
       "      <th>channelGrouping</th>\n",
       "      <th>date</th>\n",
       "      <th>fullVisitorId</th>\n",
       "      <th>sessionId</th>\n",
       "      <th>visitId</th>\n",
       "      <th>visitNumber</th>\n",
       "      <th>visitStartTime</th>\n",
       "      <th>device_browser</th>\n",
       "      <th>device_deviceCategory</th>\n",
       "      <th>device_isMobile</th>\n",
       "      <th>...</th>\n",
       "      <th>totals_bounces</th>\n",
       "      <th>totals_hits</th>\n",
       "      <th>totals_newVisits</th>\n",
       "      <th>totals_pageviews</th>\n",
       "      <th>Revenue</th>\n",
       "      <th>trafficSource_isTrueDirect</th>\n",
       "      <th>trafficSource_keyword</th>\n",
       "      <th>trafficSource_medium</th>\n",
       "      <th>trafficSource_referralPath</th>\n",
       "      <th>trafficSource_source</th>\n",
       "    </tr>\n",
       "  </thead>\n",
       "  <tbody>\n",
       "    <tr>\n",
       "      <th>0</th>\n",
       "      <td>Organic Search</td>\n",
       "      <td>2016-09-02</td>\n",
       "      <td>1131660440785968503</td>\n",
       "      <td>1131660440785968503_1472830385</td>\n",
       "      <td>1472830385</td>\n",
       "      <td>1</td>\n",
       "      <td>1472830385</td>\n",
       "      <td>Chrome</td>\n",
       "      <td>desktop</td>\n",
       "      <td>False</td>\n",
       "      <td>...</td>\n",
       "      <td>1</td>\n",
       "      <td>1</td>\n",
       "      <td>1</td>\n",
       "      <td>1</td>\n",
       "      <td>0.0</td>\n",
       "      <td>False</td>\n",
       "      <td>NaN</td>\n",
       "      <td>organic</td>\n",
       "      <td>NaN</td>\n",
       "      <td>google</td>\n",
       "    </tr>\n",
       "    <tr>\n",
       "      <th>1</th>\n",
       "      <td>Organic Search</td>\n",
       "      <td>2016-09-02</td>\n",
       "      <td>377306020877927890</td>\n",
       "      <td>377306020877927890_1472880147</td>\n",
       "      <td>1472880147</td>\n",
       "      <td>1</td>\n",
       "      <td>1472880147</td>\n",
       "      <td>Firefox</td>\n",
       "      <td>desktop</td>\n",
       "      <td>False</td>\n",
       "      <td>...</td>\n",
       "      <td>1</td>\n",
       "      <td>1</td>\n",
       "      <td>1</td>\n",
       "      <td>1</td>\n",
       "      <td>0.0</td>\n",
       "      <td>False</td>\n",
       "      <td>NaN</td>\n",
       "      <td>organic</td>\n",
       "      <td>NaN</td>\n",
       "      <td>google</td>\n",
       "    </tr>\n",
       "    <tr>\n",
       "      <th>2</th>\n",
       "      <td>Organic Search</td>\n",
       "      <td>2016-09-02</td>\n",
       "      <td>3895546263509774583</td>\n",
       "      <td>3895546263509774583_1472865386</td>\n",
       "      <td>1472865386</td>\n",
       "      <td>1</td>\n",
       "      <td>1472865386</td>\n",
       "      <td>Chrome</td>\n",
       "      <td>desktop</td>\n",
       "      <td>False</td>\n",
       "      <td>...</td>\n",
       "      <td>1</td>\n",
       "      <td>1</td>\n",
       "      <td>1</td>\n",
       "      <td>1</td>\n",
       "      <td>0.0</td>\n",
       "      <td>False</td>\n",
       "      <td>NaN</td>\n",
       "      <td>organic</td>\n",
       "      <td>NaN</td>\n",
       "      <td>google</td>\n",
       "    </tr>\n",
       "    <tr>\n",
       "      <th>3</th>\n",
       "      <td>Organic Search</td>\n",
       "      <td>2016-09-02</td>\n",
       "      <td>4763447161404445595</td>\n",
       "      <td>4763447161404445595_1472881213</td>\n",
       "      <td>1472881213</td>\n",
       "      <td>1</td>\n",
       "      <td>1472881213</td>\n",
       "      <td>UC Browser</td>\n",
       "      <td>desktop</td>\n",
       "      <td>False</td>\n",
       "      <td>...</td>\n",
       "      <td>1</td>\n",
       "      <td>1</td>\n",
       "      <td>1</td>\n",
       "      <td>1</td>\n",
       "      <td>0.0</td>\n",
       "      <td>False</td>\n",
       "      <td>google + online</td>\n",
       "      <td>organic</td>\n",
       "      <td>NaN</td>\n",
       "      <td>google</td>\n",
       "    </tr>\n",
       "    <tr>\n",
       "      <th>4</th>\n",
       "      <td>Organic Search</td>\n",
       "      <td>2016-09-02</td>\n",
       "      <td>27294437909732085</td>\n",
       "      <td>27294437909732085_1472822600</td>\n",
       "      <td>1472822600</td>\n",
       "      <td>2</td>\n",
       "      <td>1472822600</td>\n",
       "      <td>Chrome</td>\n",
       "      <td>mobile</td>\n",
       "      <td>True</td>\n",
       "      <td>...</td>\n",
       "      <td>1</td>\n",
       "      <td>1</td>\n",
       "      <td>0</td>\n",
       "      <td>1</td>\n",
       "      <td>0.0</td>\n",
       "      <td>True</td>\n",
       "      <td>NaN</td>\n",
       "      <td>organic</td>\n",
       "      <td>NaN</td>\n",
       "      <td>google</td>\n",
       "    </tr>\n",
       "  </tbody>\n",
       "</table>\n",
       "<p>5 rows × 28 columns</p>\n",
       "</div>"
      ],
      "text/plain": [
       "  channelGrouping       date        fullVisitorId  \\\n",
       "0  Organic Search 2016-09-02  1131660440785968503   \n",
       "1  Organic Search 2016-09-02   377306020877927890   \n",
       "2  Organic Search 2016-09-02  3895546263509774583   \n",
       "3  Organic Search 2016-09-02  4763447161404445595   \n",
       "4  Organic Search 2016-09-02    27294437909732085   \n",
       "\n",
       "                        sessionId     visitId  visitNumber  visitStartTime  \\\n",
       "0  1131660440785968503_1472830385  1472830385            1      1472830385   \n",
       "1   377306020877927890_1472880147  1472880147            1      1472880147   \n",
       "2  3895546263509774583_1472865386  1472865386            1      1472865386   \n",
       "3  4763447161404445595_1472881213  1472881213            1      1472881213   \n",
       "4    27294437909732085_1472822600  1472822600            2      1472822600   \n",
       "\n",
       "  device_browser device_deviceCategory  device_isMobile          ...           \\\n",
       "0         Chrome               desktop            False          ...            \n",
       "1        Firefox               desktop            False          ...            \n",
       "2         Chrome               desktop            False          ...            \n",
       "3     UC Browser               desktop            False          ...            \n",
       "4         Chrome                mobile             True          ...            \n",
       "\n",
       "  totals_bounces totals_hits totals_newVisits totals_pageviews Revenue  \\\n",
       "0              1           1                1                1     0.0   \n",
       "1              1           1                1                1     0.0   \n",
       "2              1           1                1                1     0.0   \n",
       "3              1           1                1                1     0.0   \n",
       "4              1           1                0                1     0.0   \n",
       "\n",
       "  trafficSource_isTrueDirect trafficSource_keyword trafficSource_medium  \\\n",
       "0                      False                   NaN              organic   \n",
       "1                      False                   NaN              organic   \n",
       "2                      False                   NaN              organic   \n",
       "3                      False       google + online              organic   \n",
       "4                       True                   NaN              organic   \n",
       "\n",
       "   trafficSource_referralPath  trafficSource_source  \n",
       "0                         NaN                google  \n",
       "1                         NaN                google  \n",
       "2                         NaN                google  \n",
       "3                         NaN                google  \n",
       "4                         NaN                google  \n",
       "\n",
       "[5 rows x 28 columns]"
      ]
     },
     "execution_count": 11,
     "metadata": {},
     "output_type": "execute_result"
    }
   ],
   "source": [
    "df_raw.head()"
   ]
  },
  {
   "cell_type": "markdown",
   "metadata": {},
   "source": [
    "## Revenue"
   ]
  },
  {
   "cell_type": "code",
   "execution_count": 76,
   "metadata": {
    "ExecuteTime": {
     "end_time": "2018-11-06T03:58:07.733265Z",
     "start_time": "2018-11-06T03:58:07.316436Z"
    }
   },
   "outputs": [],
   "source": [
    "df_buy = df_raw[df_raw['Revenue'] >0]\n",
    "df_nonbuy = df_raw[~ (df_raw['Revenue'] >0)]"
   ]
  },
  {
   "cell_type": "code",
   "execution_count": 85,
   "metadata": {
    "ExecuteTime": {
     "end_time": "2018-11-06T04:00:52.799527Z",
     "start_time": "2018-11-06T04:00:43.200772Z"
    },
    "scrolled": false
   },
   "outputs": [
    {
     "data": {
      "text/plain": [
       "Text(0.5, 1.0, 'Revenue Value Distribution')"
      ]
     },
     "execution_count": 85,
     "metadata": {},
     "output_type": "execute_result"
    },
    {
     "data": {
      "image/png": "[encoded data removed]",
      "text/plain": [
       "<Figure size 1080x432 with 2 Axes>"
      ]
     },
     "metadata": {
      "needs_background": "light"
     },
     "output_type": "display_data"
    }
   ],
   "source": [
    "#df_raw.Revenue.hist(log=True)\n",
    "plt.subplot(121)\n",
    "sns.distplot(df_buy['Revenue'],bins=40, kde=True)\n",
    "plt.title(\"Tranasction Revenue log distribution\")\n",
    "\n",
    "plt.subplot(122)\n",
    "plt.scatter(range(df_raw.shape[0]), np.sort(df_raw['Revenue'].values),alpha=.01)\n",
    "plt.title(\"Revenue Value Distribution\")"
   ]
  },
  {
   "cell_type": "markdown",
   "metadata": {},
   "source": [
    "Revenue through time"
   ]
  },
  {
   "cell_type": "markdown",
   "metadata": {},
   "source": [
    "Seems like at chrismas people buy alot"
   ]
  },
  {
   "cell_type": "markdown",
   "metadata": {},
   "source": [
    "## Skewness and Kutorsis"
   ]
  },
  {
   "cell_type": "markdown",
   "metadata": {
    "ExecuteTime": {
     "end_time": "2018-11-06T04:07:41.965104Z",
     "start_time": "2018-11-06T04:07:41.949164Z"
    }
   },
   "source": [
    "I will see the kurtosis and Skewness of Transaction Revenue\n",
    "Skew and Kurtosis: 2 Important Statistics terms you need to know\n",
    "\n",
    "#### Skewness\n",
    "It is the degree of distortion from the symmetrical bell curve or the normal distribution. It measures the lack of symmetry in data distribution.\n",
    "It differentiates extreme values in one versus the other tail. A symmetrical distribution will have a skewness of 0.\n",
    "\n",
    "Positive Skewness means when the tail on the right side of the distribution is longer or fatter. The mean and median will be greater than the mode.\n",
    "Negative Skewness is when the tail of the left side of the distribution is longer or fatter than the tail on the right side. The mean and median will be less than the mode.\n",
    "\n",
    "##### So, when is the skewness too much?\n",
    "The rule of thumb seems to be:\n",
    "If the skewness is between -0.5 and 0.5, the data are fairly symmetrical. \n",
    "If the skewness is between -1 and -0.5(negatively skewed) or between 0.5 and 1(positively skewed), the data are moderately skewed.\n",
    "If the skewness is less than -1(negatively skewed) or greater than 1(positively skewed), the data are highly skewed.\n",
    "\n",
    "#### Kurtosis\n",
    "Kurtosis is all about the tails of the distribution — not the peakedness or flatness. It is used to describe the extreme values in one versus the other tail. \n",
    "It is actually the measure of outliers present in the distribution.\n",
    "\n",
    "High kurtosis in a data set is an indicator that data has heavy tails or outliers. If there is a high kurtosis, then, we need to investigate why do we have so many outliers. It indicates a lot of things, maybe wrong data entry or other things. Investigate! \n",
    "Low kurtosis in a data set is an indicator that data has light tails or lack of outliers. If we get low kurtosis(too good to be true), then also we need to investigate and trim the dataset of unwanted results"
   ]
  },
  {
   "cell_type": "code",
   "execution_count": 101,
   "metadata": {
    "ExecuteTime": {
     "end_time": "2018-11-06T04:13:36.311982Z",
     "start_time": "2018-11-06T04:13:36.289371Z"
    }
   },
   "outputs": [
    {
     "name": "stdout",
     "output_type": "stream",
     "text": [
      "Skewness of normal distribution (should be 0): 0.3375230660214664\n",
      "Excess kurtosis of normal distribution (should be 0): 1.1610188903215404\n"
     ]
    }
   ],
   "source": [
    "print( 'Skewness of normal distribution (should be 0): {}'.format(\n",
    "    skew((df_buy[\"Revenue\"]))))\n",
    "\n",
    "print('Excess kurtosis of normal distribution (should be 0): {}'.format(\n",
    "    kurtosis(df_buy[\"Revenue\"])))\n"
   ]
  },
  {
   "cell_type": "markdown",
   "metadata": {},
   "source": [
    "So our kurtorsis is high. That means we have much outliers"
   ]
  },
  {
   "cell_type": "code",
   "execution_count": 112,
   "metadata": {
    "ExecuteTime": {
     "end_time": "2018-11-06T04:26:19.042816Z",
     "start_time": "2018-11-06T04:26:19.035188Z"
    }
   },
   "outputs": [],
   "source": [
    "def CalcOutliers(df_num): \n",
    "    '''\n",
    "    Leonardo Ferreira 20/10/2018\n",
    "    Set a numerical value and it will calculate the upper, lower and total number of outliers\n",
    "    It will print a lot of statistics of the numerical feature that you set on input\n",
    "    '''\n",
    "    \n",
    "    # calculating mean and std of the array\n",
    "    data_mean, data_std = np.mean(df_num), np.std(df_num)\n",
    "\n",
    "    # seting the cut line to both higher and lower values\n",
    "    # You can change this value\n",
    "    cut = data_std * 3\n",
    "\n",
    "    #Calculating the higher and lower cut values\n",
    "    lower, upper = data_mean - cut, data_mean + cut\n",
    "\n",
    "    # creating an array of lower, higher and total outlier values \n",
    "    outliers_lower = [x for x in df_num if x < lower]\n",
    "    outliers_higher = [x for x in df_num if x > upper]\n",
    "    outliers_total = [x for x in df_num if x < lower or x > upper]\n",
    "    outliers_total_index = [index for index,x in enumerate(df_num) if x < lower or x > upper]\n",
    "\n",
    "    # array without outlier values\n",
    "    outliers_removed = [x for x in df_num if x > lower and x < upper]\n",
    "    \n",
    "    print('Identified lowest outliers: %d' % len(outliers_lower)) # printing total number of values in lower cut of outliers\n",
    "    print('Identified upper outliers: %d' % len(outliers_higher)) # printing total number of values in higher cut of outliers\n",
    "    print('Identified outliers: %d' % len(outliers_total)) # printing total number of values outliers of both sides\n",
    "    print('Non-outlier observations: %d' % len(outliers_removed)) # printing total number of non outlier values\n",
    "    print(\"Total percentual of Outliers: \", round((len(outliers_total) / len(outliers_removed) )*100, 4)) # Percentual of outliers in points\n",
    "    \n",
    "    return outliers_total_index"
   ]
  },
  {
   "cell_type": "code",
   "execution_count": 148,
   "metadata": {
    "ExecuteTime": {
     "end_time": "2018-11-06T04:47:50.806984Z",
     "start_time": "2018-11-06T04:47:50.784035Z"
    },
    "scrolled": false
   },
   "outputs": [
    {
     "name": "stdout",
     "output_type": "stream",
     "text": [
      "Identified lowest outliers: 17\n",
      "Identified upper outliers: 45\n",
      "Identified outliers: 62\n",
      "Non-outlier observations: 11453\n",
      "Total percentual of Outliers:  0.5413\n"
     ]
    }
   ],
   "source": [
    "outliers = CalcOutliers(df_buy['Revenue']) # Call "
   ]
  },
  {
   "cell_type": "code",
   "execution_count": 150,
   "metadata": {
    "ExecuteTime": {
     "end_time": "2018-11-06T04:47:55.673868Z",
     "start_time": "2018-11-06T04:47:55.455250Z"
    }
   },
   "outputs": [],
   "source": [
    "non_outliers_index = ~df_raw['channelGrouping'].isin(outliers)\n",
    "df_non_outliers = df_raw.loc[non_outliers_index]"
   ]
  },
  {
   "cell_type": "code",
   "execution_count": 151,
   "metadata": {
    "ExecuteTime": {
     "end_time": "2018-11-06T04:47:55.770084Z",
     "start_time": "2018-11-06T04:47:55.762187Z"
    }
   },
   "outputs": [
    {
     "data": {
      "text/plain": [
       "0         0.0\n",
       "1         0.0\n",
       "2         0.0\n",
       "3         0.0\n",
       "4         0.0\n",
       "5         0.0\n",
       "6         0.0\n",
       "7         0.0\n",
       "8         0.0\n",
       "9         0.0\n",
       "10        0.0\n",
       "11        0.0\n",
       "12        0.0\n",
       "13        0.0\n",
       "14        0.0\n",
       "15        0.0\n",
       "16        0.0\n",
       "17        0.0\n",
       "18        0.0\n",
       "19        0.0\n",
       "20        0.0\n",
       "21        0.0\n",
       "22        0.0\n",
       "23        0.0\n",
       "24        0.0\n",
       "25        0.0\n",
       "26        0.0\n",
       "27        0.0\n",
       "28        0.0\n",
       "29        0.0\n",
       "         ... \n",
       "903623    0.0\n",
       "903624    0.0\n",
       "903625    0.0\n",
       "903626    0.0\n",
       "903627    0.0\n",
       "903628    0.0\n",
       "903629    0.0\n",
       "903630    0.0\n",
       "903631    0.0\n",
       "903632    0.0\n",
       "903633    0.0\n",
       "903634    0.0\n",
       "903635    0.0\n",
       "903636    0.0\n",
       "903637    0.0\n",
       "903638    0.0\n",
       "903639    0.0\n",
       "903640    0.0\n",
       "903641    0.0\n",
       "903642    0.0\n",
       "903643    0.0\n",
       "903644    0.0\n",
       "903645    0.0\n",
       "903646    0.0\n",
       "903647    0.0\n",
       "903648    0.0\n",
       "903649    0.0\n",
       "903650    0.0\n",
       "903651    0.0\n",
       "903652    0.0\n",
       "Name: Revenue, Length: 903653, dtype: float64"
      ]
     },
     "execution_count": 151,
     "metadata": {},
     "output_type": "execute_result"
    }
   ],
   "source": [
    "df_non_outliers['Revenue']"
   ]
  },
  {
   "cell_type": "code",
   "execution_count": 140,
   "metadata": {
    "ExecuteTime": {
     "end_time": "2018-11-06T04:31:10.288337Z",
     "start_time": "2018-11-06T04:31:09.957908Z"
    }
   },
   "outputs": [
    {
     "data": {
      "text/plain": [
       "<matplotlib.axes._subplots.AxesSubplot at 0x1a2cfb21d0>"
      ]
     },
     "execution_count": 140,
     "metadata": {},
     "output_type": "execute_result"
    },
    {
     "data": {
      "image/png": "[encoded data removed]",
      "text/plain": [
       "<Figure size 1080x432 with 1 Axes>"
      ]
     },
     "metadata": {
      "needs_background": "light"
     },
     "output_type": "display_data"
    }
   ],
   "source": [
    "sns.distplot(df_non_outliers['Revenue'],bins=40, kde=True)"
   ]
  },
  {
   "cell_type": "markdown",
   "metadata": {},
   "source": [
    "## Date vs buy"
   ]
  },
  {
   "cell_type": "code",
   "execution_count": 21,
   "metadata": {
    "ExecuteTime": {
     "end_time": "2018-11-06T03:09:43.381426Z",
     "start_time": "2018-11-06T03:09:43.376329Z"
    }
   },
   "outputs": [],
   "source": [
    "df_raw['is_bought'] =  df_raw['Revenue'] > 0"
   ]
  },
  {
   "cell_type": "code",
   "execution_count": 22,
   "metadata": {
    "ExecuteTime": {
     "end_time": "2018-11-06T03:09:43.740248Z",
     "start_time": "2018-11-06T03:09:43.508039Z"
    }
   },
   "outputs": [],
   "source": [
    "df_2016 = df_raw[df_raw['Date_Year']==2016]\n",
    "df_2017 = df_raw[df_raw['Date_Year']==2017]"
   ]
  },
  {
   "cell_type": "code",
   "execution_count": 23,
   "metadata": {
    "ExecuteTime": {
     "end_time": "2018-11-06T03:09:52.957708Z",
     "start_time": "2018-11-06T03:09:52.482849Z"
    },
    "scrolled": false
   },
   "outputs": [
    {
     "data": {
      "text/plain": [
       "Text(0.5, 1.0, '2017')"
      ]
     },
     "execution_count": 23,
     "metadata": {},
     "output_type": "execute_result"
    },
    {
     "data": {
      "image/png": "[encoded data removed]",
      "text/plain": [
       "<Figure size 1080x432 with 2 Axes>"
      ]
     },
     "metadata": {
      "needs_background": "light"
     },
     "output_type": "display_data"
    }
   ],
   "source": [
    "\n",
    "plt.figure(figsize=(15,6))\n",
    "\n",
    "\n",
    "ax1 = plt.subplot(121)\n",
    "sns.countplot('Date_Month',hue='is_bought',data=df_2016,log=False,ax=ax1)\n",
    "ax1.set_ylim([0,10e4])\n",
    "plt.title('2016')\n",
    "\n",
    "\n",
    "ax2 = plt.subplot(122)\n",
    "sns.countplot('Date_Month',hue='is_bought',data=df_2017,log=False,ax=ax2)\n",
    "ax2.set_ylim([0,10e4])\n",
    "plt.title('2017')"
   ]
  },
  {
   "cell_type": "markdown",
   "metadata": {
    "ExecuteTime": {
     "end_time": "2018-11-05T06:16:06.537197Z",
     "start_time": "2018-11-05T06:16:06.532357Z"
    }
   },
   "source": [
    "There are 8,9,10,11,12 of 2016 and 1,2,3,4,5,6,7,8 of 2017\n",
    "\n",
    "In which 8-2017 is very little so we can consider this as a full length of a year"
   ]
  },
  {
   "cell_type": "code",
   "execution_count": 24,
   "metadata": {
    "ExecuteTime": {
     "end_time": "2018-11-06T03:09:54.580355Z",
     "start_time": "2018-11-06T03:09:54.083255Z"
    },
    "scrolled": false
   },
   "outputs": [
    {
     "data": {
      "text/plain": [
       "<matplotlib.axes._subplots.AxesSubplot at 0x1a26ba8588>"
      ]
     },
     "execution_count": 24,
     "metadata": {},
     "output_type": "execute_result"
    },
    {
     "data": {
      "image/png": "[encoded data removed]",
      "text/plain": [
       "<Figure size 1080x432 with 1 Axes>"
      ]
     },
     "metadata": {
      "needs_background": "light"
     },
     "output_type": "display_data"
    }
   ],
   "source": [
    "sns.countplot('Date_Month',hue='is_bought',data=df_raw,log=True)"
   ]
  },
  {
   "cell_type": "code",
   "execution_count": 94,
   "metadata": {
    "ExecuteTime": {
     "end_time": "2018-11-06T04:06:30.815152Z",
     "start_time": "2018-11-06T04:06:30.507320Z"
    },
    "scrolled": false
   },
   "outputs": [
    {
     "data": {
      "text/plain": [
       "Text(0.5, 1.0, 'Sum Revenue through Month')"
      ]
     },
     "execution_count": 94,
     "metadata": {},
     "output_type": "execute_result"
    },
    {
     "data": {
      "image/png": "[encoded data removed]",
      "text/plain": [
       "<Figure size 1080x432 with 1 Axes>"
      ]
     },
     "metadata": {
      "needs_background": "light"
     },
     "output_type": "display_data"
    }
   ],
   "source": [
    "df_raw.groupby('Date_Month').Revenue.sum().plot(kind='bar')\n",
    "plt.title(\"Sum Revenue through Month\")"
   ]
  },
  {
   "cell_type": "code",
   "execution_count": 95,
   "metadata": {
    "ExecuteTime": {
     "end_time": "2018-11-06T04:06:49.078477Z",
     "start_time": "2018-11-06T04:06:48.704000Z"
    }
   },
   "outputs": [
    {
     "data": {
      "text/plain": [
       "Text(0.5, 1.0, 'Sum Revenue through time')"
      ]
     },
     "execution_count": 95,
     "metadata": {},
     "output_type": "execute_result"
    },
    {
     "data": {
      "image/png": "[encoded data removed]",
      "text/plain": [
       "<Figure size 1080x432 with 1 Axes>"
      ]
     },
     "metadata": {
      "needs_background": "light"
     },
     "output_type": "display_data"
    }
   ],
   "source": [
    "df_raw.groupby('date').Revenue.sum().plot()\n",
    "plt.title(\"Sum Revenue through time\")"
   ]
  },
  {
   "cell_type": "markdown",
   "metadata": {
    "ExecuteTime": {
     "end_time": "2018-11-05T06:17:46.709988Z",
     "start_time": "2018-11-05T06:17:46.704934Z"
    }
   },
   "source": [
    "There is slightly increase at the end of the yearm"
   ]
  },
  {
   "cell_type": "code",
   "execution_count": 60,
   "metadata": {
    "ExecuteTime": {
     "end_time": "2018-11-06T03:22:25.877936Z",
     "start_time": "2018-11-06T03:22:25.871834Z"
    }
   },
   "outputs": [],
   "source": [
    "def analytic_revenue(df,col,n=10):\n",
    "    plt.subplot(131)\n",
    "    df.groupby(col).Revenue.count().sort_values(ascending=False)[:n].plot(kind='bar')\n",
    "    plt.title(f'{col} - count revenue')\n",
    "    \n",
    "    plt.subplot(132)\n",
    "    df.groupby(col).Revenue.sum().sort_values(ascending=False)[:n].plot(kind='bar')\n",
    "    plt.title(f'{col} - sum revenue')\n",
    "    \n",
    "    plt.subplot(133)\n",
    "    df.groupby(col).Revenue.mean().sort_values(ascending=False)[:n].plot(kind='bar')\n",
    "    plt.title(f'{col} - mean revenue') \n",
    "    "
   ]
  },
  {
   "cell_type": "markdown",
   "metadata": {
    "ExecuteTime": {
     "end_time": "2018-11-06T03:12:40.582050Z",
     "start_time": "2018-11-06T03:12:40.578797Z"
    }
   },
   "source": [
    "## Channelgrouping"
   ]
  },
  {
   "cell_type": "markdown",
   "metadata": {},
   "source": [
    "Quick look at the distribution of bought user"
   ]
  },
  {
   "cell_type": "code",
   "execution_count": 58,
   "metadata": {
    "ExecuteTime": {
     "end_time": "2018-11-06T03:20:42.005532Z",
     "start_time": "2018-11-06T03:20:41.640217Z"
    },
    "scrolled": false
   },
   "outputs": [
    {
     "data": {
      "image/png": "[encoded data removed]",
      "text/plain": [
       "<Figure size 1080x432 with 3 Axes>"
      ]
     },
     "metadata": {
      "needs_background": "light"
     },
     "output_type": "display_data"
    }
   ],
   "source": [
    "analytic_revenue(df_buy,'channelGrouping')"
   ]
  },
  {
   "cell_type": "markdown",
   "metadata": {},
   "source": [
    "The traffics explain the sum revenue\n",
    "\n",
    "Referral is the most valuable channel\n",
    "\n",
    "The mean revenue is the quite the same accross channels\n",
    "\n"
   ]
  },
  {
   "cell_type": "markdown",
   "metadata": {},
   "source": [
    "## Some ids columns"
   ]
  },
  {
   "cell_type": "code",
   "execution_count": 63,
   "metadata": {
    "ExecuteTime": {
     "end_time": "2018-11-06T03:27:57.484609Z",
     "start_time": "2018-11-06T03:27:57.455264Z"
    }
   },
   "outputs": [
    {
     "data": {
      "text/html": [
       "<div>\n",
       "<style scoped>\n",
       "    .dataframe tbody tr th:only-of-type {\n",
       "        vertical-align: middle;\n",
       "    }\n",
       "\n",
       "    .dataframe tbody tr th {\n",
       "        vertical-align: top;\n",
       "    }\n",
       "\n",
       "    .dataframe thead th {\n",
       "        text-align: right;\n",
       "    }\n",
       "</style>\n",
       "<table border=\"1\" class=\"dataframe\">\n",
       "  <thead>\n",
       "    <tr style=\"text-align: right;\">\n",
       "      <th></th>\n",
       "      <th>visitId</th>\n",
       "      <th>fullVisitorId</th>\n",
       "      <th>sessionId</th>\n",
       "    </tr>\n",
       "  </thead>\n",
       "  <tbody>\n",
       "    <tr>\n",
       "      <th>0</th>\n",
       "      <td>1472830385</td>\n",
       "      <td>1131660440785968503</td>\n",
       "      <td>1131660440785968503_1472830385</td>\n",
       "    </tr>\n",
       "    <tr>\n",
       "      <th>1</th>\n",
       "      <td>1472880147</td>\n",
       "      <td>377306020877927890</td>\n",
       "      <td>377306020877927890_1472880147</td>\n",
       "    </tr>\n",
       "    <tr>\n",
       "      <th>2</th>\n",
       "      <td>1472865386</td>\n",
       "      <td>3895546263509774583</td>\n",
       "      <td>3895546263509774583_1472865386</td>\n",
       "    </tr>\n",
       "    <tr>\n",
       "      <th>3</th>\n",
       "      <td>1472881213</td>\n",
       "      <td>4763447161404445595</td>\n",
       "      <td>4763447161404445595_1472881213</td>\n",
       "    </tr>\n",
       "    <tr>\n",
       "      <th>4</th>\n",
       "      <td>1472822600</td>\n",
       "      <td>27294437909732085</td>\n",
       "      <td>27294437909732085_1472822600</td>\n",
       "    </tr>\n",
       "  </tbody>\n",
       "</table>\n",
       "</div>"
      ],
      "text/plain": [
       "      visitId        fullVisitorId                       sessionId\n",
       "0  1472830385  1131660440785968503  1131660440785968503_1472830385\n",
       "1  1472880147   377306020877927890   377306020877927890_1472880147\n",
       "2  1472865386  3895546263509774583  3895546263509774583_1472865386\n",
       "3  1472881213  4763447161404445595  4763447161404445595_1472881213\n",
       "4  1472822600    27294437909732085    27294437909732085_1472822600"
      ]
     },
     "execution_count": 63,
     "metadata": {},
     "output_type": "execute_result"
    }
   ],
   "source": [
    "df_raw[['visitId','fullVisitorId','sessionId',]].head()"
   ]
  },
  {
   "cell_type": "markdown",
   "metadata": {},
   "source": [
    "sessonId is just the the combination of visitId and fullVisitorId"
   ]
  },
  {
   "cell_type": "code",
   "execution_count": 75,
   "metadata": {
    "ExecuteTime": {
     "end_time": "2018-11-06T03:31:55.387369Z",
     "start_time": "2018-11-06T03:31:54.611791Z"
    }
   },
   "outputs": [
    {
     "name": "stdout",
     "output_type": "stream",
     "text": [
      "# visitId unique \t886303\n",
      "# fullVisitorId unique \t714167\n",
      "# sessionId unique \t902755\n",
      "# data rows \t\t903653\n"
     ]
    }
   ],
   "source": [
    "print(f\"# visitId unique \\t{df_raw['visitId'].nunique()}\")\n",
    "print(f\"# fullVisitorId unique \\t{df_raw['fullVisitorId'].nunique()}\")\n",
    "print(f\"# sessionId unique \\t{df_raw['sessionId'].nunique()}\")\n",
    "print(f\"# data rows \\t\\t{df_raw.shape[0]}\")"
   ]
  },
  {
   "cell_type": "code",
   "execution_count": null,
   "metadata": {},
   "outputs": [],
   "source": []
  }
 ],
 "metadata": {
  "kernelspec": {
   "display_name": "Python 3",
   "language": "python",
   "name": "python3"
  },
  "language_info": {
   "codemirror_mode": {
    "name": "ipython",
    "version": 3
   },
   "file_extension": ".py",
   "mimetype": "text/x-python",
   "name": "python",
   "nbconvert_exporter": "python",
   "pygments_lexer": "ipython3",
   "version": "3.6.7"
  },
  "toc": {
   "base_numbering": 1,
   "nav_menu": {},
   "number_sections": true,
   "sideBar": true,
   "skip_h1_title": false,
   "title_cell": "Table of Contents",
   "title_sidebar": "Contents",
   "toc_cell": true,
   "toc_position": {
    "height": "634px",
    "left": "1181px",
    "top": "110px",
    "width": "206px"
   },
   "toc_section_display": true,
   "toc_window_display": true
  }
 },
 "nbformat": 4,
 "nbformat_minor": 2
}
