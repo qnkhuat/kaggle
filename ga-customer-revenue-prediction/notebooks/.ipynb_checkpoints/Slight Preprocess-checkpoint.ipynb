{
 "cells": [
  {
   "cell_type": "markdown",
   "metadata": {},
   "source": [
    "**Todo list**\n",
    "1. Data overview\n",
    "2. Data cleaning\n",
    "-----------------\n",
    "3. Create new data - date\n",
    "4. Data visualization\n",
    "5. Convert data\n",
    "6. Create Good CV\n",
    "7. Modeling"
   ]
  },
  {
   "cell_type": "code",
   "execution_count": 21,
   "metadata": {
    "ExecuteTime": {
     "end_time": "2018-11-02T11:32:02.576587Z",
     "start_time": "2018-11-02T11:32:02.572164Z"
    }
   },
   "outputs": [],
   "source": [
    "import pandas as pd\n",
    "import json\n",
    "import numpy as np\n",
    "\n",
    "# convert json in df to columns\n",
    "from pandas.io.json import json_normalize"
   ]
  },
  {
   "cell_type": "code",
   "execution_count": 22,
   "metadata": {
    "ExecuteTime": {
     "end_time": "2018-11-02T11:32:02.760255Z",
     "start_time": "2018-11-02T11:32:02.756536Z"
    }
   },
   "outputs": [],
   "source": [
    "import seaborn as sns\n",
    "import matplotlib.pyplot as plt\n",
    "plt.rcParams['figure.figsize'] = (15,8)"
   ]
  },
  {
   "cell_type": "code",
   "execution_count": 23,
   "metadata": {
    "ExecuteTime": {
     "end_time": "2018-11-02T11:32:02.946516Z",
     "start_time": "2018-11-02T11:32:02.943419Z"
    }
   },
   "outputs": [],
   "source": [
    "from sklearn import preprocessing"
   ]
  },
  {
   "cell_type": "markdown",
   "metadata": {},
   "source": [
    "# Load data\n",
    "Just load 100000 rows for the EDA's sake\n",
    "\n"
   ]
  },
  {
   "cell_type": "code",
   "execution_count": null,
   "metadata": {
    "ExecuteTime": {
     "start_time": "2018-11-02T11:32:11.713Z"
    },
    "scrolled": true
   },
   "outputs": [],
   "source": [
    "%%time\n",
    "nrows = 100000\n",
    "json_cols = ['device', 'geoNetwork', 'totals', 'trafficSource']\n",
    "\n",
    "json_conv = {col: json.loads for col in (json_cols)}\n",
    "\n",
    "df_train = pd.read_csv(\"../data/train.csv\", \n",
    "    dtype={'fullVisitorId': str},\n",
    "    converters=json_conv,\n",
    "    low_memory=False,\n",
    "    parse_dates=['date'],\n",
    "    nrows=nrows)"
   ]
  },
  {
   "cell_type": "code",
   "execution_count": null,
   "metadata": {
    "ExecuteTime": {
     "start_time": "2018-11-02T11:32:12.602Z"
    }
   },
   "outputs": [],
   "source": [
    "%%time\n",
    "\n",
    "df_test = pd.read_csv('../data/test.csv',\n",
    "    dtype={'fullVisitorId': str},\n",
    "    converters=json_conv,\n",
    "    low_memory=False,\n",
    "    nrows=nrows)"
   ]
  },
  {
   "cell_type": "markdown",
   "metadata": {},
   "source": [
    "## Convert the json columns"
   ]
  },
  {
   "cell_type": "code",
   "execution_count": 6,
   "metadata": {
    "ExecuteTime": {
     "end_time": "2018-11-02T06:08:46.625714Z",
     "start_time": "2018-11-02T06:08:46.620609Z"
    },
    "code_folding": []
   },
   "outputs": [],
   "source": [
    "# convert json columns into signle columns\n",
    "def decode_json(df_raw,json_cols):\n",
    "    df = df_raw.copy()\n",
    "    for column in json_cols:\n",
    "        tdf = json_normalize(df[column])\n",
    "        df = df.drop(columns = [column])\n",
    "        tdf.columns = [column + '_' + col for col in tdf.columns]\n",
    "        df = df.merge(tdf, left_index=True, right_index=True)\n",
    "    return df\n",
    "        "
   ]
  },
  {
   "cell_type": "code",
   "execution_count": 7,
   "metadata": {
    "ExecuteTime": {
     "end_time": "2018-11-02T06:08:47.775496Z",
     "start_time": "2018-11-02T06:08:46.628340Z"
    },
    "scrolled": true
   },
   "outputs": [
    {
     "name": "stdout",
     "output_type": "stream",
     "text": [
      "CPU times: user 1.1 s, sys: 27 ms, total: 1.13 s\n",
      "Wall time: 1.14 s\n"
     ]
    }
   ],
   "source": [
    "%%time\n",
    "df_train = decode_json(df_train,json_cols)\n"
   ]
  },
  {
   "cell_type": "code",
   "execution_count": 8,
   "metadata": {
    "ExecuteTime": {
     "end_time": "2018-11-02T06:08:48.870499Z",
     "start_time": "2018-11-02T06:08:47.777277Z"
    }
   },
   "outputs": [
    {
     "name": "stdout",
     "output_type": "stream",
     "text": [
      "CPU times: user 1.05 s, sys: 19.9 ms, total: 1.07 s\n",
      "Wall time: 1.09 s\n"
     ]
    }
   ],
   "source": [
    "%%time\n",
    "df_test = decode_json(df_test,json_cols)"
   ]
  },
  {
   "cell_type": "code",
   "execution_count": 9,
   "metadata": {
    "ExecuteTime": {
     "end_time": "2018-11-02T06:08:48.902265Z",
     "start_time": "2018-11-02T06:08:48.873063Z"
    },
    "scrolled": true
   },
   "outputs": [
    {
     "data": {
      "text/html": [
       "<div>\n",
       "<style scoped>\n",
       "    .dataframe tbody tr th:only-of-type {\n",
       "        vertical-align: middle;\n",
       "    }\n",
       "\n",
       "    .dataframe tbody tr th {\n",
       "        vertical-align: top;\n",
       "    }\n",
       "\n",
       "    .dataframe thead th {\n",
       "        text-align: right;\n",
       "    }\n",
       "</style>\n",
       "<table border=\"1\" class=\"dataframe\">\n",
       "  <thead>\n",
       "    <tr style=\"text-align: right;\">\n",
       "      <th></th>\n",
       "      <th>channelGrouping</th>\n",
       "      <th>date</th>\n",
       "      <th>fullVisitorId</th>\n",
       "      <th>sessionId</th>\n",
       "      <th>socialEngagementType</th>\n",
       "      <th>visitId</th>\n",
       "      <th>visitNumber</th>\n",
       "      <th>visitStartTime</th>\n",
       "      <th>device_browser</th>\n",
       "      <th>device_browserSize</th>\n",
       "      <th>...</th>\n",
       "      <th>trafficSource_adwordsClickInfo.gclId</th>\n",
       "      <th>trafficSource_adwordsClickInfo.isVideoAd</th>\n",
       "      <th>trafficSource_adwordsClickInfo.page</th>\n",
       "      <th>trafficSource_adwordsClickInfo.slot</th>\n",
       "      <th>trafficSource_campaign</th>\n",
       "      <th>trafficSource_isTrueDirect</th>\n",
       "      <th>trafficSource_keyword</th>\n",
       "      <th>trafficSource_medium</th>\n",
       "      <th>trafficSource_referralPath</th>\n",
       "      <th>trafficSource_source</th>\n",
       "    </tr>\n",
       "  </thead>\n",
       "  <tbody>\n",
       "    <tr>\n",
       "      <th>0</th>\n",
       "      <td>Organic Search</td>\n",
       "      <td>2016-09-02</td>\n",
       "      <td>1131660440785968503</td>\n",
       "      <td>1131660440785968503_1472830385</td>\n",
       "      <td>Not Socially Engaged</td>\n",
       "      <td>1472830385</td>\n",
       "      <td>1</td>\n",
       "      <td>1472830385</td>\n",
       "      <td>Chrome</td>\n",
       "      <td>not available in demo dataset</td>\n",
       "      <td>...</td>\n",
       "      <td>NaN</td>\n",
       "      <td>NaN</td>\n",
       "      <td>NaN</td>\n",
       "      <td>NaN</td>\n",
       "      <td>(not set)</td>\n",
       "      <td>NaN</td>\n",
       "      <td>(not provided)</td>\n",
       "      <td>organic</td>\n",
       "      <td>NaN</td>\n",
       "      <td>google</td>\n",
       "    </tr>\n",
       "    <tr>\n",
       "      <th>1</th>\n",
       "      <td>Organic Search</td>\n",
       "      <td>2016-09-02</td>\n",
       "      <td>377306020877927890</td>\n",
       "      <td>377306020877927890_1472880147</td>\n",
       "      <td>Not Socially Engaged</td>\n",
       "      <td>1472880147</td>\n",
       "      <td>1</td>\n",
       "      <td>1472880147</td>\n",
       "      <td>Firefox</td>\n",
       "      <td>not available in demo dataset</td>\n",
       "      <td>...</td>\n",
       "      <td>NaN</td>\n",
       "      <td>NaN</td>\n",
       "      <td>NaN</td>\n",
       "      <td>NaN</td>\n",
       "      <td>(not set)</td>\n",
       "      <td>NaN</td>\n",
       "      <td>(not provided)</td>\n",
       "      <td>organic</td>\n",
       "      <td>NaN</td>\n",
       "      <td>google</td>\n",
       "    </tr>\n",
       "    <tr>\n",
       "      <th>2</th>\n",
       "      <td>Organic Search</td>\n",
       "      <td>2016-09-02</td>\n",
       "      <td>3895546263509774583</td>\n",
       "      <td>3895546263509774583_1472865386</td>\n",
       "      <td>Not Socially Engaged</td>\n",
       "      <td>1472865386</td>\n",
       "      <td>1</td>\n",
       "      <td>1472865386</td>\n",
       "      <td>Chrome</td>\n",
       "      <td>not available in demo dataset</td>\n",
       "      <td>...</td>\n",
       "      <td>NaN</td>\n",
       "      <td>NaN</td>\n",
       "      <td>NaN</td>\n",
       "      <td>NaN</td>\n",
       "      <td>(not set)</td>\n",
       "      <td>NaN</td>\n",
       "      <td>(not provided)</td>\n",
       "      <td>organic</td>\n",
       "      <td>NaN</td>\n",
       "      <td>google</td>\n",
       "    </tr>\n",
       "    <tr>\n",
       "      <th>3</th>\n",
       "      <td>Organic Search</td>\n",
       "      <td>2016-09-02</td>\n",
       "      <td>4763447161404445595</td>\n",
       "      <td>4763447161404445595_1472881213</td>\n",
       "      <td>Not Socially Engaged</td>\n",
       "      <td>1472881213</td>\n",
       "      <td>1</td>\n",
       "      <td>1472881213</td>\n",
       "      <td>UC Browser</td>\n",
       "      <td>not available in demo dataset</td>\n",
       "      <td>...</td>\n",
       "      <td>NaN</td>\n",
       "      <td>NaN</td>\n",
       "      <td>NaN</td>\n",
       "      <td>NaN</td>\n",
       "      <td>(not set)</td>\n",
       "      <td>NaN</td>\n",
       "      <td>google + online</td>\n",
       "      <td>organic</td>\n",
       "      <td>NaN</td>\n",
       "      <td>google</td>\n",
       "    </tr>\n",
       "    <tr>\n",
       "      <th>4</th>\n",
       "      <td>Organic Search</td>\n",
       "      <td>2016-09-02</td>\n",
       "      <td>27294437909732085</td>\n",
       "      <td>27294437909732085_1472822600</td>\n",
       "      <td>Not Socially Engaged</td>\n",
       "      <td>1472822600</td>\n",
       "      <td>2</td>\n",
       "      <td>1472822600</td>\n",
       "      <td>Chrome</td>\n",
       "      <td>not available in demo dataset</td>\n",
       "      <td>...</td>\n",
       "      <td>NaN</td>\n",
       "      <td>NaN</td>\n",
       "      <td>NaN</td>\n",
       "      <td>NaN</td>\n",
       "      <td>(not set)</td>\n",
       "      <td>True</td>\n",
       "      <td>(not provided)</td>\n",
       "      <td>organic</td>\n",
       "      <td>NaN</td>\n",
       "      <td>google</td>\n",
       "    </tr>\n",
       "  </tbody>\n",
       "</table>\n",
       "<p>5 rows × 54 columns</p>\n",
       "</div>"
      ],
      "text/plain": [
       "  channelGrouping       date        fullVisitorId  \\\n",
       "0  Organic Search 2016-09-02  1131660440785968503   \n",
       "1  Organic Search 2016-09-02   377306020877927890   \n",
       "2  Organic Search 2016-09-02  3895546263509774583   \n",
       "3  Organic Search 2016-09-02  4763447161404445595   \n",
       "4  Organic Search 2016-09-02    27294437909732085   \n",
       "\n",
       "                        sessionId  socialEngagementType     visitId  \\\n",
       "0  1131660440785968503_1472830385  Not Socially Engaged  1472830385   \n",
       "1   377306020877927890_1472880147  Not Socially Engaged  1472880147   \n",
       "2  3895546263509774583_1472865386  Not Socially Engaged  1472865386   \n",
       "3  4763447161404445595_1472881213  Not Socially Engaged  1472881213   \n",
       "4    27294437909732085_1472822600  Not Socially Engaged  1472822600   \n",
       "\n",
       "   visitNumber  visitStartTime device_browser             device_browserSize  \\\n",
       "0            1      1472830385         Chrome  not available in demo dataset   \n",
       "1            1      1472880147        Firefox  not available in demo dataset   \n",
       "2            1      1472865386         Chrome  not available in demo dataset   \n",
       "3            1      1472881213     UC Browser  not available in demo dataset   \n",
       "4            2      1472822600         Chrome  not available in demo dataset   \n",
       "\n",
       "          ...          trafficSource_adwordsClickInfo.gclId  \\\n",
       "0         ...                                           NaN   \n",
       "1         ...                                           NaN   \n",
       "2         ...                                           NaN   \n",
       "3         ...                                           NaN   \n",
       "4         ...                                           NaN   \n",
       "\n",
       "  trafficSource_adwordsClickInfo.isVideoAd  \\\n",
       "0                                      NaN   \n",
       "1                                      NaN   \n",
       "2                                      NaN   \n",
       "3                                      NaN   \n",
       "4                                      NaN   \n",
       "\n",
       "  trafficSource_adwordsClickInfo.page  trafficSource_adwordsClickInfo.slot  \\\n",
       "0                                 NaN                                  NaN   \n",
       "1                                 NaN                                  NaN   \n",
       "2                                 NaN                                  NaN   \n",
       "3                                 NaN                                  NaN   \n",
       "4                                 NaN                                  NaN   \n",
       "\n",
       "  trafficSource_campaign trafficSource_isTrueDirect trafficSource_keyword  \\\n",
       "0              (not set)                        NaN        (not provided)   \n",
       "1              (not set)                        NaN        (not provided)   \n",
       "2              (not set)                        NaN        (not provided)   \n",
       "3              (not set)                        NaN       google + online   \n",
       "4              (not set)                       True        (not provided)   \n",
       "\n",
       "  trafficSource_medium trafficSource_referralPath trafficSource_source  \n",
       "0              organic                        NaN               google  \n",
       "1              organic                        NaN               google  \n",
       "2              organic                        NaN               google  \n",
       "3              organic                        NaN               google  \n",
       "4              organic                        NaN               google  \n",
       "\n",
       "[5 rows x 54 columns]"
      ]
     },
     "execution_count": 9,
     "metadata": {},
     "output_type": "execute_result"
    }
   ],
   "source": [
    "df_train.head()"
   ]
  },
  {
   "cell_type": "markdown",
   "metadata": {},
   "source": [
    "# Data overview"
   ]
  },
  {
   "cell_type": "code",
   "execution_count": 10,
   "metadata": {
    "ExecuteTime": {
     "end_time": "2018-11-02T06:08:48.926234Z",
     "start_time": "2018-11-02T06:08:48.904251Z"
    }
   },
   "outputs": [
    {
     "data": {
      "text/html": [
       "<div>\n",
       "<style scoped>\n",
       "    .dataframe tbody tr th:only-of-type {\n",
       "        vertical-align: middle;\n",
       "    }\n",
       "\n",
       "    .dataframe tbody tr th {\n",
       "        vertical-align: top;\n",
       "    }\n",
       "\n",
       "    .dataframe thead th {\n",
       "        text-align: right;\n",
       "    }\n",
       "</style>\n",
       "<table border=\"1\" class=\"dataframe\">\n",
       "  <thead>\n",
       "    <tr style=\"text-align: right;\">\n",
       "      <th></th>\n",
       "      <th>channelGrouping</th>\n",
       "      <th>date</th>\n",
       "      <th>fullVisitorId</th>\n",
       "      <th>sessionId</th>\n",
       "      <th>socialEngagementType</th>\n",
       "      <th>visitId</th>\n",
       "      <th>visitNumber</th>\n",
       "      <th>visitStartTime</th>\n",
       "      <th>device_browser</th>\n",
       "      <th>device_browserSize</th>\n",
       "      <th>...</th>\n",
       "      <th>trafficSource_adwordsClickInfo.gclId</th>\n",
       "      <th>trafficSource_adwordsClickInfo.isVideoAd</th>\n",
       "      <th>trafficSource_adwordsClickInfo.page</th>\n",
       "      <th>trafficSource_adwordsClickInfo.slot</th>\n",
       "      <th>trafficSource_campaign</th>\n",
       "      <th>trafficSource_isTrueDirect</th>\n",
       "      <th>trafficSource_keyword</th>\n",
       "      <th>trafficSource_medium</th>\n",
       "      <th>trafficSource_referralPath</th>\n",
       "      <th>trafficSource_source</th>\n",
       "    </tr>\n",
       "  </thead>\n",
       "  <tbody>\n",
       "    <tr>\n",
       "      <th>0</th>\n",
       "      <td>Organic Search</td>\n",
       "      <td>2016-09-02</td>\n",
       "      <td>1131660440785968503</td>\n",
       "      <td>1131660440785968503_1472830385</td>\n",
       "      <td>Not Socially Engaged</td>\n",
       "      <td>1472830385</td>\n",
       "      <td>1</td>\n",
       "      <td>1472830385</td>\n",
       "      <td>Chrome</td>\n",
       "      <td>not available in demo dataset</td>\n",
       "      <td>...</td>\n",
       "      <td>NaN</td>\n",
       "      <td>NaN</td>\n",
       "      <td>NaN</td>\n",
       "      <td>NaN</td>\n",
       "      <td>(not set)</td>\n",
       "      <td>NaN</td>\n",
       "      <td>(not provided)</td>\n",
       "      <td>organic</td>\n",
       "      <td>NaN</td>\n",
       "      <td>google</td>\n",
       "    </tr>\n",
       "    <tr>\n",
       "      <th>1</th>\n",
       "      <td>Organic Search</td>\n",
       "      <td>2016-09-02</td>\n",
       "      <td>377306020877927890</td>\n",
       "      <td>377306020877927890_1472880147</td>\n",
       "      <td>Not Socially Engaged</td>\n",
       "      <td>1472880147</td>\n",
       "      <td>1</td>\n",
       "      <td>1472880147</td>\n",
       "      <td>Firefox</td>\n",
       "      <td>not available in demo dataset</td>\n",
       "      <td>...</td>\n",
       "      <td>NaN</td>\n",
       "      <td>NaN</td>\n",
       "      <td>NaN</td>\n",
       "      <td>NaN</td>\n",
       "      <td>(not set)</td>\n",
       "      <td>NaN</td>\n",
       "      <td>(not provided)</td>\n",
       "      <td>organic</td>\n",
       "      <td>NaN</td>\n",
       "      <td>google</td>\n",
       "    </tr>\n",
       "    <tr>\n",
       "      <th>2</th>\n",
       "      <td>Organic Search</td>\n",
       "      <td>2016-09-02</td>\n",
       "      <td>3895546263509774583</td>\n",
       "      <td>3895546263509774583_1472865386</td>\n",
       "      <td>Not Socially Engaged</td>\n",
       "      <td>1472865386</td>\n",
       "      <td>1</td>\n",
       "      <td>1472865386</td>\n",
       "      <td>Chrome</td>\n",
       "      <td>not available in demo dataset</td>\n",
       "      <td>...</td>\n",
       "      <td>NaN</td>\n",
       "      <td>NaN</td>\n",
       "      <td>NaN</td>\n",
       "      <td>NaN</td>\n",
       "      <td>(not set)</td>\n",
       "      <td>NaN</td>\n",
       "      <td>(not provided)</td>\n",
       "      <td>organic</td>\n",
       "      <td>NaN</td>\n",
       "      <td>google</td>\n",
       "    </tr>\n",
       "    <tr>\n",
       "      <th>3</th>\n",
       "      <td>Organic Search</td>\n",
       "      <td>2016-09-02</td>\n",
       "      <td>4763447161404445595</td>\n",
       "      <td>4763447161404445595_1472881213</td>\n",
       "      <td>Not Socially Engaged</td>\n",
       "      <td>1472881213</td>\n",
       "      <td>1</td>\n",
       "      <td>1472881213</td>\n",
       "      <td>UC Browser</td>\n",
       "      <td>not available in demo dataset</td>\n",
       "      <td>...</td>\n",
       "      <td>NaN</td>\n",
       "      <td>NaN</td>\n",
       "      <td>NaN</td>\n",
       "      <td>NaN</td>\n",
       "      <td>(not set)</td>\n",
       "      <td>NaN</td>\n",
       "      <td>google + online</td>\n",
       "      <td>organic</td>\n",
       "      <td>NaN</td>\n",
       "      <td>google</td>\n",
       "    </tr>\n",
       "    <tr>\n",
       "      <th>4</th>\n",
       "      <td>Organic Search</td>\n",
       "      <td>2016-09-02</td>\n",
       "      <td>27294437909732085</td>\n",
       "      <td>27294437909732085_1472822600</td>\n",
       "      <td>Not Socially Engaged</td>\n",
       "      <td>1472822600</td>\n",
       "      <td>2</td>\n",
       "      <td>1472822600</td>\n",
       "      <td>Chrome</td>\n",
       "      <td>not available in demo dataset</td>\n",
       "      <td>...</td>\n",
       "      <td>NaN</td>\n",
       "      <td>NaN</td>\n",
       "      <td>NaN</td>\n",
       "      <td>NaN</td>\n",
       "      <td>(not set)</td>\n",
       "      <td>True</td>\n",
       "      <td>(not provided)</td>\n",
       "      <td>organic</td>\n",
       "      <td>NaN</td>\n",
       "      <td>google</td>\n",
       "    </tr>\n",
       "  </tbody>\n",
       "</table>\n",
       "<p>5 rows × 54 columns</p>\n",
       "</div>"
      ],
      "text/plain": [
       "  channelGrouping       date        fullVisitorId  \\\n",
       "0  Organic Search 2016-09-02  1131660440785968503   \n",
       "1  Organic Search 2016-09-02   377306020877927890   \n",
       "2  Organic Search 2016-09-02  3895546263509774583   \n",
       "3  Organic Search 2016-09-02  4763447161404445595   \n",
       "4  Organic Search 2016-09-02    27294437909732085   \n",
       "\n",
       "                        sessionId  socialEngagementType     visitId  \\\n",
       "0  1131660440785968503_1472830385  Not Socially Engaged  1472830385   \n",
       "1   377306020877927890_1472880147  Not Socially Engaged  1472880147   \n",
       "2  3895546263509774583_1472865386  Not Socially Engaged  1472865386   \n",
       "3  4763447161404445595_1472881213  Not Socially Engaged  1472881213   \n",
       "4    27294437909732085_1472822600  Not Socially Engaged  1472822600   \n",
       "\n",
       "   visitNumber  visitStartTime device_browser             device_browserSize  \\\n",
       "0            1      1472830385         Chrome  not available in demo dataset   \n",
       "1            1      1472880147        Firefox  not available in demo dataset   \n",
       "2            1      1472865386         Chrome  not available in demo dataset   \n",
       "3            1      1472881213     UC Browser  not available in demo dataset   \n",
       "4            2      1472822600         Chrome  not available in demo dataset   \n",
       "\n",
       "          ...          trafficSource_adwordsClickInfo.gclId  \\\n",
       "0         ...                                           NaN   \n",
       "1         ...                                           NaN   \n",
       "2         ...                                           NaN   \n",
       "3         ...                                           NaN   \n",
       "4         ...                                           NaN   \n",
       "\n",
       "  trafficSource_adwordsClickInfo.isVideoAd  \\\n",
       "0                                      NaN   \n",
       "1                                      NaN   \n",
       "2                                      NaN   \n",
       "3                                      NaN   \n",
       "4                                      NaN   \n",
       "\n",
       "  trafficSource_adwordsClickInfo.page  trafficSource_adwordsClickInfo.slot  \\\n",
       "0                                 NaN                                  NaN   \n",
       "1                                 NaN                                  NaN   \n",
       "2                                 NaN                                  NaN   \n",
       "3                                 NaN                                  NaN   \n",
       "4                                 NaN                                  NaN   \n",
       "\n",
       "  trafficSource_campaign trafficSource_isTrueDirect trafficSource_keyword  \\\n",
       "0              (not set)                        NaN        (not provided)   \n",
       "1              (not set)                        NaN        (not provided)   \n",
       "2              (not set)                        NaN        (not provided)   \n",
       "3              (not set)                        NaN       google + online   \n",
       "4              (not set)                       True        (not provided)   \n",
       "\n",
       "  trafficSource_medium trafficSource_referralPath trafficSource_source  \n",
       "0              organic                        NaN               google  \n",
       "1              organic                        NaN               google  \n",
       "2              organic                        NaN               google  \n",
       "3              organic                        NaN               google  \n",
       "4              organic                        NaN               google  \n",
       "\n",
       "[5 rows x 54 columns]"
      ]
     },
     "execution_count": 10,
     "metadata": {},
     "output_type": "execute_result"
    }
   ],
   "source": [
    "df_train.head()"
   ]
  },
  {
   "cell_type": "code",
   "execution_count": 11,
   "metadata": {
    "ExecuteTime": {
     "end_time": "2018-11-02T06:08:48.932196Z",
     "start_time": "2018-11-02T06:08:48.927770Z"
    }
   },
   "outputs": [
    {
     "data": {
      "text/plain": [
       "Index(['channelGrouping', 'date', 'fullVisitorId', 'sessionId',\n",
       "       'socialEngagementType', 'visitId', 'visitNumber', 'visitStartTime',\n",
       "       'device_browser', 'device_browserSize', 'device_browserVersion',\n",
       "       'device_deviceCategory', 'device_flashVersion', 'device_isMobile',\n",
       "       'device_language', 'device_mobileDeviceBranding',\n",
       "       'device_mobileDeviceInfo', 'device_mobileDeviceMarketingName',\n",
       "       'device_mobileDeviceModel', 'device_mobileInputSelector',\n",
       "       'device_operatingSystem', 'device_operatingSystemVersion',\n",
       "       'device_screenColors', 'device_screenResolution', 'geoNetwork_city',\n",
       "       'geoNetwork_cityId', 'geoNetwork_continent', 'geoNetwork_country',\n",
       "       'geoNetwork_latitude', 'geoNetwork_longitude', 'geoNetwork_metro',\n",
       "       'geoNetwork_networkDomain', 'geoNetwork_networkLocation',\n",
       "       'geoNetwork_region', 'geoNetwork_subContinent', 'totals_bounces',\n",
       "       'totals_hits', 'totals_newVisits', 'totals_pageviews',\n",
       "       'totals_transactionRevenue', 'totals_visits', 'trafficSource_adContent',\n",
       "       'trafficSource_adwordsClickInfo.adNetworkType',\n",
       "       'trafficSource_adwordsClickInfo.criteriaParameters',\n",
       "       'trafficSource_adwordsClickInfo.gclId',\n",
       "       'trafficSource_adwordsClickInfo.isVideoAd',\n",
       "       'trafficSource_adwordsClickInfo.page',\n",
       "       'trafficSource_adwordsClickInfo.slot', 'trafficSource_campaign',\n",
       "       'trafficSource_isTrueDirect', 'trafficSource_keyword',\n",
       "       'trafficSource_medium', 'trafficSource_referralPath',\n",
       "       'trafficSource_source'],\n",
       "      dtype='object')"
      ]
     },
     "execution_count": 11,
     "metadata": {},
     "output_type": "execute_result"
    }
   ],
   "source": [
    "df_train.columns"
   ]
  },
  {
   "cell_type": "markdown",
   "metadata": {
    "ExecuteTime": {
     "end_time": "2018-10-31T16:10:06.643367Z",
     "start_time": "2018-10-31T16:10:06.640727Z"
    }
   },
   "source": [
    "## totals_transactionRevenue"
   ]
  },
  {
   "cell_type": "code",
   "execution_count": 12,
   "metadata": {
    "ExecuteTime": {
     "end_time": "2018-11-02T06:08:48.952367Z",
     "start_time": "2018-11-02T06:08:48.933707Z"
    }
   },
   "outputs": [],
   "source": [
    "df_train.totals_transactionRevenue = df_train['totals_transactionRevenue'].fillna(0).astype(float)"
   ]
  },
  {
   "cell_type": "code",
   "execution_count": 13,
   "metadata": {
    "ExecuteTime": {
     "end_time": "2018-11-02T06:08:48.960407Z",
     "start_time": "2018-11-02T06:08:48.954317Z"
    }
   },
   "outputs": [],
   "source": [
    "df_train.totals_transactionRevenue = np.log1p(df_train['totals_transactionRevenue'])"
   ]
  },
  {
   "cell_type": "markdown",
   "metadata": {},
   "source": [
    "create a new is_bought variables for the sake of visualization"
   ]
  },
  {
   "cell_type": "code",
   "execution_count": 14,
   "metadata": {
    "ExecuteTime": {
     "end_time": "2018-11-02T06:08:48.965683Z",
     "start_time": "2018-11-02T06:08:48.962393Z"
    }
   },
   "outputs": [],
   "source": [
    "df_train['is_bought'] = df_train['totals_transactionRevenue'] > 0"
   ]
  },
  {
   "cell_type": "code",
   "execution_count": 15,
   "metadata": {
    "ExecuteTime": {
     "end_time": "2018-11-02T06:08:48.973482Z",
     "start_time": "2018-11-02T06:08:48.967285Z"
    }
   },
   "outputs": [
    {
     "name": "stdout",
     "output_type": "stream",
     "text": [
      "The data is highly unbalanced\n"
     ]
    },
    {
     "data": {
      "text/plain": [
       "False    9909\n",
       "True       91\n",
       "Name: is_bought, dtype: int64"
      ]
     },
     "execution_count": 15,
     "metadata": {},
     "output_type": "execute_result"
    }
   ],
   "source": [
    "print('The data is highly unbalanced')\n",
    "df_train.is_bought.value_counts()"
   ]
  },
  {
   "cell_type": "code",
   "execution_count": 16,
   "metadata": {
    "ExecuteTime": {
     "end_time": "2018-11-02T06:08:49.147225Z",
     "start_time": "2018-11-02T06:08:48.974883Z"
    }
   },
   "outputs": [],
   "source": [
    "df_train_ = df_train.fillna(9999).copy()"
   ]
  },
  {
   "cell_type": "markdown",
   "metadata": {},
   "source": [
    "# Data cleaning\n",
    "This data contains json in some columns, we need to convert into indivitual columns"
   ]
  },
  {
   "cell_type": "markdown",
   "metadata": {},
   "source": [
    "## Handle NA data"
   ]
  },
  {
   "cell_type": "markdown",
   "metadata": {},
   "source": [
    "**Percetage of missing value in data**\n",
    "\n",
    "But some of these Na isn't real Na. For example totals_transactionRevenue has default value for 0 is Na"
   ]
  },
  {
   "cell_type": "code",
   "execution_count": 17,
   "metadata": {
    "ExecuteTime": {
     "end_time": "2018-11-02T06:08:49.155150Z",
     "start_time": "2018-11-02T06:08:49.148997Z"
    }
   },
   "outputs": [
    {
     "data": {
      "text/plain": [
       "0                               Izmir\n",
       "1       not available in demo dataset\n",
       "2                              Madrid\n",
       "3       not available in demo dataset\n",
       "4       not available in demo dataset\n",
       "5       not available in demo dataset\n",
       "6       not available in demo dataset\n",
       "7                            Brisbane\n",
       "8       not available in demo dataset\n",
       "9       not available in demo dataset\n",
       "10      not available in demo dataset\n",
       "11      not available in demo dataset\n",
       "12                              Izmir\n",
       "13                            Karachi\n",
       "14      not available in demo dataset\n",
       "15      not available in demo dataset\n",
       "16      not available in demo dataset\n",
       "17                              Paris\n",
       "18                          Singapore\n",
       "19                       Buenos Aires\n",
       "20      not available in demo dataset\n",
       "21                          (not set)\n",
       "22      not available in demo dataset\n",
       "23                            Bangkok\n",
       "24                            Jakarta\n",
       "25      not available in demo dataset\n",
       "26      not available in demo dataset\n",
       "27      not available in demo dataset\n",
       "28                          Bengaluru\n",
       "29      not available in demo dataset\n",
       "                    ...              \n",
       "9970    not available in demo dataset\n",
       "9971    not available in demo dataset\n",
       "9972                    Mountain View\n",
       "9973    not available in demo dataset\n",
       "9974    not available in demo dataset\n",
       "9975                         San Jose\n",
       "9976                            Salem\n",
       "9977                         Evanston\n",
       "9978    not available in demo dataset\n",
       "9979                         Evanston\n",
       "9980                        Palo Alto\n",
       "9981    not available in demo dataset\n",
       "9982    not available in demo dataset\n",
       "9983                           Austin\n",
       "9984    not available in demo dataset\n",
       "9985         Villafranca del Castillo\n",
       "9986                        San Diego\n",
       "9987    not available in demo dataset\n",
       "9988                    Mountain View\n",
       "9989                    San Francisco\n",
       "9990    not available in demo dataset\n",
       "9991    not available in demo dataset\n",
       "9992                        (not set)\n",
       "9993                         New York\n",
       "9994                        Palo Alto\n",
       "9995                           Zagreb\n",
       "9996                    Mountain View\n",
       "9997                          Chennai\n",
       "9998    not available in demo dataset\n",
       "9999    not available in demo dataset\n",
       "Name: geoNetwork_city, Length: 10000, dtype: object"
      ]
     },
     "execution_count": 17,
     "metadata": {},
     "output_type": "execute_result"
    }
   ],
   "source": [
    "df_train['geoNetwork_city']"
   ]
  },
  {
   "cell_type": "code",
   "execution_count": 18,
   "metadata": {
    "ExecuteTime": {
     "end_time": "2018-11-02T06:08:49.204842Z",
     "start_time": "2018-11-02T06:08:49.156821Z"
    },
    "scrolled": true
   },
   "outputs": [
    {
     "name": "stdout",
     "output_type": "stream",
     "text": [
      "Percetage of missing value in data\n"
     ]
    },
    {
     "data": {
      "text/plain": [
       "trafficSource_adContent                         98.49\n",
       "trafficSource_adwordsClickInfo.slot             97.50\n",
       "trafficSource_adwordsClickInfo.page             97.50\n",
       "trafficSource_adwordsClickInfo.isVideoAd        97.50\n",
       "trafficSource_adwordsClickInfo.adNetworkType    97.50\n",
       "trafficSource_adwordsClickInfo.gclId            97.47\n",
       "trafficSource_referralPath                      69.59\n",
       "trafficSource_isTrueDirect                      68.21\n",
       "trafficSource_keyword                           49.96\n",
       "totals_bounces                                  46.82\n",
       "totals_newVisits                                22.99\n",
       "is_bought                                        0.00\n",
       "device_language                                  0.00\n",
       "device_flashVersion                              0.00\n",
       "device_isMobile                                  0.00\n",
       "dtype: float64"
      ]
     },
     "execution_count": 18,
     "metadata": {},
     "output_type": "execute_result"
    }
   ],
   "source": [
    "print('Percetage of missing value in data')\n",
    "(df_train.isnull().sum().sort_values(ascending=False)*100/len(df_train))[:15]"
   ]
  },
  {
   "cell_type": "markdown",
   "metadata": {},
   "source": [
    "### Replace NA string to NA"
   ]
  },
  {
   "cell_type": "code",
   "execution_count": 19,
   "metadata": {
    "ExecuteTime": {
     "end_time": "2018-11-02T06:08:49.212331Z",
     "start_time": "2018-11-02T06:08:49.208071Z"
    }
   },
   "outputs": [],
   "source": [
    "cols_to_replace = {\n",
    "    'socialEngagementType' : 'Not Socially Engaged',\n",
    "    'device_browserSize' : 'not available in demo dataset', \n",
    "    'device_flashVersion' : 'not available in demo dataset', \n",
    "    'device_browserVersion' : 'not available in demo dataset', \n",
    "    'device_language' : 'not available in demo dataset',\n",
    "    'device_mobileDeviceBranding' : 'not available in demo dataset',\n",
    "    'device_mobileDeviceInfo' : 'not available in demo dataset',\n",
    "    'device_mobileDeviceMarketingName' : 'not available in demo dataset',\n",
    "    'device_mobileDeviceModel' : 'not available in demo dataset',\n",
    "    'device_mobileInputSelector' : 'not available in demo dataset',\n",
    "    'device_operatingSystemVersion' : 'not available in demo dataset',\n",
    "    'device_screenColors' : 'not available in demo dataset',\n",
    "    'device_screenResolution' : 'not available in demo dataset',\n",
    "    'geoNetwork_city' : 'not available in demo dataset',\n",
    "    'geoNetwork_cityId' : 'not available in demo dataset',\n",
    "    'geoNetwork_latitude' : 'not available in demo dataset',\n",
    "    'geoNetwork_longitude' : 'not available in demo dataset',\n",
    "    'geoNetwork_metro' : ['not available in demo dataset', '(not set)'], \n",
    "    'geoNetwork_networkDomain' : 'unknown.unknown', \n",
    "    'geoNetwork_networkLocation' : 'not available in demo dataset',\n",
    "    'geoNetwork_region' : 'not available in demo dataset',\n",
    "    'trafficSource_adwordsClickInfo.criteriaParameters' : 'not available in demo dataset',\n",
    "    'trafficSource_campaign' : '(not set)', \n",
    "    'trafficSource_keyword' : '(not provided)'\n",
    "}"
   ]
  },
  {
   "cell_type": "code",
   "execution_count": 20,
   "metadata": {
    "ExecuteTime": {
     "end_time": "2018-11-02T06:08:50.256039Z",
     "start_time": "2018-11-02T06:08:49.214994Z"
    }
   },
   "outputs": [
    {
     "name": "stdout",
     "output_type": "stream",
     "text": [
      "CPU times: user 973 ms, sys: 23.1 ms, total: 996 ms\n",
      "Wall time: 1.04 s\n"
     ]
    }
   ],
   "source": [
    "%%time\n",
    "df_train = df_train.replace(cols_to_replace, 'NA')"
   ]
  },
  {
   "cell_type": "code",
   "execution_count": 21,
   "metadata": {
    "ExecuteTime": {
     "end_time": "2018-11-02T06:08:51.373146Z",
     "start_time": "2018-11-02T06:08:50.258163Z"
    },
    "scrolled": true
   },
   "outputs": [
    {
     "name": "stdout",
     "output_type": "stream",
     "text": [
      "CPU times: user 1.06 s, sys: 28.5 ms, total: 1.09 s\n",
      "Wall time: 1.11 s\n"
     ]
    }
   ],
   "source": [
    "%%time\n",
    "df_test = df_test.replace(cols_to_replace, 'NA')"
   ]
  },
  {
   "cell_type": "markdown",
   "metadata": {},
   "source": [
    "### trafficSource_campaign"
   ]
  },
  {
   "cell_type": "code",
   "execution_count": 22,
   "metadata": {
    "ExecuteTime": {
     "end_time": "2018-11-02T06:08:51.384992Z",
     "start_time": "2018-11-02T06:08:51.375061Z"
    }
   },
   "outputs": [
    {
     "data": {
      "text/plain": [
       "NA                                                 9539\n",
       "Data Share Promo                                    201\n",
       "AW - Dynamic Search Ads Whole Site                  160\n",
       "AW - Accessories                                     87\n",
       "test-liyuhz                                           9\n",
       "AW - Apparel                                          2\n",
       "AW - Electronics                                      1\n",
       "Retail (DO NOT EDIT owners nophakun and tianyu)       1\n",
       "Name: trafficSource_campaign, dtype: int64"
      ]
     },
     "execution_count": 22,
     "metadata": {},
     "output_type": "execute_result"
    }
   ],
   "source": [
    "df_train['trafficSource_campaign'].value_counts()"
   ]
  },
  {
   "cell_type": "markdown",
   "metadata": {},
   "source": [
    "Just 1 campaign for the whole data set. It doesn't help any things\n",
    "\n",
    "Delete it"
   ]
  },
  {
   "cell_type": "code",
   "execution_count": 59,
   "metadata": {
    "ExecuteTime": {
     "end_time": "2018-11-02T06:11:17.306442Z",
     "start_time": "2018-11-02T06:11:17.303701Z"
    }
   },
   "outputs": [],
   "source": [
    "df_train.drop('trafficSource_campaign',axis=1,inplace=True)\n",
    "df_test.drop('trafficSource_campaign',axis=1,inplace=True)\n",
    "df_train.drop('trafficSource_campaignCode',axis=1,inplace=True)"
   ]
  },
  {
   "cell_type": "markdown",
   "metadata": {
    "ExecuteTime": {
     "end_time": "2018-10-31T06:10:42.129126Z",
     "start_time": "2018-10-31T06:10:42.126288Z"
    }
   },
   "source": [
    "### trafficSource_adContent 98.675 %"
   ]
  },
  {
   "cell_type": "code",
   "execution_count": 25,
   "metadata": {
    "ExecuteTime": {
     "end_time": "2018-11-02T06:09:14.906780Z",
     "start_time": "2018-11-02T06:09:14.897559Z"
    }
   },
   "outputs": [
    {
     "name": "stdout",
     "output_type": "stream",
     "text": [
      "There are 1 people has non-nan value has bought\n"
     ]
    }
   ],
   "source": [
    "nan_bought_count = df_train[~df_train['trafficSource_adContent'].isnull()].is_bought.sum()\n",
    "print(f\"There are {nan_bought_count} people has non-nan value has bought\")"
   ]
  },
  {
   "cell_type": "markdown",
   "metadata": {
    "ExecuteTime": {
     "end_time": "2018-10-31T06:51:01.757548Z",
     "start_time": "2018-10-31T06:51:01.752701Z"
    }
   },
   "source": [
    "None of the revenue come from adsoruce, so we can delete it"
   ]
  },
  {
   "cell_type": "code",
   "execution_count": 26,
   "metadata": {
    "ExecuteTime": {
     "end_time": "2018-11-02T06:09:16.810090Z",
     "start_time": "2018-11-02T06:09:16.777277Z"
    }
   },
   "outputs": [],
   "source": [
    "del df_train['trafficSource_adContent']\n",
    "del df_test['trafficSource_adContent']"
   ]
  },
  {
   "cell_type": "markdown",
   "metadata": {},
   "source": [
    "### trafficSource_adwordsClickInfo.slot - 97.426"
   ]
  },
  {
   "cell_type": "code",
   "execution_count": 27,
   "metadata": {
    "ExecuteTime": {
     "end_time": "2018-11-02T06:09:16.950292Z",
     "start_time": "2018-11-02T06:09:16.944186Z"
    }
   },
   "outputs": [
    {
     "name": "stdout",
     "output_type": "stream",
     "text": [
      "There are 1 people has non-nan value has bought\n"
     ]
    }
   ],
   "source": [
    "nan_bought_count = df_train[~df_train['trafficSource_adwordsClickInfo.slot'].isnull()].is_bought.sum()\n",
    "print(f\"There are {nan_bought_count} people has non-nan value has bought\")"
   ]
  },
  {
   "cell_type": "markdown",
   "metadata": {},
   "source": [
    "Too small of these contribute to the buy behavior \n",
    "\n",
    "Delete it"
   ]
  },
  {
   "cell_type": "code",
   "execution_count": 28,
   "metadata": {
    "ExecuteTime": {
     "end_time": "2018-11-02T06:09:17.144209Z",
     "start_time": "2018-11-02T06:09:17.111268Z"
    }
   },
   "outputs": [],
   "source": [
    "del df_train['trafficSource_adwordsClickInfo.slot']\n",
    "del df_test['trafficSource_adwordsClickInfo.slot']"
   ]
  },
  {
   "cell_type": "markdown",
   "metadata": {},
   "source": [
    "### trafficSource_adwordsClickInfo.adNetworkType"
   ]
  },
  {
   "cell_type": "code",
   "execution_count": 29,
   "metadata": {
    "ExecuteTime": {
     "end_time": "2018-11-02T06:09:17.283940Z",
     "start_time": "2018-11-02T06:09:17.276087Z"
    }
   },
   "outputs": [
    {
     "name": "stdout",
     "output_type": "stream",
     "text": [
      "There are 1 people has non-nan value has bought\n"
     ]
    }
   ],
   "source": [
    "nan_bought_count = df_train[~df_train['trafficSource_adwordsClickInfo.adNetworkType'].isnull()].is_bought.sum()\n",
    "print(f\"There are {nan_bought_count} people has non-nan value has bought\")"
   ]
  },
  {
   "cell_type": "markdown",
   "metadata": {
    "ExecuteTime": {
     "end_time": "2018-10-31T07:06:35.270911Z",
     "start_time": "2018-10-31T07:06:35.266405Z"
    }
   },
   "source": [
    "Too small of these contribute to the buy behavior \n",
    "\n",
    "Delete it"
   ]
  },
  {
   "cell_type": "code",
   "execution_count": 30,
   "metadata": {
    "ExecuteTime": {
     "end_time": "2018-11-02T06:09:17.483298Z",
     "start_time": "2018-11-02T06:09:17.452437Z"
    }
   },
   "outputs": [],
   "source": [
    "del df_train['trafficSource_adwordsClickInfo.adNetworkType']\n",
    "del df_test['trafficSource_adwordsClickInfo.adNetworkType']"
   ]
  },
  {
   "cell_type": "markdown",
   "metadata": {},
   "source": [
    "### trafficSource_adwordsClickInfo.page "
   ]
  },
  {
   "cell_type": "code",
   "execution_count": 31,
   "metadata": {
    "ExecuteTime": {
     "end_time": "2018-11-02T06:09:17.620586Z",
     "start_time": "2018-11-02T06:09:17.613805Z"
    }
   },
   "outputs": [
    {
     "name": "stdout",
     "output_type": "stream",
     "text": [
      "There are 1 people has non-nan value has bought\n"
     ]
    }
   ],
   "source": [
    "nan_bought_count = df_train[~df_train['trafficSource_adwordsClickInfo.page'].isnull()].is_bought.sum()\n",
    "print(f\"There are {nan_bought_count} people has non-nan value has bought\")"
   ]
  },
  {
   "cell_type": "markdown",
   "metadata": {
    "ExecuteTime": {
     "end_time": "2018-10-31T07:06:47.508210Z",
     "start_time": "2018-10-31T07:06:47.503596Z"
    }
   },
   "source": [
    "Too small of these contribute to the buy behavior \n",
    "\n",
    "Delete it"
   ]
  },
  {
   "cell_type": "code",
   "execution_count": 32,
   "metadata": {
    "ExecuteTime": {
     "end_time": "2018-11-02T06:09:17.812562Z",
     "start_time": "2018-11-02T06:09:17.780764Z"
    }
   },
   "outputs": [],
   "source": [
    "del df_train['trafficSource_adwordsClickInfo.page']\n",
    "del df_test['trafficSource_adwordsClickInfo.page']"
   ]
  },
  {
   "cell_type": "markdown",
   "metadata": {},
   "source": [
    "### trafficSource_adwordsClickInfo.isVideoAd"
   ]
  },
  {
   "cell_type": "code",
   "execution_count": 33,
   "metadata": {
    "ExecuteTime": {
     "end_time": "2018-11-02T06:09:17.954702Z",
     "start_time": "2018-11-02T06:09:17.946645Z"
    }
   },
   "outputs": [
    {
     "name": "stdout",
     "output_type": "stream",
     "text": [
      "There are 1 people has non-nan value has bought\n"
     ]
    }
   ],
   "source": [
    "nan_bought_count = df_train[~df_train['trafficSource_adwordsClickInfo.isVideoAd'].isnull()].is_bought.sum()\n",
    "print(f\"There are {nan_bought_count} people has non-nan value has bought\")"
   ]
  },
  {
   "cell_type": "markdown",
   "metadata": {},
   "source": [
    "Too small of these contribute to the buy behavior \n",
    "\n",
    "Delete it"
   ]
  },
  {
   "cell_type": "code",
   "execution_count": 34,
   "metadata": {
    "ExecuteTime": {
     "end_time": "2018-11-02T06:09:18.147834Z",
     "start_time": "2018-11-02T06:09:18.115048Z"
    }
   },
   "outputs": [],
   "source": [
    "del df_train['trafficSource_adwordsClickInfo.isVideoAd']\n",
    "del df_test['trafficSource_adwordsClickInfo.isVideoAd']"
   ]
  },
  {
   "cell_type": "markdown",
   "metadata": {},
   "source": [
    "### trafficSource_adwordsClickInfo.gclId"
   ]
  },
  {
   "cell_type": "code",
   "execution_count": 35,
   "metadata": {
    "ExecuteTime": {
     "end_time": "2018-11-02T06:09:18.289566Z",
     "start_time": "2018-11-02T06:09:18.281325Z"
    },
    "scrolled": true
   },
   "outputs": [
    {
     "name": "stdout",
     "output_type": "stream",
     "text": [
      "There are 1 people has non-nan value has bought\n"
     ]
    }
   ],
   "source": [
    "nan_bought_count = df_train[~df_train['trafficSource_adwordsClickInfo.gclId'].isnull()].is_bought.sum()\n",
    "print(f\"There are {nan_bought_count} people has non-nan value has bought\")"
   ]
  },
  {
   "cell_type": "markdown",
   "metadata": {},
   "source": [
    "Too small of these contribute to the buy behavior \n",
    "\n",
    "Delete it"
   ]
  },
  {
   "cell_type": "code",
   "execution_count": 36,
   "metadata": {
    "ExecuteTime": {
     "end_time": "2018-11-02T06:09:18.482907Z",
     "start_time": "2018-11-02T06:09:18.452332Z"
    }
   },
   "outputs": [],
   "source": [
    "del df_train['trafficSource_adwordsClickInfo.gclId']\n",
    "del df_test['trafficSource_adwordsClickInfo.gclId']"
   ]
  },
  {
   "cell_type": "markdown",
   "metadata": {},
   "source": [
    "### trafficSource_isTrueDirect"
   ]
  },
  {
   "cell_type": "code",
   "execution_count": 37,
   "metadata": {
    "ExecuteTime": {
     "end_time": "2018-11-02T06:09:18.621698Z",
     "start_time": "2018-11-02T06:09:18.614127Z"
    },
    "scrolled": false
   },
   "outputs": [
    {
     "data": {
      "text/plain": [
       "True    3179\n",
       "Name: trafficSource_isTrueDirect, dtype: int64"
      ]
     },
     "execution_count": 37,
     "metadata": {},
     "output_type": "execute_result"
    }
   ],
   "source": [
    "df_train['trafficSource_isTrueDirect'].value_counts()"
   ]
  },
  {
   "cell_type": "code",
   "execution_count": 38,
   "metadata": {
    "ExecuteTime": {
     "end_time": "2018-11-02T06:09:18.739509Z",
     "start_time": "2018-11-02T06:09:18.709498Z"
    }
   },
   "outputs": [],
   "source": [
    "df_train['trafficSource_isTrueDirect'].fillna(False,inplace=True)\n",
    "df_test['trafficSource_isTrueDirect'].fillna(False,inplace=True)"
   ]
  },
  {
   "cell_type": "markdown",
   "metadata": {
    "ExecuteTime": {
     "end_time": "2018-10-31T11:46:09.731275Z",
     "start_time": "2018-10-31T11:46:09.728012Z"
    }
   },
   "source": [
    "### trafficSource_referralPath\n",
    "\n"
   ]
  },
  {
   "cell_type": "code",
   "execution_count": 39,
   "metadata": {
    "ExecuteTime": {
     "end_time": "2018-11-02T06:09:18.876876Z",
     "start_time": "2018-11-02T06:09:18.869036Z"
    }
   },
   "outputs": [
    {
     "name": "stdout",
     "output_type": "stream",
     "text": [
      "There are 52 people has non-nan value has bought\n"
     ]
    }
   ],
   "source": [
    "nan_bought_count = df_train[~df_train['trafficSource_referralPath'].isnull()].is_bought.sum()\n",
    "print(f\"There are {nan_bought_count} people has non-nan value has bought\")"
   ]
  },
  {
   "cell_type": "code",
   "execution_count": 40,
   "metadata": {
    "ExecuteTime": {
     "end_time": "2018-11-02T06:09:19.477710Z",
     "start_time": "2018-11-02T06:09:18.963499Z"
    },
    "scrolled": true
   },
   "outputs": [
    {
     "data": {
      "text/plain": [
       "<matplotlib.axes._subplots.AxesSubplot at 0x1a236ac828>"
      ]
     },
     "execution_count": 40,
     "metadata": {},
     "output_type": "execute_result"
    },
    {
     "data": {
      "image/png": "[encoded data removed]",
      "text/plain": [
       "<Figure size 432x288 with 1 Axes>"
      ]
     },
     "metadata": {
      "needs_background": "light"
     },
     "output_type": "display_data"
    }
   ],
   "source": [
    "df_train['trafficSource_referralPath'].value_counts().sort_values(ascending=False)[:30].plot(kind='barh')"
   ]
  },
  {
   "cell_type": "code",
   "execution_count": 41,
   "metadata": {
    "ExecuteTime": {
     "end_time": "2018-11-02T06:09:19.490032Z",
     "start_time": "2018-11-02T06:09:19.480453Z"
    }
   },
   "outputs": [
    {
     "data": {
      "text/plain": [
       "0                                    NaN\n",
       "1                                    NaN\n",
       "2                                    NaN\n",
       "3                                    NaN\n",
       "4                                    NaN\n",
       "5                                    NaN\n",
       "6                                    NaN\n",
       "7                                    NaN\n",
       "8                                    NaN\n",
       "9                                    NaN\n",
       "10                                   NaN\n",
       "11                                   NaN\n",
       "12                                   NaN\n",
       "13                                   NaN\n",
       "14                                   NaN\n",
       "15                                   NaN\n",
       "16                                   NaN\n",
       "17                                   NaN\n",
       "18                                   NaN\n",
       "19                                   NaN\n",
       "20                                   NaN\n",
       "21                                   NaN\n",
       "22                                   NaN\n",
       "23                                   NaN\n",
       "24                                   NaN\n",
       "25                                   NaN\n",
       "26                                   NaN\n",
       "27                                   NaN\n",
       "28                                     /\n",
       "29                                   NaN\n",
       "                      ...               \n",
       "9970                                 NaN\n",
       "9971                                 NaN\n",
       "9972                                 NaN\n",
       "9973                                 NaN\n",
       "9974                                 NaN\n",
       "9975                                 NaN\n",
       "9976                                 NaN\n",
       "9977                                 NaN\n",
       "9978                                 NaN\n",
       "9979                                 NaN\n",
       "9980                                 NaN\n",
       "9981                                 NaN\n",
       "9982                                 NaN\n",
       "9983                                   /\n",
       "9984                                   /\n",
       "9985                                 NaN\n",
       "9986                                 NaN\n",
       "9987                                 NaN\n",
       "9988                                 NaN\n",
       "9989                                   /\n",
       "9990    /permissions/using-the-logo.html\n",
       "9991                                   /\n",
       "9992                                 NaN\n",
       "9993                                   /\n",
       "9994                                   /\n",
       "9995                                 NaN\n",
       "9996                                 NaN\n",
       "9997                                 NaN\n",
       "9998                     /analytics/web/\n",
       "9999                                 NaN\n",
       "Name: trafficSource_referralPath, Length: 10000, dtype: object"
      ]
     },
     "execution_count": 41,
     "metadata": {},
     "output_type": "execute_result"
    }
   ],
   "source": [
    "df_train['trafficSource_referralPath']"
   ]
  },
  {
   "cell_type": "code",
   "execution_count": 42,
   "metadata": {
    "ExecuteTime": {
     "end_time": "2018-11-02T06:09:19.497436Z",
     "start_time": "2018-11-02T06:09:19.491879Z"
    },
    "scrolled": true
   },
   "outputs": [],
   "source": [
    "df_train['trafficSource_referralPath'].fillna('NA',inplace=True)\n",
    "df_test['trafficSource_referralPath'].fillna('NA',inplace=True)"
   ]
  },
  {
   "cell_type": "markdown",
   "metadata": {
    "ExecuteTime": {
     "end_time": "2018-11-01T10:07:42.978449Z",
     "start_time": "2018-11-01T10:07:42.975884Z"
    }
   },
   "source": [
    "### trafficSource_keyword"
   ]
  },
  {
   "cell_type": "code",
   "execution_count": 43,
   "metadata": {
    "ExecuteTime": {
     "end_time": "2018-11-02T06:09:19.505006Z",
     "start_time": "2018-11-02T06:09:19.500148Z"
    }
   },
   "outputs": [],
   "source": [
    "\n",
    "df_train['trafficSource_keyword'].fillna('NA',inplace=True)\n",
    "df_test['trafficSource_keyword'].fillna('NA',inplace=True)"
   ]
  },
  {
   "cell_type": "markdown",
   "metadata": {
    "ExecuteTime": {
     "end_time": "2018-10-31T12:48:49.150461Z",
     "start_time": "2018-10-31T12:48:49.147431Z"
    }
   },
   "source": [
    "### totals_bounces"
   ]
  },
  {
   "cell_type": "code",
   "execution_count": 44,
   "metadata": {
    "ExecuteTime": {
     "end_time": "2018-11-02T06:09:20.477335Z",
     "start_time": "2018-11-02T06:09:20.471949Z"
    }
   },
   "outputs": [],
   "source": [
    "df_train['totals_bounces'].fillna(0,inplace=True)\n",
    "df_test['totals_bounces'].fillna(0,inplace=True)"
   ]
  },
  {
   "cell_type": "markdown",
   "metadata": {},
   "source": [
    "### totals_newVisits"
   ]
  },
  {
   "cell_type": "code",
   "execution_count": 45,
   "metadata": {
    "ExecuteTime": {
     "end_time": "2018-11-02T06:09:20.765008Z",
     "start_time": "2018-11-02T06:09:20.759065Z"
    }
   },
   "outputs": [],
   "source": [
    "df_train['totals_newVisits'].fillna(0,inplace=True)\n",
    "df_test['totals_newVisits'].fillna(0,inplace=True)"
   ]
  },
  {
   "cell_type": "markdown",
   "metadata": {},
   "source": [
    "### totals_pageviews"
   ]
  },
  {
   "cell_type": "code",
   "execution_count": 46,
   "metadata": {
    "ExecuteTime": {
     "end_time": "2018-11-02T06:09:22.968922Z",
     "start_time": "2018-11-02T06:09:22.963745Z"
    }
   },
   "outputs": [],
   "source": [
    "df_train['totals_pageviews'].fillna(0,inplace=True)\n",
    "df_test['totals_pageviews'].fillna(0,inplace=True)"
   ]
  },
  {
   "cell_type": "markdown",
   "metadata": {
    "ExecuteTime": {
     "end_time": "2018-10-31T06:01:39.368348Z",
     "start_time": "2018-10-31T06:01:39.227177Z"
    }
   },
   "source": [
    "## Remove constant columns"
   ]
  },
  {
   "cell_type": "markdown",
   "metadata": {},
   "source": [
    "Create a new df with filled na to find the actual column with constant values"
   ]
  },
  {
   "cell_type": "code",
   "execution_count": 47,
   "metadata": {
    "ExecuteTime": {
     "end_time": "2018-11-02T06:09:23.575211Z",
     "start_time": "2018-11-02T06:09:23.496615Z"
    }
   },
   "outputs": [],
   "source": [
    "df_train_ = df_train.fillna(9999).copy()"
   ]
  },
  {
   "cell_type": "code",
   "execution_count": 48,
   "metadata": {
    "ExecuteTime": {
     "end_time": "2018-11-02T06:09:23.743822Z",
     "start_time": "2018-11-02T06:09:23.682094Z"
    },
    "scrolled": false
   },
   "outputs": [
    {
     "name": "stdout",
     "output_type": "stream",
     "text": [
      "Dropped 19 constant columns\n"
     ]
    }
   ],
   "source": [
    "const_cols = []\n",
    "for col in df_train.columns:\n",
    "    if len(df_train[col].unique()) == 1:\n",
    "        const_cols.append(col)\n",
    "df_train.drop(const_cols,axis=1,inplace=True)\n",
    "df_test.drop(const_cols,axis=1,inplace=True)\n",
    "print(f'Dropped {len(const_cols)} constant columns')\n",
    "    "
   ]
  },
  {
   "cell_type": "code",
   "execution_count": 52,
   "metadata": {
    "ExecuteTime": {
     "end_time": "2018-11-02T06:09:45.150504Z",
     "start_time": "2018-11-02T06:09:45.129643Z"
    }
   },
   "outputs": [
    {
     "data": {
      "text/plain": [
       "channelGrouping               0\n",
       "date                          0\n",
       "fullVisitorId                 0\n",
       "sessionId                     0\n",
       "visitId                       0\n",
       "visitNumber                   0\n",
       "visitStartTime                0\n",
       "device_browser                0\n",
       "device_deviceCategory         0\n",
       "device_isMobile               0\n",
       "device_operatingSystem        0\n",
       "geoNetwork_city               0\n",
       "geoNetwork_continent          0\n",
       "geoNetwork_country            0\n",
       "geoNetwork_metro              0\n",
       "geoNetwork_networkDomain      0\n",
       "geoNetwork_region             0\n",
       "geoNetwork_subContinent       0\n",
       "totals_bounces                0\n",
       "totals_hits                   0\n",
       "totals_newVisits              0\n",
       "totals_pageviews              0\n",
       "totals_transactionRevenue     0\n",
       "trafficSource_isTrueDirect    0\n",
       "trafficSource_keyword         0\n",
       "trafficSource_medium          0\n",
       "trafficSource_referralPath    0\n",
       "trafficSource_source          0\n",
       "is_bought                     0\n",
       "dtype: int64"
      ]
     },
     "execution_count": 52,
     "metadata": {},
     "output_type": "execute_result"
    }
   ],
   "source": [
    "df_train.isnull().sum()"
   ]
  },
  {
   "cell_type": "markdown",
   "metadata": {},
   "source": [
    "# Save data"
   ]
  },
  {
   "cell_type": "code",
   "execution_count": 49,
   "metadata": {
    "ExecuteTime": {
     "end_time": "2018-11-02T06:09:24.452814Z",
     "start_time": "2018-11-02T06:09:24.450281Z"
    }
   },
   "outputs": [],
   "source": [
    "df_train.to_csv('../data/train_.csv')\n",
    "df_test.to_csv('../data/test_.csv')"
   ]
  },
  {
   "cell_type": "code",
   "execution_count": null,
   "metadata": {},
   "outputs": [],
   "source": []
  },
  {
   "cell_type": "markdown",
   "metadata": {
    "ExecuteTime": {
     "end_time": "2018-10-31T16:37:23.291636Z",
     "start_time": "2018-10-31T16:37:23.289103Z"
    }
   },
   "source": [
    "## Convert data"
   ]
  },
  {
   "cell_type": "code",
   "execution_count": null,
   "metadata": {
    "ExecuteTime": {
     "end_time": "2018-11-01T10:12:24.205035Z",
     "start_time": "2018-11-01T10:12:24.187647Z"
    }
   },
   "outputs": [],
   "source": []
  },
  {
   "cell_type": "code",
   "execution_count": null,
   "metadata": {
    "ExecuteTime": {
     "end_time": "2018-11-02T06:08:51.734075Z",
     "start_time": "2018-11-02T06:08:44.719Z"
    }
   },
   "outputs": [],
   "source": [
    "# for col in df_train.columns:\n",
    "#     print(col)\n",
    "#     print(type(df_train[col][0]))\n",
    "#     print(df_train[col][0])\n",
    "#     print('-'*100)"
   ]
  },
  {
   "cell_type": "code",
   "execution_count": null,
   "metadata": {
    "ExecuteTime": {
     "end_time": "2018-11-02T06:08:51.736517Z",
     "start_time": "2018-11-02T06:08:44.721Z"
    }
   },
   "outputs": [],
   "source": [
    "# df_train['totals_bounces'].value_counts()"
   ]
  },
  {
   "cell_type": "code",
   "execution_count": null,
   "metadata": {
    "ExecuteTime": {
     "end_time": "2018-11-02T06:08:51.738201Z",
     "start_time": "2018-11-02T06:08:44.723Z"
    }
   },
   "outputs": [],
   "source": [
    "# id_cols = ['fullVisitorId','sessionId','visitId']\n",
    "# cat_cols = ['channelGrouping','device_browser','device_deviceCategory','device_operatingSystem','geoNetwork_city',\n",
    "#            'geoNetwork_continent','geoNetwork_country','geoNetwork_metro','geoNetwork_networkDomain','geoNetwork_region',\n",
    "#            'geoNetwork_subContinent','trafficSource_keyword','trafficSource_medium','trafficSource_referralPath',\n",
    "#            'trafficSource_source']\n",
    "# num_cols = ['visitNumber','visitNumber','totals_bounces','totals_hits','totals_newVisits','totals_pageviews']\n",
    "# date_cols = ['date','visitStartTime']\n",
    "# bool_cols = ['device_isMobile','trafficSource_isTrueDirect']"
   ]
  },
  {
   "cell_type": "code",
   "execution_count": null,
   "metadata": {
    "ExecuteTime": {
     "end_time": "2018-11-02T06:08:51.741535Z",
     "start_time": "2018-11-02T06:08:44.726Z"
    }
   },
   "outputs": [],
   "source": [
    "# print('Enough columns',len(df_train.columns)) if len(id_cols)+ len(cat_cols) + len(num_cols) + len(date_cols) + len(bool_cols)+1 == len(df_train.columns) else print('Not enough columns')\n"
   ]
  },
  {
   "cell_type": "markdown",
   "metadata": {},
   "source": [
    "The categorical variables are currently stored as strings, which is inefficient, and doesn't provide the numeric coding required for a random forest. Therefore we call `train_cats` to convert strings to pandas categories."
   ]
  },
  {
   "cell_type": "markdown",
   "metadata": {},
   "source": [
    "# Convert data\n",
    "\n",
    "look at timeseries data and find the best cv\n",
    "\n",
    "add date data"
   ]
  },
  {
   "cell_type": "markdown",
   "metadata": {},
   "source": [
    "**Label encoding data**"
   ]
  },
  {
   "cell_type": "code",
   "execution_count": null,
   "metadata": {
    "ExecuteTime": {
     "end_time": "2018-11-02T06:08:51.742678Z",
     "start_time": "2018-11-02T06:08:44.730Z"
    }
   },
   "outputs": [],
   "source": [
    "\n",
    "# for col in cat_cols:\n",
    "#     lb = preprocessing.LabelEncoder() \n",
    "#     lb.fit(df_train[col])\n",
    "#     lb.transform(df_train[col])\n",
    "#     lb.transform(df_test[col])\n",
    "#     print(col)\n",
    "    "
   ]
  },
  {
   "cell_type": "code",
   "execution_count": null,
   "metadata": {},
   "outputs": [],
   "source": []
  },
  {
   "cell_type": "code",
   "execution_count": null,
   "metadata": {},
   "outputs": [],
   "source": []
  },
  {
   "cell_type": "code",
   "execution_count": null,
   "metadata": {},
   "outputs": [],
   "source": []
  },
  {
   "cell_type": "code",
   "execution_count": null,
   "metadata": {},
   "outputs": [],
   "source": []
  },
  {
   "cell_type": "code",
   "execution_count": null,
   "metadata": {},
   "outputs": [],
   "source": []
  }
 ],
 "metadata": {
  "kernelspec": {
   "display_name": "Python 3",
   "language": "python",
   "name": "python3"
  },
  "language_info": {
   "codemirror_mode": {
    "name": "ipython",
    "version": 3
   },
   "file_extension": ".py",
   "mimetype": "text/x-python",
   "name": "python",
   "nbconvert_exporter": "python",
   "pygments_lexer": "ipython3",
   "version": "3.6.6"
  },
  "toc": {
   "base_numbering": 1,
   "nav_menu": {},
   "number_sections": true,
   "sideBar": true,
   "skip_h1_title": false,
   "title_cell": "Table of Contents",
   "title_sidebar": "Contents",
   "toc_cell": false,
   "toc_position": {
    "height": "calc(100% - 180px)",
    "left": "10px",
    "top": "150px",
    "width": "265px"
   },
   "toc_section_display": true,
   "toc_window_display": true
  }
 },
 "nbformat": 4,
 "nbformat_minor": 2
}
