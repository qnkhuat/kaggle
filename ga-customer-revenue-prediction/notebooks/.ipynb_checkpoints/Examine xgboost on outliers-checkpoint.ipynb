{
 "cells": [
  {
   "cell_type": "code",
   "execution_count": 1,
   "metadata": {
    "ExecuteTime": {
     "end_time": "2018-11-07T06:34:31.509083Z",
     "start_time": "2018-11-07T06:34:29.931087Z"
    },
    "_uuid": "0f3311fe5dd1a03a75a7ebc652399262d34b507e"
   },
   "outputs": [],
   "source": [
    "import numpy as np\n",
    "import pandas as pd\n",
    "import matplotlib.pyplot as plt\n",
    "import seaborn as sns\n",
    "\n",
    "from sklearn.preprocessing import LabelEncoder\n",
    "from sklearn.ensemble import RandomForestRegressor as RFF\n",
    "import xgboost as xgb\n",
    "\n",
    "from pprint import pprint\n",
    "import math\n",
    "\n",
    "from scipy.stats import kurtosis, skew"
   ]
  },
  {
   "cell_type": "code",
   "execution_count": 14,
   "metadata": {
    "ExecuteTime": {
     "end_time": "2018-11-07T06:23:28.895130Z",
     "start_time": "2018-11-07T06:23:28.890571Z"
    },
    "_uuid": "e8dbeb7e53cd74b7a20480397fdeca77263d1350",
    "scrolled": true
   },
   "outputs": [],
   "source": [
    "from datetime import datetime"
   ]
  },
  {
   "cell_type": "code",
   "execution_count": 16,
   "metadata": {
    "ExecuteTime": {
     "end_time": "2018-11-07T06:23:39.960328Z",
     "start_time": "2018-11-07T06:23:34.660297Z"
    },
    "_uuid": "ea12274cb06a71bfb7bf6c61ae9b03dfdca2e319"
   },
   "outputs": [],
   "source": [
    "df_raw = pd.read_csv('../data/data_converted.csv',nrows=None,\n",
    "                    dtype={'fullVisitorId': str},\n",
    "                    parse_dates=['date'])"
   ]
  },
  {
   "cell_type": "code",
   "execution_count": 17,
   "metadata": {
    "ExecuteTime": {
     "end_time": "2018-11-07T06:23:42.142888Z",
     "start_time": "2018-11-07T06:23:41.515036Z"
    },
    "_uuid": "d2e7d63ce7160d43358dbba1e5cc7b2d15390623"
   },
   "outputs": [
    {
     "name": "stdout",
     "output_type": "stream",
     "text": [
      "<class 'pandas.core.frame.DataFrame'>\n",
      "RangeIndex: 903653 entries, 0 to 903652\n",
      "Data columns (total 40 columns):\n",
      "channelGrouping               903653 non-null int64\n",
      "date                          903653 non-null datetime64[ns]\n",
      "fullVisitorId                 903653 non-null object\n",
      "sessionId                     903653 non-null int64\n",
      "visitId                       903653 non-null int64\n",
      "visitNumber                   903653 non-null int64\n",
      "visitStartTime                903653 non-null int64\n",
      "device_browser                903653 non-null int64\n",
      "device_deviceCategory         903653 non-null int64\n",
      "device_isMobile               903653 non-null bool\n",
      "device_operatingSystem        903653 non-null int64\n",
      "geoNetwork_city               903653 non-null int64\n",
      "geoNetwork_continent          903653 non-null int64\n",
      "geoNetwork_country            903653 non-null int64\n",
      "geoNetwork_metro              903653 non-null int64\n",
      "geoNetwork_networkDomain      903653 non-null int64\n",
      "geoNetwork_region             903653 non-null int64\n",
      "geoNetwork_subContinent       903653 non-null int64\n",
      "totals_bounces                903653 non-null int64\n",
      "totals_hits                   903653 non-null int64\n",
      "totals_newVisits              903653 non-null int64\n",
      "totals_pageviews              903653 non-null int64\n",
      "totals_transactionRevenue     903653 non-null float64\n",
      "trafficSource_isTrueDirect    903653 non-null bool\n",
      "trafficSource_keyword         903653 non-null int64\n",
      "trafficSource_medium          903653 non-null int64\n",
      "trafficSource_referralPath    903653 non-null int64\n",
      "trafficSource_source          903653 non-null int64\n",
      "Date_Year                     903653 non-null int64\n",
      "Date_Month                    903653 non-null int64\n",
      "Date_Week                     903653 non-null int64\n",
      "Date_Day                      903653 non-null int64\n",
      "Date_Dayofweek                903653 non-null int64\n",
      "Date_Dayofyear                903653 non-null int64\n",
      "Date_Is_month_end             903653 non-null bool\n",
      "Date_Is_month_start           903653 non-null bool\n",
      "Date_Is_quarter_end           903653 non-null bool\n",
      "Date_Is_quarter_start         903653 non-null bool\n",
      "Date_Is_year_end              903653 non-null bool\n",
      "Date_Is_year_start            903653 non-null bool\n",
      "dtypes: bool(8), datetime64[ns](1), float64(1), int64(29), object(1)\n",
      "memory usage: 227.5+ MB\n"
     ]
    }
   ],
   "source": [
    "df_raw.info()"
   ]
  },
  {
   "cell_type": "code",
   "execution_count": 18,
   "metadata": {
    "ExecuteTime": {
     "end_time": "2018-11-07T06:23:42.150492Z",
     "start_time": "2018-11-07T06:23:42.145507Z"
    },
    "_uuid": "0b42e141470b7c0eb2e93731cc7288d4bd729ea9",
    "scrolled": true
   },
   "outputs": [
    {
     "data": {
      "text/plain": [
       "(903653, 40)"
      ]
     },
     "execution_count": 18,
     "metadata": {},
     "output_type": "execute_result"
    }
   ],
   "source": [
    "df_raw.shape"
   ]
  },
  {
   "cell_type": "code",
   "execution_count": 19,
   "metadata": {
    "ExecuteTime": {
     "end_time": "2018-11-07T06:23:45.088553Z",
     "start_time": "2018-11-07T06:23:43.082756Z"
    },
    "_uuid": "a6c47fbc5f4159eb068d25ed452fb00829c9e218",
    "scrolled": true
   },
   "outputs": [],
   "source": [
    "lb = LabelEncoder()\n",
    "df_raw['fullVisitorId']  = lb.fit_transform(df_raw['fullVisitorId'])"
   ]
  },
  {
   "cell_type": "code",
   "execution_count": null,
   "metadata": {},
   "outputs": [],
   "source": [
    "df_raw = df_raw[700000:]"
   ]
  },
  {
   "cell_type": "code",
   "execution_count": 20,
   "metadata": {
    "ExecuteTime": {
     "end_time": "2018-11-07T06:23:45.538238Z",
     "start_time": "2018-11-07T06:23:45.091532Z"
    },
    "_uuid": "6d45f4cd244607733c1496b0b05115643553c5dc"
   },
   "outputs": [],
   "source": [
    "df_train = df_raw[df_raw['date'] < datetime.strptime('2017-7-1','%Y-%m-%d')]\n",
    "df_valid = df_raw[df_raw['date'] >= datetime.strptime('2017-7-1','%Y-%m-%d')]\n",
    "del df_train['date']\n",
    "del df_valid['date']"
   ]
  },
  {
   "cell_type": "code",
   "execution_count": 21,
   "metadata": {
    "ExecuteTime": {
     "end_time": "2018-11-07T06:23:45.545126Z",
     "start_time": "2018-11-07T06:23:45.540169Z"
    },
    "_uuid": "0d37db256ff170111f961c5d25771a558dfa5378"
   },
   "outputs": [
    {
     "data": {
      "text/plain": [
       "((829285, 39), (74368, 39))"
      ]
     },
     "execution_count": 21,
     "metadata": {},
     "output_type": "execute_result"
    }
   ],
   "source": [
    "df_train.shape,df_valid.shape"
   ]
  },
  {
   "cell_type": "code",
   "execution_count": 22,
   "metadata": {
    "ExecuteTime": {
     "end_time": "2018-11-07T06:23:46.541631Z",
     "start_time": "2018-11-07T06:23:46.410648Z"
    },
    "_uuid": "608ebb9672b7eec9af94499f0cf99edc2d559f8c"
   },
   "outputs": [],
   "source": [
    "X_train ,y_train = df_train.drop('totals_transactionRevenue',axis=1),df_train['totals_transactionRevenue']\n",
    "X_valid ,y_valid = df_valid.drop('totals_transactionRevenue',axis=1),df_valid['totals_transactionRevenue']"
   ]
  },
  {
   "cell_type": "code",
   "execution_count": 23,
   "metadata": {
    "ExecuteTime": {
     "end_time": "2018-11-07T06:23:52.253715Z",
     "start_time": "2018-11-07T06:23:48.647002Z"
    },
    "_uuid": "328ba4c34124b36127d997c1c39002878efdbd08"
   },
   "outputs": [],
   "source": [
    "# params = {\n",
    "#     'max_depth':10,\n",
    "#     'learning_rate':.01,\n",
    "#     'n_estimators':100,\n",
    "#     'objective':'reg:linear',\n",
    "#     'n_jobs':-1,\n",
    "#     'random_state':1,\n",
    "# }\n",
    "\n",
    "params = {'objective': 'reg:linear',\n",
    "          'learning_rate':.01,\n",
    "          'eval_metric': 'rmse',\n",
    "          'eta': 0.001,\n",
    "          'max_depth': 10,\n",
    "          'subsample': 0.6,\n",
    "          'colsample_bytree': 0.6,\n",
    "          'alpha':0.001,\n",
    "          'random_state': 42,\n",
    "          'silent': True,\n",
    "         }\n",
    "\n",
    "\n",
    "xgb_train_data = xgb.DMatrix(X_train, y_train)\n",
    "xgb_val_data = xgb.DMatrix(X_valid, y_valid)\n"
   ]
  },
  {
   "cell_type": "code",
   "execution_count": null,
   "metadata": {
    "ExecuteTime": {
     "start_time": "2018-11-07T06:25:16.278Z"
    },
    "_uuid": "2936585db79ffbfdf6ae64d1dc4d236e5690f4ae",
    "scrolled": true
   },
   "outputs": [
    {
     "name": "stdout",
     "output_type": "stream",
     "text": [
      "[0]\ttrain-rmse:2.0054\tvalid-rmse:2.12414\n",
      "Multiple eval metrics have been passed: 'valid-rmse' will be used for early stopping.\n",
      "\n",
      "Will train until valid-rmse hasn't improved in 1 rounds.\n",
      "[1]\ttrain-rmse:1.99875\tvalid-rmse:2.11739\n",
      "[2]\ttrain-rmse:1.99196\tvalid-rmse:2.11166\n",
      "[3]\ttrain-rmse:1.98523\tvalid-rmse:2.10406\n",
      "[4]\ttrain-rmse:1.97928\tvalid-rmse:2.09921\n",
      "[5]\ttrain-rmse:1.97752\tvalid-rmse:2.09755\n",
      "[6]\ttrain-rmse:1.97184\tvalid-rmse:2.09182\n",
      "[7]\ttrain-rmse:1.9653\tvalid-rmse:2.08468\n",
      "[8]\ttrain-rmse:1.96365\tvalid-rmse:2.08319\n",
      "[9]\ttrain-rmse:1.9575\tvalid-rmse:2.07778\n",
      "[10]\ttrain-rmse:1.95598\tvalid-rmse:2.07645\n",
      "[11]\ttrain-rmse:1.95463\tvalid-rmse:2.07533\n",
      "[12]\ttrain-rmse:1.94849\tvalid-rmse:2.06927\n",
      "[13]\ttrain-rmse:1.94225\tvalid-rmse:2.06404\n",
      "[14]\ttrain-rmse:1.93593\tvalid-rmse:2.05753\n",
      "[15]\ttrain-rmse:1.93467\tvalid-rmse:2.05598\n",
      "[16]\ttrain-rmse:1.92876\tvalid-rmse:2.04982\n",
      "[17]\ttrain-rmse:1.92336\tvalid-rmse:2.04445\n",
      "[18]\ttrain-rmse:1.92191\tvalid-rmse:2.04305\n",
      "[19]\ttrain-rmse:1.91604\tvalid-rmse:2.03723\n",
      "[20]\ttrain-rmse:1.91034\tvalid-rmse:2.03137\n",
      "[21]\ttrain-rmse:1.90466\tvalid-rmse:2.02509\n",
      "[22]\ttrain-rmse:1.89974\tvalid-rmse:2.02\n",
      "[23]\ttrain-rmse:1.8947\tvalid-rmse:2.01558\n",
      "[24]\ttrain-rmse:1.88986\tvalid-rmse:2.01013\n",
      "[25]\ttrain-rmse:1.88861\tvalid-rmse:2.00887\n",
      "[26]\ttrain-rmse:1.88305\tvalid-rmse:2.00337\n",
      "[27]\ttrain-rmse:1.87777\tvalid-rmse:1.9979\n",
      "[28]\ttrain-rmse:1.87256\tvalid-rmse:1.99245\n",
      "[29]\ttrain-rmse:1.86744\tvalid-rmse:1.98829\n",
      "[30]\ttrain-rmse:1.86225\tvalid-rmse:1.98306\n",
      "[31]\ttrain-rmse:1.85788\tvalid-rmse:1.97858\n",
      "[32]\ttrain-rmse:1.8532\tvalid-rmse:1.97367\n",
      "[33]\ttrain-rmse:1.84828\tvalid-rmse:1.96879\n",
      "[34]\ttrain-rmse:1.84358\tvalid-rmse:1.96379\n",
      "[35]\ttrain-rmse:1.83929\tvalid-rmse:1.9599\n",
      "[36]\ttrain-rmse:1.83807\tvalid-rmse:1.95873\n",
      "[37]\ttrain-rmse:1.834\tvalid-rmse:1.95532\n",
      "[38]\ttrain-rmse:1.8295\tvalid-rmse:1.95133\n",
      "[39]\ttrain-rmse:1.82486\tvalid-rmse:1.94716\n",
      "[40]\ttrain-rmse:1.82099\tvalid-rmse:1.94425\n",
      "[41]\ttrain-rmse:1.81646\tvalid-rmse:1.93969\n",
      "[42]\ttrain-rmse:1.81216\tvalid-rmse:1.93508\n",
      "[43]\ttrain-rmse:1.80827\tvalid-rmse:1.93149\n",
      "[44]\ttrain-rmse:1.8074\tvalid-rmse:1.93063\n",
      "[45]\ttrain-rmse:1.80354\tvalid-rmse:1.92654\n",
      "[46]\ttrain-rmse:1.79926\tvalid-rmse:1.92351\n",
      "[47]\ttrain-rmse:1.79836\tvalid-rmse:1.92284\n",
      "[48]\ttrain-rmse:1.79399\tvalid-rmse:1.91849\n",
      "[49]\ttrain-rmse:1.793\tvalid-rmse:1.91749\n",
      "[50]\ttrain-rmse:1.79204\tvalid-rmse:1.91671\n",
      "[51]\ttrain-rmse:1.78784\tvalid-rmse:1.91349\n",
      "[52]\ttrain-rmse:1.7845\tvalid-rmse:1.91051\n",
      "[53]\ttrain-rmse:1.78084\tvalid-rmse:1.90752\n",
      "[54]\ttrain-rmse:1.78001\tvalid-rmse:1.907\n",
      "[55]\ttrain-rmse:1.77669\tvalid-rmse:1.90432\n",
      "[56]\ttrain-rmse:1.77267\tvalid-rmse:1.90108\n",
      "[57]\ttrain-rmse:1.77183\tvalid-rmse:1.90043\n",
      "[58]\ttrain-rmse:1.77095\tvalid-rmse:1.89976\n",
      "[59]\ttrain-rmse:1.77009\tvalid-rmse:1.89909\n",
      "[60]\ttrain-rmse:1.76689\tvalid-rmse:1.89681\n",
      "[61]\ttrain-rmse:1.76326\tvalid-rmse:1.89402\n",
      "[62]\ttrain-rmse:1.75931\tvalid-rmse:1.88999\n",
      "[63]\ttrain-rmse:1.7557\tvalid-rmse:1.88648\n",
      "[64]\ttrain-rmse:1.75215\tvalid-rmse:1.88396\n",
      "[65]\ttrain-rmse:1.74921\tvalid-rmse:1.88082\n",
      "[66]\ttrain-rmse:1.74614\tvalid-rmse:1.87795\n",
      "[67]\ttrain-rmse:1.74274\tvalid-rmse:1.87465\n",
      "[68]\ttrain-rmse:1.73973\tvalid-rmse:1.8719\n",
      "[69]\ttrain-rmse:1.73669\tvalid-rmse:1.86915\n",
      "[70]\ttrain-rmse:1.73341\tvalid-rmse:1.86581\n"
     ]
    }
   ],
   "source": [
    "model = xgb.train(params, xgb_train_data, \n",
    "          evals= [(xgb_train_data, 'train'), (xgb_val_data, 'valid')],\n",
    "          early_stopping_rounds=1, \n",
    "          verbose_eval=20\n",
    "         )"
   ]
  },
  {
   "cell_type": "code",
   "execution_count": null,
   "metadata": {
    "_uuid": "acc3dbfd123adfab27ee5fb6045d0e1c51f43cc5"
   },
   "outputs": [],
   "source": []
  },
  {
   "cell_type": "code",
   "execution_count": null,
   "metadata": {
    "_uuid": "17ad6d069987d209c892b6848149a525c0b0a12e"
   },
   "outputs": [],
   "source": []
  },
  {
   "cell_type": "code",
   "execution_count": null,
   "metadata": {
    "_uuid": "8c4238248dd8c945711969c537acd9ca3755f11d"
   },
   "outputs": [],
   "source": []
  },
  {
   "cell_type": "code",
   "execution_count": null,
   "metadata": {
    "_uuid": "c54ee18e55013903ef989f73c61ac14426da6344"
   },
   "outputs": [],
   "source": []
  },
  {
   "cell_type": "code",
   "execution_count": null,
   "metadata": {
    "_uuid": "1731d11f67bad4b710c0899af0f45f6c9aa3d33f"
   },
   "outputs": [],
   "source": []
  },
  {
   "cell_type": "code",
   "execution_count": null,
   "metadata": {
    "_uuid": "714f5623e5b3cac67ec8a9f414333a83310e8a7d"
   },
   "outputs": [],
   "source": []
  },
  {
   "cell_type": "code",
   "execution_count": null,
   "metadata": {
    "_uuid": "5e4d4c70a03b7a68be23992b023bfb3fe34983e4"
   },
   "outputs": [],
   "source": []
  },
  {
   "cell_type": "code",
   "execution_count": null,
   "metadata": {
    "_uuid": "fb1283b935436fd2d210ba187b8466524e79290d"
   },
   "outputs": [],
   "source": []
  }
 ],
 "metadata": {
  "kernelspec": {
   "display_name": "Python 3",
   "language": "python",
   "name": "python3"
  },
  "language_info": {
   "codemirror_mode": {
    "name": "ipython",
    "version": 3
   },
   "file_extension": ".py",
   "mimetype": "text/x-python",
   "name": "python",
   "nbconvert_exporter": "python",
   "pygments_lexer": "ipython3",
   "version": "3.6.7"
  },
  "toc": {
   "base_numbering": 1,
   "nav_menu": {},
   "number_sections": true,
   "sideBar": true,
   "skip_h1_title": false,
   "title_cell": "Table of Contents",
   "title_sidebar": "Contents",
   "toc_cell": false,
   "toc_position": {},
   "toc_section_display": true,
   "toc_window_display": false
  }
 },
 "nbformat": 4,
 "nbformat_minor": 1
}
