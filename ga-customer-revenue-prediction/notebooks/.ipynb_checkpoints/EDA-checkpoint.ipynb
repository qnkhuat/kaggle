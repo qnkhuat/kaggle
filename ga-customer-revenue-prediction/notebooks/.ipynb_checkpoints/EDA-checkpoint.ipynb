{
 "cells": [
  {
   "cell_type": "markdown",
   "metadata": {
    "ExecuteTime": {
     "end_time": "2018-11-01T23:07:13.552729Z",
     "start_time": "2018-11-01T23:07:13.547764Z"
    }
   },
   "source": [
    "3. Create new data - date\n",
    "4. Data visualization\n",
    "5. Convert data\n",
    "6. Create Good CV\n",
    "7. Modeling"
   ]
  },
  {
   "cell_type": "markdown",
   "metadata": {
    "toc": true
   },
   "source": [
    "<h1>Table of Contents<span class=\"tocSkip\"></span></h1>\n",
    "<div class=\"toc\"><ul class=\"toc-item\"><li><span><a href=\"#Imports\" data-toc-modified-id=\"Imports-1\"><span class=\"toc-item-num\">1&nbsp;&nbsp;</span>Imports</a></span><ul class=\"toc-item\"><li><ul class=\"toc-item\"><li><span><a href=\"#Data-walkthrough\" data-toc-modified-id=\"Data-walkthrough-1.0.1\"><span class=\"toc-item-num\">1.0.1&nbsp;&nbsp;</span>Data walkthrough</a></span></li></ul></li></ul></li><li><span><a href=\"#Helpers-functions\" data-toc-modified-id=\"Helpers-functions-2\"><span class=\"toc-item-num\">2&nbsp;&nbsp;</span>Helpers functions</a></span></li><li><span><a href=\"#Create-data-from-date-columns\" data-toc-modified-id=\"Create-data-from-date-columns-3\"><span class=\"toc-item-num\">3&nbsp;&nbsp;</span>Create data from date columns</a></span></li><li><span><a href=\"#Convert-data-ready-for-modeling\" data-toc-modified-id=\"Convert-data-ready-for-modeling-4\"><span class=\"toc-item-num\">4&nbsp;&nbsp;</span>Convert data ready for modeling</a></span></li><li><span><a href=\"#Base-models\" data-toc-modified-id=\"Base-models-5\"><span class=\"toc-item-num\">5&nbsp;&nbsp;</span>Base models</a></span><ul class=\"toc-item\"><li><span><a href=\"#With-fatsai-lib\" data-toc-modified-id=\"With-fatsai-lib-5.1\"><span class=\"toc-item-num\">5.1&nbsp;&nbsp;</span>With fatsai lib</a></span></li></ul></li><li><span><a href=\"#Data-engineering\" data-toc-modified-id=\"Data-engineering-6\"><span class=\"toc-item-num\">6&nbsp;&nbsp;</span>Data engineering</a></span><ul class=\"toc-item\"><li><span><a href=\"#Reorder-data\" data-toc-modified-id=\"Reorder-data-6.1\"><span class=\"toc-item-num\">6.1&nbsp;&nbsp;</span>Reorder data</a></span></li></ul></li><li><span><a href=\"#Confidence-based-on-tree-variance\" data-toc-modified-id=\"Confidence-based-on-tree-variance-7\"><span class=\"toc-item-num\">7&nbsp;&nbsp;</span>Confidence based on tree variance</a></span></li><li><span><a href=\"#Feature-Important\" data-toc-modified-id=\"Feature-Important-8\"><span class=\"toc-item-num\">8&nbsp;&nbsp;</span>Feature Important</a></span><ul class=\"toc-item\"><li><span><a href=\"#One-hot-encoding\" data-toc-modified-id=\"One-hot-encoding-8.1\"><span class=\"toc-item-num\">8.1&nbsp;&nbsp;</span>One-hot encoding</a></span></li></ul></li><li><span><a href=\"#Removing-redundant-features\" data-toc-modified-id=\"Removing-redundant-features-9\"><span class=\"toc-item-num\">9&nbsp;&nbsp;</span>Removing redundant features</a></span></li><li><span><a href=\"#Tree-interpreter\" data-toc-modified-id=\"Tree-interpreter-10\"><span class=\"toc-item-num\">10&nbsp;&nbsp;</span>Tree interpreter</a></span></li><li><span><a href=\"#Extrapolation\" data-toc-modified-id=\"Extrapolation-11\"><span class=\"toc-item-num\">11&nbsp;&nbsp;</span>Extrapolation</a></span></li><li><span><a href=\"#Final-model\" data-toc-modified-id=\"Final-model-12\"><span class=\"toc-item-num\">12&nbsp;&nbsp;</span>Final model</a></span></li></ul></div>"
   ]
  },
  {
   "cell_type": "markdown",
   "metadata": {},
   "source": [
    "# Imports"
   ]
  },
  {
   "cell_type": "code",
   "execution_count": 1,
   "metadata": {
    "ExecuteTime": {
     "end_time": "2018-11-03T03:31:26.138448Z",
     "start_time": "2018-11-03T03:31:23.457312Z"
    }
   },
   "outputs": [],
   "source": [
    "import numpy as np\n",
    "import pandas as pd\n",
    "import matplotlib.pyplot as plt\n",
    "import seaborn as sns\n",
    "\n",
    "from sklearn.preprocessing import LabelEncoder\n",
    "from sklearn.ensemble import RandomForestRegressor as RFF\n",
    "\n",
    "from pprint import pprint\n",
    "import math\n",
    "\n",
    "plt.rcParams[\"figure.figsize\"] = (15,6)"
   ]
  },
  {
   "cell_type": "code",
   "execution_count": 2,
   "metadata": {
    "ExecuteTime": {
     "end_time": "2018-11-03T03:31:26.515583Z",
     "start_time": "2018-11-03T03:31:26.141537Z"
    }
   },
   "outputs": [],
   "source": [
    "import sys\n",
    "sys.path.append('..')\n",
    "\n",
    "from fastai.structured import *"
   ]
  },
  {
   "cell_type": "code",
   "execution_count": 3,
   "metadata": {
    "ExecuteTime": {
     "end_time": "2018-11-03T03:31:35.075824Z",
     "start_time": "2018-11-03T03:31:30.094547Z"
    }
   },
   "outputs": [],
   "source": [
    "df_raw = pd.read_csv('../data/train_.csv',nrows=None,\n",
    "                    dtype={'fullVisitorId': str},\n",
    "                    parse_dates=['date'])"
   ]
  },
  {
   "cell_type": "code",
   "execution_count": 5,
   "metadata": {
    "ExecuteTime": {
     "end_time": "2018-11-03T03:31:48.123106Z",
     "start_time": "2018-11-03T03:31:48.084298Z"
    }
   },
   "outputs": [
    {
     "data": {
      "text/html": [
       "<div>\n",
       "<style scoped>\n",
       "    .dataframe tbody tr th:only-of-type {\n",
       "        vertical-align: middle;\n",
       "    }\n",
       "\n",
       "    .dataframe tbody tr th {\n",
       "        vertical-align: top;\n",
       "    }\n",
       "\n",
       "    .dataframe thead th {\n",
       "        text-align: right;\n",
       "    }\n",
       "</style>\n",
       "<table border=\"1\" class=\"dataframe\">\n",
       "  <thead>\n",
       "    <tr style=\"text-align: right;\">\n",
       "      <th></th>\n",
       "      <th>Unnamed: 0</th>\n",
       "      <th>channelGrouping</th>\n",
       "      <th>date</th>\n",
       "      <th>fullVisitorId</th>\n",
       "      <th>sessionId</th>\n",
       "      <th>visitId</th>\n",
       "      <th>visitNumber</th>\n",
       "      <th>visitStartTime</th>\n",
       "      <th>device_browser</th>\n",
       "      <th>device_deviceCategory</th>\n",
       "      <th>...</th>\n",
       "      <th>totals_bounces</th>\n",
       "      <th>totals_hits</th>\n",
       "      <th>totals_newVisits</th>\n",
       "      <th>totals_pageviews</th>\n",
       "      <th>totals_transactionRevenue</th>\n",
       "      <th>trafficSource_isTrueDirect</th>\n",
       "      <th>trafficSource_keyword</th>\n",
       "      <th>trafficSource_medium</th>\n",
       "      <th>trafficSource_referralPath</th>\n",
       "      <th>trafficSource_source</th>\n",
       "    </tr>\n",
       "  </thead>\n",
       "  <tbody>\n",
       "    <tr>\n",
       "      <th>0</th>\n",
       "      <td>0</td>\n",
       "      <td>Organic Search</td>\n",
       "      <td>2016-09-02</td>\n",
       "      <td>1131660440785968503</td>\n",
       "      <td>1131660440785968503_1472830385</td>\n",
       "      <td>1472830385</td>\n",
       "      <td>1</td>\n",
       "      <td>1472830385</td>\n",
       "      <td>Chrome</td>\n",
       "      <td>desktop</td>\n",
       "      <td>...</td>\n",
       "      <td>1</td>\n",
       "      <td>1</td>\n",
       "      <td>1</td>\n",
       "      <td>1</td>\n",
       "      <td>0.0</td>\n",
       "      <td>False</td>\n",
       "      <td>NaN</td>\n",
       "      <td>organic</td>\n",
       "      <td>NaN</td>\n",
       "      <td>google</td>\n",
       "    </tr>\n",
       "    <tr>\n",
       "      <th>1</th>\n",
       "      <td>1</td>\n",
       "      <td>Organic Search</td>\n",
       "      <td>2016-09-02</td>\n",
       "      <td>377306020877927890</td>\n",
       "      <td>377306020877927890_1472880147</td>\n",
       "      <td>1472880147</td>\n",
       "      <td>1</td>\n",
       "      <td>1472880147</td>\n",
       "      <td>Firefox</td>\n",
       "      <td>desktop</td>\n",
       "      <td>...</td>\n",
       "      <td>1</td>\n",
       "      <td>1</td>\n",
       "      <td>1</td>\n",
       "      <td>1</td>\n",
       "      <td>0.0</td>\n",
       "      <td>False</td>\n",
       "      <td>NaN</td>\n",
       "      <td>organic</td>\n",
       "      <td>NaN</td>\n",
       "      <td>google</td>\n",
       "    </tr>\n",
       "    <tr>\n",
       "      <th>2</th>\n",
       "      <td>2</td>\n",
       "      <td>Organic Search</td>\n",
       "      <td>2016-09-02</td>\n",
       "      <td>3895546263509774583</td>\n",
       "      <td>3895546263509774583_1472865386</td>\n",
       "      <td>1472865386</td>\n",
       "      <td>1</td>\n",
       "      <td>1472865386</td>\n",
       "      <td>Chrome</td>\n",
       "      <td>desktop</td>\n",
       "      <td>...</td>\n",
       "      <td>1</td>\n",
       "      <td>1</td>\n",
       "      <td>1</td>\n",
       "      <td>1</td>\n",
       "      <td>0.0</td>\n",
       "      <td>False</td>\n",
       "      <td>NaN</td>\n",
       "      <td>organic</td>\n",
       "      <td>NaN</td>\n",
       "      <td>google</td>\n",
       "    </tr>\n",
       "    <tr>\n",
       "      <th>3</th>\n",
       "      <td>3</td>\n",
       "      <td>Organic Search</td>\n",
       "      <td>2016-09-02</td>\n",
       "      <td>4763447161404445595</td>\n",
       "      <td>4763447161404445595_1472881213</td>\n",
       "      <td>1472881213</td>\n",
       "      <td>1</td>\n",
       "      <td>1472881213</td>\n",
       "      <td>UC Browser</td>\n",
       "      <td>desktop</td>\n",
       "      <td>...</td>\n",
       "      <td>1</td>\n",
       "      <td>1</td>\n",
       "      <td>1</td>\n",
       "      <td>1</td>\n",
       "      <td>0.0</td>\n",
       "      <td>False</td>\n",
       "      <td>google + online</td>\n",
       "      <td>organic</td>\n",
       "      <td>NaN</td>\n",
       "      <td>google</td>\n",
       "    </tr>\n",
       "    <tr>\n",
       "      <th>4</th>\n",
       "      <td>4</td>\n",
       "      <td>Organic Search</td>\n",
       "      <td>2016-09-02</td>\n",
       "      <td>27294437909732085</td>\n",
       "      <td>27294437909732085_1472822600</td>\n",
       "      <td>1472822600</td>\n",
       "      <td>2</td>\n",
       "      <td>1472822600</td>\n",
       "      <td>Chrome</td>\n",
       "      <td>mobile</td>\n",
       "      <td>...</td>\n",
       "      <td>1</td>\n",
       "      <td>1</td>\n",
       "      <td>0</td>\n",
       "      <td>1</td>\n",
       "      <td>0.0</td>\n",
       "      <td>True</td>\n",
       "      <td>NaN</td>\n",
       "      <td>organic</td>\n",
       "      <td>NaN</td>\n",
       "      <td>google</td>\n",
       "    </tr>\n",
       "  </tbody>\n",
       "</table>\n",
       "<p>5 rows × 29 columns</p>\n",
       "</div>"
      ],
      "text/plain": [
       "   Unnamed: 0 channelGrouping       date        fullVisitorId  \\\n",
       "0           0  Organic Search 2016-09-02  1131660440785968503   \n",
       "1           1  Organic Search 2016-09-02   377306020877927890   \n",
       "2           2  Organic Search 2016-09-02  3895546263509774583   \n",
       "3           3  Organic Search 2016-09-02  4763447161404445595   \n",
       "4           4  Organic Search 2016-09-02    27294437909732085   \n",
       "\n",
       "                        sessionId     visitId  visitNumber  visitStartTime  \\\n",
       "0  1131660440785968503_1472830385  1472830385            1      1472830385   \n",
       "1   377306020877927890_1472880147  1472880147            1      1472880147   \n",
       "2  3895546263509774583_1472865386  1472865386            1      1472865386   \n",
       "3  4763447161404445595_1472881213  1472881213            1      1472881213   \n",
       "4    27294437909732085_1472822600  1472822600            2      1472822600   \n",
       "\n",
       "  device_browser device_deviceCategory          ...           totals_bounces  \\\n",
       "0         Chrome               desktop          ...                        1   \n",
       "1        Firefox               desktop          ...                        1   \n",
       "2         Chrome               desktop          ...                        1   \n",
       "3     UC Browser               desktop          ...                        1   \n",
       "4         Chrome                mobile          ...                        1   \n",
       "\n",
       "  totals_hits totals_newVisits totals_pageviews totals_transactionRevenue  \\\n",
       "0           1                1                1                       0.0   \n",
       "1           1                1                1                       0.0   \n",
       "2           1                1                1                       0.0   \n",
       "3           1                1                1                       0.0   \n",
       "4           1                0                1                       0.0   \n",
       "\n",
       "  trafficSource_isTrueDirect trafficSource_keyword trafficSource_medium  \\\n",
       "0                      False                   NaN              organic   \n",
       "1                      False                   NaN              organic   \n",
       "2                      False                   NaN              organic   \n",
       "3                      False       google + online              organic   \n",
       "4                       True                   NaN              organic   \n",
       "\n",
       "  trafficSource_referralPath  trafficSource_source  \n",
       "0                        NaN                google  \n",
       "1                        NaN                google  \n",
       "2                        NaN                google  \n",
       "3                        NaN                google  \n",
       "4                        NaN                google  \n",
       "\n",
       "[5 rows x 29 columns]"
      ]
     },
     "execution_count": 5,
     "metadata": {},
     "output_type": "execute_result"
    }
   ],
   "source": [
    "df_raw.head()"
   ]
  },
  {
   "cell_type": "code",
   "execution_count": 36,
   "metadata": {
    "ExecuteTime": {
     "end_time": "2018-11-02T11:34:14.650789Z",
     "start_time": "2018-11-02T11:34:14.646139Z"
    }
   },
   "outputs": [
    {
     "data": {
      "text/plain": [
       "Index(['Unnamed: 0', 'channelGrouping', 'date', 'fullVisitorId', 'sessionId',\n",
       "       'socialEngagementType', 'visitId', 'visitNumber', 'visitStartTime',\n",
       "       'device_browser', 'device_browserSize', 'device_browserVersion',\n",
       "       'device_deviceCategory', 'device_flashVersion', 'device_isMobile',\n",
       "       'device_language', 'device_mobileDeviceBranding',\n",
       "       'device_mobileDeviceInfo', 'device_mobileDeviceMarketingName',\n",
       "       'device_mobileDeviceModel', 'device_mobileInputSelector',\n",
       "       'device_operatingSystem', 'device_operatingSystemVersion',\n",
       "       'device_screenColors', 'device_screenResolution', 'geoNetwork_city',\n",
       "       'geoNetwork_cityId', 'geoNetwork_continent', 'geoNetwork_country',\n",
       "       'geoNetwork_latitude', 'geoNetwork_longitude', 'geoNetwork_metro',\n",
       "       'geoNetwork_networkDomain', 'geoNetwork_networkLocation',\n",
       "       'geoNetwork_region', 'geoNetwork_subContinent', 'totals_bounces',\n",
       "       'totals_hits', 'totals_newVisits', 'totals_pageviews',\n",
       "       'totals_transactionRevenue', 'totals_visits', 'trafficSource_adContent',\n",
       "       'trafficSource_adwordsClickInfo.adNetworkType',\n",
       "       'trafficSource_adwordsClickInfo.criteriaParameters',\n",
       "       'trafficSource_adwordsClickInfo.gclId',\n",
       "       'trafficSource_adwordsClickInfo.isVideoAd',\n",
       "       'trafficSource_adwordsClickInfo.page',\n",
       "       'trafficSource_adwordsClickInfo.slot', 'trafficSource_campaign',\n",
       "       'trafficSource_campaignCode', 'trafficSource_isTrueDirect',\n",
       "       'trafficSource_keyword', 'trafficSource_medium',\n",
       "       'trafficSource_referralPath', 'trafficSource_source', 'is_bought'],\n",
       "      dtype='object')"
      ]
     },
     "execution_count": 36,
     "metadata": {},
     "output_type": "execute_result"
    }
   ],
   "source": [
    "df_raw.columns"
   ]
  },
  {
   "cell_type": "code",
   "execution_count": 27,
   "metadata": {
    "ExecuteTime": {
     "end_time": "2018-11-02T11:33:09.292553Z",
     "start_time": "2018-11-02T11:33:09.284635Z"
    }
   },
   "outputs": [],
   "source": [
    "del df_raw['Unnamed: 0']\n",
    "del df_raw['is_bought']"
   ]
  },
  {
   "cell_type": "code",
   "execution_count": 28,
   "metadata": {
    "ExecuteTime": {
     "end_time": "2018-11-02T11:33:12.193104Z",
     "start_time": "2018-11-02T11:33:12.186709Z"
    }
   },
   "outputs": [
    {
     "data": {
      "text/plain": [
       "(100000, 55)"
      ]
     },
     "execution_count": 28,
     "metadata": {},
     "output_type": "execute_result"
    }
   ],
   "source": [
    "df_raw.shape"
   ]
  },
  {
   "cell_type": "code",
   "execution_count": 29,
   "metadata": {
    "ExecuteTime": {
     "end_time": "2018-11-02T11:33:12.676838Z",
     "start_time": "2018-11-02T11:33:12.551599Z"
    }
   },
   "outputs": [
    {
     "data": {
      "text/plain": [
       "Index(['channelGrouping', 'date', 'fullVisitorId', 'sessionId',\n",
       "       'socialEngagementType', 'visitId', 'visitNumber', 'visitStartTime',\n",
       "       'device_browser', 'device_browserSize', 'device_browserVersion',\n",
       "       'device_deviceCategory', 'device_flashVersion', 'device_isMobile',\n",
       "       'device_language', 'device_mobileDeviceBranding',\n",
       "       'device_mobileDeviceInfo', 'device_mobileDeviceMarketingName',\n",
       "       'device_mobileDeviceModel', 'device_mobileInputSelector',\n",
       "       'device_operatingSystem', 'device_operatingSystemVersion',\n",
       "       'device_screenColors', 'device_screenResolution', 'geoNetwork_city',\n",
       "       'geoNetwork_cityId', 'geoNetwork_continent', 'geoNetwork_country',\n",
       "       'geoNetwork_latitude', 'geoNetwork_longitude', 'geoNetwork_metro',\n",
       "       'geoNetwork_networkDomain', 'geoNetwork_networkLocation',\n",
       "       'geoNetwork_region', 'geoNetwork_subContinent', 'totals_bounces',\n",
       "       'totals_hits', 'totals_newVisits', 'totals_pageviews', 'Revenue',\n",
       "       'totals_visits', 'trafficSource_adContent',\n",
       "       'trafficSource_adwordsClickInfo.adNetworkType',\n",
       "       'trafficSource_adwordsClickInfo.criteriaParameters',\n",
       "       'trafficSource_adwordsClickInfo.gclId',\n",
       "       'trafficSource_adwordsClickInfo.isVideoAd',\n",
       "       'trafficSource_adwordsClickInfo.page',\n",
       "       'trafficSource_adwordsClickInfo.slot', 'trafficSource_campaign',\n",
       "       'trafficSource_campaignCode', 'trafficSource_isTrueDirect',\n",
       "       'trafficSource_keyword', 'trafficSource_medium',\n",
       "       'trafficSource_referralPath', 'trafficSource_source'],\n",
       "      dtype='object')"
      ]
     },
     "execution_count": 29,
     "metadata": {},
     "output_type": "execute_result"
    }
   ],
   "source": [
    "df_raw.rename(columns={'totals_transactionRevenue':'Revenue'},inplace=True)\n",
    "df_raw.columns"
   ]
  },
  {
   "cell_type": "markdown",
   "metadata": {},
   "source": [
    "### Data walkthrough"
   ]
  },
  {
   "cell_type": "code",
   "execution_count": 8,
   "metadata": {
    "ExecuteTime": {
     "end_time": "2018-11-02T11:28:56.441284Z",
     "start_time": "2018-11-02T11:28:56.403363Z"
    },
    "scrolled": false
   },
   "outputs": [
    {
     "data": {
      "text/html": [
       "<div>\n",
       "<style scoped>\n",
       "    .dataframe tbody tr th:only-of-type {\n",
       "        vertical-align: middle;\n",
       "    }\n",
       "\n",
       "    .dataframe tbody tr th {\n",
       "        vertical-align: top;\n",
       "    }\n",
       "\n",
       "    .dataframe thead th {\n",
       "        text-align: right;\n",
       "    }\n",
       "</style>\n",
       "<table border=\"1\" class=\"dataframe\">\n",
       "  <thead>\n",
       "    <tr style=\"text-align: right;\">\n",
       "      <th></th>\n",
       "      <th>channelGrouping</th>\n",
       "      <th>date</th>\n",
       "      <th>fullVisitorId</th>\n",
       "      <th>sessionId</th>\n",
       "      <th>visitId</th>\n",
       "      <th>visitNumber</th>\n",
       "      <th>visitStartTime</th>\n",
       "      <th>device_browser</th>\n",
       "      <th>device_deviceCategory</th>\n",
       "      <th>device_isMobile</th>\n",
       "      <th>...</th>\n",
       "      <th>totals_bounces</th>\n",
       "      <th>totals_hits</th>\n",
       "      <th>totals_newVisits</th>\n",
       "      <th>totals_pageviews</th>\n",
       "      <th>Revenue</th>\n",
       "      <th>trafficSource_isTrueDirect</th>\n",
       "      <th>trafficSource_keyword</th>\n",
       "      <th>trafficSource_medium</th>\n",
       "      <th>trafficSource_referralPath</th>\n",
       "      <th>trafficSource_source</th>\n",
       "    </tr>\n",
       "  </thead>\n",
       "  <tbody>\n",
       "    <tr>\n",
       "      <th>0</th>\n",
       "      <td>Organic Search</td>\n",
       "      <td>2016-09-02</td>\n",
       "      <td>1131660440785968503</td>\n",
       "      <td>1131660440785968503_1472830385</td>\n",
       "      <td>1472830385</td>\n",
       "      <td>1</td>\n",
       "      <td>1472830385</td>\n",
       "      <td>Chrome</td>\n",
       "      <td>desktop</td>\n",
       "      <td>False</td>\n",
       "      <td>...</td>\n",
       "      <td>1</td>\n",
       "      <td>1</td>\n",
       "      <td>1</td>\n",
       "      <td>1</td>\n",
       "      <td>0.0</td>\n",
       "      <td>False</td>\n",
       "      <td>NaN</td>\n",
       "      <td>organic</td>\n",
       "      <td>NaN</td>\n",
       "      <td>google</td>\n",
       "    </tr>\n",
       "    <tr>\n",
       "      <th>1</th>\n",
       "      <td>Organic Search</td>\n",
       "      <td>2016-09-02</td>\n",
       "      <td>377306020877927890</td>\n",
       "      <td>377306020877927890_1472880147</td>\n",
       "      <td>1472880147</td>\n",
       "      <td>1</td>\n",
       "      <td>1472880147</td>\n",
       "      <td>Firefox</td>\n",
       "      <td>desktop</td>\n",
       "      <td>False</td>\n",
       "      <td>...</td>\n",
       "      <td>1</td>\n",
       "      <td>1</td>\n",
       "      <td>1</td>\n",
       "      <td>1</td>\n",
       "      <td>0.0</td>\n",
       "      <td>False</td>\n",
       "      <td>NaN</td>\n",
       "      <td>organic</td>\n",
       "      <td>NaN</td>\n",
       "      <td>google</td>\n",
       "    </tr>\n",
       "    <tr>\n",
       "      <th>2</th>\n",
       "      <td>Organic Search</td>\n",
       "      <td>2016-09-02</td>\n",
       "      <td>3895546263509774583</td>\n",
       "      <td>3895546263509774583_1472865386</td>\n",
       "      <td>1472865386</td>\n",
       "      <td>1</td>\n",
       "      <td>1472865386</td>\n",
       "      <td>Chrome</td>\n",
       "      <td>desktop</td>\n",
       "      <td>False</td>\n",
       "      <td>...</td>\n",
       "      <td>1</td>\n",
       "      <td>1</td>\n",
       "      <td>1</td>\n",
       "      <td>1</td>\n",
       "      <td>0.0</td>\n",
       "      <td>False</td>\n",
       "      <td>NaN</td>\n",
       "      <td>organic</td>\n",
       "      <td>NaN</td>\n",
       "      <td>google</td>\n",
       "    </tr>\n",
       "    <tr>\n",
       "      <th>3</th>\n",
       "      <td>Organic Search</td>\n",
       "      <td>2016-09-02</td>\n",
       "      <td>4763447161404445595</td>\n",
       "      <td>4763447161404445595_1472881213</td>\n",
       "      <td>1472881213</td>\n",
       "      <td>1</td>\n",
       "      <td>1472881213</td>\n",
       "      <td>UC Browser</td>\n",
       "      <td>desktop</td>\n",
       "      <td>False</td>\n",
       "      <td>...</td>\n",
       "      <td>1</td>\n",
       "      <td>1</td>\n",
       "      <td>1</td>\n",
       "      <td>1</td>\n",
       "      <td>0.0</td>\n",
       "      <td>False</td>\n",
       "      <td>google + online</td>\n",
       "      <td>organic</td>\n",
       "      <td>NaN</td>\n",
       "      <td>google</td>\n",
       "    </tr>\n",
       "    <tr>\n",
       "      <th>4</th>\n",
       "      <td>Organic Search</td>\n",
       "      <td>2016-09-02</td>\n",
       "      <td>27294437909732085</td>\n",
       "      <td>27294437909732085_1472822600</td>\n",
       "      <td>1472822600</td>\n",
       "      <td>2</td>\n",
       "      <td>1472822600</td>\n",
       "      <td>Chrome</td>\n",
       "      <td>mobile</td>\n",
       "      <td>True</td>\n",
       "      <td>...</td>\n",
       "      <td>1</td>\n",
       "      <td>1</td>\n",
       "      <td>0</td>\n",
       "      <td>1</td>\n",
       "      <td>0.0</td>\n",
       "      <td>True</td>\n",
       "      <td>NaN</td>\n",
       "      <td>organic</td>\n",
       "      <td>NaN</td>\n",
       "      <td>google</td>\n",
       "    </tr>\n",
       "  </tbody>\n",
       "</table>\n",
       "<p>5 rows × 28 columns</p>\n",
       "</div>"
      ],
      "text/plain": [
       "  channelGrouping       date        fullVisitorId  \\\n",
       "0  Organic Search 2016-09-02  1131660440785968503   \n",
       "1  Organic Search 2016-09-02   377306020877927890   \n",
       "2  Organic Search 2016-09-02  3895546263509774583   \n",
       "3  Organic Search 2016-09-02  4763447161404445595   \n",
       "4  Organic Search 2016-09-02    27294437909732085   \n",
       "\n",
       "                        sessionId     visitId  visitNumber  visitStartTime  \\\n",
       "0  1131660440785968503_1472830385  1472830385            1      1472830385   \n",
       "1   377306020877927890_1472880147  1472880147            1      1472880147   \n",
       "2  3895546263509774583_1472865386  1472865386            1      1472865386   \n",
       "3  4763447161404445595_1472881213  1472881213            1      1472881213   \n",
       "4    27294437909732085_1472822600  1472822600            2      1472822600   \n",
       "\n",
       "  device_browser device_deviceCategory  device_isMobile          ...           \\\n",
       "0         Chrome               desktop            False          ...            \n",
       "1        Firefox               desktop            False          ...            \n",
       "2         Chrome               desktop            False          ...            \n",
       "3     UC Browser               desktop            False          ...            \n",
       "4         Chrome                mobile             True          ...            \n",
       "\n",
       "  totals_bounces totals_hits totals_newVisits totals_pageviews Revenue  \\\n",
       "0              1           1                1                1     0.0   \n",
       "1              1           1                1                1     0.0   \n",
       "2              1           1                1                1     0.0   \n",
       "3              1           1                1                1     0.0   \n",
       "4              1           1                0                1     0.0   \n",
       "\n",
       "  trafficSource_isTrueDirect trafficSource_keyword trafficSource_medium  \\\n",
       "0                      False                   NaN              organic   \n",
       "1                      False                   NaN              organic   \n",
       "2                      False                   NaN              organic   \n",
       "3                      False       google + online              organic   \n",
       "4                       True                   NaN              organic   \n",
       "\n",
       "   trafficSource_referralPath  trafficSource_source  \n",
       "0                         NaN                google  \n",
       "1                         NaN                google  \n",
       "2                         NaN                google  \n",
       "3                         NaN                google  \n",
       "4                         NaN                google  \n",
       "\n",
       "[5 rows x 28 columns]"
      ]
     },
     "execution_count": 8,
     "metadata": {},
     "output_type": "execute_result"
    }
   ],
   "source": [
    "df_raw.head()"
   ]
  },
  {
   "cell_type": "code",
   "execution_count": 9,
   "metadata": {
    "ExecuteTime": {
     "end_time": "2018-11-02T11:28:56.922528Z",
     "start_time": "2018-11-02T11:28:56.443527Z"
    },
    "scrolled": false
   },
   "outputs": [
    {
     "data": {
      "text/html": [
       "<div>\n",
       "<style scoped>\n",
       "    .dataframe tbody tr th:only-of-type {\n",
       "        vertical-align: middle;\n",
       "    }\n",
       "\n",
       "    .dataframe tbody tr th {\n",
       "        vertical-align: top;\n",
       "    }\n",
       "\n",
       "    .dataframe thead th {\n",
       "        text-align: right;\n",
       "    }\n",
       "</style>\n",
       "<table border=\"1\" class=\"dataframe\">\n",
       "  <thead>\n",
       "    <tr style=\"text-align: right;\">\n",
       "      <th></th>\n",
       "      <th>channelGrouping</th>\n",
       "      <th>date</th>\n",
       "      <th>fullVisitorId</th>\n",
       "      <th>sessionId</th>\n",
       "      <th>visitId</th>\n",
       "      <th>visitNumber</th>\n",
       "      <th>visitStartTime</th>\n",
       "      <th>device_browser</th>\n",
       "      <th>device_deviceCategory</th>\n",
       "      <th>device_isMobile</th>\n",
       "      <th>...</th>\n",
       "      <th>totals_bounces</th>\n",
       "      <th>totals_hits</th>\n",
       "      <th>totals_newVisits</th>\n",
       "      <th>totals_pageviews</th>\n",
       "      <th>Revenue</th>\n",
       "      <th>trafficSource_isTrueDirect</th>\n",
       "      <th>trafficSource_keyword</th>\n",
       "      <th>trafficSource_medium</th>\n",
       "      <th>trafficSource_referralPath</th>\n",
       "      <th>trafficSource_source</th>\n",
       "    </tr>\n",
       "  </thead>\n",
       "  <tbody>\n",
       "    <tr>\n",
       "      <th>count</th>\n",
       "      <td>100000</td>\n",
       "      <td>100000</td>\n",
       "      <td>100000</td>\n",
       "      <td>100000</td>\n",
       "      <td>1.000000e+05</td>\n",
       "      <td>100000.000000</td>\n",
       "      <td>1.000000e+05</td>\n",
       "      <td>100000</td>\n",
       "      <td>100000</td>\n",
       "      <td>100000</td>\n",
       "      <td>...</td>\n",
       "      <td>100000.000000</td>\n",
       "      <td>100000.000000</td>\n",
       "      <td>100000.000000</td>\n",
       "      <td>100000.000000</td>\n",
       "      <td>100000.000000</td>\n",
       "      <td>100000</td>\n",
       "      <td>3945</td>\n",
       "      <td>100000</td>\n",
       "      <td>36473</td>\n",
       "      <td>100000</td>\n",
       "    </tr>\n",
       "    <tr>\n",
       "      <th>unique</th>\n",
       "      <td>8</td>\n",
       "      <td>40</td>\n",
       "      <td>89213</td>\n",
       "      <td>99993</td>\n",
       "      <td>NaN</td>\n",
       "      <td>NaN</td>\n",
       "      <td>NaN</td>\n",
       "      <td>29</td>\n",
       "      <td>3</td>\n",
       "      <td>2</td>\n",
       "      <td>...</td>\n",
       "      <td>NaN</td>\n",
       "      <td>NaN</td>\n",
       "      <td>NaN</td>\n",
       "      <td>NaN</td>\n",
       "      <td>NaN</td>\n",
       "      <td>2</td>\n",
       "      <td>642</td>\n",
       "      <td>7</td>\n",
       "      <td>527</td>\n",
       "      <td>161</td>\n",
       "    </tr>\n",
       "    <tr>\n",
       "      <th>top</th>\n",
       "      <td>Organic Search</td>\n",
       "      <td>2016-11-30 00:00:00</td>\n",
       "      <td>1957458976293878100</td>\n",
       "      <td>946085548949296102_1480492063</td>\n",
       "      <td>NaN</td>\n",
       "      <td>NaN</td>\n",
       "      <td>NaN</td>\n",
       "      <td>Chrome</td>\n",
       "      <td>desktop</td>\n",
       "      <td>False</td>\n",
       "      <td>...</td>\n",
       "      <td>NaN</td>\n",
       "      <td>NaN</td>\n",
       "      <td>NaN</td>\n",
       "      <td>NaN</td>\n",
       "      <td>NaN</td>\n",
       "      <td>False</td>\n",
       "      <td>6qEhsCssdK0z36ri</td>\n",
       "      <td>organic</td>\n",
       "      <td>/</td>\n",
       "      <td>google</td>\n",
       "    </tr>\n",
       "    <tr>\n",
       "      <th>freq</th>\n",
       "      <td>42019</td>\n",
       "      <td>4435</td>\n",
       "      <td>44</td>\n",
       "      <td>2</td>\n",
       "      <td>NaN</td>\n",
       "      <td>NaN</td>\n",
       "      <td>NaN</td>\n",
       "      <td>68984</td>\n",
       "      <td>74135</td>\n",
       "      <td>74141</td>\n",
       "      <td>...</td>\n",
       "      <td>NaN</td>\n",
       "      <td>NaN</td>\n",
       "      <td>NaN</td>\n",
       "      <td>NaN</td>\n",
       "      <td>NaN</td>\n",
       "      <td>69546</td>\n",
       "      <td>1338</td>\n",
       "      <td>42019</td>\n",
       "      <td>8731</td>\n",
       "      <td>44448</td>\n",
       "    </tr>\n",
       "    <tr>\n",
       "      <th>first</th>\n",
       "      <td>NaN</td>\n",
       "      <td>2016-08-11 00:00:00</td>\n",
       "      <td>NaN</td>\n",
       "      <td>NaN</td>\n",
       "      <td>NaN</td>\n",
       "      <td>NaN</td>\n",
       "      <td>NaN</td>\n",
       "      <td>NaN</td>\n",
       "      <td>NaN</td>\n",
       "      <td>NaN</td>\n",
       "      <td>...</td>\n",
       "      <td>NaN</td>\n",
       "      <td>NaN</td>\n",
       "      <td>NaN</td>\n",
       "      <td>NaN</td>\n",
       "      <td>NaN</td>\n",
       "      <td>NaN</td>\n",
       "      <td>NaN</td>\n",
       "      <td>NaN</td>\n",
       "      <td>NaN</td>\n",
       "      <td>NaN</td>\n",
       "    </tr>\n",
       "    <tr>\n",
       "      <th>last</th>\n",
       "      <td>NaN</td>\n",
       "      <td>2017-08-01 00:00:00</td>\n",
       "      <td>NaN</td>\n",
       "      <td>NaN</td>\n",
       "      <td>NaN</td>\n",
       "      <td>NaN</td>\n",
       "      <td>NaN</td>\n",
       "      <td>NaN</td>\n",
       "      <td>NaN</td>\n",
       "      <td>NaN</td>\n",
       "      <td>...</td>\n",
       "      <td>NaN</td>\n",
       "      <td>NaN</td>\n",
       "      <td>NaN</td>\n",
       "      <td>NaN</td>\n",
       "      <td>NaN</td>\n",
       "      <td>NaN</td>\n",
       "      <td>NaN</td>\n",
       "      <td>NaN</td>\n",
       "      <td>NaN</td>\n",
       "      <td>NaN</td>\n",
       "    </tr>\n",
       "    <tr>\n",
       "      <th>mean</th>\n",
       "      <td>NaN</td>\n",
       "      <td>NaN</td>\n",
       "      <td>NaN</td>\n",
       "      <td>NaN</td>\n",
       "      <td>1.484710e+09</td>\n",
       "      <td>2.274210</td>\n",
       "      <td>1.484710e+09</td>\n",
       "      <td>NaN</td>\n",
       "      <td>NaN</td>\n",
       "      <td>NaN</td>\n",
       "      <td>...</td>\n",
       "      <td>0.489160</td>\n",
       "      <td>4.622350</td>\n",
       "      <td>0.772630</td>\n",
       "      <td>3.867880</td>\n",
       "      <td>0.249433</td>\n",
       "      <td>NaN</td>\n",
       "      <td>NaN</td>\n",
       "      <td>NaN</td>\n",
       "      <td>NaN</td>\n",
       "      <td>NaN</td>\n",
       "    </tr>\n",
       "    <tr>\n",
       "      <th>std</th>\n",
       "      <td>NaN</td>\n",
       "      <td>NaN</td>\n",
       "      <td>NaN</td>\n",
       "      <td>NaN</td>\n",
       "      <td>9.166865e+06</td>\n",
       "      <td>9.260941</td>\n",
       "      <td>9.166865e+06</td>\n",
       "      <td>NaN</td>\n",
       "      <td>NaN</td>\n",
       "      <td>NaN</td>\n",
       "      <td>...</td>\n",
       "      <td>0.499885</td>\n",
       "      <td>9.620067</td>\n",
       "      <td>0.419136</td>\n",
       "      <td>6.981753</td>\n",
       "      <td>2.098965</td>\n",
       "      <td>NaN</td>\n",
       "      <td>NaN</td>\n",
       "      <td>NaN</td>\n",
       "      <td>NaN</td>\n",
       "      <td>NaN</td>\n",
       "    </tr>\n",
       "    <tr>\n",
       "      <th>min</th>\n",
       "      <td>NaN</td>\n",
       "      <td>NaN</td>\n",
       "      <td>NaN</td>\n",
       "      <td>NaN</td>\n",
       "      <td>1.470896e+09</td>\n",
       "      <td>1.000000</td>\n",
       "      <td>1.470899e+09</td>\n",
       "      <td>NaN</td>\n",
       "      <td>NaN</td>\n",
       "      <td>NaN</td>\n",
       "      <td>...</td>\n",
       "      <td>0.000000</td>\n",
       "      <td>1.000000</td>\n",
       "      <td>0.000000</td>\n",
       "      <td>0.000000</td>\n",
       "      <td>0.000000</td>\n",
       "      <td>NaN</td>\n",
       "      <td>NaN</td>\n",
       "      <td>NaN</td>\n",
       "      <td>NaN</td>\n",
       "      <td>NaN</td>\n",
       "    </tr>\n",
       "    <tr>\n",
       "      <th>25%</th>\n",
       "      <td>NaN</td>\n",
       "      <td>NaN</td>\n",
       "      <td>NaN</td>\n",
       "      <td>NaN</td>\n",
       "      <td>1.478832e+09</td>\n",
       "      <td>1.000000</td>\n",
       "      <td>1.478832e+09</td>\n",
       "      <td>NaN</td>\n",
       "      <td>NaN</td>\n",
       "      <td>NaN</td>\n",
       "      <td>...</td>\n",
       "      <td>0.000000</td>\n",
       "      <td>1.000000</td>\n",
       "      <td>1.000000</td>\n",
       "      <td>1.000000</td>\n",
       "      <td>0.000000</td>\n",
       "      <td>NaN</td>\n",
       "      <td>NaN</td>\n",
       "      <td>NaN</td>\n",
       "      <td>NaN</td>\n",
       "      <td>NaN</td>\n",
       "    </tr>\n",
       "    <tr>\n",
       "      <th>50%</th>\n",
       "      <td>NaN</td>\n",
       "      <td>NaN</td>\n",
       "      <td>NaN</td>\n",
       "      <td>NaN</td>\n",
       "      <td>1.481667e+09</td>\n",
       "      <td>1.000000</td>\n",
       "      <td>1.481667e+09</td>\n",
       "      <td>NaN</td>\n",
       "      <td>NaN</td>\n",
       "      <td>NaN</td>\n",
       "      <td>...</td>\n",
       "      <td>0.000000</td>\n",
       "      <td>2.000000</td>\n",
       "      <td>1.000000</td>\n",
       "      <td>2.000000</td>\n",
       "      <td>0.000000</td>\n",
       "      <td>NaN</td>\n",
       "      <td>NaN</td>\n",
       "      <td>NaN</td>\n",
       "      <td>NaN</td>\n",
       "      <td>NaN</td>\n",
       "    </tr>\n",
       "    <tr>\n",
       "      <th>75%</th>\n",
       "      <td>NaN</td>\n",
       "      <td>NaN</td>\n",
       "      <td>NaN</td>\n",
       "      <td>NaN</td>\n",
       "      <td>1.493684e+09</td>\n",
       "      <td>1.000000</td>\n",
       "      <td>1.493684e+09</td>\n",
       "      <td>NaN</td>\n",
       "      <td>NaN</td>\n",
       "      <td>NaN</td>\n",
       "      <td>...</td>\n",
       "      <td>1.000000</td>\n",
       "      <td>4.000000</td>\n",
       "      <td>1.000000</td>\n",
       "      <td>4.000000</td>\n",
       "      <td>0.000000</td>\n",
       "      <td>NaN</td>\n",
       "      <td>NaN</td>\n",
       "      <td>NaN</td>\n",
       "      <td>NaN</td>\n",
       "      <td>NaN</td>\n",
       "    </tr>\n",
       "    <tr>\n",
       "      <th>max</th>\n",
       "      <td>NaN</td>\n",
       "      <td>NaN</td>\n",
       "      <td>NaN</td>\n",
       "      <td>NaN</td>\n",
       "      <td>1.501657e+09</td>\n",
       "      <td>389.000000</td>\n",
       "      <td>1.501657e+09</td>\n",
       "      <td>NaN</td>\n",
       "      <td>NaN</td>\n",
       "      <td>NaN</td>\n",
       "      <td>...</td>\n",
       "      <td>1.000000</td>\n",
       "      <td>500.000000</td>\n",
       "      <td>1.000000</td>\n",
       "      <td>400.000000</td>\n",
       "      <td>22.427650</td>\n",
       "      <td>NaN</td>\n",
       "      <td>NaN</td>\n",
       "      <td>NaN</td>\n",
       "      <td>NaN</td>\n",
       "      <td>NaN</td>\n",
       "    </tr>\n",
       "  </tbody>\n",
       "</table>\n",
       "<p>13 rows × 28 columns</p>\n",
       "</div>"
      ],
      "text/plain": [
       "       channelGrouping                 date        fullVisitorId  \\\n",
       "count           100000               100000               100000   \n",
       "unique               8                   40                89213   \n",
       "top     Organic Search  2016-11-30 00:00:00  1957458976293878100   \n",
       "freq             42019                 4435                   44   \n",
       "first              NaN  2016-08-11 00:00:00                  NaN   \n",
       "last               NaN  2017-08-01 00:00:00                  NaN   \n",
       "mean               NaN                  NaN                  NaN   \n",
       "std                NaN                  NaN                  NaN   \n",
       "min                NaN                  NaN                  NaN   \n",
       "25%                NaN                  NaN                  NaN   \n",
       "50%                NaN                  NaN                  NaN   \n",
       "75%                NaN                  NaN                  NaN   \n",
       "max                NaN                  NaN                  NaN   \n",
       "\n",
       "                            sessionId       visitId    visitNumber  \\\n",
       "count                          100000  1.000000e+05  100000.000000   \n",
       "unique                          99993           NaN            NaN   \n",
       "top     946085548949296102_1480492063           NaN            NaN   \n",
       "freq                                2           NaN            NaN   \n",
       "first                             NaN           NaN            NaN   \n",
       "last                              NaN           NaN            NaN   \n",
       "mean                              NaN  1.484710e+09       2.274210   \n",
       "std                               NaN  9.166865e+06       9.260941   \n",
       "min                               NaN  1.470896e+09       1.000000   \n",
       "25%                               NaN  1.478832e+09       1.000000   \n",
       "50%                               NaN  1.481667e+09       1.000000   \n",
       "75%                               NaN  1.493684e+09       1.000000   \n",
       "max                               NaN  1.501657e+09     389.000000   \n",
       "\n",
       "        visitStartTime device_browser device_deviceCategory device_isMobile  \\\n",
       "count     1.000000e+05         100000                100000          100000   \n",
       "unique             NaN             29                     3               2   \n",
       "top                NaN         Chrome               desktop           False   \n",
       "freq               NaN          68984                 74135           74141   \n",
       "first              NaN            NaN                   NaN             NaN   \n",
       "last               NaN            NaN                   NaN             NaN   \n",
       "mean      1.484710e+09            NaN                   NaN             NaN   \n",
       "std       9.166865e+06            NaN                   NaN             NaN   \n",
       "min       1.470899e+09            NaN                   NaN             NaN   \n",
       "25%       1.478832e+09            NaN                   NaN             NaN   \n",
       "50%       1.481667e+09            NaN                   NaN             NaN   \n",
       "75%       1.493684e+09            NaN                   NaN             NaN   \n",
       "max       1.501657e+09            NaN                   NaN             NaN   \n",
       "\n",
       "                ...          totals_bounces    totals_hits totals_newVisits  \\\n",
       "count           ...           100000.000000  100000.000000    100000.000000   \n",
       "unique          ...                     NaN            NaN              NaN   \n",
       "top             ...                     NaN            NaN              NaN   \n",
       "freq            ...                     NaN            NaN              NaN   \n",
       "first           ...                     NaN            NaN              NaN   \n",
       "last            ...                     NaN            NaN              NaN   \n",
       "mean            ...                0.489160       4.622350         0.772630   \n",
       "std             ...                0.499885       9.620067         0.419136   \n",
       "min             ...                0.000000       1.000000         0.000000   \n",
       "25%             ...                0.000000       1.000000         1.000000   \n",
       "50%             ...                0.000000       2.000000         1.000000   \n",
       "75%             ...                1.000000       4.000000         1.000000   \n",
       "max             ...                1.000000     500.000000         1.000000   \n",
       "\n",
       "       totals_pageviews        Revenue trafficSource_isTrueDirect  \\\n",
       "count     100000.000000  100000.000000                     100000   \n",
       "unique              NaN            NaN                          2   \n",
       "top                 NaN            NaN                      False   \n",
       "freq                NaN            NaN                      69546   \n",
       "first               NaN            NaN                        NaN   \n",
       "last                NaN            NaN                        NaN   \n",
       "mean           3.867880       0.249433                        NaN   \n",
       "std            6.981753       2.098965                        NaN   \n",
       "min            0.000000       0.000000                        NaN   \n",
       "25%            1.000000       0.000000                        NaN   \n",
       "50%            2.000000       0.000000                        NaN   \n",
       "75%            4.000000       0.000000                        NaN   \n",
       "max          400.000000      22.427650                        NaN   \n",
       "\n",
       "       trafficSource_keyword trafficSource_medium  trafficSource_referralPath  \\\n",
       "count                   3945               100000                       36473   \n",
       "unique                   642                    7                         527   \n",
       "top         6qEhsCssdK0z36ri              organic                           /   \n",
       "freq                    1338                42019                        8731   \n",
       "first                    NaN                  NaN                         NaN   \n",
       "last                     NaN                  NaN                         NaN   \n",
       "mean                     NaN                  NaN                         NaN   \n",
       "std                      NaN                  NaN                         NaN   \n",
       "min                      NaN                  NaN                         NaN   \n",
       "25%                      NaN                  NaN                         NaN   \n",
       "50%                      NaN                  NaN                         NaN   \n",
       "75%                      NaN                  NaN                         NaN   \n",
       "max                      NaN                  NaN                         NaN   \n",
       "\n",
       "        trafficSource_source  \n",
       "count                 100000  \n",
       "unique                   161  \n",
       "top                   google  \n",
       "freq                   44448  \n",
       "first                    NaN  \n",
       "last                     NaN  \n",
       "mean                     NaN  \n",
       "std                      NaN  \n",
       "min                      NaN  \n",
       "25%                      NaN  \n",
       "50%                      NaN  \n",
       "75%                      NaN  \n",
       "max                      NaN  \n",
       "\n",
       "[13 rows x 28 columns]"
      ]
     },
     "execution_count": 9,
     "metadata": {},
     "output_type": "execute_result"
    }
   ],
   "source": [
    "df_raw.describe(include='all')"
   ]
  },
  {
   "cell_type": "code",
   "execution_count": 10,
   "metadata": {
    "ExecuteTime": {
     "end_time": "2018-11-02T11:28:57.013685Z",
     "start_time": "2018-11-02T11:28:56.924807Z"
    },
    "scrolled": true
   },
   "outputs": [
    {
     "data": {
      "text/plain": [
       "trafficSource_keyword         96055\n",
       "geoNetwork_metro              77740\n",
       "trafficSource_referralPath    63527\n",
       "geoNetwork_city               55211\n",
       "geoNetwork_region             55211\n",
       "geoNetwork_networkDomain      16004\n",
       "device_browser                    0\n",
       "device_isMobile                   0\n",
       "device_deviceCategory             0\n",
       "trafficSource_source              0\n",
       "device_operatingSystem            0\n",
       "visitNumber                       0\n",
       "visitId                           0\n",
       "sessionId                         0\n",
       "fullVisitorId                     0\n",
       "date                              0\n",
       "visitStartTime                    0\n",
       "geoNetwork_country                0\n",
       "geoNetwork_continent              0\n",
       "geoNetwork_subContinent           0\n",
       "totals_bounces                    0\n",
       "totals_hits                       0\n",
       "totals_newVisits                  0\n",
       "totals_pageviews                  0\n",
       "Revenue                           0\n",
       "trafficSource_isTrueDirect        0\n",
       "trafficSource_medium              0\n",
       "channelGrouping                   0\n",
       "dtype: int64"
      ]
     },
     "execution_count": 10,
     "metadata": {},
     "output_type": "execute_result"
    }
   ],
   "source": [
    "df_raw.isnull().sum().sort_values(ascending=False)"
   ]
  },
  {
   "cell_type": "markdown",
   "metadata": {},
   "source": [
    "# Helpers functions"
   ]
  },
  {
   "cell_type": "code",
   "execution_count": 11,
   "metadata": {
    "ExecuteTime": {
     "end_time": "2018-11-02T11:28:57.020350Z",
     "start_time": "2018-11-02T11:28:57.015650Z"
    }
   },
   "outputs": [],
   "source": [
    "def rmse(x,y): \n",
    "    return math.sqrt(((x-y)**2).mean())\n",
    "\n",
    "def print_score(m):\n",
    "    res = {'rmse_train':rmse(m.predict(X_train), y_train), 'rmse_valid':rmse(m.predict(X_valid), y_valid),\n",
    "                'r2_train':m.score(X_train, y_train), 'r2_valid':m.score(X_valid, y_valid)}\n",
    "    if hasattr(m, 'oob_score_'): res['r2_oob']= m.oob_score_\n",
    "    pprint(res)"
   ]
  },
  {
   "cell_type": "code",
   "execution_count": 12,
   "metadata": {
    "ExecuteTime": {
     "end_time": "2018-11-02T11:28:57.026104Z",
     "start_time": "2018-11-02T11:28:57.023019Z"
    }
   },
   "outputs": [],
   "source": [
    "def base_model(oob_score=True):\n",
    "    global clf\n",
    "    clf = RFF(n_jobs=-1,n_estimators=20,oob_score=oob_score)\n",
    "    clf.fit(X_train, y_train)\n",
    "    print_score(clf)"
   ]
  },
  {
   "cell_type": "code",
   "execution_count": 13,
   "metadata": {
    "ExecuteTime": {
     "end_time": "2018-11-02T11:28:57.032792Z",
     "start_time": "2018-11-02T11:28:57.028307Z"
    }
   },
   "outputs": [],
   "source": [
    "n_trn = 70000\n",
    "\n",
    "def split_vals(a,n) : return a[:n],a[n:]\n",
    "\n",
    "def split_data(df = df_raw,n_trn = 70000,to_keep=None):\n",
    "    global X_train,X_valid,y_train,y_valid\n",
    "    \n",
    "    X_train,X_valid = split_vals(df.drop('Revenue',axis=1), n_trn)\n",
    "    y_train,y_valid = split_vals(df['Revenue'], n_trn)\n",
    "    \n",
    "    "
   ]
  },
  {
   "cell_type": "code",
   "execution_count": 14,
   "metadata": {
    "ExecuteTime": {
     "end_time": "2018-11-02T11:28:57.039369Z",
     "start_time": "2018-11-02T11:28:57.034962Z"
    }
   },
   "outputs": [],
   "source": [
    "def plot_fi(n=30): \n",
    "    cols = list(df_raw.columns)\n",
    "    cols.remove('Revenue')\n",
    "    fi = pd.DataFrame({'cols':cols,'imp':clf.feature_importances_}).sort_values('imp',ascending=False).iloc[:n]\n",
    "    return fi.plot('cols', 'imp', 'barh', figsize=(12,7), legend=False)"
   ]
  },
  {
   "cell_type": "markdown",
   "metadata": {},
   "source": [
    "# Create data from date columns"
   ]
  },
  {
   "cell_type": "code",
   "execution_count": 15,
   "metadata": {
    "ExecuteTime": {
     "end_time": "2018-11-02T11:28:57.045282Z",
     "start_time": "2018-11-02T11:28:57.041086Z"
    }
   },
   "outputs": [],
   "source": [
    "fld = pd.to_datetime(df_raw['date'], infer_datetime_format=True)"
   ]
  },
  {
   "cell_type": "code",
   "execution_count": 16,
   "metadata": {
    "ExecuteTime": {
     "end_time": "2018-11-02T11:28:57.050755Z",
     "start_time": "2018-11-02T11:28:57.047324Z"
    }
   },
   "outputs": [],
   "source": [
    "attrs = ['Year', 'Month', 'Week', 'Day', 'Dayofweek', 'Dayofyear',\n",
    "        'Is_month_end', 'Is_month_start', 'Is_quarter_end', \n",
    "        'Is_quarter_start', 'Is_year_end', 'Is_year_start']"
   ]
  },
  {
   "cell_type": "code",
   "execution_count": 17,
   "metadata": {
    "ExecuteTime": {
     "end_time": "2018-11-02T11:28:57.117031Z",
     "start_time": "2018-11-02T11:28:57.053284Z"
    },
    "scrolled": true
   },
   "outputs": [],
   "source": [
    "for attr in attrs:\n",
    "    df_raw['Date_'+attr] = getattr(fld.dt,attr.lower())\n",
    "    "
   ]
  },
  {
   "cell_type": "code",
   "execution_count": 18,
   "metadata": {
    "ExecuteTime": {
     "end_time": "2018-11-02T11:28:57.124970Z",
     "start_time": "2018-11-02T11:28:57.119454Z"
    }
   },
   "outputs": [],
   "source": [
    "del df_raw['date']\n",
    "del fld"
   ]
  },
  {
   "cell_type": "code",
   "execution_count": 19,
   "metadata": {
    "ExecuteTime": {
     "end_time": "2018-11-02T11:28:57.132653Z",
     "start_time": "2018-11-02T11:28:57.127391Z"
    }
   },
   "outputs": [
    {
     "data": {
      "text/plain": [
       "Index(['channelGrouping', 'fullVisitorId', 'sessionId', 'visitId',\n",
       "       'visitNumber', 'visitStartTime', 'device_browser',\n",
       "       'device_deviceCategory', 'device_isMobile', 'device_operatingSystem',\n",
       "       'geoNetwork_city', 'geoNetwork_continent', 'geoNetwork_country',\n",
       "       'geoNetwork_metro', 'geoNetwork_networkDomain', 'geoNetwork_region',\n",
       "       'geoNetwork_subContinent', 'totals_bounces', 'totals_hits',\n",
       "       'totals_newVisits', 'totals_pageviews', 'Revenue',\n",
       "       'trafficSource_isTrueDirect', 'trafficSource_keyword',\n",
       "       'trafficSource_medium', 'trafficSource_referralPath',\n",
       "       'trafficSource_source', 'Date_Year', 'Date_Month', 'Date_Week',\n",
       "       'Date_Day', 'Date_Dayofweek', 'Date_Dayofyear', 'Date_Is_month_end',\n",
       "       'Date_Is_month_start', 'Date_Is_quarter_end', 'Date_Is_quarter_start',\n",
       "       'Date_Is_year_end', 'Date_Is_year_start'],\n",
       "      dtype='object')"
      ]
     },
     "execution_count": 19,
     "metadata": {},
     "output_type": "execute_result"
    }
   ],
   "source": [
    "df_raw.columns"
   ]
  },
  {
   "cell_type": "markdown",
   "metadata": {},
   "source": [
    "# Convert data ready for modeling"
   ]
  },
  {
   "cell_type": "code",
   "execution_count": 20,
   "metadata": {
    "ExecuteTime": {
     "end_time": "2018-11-02T11:29:16.201242Z",
     "start_time": "2018-11-02T11:29:15.987495Z"
    }
   },
   "outputs": [],
   "source": [
    "df = df_raw.copy()\n",
    "df.fillna('NA',inplace=True)"
   ]
  },
  {
   "cell_type": "code",
   "execution_count": 21,
   "metadata": {
    "ExecuteTime": {
     "end_time": "2018-11-02T11:29:17.043213Z",
     "start_time": "2018-11-02T11:29:17.039209Z"
    }
   },
   "outputs": [],
   "source": [
    "id_cols = ['fullVisitorId','sessionId','visitId']\n",
    "cat_cols = ['channelGrouping','device_browser','device_deviceCategory','device_operatingSystem','geoNetwork_city',\n",
    "           'geoNetwork_continent','geoNetwork_country','geoNetwork_metro','geoNetwork_networkDomain','geoNetwork_region',\n",
    "           'geoNetwork_subContinent','trafficSource_keyword','trafficSource_medium','trafficSource_referralPath',\n",
    "           'trafficSource_source']\n",
    "num_cols = ['visitNumber','visitNumber','totals_bounces','totals_hits','totals_newVisits','totals_pageviews']\n",
    "date_cols = ['date','visitStartTime']\n",
    "bool_cols = ['device_isMobile','trafficSource_isTrueDirect']"
   ]
  },
  {
   "cell_type": "code",
   "execution_count": 22,
   "metadata": {
    "ExecuteTime": {
     "end_time": "2018-11-02T11:29:21.805640Z",
     "start_time": "2018-11-02T11:29:21.295048Z"
    }
   },
   "outputs": [
    {
     "name": "stdout",
     "output_type": "stream",
     "text": [
      "channelGrouping\n",
      "device_browser\n",
      "device_deviceCategory\n",
      "device_operatingSystem\n",
      "geoNetwork_city\n",
      "geoNetwork_continent\n",
      "geoNetwork_country\n",
      "geoNetwork_metro\n",
      "geoNetwork_networkDomain\n",
      "geoNetwork_region\n",
      "geoNetwork_subContinent\n",
      "trafficSource_keyword\n",
      "trafficSource_medium\n",
      "trafficSource_referralPath\n",
      "trafficSource_source\n"
     ]
    }
   ],
   "source": [
    "\n",
    "for col in cat_cols:\n",
    "    print(col)\n",
    "    lb = LabelEncoder() \n",
    "    lb.fit(df[col])\n",
    "    df[col] = lb.transform(df[col])\n",
    "    \n",
    "    "
   ]
  },
  {
   "cell_type": "markdown",
   "metadata": {},
   "source": [
    "# Base models"
   ]
  },
  {
   "cell_type": "code",
   "execution_count": 83,
   "metadata": {
    "ExecuteTime": {
     "end_time": "2018-11-02T06:39:11.593289Z",
     "start_time": "2018-11-02T06:39:11.588329Z"
    }
   },
   "outputs": [
    {
     "data": {
      "text/plain": [
       "Index(['channelGrouping', 'fullVisitorId', 'sessionId', 'visitId',\n",
       "       'visitNumber', 'visitStartTime', 'device_browser',\n",
       "       'device_deviceCategory', 'device_isMobile', 'device_operatingSystem',\n",
       "       'geoNetwork_city', 'geoNetwork_continent', 'geoNetwork_country',\n",
       "       'geoNetwork_metro', 'geoNetwork_networkDomain', 'geoNetwork_region',\n",
       "       'geoNetwork_subContinent', 'totals_bounces', 'totals_hits',\n",
       "       'totals_newVisits', 'totals_pageviews', 'Revenue',\n",
       "       'trafficSource_isTrueDirect', 'trafficSource_keyword',\n",
       "       'trafficSource_medium', 'trafficSource_referralPath',\n",
       "       'trafficSource_source', 'Date_Year', 'Date_Month', 'Date_Week',\n",
       "       'Date_Day', 'Date_Dayofweek', 'Date_Dayofyear', 'Date_Is_month_end',\n",
       "       'Date_Is_month_start', 'Date_Is_quarter_end', 'Date_Is_quarter_start',\n",
       "       'Date_Is_year_end', 'Date_Is_year_start'],\n",
       "      dtype='object')"
      ]
     },
     "execution_count": 83,
     "metadata": {},
     "output_type": "execute_result"
    }
   ],
   "source": [
    "df.columns"
   ]
  },
  {
   "cell_type": "code",
   "execution_count": 84,
   "metadata": {
    "ExecuteTime": {
     "end_time": "2018-11-02T06:39:11.920471Z",
     "start_time": "2018-11-02T06:39:11.907065Z"
    },
    "scrolled": true
   },
   "outputs": [],
   "source": [
    "split_data(df)"
   ]
  },
  {
   "cell_type": "code",
   "execution_count": 85,
   "metadata": {
    "ExecuteTime": {
     "end_time": "2018-11-02T06:39:15.723456Z",
     "start_time": "2018-11-02T06:39:12.323631Z"
    },
    "scrolled": true
   },
   "outputs": [
    {
     "name": "stderr",
     "output_type": "stream",
     "text": [
      "/Users/macbook/miniconda3/envs/dev/lib/python3.6/site-packages/sklearn/ensemble/forest.py:732: UserWarning: Some inputs do not have OOB scores. This probably means too few trees were used to compute any reliable oob estimates.\n",
      "  warn(\"Some inputs do not have OOB scores. \"\n"
     ]
    },
    {
     "name": "stdout",
     "output_type": "stream",
     "text": [
      "{'r2_oob': 0.16954117996434848,\n",
      " 'r2_train': 0.8813088614345973,\n",
      " 'r2_valid': 0.2461096836553952,\n",
      " 'rmse_train': 0.6883455369341425,\n",
      " 'rmse_valid': 2.0113439593061857}\n"
     ]
    }
   ],
   "source": [
    "base_model()"
   ]
  },
  {
   "cell_type": "code",
   "execution_count": 86,
   "metadata": {
    "ExecuteTime": {
     "end_time": "2018-11-02T06:39:16.304969Z",
     "start_time": "2018-11-02T06:39:15.725865Z"
    }
   },
   "outputs": [
    {
     "data": {
      "text/plain": [
       "<matplotlib.axes._subplots.AxesSubplot at 0x1a214de828>"
      ]
     },
     "execution_count": 86,
     "metadata": {},
     "output_type": "execute_result"
    },
    {
     "data": {
      "image/png": "[encoded data removed]",
      "text/plain": [
       "<Figure size 864x504 with 1 Axes>"
      ]
     },
     "metadata": {
      "needs_background": "light"
     },
     "output_type": "display_data"
    }
   ],
   "source": [
    "plot_fi(n=30)"
   ]
  },
  {
   "cell_type": "markdown",
   "metadata": {
    "ExecuteTime": {
     "end_time": "2018-11-02T06:39:49.221648Z",
     "start_time": "2018-11-02T06:39:49.219212Z"
    }
   },
   "source": [
    "## With fatsai lib"
   ]
  },
  {
   "cell_type": "code",
   "execution_count": 40,
   "metadata": {
    "ExecuteTime": {
     "end_time": "2018-11-02T11:34:43.210567Z",
     "start_time": "2018-11-02T11:34:43.204521Z"
    }
   },
   "outputs": [
    {
     "data": {
      "text/plain": [
       "Index(['Unnamed: 0', 'channelGrouping', 'date', 'fullVisitorId', 'sessionId',\n",
       "       'socialEngagementType', 'visitId', 'visitNumber', 'visitStartTime',\n",
       "       'device_browser', 'device_browserSize', 'device_browserVersion',\n",
       "       'device_deviceCategory', 'device_flashVersion', 'device_isMobile',\n",
       "       'device_language', 'device_mobileDeviceBranding',\n",
       "       'device_mobileDeviceInfo', 'device_mobileDeviceMarketingName',\n",
       "       'device_mobileDeviceModel', 'device_mobileInputSelector',\n",
       "       'device_operatingSystem', 'device_operatingSystemVersion',\n",
       "       'device_screenColors', 'device_screenResolution', 'geoNetwork_city',\n",
       "       'geoNetwork_cityId', 'geoNetwork_continent', 'geoNetwork_country',\n",
       "       'geoNetwork_latitude', 'geoNetwork_longitude', 'geoNetwork_metro',\n",
       "       'geoNetwork_networkDomain', 'geoNetwork_networkLocation',\n",
       "       'geoNetwork_region', 'geoNetwork_subContinent', 'totals_bounces',\n",
       "       'totals_hits', 'totals_newVisits', 'totals_pageviews',\n",
       "       'totals_transactionRevenue', 'totals_visits', 'trafficSource_adContent',\n",
       "       'trafficSource_adwordsClickInfo.adNetworkType',\n",
       "       'trafficSource_adwordsClickInfo.criteriaParameters',\n",
       "       'trafficSource_adwordsClickInfo.gclId',\n",
       "       'trafficSource_adwordsClickInfo.isVideoAd',\n",
       "       'trafficSource_adwordsClickInfo.page',\n",
       "       'trafficSource_adwordsClickInfo.slot', 'trafficSource_campaign',\n",
       "       'trafficSource_campaignCode', 'trafficSource_isTrueDirect',\n",
       "       'trafficSource_keyword', 'trafficSource_medium',\n",
       "       'trafficSource_referralPath', 'trafficSource_source', 'is_bought'],\n",
       "      dtype='object')"
      ]
     },
     "execution_count": 40,
     "metadata": {},
     "output_type": "execute_result"
    }
   ],
   "source": [
    "df_raw.columns"
   ]
  },
  {
   "cell_type": "code",
   "execution_count": 56,
   "metadata": {
    "ExecuteTime": {
     "end_time": "2018-11-02T11:39:20.799528Z",
     "start_time": "2018-11-02T11:39:20.796852Z"
    }
   },
   "outputs": [],
   "source": [
    "add_datepart(df_raw,'date')"
   ]
  },
  {
   "cell_type": "code",
   "execution_count": 57,
   "metadata": {
    "ExecuteTime": {
     "end_time": "2018-11-02T11:39:23.647602Z",
     "start_time": "2018-11-02T11:39:23.644487Z"
    }
   },
   "outputs": [],
   "source": [
    "train_cats(df_raw)"
   ]
  },
  {
   "cell_type": "code",
   "execution_count": 58,
   "metadata": {
    "ExecuteTime": {
     "end_time": "2018-11-02T11:39:24.038543Z",
     "start_time": "2018-11-02T11:39:23.832143Z"
    },
    "scrolled": true
   },
   "outputs": [],
   "source": [
    "df_trn ,y_trn, nas = proc_df(df_raw,'totals_transactionRevenue')"
   ]
  },
  {
   "cell_type": "code",
   "execution_count": 59,
   "metadata": {
    "ExecuteTime": {
     "end_time": "2018-11-02T11:39:24.216141Z",
     "start_time": "2018-11-02T11:39:24.187153Z"
    }
   },
   "outputs": [],
   "source": [
    "n_trn = 80000\n",
    "X_train, X_valid = split_vals(df_trn, n_trn)\n",
    "y_train, y_valid = split_vals(y_trn, n_trn)"
   ]
  },
  {
   "cell_type": "code",
   "execution_count": 60,
   "metadata": {
    "ExecuteTime": {
     "end_time": "2018-11-02T11:39:29.458121Z",
     "start_time": "2018-11-02T11:39:24.807980Z"
    },
    "scrolled": true
   },
   "outputs": [
    {
     "name": "stderr",
     "output_type": "stream",
     "text": [
      "/Users/macbook/miniconda3/envs/dev/lib/python3.6/site-packages/sklearn/ensemble/forest.py:732: UserWarning: Some inputs do not have OOB scores. This probably means too few trees were used to compute any reliable oob estimates.\n",
      "  warn(\"Some inputs do not have OOB scores. \"\n"
     ]
    },
    {
     "name": "stdout",
     "output_type": "stream",
     "text": [
      "{'r2_oob': 0.17731023572425286,\n",
      " 'r2_train': 0.8798819580729106,\n",
      " 'r2_valid': 0.16435822287607002,\n",
      " 'rmse_train': 0.715337505196764,\n",
      " 'rmse_valid': 2.041334587425091}\n"
     ]
    }
   ],
   "source": [
    "base_model()"
   ]
  },
  {
   "cell_type": "markdown",
   "metadata": {},
   "source": [
    "# Data engineering"
   ]
  },
  {
   "cell_type": "markdown",
   "metadata": {},
   "source": [
    "## Reorder data"
   ]
  },
  {
   "cell_type": "code",
   "execution_count": 14,
   "metadata": {
    "ExecuteTime": {
     "end_time": "2018-10-04T13:26:58.473661Z",
     "start_time": "2018-10-04T13:26:58.463249Z"
    }
   },
   "outputs": [
    {
     "data": {
      "text/plain": [
       "Index(['channelGrouping', 'fullVisitorId', 'sessionId', 'socialEngagementType',\n",
       "       'visitId', 'visitNumber', 'visitStartTime', 'Year', 'Month', 'Week',\n",
       "       'Day', 'Dayofweek', 'Dayofyear', 'Is_month_end', 'Is_month_start',\n",
       "       'Is_quarter_end', 'Is_quarter_start', 'Is_year_end', 'Is_year_start',\n",
       "       'Elapsed', 'device_browser', 'device_browserSize',\n",
       "       'device_browserVersion', 'device_deviceCategory', 'device_flashVersion',\n",
       "       'device_isMobile', 'device_language', 'device_mobileDeviceBranding',\n",
       "       'device_mobileDeviceInfo', 'device_mobileDeviceMarketingName',\n",
       "       'device_mobileDeviceModel', 'device_mobileInputSelector',\n",
       "       'device_operatingSystem', 'device_operatingSystemVersion',\n",
       "       'device_screenColors', 'device_screenResolution', 'geoNetwork_city',\n",
       "       'geoNetwork_cityId', 'geoNetwork_continent', 'geoNetwork_country',\n",
       "       'geoNetwork_latitude', 'geoNetwork_longitude', 'geoNetwork_metro',\n",
       "       'geoNetwork_networkDomain', 'geoNetwork_networkLocation',\n",
       "       'geoNetwork_region', 'geoNetwork_subContinent', 'totals_bounces',\n",
       "       'totals_hits', 'totals_newVisits', 'totals_pageviews', 'Revenue',\n",
       "       'totals_visits', 'trafficSource_adContent',\n",
       "       'trafficSource_adwordsClickInfo.adNetworkType',\n",
       "       'trafficSource_adwordsClickInfo.criteriaParameters',\n",
       "       'trafficSource_adwordsClickInfo.gclId',\n",
       "       'trafficSource_adwordsClickInfo.isVideoAd',\n",
       "       'trafficSource_adwordsClickInfo.page',\n",
       "       'trafficSource_adwordsClickInfo.slot', 'trafficSource_campaign',\n",
       "       'trafficSource_campaignCode', 'trafficSource_isTrueDirect',\n",
       "       'trafficSource_keyword', 'trafficSource_medium',\n",
       "       'trafficSource_referralPath', 'trafficSource_source'],\n",
       "      dtype='object')"
      ]
     },
     "execution_count": 14,
     "metadata": {},
     "output_type": "execute_result"
    }
   ],
   "source": [
    "df_raw.columns"
   ]
  },
  {
   "cell_type": "code",
   "execution_count": 15,
   "metadata": {
    "ExecuteTime": {
     "end_time": "2018-10-04T13:26:58.489142Z",
     "start_time": "2018-10-04T13:26:58.476123Z"
    }
   },
   "outputs": [],
   "source": [
    "to_sort = ['totals_pageviews','totals_hits']\n",
    "for cat in to_sort:\n",
    "    orders = np.array(sorted(df_raw[cat].cat.categories.astype(np.int32))).astype(np.str)\n",
    "    df_raw[cat].cat.reorder_categories(orders,inplace=True)"
   ]
  },
  {
   "cell_type": "code",
   "execution_count": 16,
   "metadata": {
    "ExecuteTime": {
     "end_time": "2018-10-04T13:26:58.669078Z",
     "start_time": "2018-10-04T13:26:58.491150Z"
    }
   },
   "outputs": [],
   "source": [
    "split_data()"
   ]
  },
  {
   "cell_type": "code",
   "execution_count": 38,
   "metadata": {
    "ExecuteTime": {
     "end_time": "2018-10-04T13:44:51.280774Z",
     "start_time": "2018-10-04T13:44:47.582093Z"
    }
   },
   "outputs": [
    {
     "name": "stderr",
     "output_type": "stream",
     "text": [
      "/Users/macbook/miniconda3/envs/dev/lib/python3.6/site-packages/sklearn/ensemble/forest.py:732: UserWarning: Some inputs do not have OOB scores. This probably means too few trees were used to compute any reliable oob estimates.\n",
      "  warn(\"Some inputs do not have OOB scores. \"\n"
     ]
    },
    {
     "name": "stdout",
     "output_type": "stream",
     "text": [
      "{'r2_oob': 0.1686974258099353,\n",
      " 'r2_train': 0.8804045738778736,\n",
      " 'r2_valid': 0.2449195532676807,\n",
      " 'rmse_train': 0.690962755025633,\n",
      " 'rmse_valid': 2.01293093922232}\n"
     ]
    }
   ],
   "source": [
    "base_model()"
   ]
  },
  {
   "cell_type": "markdown",
   "metadata": {},
   "source": [
    "Much better when do this haha"
   ]
  },
  {
   "cell_type": "markdown",
   "metadata": {},
   "source": [
    "# Confidence based on tree variance"
   ]
  },
  {
   "cell_type": "code",
   "execution_count": 213,
   "metadata": {
    "ExecuteTime": {
     "end_time": "2018-10-04T09:07:38.955797Z",
     "start_time": "2018-10-04T09:07:36.634218Z"
    }
   },
   "outputs": [
    {
     "name": "stderr",
     "output_type": "stream",
     "text": [
      "/Users/macbook/miniconda3/envs/dev/lib/python3.6/site-packages/sklearn/ensemble/forest.py:732: UserWarning: Some inputs do not have OOB scores. This probably means too few trees were used to compute any reliable oob estimates.\n",
      "  warn(\"Some inputs do not have OOB scores. \"\n"
     ]
    },
    {
     "name": "stdout",
     "output_type": "stream",
     "text": [
      "{'r2_oob': 0.13838250722902623,\n",
      " 'r2_train': 0.8747750315827627,\n",
      " 'r2_valid': 0.2095851047911721,\n",
      " 'rmse_train': 0.707038101962937,\n",
      " 'rmse_valid': 2.059490632840232}\n"
     ]
    }
   ],
   "source": [
    "base_model()"
   ]
  },
  {
   "cell_type": "markdown",
   "metadata": {},
   "source": [
    "We saw how the model averages predictions across the trees to get an estimate - but how can we know the confidence of the estimate? One simple way is to use the standard deviation of predictions, instead of just the mean. This tells us the relative confidence of predictions - that is, for rows where the trees give very different results, you would want to be more cautious of using those results, compared to cases where they are more consistent. Using the same example as in the last lesson when we looked at bagging:"
   ]
  },
  {
   "cell_type": "code",
   "execution_count": 214,
   "metadata": {
    "ExecuteTime": {
     "end_time": "2018-10-04T09:07:39.647649Z",
     "start_time": "2018-10-04T09:07:39.478528Z"
    }
   },
   "outputs": [
    {
     "name": "stdout",
     "output_type": "stream",
     "text": [
      "CPU times: user 38.7 ms, sys: 52.1 ms, total: 90.8 ms\n",
      "Wall time: 148 ms\n"
     ]
    },
    {
     "data": {
      "text/plain": [
       "(0.89056615537573, 3.8818878738203493)"
      ]
     },
     "execution_count": 214,
     "metadata": {},
     "output_type": "execute_result"
    }
   ],
   "source": [
    "def get_preds(t): return t.predict(X_valid)\n",
    "%time preds = np.stack(parallel_trees(m, get_preds))\n",
    "np.mean(preds[:,0]), np.std(preds[:,0])"
   ]
  },
  {
   "cell_type": "markdown",
   "metadata": {},
   "source": [
    "The results is just terible"
   ]
  },
  {
   "cell_type": "code",
   "execution_count": 215,
   "metadata": {
    "ExecuteTime": {
     "end_time": "2018-10-04T09:07:41.108604Z",
     "start_time": "2018-10-04T09:07:40.762916Z"
    }
   },
   "outputs": [
    {
     "data": {
      "image/png": "[encoded data removed]",
      "text/plain": [
       "<Figure size 1080x432 with 1 Axes>"
      ]
     },
     "metadata": {
      "needs_background": "light"
     },
     "output_type": "display_data"
    }
   ],
   "source": [
    "x = raw_valid.copy()\n",
    "x['pred_std'] = np.std(preds, axis=0)\n",
    "x['pred'] = np.mean(preds, axis=0)\n",
    "x.totals_hits.value_counts()[:20].plot.barh();"
   ]
  },
  {
   "cell_type": "code",
   "execution_count": 216,
   "metadata": {
    "ExecuteTime": {
     "end_time": "2018-10-04T09:07:42.556404Z",
     "start_time": "2018-10-04T09:07:42.183067Z"
    }
   },
   "outputs": [
    {
     "data": {
      "image/png": "[encoded data removed]",
      "text/plain": [
       "<Figure size 1080x432 with 1 Axes>"
      ]
     },
     "metadata": {
      "needs_background": "light"
     },
     "output_type": "display_data"
    }
   ],
   "source": [
    "x = raw_valid.copy()\n",
    "x['pred_std'] = np.std(preds, axis=0)\n",
    "x['pred'] = np.mean(preds, axis=0)\n",
    "x.geoNetwork_networkDomain.value_counts()[:20].plot.barh();"
   ]
  },
  {
   "cell_type": "markdown",
   "metadata": {},
   "source": [
    "# Feature Important"
   ]
  },
  {
   "cell_type": "code",
   "execution_count": 85,
   "metadata": {
    "ExecuteTime": {
     "end_time": "2018-10-04T13:55:28.292276Z",
     "start_time": "2018-10-04T13:55:24.456560Z"
    }
   },
   "outputs": [
    {
     "name": "stdout",
     "output_type": "stream",
     "text": [
      "{'r2_oob': 0.17406764389419582,\n",
      " 'r2_train': 0.8824749963432134,\n",
      " 'r2_valid': 0.23820778425879696,\n",
      " 'rmse_train': 0.6849557087347439,\n",
      " 'rmse_valid': 2.021857430138216}\n"
     ]
    }
   ],
   "source": [
    "split_data()\n",
    "base_model()"
   ]
  },
  {
   "cell_type": "code",
   "execution_count": 86,
   "metadata": {
    "ExecuteTime": {
     "end_time": "2018-10-04T13:55:28.413177Z",
     "start_time": "2018-10-04T13:55:28.295543Z"
    },
    "scrolled": true
   },
   "outputs": [
    {
     "data": {
      "text/html": [
       "<div>\n",
       "<style scoped>\n",
       "    .dataframe tbody tr th:only-of-type {\n",
       "        vertical-align: middle;\n",
       "    }\n",
       "\n",
       "    .dataframe tbody tr th {\n",
       "        vertical-align: top;\n",
       "    }\n",
       "\n",
       "    .dataframe thead th {\n",
       "        text-align: right;\n",
       "    }\n",
       "</style>\n",
       "<table border=\"1\" class=\"dataframe\">\n",
       "  <thead>\n",
       "    <tr style=\"text-align: right;\">\n",
       "      <th></th>\n",
       "      <th>cols</th>\n",
       "      <th>imp</th>\n",
       "    </tr>\n",
       "  </thead>\n",
       "  <tbody>\n",
       "    <tr>\n",
       "      <th>50</th>\n",
       "      <td>totals_pageviews</td>\n",
       "      <td>0.245791</td>\n",
       "    </tr>\n",
       "    <tr>\n",
       "      <th>48</th>\n",
       "      <td>totals_hits</td>\n",
       "      <td>0.066034</td>\n",
       "    </tr>\n",
       "    <tr>\n",
       "      <th>6</th>\n",
       "      <td>visitStartTime</td>\n",
       "      <td>0.060605</td>\n",
       "    </tr>\n",
       "    <tr>\n",
       "      <th>2</th>\n",
       "      <td>sessionId</td>\n",
       "      <td>0.060212</td>\n",
       "    </tr>\n",
       "    <tr>\n",
       "      <th>39</th>\n",
       "      <td>geoNetwork_country</td>\n",
       "      <td>0.056124</td>\n",
       "    </tr>\n",
       "    <tr>\n",
       "      <th>1</th>\n",
       "      <td>fullVisitorId</td>\n",
       "      <td>0.055513</td>\n",
       "    </tr>\n",
       "    <tr>\n",
       "      <th>4</th>\n",
       "      <td>visitId</td>\n",
       "      <td>0.053637</td>\n",
       "    </tr>\n",
       "    <tr>\n",
       "      <th>43</th>\n",
       "      <td>geoNetwork_networkDomain</td>\n",
       "      <td>0.038531</td>\n",
       "    </tr>\n",
       "    <tr>\n",
       "      <th>5</th>\n",
       "      <td>visitNumber</td>\n",
       "      <td>0.035169</td>\n",
       "    </tr>\n",
       "    <tr>\n",
       "      <th>36</th>\n",
       "      <td>geoNetwork_city</td>\n",
       "      <td>0.029837</td>\n",
       "    </tr>\n",
       "  </tbody>\n",
       "</table>\n",
       "</div>"
      ],
      "text/plain": [
       "                        cols       imp\n",
       "50          totals_pageviews  0.245791\n",
       "48               totals_hits  0.066034\n",
       "6             visitStartTime  0.060605\n",
       "2                  sessionId  0.060212\n",
       "39        geoNetwork_country  0.056124\n",
       "1              fullVisitorId  0.055513\n",
       "4                    visitId  0.053637\n",
       "43  geoNetwork_networkDomain  0.038531\n",
       "5                visitNumber  0.035169\n",
       "36           geoNetwork_city  0.029837"
      ]
     },
     "execution_count": 86,
     "metadata": {},
     "output_type": "execute_result"
    }
   ],
   "source": [
    "fi = rf_feat_importance(m, df_trn); fi[:10]"
   ]
  },
  {
   "cell_type": "code",
   "execution_count": 87,
   "metadata": {
    "ExecuteTime": {
     "end_time": "2018-10-04T13:55:28.963860Z",
     "start_time": "2018-10-04T13:55:28.415748Z"
    },
    "scrolled": false
   },
   "outputs": [
    {
     "data": {
      "text/plain": [
       "<matplotlib.axes._subplots.AxesSubplot at 0x12d07c5f8>"
      ]
     },
     "execution_count": 87,
     "metadata": {},
     "output_type": "execute_result"
    },
    {
     "data": {
      "image/png": "[encoded data removed]",
      "text/plain": [
       "<Figure size 864x720 with 1 Axes>"
      ]
     },
     "metadata": {
      "needs_background": "light"
     },
     "output_type": "display_data"
    }
   ],
   "source": [
    "fi[:30].plot(x='cols',y='imp',kind='barh',figsize=(12,10))"
   ]
  },
  {
   "cell_type": "markdown",
   "metadata": {},
   "source": [
    "Try delete some columns"
   ]
  },
  {
   "cell_type": "code",
   "execution_count": 90,
   "metadata": {
    "ExecuteTime": {
     "end_time": "2018-10-04T13:55:35.720263Z",
     "start_time": "2018-10-04T13:55:35.702448Z"
    }
   },
   "outputs": [],
   "source": [
    "to_keep = fi[fi.imp>0.005].cols\n",
    "df_keep = df_trn[to_keep].copy()\n",
    "X_train, X_valid = split_vals(df_keep, n_trn)"
   ]
  },
  {
   "cell_type": "code",
   "execution_count": 91,
   "metadata": {
    "ExecuteTime": {
     "end_time": "2018-10-04T13:55:40.119147Z",
     "start_time": "2018-10-04T13:55:37.775904Z"
    }
   },
   "outputs": [
    {
     "name": "stdout",
     "output_type": "stream",
     "text": [
      "{'r2_oob': 0.1801558702761199,\n",
      " 'r2_train': 0.8822667436115106,\n",
      " 'r2_valid': 0.2524974683078557,\n",
      " 'rmse_train': 0.6855623063018954,\n",
      " 'rmse_valid': 2.002804677556383}\n"
     ]
    }
   ],
   "source": [
    "base_model()"
   ]
  },
  {
   "cell_type": "code",
   "execution_count": 79,
   "metadata": {
    "ExecuteTime": {
     "end_time": "2018-11-02T06:14:50.845597Z",
     "start_time": "2018-11-02T06:14:50.834729Z"
    }
   },
   "outputs": [
    {
     "ename": "NameError",
     "evalue": "name 'clf' is not defined",
     "output_type": "error",
     "traceback": [
      "\u001b[0;31m---------------------------------------------------------------------------\u001b[0m",
      "\u001b[0;31mNameError\u001b[0m                                 Traceback (most recent call last)",
      "\u001b[0;32m<ipython-input-79-b9c89d294f77>\u001b[0m in \u001b[0;36m<module>\u001b[0;34m\u001b[0m\n\u001b[0;32m----> 1\u001b[0;31m \u001b[0mclf\u001b[0m\u001b[0;34m\u001b[0m\u001b[0m\n\u001b[0m",
      "\u001b[0;31mNameError\u001b[0m: name 'clf' is not defined"
     ]
    }
   ],
   "source": [
    "clf"
   ]
  },
  {
   "cell_type": "markdown",
   "metadata": {},
   "source": [
    "So It's worth to removing"
   ]
  },
  {
   "cell_type": "markdown",
   "metadata": {
    "heading_collapsed": true
   },
   "source": [
    "## One-hot encoding"
   ]
  },
  {
   "cell_type": "code",
   "execution_count": 228,
   "metadata": {
    "ExecuteTime": {
     "end_time": "2018-10-04T09:09:46.973150Z",
     "start_time": "2018-10-04T09:09:41.914078Z"
    },
    "hidden": true
   },
   "outputs": [
    {
     "name": "stderr",
     "output_type": "stream",
     "text": [
      "/Users/macbook/miniconda3/envs/dev/lib/python3.6/site-packages/sklearn/ensemble/forest.py:732: UserWarning: Some inputs do not have OOB scores. This probably means too few trees were used to compute any reliable oob estimates.\n",
      "  warn(\"Some inputs do not have OOB scores. \"\n"
     ]
    },
    {
     "name": "stdout",
     "output_type": "stream",
     "text": [
      "{'r2_oob': 0.14143400023163688,\n",
      " 'r2_train': 0.8774446657121954,\n",
      " 'r2_valid': 0.183925242213556,\n",
      " 'rmse_train': 0.6994609322713263,\n",
      " 'rmse_valid': 2.0926530727684094}\n"
     ]
    }
   ],
   "source": [
    "df_trn2, y_trn, nas = proc_df(df_raw, 'Revenue', max_n_cat=7)\n",
    "X_train, X_valid = split_vals(df_trn2, n_trn)\n",
    "\n",
    "base_model()"
   ]
  },
  {
   "cell_type": "markdown",
   "metadata": {
    "hidden": true
   },
   "source": [
    "Worse than feature important"
   ]
  },
  {
   "cell_type": "code",
   "execution_count": 229,
   "metadata": {
    "ExecuteTime": {
     "end_time": "2018-10-04T09:10:05.683279Z",
     "start_time": "2018-10-04T09:10:05.052472Z"
    },
    "hidden": true
   },
   "outputs": [
    {
     "data": {
      "text/plain": [
       "<matplotlib.axes._subplots.AxesSubplot at 0x13a0fc358>"
      ]
     },
     "execution_count": 229,
     "metadata": {},
     "output_type": "execute_result"
    },
    {
     "data": {
      "image/png": "[encoded data removed]",
      "text/plain": [
       "<Figure size 864x720 with 1 Axes>"
      ]
     },
     "metadata": {
      "needs_background": "light"
     },
     "output_type": "display_data"
    }
   ],
   "source": [
    "fi = rf_feat_importance(m, df_trn2)\n",
    "fi[:30].plot(x='cols',y='imp',kind='barh',figsize=(12,10))"
   ]
  },
  {
   "cell_type": "code",
   "execution_count": 230,
   "metadata": {
    "ExecuteTime": {
     "end_time": "2018-10-04T09:10:07.274695Z",
     "start_time": "2018-10-04T09:10:07.236976Z"
    },
    "hidden": true
   },
   "outputs": [],
   "source": [
    "to_keep = fi[fi.imp>0.005].cols; len(to_keep),len(fi.cols)\n",
    "df_keep = df_trn2[to_keep].copy()\n",
    "X_train, X_valid = split_vals(df_keep, n_trn)"
   ]
  },
  {
   "cell_type": "code",
   "execution_count": 231,
   "metadata": {
    "ExecuteTime": {
     "end_time": "2018-10-04T09:10:15.444046Z",
     "start_time": "2018-10-04T09:10:12.987652Z"
    },
    "hidden": true
   },
   "outputs": [
    {
     "name": "stderr",
     "output_type": "stream",
     "text": [
      "/Users/macbook/miniconda3/envs/dev/lib/python3.6/site-packages/sklearn/ensemble/forest.py:732: UserWarning: Some inputs do not have OOB scores. This probably means too few trees were used to compute any reliable oob estimates.\n",
      "  warn(\"Some inputs do not have OOB scores. \"\n"
     ]
    },
    {
     "name": "stdout",
     "output_type": "stream",
     "text": [
      "{'r2_oob': 0.1460282896213667,\n",
      " 'r2_train': 0.8762962325134988,\n",
      " 'r2_valid': 0.18323428457197233,\n",
      " 'rmse_train': 0.7027305210090594,\n",
      " 'rmse_valid': 2.0935387935219323}\n"
     ]
    }
   ],
   "source": [
    "base_model()"
   ]
  },
  {
   "cell_type": "markdown",
   "metadata": {
    "hidden": true
   },
   "source": [
    "Totally worse, not use"
   ]
  },
  {
   "cell_type": "markdown",
   "metadata": {},
   "source": [
    "# Removing redundant features"
   ]
  },
  {
   "cell_type": "code",
   "execution_count": 45,
   "metadata": {
    "ExecuteTime": {
     "end_time": "2018-10-04T13:47:23.699894Z",
     "start_time": "2018-10-04T13:47:23.695935Z"
    }
   },
   "outputs": [],
   "source": [
    "from scipy.cluster import hierarchy as hc"
   ]
  },
  {
   "cell_type": "code",
   "execution_count": 46,
   "metadata": {
    "ExecuteTime": {
     "end_time": "2018-10-04T13:47:26.217081Z",
     "start_time": "2018-10-04T13:47:24.301924Z"
    }
   },
   "outputs": [
    {
     "data": {
      "image/png": "[encoded data removed]",
      "text/plain": [
       "<Figure size 1152x720 with 1 Axes>"
      ]
     },
     "metadata": {
      "needs_background": "light"
     },
     "output_type": "display_data"
    }
   ],
   "source": [
    "corr = np.round(scipy.stats.spearmanr(df_keep).correlation, 4)\n",
    "corr_condensed = hc.distance.squareform(1-corr)\n",
    "z = hc.linkage(corr_condensed, method='average')\n",
    "fig = plt.figure(figsize=(16,10))\n",
    "dendrogram = hc.dendrogram(z, labels=df_keep.columns, orientation='left', leaf_font_size=16)\n",
    "plt.show()"
   ]
  },
  {
   "cell_type": "code",
   "execution_count": 48,
   "metadata": {
    "ExecuteTime": {
     "end_time": "2018-10-04T13:47:51.234524Z",
     "start_time": "2018-10-04T13:47:51.228699Z"
    }
   },
   "outputs": [],
   "source": [
    "def get_oob(df):\n",
    "    X_train, _ = split_vals(df, n_trn)\n",
    "    base_model()\n",
    "    "
   ]
  },
  {
   "cell_type": "code",
   "execution_count": 49,
   "metadata": {
    "ExecuteTime": {
     "end_time": "2018-10-04T13:47:54.600138Z",
     "start_time": "2018-10-04T13:47:51.915025Z"
    }
   },
   "outputs": [
    {
     "name": "stderr",
     "output_type": "stream",
     "text": [
      "/Users/macbook/miniconda3/envs/dev/lib/python3.6/site-packages/sklearn/ensemble/forest.py:732: UserWarning: Some inputs do not have OOB scores. This probably means too few trees were used to compute any reliable oob estimates.\n",
      "  warn(\"Some inputs do not have OOB scores. \"\n"
     ]
    },
    {
     "name": "stdout",
     "output_type": "stream",
     "text": [
      "{'r2_oob': 0.17242980721372558,\n",
      " 'r2_train': 0.880205127054056,\n",
      " 'r2_valid': 0.24023042085932012,\n",
      " 'rmse_train': 0.6915386671793516,\n",
      " 'rmse_valid': 2.0191715265128036}\n"
     ]
    }
   ],
   "source": [
    "get_oob(df_keep)"
   ]
  },
  {
   "cell_type": "code",
   "execution_count": 92,
   "metadata": {
    "ExecuteTime": {
     "end_time": "2018-10-04T13:56:05.198635Z",
     "start_time": "2018-10-04T13:55:48.665132Z"
    },
    "scrolled": false
   },
   "outputs": [
    {
     "name": "stdout",
     "output_type": "stream",
     "text": [
      "Week\n",
      "{'r2_oob': 0.14760207092311417,\n",
      " 'r2_train': 0.8767753215319893,\n",
      " 'r2_valid': 0.22196397493855224,\n",
      " 'rmse_train': 0.7013684077699138,\n",
      " 'rmse_valid': 2.0432999118997337}\n",
      "--------------------\n",
      "Dayofyear\n",
      "{'r2_oob': 0.1649493589638963,\n",
      " 'r2_train': 0.8771602426195634,\n",
      " 'r2_valid': 0.2584230632463349,\n",
      " 'rmse_train': 0.70027210687725,\n",
      " 'rmse_valid': 1.9948505757048036}\n",
      "--------------------\n",
      "sessionId\n",
      "{'r2_oob': 0.17540360703462865,\n",
      " 'r2_train': 0.8823289058723516,\n",
      " 'r2_valid': 0.24144149902490877,\n",
      " 'rmse_train': 0.6853812965730205,\n",
      " 'rmse_valid': 2.017561597740256}\n",
      "--------------------\n",
      "fullVisitorId\n",
      "{'r2_oob': 0.17524918344309381,\n",
      " 'r2_train': 0.8812155600050273,\n",
      " 'r2_valid': 0.2538454195224047,\n",
      " 'rmse_train': 0.6886160331440849,\n",
      " 'rmse_valid': 2.0009980608239077}\n",
      "--------------------\n",
      "visitId\n",
      "{'r2_oob': 0.16953853060879986,\n",
      " 'r2_train': 0.8811752380897938,\n",
      " 'r2_valid': 0.25798427957433134,\n",
      " 'rmse_train': 0.6887329001401638,\n",
      " 'rmse_valid': 1.9954406550194985}\n",
      "--------------------\n",
      "visitStartTime\n",
      "{'r2_oob': 0.16689742604569158,\n",
      " 'r2_train': 0.8818152269472725,\n",
      " 'r2_valid': 0.24984721423599,\n",
      " 'rmse_train': 0.6868756420678092,\n",
      " 'rmse_valid': 2.006351986462504}\n",
      "--------------------\n",
      "Elapsed\n",
      "{'r2_oob': 0.1627094879148504,\n",
      " 'r2_train': 0.881112986260835,\n",
      " 'r2_valid': 0.2366179935472167,\n",
      " 'rmse_train': 0.6889132887560687,\n",
      " 'rmse_valid': 2.0239660463989804}\n",
      "--------------------\n"
     ]
    }
   ],
   "source": [
    "to_drop = ['Week','Dayofyear','sessionId','fullVisitorId','visitId','visitStartTime','Elapsed']\n",
    "\n",
    "for c in to_drop:\n",
    "    print(c)\n",
    "    c, get_oob(df_keep.drop(c, axis=1))\n",
    "    print('-'*20)"
   ]
  },
  {
   "cell_type": "markdown",
   "metadata": {},
   "source": [
    "Reset to full data"
   ]
  },
  {
   "cell_type": "code",
   "execution_count": 100,
   "metadata": {
    "ExecuteTime": {
     "end_time": "2018-10-04T13:57:00.456604Z",
     "start_time": "2018-10-04T13:56:58.116228Z"
    },
    "scrolled": true
   },
   "outputs": [
    {
     "name": "stdout",
     "output_type": "stream",
     "text": [
      "{'r2_oob': 0.16616145285781336,\n",
      " 'r2_train': 0.8807271939749435,\n",
      " 'r2_valid': 0.2321506555192252,\n",
      " 'rmse_train': 0.6900301566085407,\n",
      " 'rmse_valid': 2.0298795673033494}\n"
     ]
    }
   ],
   "source": [
    "to_drop = ['sessionId']\n",
    "get_oob(df_keep.drop(to_drop, axis=1))"
   ]
  },
  {
   "cell_type": "code",
   "execution_count": 101,
   "metadata": {
    "ExecuteTime": {
     "end_time": "2018-10-04T13:57:18.807794Z",
     "start_time": "2018-10-04T13:57:18.803586Z"
    }
   },
   "outputs": [],
   "source": [
    "np.save('../data/keep_cols.npy', np.array(df_keep.columns))"
   ]
  },
  {
   "cell_type": "code",
   "execution_count": 102,
   "metadata": {
    "ExecuteTime": {
     "end_time": "2018-10-04T13:57:19.476881Z",
     "start_time": "2018-10-04T13:57:19.466772Z"
    }
   },
   "outputs": [],
   "source": [
    "keep_cols = np.load('../data/keep_cols.npy')\n",
    "df_trn = df_trn[keep_cols]"
   ]
  },
  {
   "cell_type": "markdown",
   "metadata": {},
   "source": [
    "# Tree interpreter"
   ]
  },
  {
   "cell_type": "code",
   "execution_count": 148,
   "metadata": {
    "ExecuteTime": {
     "end_time": "2018-10-04T14:09:56.656368Z",
     "start_time": "2018-10-04T14:09:56.648670Z"
    }
   },
   "outputs": [],
   "source": [
    "from treeinterpreter import treeinterpreter as ti"
   ]
  },
  {
   "cell_type": "code",
   "execution_count": 153,
   "metadata": {
    "ExecuteTime": {
     "end_time": "2018-10-04T14:10:48.839591Z",
     "start_time": "2018-10-04T14:10:48.661813Z"
    }
   },
   "outputs": [],
   "source": [
    "split_data(to_keep=to_keep)"
   ]
  },
  {
   "cell_type": "code",
   "execution_count": 154,
   "metadata": {
    "ExecuteTime": {
     "end_time": "2018-10-04T14:10:52.951974Z",
     "start_time": "2018-10-04T14:10:52.944783Z"
    }
   },
   "outputs": [
    {
     "data": {
      "text/plain": [
       "array([[        10,         13, 1481325313,      63793,        176,      56931, 1481325313,          1,\n",
       "                 1,        168,          9,         37,          1,          7,          4,         47,\n",
       "               143,        344,         49,          0,          0,          6, 1481241600,         12,\n",
       "                 7,          7,         52]])"
      ]
     },
     "execution_count": 154,
     "metadata": {},
     "output_type": "execute_result"
    }
   ],
   "source": [
    "row = X_valid.values[None,0]; row"
   ]
  },
  {
   "cell_type": "code",
   "execution_count": 155,
   "metadata": {
    "ExecuteTime": {
     "end_time": "2018-10-04T14:10:55.940061Z",
     "start_time": "2018-10-04T14:10:55.824662Z"
    }
   },
   "outputs": [],
   "source": [
    "prediction, bias, contributions = ti.predict(m, row)"
   ]
  },
  {
   "cell_type": "code",
   "execution_count": 156,
   "metadata": {
    "ExecuteTime": {
     "end_time": "2018-10-04T14:10:58.770553Z",
     "start_time": "2018-10-04T14:10:58.765303Z"
    }
   },
   "outputs": [
    {
     "data": {
      "text/plain": [
       "(0.0, 0.2241080349644918)"
      ]
     },
     "execution_count": 156,
     "metadata": {},
     "output_type": "execute_result"
    }
   ],
   "source": [
    "prediction[0], bias[0]"
   ]
  },
  {
   "cell_type": "code",
   "execution_count": 157,
   "metadata": {
    "ExecuteTime": {
     "end_time": "2018-10-04T14:11:04.168286Z",
     "start_time": "2018-10-04T14:11:04.164949Z"
    }
   },
   "outputs": [],
   "source": [
    "idxs = np.argsort(contributions[0])"
   ]
  },
  {
   "cell_type": "code",
   "execution_count": 169,
   "metadata": {
    "ExecuteTime": {
     "end_time": "2018-10-04T14:13:51.038586Z",
     "start_time": "2018-10-04T14:13:51.030469Z"
    },
    "scrolled": false
   },
   "outputs": [
    {
     "data": {
      "text/plain": [
       "[('visitNumber', 1, -0.1188410061415625),\n",
       " ('totals_newVisits', 1, -0.10272838755647958),\n",
       " ('geoNetwork_metro', 47, -0.040505980738313165),\n",
       " ('geoNetwork_city', 168, -0.024224704790433114),\n",
       " ('trafficSource_isTrueDirect', 0, -0.015451839333515896),\n",
       " ('visitStartTime', 1481325313, -0.013641331298145867),\n",
       " ('geoNetwork_region', 37, -0.01341846831009288),\n",
       " ('Dayofyear', 344, -0.008907937518178576),\n",
       " ('trafficSource_referralPath', 52, -0.008766472141050929),\n",
       " ('Day', 9, -0.008041369396346896),\n",
       " ('Dayofweek', 4, -0.008041005648257315),\n",
       " ('sessionId', 63793, -0.0025880439489683457),\n",
       " ('device_operatingSystem', 7, -0.002428901903688081),\n",
       " ('visitId', 1481325313, -0.0022529620116577428),\n",
       " ('Month', 12, -0.0016157311467578106),\n",
       " ('fullVisitorId', 56931, -0.0013448750094311901),\n",
       " ('device_browser', 6, -0.0008611380264629917),\n",
       " ('channelGrouping', 7, 0.0),\n",
       " ('trafficSource_source', 143, 0.0),\n",
       " ('totals_hits', 13, 0.0),\n",
       " ('trafficSource_keyword', 0, 0.0),\n",
       " ('Elapsed', 1481241600, 0.0),\n",
       " ('trafficSource_medium', 7, 0.0),\n",
       " ('geoNetwork_networkDomain', 1, 0.0),\n",
       " ('Week', 49, 0.0009498888030753385),\n",
       " ('geoNetwork_country', 176, 0.013326328044213737),\n",
       " ('totals_pageviews', 10, 0.135275903107562)]"
      ]
     },
     "execution_count": 169,
     "metadata": {},
     "output_type": "execute_result"
    }
   ],
   "source": [
    "[o for o in zip(X_valid.columns[idxs], X_valid.iloc[0][idxs], contributions[0][idxs])]"
   ]
  },
  {
   "cell_type": "code",
   "execution_count": 176,
   "metadata": {
    "ExecuteTime": {
     "end_time": "2018-10-04T14:14:26.121856Z",
     "start_time": "2018-10-04T14:14:26.116853Z"
    }
   },
   "outputs": [
    {
     "data": {
      "text/plain": [
       "-0.22410803496449178"
      ]
     },
     "execution_count": 176,
     "metadata": {},
     "output_type": "execute_result"
    }
   ],
   "source": [
    "contributions[0].sum()"
   ]
  },
  {
   "cell_type": "markdown",
   "metadata": {},
   "source": [
    "# Extrapolation"
   ]
  },
  {
   "cell_type": "code",
   "execution_count": 199,
   "metadata": {
    "ExecuteTime": {
     "end_time": "2018-10-04T14:19:00.803998Z",
     "start_time": "2018-10-04T14:19:00.614126Z"
    }
   },
   "outputs": [],
   "source": [
    "df_ext = df_keep.copy()\n",
    "df_ext['is_valid'] = 1\n",
    "df_ext.is_valid[:n_trn] = 0\n",
    "x, y, nas = proc_df(df_ext, 'is_valid')"
   ]
  },
  {
   "cell_type": "code",
   "execution_count": 200,
   "metadata": {
    "ExecuteTime": {
     "end_time": "2018-10-04T14:19:02.869095Z",
     "start_time": "2018-10-04T14:19:00.848469Z"
    }
   },
   "outputs": [
    {
     "data": {
      "text/plain": [
       "0.9995961214058343"
      ]
     },
     "execution_count": 200,
     "metadata": {},
     "output_type": "execute_result"
    }
   ],
   "source": [
    "m = RFF(n_estimators=40, min_samples_leaf=3, max_features=0.5, n_jobs=-1, oob_score=True)\n",
    "m.fit(x, y);\n",
    "m.oob_score_"
   ]
  },
  {
   "cell_type": "code",
   "execution_count": 201,
   "metadata": {
    "ExecuteTime": {
     "end_time": "2018-10-04T14:19:02.988795Z",
     "start_time": "2018-10-04T14:19:02.871230Z"
    }
   },
   "outputs": [
    {
     "data": {
      "text/html": [
       "<div>\n",
       "<style scoped>\n",
       "    .dataframe tbody tr th:only-of-type {\n",
       "        vertical-align: middle;\n",
       "    }\n",
       "\n",
       "    .dataframe tbody tr th {\n",
       "        vertical-align: top;\n",
       "    }\n",
       "\n",
       "    .dataframe thead th {\n",
       "        text-align: right;\n",
       "    }\n",
       "</style>\n",
       "<table border=\"1\" class=\"dataframe\">\n",
       "  <thead>\n",
       "    <tr style=\"text-align: right;\">\n",
       "      <th></th>\n",
       "      <th>cols</th>\n",
       "      <th>imp</th>\n",
       "    </tr>\n",
       "  </thead>\n",
       "  <tbody>\n",
       "    <tr>\n",
       "      <th>10</th>\n",
       "      <td>Day</td>\n",
       "      <td>0.297363</td>\n",
       "    </tr>\n",
       "    <tr>\n",
       "      <th>17</th>\n",
       "      <td>Dayofyear</td>\n",
       "      <td>0.150790</td>\n",
       "    </tr>\n",
       "    <tr>\n",
       "      <th>6</th>\n",
       "      <td>visitId</td>\n",
       "      <td>0.134787</td>\n",
       "    </tr>\n",
       "    <tr>\n",
       "      <th>18</th>\n",
       "      <td>Week</td>\n",
       "      <td>0.130045</td>\n",
       "    </tr>\n",
       "    <tr>\n",
       "      <th>22</th>\n",
       "      <td>Elapsed</td>\n",
       "      <td>0.090825</td>\n",
       "    </tr>\n",
       "    <tr>\n",
       "      <th>2</th>\n",
       "      <td>visitStartTime</td>\n",
       "      <td>0.085950</td>\n",
       "    </tr>\n",
       "    <tr>\n",
       "      <th>14</th>\n",
       "      <td>Dayofweek</td>\n",
       "      <td>0.077444</td>\n",
       "    </tr>\n",
       "    <tr>\n",
       "      <th>23</th>\n",
       "      <td>Month</td>\n",
       "      <td>0.017291</td>\n",
       "    </tr>\n",
       "    <tr>\n",
       "      <th>1</th>\n",
       "      <td>totals_hits</td>\n",
       "      <td>0.004806</td>\n",
       "    </tr>\n",
       "    <tr>\n",
       "      <th>25</th>\n",
       "      <td>channelGrouping</td>\n",
       "      <td>0.004290</td>\n",
       "    </tr>\n",
       "  </tbody>\n",
       "</table>\n",
       "</div>"
      ],
      "text/plain": [
       "               cols       imp\n",
       "10              Day  0.297363\n",
       "17        Dayofyear  0.150790\n",
       "6           visitId  0.134787\n",
       "18             Week  0.130045\n",
       "22          Elapsed  0.090825\n",
       "2    visitStartTime  0.085950\n",
       "14        Dayofweek  0.077444\n",
       "23            Month  0.017291\n",
       "1       totals_hits  0.004806\n",
       "25  channelGrouping  0.004290"
      ]
     },
     "execution_count": 201,
     "metadata": {},
     "output_type": "execute_result"
    }
   ],
   "source": [
    "fi = rf_feat_importance(m, x); fi[:10]"
   ]
  },
  {
   "cell_type": "code",
   "execution_count": 202,
   "metadata": {
    "ExecuteTime": {
     "end_time": "2018-10-04T14:19:02.995873Z",
     "start_time": "2018-10-04T14:19:02.991084Z"
    }
   },
   "outputs": [],
   "source": [
    "feats=['Day','Dayofyear','Week','visitStartTime']"
   ]
  },
  {
   "cell_type": "code",
   "execution_count": 203,
   "metadata": {
    "ExecuteTime": {
     "end_time": "2018-10-04T14:19:03.037141Z",
     "start_time": "2018-10-04T14:19:02.998351Z"
    },
    "scrolled": false
   },
   "outputs": [
    {
     "data": {
      "text/html": [
       "<div>\n",
       "<style scoped>\n",
       "    .dataframe tbody tr th:only-of-type {\n",
       "        vertical-align: middle;\n",
       "    }\n",
       "\n",
       "    .dataframe tbody tr th {\n",
       "        vertical-align: top;\n",
       "    }\n",
       "\n",
       "    .dataframe thead th {\n",
       "        text-align: right;\n",
       "    }\n",
       "</style>\n",
       "<table border=\"1\" class=\"dataframe\">\n",
       "  <thead>\n",
       "    <tr style=\"text-align: right;\">\n",
       "      <th></th>\n",
       "      <th>Day</th>\n",
       "      <th>Dayofyear</th>\n",
       "      <th>Week</th>\n",
       "      <th>visitStartTime</th>\n",
       "    </tr>\n",
       "  </thead>\n",
       "  <tbody>\n",
       "    <tr>\n",
       "      <th>count</th>\n",
       "      <td>70000.000000</td>\n",
       "      <td>70000.000000</td>\n",
       "      <td>70000.000000</td>\n",
       "      <td>7.000000e+04</td>\n",
       "    </tr>\n",
       "    <tr>\n",
       "      <th>mean</th>\n",
       "      <td>0.015741</td>\n",
       "      <td>0.198955</td>\n",
       "      <td>0.028602</td>\n",
       "      <td>1.486267e+06</td>\n",
       "    </tr>\n",
       "    <tr>\n",
       "      <th>std</th>\n",
       "      <td>0.008610</td>\n",
       "      <td>0.105690</td>\n",
       "      <td>0.014961</td>\n",
       "      <td>9.185771e+03</td>\n",
       "    </tr>\n",
       "    <tr>\n",
       "      <th>min</th>\n",
       "      <td>0.001000</td>\n",
       "      <td>0.011000</td>\n",
       "      <td>0.002000</td>\n",
       "      <td>1.470899e+06</td>\n",
       "    </tr>\n",
       "    <tr>\n",
       "      <th>25%</th>\n",
       "      <td>0.011000</td>\n",
       "      <td>0.121000</td>\n",
       "      <td>0.018000</td>\n",
       "      <td>1.478989e+06</td>\n",
       "    </tr>\n",
       "    <tr>\n",
       "      <th>50%</th>\n",
       "      <td>0.014000</td>\n",
       "      <td>0.181000</td>\n",
       "      <td>0.026000</td>\n",
       "      <td>1.484351e+06</td>\n",
       "    </tr>\n",
       "    <tr>\n",
       "      <th>75%</th>\n",
       "      <td>0.023000</td>\n",
       "      <td>0.315000</td>\n",
       "      <td>0.045000</td>\n",
       "      <td>1.495220e+06</td>\n",
       "    </tr>\n",
       "    <tr>\n",
       "      <th>max</th>\n",
       "      <td>0.031000</td>\n",
       "      <td>0.348000</td>\n",
       "      <td>0.050000</td>\n",
       "      <td>1.501657e+06</td>\n",
       "    </tr>\n",
       "  </tbody>\n",
       "</table>\n",
       "</div>"
      ],
      "text/plain": [
       "                Day     Dayofyear          Week  visitStartTime\n",
       "count  70000.000000  70000.000000  70000.000000    7.000000e+04\n",
       "mean       0.015741      0.198955      0.028602    1.486267e+06\n",
       "std        0.008610      0.105690      0.014961    9.185771e+03\n",
       "min        0.001000      0.011000      0.002000    1.470899e+06\n",
       "25%        0.011000      0.121000      0.018000    1.478989e+06\n",
       "50%        0.014000      0.181000      0.026000    1.484351e+06\n",
       "75%        0.023000      0.315000      0.045000    1.495220e+06\n",
       "max        0.031000      0.348000      0.050000    1.501657e+06"
      ]
     },
     "execution_count": 203,
     "metadata": {},
     "output_type": "execute_result"
    }
   ],
   "source": [
    "(X_train[feats]/1000).describe()"
   ]
  },
  {
   "cell_type": "code",
   "execution_count": 204,
   "metadata": {
    "ExecuteTime": {
     "end_time": "2018-10-04T14:19:03.064767Z",
     "start_time": "2018-10-04T14:19:03.038806Z"
    }
   },
   "outputs": [
    {
     "data": {
      "text/html": [
       "<div>\n",
       "<style scoped>\n",
       "    .dataframe tbody tr th:only-of-type {\n",
       "        vertical-align: middle;\n",
       "    }\n",
       "\n",
       "    .dataframe tbody tr th {\n",
       "        vertical-align: top;\n",
       "    }\n",
       "\n",
       "    .dataframe thead th {\n",
       "        text-align: right;\n",
       "    }\n",
       "</style>\n",
       "<table border=\"1\" class=\"dataframe\">\n",
       "  <thead>\n",
       "    <tr style=\"text-align: right;\">\n",
       "      <th></th>\n",
       "      <th>Day</th>\n",
       "      <th>Dayofyear</th>\n",
       "      <th>Week</th>\n",
       "      <th>visitStartTime</th>\n",
       "    </tr>\n",
       "  </thead>\n",
       "  <tbody>\n",
       "    <tr>\n",
       "      <th>count</th>\n",
       "      <td>30000.000000</td>\n",
       "      <td>30000.000000</td>\n",
       "      <td>30000.000000</td>\n",
       "      <td>3.000000e+04</td>\n",
       "    </tr>\n",
       "    <tr>\n",
       "      <th>mean</th>\n",
       "      <td>0.020471</td>\n",
       "      <td>0.253554</td>\n",
       "      <td>0.036297</td>\n",
       "      <td>1.481076e+06</td>\n",
       "    </tr>\n",
       "    <tr>\n",
       "      <th>std</th>\n",
       "      <td>0.007767</td>\n",
       "      <td>0.091851</td>\n",
       "      <td>0.013106</td>\n",
       "      <td>8.022509e+03</td>\n",
       "    </tr>\n",
       "    <tr>\n",
       "      <th>min</th>\n",
       "      <td>0.003000</td>\n",
       "      <td>0.062000</td>\n",
       "      <td>0.009000</td>\n",
       "      <td>1.471331e+06</td>\n",
       "    </tr>\n",
       "    <tr>\n",
       "      <th>25%</th>\n",
       "      <td>0.016000</td>\n",
       "      <td>0.229000</td>\n",
       "      <td>0.033000</td>\n",
       "      <td>1.474116e+06</td>\n",
       "    </tr>\n",
       "    <tr>\n",
       "      <th>50%</th>\n",
       "      <td>0.018000</td>\n",
       "      <td>0.261000</td>\n",
       "      <td>0.037000</td>\n",
       "      <td>1.480499e+06</td>\n",
       "    </tr>\n",
       "    <tr>\n",
       "      <th>75%</th>\n",
       "      <td>0.029000</td>\n",
       "      <td>0.335000</td>\n",
       "      <td>0.048000</td>\n",
       "      <td>1.481952e+06</td>\n",
       "    </tr>\n",
       "    <tr>\n",
       "      <th>max</th>\n",
       "      <td>0.030000</td>\n",
       "      <td>0.351000</td>\n",
       "      <td>0.050000</td>\n",
       "      <td>1.497769e+06</td>\n",
       "    </tr>\n",
       "  </tbody>\n",
       "</table>\n",
       "</div>"
      ],
      "text/plain": [
       "                Day     Dayofyear          Week  visitStartTime\n",
       "count  30000.000000  30000.000000  30000.000000    3.000000e+04\n",
       "mean       0.020471      0.253554      0.036297    1.481076e+06\n",
       "std        0.007767      0.091851      0.013106    8.022509e+03\n",
       "min        0.003000      0.062000      0.009000    1.471331e+06\n",
       "25%        0.016000      0.229000      0.033000    1.474116e+06\n",
       "50%        0.018000      0.261000      0.037000    1.480499e+06\n",
       "75%        0.029000      0.335000      0.048000    1.481952e+06\n",
       "max        0.030000      0.351000      0.050000    1.497769e+06"
      ]
     },
     "execution_count": 204,
     "metadata": {},
     "output_type": "execute_result"
    }
   ],
   "source": [
    "(X_valid[feats]/1000).describe()"
   ]
  },
  {
   "cell_type": "code",
   "execution_count": 205,
   "metadata": {
    "ExecuteTime": {
     "end_time": "2018-10-04T14:19:04.381294Z",
     "start_time": "2018-10-04T14:19:04.371233Z"
    }
   },
   "outputs": [],
   "source": [
    "x.drop(feats, axis=1, inplace=True)"
   ]
  },
  {
   "cell_type": "code",
   "execution_count": 206,
   "metadata": {
    "ExecuteTime": {
     "end_time": "2018-10-04T14:19:06.713318Z",
     "start_time": "2018-10-04T14:19:04.951267Z"
    }
   },
   "outputs": [
    {
     "data": {
      "text/plain": [
       "0.9995872144890746"
      ]
     },
     "execution_count": 206,
     "metadata": {},
     "output_type": "execute_result"
    }
   ],
   "source": [
    "m = RFF(n_estimators=40, min_samples_leaf=3, max_features=0.5, n_jobs=-1, oob_score=True)\n",
    "m.fit(x, y);\n",
    "m.oob_score_"
   ]
  },
  {
   "cell_type": "code",
   "execution_count": 207,
   "metadata": {
    "ExecuteTime": {
     "end_time": "2018-10-04T14:19:06.831021Z",
     "start_time": "2018-10-04T14:19:06.715346Z"
    }
   },
   "outputs": [
    {
     "data": {
      "text/html": [
       "<div>\n",
       "<style scoped>\n",
       "    .dataframe tbody tr th:only-of-type {\n",
       "        vertical-align: middle;\n",
       "    }\n",
       "\n",
       "    .dataframe tbody tr th {\n",
       "        vertical-align: top;\n",
       "    }\n",
       "\n",
       "    .dataframe thead th {\n",
       "        text-align: right;\n",
       "    }\n",
       "</style>\n",
       "<table border=\"1\" class=\"dataframe\">\n",
       "  <thead>\n",
       "    <tr style=\"text-align: right;\">\n",
       "      <th></th>\n",
       "      <th>cols</th>\n",
       "      <th>imp</th>\n",
       "    </tr>\n",
       "  </thead>\n",
       "  <tbody>\n",
       "    <tr>\n",
       "      <th>5</th>\n",
       "      <td>visitId</td>\n",
       "      <td>0.357696</td>\n",
       "    </tr>\n",
       "    <tr>\n",
       "      <th>18</th>\n",
       "      <td>Elapsed</td>\n",
       "      <td>0.326516</td>\n",
       "    </tr>\n",
       "    <tr>\n",
       "      <th>12</th>\n",
       "      <td>Dayofweek</td>\n",
       "      <td>0.168555</td>\n",
       "    </tr>\n",
       "    <tr>\n",
       "      <th>19</th>\n",
       "      <td>Month</td>\n",
       "      <td>0.128967</td>\n",
       "    </tr>\n",
       "    <tr>\n",
       "      <th>1</th>\n",
       "      <td>totals_hits</td>\n",
       "      <td>0.005864</td>\n",
       "    </tr>\n",
       "    <tr>\n",
       "      <th>21</th>\n",
       "      <td>channelGrouping</td>\n",
       "      <td>0.005203</td>\n",
       "    </tr>\n",
       "    <tr>\n",
       "      <th>22</th>\n",
       "      <td>trafficSource_referralPath</td>\n",
       "      <td>0.003016</td>\n",
       "    </tr>\n",
       "    <tr>\n",
       "      <th>0</th>\n",
       "      <td>totals_pageviews</td>\n",
       "      <td>0.002228</td>\n",
       "    </tr>\n",
       "    <tr>\n",
       "      <th>14</th>\n",
       "      <td>trafficSource_source</td>\n",
       "      <td>0.001263</td>\n",
       "    </tr>\n",
       "    <tr>\n",
       "      <th>8</th>\n",
       "      <td>geoNetwork_city</td>\n",
       "      <td>0.000135</td>\n",
       "    </tr>\n",
       "  </tbody>\n",
       "</table>\n",
       "</div>"
      ],
      "text/plain": [
       "                          cols       imp\n",
       "5                      visitId  0.357696\n",
       "18                     Elapsed  0.326516\n",
       "12                   Dayofweek  0.168555\n",
       "19                       Month  0.128967\n",
       "1                  totals_hits  0.005864\n",
       "21             channelGrouping  0.005203\n",
       "22  trafficSource_referralPath  0.003016\n",
       "0             totals_pageviews  0.002228\n",
       "14        trafficSource_source  0.001263\n",
       "8              geoNetwork_city  0.000135"
      ]
     },
     "execution_count": 207,
     "metadata": {},
     "output_type": "execute_result"
    }
   ],
   "source": [
    "fi = rf_feat_importance(m, x); fi[:10]"
   ]
  },
  {
   "cell_type": "code",
   "execution_count": 220,
   "metadata": {
    "ExecuteTime": {
     "end_time": "2018-10-04T14:21:21.097207Z",
     "start_time": "2018-10-04T14:21:21.093315Z"
    }
   },
   "outputs": [],
   "source": [
    "feats=['visitId', 'Elapsed', 'Dayofweek','Day','Dayofyear','Week','visitStartTime',['Day','Dayofyear','Week','visitStartTime']]"
   ]
  },
  {
   "cell_type": "code",
   "execution_count": 221,
   "metadata": {
    "ExecuteTime": {
     "end_time": "2018-10-04T14:21:23.423583Z",
     "start_time": "2018-10-04T14:21:21.100077Z"
    },
    "scrolled": true
   },
   "outputs": [
    {
     "name": "stdout",
     "output_type": "stream",
     "text": [
      "{'r2_oob': 0.15816000454939705,\n",
      " 'r2_train': 0.8801366787858633,\n",
      " 'r2_valid': 0.25771713051036804,\n",
      " 'rmse_train': 0.6917362042834944,\n",
      " 'rmse_valid': 1.9957998334814453}\n"
     ]
    }
   ],
   "source": [
    "X_train, X_valid = split_vals(df_keep, n_trn)\n",
    "base_model()"
   ]
  },
  {
   "cell_type": "code",
   "execution_count": 222,
   "metadata": {
    "ExecuteTime": {
     "end_time": "2018-10-04T14:21:41.487178Z",
     "start_time": "2018-10-04T14:21:23.426532Z"
    },
    "scrolled": false
   },
   "outputs": [
    {
     "name": "stdout",
     "output_type": "stream",
     "text": [
      "visitId\n",
      "{'r2_oob': 0.19201498248749405,\n",
      " 'r2_train': 0.881681842656715,\n",
      " 'r2_valid': 0.24083481245019547,\n",
      " 'rmse_train': 0.6872631394674626,\n",
      " 'rmse_valid': 2.018368248045001}\n",
      "--------------------\n",
      "Elapsed\n",
      "{'r2_oob': 0.17421577932379773,\n",
      " 'r2_train': 0.8828518500580578,\n",
      " 'r2_valid': 0.23878150217718275,\n",
      " 'rmse_train': 0.683856643195282,\n",
      " 'rmse_valid': 2.0210959401324824}\n",
      "--------------------\n",
      "Dayofweek\n",
      "{'r2_oob': 0.16623977669397638,\n",
      " 'r2_train': 0.8808370537560746,\n",
      " 'r2_valid': 0.24462557828323062,\n",
      " 'rmse_train': 0.6897122969533342,\n",
      " 'rmse_valid': 2.013322747644048}\n",
      "--------------------\n",
      "Day\n",
      "{'r2_oob': 0.15933157908383622,\n",
      " 'r2_train': 0.8823044940186869,\n",
      " 'r2_valid': 0.2472796428242401,\n",
      " 'rmse_train': 0.6854523869302646,\n",
      " 'rmse_valid': 2.009782655266682}\n",
      "--------------------\n",
      "Dayofyear\n",
      "{'r2_oob': 0.16675394362788876,\n",
      " 'r2_train': 0.8839213540990561,\n",
      " 'r2_valid': 0.24904167156150026,\n",
      " 'rmse_train': 0.6807278511151353,\n",
      " 'rmse_valid': 2.0074289460657564}\n",
      "--------------------\n",
      "Week\n",
      "{'r2_oob': 0.17173520962902555,\n",
      " 'r2_train': 0.8793719421975091,\n",
      " 'r2_valid': 0.2489711248159777,\n",
      " 'rmse_train': 0.693939359103521,\n",
      " 'rmse_valid': 2.007523235088087}\n",
      "--------------------\n",
      "visitStartTime\n",
      "{'r2_oob': 0.17169576585327428,\n",
      " 'r2_train': 0.8811423079008021,\n",
      " 'r2_valid': 0.23956013878385696,\n",
      " 'rmse_train': 0.6888283286227114,\n",
      " 'rmse_valid': 2.0200620044608195}\n",
      "--------------------\n",
      "['Day', 'Dayofyear', 'Week', 'visitStartTime']\n",
      "{'r2_oob': 0.17598513139877026,\n",
      " 'r2_train': 0.8800386931413766,\n",
      " 'r2_valid': 0.23508174230960766,\n",
      " 'rmse_train': 0.6920188861354262,\n",
      " 'rmse_valid': 2.02600156568599}\n",
      "--------------------\n"
     ]
    }
   ],
   "source": [
    "for f in feats:\n",
    "    df_subs = df_keep.drop(f, axis=1)\n",
    "    X_train, X_valid = split_vals(df_subs, n_trn)\n",
    "    print(f)\n",
    "    base_model()\n",
    "    print('-'*20)"
   ]
  },
  {
   "cell_type": "code",
   "execution_count": 223,
   "metadata": {
    "ExecuteTime": {
     "end_time": "2018-10-04T14:22:37.299841Z",
     "start_time": "2018-10-04T14:22:37.291882Z"
    }
   },
   "outputs": [],
   "source": [
    "df_trn = df_trn.drop(['Day', 'Dayofyear', 'Week', 'visitStartTime'],axis=1)\n",
    "np.save('../data/to_keep.npy', np.array(df_trn.columns))"
   ]
  },
  {
   "cell_type": "markdown",
   "metadata": {},
   "source": [
    "# Final model"
   ]
  },
  {
   "cell_type": "code",
   "execution_count": 227,
   "metadata": {
    "ExecuteTime": {
     "end_time": "2018-10-04T14:23:26.632580Z",
     "start_time": "2018-10-04T14:23:26.627145Z"
    }
   },
   "outputs": [
    {
     "data": {
      "text/plain": [
       "Index(['totals_pageviews', 'totals_hits', 'sessionId', 'geoNetwork_country',\n",
       "       'fullVisitorId', 'visitId', 'geoNetwork_networkDomain', 'visitNumber',\n",
       "       'geoNetwork_city', 'geoNetwork_region', 'totals_newVisits',\n",
       "       'device_operatingSystem', 'Dayofweek', 'geoNetwork_metro',\n",
       "       'trafficSource_source', 'trafficSource_isTrueDirect',\n",
       "       'trafficSource_keyword', 'device_browser', 'Elapsed', 'Month',\n",
       "       'trafficSource_medium', 'channelGrouping',\n",
       "       'trafficSource_referralPath'],\n",
       "      dtype='object')"
      ]
     },
     "execution_count": 227,
     "metadata": {},
     "output_type": "execute_result"
    }
   ],
   "source": [
    "X_train.columns"
   ]
  },
  {
   "cell_type": "code",
   "execution_count": 230,
   "metadata": {
    "ExecuteTime": {
     "end_time": "2018-10-04T14:23:51.970551Z",
     "start_time": "2018-10-04T14:23:45.488557Z"
    }
   },
   "outputs": [
    {
     "name": "stdout",
     "output_type": "stream",
     "text": [
      "CPU times: user 17.6 s, sys: 79 ms, total: 17.7 s\n",
      "Wall time: 5.8 s\n",
      "{'r2_oob': 0.28041256222461,\n",
      " 'r2_train': 0.9012726844860759,\n",
      " 'r2_valid': 0.2906379472442142,\n",
      " 'rmse_train': 0.6277923468562588,\n",
      " 'rmse_valid': 1.951040295804374}\n"
     ]
    }
   ],
   "source": [
    "m = RFF(n_estimators=160, max_features=0.5, n_jobs=-1, oob_score=True)\n",
    "%time m.fit(X_train, y_train)\n",
    "print_score(m)"
   ]
  },
  {
   "cell_type": "code",
   "execution_count": 236,
   "metadata": {
    "ExecuteTime": {
     "end_time": "2018-10-04T14:55:43.211359Z",
     "start_time": "2018-10-04T14:55:43.208151Z"
    }
   },
   "outputs": [],
   "source": [
    "params = {\n",
    "    'n_estimators' : [20,40,60,80,160],\n",
    "    'max_features': [None,.5,'log2','sqrt'],\n",
    "    'min_samples_leaf' : [1,3,5,7,15]\n",
    "}"
   ]
  },
  {
   "cell_type": "code",
   "execution_count": 242,
   "metadata": {
    "ExecuteTime": {
     "end_time": "2018-10-04T15:33:17.295979Z",
     "start_time": "2018-10-04T14:56:12.022537Z"
    }
   },
   "outputs": [
    {
     "name": "stdout",
     "output_type": "stream",
     "text": [
      "CPU times: user 36min 20s, sys: 13.2 s, total: 36min 33s\n",
      "Wall time: 37min 5s\n"
     ]
    }
   ],
   "source": [
    "%%time\n",
    "grid_search = sklearn.model_selection.GridSearchCV(RFF(n_jobs=-1), param_grid=params, cv=5)\n",
    "grid_search.fit(X_train, y_train)"
   ]
  },
  {
   "cell_type": "code",
   "execution_count": null,
   "metadata": {},
   "outputs": [],
   "source": []
  }
 ],
 "metadata": {
  "kernelspec": {
   "display_name": "Python 3",
   "language": "python",
   "name": "python3"
  },
  "language_info": {
   "codemirror_mode": {
    "name": "ipython",
    "version": 3
   },
   "file_extension": ".py",
   "mimetype": "text/x-python",
   "name": "python",
   "nbconvert_exporter": "python",
   "pygments_lexer": "ipython3",
   "version": "3.6.6"
  },
  "toc": {
   "base_numbering": 1,
   "nav_menu": {},
   "number_sections": true,
   "sideBar": true,
   "skip_h1_title": false,
   "title_cell": "Table of Contents",
   "title_sidebar": "Contents",
   "toc_cell": true,
   "toc_position": {
    "height": "634px",
    "left": "1181px",
    "top": "110px",
    "width": "206px"
   },
   "toc_section_display": true,
   "toc_window_display": true
  }
 },
 "nbformat": 4,
 "nbformat_minor": 2
}
