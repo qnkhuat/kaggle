{
 "cells": [
  {
   "cell_type": "code",
   "execution_count": 1,
   "metadata": {
    "ExecuteTime": {
     "end_time": "2018-11-07T07:01:16.099420Z",
     "start_time": "2018-11-07T07:01:14.512975Z"
    },
    "_uuid": "0f3311fe5dd1a03a75a7ebc652399262d34b507e"
   },
   "outputs": [],
   "source": [
    "import numpy as np\n",
    "import pandas as pd\n",
    "import matplotlib.pyplot as plt\n",
    "import seaborn as sns\n",
    "\n",
    "from sklearn.preprocessing import LabelEncoder\n",
    "from sklearn.ensemble import RandomForestRegressor as RFF\n",
    "import xgboost as xgb\n",
    "\n",
    "from pprint import pprint\n",
    "import math\n",
    "\n",
    "from scipy.stats import kurtosis, skew"
   ]
  },
  {
   "cell_type": "code",
   "execution_count": 2,
   "metadata": {
    "ExecuteTime": {
     "end_time": "2018-11-07T07:01:16.105562Z",
     "start_time": "2018-11-07T07:01:16.102305Z"
    },
    "_uuid": "e8dbeb7e53cd74b7a20480397fdeca77263d1350",
    "scrolled": true
   },
   "outputs": [],
   "source": [
    "from datetime import datetime"
   ]
  },
  {
   "cell_type": "code",
   "execution_count": 3,
   "metadata": {
    "ExecuteTime": {
     "end_time": "2018-11-07T07:01:21.281888Z",
     "start_time": "2018-11-07T07:01:16.107830Z"
    },
    "_uuid": "ea12274cb06a71bfb7bf6c61ae9b03dfdca2e319"
   },
   "outputs": [],
   "source": [
    "df_raw = pd.read_csv('../data/data_converted.csv',nrows=None,\n",
    "                    dtype={'fullVisitorId': str},\n",
    "                    parse_dates=['date'])"
   ]
  },
  {
   "cell_type": "code",
   "execution_count": 4,
   "metadata": {
    "ExecuteTime": {
     "end_time": "2018-11-07T07:01:21.899579Z",
     "start_time": "2018-11-07T07:01:21.284481Z"
    },
    "_uuid": "d2e7d63ce7160d43358dbba1e5cc7b2d15390623"
   },
   "outputs": [
    {
     "name": "stdout",
     "output_type": "stream",
     "text": [
      "<class 'pandas.core.frame.DataFrame'>\n",
      "RangeIndex: 903653 entries, 0 to 903652\n",
      "Data columns (total 40 columns):\n",
      "channelGrouping               903653 non-null int64\n",
      "date                          903653 non-null datetime64[ns]\n",
      "fullVisitorId                 903653 non-null object\n",
      "sessionId                     903653 non-null int64\n",
      "visitId                       903653 non-null int64\n",
      "visitNumber                   903653 non-null int64\n",
      "visitStartTime                903653 non-null int64\n",
      "device_browser                903653 non-null int64\n",
      "device_deviceCategory         903653 non-null int64\n",
      "device_isMobile               903653 non-null bool\n",
      "device_operatingSystem        903653 non-null int64\n",
      "geoNetwork_city               903653 non-null int64\n",
      "geoNetwork_continent          903653 non-null int64\n",
      "geoNetwork_country            903653 non-null int64\n",
      "geoNetwork_metro              903653 non-null int64\n",
      "geoNetwork_networkDomain      903653 non-null int64\n",
      "geoNetwork_region             903653 non-null int64\n",
      "geoNetwork_subContinent       903653 non-null int64\n",
      "totals_bounces                903653 non-null int64\n",
      "totals_hits                   903653 non-null int64\n",
      "totals_newVisits              903653 non-null int64\n",
      "totals_pageviews              903653 non-null int64\n",
      "totals_transactionRevenue     903653 non-null float64\n",
      "trafficSource_isTrueDirect    903653 non-null bool\n",
      "trafficSource_keyword         903653 non-null int64\n",
      "trafficSource_medium          903653 non-null int64\n",
      "trafficSource_referralPath    903653 non-null int64\n",
      "trafficSource_source          903653 non-null int64\n",
      "Date_Year                     903653 non-null int64\n",
      "Date_Month                    903653 non-null int64\n",
      "Date_Week                     903653 non-null int64\n",
      "Date_Day                      903653 non-null int64\n",
      "Date_Dayofweek                903653 non-null int64\n",
      "Date_Dayofyear                903653 non-null int64\n",
      "Date_Is_month_end             903653 non-null bool\n",
      "Date_Is_month_start           903653 non-null bool\n",
      "Date_Is_quarter_end           903653 non-null bool\n",
      "Date_Is_quarter_start         903653 non-null bool\n",
      "Date_Is_year_end              903653 non-null bool\n",
      "Date_Is_year_start            903653 non-null bool\n",
      "dtypes: bool(8), datetime64[ns](1), float64(1), int64(29), object(1)\n",
      "memory usage: 227.5+ MB\n"
     ]
    }
   ],
   "source": [
    "df_raw.info()"
   ]
  },
  {
   "cell_type": "code",
   "execution_count": 5,
   "metadata": {
    "ExecuteTime": {
     "end_time": "2018-11-07T07:01:21.907796Z",
     "start_time": "2018-11-07T07:01:21.902232Z"
    },
    "_uuid": "0b42e141470b7c0eb2e93731cc7288d4bd729ea9",
    "scrolled": true
   },
   "outputs": [
    {
     "data": {
      "text/plain": [
       "(903653, 40)"
      ]
     },
     "execution_count": 5,
     "metadata": {},
     "output_type": "execute_result"
    }
   ],
   "source": [
    "df_raw.shape"
   ]
  },
  {
   "cell_type": "code",
   "execution_count": 6,
   "metadata": {
    "ExecuteTime": {
     "end_time": "2018-11-07T07:01:23.627995Z",
     "start_time": "2018-11-07T07:01:21.909515Z"
    },
    "_uuid": "a6c47fbc5f4159eb068d25ed452fb00829c9e218",
    "scrolled": true
   },
   "outputs": [],
   "source": [
    "lb = LabelEncoder()\n",
    "df_raw['fullVisitorId']  = lb.fit_transform(df_raw['fullVisitorId'])"
   ]
  },
  {
   "cell_type": "code",
   "execution_count": 7,
   "metadata": {
    "ExecuteTime": {
     "end_time": "2018-11-07T07:01:23.697895Z",
     "start_time": "2018-11-07T07:01:23.629560Z"
    }
   },
   "outputs": [],
   "source": [
    "df_raw = df_raw[700000:]"
   ]
  },
  {
   "cell_type": "code",
   "execution_count": 8,
   "metadata": {
    "ExecuteTime": {
     "end_time": "2018-11-07T07:01:23.730510Z",
     "start_time": "2018-11-07T07:01:23.699388Z"
    },
    "_uuid": "6d45f4cd244607733c1496b0b05115643553c5dc"
   },
   "outputs": [],
   "source": [
    "df_train = df_raw[df_raw['date'] < datetime.strptime('2017-7-1','%Y-%m-%d')]\n",
    "df_valid = df_raw[df_raw['date'] >= datetime.strptime('2017-7-1','%Y-%m-%d')]\n",
    "del df_train['date']\n",
    "del df_valid['date']"
   ]
  },
  {
   "cell_type": "code",
   "execution_count": 9,
   "metadata": {
    "ExecuteTime": {
     "end_time": "2018-11-07T07:01:23.736360Z",
     "start_time": "2018-11-07T07:01:23.732137Z"
    },
    "_uuid": "0d37db256ff170111f961c5d25771a558dfa5378"
   },
   "outputs": [
    {
     "data": {
      "text/plain": [
       "((174412, 39), (29241, 39))"
      ]
     },
     "execution_count": 9,
     "metadata": {},
     "output_type": "execute_result"
    }
   ],
   "source": [
    "df_train.shape,df_valid.shape"
   ]
  },
  {
   "cell_type": "code",
   "execution_count": 10,
   "metadata": {
    "ExecuteTime": {
     "end_time": "2018-11-07T07:01:23.756033Z",
     "start_time": "2018-11-07T07:01:23.737896Z"
    },
    "_uuid": "608ebb9672b7eec9af94499f0cf99edc2d559f8c"
   },
   "outputs": [],
   "source": [
    "X_train ,y_train = df_train.drop('totals_transactionRevenue',axis=1),df_train['totals_transactionRevenue']\n",
    "X_valid ,y_valid = df_valid.drop('totals_transactionRevenue',axis=1),df_valid['totals_transactionRevenue']"
   ]
  },
  {
   "cell_type": "code",
   "execution_count": 15,
   "metadata": {
    "ExecuteTime": {
     "end_time": "2018-11-07T07:02:56.163565Z",
     "start_time": "2018-11-07T07:02:55.513001Z"
    },
    "_uuid": "328ba4c34124b36127d997c1c39002878efdbd08"
   },
   "outputs": [],
   "source": [
    "# params = {\n",
    "#     'max_depth':10,\n",
    "#     'learning_rate':.01,\n",
    "#     'n_estimators':100,\n",
    "#     'objective':'reg:linear',\n",
    "#     'n_jobs':-1,\n",
    "#     'random_state':1,\n",
    "# }\n",
    "\n"
   ]
  },
  {
   "cell_type": "code",
   "execution_count": 12,
   "metadata": {
    "ExecuteTime": {
     "end_time": "2018-11-07T07:01:24.423723Z",
     "start_time": "2018-11-07T07:01:24.418115Z"
    }
   },
   "outputs": [],
   "source": [
    "def run():\n",
    "    params = {'objective': 'reg:linear',\n",
    "          'learning_rate':.01,\n",
    "          'eval_metric': 'rmse',\n",
    "          'eta': 0.001,\n",
    "          'max_depth': 10,\n",
    "          'subsample': 0.6,\n",
    "          'colsample_bytree': 0.6,\n",
    "          'alpha':0.001,\n",
    "          'random_state': 42,\n",
    "          'silent': True,\n",
    "         }\n",
    "\n",
    "\n",
    "    xgb_train_data = xgb.DMatrix(X_train, y_train)\n",
    "    xgb_val_data = xgb.DMatrix(X_valid, y_valid)\n",
    "    \n",
    "    model = xgb.train(params, xgb_train_data, \n",
    "          evals= [(xgb_train_data, 'train'), (xgb_val_data, 'valid')],\n",
    "          early_stopping_rounds=100, \n",
    "          verbose_eval=20\n",
    "         )\n"
   ]
  },
  {
   "cell_type": "code",
   "execution_count": 17,
   "metadata": {
    "ExecuteTime": {
     "end_time": "2018-11-07T07:05:49.852775Z",
     "start_time": "2018-11-07T07:05:42.955391Z"
    },
    "_uuid": "2936585db79ffbfdf6ae64d1dc4d236e5690f4ae",
    "scrolled": true
   },
   "outputs": [
    {
     "name": "stdout",
     "output_type": "stream",
     "text": [
      "[0]\ttrain-rmse:1.95989\tvalid-rmse:2.18903\n",
      "Multiple eval metrics have been passed: 'valid-rmse' will be used for early stopping.\n",
      "\n",
      "Will train until valid-rmse hasn't improved in 100 rounds.\n",
      "[9]\ttrain-rmse:1.897\tvalid-rmse:2.14144\n"
     ]
    }
   ],
   "source": [
    "\n",
    "params = {'objective': 'reg:linear',\n",
    "          'learning_rate':.01,\n",
    "          'eval_metric': 'rmse',\n",
    "          'eta': 0.001,\n",
    "          'max_depth': 10,\n",
    "          'subsample': 0.6,\n",
    "          'colsample_bytree': 0.6,\n",
    "          'alpha':0.001,\n",
    "          'random_state': 42,\n",
    "          'silent': True,\n",
    "          'n_jobs':-1\n",
    "         }\n",
    "\n",
    "\n",
    "xgb_train_data = xgb.DMatrix(X_train, y_train)\n",
    "xgb_val_data = xgb.DMatrix(X_valid, y_valid)\n",
    "\n",
    "\n",
    "\n",
    "model = xgb.train(params, xgb_train_data, \n",
    "          evals= [(xgb_train_data, 'train'), (xgb_val_data, 'valid')],\n",
    "          early_stopping_rounds=100, \n",
    "          verbose_eval=20\n",
    "         )"
   ]
  },
  {
   "cell_type": "code",
   "execution_count": null,
   "metadata": {
    "_uuid": "acc3dbfd123adfab27ee5fb6045d0e1c51f43cc5"
   },
   "outputs": [],
   "source": []
  },
  {
   "cell_type": "code",
   "execution_count": null,
   "metadata": {
    "_uuid": "17ad6d069987d209c892b6848149a525c0b0a12e"
   },
   "outputs": [],
   "source": []
  },
  {
   "cell_type": "code",
   "execution_count": null,
   "metadata": {
    "_uuid": "8c4238248dd8c945711969c537acd9ca3755f11d"
   },
   "outputs": [],
   "source": []
  },
  {
   "cell_type": "code",
   "execution_count": null,
   "metadata": {
    "_uuid": "c54ee18e55013903ef989f73c61ac14426da6344"
   },
   "outputs": [],
   "source": []
  },
  {
   "cell_type": "code",
   "execution_count": null,
   "metadata": {
    "_uuid": "1731d11f67bad4b710c0899af0f45f6c9aa3d33f"
   },
   "outputs": [],
   "source": []
  },
  {
   "cell_type": "code",
   "execution_count": null,
   "metadata": {
    "_uuid": "714f5623e5b3cac67ec8a9f414333a83310e8a7d"
   },
   "outputs": [],
   "source": []
  },
  {
   "cell_type": "code",
   "execution_count": null,
   "metadata": {
    "_uuid": "5e4d4c70a03b7a68be23992b023bfb3fe34983e4"
   },
   "outputs": [],
   "source": []
  },
  {
   "cell_type": "code",
   "execution_count": null,
   "metadata": {
    "_uuid": "fb1283b935436fd2d210ba187b8466524e79290d"
   },
   "outputs": [],
   "source": []
  }
 ],
 "metadata": {
  "kernelspec": {
   "display_name": "Python 3",
   "language": "python",
   "name": "python3"
  },
  "language_info": {
   "codemirror_mode": {
    "name": "ipython",
    "version": 3
   },
   "file_extension": ".py",
   "mimetype": "text/x-python",
   "name": "python",
   "nbconvert_exporter": "python",
   "pygments_lexer": "ipython3",
   "version": "3.6.7"
  },
  "toc": {
   "base_numbering": 1,
   "nav_menu": {},
   "number_sections": true,
   "sideBar": true,
   "skip_h1_title": false,
   "title_cell": "Table of Contents",
   "title_sidebar": "Contents",
   "toc_cell": false,
   "toc_position": {},
   "toc_section_display": true,
   "toc_window_display": false
  }
 },
 "nbformat": 4,
 "nbformat_minor": 1
}
