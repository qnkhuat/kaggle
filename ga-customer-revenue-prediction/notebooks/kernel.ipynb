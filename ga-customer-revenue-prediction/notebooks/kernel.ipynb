{
  "cells": [
    {
      "metadata": {
        "_uuid": "8f2839f25d086af736a60e9eeb907d3b93b6e0e5",
        "_cell_guid": "b1076dfc-b9ad-4769-8c92-a6c4dae69d19",
        "trusted": true,
        "scrolled": true
      },
      "cell_type": "code",
      "source": "# This Python 3 environment comes with many helpful analytics libraries installed\n# It is defined by the kaggle/python docker image: https://github.com/kaggle/docker-python\n# For example, here's several helpful packages to load in \n\nimport numpy as np # linear algebra\nimport pandas as pd # data processing, CSV file I/O (e.g. pd.read_csv)\n\n# Input data files are available in the \"../input/\" directory.\n# For example, running this (by clicking run or pressing Shift+Enter) will list the files in the input directory\n\nimport os\nprint(os.listdir(\"../input\"))\nprint(os.listdir(\".\"))\n\n# Any results you write to the current directory are saved as output.",
      "execution_count": null,
      "outputs": []
    },
    {
      "metadata": {
        "trusted": true,
        "_uuid": "a457be9256a0ed8a02a080eb62ad4177c8273f04"
      },
      "cell_type": "code",
      "source": "import numpy as np\nimport pandas as pd\nimport matplotlib.pyplot as plt\nimport seaborn as sns\nfrom pandas.io.json import json_normalize\nfrom sklearn.ensemble import RandomForestRegressor as RFF\n\nfrom pprint import pprint\n\nplt.rcParams[\"figure.figsize\"] = (15,6)",
      "execution_count": null,
      "outputs": []
    },
    {
      "metadata": {
        "trusted": true,
        "_uuid": "1dbc09edcceef3a96e87a5308c3a4aafdf19d176"
      },
      "cell_type": "code",
      "source": "import sys\nsys.path.append('..')\n\nfrom fastai.structured import *",
      "execution_count": null,
      "outputs": []
    },
    {
      "metadata": {
        "trusted": true,
        "_uuid": "495f7aa755fc36fc7d0b44ad9532184405d1f915",
        "scrolled": true
      },
      "cell_type": "code",
      "source": "%%time\n\njson_cols = ['device', 'geoNetwork', 'totals', 'trafficSource']\n\njson_conv = {col: json.loads for col in (json_cols)}\n\ndf_train = pd.read_csv(\"../input/train.csv\", \n    dtype={'fullVisitorId': str},\n    converters=json_conv,\n    low_memory=True,\n    parse_dates=['date'])\n",
      "execution_count": null,
      "outputs": []
    },
    {
      "metadata": {
        "trusted": true,
        "_uuid": "832f0adbe00a9e4abd9e90d72b123fad6030165b"
      },
      "cell_type": "code",
      "source": "add_datepart(df_train,'date')\n",
      "execution_count": null,
      "outputs": []
    },
    {
      "metadata": {
        "trusted": true,
        "_uuid": "598395201376ea12901894d5b776675e6f908a79"
      },
      "cell_type": "code",
      "source": "# convert json columns into signle columns\ndef decode_json(df_raw,json_cols):\n    df = df_raw.copy()\n    for column in json_cols:\n        tdf = json_normalize(df[column])\n        df = df.drop(columns = [column])\n        tdf.columns = [column + '_' + col for col in tdf.columns]\n        df = df.merge(tdf, left_index=True, right_index=True)\n    return df\n\n",
      "execution_count": null,
      "outputs": []
    },
    {
      "metadata": {
        "trusted": true,
        "_uuid": "c8ae96da4a937af92d2ec49f63258d3db9c2c0bb"
      },
      "cell_type": "code",
      "source": "import math\nfrom  pprint import pprint\ndef rmse(x,y): \n    return math.sqrt(((x-y)**2).mean())\ndef split_vals(a,n) : return a[:n],a[n:]\ndef print_score(m):\n    res = {'rmse_train':rmse(m.predict(X_train), y_train), 'rmse_valid':rmse(m.predict(X_valid), y_valid),\n                'r2_train':m.score(X_train, y_train), 'r2_valid':m.score(X_valid, y_valid)}\n    if hasattr(m, 'oob_score_'): res['r2_oob']= m.oob_score_\n    pprint(res)",
      "execution_count": null,
      "outputs": []
    },
    {
      "metadata": {
        "trusted": true,
        "_uuid": "716d3634f23f72677dfd2c8fa4ae2bfcb7c55988",
        "scrolled": false
      },
      "cell_type": "code",
      "source": "%%time\ndf_train = decode_json(df_train,json_cols)\n",
      "execution_count": null,
      "outputs": []
    },
    {
      "metadata": {
        "trusted": true,
        "_uuid": "0dabf37586c57722313f17072c8bce3107e172c8"
      },
      "cell_type": "code",
      "source": "to_keep_train = ['totals_pageviews', 'sessionId', 'totals_hits', 'visitStartTime', 'visitId', 'geoNetwork_country',\n        'visitNumber', 'geoNetwork_networkDomain', 'geoNetwork_city', 'geoNetwork_region',\n       'Day', 'totals_newVisits', 'device_operatingSystem', 'Dayofweek', 'geoNetwork_metro', 'Dayofyear',\n       'trafficSource_source', 'Week', 'trafficSource_keyword', 'channelGrouping', 'device_browser', \n       'trafficSource_medium', 'device_isMobile',\n       'totals_transactionRevenue']\n\n\nto_keep_test = ['totals_pageviews', 'sessionId', 'totals_hits', 'visitStartTime', 'visitId', 'geoNetwork_country',\n       'visitNumber', 'geoNetwork_networkDomain', 'geoNetwork_city', 'geoNetwork_region',\n       'Day', 'totals_newVisits', 'device_operatingSystem', 'Dayofweek', 'geoNetwork_metro', 'Dayofyear',\n       'trafficSource_source', 'Week', 'trafficSource_keyword', 'channelGrouping', 'device_browser',\n       'trafficSource_medium', 'device_isMobile']\n# something wrong with trafficSource_isTrueDirect in test set\n\n\n",
      "execution_count": null,
      "outputs": []
    },
    {
      "metadata": {
        "trusted": true,
        "_uuid": "6f7ba0e9c803682800149fdc8b5c04ce9526a279"
      },
      "cell_type": "code",
      "source": "df_train = df_train[to_keep_train]\n",
      "execution_count": null,
      "outputs": []
    },
    {
      "metadata": {
        "trusted": true,
        "_uuid": "3931d7a210152a1aab8cfc08103bcd7a60dfc221"
      },
      "cell_type": "code",
      "source": "cols_to_replace = {\n    'socialEngagementType' : 'Not Socially Engaged',\n    'device_browserSize' : 'not available in demo dataset', \n    'device_flashVersion' : 'not available in demo dataset', \n    'device_browserVersion' : 'not available in demo dataset', \n    'device_language' : 'not available in demo dataset',\n    'device_mobileDeviceBranding' : 'not available in demo dataset',\n    'device_mobileDeviceInfo' : 'not available in demo dataset',\n    'device_mobileDeviceMarketingName' : 'not available in demo dataset',\n    'device_mobileDeviceModel' : 'not available in demo dataset',\n    'device_mobileInputSelector' : 'not available in demo dataset',\n    'device_operatingSystemVersion' : 'not available in demo dataset',\n    'device_screenColors' : 'not available in demo dataset',\n    'device_screenResolution' : 'not available in demo dataset',\n    'geoNetwork_city' : 'not available in demo dataset',\n    'geoNetwork_cityId' : 'not available in demo dataset',\n    'geoNetwork_latitude' : 'not available in demo dataset',\n    'geoNetwork_longitude' : 'not available in demo dataset',\n    'geoNetwork_metro' : ['not available in demo dataset', '(not set)'], \n    'geoNetwork_networkDomain' : 'unknown.unknown', \n    'geoNetwork_networkLocation' : 'not available in demo dataset',\n    'geoNetwork_region' : 'not available in demo dataset',\n    'trafficSource_adwordsClickInfo.criteriaParameters' : 'not available in demo dataset',\n    'trafficSource_campaign' : '(not set)', \n    'trafficSource_keyword' : '(not provided)'\n}",
      "execution_count": null,
      "outputs": []
    },
    {
      "metadata": {
        "trusted": true,
        "_uuid": "7c641ddd5f4c1e1a42a3dcf46b53a582849cef20"
      },
      "cell_type": "code",
      "source": "%%time\ndf_train = df_train.replace(cols_to_replace, 'NA')",
      "execution_count": null,
      "outputs": []
    },
    {
      "metadata": {
        "trusted": true,
        "_uuid": "25cafbeff6dbbca4e24eb60ce28bf85499e131d4",
        "scrolled": true
      },
      "cell_type": "code",
      "source": "df_train.totals_transactionRevenue = df_train['totals_transactionRevenue'].fillna(0).astype(float)",
      "execution_count": null,
      "outputs": []
    },
    {
      "metadata": {
        "trusted": true,
        "_uuid": "d43b5468b6d7bd252cd32780ca40199a213bba48"
      },
      "cell_type": "code",
      "source": "train_cats(df_train)",
      "execution_count": null,
      "outputs": []
    },
    {
      "metadata": {
        "trusted": true,
        "_uuid": "6c4805ae1941269f531929e3dab01b0cdb71683f"
      },
      "cell_type": "code",
      "source": "to_sort = ['totals_pageviews','totals_hits']\nfor cat in to_sort:\n    orders = np.array(sorted(df_train[cat].cat.categories.astype(np.int32))).astype(np.str)\n    df_train[cat].cat.reorder_categories(orders,inplace=True)",
      "execution_count": null,
      "outputs": []
    },
    {
      "metadata": {
        "trusted": true,
        "_uuid": "dc150cb0bf59c88528d27357c486e192a0300d28"
      },
      "cell_type": "code",
      "source": "df_trn ,y_trn, nas = proc_df(df_train,'totals_transactionRevenue')",
      "execution_count": null,
      "outputs": []
    },
    {
      "metadata": {
        "trusted": true,
        "_uuid": "6f043d979044fea14edf18a15e2fe323eb6a174f"
      },
      "cell_type": "code",
      "source": "y_trn = np.log1p(y_trn)",
      "execution_count": null,
      "outputs": []
    },
    {
      "metadata": {
        "trusted": true,
        "_uuid": "649ba5f0e07401a8a825d89ba883198fec6369d6"
      },
      "cell_type": "code",
      "source": "n_trn = 850000\nX_train, X_valid = split_vals(df_trn, n_trn)\ny_train, y_valid = split_vals(y_trn, n_trn)",
      "execution_count": null,
      "outputs": []
    },
    {
      "metadata": {
        "trusted": true,
        "_uuid": "8d80b55291b9f86aba5db124f577a1d7209054c4"
      },
      "cell_type": "code",
      "source": "%%time\nm = RFF(n_estimators=160, max_features=0.5, n_jobs=-1, oob_score=True,min_samples_leaf=13)\nm.fit(X_train,y_train)\n",
      "execution_count": null,
      "outputs": []
    },
    {
      "metadata": {
        "trusted": true,
        "_uuid": "a26866de4c1cb1a62d64b483bda25839322ba2dd"
      },
      "cell_type": "code",
      "source": "print_score(m)",
      "execution_count": null,
      "outputs": []
    },
    {
      "metadata": {
        "trusted": true,
        "_uuid": "d4dc6ba62ed096f681507534a0865fdadf8293cc",
        "scrolled": true
      },
      "cell_type": "code",
      "source": "%%time\n\njson_cols = ['device', 'geoNetwork', 'totals', 'trafficSource']\n\njson_conv = {col: json.loads for col in (json_cols)}\n\n\ndf_test = pd.read_csv('../input/test.csv',\n    dtype={'fullVisitorId': str},\n    converters=json_conv,\n    parse_dates=['date'])\n\n",
      "execution_count": null,
      "outputs": []
    },
    {
      "metadata": {
        "trusted": true,
        "_uuid": "0db346002b31d343bab729ede040df899404a4c5",
        "scrolled": true
      },
      "cell_type": "code",
      "source": "fullVisitorId = df_test.fullVisitorId",
      "execution_count": null,
      "outputs": []
    },
    {
      "metadata": {
        "trusted": true,
        "_uuid": "6709a9e79589a8bf89a95c2e0cd8342834738ea8"
      },
      "cell_type": "code",
      "source": "\nadd_datepart(df_test,'date')\n\ndf_test = decode_json(df_test,json_cols)\n\ndf_test = df_test[to_keep_test]\n\ndf_test = df_test.replace(cols_to_replace, 'NA')\n\n",
      "execution_count": null,
      "outputs": []
    },
    {
      "metadata": {
        "trusted": true,
        "scrolled": true,
        "_uuid": "2e94b2bbe1ef280ea81ee53234d35f070bc324af"
      },
      "cell_type": "code",
      "source": "apply_cats(df_test,df_train)",
      "execution_count": null,
      "outputs": []
    },
    {
      "metadata": {
        "trusted": true,
        "_uuid": "6551588c98dce7847c2b99cb5bf91ff39691bce5"
      },
      "cell_type": "code",
      "source": "X_test,_ ,_ = proc_df(df_test)",
      "execution_count": null,
      "outputs": []
    },
    {
      "metadata": {
        "trusted": true,
        "_uuid": "7f3ba64bd9562c8490efd2d026354b2af05c580f"
      },
      "cell_type": "code",
      "source": "to_sort = ['totals_pageviews','totals_hits']\nfor cat in to_sort:\n    orders = np.array(sorted(df_test[cat].cat.categories.astype(np.int32))).astype(np.str)\n    df_test[cat].cat.reorder_categories(orders,inplace=True)",
      "execution_count": null,
      "outputs": []
    },
    {
      "metadata": {
        "trusted": true,
        "scrolled": false,
        "_uuid": "3597ebf96e29faea613cf0ed5bf31ae16c6eb8cc"
      },
      "cell_type": "code",
      "source": "submit = m.predict(X_test)",
      "execution_count": null,
      "outputs": []
    },
    {
      "metadata": {
        "trusted": true,
        "_uuid": "2fbb1355d8afca35e61dd4620ebcbbd00a3ca3a0"
      },
      "cell_type": "code",
      "source": "my_submission = pd.DataFrame({'fullVisitorId':fullVisitorId,'PredictedLogRevenue':submit})\nmy_submission = my_submission.groupby(\"fullVisitorId\")[\"PredictedLogRevenue\"].sum().reset_index()",
      "execution_count": null,
      "outputs": []
    },
    {
      "metadata": {
        "trusted": true,
        "_uuid": "70cf86995648fd6802521ad1f84395a0406e4537"
      },
      "cell_type": "code",
      "source": "my_submission.to_csv('submission.csv', index=False)\n",
      "execution_count": null,
      "outputs": []
    },
    {
      "metadata": {
        "trusted": true,
        "_uuid": "02bd52616e617d072469f9070b7f8e683bb1ab2f"
      },
      "cell_type": "code",
      "source": "my_submission.head()",
      "execution_count": null,
      "outputs": []
    },
    {
      "metadata": {
        "trusted": true,
        "_uuid": "7b6897788470869a59cc03cd523fddcdcbb587d6"
      },
      "cell_type": "code",
      "source": "",
      "execution_count": null,
      "outputs": []
    }
  ],
  "metadata": {
    "kernelspec": {
      "display_name": "Python 3",
      "language": "python",
      "name": "python3"
    },
    "language_info": {
      "name": "python",
      "version": "3.6.6",
      "mimetype": "text/x-python",
      "codemirror_mode": {
        "name": "ipython",
        "version": 3
      },
      "pygments_lexer": "ipython3",
      "nbconvert_exporter": "python",
      "file_extension": ".py"
    }
  },
  "nbformat": 4,
  "nbformat_minor": 1
}