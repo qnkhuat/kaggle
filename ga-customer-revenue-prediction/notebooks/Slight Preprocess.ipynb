{
 "cells": [
  {
   "cell_type": "markdown",
   "metadata": {},
   "source": [
    "**Todo list**\n",
    "1. Data overview\n",
    "2. Data cleaning\n",
    "-----------------\n",
    "3. Create new data - date\n",
    "4. Data visualization\n",
    "5. Convert data\n",
    "6. Create Good CV\n",
    "7. Modeling"
   ]
  },
  {
   "cell_type": "code",
   "execution_count": 1,
   "metadata": {
    "ExecuteTime": {
     "end_time": "2018-11-02T11:42:26.769051Z",
     "start_time": "2018-11-02T11:42:25.953105Z"
    }
   },
   "outputs": [],
   "source": [
    "import pandas as pd\n",
    "import json\n",
    "import numpy as np\n",
    "\n",
    "# convert json in df to columns\n",
    "from pandas.io.json import json_normalize"
   ]
  },
  {
   "cell_type": "code",
   "execution_count": 2,
   "metadata": {
    "ExecuteTime": {
     "end_time": "2018-11-02T11:42:27.843729Z",
     "start_time": "2018-11-02T11:42:26.771628Z"
    }
   },
   "outputs": [],
   "source": [
    "import seaborn as sns\n",
    "import matplotlib.pyplot as plt\n",
    "plt.rcParams['figure.figsize'] = (15,8)"
   ]
  },
  {
   "cell_type": "code",
   "execution_count": 3,
   "metadata": {
    "ExecuteTime": {
     "end_time": "2018-11-02T11:42:28.048506Z",
     "start_time": "2018-11-02T11:42:27.846871Z"
    }
   },
   "outputs": [],
   "source": [
    "from sklearn import preprocessing"
   ]
  },
  {
   "cell_type": "markdown",
   "metadata": {},
   "source": [
    "# Load data\n",
    "Just load 100000 rows for the EDA's sake\n",
    "\n"
   ]
  },
  {
   "cell_type": "code",
   "execution_count": 4,
   "metadata": {
    "ExecuteTime": {
     "end_time": "2018-11-02T11:43:20.120972Z",
     "start_time": "2018-11-02T11:42:28.050971Z"
    },
    "scrolled": true
   },
   "outputs": [
    {
     "name": "stdout",
     "output_type": "stream",
     "text": [
      "CPU times: user 36.6 s, sys: 8.16 s, total: 44.8 s\n",
      "Wall time: 52.1 s\n"
     ]
    }
   ],
   "source": [
    "%%time\n",
    "nrows = None\n",
    "json_cols = ['device', 'geoNetwork', 'totals', 'trafficSource']\n",
    "\n",
    "json_conv = {col: json.loads for col in (json_cols)}\n",
    "\n",
    "df_train = pd.read_csv(\"../data/train.csv\", \n",
    "    dtype={'fullVisitorId': str},\n",
    "    converters=json_conv,\n",
    "    low_memory=False,\n",
    "    parse_dates=['date'],\n",
    "    nrows=nrows)"
   ]
  },
  {
   "cell_type": "code",
   "execution_count": 5,
   "metadata": {
    "ExecuteTime": {
     "end_time": "2018-11-02T11:44:11.022444Z",
     "start_time": "2018-11-02T11:43:20.125953Z"
    }
   },
   "outputs": [
    {
     "name": "stdout",
     "output_type": "stream",
     "text": [
      "CPU times: user 32.4 s, sys: 9.75 s, total: 42.2 s\n",
      "Wall time: 50.9 s\n"
     ]
    }
   ],
   "source": [
    "%%time\n",
    "\n",
    "df_test = pd.read_csv('../data/test.csv',\n",
    "    dtype={'fullVisitorId': str},\n",
    "    converters=json_conv,\n",
    "    low_memory=False,\n",
    "    nrows=nrows)"
   ]
  },
  {
   "cell_type": "markdown",
   "metadata": {},
   "source": [
    "## Convert the json columns"
   ]
  },
  {
   "cell_type": "code",
   "execution_count": 6,
   "metadata": {
    "ExecuteTime": {
     "end_time": "2018-11-02T11:44:11.039432Z",
     "start_time": "2018-11-02T11:44:11.027018Z"
    },
    "code_folding": []
   },
   "outputs": [],
   "source": [
    "# convert json columns into signle columns\n",
    "def decode_json(df_raw,json_cols):\n",
    "    df = df_raw.copy()\n",
    "    for column in json_cols:\n",
    "        tdf = json_normalize(df[column])\n",
    "        df = df.drop(columns = [column])\n",
    "        tdf.columns = [column + '_' + col for col in tdf.columns]\n",
    "        df = df.merge(tdf, left_index=True, right_index=True)\n",
    "    return df\n",
    "        "
   ]
  },
  {
   "cell_type": "code",
   "execution_count": 7,
   "metadata": {
    "ExecuteTime": {
     "end_time": "2018-11-02T11:47:45.362287Z",
     "start_time": "2018-11-02T11:44:11.043921Z"
    },
    "scrolled": true
   },
   "outputs": [
    {
     "name": "stdout",
     "output_type": "stream",
     "text": [
      "CPU times: user 2min 9s, sys: 58.7 s, total: 3min 8s\n",
      "Wall time: 3min 34s\n"
     ]
    }
   ],
   "source": [
    "%%time\n",
    "df_train = decode_json(df_train,json_cols)\n"
   ]
  },
  {
   "cell_type": "code",
   "execution_count": 8,
   "metadata": {
    "ExecuteTime": {
     "end_time": "2018-11-02T11:50:38.951907Z",
     "start_time": "2018-11-02T11:47:45.377927Z"
    }
   },
   "outputs": [
    {
     "name": "stdout",
     "output_type": "stream",
     "text": [
      "CPU times: user 1min 55s, sys: 39.4 s, total: 2min 35s\n",
      "Wall time: 2min 53s\n"
     ]
    }
   ],
   "source": [
    "%%time\n",
    "df_test = decode_json(df_test,json_cols)"
   ]
  },
  {
   "cell_type": "code",
   "execution_count": 9,
   "metadata": {
    "ExecuteTime": {
     "end_time": "2018-11-02T11:50:39.099629Z",
     "start_time": "2018-11-02T11:50:38.962765Z"
    },
    "scrolled": true
   },
   "outputs": [
    {
     "data": {
      "text/html": [
       "<div>\n",
       "<style scoped>\n",
       "    .dataframe tbody tr th:only-of-type {\n",
       "        vertical-align: middle;\n",
       "    }\n",
       "\n",
       "    .dataframe tbody tr th {\n",
       "        vertical-align: top;\n",
       "    }\n",
       "\n",
       "    .dataframe thead th {\n",
       "        text-align: right;\n",
       "    }\n",
       "</style>\n",
       "<table border=\"1\" class=\"dataframe\">\n",
       "  <thead>\n",
       "    <tr style=\"text-align: right;\">\n",
       "      <th></th>\n",
       "      <th>channelGrouping</th>\n",
       "      <th>date</th>\n",
       "      <th>fullVisitorId</th>\n",
       "      <th>sessionId</th>\n",
       "      <th>socialEngagementType</th>\n",
       "      <th>visitId</th>\n",
       "      <th>visitNumber</th>\n",
       "      <th>visitStartTime</th>\n",
       "      <th>device_browser</th>\n",
       "      <th>device_browserSize</th>\n",
       "      <th>...</th>\n",
       "      <th>trafficSource_adwordsClickInfo.isVideoAd</th>\n",
       "      <th>trafficSource_adwordsClickInfo.page</th>\n",
       "      <th>trafficSource_adwordsClickInfo.slot</th>\n",
       "      <th>trafficSource_campaign</th>\n",
       "      <th>trafficSource_campaignCode</th>\n",
       "      <th>trafficSource_isTrueDirect</th>\n",
       "      <th>trafficSource_keyword</th>\n",
       "      <th>trafficSource_medium</th>\n",
       "      <th>trafficSource_referralPath</th>\n",
       "      <th>trafficSource_source</th>\n",
       "    </tr>\n",
       "  </thead>\n",
       "  <tbody>\n",
       "    <tr>\n",
       "      <th>0</th>\n",
       "      <td>Organic Search</td>\n",
       "      <td>2016-09-02</td>\n",
       "      <td>1131660440785968503</td>\n",
       "      <td>1131660440785968503_1472830385</td>\n",
       "      <td>Not Socially Engaged</td>\n",
       "      <td>1472830385</td>\n",
       "      <td>1</td>\n",
       "      <td>1472830385</td>\n",
       "      <td>Chrome</td>\n",
       "      <td>not available in demo dataset</td>\n",
       "      <td>...</td>\n",
       "      <td>NaN</td>\n",
       "      <td>NaN</td>\n",
       "      <td>NaN</td>\n",
       "      <td>(not set)</td>\n",
       "      <td>NaN</td>\n",
       "      <td>NaN</td>\n",
       "      <td>(not provided)</td>\n",
       "      <td>organic</td>\n",
       "      <td>NaN</td>\n",
       "      <td>google</td>\n",
       "    </tr>\n",
       "    <tr>\n",
       "      <th>1</th>\n",
       "      <td>Organic Search</td>\n",
       "      <td>2016-09-02</td>\n",
       "      <td>377306020877927890</td>\n",
       "      <td>377306020877927890_1472880147</td>\n",
       "      <td>Not Socially Engaged</td>\n",
       "      <td>1472880147</td>\n",
       "      <td>1</td>\n",
       "      <td>1472880147</td>\n",
       "      <td>Firefox</td>\n",
       "      <td>not available in demo dataset</td>\n",
       "      <td>...</td>\n",
       "      <td>NaN</td>\n",
       "      <td>NaN</td>\n",
       "      <td>NaN</td>\n",
       "      <td>(not set)</td>\n",
       "      <td>NaN</td>\n",
       "      <td>NaN</td>\n",
       "      <td>(not provided)</td>\n",
       "      <td>organic</td>\n",
       "      <td>NaN</td>\n",
       "      <td>google</td>\n",
       "    </tr>\n",
       "    <tr>\n",
       "      <th>2</th>\n",
       "      <td>Organic Search</td>\n",
       "      <td>2016-09-02</td>\n",
       "      <td>3895546263509774583</td>\n",
       "      <td>3895546263509774583_1472865386</td>\n",
       "      <td>Not Socially Engaged</td>\n",
       "      <td>1472865386</td>\n",
       "      <td>1</td>\n",
       "      <td>1472865386</td>\n",
       "      <td>Chrome</td>\n",
       "      <td>not available in demo dataset</td>\n",
       "      <td>...</td>\n",
       "      <td>NaN</td>\n",
       "      <td>NaN</td>\n",
       "      <td>NaN</td>\n",
       "      <td>(not set)</td>\n",
       "      <td>NaN</td>\n",
       "      <td>NaN</td>\n",
       "      <td>(not provided)</td>\n",
       "      <td>organic</td>\n",
       "      <td>NaN</td>\n",
       "      <td>google</td>\n",
       "    </tr>\n",
       "    <tr>\n",
       "      <th>3</th>\n",
       "      <td>Organic Search</td>\n",
       "      <td>2016-09-02</td>\n",
       "      <td>4763447161404445595</td>\n",
       "      <td>4763447161404445595_1472881213</td>\n",
       "      <td>Not Socially Engaged</td>\n",
       "      <td>1472881213</td>\n",
       "      <td>1</td>\n",
       "      <td>1472881213</td>\n",
       "      <td>UC Browser</td>\n",
       "      <td>not available in demo dataset</td>\n",
       "      <td>...</td>\n",
       "      <td>NaN</td>\n",
       "      <td>NaN</td>\n",
       "      <td>NaN</td>\n",
       "      <td>(not set)</td>\n",
       "      <td>NaN</td>\n",
       "      <td>NaN</td>\n",
       "      <td>google + online</td>\n",
       "      <td>organic</td>\n",
       "      <td>NaN</td>\n",
       "      <td>google</td>\n",
       "    </tr>\n",
       "    <tr>\n",
       "      <th>4</th>\n",
       "      <td>Organic Search</td>\n",
       "      <td>2016-09-02</td>\n",
       "      <td>27294437909732085</td>\n",
       "      <td>27294437909732085_1472822600</td>\n",
       "      <td>Not Socially Engaged</td>\n",
       "      <td>1472822600</td>\n",
       "      <td>2</td>\n",
       "      <td>1472822600</td>\n",
       "      <td>Chrome</td>\n",
       "      <td>not available in demo dataset</td>\n",
       "      <td>...</td>\n",
       "      <td>NaN</td>\n",
       "      <td>NaN</td>\n",
       "      <td>NaN</td>\n",
       "      <td>(not set)</td>\n",
       "      <td>NaN</td>\n",
       "      <td>True</td>\n",
       "      <td>(not provided)</td>\n",
       "      <td>organic</td>\n",
       "      <td>NaN</td>\n",
       "      <td>google</td>\n",
       "    </tr>\n",
       "  </tbody>\n",
       "</table>\n",
       "<p>5 rows × 55 columns</p>\n",
       "</div>"
      ],
      "text/plain": [
       "  channelGrouping       date        fullVisitorId  \\\n",
       "0  Organic Search 2016-09-02  1131660440785968503   \n",
       "1  Organic Search 2016-09-02   377306020877927890   \n",
       "2  Organic Search 2016-09-02  3895546263509774583   \n",
       "3  Organic Search 2016-09-02  4763447161404445595   \n",
       "4  Organic Search 2016-09-02    27294437909732085   \n",
       "\n",
       "                        sessionId  socialEngagementType     visitId  \\\n",
       "0  1131660440785968503_1472830385  Not Socially Engaged  1472830385   \n",
       "1   377306020877927890_1472880147  Not Socially Engaged  1472880147   \n",
       "2  3895546263509774583_1472865386  Not Socially Engaged  1472865386   \n",
       "3  4763447161404445595_1472881213  Not Socially Engaged  1472881213   \n",
       "4    27294437909732085_1472822600  Not Socially Engaged  1472822600   \n",
       "\n",
       "   visitNumber  visitStartTime device_browser             device_browserSize  \\\n",
       "0            1      1472830385         Chrome  not available in demo dataset   \n",
       "1            1      1472880147        Firefox  not available in demo dataset   \n",
       "2            1      1472865386         Chrome  not available in demo dataset   \n",
       "3            1      1472881213     UC Browser  not available in demo dataset   \n",
       "4            2      1472822600         Chrome  not available in demo dataset   \n",
       "\n",
       "          ...          trafficSource_adwordsClickInfo.isVideoAd  \\\n",
       "0         ...                                               NaN   \n",
       "1         ...                                               NaN   \n",
       "2         ...                                               NaN   \n",
       "3         ...                                               NaN   \n",
       "4         ...                                               NaN   \n",
       "\n",
       "  trafficSource_adwordsClickInfo.page trafficSource_adwordsClickInfo.slot  \\\n",
       "0                                 NaN                                 NaN   \n",
       "1                                 NaN                                 NaN   \n",
       "2                                 NaN                                 NaN   \n",
       "3                                 NaN                                 NaN   \n",
       "4                                 NaN                                 NaN   \n",
       "\n",
       "   trafficSource_campaign trafficSource_campaignCode  \\\n",
       "0               (not set)                        NaN   \n",
       "1               (not set)                        NaN   \n",
       "2               (not set)                        NaN   \n",
       "3               (not set)                        NaN   \n",
       "4               (not set)                        NaN   \n",
       "\n",
       "  trafficSource_isTrueDirect trafficSource_keyword trafficSource_medium  \\\n",
       "0                        NaN        (not provided)              organic   \n",
       "1                        NaN        (not provided)              organic   \n",
       "2                        NaN        (not provided)              organic   \n",
       "3                        NaN       google + online              organic   \n",
       "4                       True        (not provided)              organic   \n",
       "\n",
       "  trafficSource_referralPath trafficSource_source  \n",
       "0                        NaN               google  \n",
       "1                        NaN               google  \n",
       "2                        NaN               google  \n",
       "3                        NaN               google  \n",
       "4                        NaN               google  \n",
       "\n",
       "[5 rows x 55 columns]"
      ]
     },
     "execution_count": 9,
     "metadata": {},
     "output_type": "execute_result"
    }
   ],
   "source": [
    "df_train.head()"
   ]
  },
  {
   "cell_type": "markdown",
   "metadata": {},
   "source": [
    "# Data overview"
   ]
  },
  {
   "cell_type": "code",
   "execution_count": 10,
   "metadata": {
    "ExecuteTime": {
     "end_time": "2018-11-02T11:50:39.141648Z",
     "start_time": "2018-11-02T11:50:39.102319Z"
    }
   },
   "outputs": [
    {
     "data": {
      "text/html": [
       "<div>\n",
       "<style scoped>\n",
       "    .dataframe tbody tr th:only-of-type {\n",
       "        vertical-align: middle;\n",
       "    }\n",
       "\n",
       "    .dataframe tbody tr th {\n",
       "        vertical-align: top;\n",
       "    }\n",
       "\n",
       "    .dataframe thead th {\n",
       "        text-align: right;\n",
       "    }\n",
       "</style>\n",
       "<table border=\"1\" class=\"dataframe\">\n",
       "  <thead>\n",
       "    <tr style=\"text-align: right;\">\n",
       "      <th></th>\n",
       "      <th>channelGrouping</th>\n",
       "      <th>date</th>\n",
       "      <th>fullVisitorId</th>\n",
       "      <th>sessionId</th>\n",
       "      <th>socialEngagementType</th>\n",
       "      <th>visitId</th>\n",
       "      <th>visitNumber</th>\n",
       "      <th>visitStartTime</th>\n",
       "      <th>device_browser</th>\n",
       "      <th>device_browserSize</th>\n",
       "      <th>...</th>\n",
       "      <th>trafficSource_adwordsClickInfo.isVideoAd</th>\n",
       "      <th>trafficSource_adwordsClickInfo.page</th>\n",
       "      <th>trafficSource_adwordsClickInfo.slot</th>\n",
       "      <th>trafficSource_campaign</th>\n",
       "      <th>trafficSource_campaignCode</th>\n",
       "      <th>trafficSource_isTrueDirect</th>\n",
       "      <th>trafficSource_keyword</th>\n",
       "      <th>trafficSource_medium</th>\n",
       "      <th>trafficSource_referralPath</th>\n",
       "      <th>trafficSource_source</th>\n",
       "    </tr>\n",
       "  </thead>\n",
       "  <tbody>\n",
       "    <tr>\n",
       "      <th>0</th>\n",
       "      <td>Organic Search</td>\n",
       "      <td>2016-09-02</td>\n",
       "      <td>1131660440785968503</td>\n",
       "      <td>1131660440785968503_1472830385</td>\n",
       "      <td>Not Socially Engaged</td>\n",
       "      <td>1472830385</td>\n",
       "      <td>1</td>\n",
       "      <td>1472830385</td>\n",
       "      <td>Chrome</td>\n",
       "      <td>not available in demo dataset</td>\n",
       "      <td>...</td>\n",
       "      <td>NaN</td>\n",
       "      <td>NaN</td>\n",
       "      <td>NaN</td>\n",
       "      <td>(not set)</td>\n",
       "      <td>NaN</td>\n",
       "      <td>NaN</td>\n",
       "      <td>(not provided)</td>\n",
       "      <td>organic</td>\n",
       "      <td>NaN</td>\n",
       "      <td>google</td>\n",
       "    </tr>\n",
       "    <tr>\n",
       "      <th>1</th>\n",
       "      <td>Organic Search</td>\n",
       "      <td>2016-09-02</td>\n",
       "      <td>377306020877927890</td>\n",
       "      <td>377306020877927890_1472880147</td>\n",
       "      <td>Not Socially Engaged</td>\n",
       "      <td>1472880147</td>\n",
       "      <td>1</td>\n",
       "      <td>1472880147</td>\n",
       "      <td>Firefox</td>\n",
       "      <td>not available in demo dataset</td>\n",
       "      <td>...</td>\n",
       "      <td>NaN</td>\n",
       "      <td>NaN</td>\n",
       "      <td>NaN</td>\n",
       "      <td>(not set)</td>\n",
       "      <td>NaN</td>\n",
       "      <td>NaN</td>\n",
       "      <td>(not provided)</td>\n",
       "      <td>organic</td>\n",
       "      <td>NaN</td>\n",
       "      <td>google</td>\n",
       "    </tr>\n",
       "    <tr>\n",
       "      <th>2</th>\n",
       "      <td>Organic Search</td>\n",
       "      <td>2016-09-02</td>\n",
       "      <td>3895546263509774583</td>\n",
       "      <td>3895546263509774583_1472865386</td>\n",
       "      <td>Not Socially Engaged</td>\n",
       "      <td>1472865386</td>\n",
       "      <td>1</td>\n",
       "      <td>1472865386</td>\n",
       "      <td>Chrome</td>\n",
       "      <td>not available in demo dataset</td>\n",
       "      <td>...</td>\n",
       "      <td>NaN</td>\n",
       "      <td>NaN</td>\n",
       "      <td>NaN</td>\n",
       "      <td>(not set)</td>\n",
       "      <td>NaN</td>\n",
       "      <td>NaN</td>\n",
       "      <td>(not provided)</td>\n",
       "      <td>organic</td>\n",
       "      <td>NaN</td>\n",
       "      <td>google</td>\n",
       "    </tr>\n",
       "    <tr>\n",
       "      <th>3</th>\n",
       "      <td>Organic Search</td>\n",
       "      <td>2016-09-02</td>\n",
       "      <td>4763447161404445595</td>\n",
       "      <td>4763447161404445595_1472881213</td>\n",
       "      <td>Not Socially Engaged</td>\n",
       "      <td>1472881213</td>\n",
       "      <td>1</td>\n",
       "      <td>1472881213</td>\n",
       "      <td>UC Browser</td>\n",
       "      <td>not available in demo dataset</td>\n",
       "      <td>...</td>\n",
       "      <td>NaN</td>\n",
       "      <td>NaN</td>\n",
       "      <td>NaN</td>\n",
       "      <td>(not set)</td>\n",
       "      <td>NaN</td>\n",
       "      <td>NaN</td>\n",
       "      <td>google + online</td>\n",
       "      <td>organic</td>\n",
       "      <td>NaN</td>\n",
       "      <td>google</td>\n",
       "    </tr>\n",
       "    <tr>\n",
       "      <th>4</th>\n",
       "      <td>Organic Search</td>\n",
       "      <td>2016-09-02</td>\n",
       "      <td>27294437909732085</td>\n",
       "      <td>27294437909732085_1472822600</td>\n",
       "      <td>Not Socially Engaged</td>\n",
       "      <td>1472822600</td>\n",
       "      <td>2</td>\n",
       "      <td>1472822600</td>\n",
       "      <td>Chrome</td>\n",
       "      <td>not available in demo dataset</td>\n",
       "      <td>...</td>\n",
       "      <td>NaN</td>\n",
       "      <td>NaN</td>\n",
       "      <td>NaN</td>\n",
       "      <td>(not set)</td>\n",
       "      <td>NaN</td>\n",
       "      <td>True</td>\n",
       "      <td>(not provided)</td>\n",
       "      <td>organic</td>\n",
       "      <td>NaN</td>\n",
       "      <td>google</td>\n",
       "    </tr>\n",
       "  </tbody>\n",
       "</table>\n",
       "<p>5 rows × 55 columns</p>\n",
       "</div>"
      ],
      "text/plain": [
       "  channelGrouping       date        fullVisitorId  \\\n",
       "0  Organic Search 2016-09-02  1131660440785968503   \n",
       "1  Organic Search 2016-09-02   377306020877927890   \n",
       "2  Organic Search 2016-09-02  3895546263509774583   \n",
       "3  Organic Search 2016-09-02  4763447161404445595   \n",
       "4  Organic Search 2016-09-02    27294437909732085   \n",
       "\n",
       "                        sessionId  socialEngagementType     visitId  \\\n",
       "0  1131660440785968503_1472830385  Not Socially Engaged  1472830385   \n",
       "1   377306020877927890_1472880147  Not Socially Engaged  1472880147   \n",
       "2  3895546263509774583_1472865386  Not Socially Engaged  1472865386   \n",
       "3  4763447161404445595_1472881213  Not Socially Engaged  1472881213   \n",
       "4    27294437909732085_1472822600  Not Socially Engaged  1472822600   \n",
       "\n",
       "   visitNumber  visitStartTime device_browser             device_browserSize  \\\n",
       "0            1      1472830385         Chrome  not available in demo dataset   \n",
       "1            1      1472880147        Firefox  not available in demo dataset   \n",
       "2            1      1472865386         Chrome  not available in demo dataset   \n",
       "3            1      1472881213     UC Browser  not available in demo dataset   \n",
       "4            2      1472822600         Chrome  not available in demo dataset   \n",
       "\n",
       "          ...          trafficSource_adwordsClickInfo.isVideoAd  \\\n",
       "0         ...                                               NaN   \n",
       "1         ...                                               NaN   \n",
       "2         ...                                               NaN   \n",
       "3         ...                                               NaN   \n",
       "4         ...                                               NaN   \n",
       "\n",
       "  trafficSource_adwordsClickInfo.page trafficSource_adwordsClickInfo.slot  \\\n",
       "0                                 NaN                                 NaN   \n",
       "1                                 NaN                                 NaN   \n",
       "2                                 NaN                                 NaN   \n",
       "3                                 NaN                                 NaN   \n",
       "4                                 NaN                                 NaN   \n",
       "\n",
       "   trafficSource_campaign trafficSource_campaignCode  \\\n",
       "0               (not set)                        NaN   \n",
       "1               (not set)                        NaN   \n",
       "2               (not set)                        NaN   \n",
       "3               (not set)                        NaN   \n",
       "4               (not set)                        NaN   \n",
       "\n",
       "  trafficSource_isTrueDirect trafficSource_keyword trafficSource_medium  \\\n",
       "0                        NaN        (not provided)              organic   \n",
       "1                        NaN        (not provided)              organic   \n",
       "2                        NaN        (not provided)              organic   \n",
       "3                        NaN       google + online              organic   \n",
       "4                       True        (not provided)              organic   \n",
       "\n",
       "  trafficSource_referralPath trafficSource_source  \n",
       "0                        NaN               google  \n",
       "1                        NaN               google  \n",
       "2                        NaN               google  \n",
       "3                        NaN               google  \n",
       "4                        NaN               google  \n",
       "\n",
       "[5 rows x 55 columns]"
      ]
     },
     "execution_count": 10,
     "metadata": {},
     "output_type": "execute_result"
    }
   ],
   "source": [
    "df_train.head()"
   ]
  },
  {
   "cell_type": "code",
   "execution_count": 11,
   "metadata": {
    "ExecuteTime": {
     "end_time": "2018-11-02T11:50:39.154300Z",
     "start_time": "2018-11-02T11:50:39.145183Z"
    }
   },
   "outputs": [
    {
     "data": {
      "text/plain": [
       "Index(['channelGrouping', 'date', 'fullVisitorId', 'sessionId',\n",
       "       'socialEngagementType', 'visitId', 'visitNumber', 'visitStartTime',\n",
       "       'device_browser', 'device_browserSize', 'device_browserVersion',\n",
       "       'device_deviceCategory', 'device_flashVersion', 'device_isMobile',\n",
       "       'device_language', 'device_mobileDeviceBranding',\n",
       "       'device_mobileDeviceInfo', 'device_mobileDeviceMarketingName',\n",
       "       'device_mobileDeviceModel', 'device_mobileInputSelector',\n",
       "       'device_operatingSystem', 'device_operatingSystemVersion',\n",
       "       'device_screenColors', 'device_screenResolution', 'geoNetwork_city',\n",
       "       'geoNetwork_cityId', 'geoNetwork_continent', 'geoNetwork_country',\n",
       "       'geoNetwork_latitude', 'geoNetwork_longitude', 'geoNetwork_metro',\n",
       "       'geoNetwork_networkDomain', 'geoNetwork_networkLocation',\n",
       "       'geoNetwork_region', 'geoNetwork_subContinent', 'totals_bounces',\n",
       "       'totals_hits', 'totals_newVisits', 'totals_pageviews',\n",
       "       'totals_transactionRevenue', 'totals_visits', 'trafficSource_adContent',\n",
       "       'trafficSource_adwordsClickInfo.adNetworkType',\n",
       "       'trafficSource_adwordsClickInfo.criteriaParameters',\n",
       "       'trafficSource_adwordsClickInfo.gclId',\n",
       "       'trafficSource_adwordsClickInfo.isVideoAd',\n",
       "       'trafficSource_adwordsClickInfo.page',\n",
       "       'trafficSource_adwordsClickInfo.slot', 'trafficSource_campaign',\n",
       "       'trafficSource_campaignCode', 'trafficSource_isTrueDirect',\n",
       "       'trafficSource_keyword', 'trafficSource_medium',\n",
       "       'trafficSource_referralPath', 'trafficSource_source'],\n",
       "      dtype='object')"
      ]
     },
     "execution_count": 11,
     "metadata": {},
     "output_type": "execute_result"
    }
   ],
   "source": [
    "df_train.columns"
   ]
  },
  {
   "cell_type": "markdown",
   "metadata": {
    "ExecuteTime": {
     "end_time": "2018-10-31T16:10:06.643367Z",
     "start_time": "2018-10-31T16:10:06.640727Z"
    }
   },
   "source": [
    "## totals_transactionRevenue"
   ]
  },
  {
   "cell_type": "code",
   "execution_count": 12,
   "metadata": {
    "ExecuteTime": {
     "end_time": "2018-11-02T11:50:55.071186Z",
     "start_time": "2018-11-02T11:50:39.156638Z"
    }
   },
   "outputs": [],
   "source": [
    "df_train.totals_transactionRevenue = df_train['totals_transactionRevenue'].fillna(0).astype(float)"
   ]
  },
  {
   "cell_type": "code",
   "execution_count": 13,
   "metadata": {
    "ExecuteTime": {
     "end_time": "2018-11-02T11:50:55.160289Z",
     "start_time": "2018-11-02T11:50:55.083723Z"
    }
   },
   "outputs": [],
   "source": [
    "df_train.totals_transactionRevenue = np.log1p(df_train['totals_transactionRevenue'])"
   ]
  },
  {
   "cell_type": "markdown",
   "metadata": {},
   "source": [
    "create a new is_bought variables for the sake of visualization"
   ]
  },
  {
   "cell_type": "code",
   "execution_count": 14,
   "metadata": {
    "ExecuteTime": {
     "end_time": "2018-11-02T11:50:55.198122Z",
     "start_time": "2018-11-02T11:50:55.170425Z"
    }
   },
   "outputs": [],
   "source": [
    "df_train['is_bought'] = df_train['totals_transactionRevenue'] > 0"
   ]
  },
  {
   "cell_type": "code",
   "execution_count": 15,
   "metadata": {
    "ExecuteTime": {
     "end_time": "2018-11-02T11:50:55.233223Z",
     "start_time": "2018-11-02T11:50:55.202810Z"
    }
   },
   "outputs": [
    {
     "name": "stdout",
     "output_type": "stream",
     "text": [
      "The data is highly unbalanced\n"
     ]
    },
    {
     "data": {
      "text/plain": [
       "False    892138\n",
       "True      11515\n",
       "Name: is_bought, dtype: int64"
      ]
     },
     "execution_count": 15,
     "metadata": {},
     "output_type": "execute_result"
    }
   ],
   "source": [
    "print('The data is highly unbalanced')\n",
    "df_train.is_bought.value_counts()"
   ]
  },
  {
   "cell_type": "markdown",
   "metadata": {},
   "source": [
    "# Data cleaning\n",
    "This data contains json in some columns, we need to convert into indivitual columns"
   ]
  },
  {
   "cell_type": "markdown",
   "metadata": {},
   "source": [
    "## Handle NA data"
   ]
  },
  {
   "cell_type": "markdown",
   "metadata": {},
   "source": [
    "**Percetage of missing value in data**\n",
    "\n",
    "But some of these Na isn't real Na. For example totals_transactionRevenue has default value for 0 is Na"
   ]
  },
  {
   "cell_type": "code",
   "execution_count": 16,
   "metadata": {
    "ExecuteTime": {
     "end_time": "2018-11-02T11:50:55.248142Z",
     "start_time": "2018-11-02T11:50:55.236079Z"
    }
   },
   "outputs": [
    {
     "data": {
      "text/plain": [
       "0                                 Izmir\n",
       "1         not available in demo dataset\n",
       "2                                Madrid\n",
       "3         not available in demo dataset\n",
       "4         not available in demo dataset\n",
       "5         not available in demo dataset\n",
       "6         not available in demo dataset\n",
       "7                              Brisbane\n",
       "8         not available in demo dataset\n",
       "9         not available in demo dataset\n",
       "10        not available in demo dataset\n",
       "11        not available in demo dataset\n",
       "12                                Izmir\n",
       "13                              Karachi\n",
       "14        not available in demo dataset\n",
       "15        not available in demo dataset\n",
       "16        not available in demo dataset\n",
       "17                                Paris\n",
       "18                            Singapore\n",
       "19                         Buenos Aires\n",
       "20        not available in demo dataset\n",
       "21                            (not set)\n",
       "22        not available in demo dataset\n",
       "23                              Bangkok\n",
       "24                              Jakarta\n",
       "25        not available in demo dataset\n",
       "26        not available in demo dataset\n",
       "27        not available in demo dataset\n",
       "28                            Bengaluru\n",
       "29        not available in demo dataset\n",
       "                      ...              \n",
       "903623    not available in demo dataset\n",
       "903624    not available in demo dataset\n",
       "903625    not available in demo dataset\n",
       "903626    not available in demo dataset\n",
       "903627    not available in demo dataset\n",
       "903628    not available in demo dataset\n",
       "903629    not available in demo dataset\n",
       "903630    not available in demo dataset\n",
       "903631    not available in demo dataset\n",
       "903632    not available in demo dataset\n",
       "903633    not available in demo dataset\n",
       "903634                        Stockholm\n",
       "903635                      Los Angeles\n",
       "903636                    San Francisco\n",
       "903637    not available in demo dataset\n",
       "903638    not available in demo dataset\n",
       "903639    not available in demo dataset\n",
       "903640    not available in demo dataset\n",
       "903641                        Hong Kong\n",
       "903642    not available in demo dataset\n",
       "903643                          Fremont\n",
       "903644    not available in demo dataset\n",
       "903645                         New York\n",
       "903646                        Melbourne\n",
       "903647    not available in demo dataset\n",
       "903648    not available in demo dataset\n",
       "903649    not available in demo dataset\n",
       "903650                            Seoul\n",
       "903651    not available in demo dataset\n",
       "903652    not available in demo dataset\n",
       "Name: geoNetwork_city, Length: 903653, dtype: object"
      ]
     },
     "execution_count": 16,
     "metadata": {},
     "output_type": "execute_result"
    }
   ],
   "source": [
    "df_train['geoNetwork_city']"
   ]
  },
  {
   "cell_type": "code",
   "execution_count": 17,
   "metadata": {
    "ExecuteTime": {
     "end_time": "2018-11-02T11:51:17.165393Z",
     "start_time": "2018-11-02T11:50:55.251534Z"
    },
    "scrolled": true
   },
   "outputs": [
    {
     "name": "stdout",
     "output_type": "stream",
     "text": [
      "Percetage of missing value in data\n"
     ]
    },
    {
     "data": {
      "text/plain": [
       "trafficSource_campaignCode                      99.999889\n",
       "trafficSource_adContent                         98.788694\n",
       "trafficSource_adwordsClickInfo.adNetworkType    97.625195\n",
       "trafficSource_adwordsClickInfo.slot             97.625195\n",
       "trafficSource_adwordsClickInfo.page             97.625195\n",
       "trafficSource_adwordsClickInfo.isVideoAd        97.625195\n",
       "trafficSource_adwordsClickInfo.gclId            97.614018\n",
       "trafficSource_isTrueDirect                      69.678073\n",
       "trafficSource_referralPath                      63.377425\n",
       "trafficSource_keyword                           55.655102\n",
       "totals_bounces                                  50.132407\n",
       "totals_newVisits                                22.198012\n",
       "totals_pageviews                                 0.011066\n",
       "device_mobileDeviceInfo                          0.000000\n",
       "device_browserSize                               0.000000\n",
       "dtype: float64"
      ]
     },
     "execution_count": 17,
     "metadata": {},
     "output_type": "execute_result"
    }
   ],
   "source": [
    "print('Percetage of missing value in data')\n",
    "(df_train.isnull().sum().sort_values(ascending=False)*100/len(df_train))[:15]"
   ]
  },
  {
   "cell_type": "markdown",
   "metadata": {},
   "source": [
    "### Replace NA string to NA"
   ]
  },
  {
   "cell_type": "code",
   "execution_count": 18,
   "metadata": {
    "ExecuteTime": {
     "end_time": "2018-11-02T11:51:17.182088Z",
     "start_time": "2018-11-02T11:51:17.171835Z"
    }
   },
   "outputs": [],
   "source": [
    "cols_to_replace = {\n",
    "    'socialEngagementType' : 'Not Socially Engaged',\n",
    "    'device_browserSize' : 'not available in demo dataset', \n",
    "    'device_flashVersion' : 'not available in demo dataset', \n",
    "    'device_browserVersion' : 'not available in demo dataset', \n",
    "    'device_language' : 'not available in demo dataset',\n",
    "    'device_mobileDeviceBranding' : 'not available in demo dataset',\n",
    "    'device_mobileDeviceInfo' : 'not available in demo dataset',\n",
    "    'device_mobileDeviceMarketingName' : 'not available in demo dataset',\n",
    "    'device_mobileDeviceModel' : 'not available in demo dataset',\n",
    "    'device_mobileInputSelector' : 'not available in demo dataset',\n",
    "    'device_operatingSystemVersion' : 'not available in demo dataset',\n",
    "    'device_screenColors' : 'not available in demo dataset',\n",
    "    'device_screenResolution' : 'not available in demo dataset',\n",
    "    'geoNetwork_city' : 'not available in demo dataset',\n",
    "    'geoNetwork_cityId' : 'not available in demo dataset',\n",
    "    'geoNetwork_latitude' : 'not available in demo dataset',\n",
    "    'geoNetwork_longitude' : 'not available in demo dataset',\n",
    "    'geoNetwork_metro' : ['not available in demo dataset', '(not set)'], \n",
    "    'geoNetwork_networkDomain' : 'unknown.unknown', \n",
    "    'geoNetwork_networkLocation' : 'not available in demo dataset',\n",
    "    'geoNetwork_region' : 'not available in demo dataset',\n",
    "    'trafficSource_adwordsClickInfo.criteriaParameters' : 'not available in demo dataset',\n",
    "    'trafficSource_campaign' : '(not set)', \n",
    "    'trafficSource_keyword' : '(not provided)'\n",
    "}"
   ]
  },
  {
   "cell_type": "code",
   "execution_count": 19,
   "metadata": {
    "ExecuteTime": {
     "end_time": "2018-11-02T11:53:07.085808Z",
     "start_time": "2018-11-02T11:51:17.185778Z"
    }
   },
   "outputs": [
    {
     "name": "stdout",
     "output_type": "stream",
     "text": [
      "CPU times: user 1min 37s, sys: 9.93 s, total: 1min 47s\n",
      "Wall time: 1min 49s\n"
     ]
    }
   ],
   "source": [
    "%%time\n",
    "df_train = df_train.replace(cols_to_replace, 'NA')"
   ]
  },
  {
   "cell_type": "code",
   "execution_count": 20,
   "metadata": {
    "ExecuteTime": {
     "end_time": "2018-11-02T11:55:04.450720Z",
     "start_time": "2018-11-02T11:53:07.092719Z"
    },
    "scrolled": true
   },
   "outputs": [
    {
     "name": "stdout",
     "output_type": "stream",
     "text": [
      "CPU times: user 1min 31s, sys: 18.8 s, total: 1min 50s\n",
      "Wall time: 1min 57s\n"
     ]
    }
   ],
   "source": [
    "%%time\n",
    "df_test = df_test.replace(cols_to_replace, 'NA')"
   ]
  },
  {
   "cell_type": "markdown",
   "metadata": {},
   "source": [
    "### trafficSource_campaign"
   ]
  },
  {
   "cell_type": "code",
   "execution_count": 21,
   "metadata": {
    "ExecuteTime": {
     "end_time": "2018-11-02T11:55:04.765128Z",
     "start_time": "2018-11-02T11:55:04.458532Z"
    }
   },
   "outputs": [
    {
     "data": {
      "text/plain": [
       "NA                                                 865347\n",
       "Data Share Promo                                    16403\n",
       "AW - Dynamic Search Ads Whole Site                  14244\n",
       "AW - Accessories                                     7070\n",
       "test-liyuhz                                           392\n",
       "AW - Electronics                                       96\n",
       "Retail (DO NOT EDIT owners nophakun and tianyu)        50\n",
       "AW - Apparel                                           46\n",
       "All Products                                            4\n",
       "Data Share                                              1\n",
       "Name: trafficSource_campaign, dtype: int64"
      ]
     },
     "execution_count": 21,
     "metadata": {},
     "output_type": "execute_result"
    }
   ],
   "source": [
    "df_train['trafficSource_campaign'].value_counts()"
   ]
  },
  {
   "cell_type": "markdown",
   "metadata": {},
   "source": [
    "Just 1 campaign for the whole data set. It doesn't help any things\n",
    "\n",
    "Delete it"
   ]
  },
  {
   "cell_type": "code",
   "execution_count": 22,
   "metadata": {
    "ExecuteTime": {
     "end_time": "2018-11-02T11:55:25.588436Z",
     "start_time": "2018-11-02T11:55:04.768032Z"
    }
   },
   "outputs": [],
   "source": [
    "df_train.drop('trafficSource_campaign',axis=1,inplace=True)\n",
    "df_test.drop('trafficSource_campaign',axis=1,inplace=True)\n",
    "df_train.drop('trafficSource_campaignCode',axis=1,inplace=True)"
   ]
  },
  {
   "cell_type": "markdown",
   "metadata": {
    "ExecuteTime": {
     "end_time": "2018-10-31T06:10:42.129126Z",
     "start_time": "2018-10-31T06:10:42.126288Z"
    }
   },
   "source": [
    "### trafficSource_adContent 98.675 %"
   ]
  },
  {
   "cell_type": "code",
   "execution_count": 23,
   "metadata": {
    "ExecuteTime": {
     "end_time": "2018-11-02T11:55:25.763820Z",
     "start_time": "2018-11-02T11:55:25.596693Z"
    }
   },
   "outputs": [
    {
     "name": "stdout",
     "output_type": "stream",
     "text": [
      "There are 143 people has non-nan value has bought\n"
     ]
    }
   ],
   "source": [
    "nan_bought_count = df_train[~df_train['trafficSource_adContent'].isnull()].is_bought.sum()\n",
    "print(f\"There are {nan_bought_count} people has non-nan value has bought\")"
   ]
  },
  {
   "cell_type": "markdown",
   "metadata": {
    "ExecuteTime": {
     "end_time": "2018-10-31T06:51:01.757548Z",
     "start_time": "2018-10-31T06:51:01.752701Z"
    }
   },
   "source": [
    "None of the revenue come from adsoruce, so we can delete it"
   ]
  },
  {
   "cell_type": "code",
   "execution_count": 24,
   "metadata": {
    "ExecuteTime": {
     "end_time": "2018-11-02T11:55:32.448547Z",
     "start_time": "2018-11-02T11:55:25.766500Z"
    }
   },
   "outputs": [],
   "source": [
    "del df_train['trafficSource_adContent']\n",
    "del df_test['trafficSource_adContent']"
   ]
  },
  {
   "cell_type": "markdown",
   "metadata": {},
   "source": [
    "### trafficSource_adwordsClickInfo.slot - 97.426"
   ]
  },
  {
   "cell_type": "code",
   "execution_count": 25,
   "metadata": {
    "ExecuteTime": {
     "end_time": "2018-11-02T11:55:33.388197Z",
     "start_time": "2018-11-02T11:55:32.456411Z"
    }
   },
   "outputs": [
    {
     "name": "stdout",
     "output_type": "stream",
     "text": [
      "There are 454 people has non-nan value has bought\n"
     ]
    }
   ],
   "source": [
    "nan_bought_count = df_train[~df_train['trafficSource_adwordsClickInfo.slot'].isnull()].is_bought.sum()\n",
    "print(f\"There are {nan_bought_count} people has non-nan value has bought\")"
   ]
  },
  {
   "cell_type": "markdown",
   "metadata": {},
   "source": [
    "Too small of these contribute to the buy behavior \n",
    "\n",
    "Delete it"
   ]
  },
  {
   "cell_type": "code",
   "execution_count": 26,
   "metadata": {
    "ExecuteTime": {
     "end_time": "2018-11-02T11:55:43.602176Z",
     "start_time": "2018-11-02T11:55:33.390798Z"
    }
   },
   "outputs": [],
   "source": [
    "del df_train['trafficSource_adwordsClickInfo.slot']\n",
    "del df_test['trafficSource_adwordsClickInfo.slot']"
   ]
  },
  {
   "cell_type": "markdown",
   "metadata": {},
   "source": [
    "### trafficSource_adwordsClickInfo.adNetworkType"
   ]
  },
  {
   "cell_type": "code",
   "execution_count": 27,
   "metadata": {
    "ExecuteTime": {
     "end_time": "2018-11-02T11:55:44.107252Z",
     "start_time": "2018-11-02T11:55:43.610426Z"
    }
   },
   "outputs": [
    {
     "name": "stdout",
     "output_type": "stream",
     "text": [
      "There are 454 people has non-nan value has bought\n"
     ]
    }
   ],
   "source": [
    "nan_bought_count = df_train[~df_train['trafficSource_adwordsClickInfo.adNetworkType'].isnull()].is_bought.sum()\n",
    "print(f\"There are {nan_bought_count} people has non-nan value has bought\")"
   ]
  },
  {
   "cell_type": "markdown",
   "metadata": {
    "ExecuteTime": {
     "end_time": "2018-10-31T07:06:35.270911Z",
     "start_time": "2018-10-31T07:06:35.266405Z"
    }
   },
   "source": [
    "Too small of these contribute to the buy behavior \n",
    "\n",
    "Delete it"
   ]
  },
  {
   "cell_type": "code",
   "execution_count": 28,
   "metadata": {
    "ExecuteTime": {
     "end_time": "2018-11-02T11:55:55.571144Z",
     "start_time": "2018-11-02T11:55:44.110344Z"
    }
   },
   "outputs": [],
   "source": [
    "del df_train['trafficSource_adwordsClickInfo.adNetworkType']\n",
    "del df_test['trafficSource_adwordsClickInfo.adNetworkType']"
   ]
  },
  {
   "cell_type": "markdown",
   "metadata": {},
   "source": [
    "### trafficSource_adwordsClickInfo.page "
   ]
  },
  {
   "cell_type": "code",
   "execution_count": 29,
   "metadata": {
    "ExecuteTime": {
     "end_time": "2018-11-02T11:55:56.267337Z",
     "start_time": "2018-11-02T11:55:55.579804Z"
    }
   },
   "outputs": [
    {
     "name": "stdout",
     "output_type": "stream",
     "text": [
      "There are 454 people has non-nan value has bought\n"
     ]
    }
   ],
   "source": [
    "nan_bought_count = df_train[~df_train['trafficSource_adwordsClickInfo.page'].isnull()].is_bought.sum()\n",
    "print(f\"There are {nan_bought_count} people has non-nan value has bought\")"
   ]
  },
  {
   "cell_type": "markdown",
   "metadata": {
    "ExecuteTime": {
     "end_time": "2018-10-31T07:06:47.508210Z",
     "start_time": "2018-10-31T07:06:47.503596Z"
    }
   },
   "source": [
    "Too small of these contribute to the buy behavior \n",
    "\n",
    "Delete it"
   ]
  },
  {
   "cell_type": "code",
   "execution_count": 30,
   "metadata": {
    "ExecuteTime": {
     "end_time": "2018-11-02T11:56:06.312377Z",
     "start_time": "2018-11-02T11:55:56.273019Z"
    }
   },
   "outputs": [],
   "source": [
    "del df_train['trafficSource_adwordsClickInfo.page']\n",
    "del df_test['trafficSource_adwordsClickInfo.page']"
   ]
  },
  {
   "cell_type": "markdown",
   "metadata": {},
   "source": [
    "### trafficSource_adwordsClickInfo.isVideoAd"
   ]
  },
  {
   "cell_type": "code",
   "execution_count": 31,
   "metadata": {
    "ExecuteTime": {
     "end_time": "2018-11-02T11:56:07.264249Z",
     "start_time": "2018-11-02T11:56:06.328078Z"
    }
   },
   "outputs": [
    {
     "name": "stdout",
     "output_type": "stream",
     "text": [
      "There are 454 people has non-nan value has bought\n"
     ]
    }
   ],
   "source": [
    "nan_bought_count = df_train[~df_train['trafficSource_adwordsClickInfo.isVideoAd'].isnull()].is_bought.sum()\n",
    "print(f\"There are {nan_bought_count} people has non-nan value has bought\")"
   ]
  },
  {
   "cell_type": "markdown",
   "metadata": {},
   "source": [
    "Too small of these contribute to the buy behavior \n",
    "\n",
    "Delete it"
   ]
  },
  {
   "cell_type": "code",
   "execution_count": 32,
   "metadata": {
    "ExecuteTime": {
     "end_time": "2018-11-02T11:56:17.655712Z",
     "start_time": "2018-11-02T11:56:07.269572Z"
    }
   },
   "outputs": [],
   "source": [
    "del df_train['trafficSource_adwordsClickInfo.isVideoAd']\n",
    "del df_test['trafficSource_adwordsClickInfo.isVideoAd']"
   ]
  },
  {
   "cell_type": "markdown",
   "metadata": {},
   "source": [
    "### trafficSource_adwordsClickInfo.gclId"
   ]
  },
  {
   "cell_type": "code",
   "execution_count": 33,
   "metadata": {
    "ExecuteTime": {
     "end_time": "2018-11-02T11:56:18.734510Z",
     "start_time": "2018-11-02T11:56:17.663441Z"
    },
    "scrolled": true
   },
   "outputs": [
    {
     "name": "stdout",
     "output_type": "stream",
     "text": [
      "There are 456 people has non-nan value has bought\n"
     ]
    }
   ],
   "source": [
    "nan_bought_count = df_train[~df_train['trafficSource_adwordsClickInfo.gclId'].isnull()].is_bought.sum()\n",
    "print(f\"There are {nan_bought_count} people has non-nan value has bought\")"
   ]
  },
  {
   "cell_type": "markdown",
   "metadata": {},
   "source": [
    "Too small of these contribute to the buy behavior \n",
    "\n",
    "Delete it"
   ]
  },
  {
   "cell_type": "code",
   "execution_count": 34,
   "metadata": {
    "ExecuteTime": {
     "end_time": "2018-11-02T11:56:30.045869Z",
     "start_time": "2018-11-02T11:56:18.739914Z"
    }
   },
   "outputs": [],
   "source": [
    "del df_train['trafficSource_adwordsClickInfo.gclId']\n",
    "del df_test['trafficSource_adwordsClickInfo.gclId']"
   ]
  },
  {
   "cell_type": "markdown",
   "metadata": {},
   "source": [
    "### trafficSource_isTrueDirect"
   ]
  },
  {
   "cell_type": "code",
   "execution_count": 35,
   "metadata": {
    "ExecuteTime": {
     "end_time": "2018-11-02T11:56:30.168530Z",
     "start_time": "2018-11-02T11:56:30.055327Z"
    },
    "scrolled": false
   },
   "outputs": [
    {
     "data": {
      "text/plain": [
       "True    274005\n",
       "Name: trafficSource_isTrueDirect, dtype: int64"
      ]
     },
     "execution_count": 35,
     "metadata": {},
     "output_type": "execute_result"
    }
   ],
   "source": [
    "df_train['trafficSource_isTrueDirect'].value_counts()"
   ]
  },
  {
   "cell_type": "code",
   "execution_count": 36,
   "metadata": {
    "ExecuteTime": {
     "end_time": "2018-11-02T11:56:43.463797Z",
     "start_time": "2018-11-02T11:56:30.173366Z"
    }
   },
   "outputs": [],
   "source": [
    "df_train['trafficSource_isTrueDirect'].fillna(False,inplace=True)\n",
    "df_test['trafficSource_isTrueDirect'].fillna(False,inplace=True)"
   ]
  },
  {
   "cell_type": "markdown",
   "metadata": {
    "ExecuteTime": {
     "end_time": "2018-10-31T11:46:09.731275Z",
     "start_time": "2018-10-31T11:46:09.728012Z"
    }
   },
   "source": [
    "### trafficSource_referralPath\n",
    "\n"
   ]
  },
  {
   "cell_type": "code",
   "execution_count": 37,
   "metadata": {
    "ExecuteTime": {
     "end_time": "2018-11-02T11:56:46.266694Z",
     "start_time": "2018-11-02T11:56:43.470875Z"
    }
   },
   "outputs": [
    {
     "name": "stdout",
     "output_type": "stream",
     "text": [
      "There are 5415 people has non-nan value has bought\n"
     ]
    }
   ],
   "source": [
    "nan_bought_count = df_train[~df_train['trafficSource_referralPath'].isnull()].is_bought.sum()\n",
    "print(f\"There are {nan_bought_count} people has non-nan value has bought\")"
   ]
  },
  {
   "cell_type": "code",
   "execution_count": 38,
   "metadata": {
    "ExecuteTime": {
     "end_time": "2018-11-02T11:56:47.221855Z",
     "start_time": "2018-11-02T11:56:46.273330Z"
    },
    "scrolled": true
   },
   "outputs": [
    {
     "data": {
      "text/plain": [
       "<matplotlib.axes._subplots.AxesSubplot at 0x1d0e177390>"
      ]
     },
     "execution_count": 38,
     "metadata": {},
     "output_type": "execute_result"
    },
    {
     "data": {
      "image/png": "[encoded data removed]",
      "text/plain": [
       "<Figure size 432x288 with 1 Axes>"
      ]
     },
     "metadata": {
      "needs_background": "light"
     },
     "output_type": "display_data"
    }
   ],
   "source": [
    "df_train['trafficSource_referralPath'].value_counts().sort_values(ascending=False)[:30].plot(kind='barh')"
   ]
  },
  {
   "cell_type": "code",
   "execution_count": 39,
   "metadata": {
    "ExecuteTime": {
     "end_time": "2018-11-02T11:56:47.252977Z",
     "start_time": "2018-11-02T11:56:47.227044Z"
    }
   },
   "outputs": [
    {
     "data": {
      "text/plain": [
       "0                                                       NaN\n",
       "1                                                       NaN\n",
       "2                                                       NaN\n",
       "3                                                       NaN\n",
       "4                                                       NaN\n",
       "5                                                       NaN\n",
       "6                                                       NaN\n",
       "7                                                       NaN\n",
       "8                                                       NaN\n",
       "9                                                       NaN\n",
       "10                                                      NaN\n",
       "11                                                      NaN\n",
       "12                                                      NaN\n",
       "13                                                      NaN\n",
       "14                                                      NaN\n",
       "15                                                      NaN\n",
       "16                                                      NaN\n",
       "17                                                      NaN\n",
       "18                                                      NaN\n",
       "19                                                      NaN\n",
       "20                                                      NaN\n",
       "21                                                      NaN\n",
       "22                                                      NaN\n",
       "23                                                      NaN\n",
       "24                                                      NaN\n",
       "25                                                      NaN\n",
       "26                                                      NaN\n",
       "27                                                      NaN\n",
       "28                                                        /\n",
       "29                                                      NaN\n",
       "                                ...                        \n",
       "903623                                        /yt/about/tr/\n",
       "903624                                           /yt/about/\n",
       "903625                                           /yt/about/\n",
       "903626    /r/golang/comments/4spnk9/where_to_buy_the_gol...\n",
       "903627                                           /yt/about/\n",
       "903628                                           /yt/about/\n",
       "903629                                           /yt/about/\n",
       "903630                                    /yt/about/es-419/\n",
       "903631                                        /yt/about/fa/\n",
       "903632                                     /yt/about/pt-BR/\n",
       "903633                                     /yt/about/en-GB/\n",
       "903634    /Where-can-I-buy-a-stuffed-Go-language-gopher-...\n",
       "903635                                           /yt/about/\n",
       "903636                                                    /\n",
       "903637                                           /yt/about/\n",
       "903638                                 /yt/about/index.html\n",
       "903639    /Where-can-I-buy-a-stuffed-Go-language-gopher-...\n",
       "903640    /r/chromeos/comments/39boco/looking_for_chrome...\n",
       "903641    /Where-can-I-buy-a-stuffed-Go-language-gopher-...\n",
       "903642                                        /yt/about/de/\n",
       "903643                                 /a/google.com/forum/\n",
       "903644                                               /watch\n",
       "903645                                                    /\n",
       "903646                                           /yt/about/\n",
       "903647                                        /yt/about/ar/\n",
       "903648                                           /yt/about/\n",
       "903649                                           /yt/about/\n",
       "903650                                        /yt/about/ko/\n",
       "903651                                               /l.php\n",
       "903652                                    /yt/about/es-419/\n",
       "Name: trafficSource_referralPath, Length: 903653, dtype: object"
      ]
     },
     "execution_count": 39,
     "metadata": {},
     "output_type": "execute_result"
    }
   ],
   "source": [
    "df_train['trafficSource_referralPath']"
   ]
  },
  {
   "cell_type": "code",
   "execution_count": 40,
   "metadata": {
    "ExecuteTime": {
     "end_time": "2018-11-02T11:56:47.464869Z",
     "start_time": "2018-11-02T11:56:47.259741Z"
    },
    "scrolled": true
   },
   "outputs": [],
   "source": [
    "df_train['trafficSource_referralPath'].fillna('NA',inplace=True)\n",
    "df_test['trafficSource_referralPath'].fillna('NA',inplace=True)"
   ]
  },
  {
   "cell_type": "markdown",
   "metadata": {
    "ExecuteTime": {
     "end_time": "2018-11-01T10:07:42.978449Z",
     "start_time": "2018-11-01T10:07:42.975884Z"
    }
   },
   "source": [
    "### trafficSource_keyword"
   ]
  },
  {
   "cell_type": "code",
   "execution_count": 41,
   "metadata": {
    "ExecuteTime": {
     "end_time": "2018-11-02T11:56:47.677440Z",
     "start_time": "2018-11-02T11:56:47.468051Z"
    }
   },
   "outputs": [],
   "source": [
    "\n",
    "df_train['trafficSource_keyword'].fillna('NA',inplace=True)\n",
    "df_test['trafficSource_keyword'].fillna('NA',inplace=True)"
   ]
  },
  {
   "cell_type": "markdown",
   "metadata": {
    "ExecuteTime": {
     "end_time": "2018-10-31T12:48:49.150461Z",
     "start_time": "2018-10-31T12:48:49.147431Z"
    }
   },
   "source": [
    "### totals_bounces"
   ]
  },
  {
   "cell_type": "code",
   "execution_count": 42,
   "metadata": {
    "ExecuteTime": {
     "end_time": "2018-11-02T11:56:47.798479Z",
     "start_time": "2018-11-02T11:56:47.679856Z"
    }
   },
   "outputs": [],
   "source": [
    "df_train['totals_bounces'].fillna(0,inplace=True)\n",
    "df_test['totals_bounces'].fillna(0,inplace=True)"
   ]
  },
  {
   "cell_type": "markdown",
   "metadata": {},
   "source": [
    "### totals_newVisits"
   ]
  },
  {
   "cell_type": "code",
   "execution_count": 43,
   "metadata": {
    "ExecuteTime": {
     "end_time": "2018-11-02T11:56:47.928405Z",
     "start_time": "2018-11-02T11:56:47.800632Z"
    }
   },
   "outputs": [],
   "source": [
    "df_train['totals_newVisits'].fillna(0,inplace=True)\n",
    "df_test['totals_newVisits'].fillna(0,inplace=True)"
   ]
  },
  {
   "cell_type": "markdown",
   "metadata": {},
   "source": [
    "### totals_pageviews"
   ]
  },
  {
   "cell_type": "code",
   "execution_count": 44,
   "metadata": {
    "ExecuteTime": {
     "end_time": "2018-11-02T11:56:48.051483Z",
     "start_time": "2018-11-02T11:56:47.930259Z"
    }
   },
   "outputs": [],
   "source": [
    "df_train['totals_pageviews'].fillna(0,inplace=True)\n",
    "df_test['totals_pageviews'].fillna(0,inplace=True)"
   ]
  },
  {
   "cell_type": "markdown",
   "metadata": {
    "ExecuteTime": {
     "end_time": "2018-10-31T06:01:39.368348Z",
     "start_time": "2018-10-31T06:01:39.227177Z"
    }
   },
   "source": [
    "## Remove constant columns"
   ]
  },
  {
   "cell_type": "markdown",
   "metadata": {},
   "source": [
    "Create a new df with filled na to find the actual column with constant values"
   ]
  },
  {
   "cell_type": "code",
   "execution_count": 45,
   "metadata": {
    "ExecuteTime": {
     "end_time": "2018-11-02T11:56:57.878022Z",
     "start_time": "2018-11-02T11:56:48.054456Z"
    },
    "scrolled": false
   },
   "outputs": [
    {
     "name": "stdout",
     "output_type": "stream",
     "text": [
      "Dropped 19 constant columns\n"
     ]
    }
   ],
   "source": [
    "const_cols = []\n",
    "for col in df_train.columns:\n",
    "    if len(df_train[col].unique()) == 1:\n",
    "        const_cols.append(col)\n",
    "df_train.drop(const_cols,axis=1,inplace=True)\n",
    "df_test.drop(const_cols,axis=1,inplace=True)\n",
    "print(f'Dropped {len(const_cols)} constant columns')\n",
    "    "
   ]
  },
  {
   "cell_type": "code",
   "execution_count": 46,
   "metadata": {
    "ExecuteTime": {
     "end_time": "2018-11-02T11:57:03.235356Z",
     "start_time": "2018-11-02T11:56:57.883444Z"
    }
   },
   "outputs": [
    {
     "data": {
      "text/plain": [
       "channelGrouping               0\n",
       "date                          0\n",
       "fullVisitorId                 0\n",
       "sessionId                     0\n",
       "visitId                       0\n",
       "visitNumber                   0\n",
       "visitStartTime                0\n",
       "device_browser                0\n",
       "device_deviceCategory         0\n",
       "device_isMobile               0\n",
       "device_operatingSystem        0\n",
       "geoNetwork_city               0\n",
       "geoNetwork_continent          0\n",
       "geoNetwork_country            0\n",
       "geoNetwork_metro              0\n",
       "geoNetwork_networkDomain      0\n",
       "geoNetwork_region             0\n",
       "geoNetwork_subContinent       0\n",
       "totals_bounces                0\n",
       "totals_hits                   0\n",
       "totals_newVisits              0\n",
       "totals_pageviews              0\n",
       "totals_transactionRevenue     0\n",
       "trafficSource_isTrueDirect    0\n",
       "trafficSource_keyword         0\n",
       "trafficSource_medium          0\n",
       "trafficSource_referralPath    0\n",
       "trafficSource_source          0\n",
       "is_bought                     0\n",
       "dtype: int64"
      ]
     },
     "execution_count": 46,
     "metadata": {},
     "output_type": "execute_result"
    }
   ],
   "source": [
    "df_train.isnull().sum()"
   ]
  },
  {
   "cell_type": "markdown",
   "metadata": {},
   "source": [
    "# Save data"
   ]
  },
  {
   "cell_type": "code",
   "execution_count": 47,
   "metadata": {
    "ExecuteTime": {
     "end_time": "2018-11-02T11:57:03.251362Z",
     "start_time": "2018-11-02T11:57:03.238066Z"
    }
   },
   "outputs": [],
   "source": [
    "del df_train['is_bought']"
   ]
  },
  {
   "cell_type": "code",
   "execution_count": 48,
   "metadata": {
    "ExecuteTime": {
     "end_time": "2018-11-02T11:57:39.681432Z",
     "start_time": "2018-11-02T11:57:03.253838Z"
    }
   },
   "outputs": [],
   "source": [
    "df_train.to_csv('../data/train_.csv')\n",
    "df_test.to_csv('../data/test_.csv')"
   ]
  },
  {
   "cell_type": "markdown",
   "metadata": {
    "ExecuteTime": {
     "end_time": "2018-10-31T16:37:23.291636Z",
     "start_time": "2018-10-31T16:37:23.289103Z"
    }
   },
   "source": [
    "## Convert data"
   ]
  },
  {
   "cell_type": "code",
   "execution_count": null,
   "metadata": {
    "ExecuteTime": {
     "end_time": "2018-11-01T10:12:24.205035Z",
     "start_time": "2018-11-01T10:12:24.187647Z"
    }
   },
   "outputs": [],
   "source": []
  },
  {
   "cell_type": "code",
   "execution_count": 49,
   "metadata": {
    "ExecuteTime": {
     "end_time": "2018-11-02T11:57:39.689385Z",
     "start_time": "2018-11-02T11:57:39.684211Z"
    }
   },
   "outputs": [],
   "source": [
    "# for col in df_train.columns:\n",
    "#     print(col)\n",
    "#     print(type(df_train[col][0]))\n",
    "#     print(df_train[col][0])\n",
    "#     print('-'*100)"
   ]
  },
  {
   "cell_type": "code",
   "execution_count": 50,
   "metadata": {
    "ExecuteTime": {
     "end_time": "2018-11-02T11:57:39.700439Z",
     "start_time": "2018-11-02T11:57:39.692003Z"
    }
   },
   "outputs": [],
   "source": [
    "# df_train['totals_bounces'].value_counts()"
   ]
  },
  {
   "cell_type": "code",
   "execution_count": 51,
   "metadata": {
    "ExecuteTime": {
     "end_time": "2018-11-02T11:57:39.707278Z",
     "start_time": "2018-11-02T11:57:39.704168Z"
    }
   },
   "outputs": [],
   "source": [
    "# id_cols = ['fullVisitorId','sessionId','visitId']\n",
    "# cat_cols = ['channelGrouping','device_browser','device_deviceCategory','device_operatingSystem','geoNetwork_city',\n",
    "#            'geoNetwork_continent','geoNetwork_country','geoNetwork_metro','geoNetwork_networkDomain','geoNetwork_region',\n",
    "#            'geoNetwork_subContinent','trafficSource_keyword','trafficSource_medium','trafficSource_referralPath',\n",
    "#            'trafficSource_source']\n",
    "# num_cols = ['visitNumber','visitNumber','totals_bounces','totals_hits','totals_newVisits','totals_pageviews']\n",
    "# date_cols = ['date','visitStartTime']\n",
    "# bool_cols = ['device_isMobile','trafficSource_isTrueDirect']"
   ]
  },
  {
   "cell_type": "code",
   "execution_count": 52,
   "metadata": {
    "ExecuteTime": {
     "end_time": "2018-11-02T11:57:39.714233Z",
     "start_time": "2018-11-02T11:57:39.710697Z"
    }
   },
   "outputs": [],
   "source": [
    "# print('Enough columns',len(df_train.columns)) if len(id_cols)+ len(cat_cols) + len(num_cols) + len(date_cols) + len(bool_cols)+1 == len(df_train.columns) else print('Not enough columns')\n"
   ]
  },
  {
   "cell_type": "markdown",
   "metadata": {},
   "source": [
    "The categorical variables are currently stored as strings, which is inefficient, and doesn't provide the numeric coding required for a random forest. Therefore we call `train_cats` to convert strings to pandas categories."
   ]
  },
  {
   "cell_type": "markdown",
   "metadata": {},
   "source": [
    "# Convert data\n",
    "\n",
    "look at timeseries data and find the best cv\n",
    "\n",
    "add date data"
   ]
  },
  {
   "cell_type": "markdown",
   "metadata": {},
   "source": [
    "**Label encoding data**"
   ]
  },
  {
   "cell_type": "code",
   "execution_count": 53,
   "metadata": {
    "ExecuteTime": {
     "end_time": "2018-11-02T11:57:39.719910Z",
     "start_time": "2018-11-02T11:57:39.716296Z"
    }
   },
   "outputs": [],
   "source": [
    "\n",
    "# for col in cat_cols:\n",
    "#     lb = preprocessing.LabelEncoder() \n",
    "#     lb.fit(df_train[col])\n",
    "#     lb.transform(df_train[col])\n",
    "#     lb.transform(df_test[col])\n",
    "#     print(col)\n",
    "    "
   ]
  },
  {
   "cell_type": "code",
   "execution_count": null,
   "metadata": {},
   "outputs": [],
   "source": []
  },
  {
   "cell_type": "code",
   "execution_count": null,
   "metadata": {},
   "outputs": [],
   "source": []
  },
  {
   "cell_type": "code",
   "execution_count": null,
   "metadata": {},
   "outputs": [],
   "source": []
  },
  {
   "cell_type": "code",
   "execution_count": null,
   "metadata": {},
   "outputs": [],
   "source": []
  },
  {
   "cell_type": "code",
   "execution_count": null,
   "metadata": {},
   "outputs": [],
   "source": []
  }
 ],
 "metadata": {
  "kernelspec": {
   "display_name": "Python 3",
   "language": "python",
   "name": "python3"
  },
  "language_info": {
   "codemirror_mode": {
    "name": "ipython",
    "version": 3
   },
   "file_extension": ".py",
   "mimetype": "text/x-python",
   "name": "python",
   "nbconvert_exporter": "python",
   "pygments_lexer": "ipython3",
   "version": "3.6.6"
  },
  "toc": {
   "base_numbering": 1,
   "nav_menu": {},
   "number_sections": true,
   "sideBar": true,
   "skip_h1_title": false,
   "title_cell": "Table of Contents",
   "title_sidebar": "Contents",
   "toc_cell": false,
   "toc_position": {
    "height": "calc(100% - 180px)",
    "left": "10px",
    "top": "150px",
    "width": "265px"
   },
   "toc_section_display": true,
   "toc_window_display": true
  }
 },
 "nbformat": 4,
 "nbformat_minor": 2
}
